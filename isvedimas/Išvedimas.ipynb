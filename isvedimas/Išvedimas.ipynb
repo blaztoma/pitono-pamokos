{
  "nbformat": 4,
  "nbformat_minor": 0,
  "metadata": {
    "colab": {
      "provenance": []
    },
    "kernelspec": {
      "name": "python3",
      "display_name": "Python 3"
    },
    "language_info": {
      "name": "python"
    }
  },
  "cells": [
    {
      "cell_type": "markdown",
      "source": [
        "# Išvedimas į konsolę"
      ],
      "metadata": {
        "id": "WbbZLXtbSUl9"
      }
    },
    {
      "cell_type": "markdown",
      "source": [
        "Kompiuteris gali atsakyti į daugelį mūsų klausimų apie tai ko norime sužinoti iš programos. Dėl to jis turi bendrauti - vienu ar kitu būdu pateikti informaciją žmogui. Dabar išmokysime kompiuterį bendrauti pačiu paprasčiausiu būdu, tai yra išvesdami informaciją į konsolę."
      ],
      "metadata": {
        "id": "KJBRz6ErI5YO"
      }
    },
    {
      "cell_type": "markdown",
      "source": [
        "Pitone tam naudojama funkcija `print()`. Spausdinamą pranešimą reikia apgaubti viengubomis arba dvigubomis kabutėmis. Pavyzdys:"
      ],
      "metadata": {
        "id": "vnSINe7WL6u8"
      }
    },
    {
      "cell_type": "code",
      "execution_count": null,
      "metadata": {
        "colab": {
          "base_uri": "https://localhost:8080/"
        },
        "id": "Ga_UNBCDIufe",
        "outputId": "ca853ab2-ea57-4822-e2d9-c7a90c70b6e1"
      },
      "outputs": [
        {
          "output_type": "stream",
          "name": "stdout",
          "text": [
            "Teksto eilutė\n"
          ]
        }
      ],
      "source": [
        "print('Teksto eilutė')"
      ]
    },
    {
      "cell_type": "markdown",
      "source": [
        "Jei naudosime dvigubas kabutes - tai duos tą patį rezultatą."
      ],
      "metadata": {
        "id": "A1KPt6zXKvoj"
      }
    },
    {
      "cell_type": "code",
      "source": [
        "print(\"Teksto eilutė\")"
      ],
      "metadata": {
        "colab": {
          "base_uri": "https://localhost:8080/"
        },
        "id": "AKRNXjP_I13j",
        "outputId": "220e0a30-05b5-492a-d8f0-958dbf1eb63c"
      },
      "execution_count": null,
      "outputs": [
        {
          "output_type": "stream",
          "name": "stdout",
          "text": [
            "Teksto eilutė\n"
          ]
        }
      ]
    },
    {
      "cell_type": "markdown",
      "source": [
        "Paklausite - kam tai reikalinga!? Ogi tiems, atvejams, kai kabutės yra teksto dalis: "
      ],
      "metadata": {
        "id": "cEuxIQN4I2JH"
      }
    },
    {
      "cell_type": "code",
      "source": [
        "print(\"Kompiuteris parašė: 'Labas rytas!'\")"
      ],
      "metadata": {
        "colab": {
          "base_uri": "https://localhost:8080/"
        },
        "id": "-dXfifiqLebT",
        "outputId": "3f46a067-fe3f-4c22-e2a4-ff3077626155"
      },
      "execution_count": null,
      "outputs": [
        {
          "output_type": "stream",
          "name": "stdout",
          "text": [
            "Kompiuteris parašė: 'Labas rytas!'\n"
          ]
        }
      ]
    },
    {
      "cell_type": "markdown",
      "source": [
        "Antrą kartą panaudojus funkciją `print()`, tekstas bus išvedamas naujoje eilutėje:"
      ],
      "metadata": {
        "id": "qCh0kDe2NTcI"
      }
    },
    {
      "cell_type": "code",
      "source": [
        "print('Pirma teksto eilutė')\n",
        "print('Antra teksto eilutė')"
      ],
      "metadata": {
        "colab": {
          "base_uri": "https://localhost:8080/"
        },
        "id": "UaAG_xSnNhY-",
        "outputId": "a5b4c23a-694a-49b4-f85c-8775d3ea7fc9"
      },
      "execution_count": null,
      "outputs": [
        {
          "output_type": "stream",
          "name": "stdout",
          "text": [
            "Pirma teksto eilutė\n",
            "Antra teksto eilutė\n"
          ]
        }
      ]
    },
    {
      "cell_type": "markdown",
      "source": [
        "Jei norime tiesiog praleisti vieną eilutę, turime spausdinti tuščią eilutę taip:"
      ],
      "metadata": {
        "id": "sTWg4mwGNo2I"
      }
    },
    {
      "cell_type": "code",
      "source": [
        "print('Pirma teksto eilutė')\n",
        "print(); # spausdinama tuščia eilutė\n",
        "print('Kita teksto eilutė')"
      ],
      "metadata": {
        "colab": {
          "base_uri": "https://localhost:8080/"
        },
        "id": "3BCSD20ENylS",
        "outputId": "8e6571ab-6cb5-46d6-c3bf-20252ffffa70"
      },
      "execution_count": null,
      "outputs": [
        {
          "output_type": "stream",
          "name": "stdout",
          "text": [
            "Pirma teksto eilutė\n",
            "\n",
            "Kita teksto eilutė\n"
          ]
        }
      ]
    },
    {
      "cell_type": "markdown",
      "source": [
        "Skaidyti eilutėmis galime ir naudodami specialų simbolį `\\n`, kuris perkelia teksto išvedimą į naują eilutę."
      ],
      "metadata": {
        "id": "3-qOvcaKOTkm"
      }
    },
    {
      "cell_type": "code",
      "source": [
        "print(\"Pirma eilutė\\nAntra eilutė\\nTrečia eilutė\")"
      ],
      "metadata": {
        "colab": {
          "base_uri": "https://localhost:8080/"
        },
        "id": "fDke4Ct6OfoN",
        "outputId": "428c5ff9-0429-4934-8899-099d1a0f85ef"
      },
      "execution_count": null,
      "outputs": [
        {
          "output_type": "stream",
          "name": "stdout",
          "text": [
            "Pirma eilutė\n",
            "Antra eilutė\n",
            "Trečia eilutė\n"
          ]
        }
      ]
    },
    {
      "cell_type": "markdown",
      "source": [
        "Norėdami išskirti ar gražiau apipavidalinti tekstą, galime naudoti įvairius ASCII simbolius."
      ],
      "metadata": {
        "id": "igI4Zx-jOujU"
      }
    },
    {
      "cell_type": "code",
      "source": [
        "print(\"#=========================#=======#\")\n",
        "print(\"# Pavadinimas             # Kaina #\")\n",
        "print(\"#=========================#=======#\")"
      ],
      "metadata": {
        "colab": {
          "base_uri": "https://localhost:8080/"
        },
        "id": "NyBseKKXO68q",
        "outputId": "425ea627-3744-4782-87df-78b481a0240a"
      },
      "execution_count": null,
      "outputs": [
        {
          "output_type": "stream",
          "name": "stdout",
          "text": [
            "#=========================#=======#\n",
            "# Pavadinimas             # Kaina #\n",
            "#=========================#=======#\n"
          ]
        }
      ]
    },
    {
      "cell_type": "markdown",
      "source": [
        "Įvairius tekstus galime sujungti perskirdami juos kableliais arba naudodami pliuso ženklą (`+`):"
      ],
      "metadata": {
        "id": "BOxqlHbDPaYq"
      }
    },
    {
      "cell_type": "code",
      "source": [
        "print(\"Sujungta viena ir\", \"antra teksto dalis.\")\n",
        "print(\"Sujungta viena ir \" + \"antra teksto dalis.\")"
      ],
      "metadata": {
        "colab": {
          "base_uri": "https://localhost:8080/"
        },
        "id": "5JmbsaMwPljt",
        "outputId": "e7db0867-aa16-4fe4-edb0-0c8d6c4f8dcc"
      },
      "execution_count": null,
      "outputs": [
        {
          "output_type": "stream",
          "name": "stdout",
          "text": [
            "Sujungta viena ir antra teksto dalis.\n",
            "Sujungta viena ir antra teksto dalis.\n"
          ]
        }
      ]
    },
    {
      "cell_type": "markdown",
      "source": [
        "Atkreipkite dėmesį į tai, kad atskiriant kableliu nereikia palikti tuščio tarpo."
      ],
      "metadata": {
        "id": "xXnhMlqEP1GZ"
      }
    },
    {
      "cell_type": "markdown",
      "source": [
        "Jeigu norime eilutes formatuoti taip kaip rašome, tuomet galime naudoti trigubas kabutes. Pasižiūrėkite į pavyzdį, kaip jos naudojamos:"
      ],
      "metadata": {
        "id": "WT0Xvlt1RId5"
      }
    },
    {
      "cell_type": "code",
      "source": [
        "print(\"\"\"\n",
        "Mano batai buvo du,\n",
        "Vienas dingo - nerandu.\n",
        "Aš su vienu batuku,\n",
        "Niekur eiti negaliu. \n",
        "\"\"\"\n",
        ")"
      ],
      "metadata": {
        "colab": {
          "base_uri": "https://localhost:8080/"
        },
        "id": "cMfAJeyUQnp_",
        "outputId": "c5eca619-8eda-4fb2-a131-3f6f6bf87f24"
      },
      "execution_count": null,
      "outputs": [
        {
          "output_type": "stream",
          "name": "stdout",
          "text": [
            "\n",
            "Mano batai buvo du,\n",
            "vienas dingo - nerandu.\n",
            "Aš su vienu batuku,\n",
            "Niekur eiti negaliu. \n",
            "\n"
          ]
        }
      ]
    },
    {
      "cell_type": "markdown",
      "source": [
        "# Užduotys"
      ],
      "metadata": {
        "id": "yh55NvPwSkTR"
      }
    },
    {
      "cell_type": "markdown",
      "source": [
        "Atlikite žemiau esančias užduotis, o rezultatą įsivertinkite patys. Pamėginkite panaudoti įvairius eilučių išvedimo būdus."
      ],
      "metadata": {
        "id": "WnC3Ud47U-Nx"
      }
    },
    {
      "cell_type": "markdown",
      "source": [
        "## Užduotis 1"
      ],
      "metadata": {
        "id": "6nnV8csNTB6A"
      }
    },
    {
      "cell_type": "markdown",
      "source": [
        "Pirmoje eilutėje išveskite savo vardą ir amžių. Antroje eilutėje išveskite kodėl pasiryžote išbandyti programavimą."
      ],
      "metadata": {
        "id": "DzImH9rTTFwK"
      }
    },
    {
      "cell_type": "code",
      "source": [
        "# Kodą rašykite čia, žemiau šios eilutės..."
      ],
      "metadata": {
        "id": "d6z_IVR2TIrq"
      },
      "execution_count": null,
      "outputs": []
    },
    {
      "cell_type": "markdown",
      "source": [
        "## Užduotis 2"
      ],
      "metadata": {
        "id": "LKl7e7w1TUAx"
      }
    },
    {
      "cell_type": "markdown",
      "source": [
        "Išveskite tokį tekstą:\n",
        "```\n",
        "*\n",
        "**\n",
        "***\n",
        "```"
      ],
      "metadata": {
        "id": "zReJgnogTaO3"
      }
    },
    {
      "cell_type": "code",
      "source": [
        "# Kodą rašykite čia, žemiau šios eilutės..."
      ],
      "metadata": {
        "id": "izffjC69Ugz5"
      },
      "execution_count": null,
      "outputs": []
    },
    {
      "cell_type": "markdown",
      "source": [
        "## Užduotis 3"
      ],
      "metadata": {
        "id": "wx6xksSHUW8D"
      }
    },
    {
      "cell_type": "markdown",
      "source": [
        "Išveskite bent 5 eilučių eilėraštį."
      ],
      "metadata": {
        "id": "oSTVlOrIUak7"
      }
    },
    {
      "cell_type": "code",
      "source": [
        "# Kodą rašykite čia, žemiau šios eilutės..."
      ],
      "metadata": {
        "id": "4tiXeFluUkF9"
      },
      "execution_count": null,
      "outputs": []
    },
    {
      "cell_type": "markdown",
      "source": [
        "## Užduotis 4"
      ],
      "metadata": {
        "id": "YxaPlSwVUmMf"
      }
    },
    {
      "cell_type": "markdown",
      "source": [
        "Išveskite tokią lentelę:\n",
        "```\n",
        "+--------+--------+\n",
        "| Vardas | Amžius |\n",
        "+--------+--------+\n",
        "| Tomas  | 24     |\n",
        "| Jonas  | 26     |\n",
        "| Justė  | 25     |\n",
        "+--------+--------+\n",
        "```\n",
        "\n"
      ],
      "metadata": {
        "id": "Uqp5IBVYUwan"
      }
    },
    {
      "cell_type": "code",
      "source": [
        "# Kodą rašykite čia, žemiau šios eilutės..."
      ],
      "metadata": {
        "id": "FGnMZ-CNUn2X"
      },
      "execution_count": null,
      "outputs": []
    }
  ]
}