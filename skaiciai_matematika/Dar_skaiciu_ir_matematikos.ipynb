{
  "cells": [
    {
      "attachments": {},
      "cell_type": "markdown",
      "metadata": {},
      "source": [
        "[![Open In Colab](https://colab.research.google.com/assets/colab-badge.svg)](https://colab.research.google.com/github/blaztoma/pitono-pamokos/blob/main/skaiciai_matematika/Dar_skaiciu_ir_matematikos.ipynb)"
      ]
    },
    {
      "cell_type": "markdown",
      "metadata": {
        "id": "vQyNbZ4ZQzvZ"
      },
      "source": [
        "# Kitos matematinės operacijos"
      ]
    },
    {
      "cell_type": "markdown",
      "metadata": {
        "id": "YMPVuhOnQ91l"
      },
      "source": [
        "Mes jau žinome šiuos matematinius operatorius:\n",
        "\n",
        "Operatorius\t| Pavadinimas |\tPavyzdys | Paaiškinimas\n",
        "------------|-------------|----------|-------------\n",
        "`+` | Sudėtis | `5 + 3` | Sudeda `5` ir `3`\n",
        "`-` | Atimtis | `5 - 3` | Atima `3` iš `5`\n",
        "`*` | Daugyba | `5 * 3` | Sudaugina `5` iš `3`\n",
        "`/` | Dalyba | `5 / 3` | Padalina `5` iš `3`\n",
        "`**` | Laipsnis | `5 ** 3` | Pakelia `5` laipsniu `3`\n",
        "`%` | Modulis | `5 % 3` | Liekana (ats. 2)\n",
        "`//` | Dalyba | `5 // 3` | Sveiko skaičiaus dalyba (ats. 1)  "
      ]
    },
    {
      "cell_type": "markdown",
      "metadata": {
        "id": "iVk319FqRETx"
      },
      "source": [
        "Ir žinome pagrindinę priskyrimo kintamiesiems formą:\n",
        "```\n",
        "kintamasis = reikšmė\n",
        "```\n",
        "\n"
      ]
    },
    {
      "cell_type": "markdown",
      "metadata": {
        "id": "6ESXyeToRhwd"
      },
      "source": [
        "Dažnai pasitaiko tokia situacija, kai kintamąjį reikia pakeisti. Pavyzdžiui jį padidinant, pamažinant ar kitaip pakeičiant jo reikšmę. Pavyzdžiui, norint padidinti pradinę kintamojo `kintamasis` reikšmę 5-iais, reikia daryti taip:"
      ]
    },
    {
      "cell_type": "code",
      "execution_count": 1,
      "metadata": {
        "colab": {
          "base_uri": "https://localhost:8080/"
        },
        "id": "7u_QfX8IQrv_",
        "outputId": "25615354-223c-472e-86a3-71bf2a8d5549"
      },
      "outputs": [
        {
          "name": "stdout",
          "output_type": "stream",
          "text": [
            "10\n"
          ]
        }
      ],
      "source": [
        "kintamasis = 5\n",
        "kintamasis = kintamasis + 5\n",
        "print(kintamasis)"
      ]
    },
    {
      "cell_type": "markdown",
      "metadata": {
        "id": "iU0-mvKHSlty"
      },
      "source": [
        "Pitone, kaip ir įvairiose kitose programavimo kalbose, tai galima padaryti efektyviau:"
      ]
    },
    {
      "cell_type": "code",
      "execution_count": 7,
      "metadata": {
        "colab": {
          "base_uri": "https://localhost:8080/"
        },
        "id": "iUCFSPLvS1vo",
        "outputId": "39232cf9-0820-43ec-bb70-6d631d64ee0b"
      },
      "outputs": [
        {
          "name": "stdout",
          "output_type": "stream",
          "text": [
            "1000\n"
          ]
        }
      ],
      "source": [
        "kintamasis = 5\n",
        "kintamasis += 5\n",
        "print(kintamasis)"
      ]
    },
    {
      "cell_type": "markdown",
      "metadata": {
        "id": "OLObCchRS9tl"
      },
      "source": [
        "Ar pastebėjote skirtumą? Kaip matote, skirtumas yra `+=` operacija."
      ]
    },
    {
      "cell_type": "markdown",
      "metadata": {
        "id": "9xBFar1sTKVZ"
      },
      "source": [
        "## Kiti reikšmės pakeitimo operatoriai"
      ]
    },
    {
      "cell_type": "markdown",
      "metadata": {
        "id": "nz0CnfyjTfoq"
      },
      "source": [
        "`+=` yra ne vienintelis toks reikšmės pakeitimo (šiuo atveju - padidinimo) operatorius. Yra ir eilė kitų:\n",
        "\n",
        "Priskyrimas | Atitikmuo | Paaiškinimas\n",
        "------------|-----------|----------\n",
        "`x += y` | `x = x + y` | Kintamasis `x` padidinamas `y` skaičiumi\n",
        "`x -= y` | `x = x - y` | Kintamasis `x` sumažinamas `y` skaičiumi\n",
        "`x *= y` | `x = x * y` | Kintamasis `x` padauginamas iš `y` \n",
        "`x /= y` | `x = x / y` | Kintamasis `x` padalinamas iš `y` \n",
        "`x %= y` | `x = x % y` | Kintamasis `x` padalinamas iš `y` ir paimama liekana\n",
        "`x **= y` | `x = x % y` | Kintamasis `x` pakeliamas `y` laipsniu\n",
        "\n"
      ]
    },
    {
      "cell_type": "markdown",
      "metadata": {
        "id": "SIhriuTCWf68"
      },
      "source": [
        "Panagrinėkite žemiau esantį pavyzdį ir jei kas buvo neaišku - paaiškės 😀"
      ]
    },
    {
      "cell_type": "code",
      "execution_count": 9,
      "metadata": {
        "colab": {
          "base_uri": "https://localhost:8080/"
        },
        "id": "A6TCHzv_WfKk",
        "outputId": "16ea7a7e-a7b0-4b08-c93b-e083a3d1438d"
      },
      "outputs": [
        {
          "name": "stdout",
          "output_type": "stream",
          "text": [
            "= 0: 0\n",
            "+= 10: 10\n",
            "-= 5: 5\n",
            "*= 2: 10\n",
            "/= 4: 2.5\n"
          ]
        }
      ],
      "source": [
        "skaicius = 0\n",
        "print('= 0:', skaicius)\n",
        "\n",
        "skaicius += 10\n",
        "print('+= 10:', skaicius)\n",
        "\n",
        "skaicius -= 5\n",
        "print('-= 5:', skaicius)\n",
        "\n",
        "skaicius *= 2\n",
        "print('*= 2:', skaicius)\n",
        "\n",
        "skaicius /= 4\n",
        "print('/= 4:', skaicius)"
      ]
    },
    {
      "cell_type": "markdown",
      "metadata": {
        "id": "v7aTNWPxVyGg"
      },
      "source": [
        "Čia matėte operacijas su skaičiais. Kita vertus, ši operacija galioja ir kitiems tipams, pavyzdžiui eilutėms:"
      ]
    },
    {
      "cell_type": "code",
      "execution_count": 8,
      "metadata": {
        "colab": {
          "base_uri": "https://localhost:8080/"
        },
        "id": "WBhqUQpnV7AX",
        "outputId": "a650e2be-93cb-4307-9793-ba3ed885d421"
      },
      "outputs": [
        {
          "name": "stdout",
          "output_type": "stream",
          "text": [
            "Čia yra pirma eilutė sujungta su kita eilute.\n"
          ]
        }
      ],
      "source": [
        "eilute = \"Čia yra pirma eilutė \"\n",
        "eilute += \"sujungta su kita eilute.\"\n",
        "print(eilute)"
      ]
    },
    {
      "cell_type": "markdown",
      "metadata": {
        "id": "SzDBjd_LdNgD"
      },
      "source": [
        "## Užduotys"
      ]
    },
    {
      "cell_type": "markdown",
      "metadata": {
        "id": "hcO7u0vidQzN"
      },
      "source": [
        "# Užduotis 1"
      ]
    },
    {
      "cell_type": "markdown",
      "metadata": {
        "id": "FloWp3HidVWh"
      },
      "source": [
        "Duotas pradinis kodas. Pakeiskite `?` taip, kad rezultatas būtų `125`."
      ]
    },
    {
      "cell_type": "code",
      "execution_count": 10,
      "metadata": {
        "colab": {
          "base_uri": "https://localhost:8080/"
        },
        "id": "vdSiSWtJdtLu",
        "outputId": "25a369d4-bd9a-4ced-ebea-f15920a6e6d6"
      },
      "outputs": [
        {
          "name": "stdout",
          "output_type": "stream",
          "text": [
            "125\n"
          ]
        }
      ],
      "source": [
        "rezultatas = 5\n",
        "rezultatas ?= 2\n",
        "rezultatas ?= 5\n",
        "rezultatas ?= 3\n",
        "print(rezultatas)"
      ]
    }
  ],
  "metadata": {
    "colab": {
      "provenance": []
    },
    "kernelspec": {
      "display_name": "Python 3",
      "name": "python3"
    },
    "language_info": {
      "name": "python"
    }
  },
  "nbformat": 4,
  "nbformat_minor": 0
}
