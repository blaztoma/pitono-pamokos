{
  "nbformat": 4,
  "nbformat_minor": 0,
  "metadata": {
    "colab": {
      "provenance": []
    },
    "kernelspec": {
      "name": "python3",
      "display_name": "Python 3"
    },
    "language_info": {
      "name": "python"
    }
  },
  "cells": [
    {
      "cell_type": "markdown",
      "source": [
        "# Skaičiai ir matematika"
      ],
      "metadata": {
        "id": "fT9zEu-PpaTj"
      }
    },
    {
      "cell_type": "markdown",
      "source": [
        "## Pagrindiniai skaičių tipai"
      ],
      "metadata": {
        "id": "UZ-9J0p3qg4C"
      }
    },
    {
      "cell_type": "markdown",
      "source": [
        "int (integer)      | float (floating point)\n",
        "-------------------|------------------\n",
        "8 | 8.5\n",
        "10 | 10.0\n",
        "-5 | -5.5\n"
      ],
      "metadata": {
        "id": "se6yHtk7qn5i"
      }
    },
    {
      "cell_type": "markdown",
      "source": [
        "Atkreipkite dėmesį į tai, kad norėdami Pitonui parodyti, jog kintamasis yra float tipo, turime skaičių rašyti su kableliu, net jei jis ir neturi trupmeninės dalies."
      ],
      "metadata": {
        "id": "OfUty2SDrJxW"
      }
    },
    {
      "cell_type": "markdown",
      "source": [
        "## Matematiniai operatoriai"
      ],
      "metadata": {
        "id": "D9nsFUx_rmOc"
      }
    },
    {
      "cell_type": "markdown",
      "source": [
        "Operatorius\t| Pavadinimas |\tPavyzdys | Paaiškinimas\n",
        "------------|-------------|----------|-------------\n",
        "`+` | Sudėtis | `5 + 3` | Sudeda `5` ir `3`\n",
        "`-` | Atimtis | `5 - 3` | Atima `3` iš `5`\n",
        "`*` | Daugyba | `5 * 3` | Sudaugina `5` iš `3`\n",
        "`/` | Dalyba | `5 / 3` | Padalina `5` iš `3`\n",
        "`**` | Laipsnis | `5 ** 3` | Pakelia `5` laipsniu `3`\n",
        "`%` | Modulis | `5 % 3` | Liekana (ats. 2)\n",
        "`//` | Dalyba | `5 // 3` | Sveiko skaičiaus dalyba (ats. 1)  "
      ],
      "metadata": {
        "id": "dz5jQUIDro9g"
      }
    },
    {
      "cell_type": "code",
      "execution_count": null,
      "metadata": {
        "id": "WWqq4h23pIhd"
      },
      "outputs": [],
      "source": []
    },
    {
      "cell_type": "markdown",
      "source": [
        "## Pavyzdžiai"
      ],
      "metadata": {
        "id": "Edh2WAuqtPXX"
      }
    },
    {
      "cell_type": "markdown",
      "source": [
        "### Skaičių išvedimas"
      ],
      "metadata": {
        "id": "UF3E4roMtrLI"
      }
    },
    {
      "cell_type": "code",
      "source": [
        "print(12)\n",
        "print(5)\n",
        "print(8.2)"
      ],
      "metadata": {
        "colab": {
          "base_uri": "https://localhost:8080/"
        },
        "id": "gdGIYoEQtdwz",
        "outputId": "ba862492-2a23-4ca9-fae6-d857fe2054aa"
      },
      "execution_count": 1,
      "outputs": [
        {
          "output_type": "stream",
          "name": "stdout",
          "text": [
            "12\n",
            "5\n",
            "8.2\n"
          ]
        }
      ]
    },
    {
      "cell_type": "markdown",
      "source": [
        "## Paprasčiausios sveikų skaičių operacijos"
      ],
      "metadata": {
        "id": "UcmhNvz7txji"
      }
    },
    {
      "cell_type": "code",
      "source": [
        "print(7 + 8)\n",
        "print(2 * 4)\n",
        "print(5 - 1)\n",
        "print(7 / 3)"
      ],
      "metadata": {
        "colab": {
          "base_uri": "https://localhost:8080/"
        },
        "id": "G5D8ngUet2e4",
        "outputId": "6fb7fe0d-0776-4df5-f2d7-cb5ea3bc8474"
      },
      "execution_count": 2,
      "outputs": [
        {
          "output_type": "stream",
          "name": "stdout",
          "text": [
            "15\n",
            "8\n",
            "4\n",
            "2.3333333333333335\n"
          ]
        }
      ]
    },
    {
      "cell_type": "markdown",
      "source": [
        "### Paprasčiausios racionalių skaičių operacijos"
      ],
      "metadata": {
        "id": "NcyQQwvYuKEx"
      }
    },
    {
      "cell_type": "code",
      "source": [
        "print(5.2 + 1.4)\n",
        "print(8 - 1.5)\n",
        "print(1 / 2)\n",
        "print(1 / 3)"
      ],
      "metadata": {
        "id": "qkcsYwBUuPi4"
      },
      "execution_count": null,
      "outputs": []
    },
    {
      "cell_type": "markdown",
      "source": [
        "### Kėlimas laipsniu"
      ],
      "metadata": {
        "id": "kbnpHZfGu990"
      }
    },
    {
      "cell_type": "code",
      "source": [
        "print(2 ** 3)\n",
        "print(4 ** 8)\n",
        "print(49 ** 0.5)"
      ],
      "metadata": {
        "colab": {
          "base_uri": "https://localhost:8080/"
        },
        "id": "fxyV2camvBYg",
        "outputId": "ee4cfadf-0618-415f-c9df-e7cf546de5f1"
      },
      "execution_count": 3,
      "outputs": [
        {
          "output_type": "stream",
          "name": "stdout",
          "text": [
            "8\n",
            "65536\n",
            "7.0\n"
          ]
        }
      ]
    },
    {
      "cell_type": "markdown",
      "source": [
        "### Modulio operacija"
      ],
      "metadata": {
        "id": "RZ0IKhtsvF-W"
      }
    },
    {
      "cell_type": "code",
      "source": [
        "print(10 % 3)\n",
        "print(25 % 4)\n",
        "print(13 % 2)\n",
        "print(16 % 2)\n",
        "print(8 % 2)"
      ],
      "metadata": {
        "colab": {
          "base_uri": "https://localhost:8080/"
        },
        "id": "xnvPCa1EvTSq",
        "outputId": "bf62e6f4-68e9-4258-8cd7-4410e3d09810"
      },
      "execution_count": 4,
      "outputs": [
        {
          "output_type": "stream",
          "name": "stdout",
          "text": [
            "1\n",
            "1\n",
            "1\n",
            "0\n",
            "0\n"
          ]
        }
      ]
    },
    {
      "cell_type": "markdown",
      "source": [
        "### Dalyba ir sveikoji dalyba"
      ],
      "metadata": {
        "id": "hhVKbqaJvecc"
      }
    },
    {
      "cell_type": "code",
      "source": [
        "print(10 / 3)\n",
        "print(10 // 3)\n",
        "print(6 / 7)\n",
        "print(6 // 7)"
      ],
      "metadata": {
        "id": "TH5_lIqlvhxq"
      },
      "execution_count": null,
      "outputs": []
    },
    {
      "cell_type": "markdown",
      "source": [
        "### Veiksmų tvarka"
      ],
      "metadata": {
        "id": "2LFnVOutvqmJ"
      }
    },
    {
      "cell_type": "code",
      "source": [
        "print(1 + 2 * 5 / 3)\n",
        "print( (1 + 2) * 5 / 3 )"
      ],
      "metadata": {
        "colab": {
          "base_uri": "https://localhost:8080/"
        },
        "id": "Ewm98w9wvwib",
        "outputId": "93a5eabe-84de-40d7-9f30-575e2ac32c15"
      },
      "execution_count": 7,
      "outputs": [
        {
          "output_type": "stream",
          "name": "stdout",
          "text": [
            "4.333333333333334\n",
            "5.0\n"
          ]
        }
      ]
    },
    {
      "cell_type": "markdown",
      "source": [
        "### Koks tipas?"
      ],
      "metadata": {
        "id": "wjAxkGa5wTcr"
      }
    },
    {
      "cell_type": "markdown",
      "source": [
        "Norint pamatyti, kokį skaičiaus tipą sugalvos Pitonas, reikia naudoti funkciją `type()`. Pradžioje pamėginkite nuspėti tipą, o po to paleiskite programą."
      ],
      "metadata": {
        "id": "BsgEmyOvwWgz"
      }
    },
    {
      "cell_type": "code",
      "source": [
        "print(type(5))\n",
        "print(type(5.0))\n",
        "print(type(5 * 3))\n",
        "print(type(5 / 3))\n",
        "print(type(5 // 3))\n",
        "print(type(5 ** 3))\n",
        "print(type(5 % 3))"
      ],
      "metadata": {
        "colab": {
          "base_uri": "https://localhost:8080/"
        },
        "id": "1HrXdWS6whXM",
        "outputId": "4d0982a6-e90f-4f49-f101-f71079d55e78"
      },
      "execution_count": 9,
      "outputs": [
        {
          "output_type": "stream",
          "name": "stdout",
          "text": [
            "<class 'int'>\n",
            "<class 'float'>\n",
            "<class 'int'>\n",
            "<class 'float'>\n",
            "<class 'int'>\n",
            "<class 'int'>\n",
            "<class 'int'>\n"
          ]
        }
      ]
    },
    {
      "cell_type": "markdown",
      "source": [
        "## Užduotys"
      ],
      "metadata": {
        "id": "npaBvuUaxFGj"
      }
    },
    {
      "cell_type": "markdown",
      "source": [
        "### Užduotis 1"
      ],
      "metadata": {
        "id": "3MfH_q2sxJwt"
      }
    },
    {
      "cell_type": "markdown",
      "source": [
        "Atskirose eilutėse išveskite skaičius `15`, `12`, `-9` ir `5.8`."
      ],
      "metadata": {
        "id": "oNS0wifTyFzR"
      }
    },
    {
      "cell_type": "code",
      "source": [
        "# Kodą rašykite čia..."
      ],
      "metadata": {
        "id": "OXfENMqLyMz0"
      },
      "execution_count": null,
      "outputs": []
    },
    {
      "cell_type": "markdown",
      "source": [
        "### Užduotis 2"
      ],
      "metadata": {
        "id": "AUFMmIN3xSfj"
      }
    },
    {
      "cell_type": "markdown",
      "source": [
        "Išveskite šių matematinių veiksmų atsakymus:\n",
        "\n",
        "* 78 * 2\n",
        "* 5 + 3\n",
        "* 7 / 2\n",
        "* 85 - 32"
      ],
      "metadata": {
        "id": "RjcQiL27yfGK"
      }
    },
    {
      "cell_type": "code",
      "source": [
        "# Kodą rašykite čia..."
      ],
      "metadata": {
        "id": "3lrnpOF0yRmt"
      },
      "execution_count": null,
      "outputs": []
    },
    {
      "cell_type": "markdown",
      "source": [
        "### Užduotis 3"
      ],
      "metadata": {
        "id": "TlJ2ybnFxTiP"
      }
    },
    {
      "cell_type": "markdown",
      "source": [
        "Išveskite šių matematinių veiksmų atsakymus:\n",
        "* 5.2 * 3\n",
        "* 9.4 * 0.5\n",
        "* 4.2 / 2"
      ],
      "metadata": {
        "id": "IjjShFvFzJzy"
      }
    },
    {
      "cell_type": "code",
      "source": [
        "# Kodą rašykite čia..."
      ],
      "metadata": {
        "id": "-FE_-j37ySt6"
      },
      "execution_count": null,
      "outputs": []
    },
    {
      "cell_type": "markdown",
      "source": [
        "### Užduotis 4"
      ],
      "metadata": {
        "id": "3_DBcP_JxUnj"
      }
    },
    {
      "cell_type": "markdown",
      "source": [
        "Išveskite šių matematinių veiksmų atsakymus:\n",
        "* 7 + 2 * 3\n",
        "* (7 + 2) * 3\n",
        "* 52 + 74 + 32\n",
        "* 87 - 65 + 14\n",
        "* 79 / (5 - 2)"
      ],
      "metadata": {
        "id": "QCC7HRVLzXbu"
      }
    },
    {
      "cell_type": "code",
      "source": [
        "# Kodą rašykite čia..."
      ],
      "metadata": {
        "id": "Hom0Zy3ZyTrO"
      },
      "execution_count": null,
      "outputs": []
    },
    {
      "cell_type": "markdown",
      "source": [
        "### Užduotis 5"
      ],
      "metadata": {
        "id": "sqwO_lMXxWEo"
      }
    },
    {
      "cell_type": "markdown",
      "source": [
        "Apskaičiuokite išveskite šiuos atsakymus (naudojant `**` operatorių):\n",
        "* skaičių 2 pakeltą 4-u laipsniu\n",
        "* skaičių 8 pakeltą 3-u laipsniu\n",
        "* skaičių 14 pakeltą 0.5-io laipsnio"
      ],
      "metadata": {
        "id": "EQ2qYnxPzfsp"
      }
    },
    {
      "cell_type": "code",
      "source": [
        "# Kodą rašykite čia..."
      ],
      "metadata": {
        "id": "GG4z43VbyURv"
      },
      "execution_count": null,
      "outputs": []
    },
    {
      "cell_type": "markdown",
      "source": [
        "### Užduotis 6"
      ],
      "metadata": {
        "id": "Jo8lL7uhzrWH"
      }
    },
    {
      "cell_type": "markdown",
      "source": [
        "Raskite skaičiaus 10 padalinto iš mažesnių skaičių liekanas (naudojant `%` operatorių). Tai yra (10 iš 1, 10 iš 2 ir t.t.)."
      ],
      "metadata": {
        "id": "Uq5GYbM80Bdf"
      }
    },
    {
      "cell_type": "code",
      "source": [
        "# Kodą rašykite čia..."
      ],
      "metadata": {
        "id": "x1L3gbnczyWC"
      },
      "execution_count": null,
      "outputs": []
    },
    {
      "cell_type": "markdown",
      "source": [
        "### Užduotis 7"
      ],
      "metadata": {
        "id": "GrwgH04qzskb"
      }
    },
    {
      "cell_type": "markdown",
      "source": [
        "Atlikite sveiko skaičiaus dalybą su šiais skaičiais:\n",
        "* 5 iš 2\n",
        "* 6 iš 3\n",
        "* 6 iš 4\n",
        "* 80 iš 3\n",
        "* 45 iš 4\n",
        "* 45 iš 3"
      ],
      "metadata": {
        "id": "Lb3SW0l90oKE"
      }
    },
    {
      "cell_type": "code",
      "source": [
        "# Kodą rašykite čia..."
      ],
      "metadata": {
        "id": "I6GYwxNDzzbO"
      },
      "execution_count": null,
      "outputs": []
    },
    {
      "cell_type": "markdown",
      "source": [
        "### Užduotis 8"
      ],
      "metadata": {
        "id": "BQHF1DmGzt9D"
      }
    },
    {
      "cell_type": "markdown",
      "source": [
        "Išsiaiškinkite duomenų tipus (panaudokite `type()`) šiems atvejams:\n",
        "* jeigu yra skaičius 6\n",
        "* jeigu yra skaičius 2.5\n",
        "* jeigu yra skaičius 157\n",
        "* jeigu yra skaičius -8.2\n",
        "* jeigu yra dalyba 2 iš 5\n",
        "* jeigu yra sudėtis 8 su 9\n",
        "* jeigu yra sudėtis 8.5 su 3"
      ],
      "metadata": {
        "id": "xb2qrFlX08LH"
      }
    },
    {
      "cell_type": "code",
      "source": [
        "# Kodą rašykite čia..."
      ],
      "metadata": {
        "id": "jzfkrnsjz0Mz"
      },
      "execution_count": null,
      "outputs": []
    }
  ]
}