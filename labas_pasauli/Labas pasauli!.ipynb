{
  "cells":[
    {
      "cell_type":"markdown",
      "source":[
        "# Labas pasauli!"
      ],
      "attachments":{
        
      },
      "metadata":{
        
      }
    },
    {
      "cell_type":"markdown",
      "source":[
        "Pradėkime susipažinimą su aplinka. Šioje aplinka kiek skiriasi nuo tradicinių programavimo aplinkų. Joje galima rašyti tektus ir programos kodus toje pačioje vietoje. Perskaitę šį tekstą pamėginkite įvykdyti žemiau esančia programą."
      ],
      "attachments":{
        
      },
      "metadata":{
        
      }
    },
    {
      "cell_type":"code",
      "source":[
        "print(\"Labas!\")"
      ],
      "execution_count":2,
      "outputs":[
        {
          "name":"stdout",
          "text":[
            "Labas!\n"
          ],
          "output_type":"stream"
        }
      ],
      "metadata":{
        
      }
    },
    {
      "cell_type":"markdown",
      "source":[
        "# Užduotis"
      ],
      "attachments":{
        
      },
      "metadata":{
        
      }
    },
    {
      "cell_type":"markdown",
      "source":[
        "Na kaip, pavyko!? Tikrai turėjo pavykti. Na o dabar patys, savo paskyroje atlikite šiuos veiksmus:\n",
        "* Sukurkite failą pavadinimu \"Labas pasauli!\"\n",
        "* Parašykite savo pirmąją programą, kuri parašytų \"Laabas pasauli!\"\n",
        "* Įvykdykite programą ir pažiūrėkite ar ji pateikia tai ko tikėjotės."
      ],
      "attachments":{
        
      },
      "metadata":{
        
      }
    }
  ],
  "metadata":{
    
  },
  "nbformat":4,
  "nbformat_minor":0
}