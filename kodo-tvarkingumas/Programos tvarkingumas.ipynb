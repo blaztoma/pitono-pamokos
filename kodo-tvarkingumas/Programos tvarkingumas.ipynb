{
  "cells":[
    {
      "cell_type":"markdown",
      "source":[
        "# Atitraukimai nuo krašto"
      ],
      "attachments":{
        
      },
      "metadata":{
        
      }
    },
    {
      "cell_type":"markdown",
      "source":[
        "Programa yra skaidoma blokais (funkcijos, ciklai ir kt.). Norint parodyti bloko ribas, to bloko kodas yra atitraukiamas nuo krašto.\n",
        "Bloko eilutės yra atitraukiamos nuo krašto (arba prieš tai esančio bloko) su 4 tarpais arba 1 tab paspaudimu.\n",
        "\n",
        "> **Atkreipkite dėmesį**: skirtingai nuo daugelio programavimo kalbų, atitraukimas turi didelę reikšmę programos vykdymui.\n",
        "\n",
        "Atitraukimas atstoja begin ir end paskalio kalboje arba { } C kalbos simbolius. Žemiau matote pitono programos pavyzdį su tinkamu kodo atitraukimu. Kol kas nesiaiškinkite kaip programa veikia."
      ],
      "attachments":{
        
      },
      "metadata":{
        
      }
    },
    {
      "cell_type":"code",
      "source":[
        "def atitraukimo_pavyzdys():\n",
        "    print(\"pradzia!\")\n",
        "    vaisiai = [\"obuolys\", \"kriaušė\", \"slyva\"]\n",
        "    for vaisius in vaisiai:\n",
        "        print(vaisius)\n",
        "        if vaisius == \"kriaušė\":\n",
        "            break\n",
        "    print(\"pabaiga!\")\n",
        "\n",
        "atitraukimo_pavyzdys()"
      ],
      "execution_count":4,
      "outputs":[
        {
          "name":"stdout",
          "text":[
            "pradzia!\n",
            "obuolys\n",
            "kriaušė\n",
            "pabaiga!\n"
          ],
          "output_type":"stream"
        }
      ],
      "metadata":{
        
      }
    },
    {
      "cell_type":"markdown",
      "source":[
        "# Komentavimas"
      ],
      "attachments":{
        
      },
      "metadata":{
        
      }
    },
    {
      "cell_type":"markdown",
      "source":[
        "Kodas yra komentuojamas tais atvejais kai mes norime parašyti paaiškinimą apie tai kas vyksta kode arba kai norim kažkurią kodo dalį padaryti nebeaktyvią (nebevykdomą).\n",
        "\n",
        "> Komentarui naudojamas simbolis: #\n",
        "\n",
        "Toliau parodyta ta pati programa su funkcijos aprašymu bei dviem užkomentuotom kodo eilutėm, kurios išveda *pradžia* ir *pabaiga*"
      ],
      "attachments":{
        
      },
      "metadata":{
        
      }
    },
    {
      "cell_type":"code",
      "source":[
        "# Ši funkcija parašyta tam, kad iliustruoti\n",
        "# tvarkingo kodo užrašymą.\n",
        "# Tam naudojama funkcija pavadinimu atitraukimo_pavyzdys\n",
        "def atitraukimo_pavyzdys():\n",
        "#     print(\"pradzia!\")\n",
        "    vaisiai = [\"obuolys\", \"kriaušė\", \"slyva\"]\n",
        "    for vaisius in vaisiai:\n",
        "        print(vaisius)\n",
        "        if vaisius == \"kriaušė\":\n",
        "            break\n",
        "#     print(\"pabaiga!\")\n",
        "\n",
        "atitraukimo_pavyzdys()"
      ],
      "execution_count":5,
      "outputs":[
        {
          "name":"stdout",
          "text":[
            "obuolys\n",
            "kriaušė\n"
          ],
          "output_type":"stream"
        }
      ],
      "metadata":{
        
      }
    },
    {
      "cell_type":"markdown",
      "source":[
        "# Užduotis"
      ],
      "attachments":{
        
      },
      "metadata":{
        
      }
    },
    {
      "cell_type":"markdown",
      "source":[
        "Žemiau pateikta programa, kuri neveikia, nes kviečiamos funkcijos, kurios nėra užrašytos. Atlikite šiuos veiksmus:\n",
        "* Nukopijuokite programą į savo aplinką\n",
        "* Užkomentuokite neveikiančias kodo dalis\n",
        "\n",
        "Atkreipkite dėmesį, kad aplinka pati raudonai pažymi neteisingas eilutes. "
      ],
      "attachments":{
        
      },
      "metadata":{
        
      }
    },
    {
      "cell_type":"code",
      "source":[
        "kviečiu_nežinomą_funkciją()\n",
        "\n",
        "def atitraukimo_pavyzdys():\n",
        "#     print(\"pradzia!\")\n",
        "    vaisiai = [\"obuolys\", \"kriaušė\", \"slyva\"]\n",
        "    for vaisius in vaisiai:\n",
        "        print(vaisius)\n",
        "        if vaisius == \"kriaušė\":\n",
        "            break\n",
        "#     print(\"pabaiga!\")\n",
        "\n",
        "kviečiu_kitą_funkciją()\n",
        "atitraukimo_pavyzdys()"
      ],
      "execution_count":7,
      "outputs":[
        {
          "ename":"NameError",
          "evalue":"NameError: name 'kviečiu_nežinomą_funkciją' is not defined",
          "traceback":[
            "\u001b[0;31m---------------------------------------------------------------------------",
            "Traceback (most recent call last)",
            "    at line 1 in <module>",
            "NameError: name 'kviečiu_nežinomą_funkciją' is not defined"
          ],
          "output_type":"error"
        }
      ],
      "metadata":{
        
      }
    }
  ],
  "metadata":{
    
  },
  "nbformat":4,
  "nbformat_minor":0
}