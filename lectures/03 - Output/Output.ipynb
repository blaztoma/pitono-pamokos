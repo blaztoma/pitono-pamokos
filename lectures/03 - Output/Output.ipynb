{
  "cells": [
    {
      "attachments": {},
      "cell_type": "markdown",
      "metadata": {},
      "source": [
        "[![Open In Colab](https://colab.research.google.com/assets/colab-badge.svg)](https://colab.research.google.com/github/blaztoma/pitono-pamokos/blob/main/lectures/03%20-%20Output/Output.ipynb)"
      ]
    },
    {
      "cell_type": "markdown",
      "metadata": {
        "id": "WbbZLXtbSUl9"
      },
      "source": [
        "# Output to Console"
      ]
    },
    {
      "cell_type": "markdown",
      "metadata": {
        "id": "KJBRz6ErI5YO"
      },
      "source": [
        "A computer can answer many of our questions about what we want to learn from a program. To do this, it must communicate - present information to humans in one way or another. Now we will learn to make the computer communicate in the simplest way, by outputting information to the console."
      ]
    },
    {
      "cell_type": "markdown",
      "metadata": {
        "id": "vnSINe7WL6u8"
      },
      "source": [
        "In Python, the `print()` function is used for this purpose. The message to be printed must be enclosed in single or double quotes. Example:"
      ]
    },
    {
      "cell_type": "code",
      "execution_count": null,
      "metadata": {
        "colab": {
          "base_uri": "https://localhost:8080/"
        },
        "id": "Ga_UNBCDIufe",
        "outputId": "ca853ab2-ea57-4822-e2d9-c7a90c70b6e1"
      },
      "outputs": [
        {
          "name": "stdout",
          "output_type": "stream",
          "text": [
            "Text string\n"
          ]
        }
      ],
      "source": [
        "print('Text string')"
      ]
    },
    {
      "cell_type": "markdown",
      "metadata": {
        "id": "A1KPt6zXKvoj"
      },
      "source": [
        "If we use double quotes - this will give the same result."
      ]
    },
    {
      "cell_type": "code",
      "execution_count": null,
      "metadata": {
        "colab": {
          "base_uri": "https://localhost:8080/"
        },
        "id": "AKRNXjP_I13j",
        "outputId": "220e0a30-05b5-492a-d8f0-958dbf1eb63c"
      },
      "outputs": [
        {
          "name": "stdout",
          "output_type": "stream",
          "text": [
            "Text string\n"
          ]
        }
      ],
      "source": [
        "print(\"Text string\")"
      ]
    },
    {
      "cell_type": "markdown",
      "metadata": {
        "id": "cEuxIQN4I2JH"
      },
      "source": [
        "You might ask - why is this necessary!? Well, for those cases when quotes are part of the text:"
      ]
    },
    {
      "cell_type": "code",
      "execution_count": null,
      "metadata": {
        "colab": {
          "base_uri": "https://localhost:8080/"
        },
        "id": "-dXfifiqLebT",
        "outputId": "3f46a067-fe3f-4c22-e2a4-ff3077626155"
      },
      "outputs": [
        {
          "name": "stdout",
          "output_type": "stream",
          "text": [
            "The computer wrote: 'Good morning!'\n"
          ]
        }
      ],
      "source": [
        "print(\"The computer wrote: 'Good morning!'\")"
      ]
    },
    {
      "cell_type": "markdown",
      "metadata": {
        "id": "qCh0kDe2NTcI"
      },
      "source": [
        "When using the `print()` function a second time, the text will be output on a new line:"
      ]
    },
    {
      "cell_type": "code",
      "execution_count": null,
      "metadata": {
        "colab": {
          "base_uri": "https://localhost:8080/"
        },
        "id": "UaAG_xSnNhY-",
        "outputId": "a5b4c23a-694a-49b4-f85c-8775d3ea7fc9"
      },
      "outputs": [
        {
          "name": "stdout",
          "output_type": "stream",
          "text": [
            "First line of text\n",
            "Second line of text\n"
          ]
        }
      ],
      "source": [
        "print('First line of text')\n",
        "print('Second line of text')"
      ]
    },
    {
      "cell_type": "markdown",
      "metadata": {
        "id": "sTWg4mwGNo2I"
      },
      "source": [
        "If we want to simply skip one line, we need to print an empty line like this:"
      ]
    },
    {
      "cell_type": "code",
      "execution_count": null,
      "metadata": {
        "colab": {
          "base_uri": "https://localhost:8080/"
        },
        "id": "3BCSD20ENylS",
        "outputId": "8e6571ab-6cb5-46d6-c3bf-20252ffffa70"
      },
      "outputs": [
        {
          "name": "stdout",
          "output_type": "stream",
          "text": [
            "First line of text\n",
            "\n",
            "Another line of text\n"
          ]
        }
      ],
      "source": [
        "print('First line of text')\n",
        "print()  # prints an empty line\n",
        "print('Another line of text')"
      ]
    },
    {
      "cell_type": "markdown",
      "metadata": {
        "id": "3-qOvcaKOTkm"
      },
      "source": [
        "We can also split into lines using the special character `\\n`, which moves the text output to a new line."
      ]
    },
    {
      "cell_type": "code",
      "execution_count": null,
      "metadata": {
        "colab": {
          "base_uri": "https://localhost:8080/"
        },
        "id": "fDke4Ct6OfoN",
        "outputId": "428c5ff9-0429-4934-8899-099d1a0f85ef"
      },
      "outputs": [
        {
          "name": "stdout",
          "output_type": "stream",
          "text": [
            "First line\n",
            "Second line\n",
            "Third line\n"
          ]
        }
      ],
      "source": [
        "print(\"First line\\nSecond line\\nThird line\")"
      ]
    },
    {
      "cell_type": "markdown",
      "metadata": {
        "id": "igI4Zx-jOujU"
      },
      "source": [
        "To highlight or beautify text, we can use various ASCII characters."
      ]
    },
    {
      "cell_type": "code",
      "execution_count": null,
      "metadata": {
        "colab": {
          "base_uri": "https://localhost:8080/"
        },
        "id": "NyBseKKXO68q",
        "outputId": "425ea627-3744-4782-87df-78b481a0240a"
      },
      "outputs": [
        {
          "name": "stdout",
          "output_type": "stream",
          "text": [
            "#=========================#=======#\n",
            "# Item Name               # Price #\n",
            "#=========================#=======#\n"
          ]
        }
      ],
      "source": [
        "print(\"#=========================#=======#\")\n",
        "print(\"# Item Name               # Price #\")\n",
        "print(\"#=========================#=======#\")"
      ]
    },
    {
      "cell_type": "markdown",
      "metadata": {
        "id": "BOxqlHbDPaYq"
      },
      "source": [
        "We can join different texts by separating them with commas or using the plus sign (`+`):"
      ]
    },
    {
      "cell_type": "code",
      "execution_count": null,
      "metadata": {
        "colab": {
          "base_uri": "https://localhost:8080/"
        },
        "id": "5JmbsaMwPljt",
        "outputId": "e7db0867-aa16-4fe4-edb0-0c8d6c4f8dcc"
      },
      "outputs": [
        {
          "name": "stdout",
          "output_type": "stream",
          "text": [
            "Combined first and second text parts.\n",
            "Combined first and second text parts.\n"
          ]
        }
      ],
      "source": [
        "print(\"Combined first and\", \"second text parts.\")\n",
        "print(\"Combined first and \" + \"second text parts.\")"
      ]
    },
    {
      "cell_type": "markdown",
      "metadata": {
        "id": "xXnhMlqEP1GZ"
      },
      "source": [
        "Note that when separating with a comma, you don't need to leave an empty space."
      ]
    },
    {
      "cell_type": "markdown",
      "metadata": {
        "id": "WT0Xvlt1RId5"
      },
      "source": [
        "If we want to format lines as we write them, we can use triple quotes. Look at the example of how they are used:"
      ]
    },
    {
      "cell_type": "code",
      "execution_count": 1,
      "metadata": {
        "colab": {
          "base_uri": "https://localhost:8080/"
        },
        "id": "cMfAJeyUQnp_",
        "outputId": "c5eca619-8eda-4fb2-a131-3f6f6bf87f24"
      },
      "outputs": [
        {
          "name": "stdout",
          "output_type": "stream",
          "text": [
            "\n",
            "Roses are red,\n",
            "Violets are blue,\n",
            "Python is awesome,\n",
            "And so are you!\n",
            "\n"
          ]
        }
      ],
      "source": [
        "print(\"\"\"\n",
        "Roses are red,\n",
        "Violets are blue,\n",
        "Python is awesome,\n",
        "And so are you!\n",
        "\"\"\")"
      ]
    },
    {
      "cell_type": "markdown",
      "metadata": {
        "id": "yh55NvPwSkTR"
      },
      "source": [
        "# Tasks"
      ]
    },
    {
      "cell_type": "markdown",
      "metadata": {
        "id": "WnC3Ud47U-Nx"
      },
      "source": [
        "Complete the tasks below and evaluate the results yourself. Try to use various string output methods."
      ]
    },
    {
      "cell_type": "markdown",
      "metadata": {
        "id": "6nnV8csNTB6A"
      },
      "source": [
        "## Task 1"
      ]
    },
    {
      "cell_type": "markdown",
      "metadata": {
        "id": "DzImH9rTTFwK"
      },
      "source": [
        "On the first line, output your name and age. On the second line, output why you decided to try programming."
      ]
    },
    {
      "cell_type": "code",
      "execution_count": null,
      "metadata": {
        "id": "d6z_IVR2TIrq"
      },
      "outputs": [],
      "source": [
        "# Write your code here, below this line..."
      ]
    },
    {
      "cell_type": "markdown",
      "metadata": {
        "id": "LKl7e7w1TUAx"
      },
      "source": [
        "## Task 2"
      ]
    },
    {
      "cell_type": "markdown",
      "metadata": {
        "id": "zReJgnogTaO3"
      },
      "source": [
        "Output this text:\n",
        "```\n",
        "*\n",
        "**\n",
        "***\n",
        "```"
      ]
    },
    {
      "cell_type": "code",
      "execution_count": null,
      "metadata": {
        "id": "izffjC69Ugz5"
      },
      "outputs": [],
      "source": [
        "# Write your code here, below this line..."
      ]
    },
    {
      "cell_type": "markdown",
      "metadata": {
        "id": "wx6xksSHUW8D"
      },
      "source": [
        "## Task 3"
      ]
    },
    {
      "cell_type": "markdown",
      "metadata": {
        "id": "oSTVlOrIUak7"
      },
      "source": [
        "Output a poem of at least 5 lines."
      ]
    },
    {
      "cell_type": "code",
      "execution_count": null,
      "metadata": {
        "id": "4tiXeFluUkF9"
      },
      "outputs": [],
      "source": [
        "# Write your code here, below this line..."
      ]
    },
    {
      "cell_type": "markdown",
      "metadata": {
        "id": "YxaPlSwVUmMf"
      },
      "source": [
        "## Task 4"
      ]
    },
    {
      "cell_type": "markdown",
      "metadata": {
        "id": "Uqp5IBVYUwan"
      },
      "source": [
        "Output this table:\n",
        "```\n",
        "+--------+--------+\n",
        "| Name   | Age    |\n",
        "+--------+--------+\n",
        "| Tom    | 24     |\n",
        "| John   | 26     |\n",
        "| Jane   | 25     |\n",
        "+--------+--------+\n",
        "```\n",
        "\n"
      ]
    },
    {
      "cell_type": "code",
      "execution_count": null,
      "metadata": {
        "id": "FGnMZ-CNUn2X"
      },
      "outputs": [],
      "source": [
        "# Write your code here, below this line..."
      ]
    }
  ],
  "metadata": {
    "colab": {
      "provenance": []
    },
    "kernelspec": {
      "display_name": "Python 3",
      "name": "python3"
    },
    "language_info": {
      "codemirror_mode": {
        "name": "ipython",
        "version": 3
      },
      "file_extension": ".py",
      "mimetype": "text/x-python",
      "name": "python",
      "nbconvert_exporter": "python",
      "pygments_lexer": "ipython3",
      "version": "3.10.11"
    }
  },
  "nbformat": 4,
  "nbformat_minor": 0
}