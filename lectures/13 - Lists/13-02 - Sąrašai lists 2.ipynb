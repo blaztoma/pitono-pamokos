{
 "cells": [
  {
   "attachments": {},
   "cell_type": "markdown",
   "metadata": {},
   "source": [
    "[![Open In Colab](https://colab.research.google.com/assets/colab-badge.svg)](https://colab.research.google.com/github/blaztoma/pitono-pamokos/blob/main/pamokos/13%20-%20Sarasai/13-02%20-%20S%C4%85ra%C5%A1ai%20lists%202.ipynb)"
   ]
  },
  {
   "attachments": {},
   "cell_type": "markdown",
   "metadata": {},
   "source": [
    "# Sąrašai (`lists`) (2 dalis)"
   ]
  },
  {
   "attachments": {},
   "cell_type": "markdown",
   "metadata": {},
   "source": [
    "## Pavyzdžiai"
   ]
  },
  {
   "attachments": {},
   "cell_type": "markdown",
   "metadata": {},
   "source": [
    "Elemento pridėjimas į galą ir pagal nurodytą indeksą."
   ]
  },
  {
   "cell_type": "code",
   "execution_count": null,
   "metadata": {},
   "outputs": [],
   "source": [
    "studentai = ['Justė', 'Tomas', 'Giedrius', 'Evelina']\n",
    "\n",
    "# prideda į galą\n",
    "studentai.append('Jonas')\n",
    "\n",
    "print(studentai)\n",
    "\n",
    "# prideda į nurodytą vietą\n",
    "studentai.insert(1, 'Ugnė')\n",
    "\n",
    "print(studentai)"
   ]
  },
  {
   "attachments": {},
   "cell_type": "markdown",
   "metadata": {},
   "source": [
    "Elemento išėmimas iš sąrašo galo."
   ]
  },
  {
   "cell_type": "code",
   "execution_count": null,
   "metadata": {},
   "outputs": [],
   "source": [
    "skaiciai = [7, 5, 8, 9, 6]\n",
    "\n",
    "print(skaiciai)\n",
    "\n",
    "# ištrina patį paskutinį narį\n",
    "skaiciai.pop()\n",
    "\n",
    "print(skaiciai)"
   ]
  },
  {
   "cell_type": "markdown",
   "metadata": {},
   "source": []
  },
  {
   "attachments": {},
   "cell_type": "markdown",
   "metadata": {},
   "source": [
    "Iš sąrašo galo galima išimti ir daugiau elementų."
   ]
  },
  {
   "cell_type": "code",
   "execution_count": null,
   "metadata": {},
   "outputs": [],
   "source": [
    "skaiciai = [7, 5, 8, 9, 6]\n",
    "print(skaiciai)\n",
    "\n",
    "skaiciai.pop()\n",
    "skaiciai.pop()\n",
    "print(skaiciai)"
   ]
  },
  {
   "attachments": {},
   "cell_type": "markdown",
   "metadata": {},
   "source": [
    "Naudojant metodą `pop` galima išimti elementą iš tam tikros pozicijos."
   ]
  },
  {
   "cell_type": "code",
   "execution_count": null,
   "metadata": {},
   "outputs": [],
   "source": [
    "skaiciai = [7, 5, 8, 9, 6]\n",
    "\n",
    "print(skaiciai)\n",
    "\n",
    "# ištrina iš nurodytos vietos (indekso)\n",
    "skaiciai.pop(0)\n",
    "\n",
    "print(skaiciai)"
   ]
  },
  {
   "attachments": {},
   "cell_type": "markdown",
   "metadata": {},
   "source": [
    "Metodas `clear()` išvalo sąrašą."
   ]
  },
  {
   "cell_type": "code",
   "execution_count": null,
   "metadata": {},
   "outputs": [],
   "source": [
    "skaiciai = [7, 5, 8, 9, 6]\n",
    "\n",
    "print(skaiciai)\n",
    "\n",
    "# pilnai išvalo visą sąrašą\n",
    "skaiciai.clear()\n",
    "\n",
    "print(skaiciai)"
   ]
  },
  {
   "attachments": {},
   "cell_type": "markdown",
   "metadata": {},
   "source": [
    "Metodas `index` suranda pirmą nurodytą elementą ir grąžina jo indeksą."
   ]
  },
  {
   "cell_type": "code",
   "execution_count": null,
   "metadata": {},
   "outputs": [],
   "source": [
    "skaiciai = [7, 5, 8, 9, 6]\n",
    "\n",
    "# pasako kurioje sąrašo vietoje (kuriame indekse) yra nurodyta reikšmė\n",
    "print(skaiciai.index(9))"
   ]
  },
  {
   "attachments": {},
   "cell_type": "markdown",
   "metadata": {},
   "source": [
    "Taip kaip metodas `index` suranda skaičius, taip gali rasti ir eilutes."
   ]
  },
  {
   "cell_type": "code",
   "execution_count": null,
   "metadata": {},
   "outputs": [],
   "source": [
    "tekstas = ['mano', 'batai', 'buvo', 'du']\n",
    "\n",
    "# pasako kurioje sąrašo vietoje (kuriame indekse) yra nurodyta reikšmė\n",
    "print(tekstas.index('buvo'))"
   ]
  },
  {
   "attachments": {},
   "cell_type": "markdown",
   "metadata": {},
   "source": [
    "Paieškai galime nurodyti paieškos pradžios ir pabaigos indeksus. Šį kartą programa batų neras, nes pradės ieškoti nuo trečio elemento."
   ]
  },
  {
   "cell_type": "code",
   "execution_count": null,
   "metadata": {},
   "outputs": [],
   "source": [
    "tekstas = ['mano', 'batai', 'buvo', 'du']\n",
    "\n",
    "# pasako kurioje sąrašo vietoje (kuriame indekse) yra nurodyta reikšmė,\n",
    "# bet pradeda paiešką ties 2-u indeksu, o baigia ties 3-u\n",
    "print(tekstas.index('batai', 2, 3))"
   ]
  },
  {
   "attachments": {},
   "cell_type": "markdown",
   "metadata": {},
   "source": [
    "Šį kartą programa ras batus, nes pradės ieškoti nuo antro elemento."
   ]
  },
  {
   "cell_type": "code",
   "execution_count": null,
   "metadata": {},
   "outputs": [],
   "source": [
    "tekstas = ['mano', 'batai', 'buvo', 'du']\n",
    "\n",
    "# pasako kurioje sąrašo vietoje (kuriame indekse) yra nurodyta reikšmė,\n",
    "# bet pradeda paiešką ties 1-u indeksu, o baigia ties 3-u\n",
    "print(tekstas.index('batai', 1, 3))"
   ]
  },
  {
   "attachments": {},
   "cell_type": "markdown",
   "metadata": {},
   "source": [
    "Taip mes galime sužinoti ar tam tikra reikšmė egzistuoja nurodytam sąraše."
   ]
  },
  {
   "cell_type": "code",
   "execution_count": null,
   "metadata": {},
   "outputs": [],
   "source": [
    "zodziai = ['popierius', 'kompiuteris', 'knyga', 'popierius', 'medis']\n",
    "\n",
    "# pasako ar sąraše yra tokia reikšmė\n",
    "print('knyga' in zodziai)"
   ]
  },
  {
   "attachments": {},
   "cell_type": "markdown",
   "metadata": {},
   "source": [
    "Šį kartą programa žodžių sąraše neras reikšmės `x`."
   ]
  },
  {
   "cell_type": "code",
   "execution_count": null,
   "metadata": {},
   "outputs": [],
   "source": [
    "zodziai = ['popierius', 'kompiuteris', 'knyga', 'popierius', 'medis']\n",
    "\n",
    "# pasako ar sąraše yra tokia reikšmė\n",
    "print('x' in zodziai)"
   ]
  },
  {
   "attachments": {},
   "cell_type": "markdown",
   "metadata": {},
   "source": [
    "Taip galime patikrinti ar raidė (simbolis) yra eilutėje."
   ]
  },
  {
   "cell_type": "code",
   "execution_count": null,
   "metadata": {},
   "outputs": [],
   "source": [
    "# pasako ar tekste yra tokia reikšmė\n",
    "print('m' in 'labas mano vardas Ieva')"
   ]
  },
  {
   "attachments": {},
   "cell_type": "markdown",
   "metadata": {},
   "source": [
    "Dar vienas pavyzdys su miestų sąrašu."
   ]
  },
  {
   "cell_type": "code",
   "execution_count": null,
   "metadata": {},
   "outputs": [],
   "source": [
    "miestai = ['Vilnius', 'Kaunas', 'Klaipėda', 'Šiauliai']\n",
    "\n",
    "if 'Kaunas' in miestai:\n",
    "    print('Kaunas tarp miestų rastas.')\n",
    "else:\n",
    "    print('Kaunas tarp miestų nerastas.')\n",
    "\n",
    "if 'Biržai' in miestai:\n",
    "    print('Biržai tarp miestų rastas.')\n",
    "else:\n",
    "    print('Biržai tarp miestų nerastas.')"
   ]
  },
  {
   "attachments": {},
   "cell_type": "markdown",
   "metadata": {},
   "source": [
    "Naudodami metodą `count()`, galime suskaičiuoti kiek kartų elementas pasikartoja sąraše."
   ]
  },
  {
   "cell_type": "code",
   "execution_count": null,
   "metadata": {},
   "outputs": [],
   "source": [
    "zodziai = ['popierius', 'kompiuteris', 'knyga', 'popierius', 'medis']\n",
    "\n",
    "# pasako kiek kartų šita reikšmė rasta sąraše\n",
    "print(zodziai.count('popierius'))"
   ]
  },
  {
   "attachments": {},
   "cell_type": "markdown",
   "metadata": {},
   "source": [
    "## Užduotys"
   ]
  },
  {
   "attachments": {},
   "cell_type": "markdown",
   "metadata": {},
   "source": [
    "### Užduotis 1\n",
    "\n",
    "Sukurkite miestų sąrašą. Į šį sąrašą pridėkite duomenų. Leiskite vartotojui papildyti sąrašą. Atspausdinkite tiek pradinį sąrašą, tiek papildytą duomenimis. Papildykite programą taip, kad naudotojas galėtų pasirinkti į kurią sąrašo vietą būtų įrašytas naujas miestas."
   ]
  },
  {
   "cell_type": "code",
   "execution_count": null,
   "metadata": {},
   "outputs": [],
   "source": [
    "# Kodą rašykite čia..."
   ]
  },
  {
   "attachments": {},
   "cell_type": "markdown",
   "metadata": {},
   "source": [
    "### Užduotis 2\n",
    "\n",
    "Sukurkite sąrašą ir užpildykite jį pasirinktais duomenimis. Iš jo pašalinkite kelis įrašus panaudodami `pop()` metodą. Leiskite naudotojui pašalinti iš sąrašo galo nurodomą įrašų kiekį."
   ]
  },
  {
   "cell_type": "code",
   "execution_count": null,
   "metadata": {},
   "outputs": [],
   "source": [
    "# Kodą rašykite čia..."
   ]
  },
  {
   "attachments": {},
   "cell_type": "markdown",
   "metadata": {},
   "source": [
    "### Užduotis 3\n",
    "\n",
    "Sukurkite sąrašą su pasirinktais duomenimis. Patikrinkite ar sąraše yra daugiau nei 5 įrašai. Jeigu taip - jį išvalykite (naudodami `clear()` metodą)."
   ]
  },
  {
   "cell_type": "code",
   "execution_count": null,
   "metadata": {},
   "outputs": [],
   "source": [
    "# Kodą rašykite čia..."
   ]
  },
  {
   "attachments": {},
   "cell_type": "markdown",
   "metadata": {},
   "source": [
    "### Užduotis 4\n",
    "\n",
    "Sukurkite sąrašą, kuriame būtų surašyti bet kokie žodžiai. Leiskite naudotojui atlikti paiešką tame sąraše. Naudotojas turi įvesti ieškomą žodį ir programa turi atspausdinti, ar žodis yra. Jeigu žodis egzistuoja, programa turi atspausdinti jo vietą (indeksą)."
   ]
  },
  {
   "cell_type": "code",
   "execution_count": null,
   "metadata": {},
   "outputs": [],
   "source": [
    "# Kodą rašykite čia..."
   ]
  },
  {
   "attachments": {},
   "cell_type": "markdown",
   "metadata": {},
   "source": [
    "### Užduotis 5\n",
    "\n",
    "Sukurkite sąrašą, kuriame būtų surašyti studentų pažymiai. Galite padaryti taip, kad pasirinktą kiekį pažymių galėtų įvesti pats vartotojas. Programa turi dešimtukų kiekį."
   ]
  },
  {
   "cell_type": "code",
   "execution_count": null,
   "metadata": {},
   "outputs": [],
   "source": [
    "# Kodą rašykite čia..."
   ]
  }
 ],
 "metadata": {
  "kernelspec": {
   "display_name": "Python 3",
   "language": "python",
   "name": "python3"
  },
  "language_info": {
   "codemirror_mode": {
    "name": "ipython",
    "version": 3
   },
   "file_extension": ".py",
   "mimetype": "text/x-python",
   "name": "python",
   "nbconvert_exporter": "python",
   "pygments_lexer": "ipython3",
   "version": "3.10.10"
  },
  "orig_nbformat": 4,
  "vscode": {
   "interpreter": {
    "hash": "aa11ca274996316222ef16f35c5f6dbeb467b694c0b2154cdf34dcf9271d5fd0"
   }
  }
 },
 "nbformat": 4,
 "nbformat_minor": 2
}
