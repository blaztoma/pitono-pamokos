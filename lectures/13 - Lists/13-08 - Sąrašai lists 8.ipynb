{
 "cells": [
  {
   "attachments": {},
   "cell_type": "markdown",
   "metadata": {},
   "source": [
    "[![Open In Colab](https://colab.research.google.com/assets/colab-badge.svg)](https://colab.research.google.com/github/blaztoma/pitono-pamokos/blob/main/pamokos/13%20-%20Sarasai/13-08%20-%20S%C4%85ra%C5%A1ai%20lists%208.ipynb)"
   ]
  },
  {
   "attachments": {},
   "cell_type": "markdown",
   "metadata": {},
   "source": [
    "# Sąrašai (`lists`) (8 dalis)"
   ]
  },
  {
   "attachments": {},
   "cell_type": "markdown",
   "metadata": {},
   "source": [
    "## Pavyzdžiai"
   ]
  },
  {
   "cell_type": "code",
   "execution_count": 7,
   "metadata": {},
   "outputs": [
    {
     "name": "stdout",
     "output_type": "stream",
     "text": [
      "[60, 59, 74, 30, 52, 93, 5, 52, 68, 65]\n"
     ]
    }
   ],
   "source": [
    "import random\n",
    "\n",
    "kiek = int(input('Kiek skaičių sukurti? '))\n",
    "skaiciai = []\n",
    "\n",
    "for sk in range(kiek):\n",
    "    skaiciai.append(random.randint(1, 100))\n",
    "\n",
    "print(skaiciai)"
   ]
  },
  {
   "cell_type": "code",
   "execution_count": 8,
   "metadata": {},
   "outputs": [
    {
     "name": "stdout",
     "output_type": "stream",
     "text": [
      "Indeksas: 0\n",
      "Skaičius: 7\n",
      "\n",
      "Indeksas: 1\n",
      "Skaičius: 4\n",
      "\n",
      "Indeksas: 2\n",
      "Skaičius: 7\n",
      "\n",
      "Indeksas: 3\n",
      "Skaičius: 8\n",
      "\n",
      "Indeksas: 4\n",
      "Skaičius: 3\n",
      "\n",
      "Indeksas: 5\n",
      "Skaičius: 6\n",
      "\n",
      "Indeksas: 6\n",
      "Skaičius: 8\n",
      "\n"
     ]
    }
   ],
   "source": [
    "skaiciai = [7, 4, 7, 8, 3, 6, 8]\n",
    "\n",
    "i = 0\n",
    "\n",
    "while i < len(skaiciai):\n",
    "    print('Indeksas:', i)\n",
    "    print('Skaičius:', skaiciai[i])\n",
    "    print()\n",
    "    i += 1"
   ]
  },
  {
   "cell_type": "code",
   "execution_count": 9,
   "metadata": {},
   "outputs": [
    {
     "name": "stdout",
     "output_type": "stream",
     "text": [
      "Medis: obelis\n",
      "Medis: kriaušė\n",
      "Medis: beržas\n",
      "Medis: eglė\n"
     ]
    }
   ],
   "source": [
    "medziai = ['obelis', 'kriaušė', 'beržas', 'eglė']\n",
    "\n",
    "for medis in medziai:\n",
    "    print('Medis:', medis)"
   ]
  },
  {
   "cell_type": "code",
   "execution_count": 10,
   "metadata": {},
   "outputs": [
    {
     "name": "stdout",
     "output_type": "stream",
     "text": [
      "Žodyje \"traktorius\" yra 10 raidžių\n"
     ]
    }
   ],
   "source": [
    "zodis = 'traktorius'\n",
    "print(f'Žodyje \"{zodis}\" yra { len(zodis) } raidžių')"
   ]
  },
  {
   "cell_type": "code",
   "execution_count": 13,
   "metadata": {},
   "outputs": [
    {
     "name": "stdout",
     "output_type": "stream",
     "text": [
      "Žodžio obelis raidžių kiekis: 6\n",
      "Žodžio kriaušė raidžių kiekis: 7\n",
      "Žodžio beržas raidžių kiekis: 6\n",
      "Žodžio eglė raidžių kiekis: 4\n"
     ]
    }
   ],
   "source": [
    "medziai = ['obelis', 'kriaušė', 'beržas', 'eglė']\n",
    "\n",
    "for medis in medziai:\n",
    "    print(f'Žodžio {medis} raidžių kiekis: { len(medis) }')"
   ]
  },
  {
   "cell_type": "code",
   "execution_count": 14,
   "metadata": {},
   "outputs": [
    {
     "name": "stdout",
     "output_type": "stream",
     "text": [
      "skaičius 78 yra lyginis\n",
      "skaičius 47 yra nelyginis\n",
      "skaičius 24 yra lyginis\n",
      "skaičius 36 yra lyginis\n",
      "skaičius 24 yra lyginis\n",
      "skaičius 14 yra lyginis\n",
      "skaičius 25 yra nelyginis\n",
      "skaičius 98 yra lyginis\n",
      "skaičius 73 yra nelyginis\n"
     ]
    }
   ],
   "source": [
    "skaiciai = [78, 47, 24, 36, 24, 14, 25, 98, 73]\n",
    "\n",
    "for sk in skaiciai:\n",
    "    if sk % 2 == 0:\n",
    "        print(f'skaičius {sk} yra lyginis')\n",
    "    else:\n",
    "        print(f'skaičius {sk} yra nelyginis')"
   ]
  },
  {
   "cell_type": "code",
   "execution_count": 15,
   "metadata": {},
   "outputs": [
    {
     "name": "stdout",
     "output_type": "stream",
     "text": [
      "skaičius 78 yra lyginis\n",
      "skaičius 47 yra nelyginis\n",
      "skaičius 24 yra lyginis\n",
      "skaičius 36 yra lyginis\n",
      "skaičius 24 yra lyginis\n",
      "skaičius 14 yra lyginis\n",
      "skaičius 25 yra nelyginis\n",
      "skaičius 98 yra lyginis\n",
      "skaičius 73 yra nelyginis\n"
     ]
    }
   ],
   "source": [
    "skaiciai = [78, 47, 24, 36, 24, 14, 25, 98, 73]\n",
    "\n",
    "for sk in skaiciai:\n",
    "    isvedimas = f'skaičius {sk} yra '\n",
    "    if sk % 2 == 0:\n",
    "        isvedimas += 'lyginis'\n",
    "    else:\n",
    "        isvedimas += 'nelyginis'\n",
    "    print(isvedimas)"
   ]
  },
  {
   "cell_type": "code",
   "execution_count": 16,
   "metadata": {},
   "outputs": [
    {
     "name": "stdout",
     "output_type": "stream",
     "text": [
      "skaičiai: [8, 5, 7, 4, 2, 3]\n",
      "lyginių suma: 14\n",
      "nelyginių suma: 15\n"
     ]
    }
   ],
   "source": [
    "skaiciai = [8, 5, 7, 4, 2, 3]\n",
    "\n",
    "lyginiu_suma = 0\n",
    "nelyginiu_suma = 0\n",
    "\n",
    "for skaicius in skaiciai:\n",
    "    if skaicius % 2 == 0:\n",
    "        lyginiu_suma += skaicius\n",
    "    else:\n",
    "        nelyginiu_suma += skaicius\n",
    "\n",
    "print('skaičiai:', skaiciai)\n",
    "print('lyginių suma:', lyginiu_suma)\n",
    "print('nelyginių suma:', nelyginiu_suma)"
   ]
  },
  {
   "cell_type": "code",
   "execution_count": 17,
   "metadata": {},
   "outputs": [
    {
     "name": "stdout",
     "output_type": "stream",
     "text": [
      "skaičiai: [8, 5, 7, 4, 2, 3]\n",
      "lyginių suma: 14\n",
      "lyginių kiekis: 3\n",
      "lyginių vidurkis: 4.67\n"
     ]
    }
   ],
   "source": [
    "skaiciai = [8, 5, 7, 4, 2, 3]\n",
    "\n",
    "lyginiu_suma = 0\n",
    "lyginiu_kiekis = 0\n",
    "\n",
    "for skaicius in skaiciai:\n",
    "    if skaicius % 2 == 0:\n",
    "        lyginiu_suma += skaicius\n",
    "        lyginiu_kiekis += 1\n",
    "\n",
    "vidurkis = round(lyginiu_suma / lyginiu_kiekis, 2)\n",
    "\n",
    "print('skaičiai:', skaiciai)\n",
    "print('lyginių suma:', lyginiu_suma)\n",
    "print('lyginių kiekis:', lyginiu_kiekis)\n",
    "print('lyginių vidurkis:', vidurkis)"
   ]
  },
  {
   "cell_type": "code",
   "execution_count": 20,
   "metadata": {},
   "outputs": [
    {
     "name": "stdout",
     "output_type": "stream",
     "text": [
      "teigiami pažymiai: 7 8 7 9 6 5 \n"
     ]
    }
   ],
   "source": [
    "pazymiai = [7, 4, 8, 7, 9, 6, 2, 5]\n",
    "\n",
    "print('teigiami pažymiai: ', end='')\n",
    "\n",
    "for paz in pazymiai:\n",
    "    if paz >= 5:\n",
    "        print(paz, end=' ')\n",
    "\n",
    "print()"
   ]
  },
  {
   "cell_type": "code",
   "execution_count": 21,
   "metadata": {},
   "outputs": [
    {
     "name": "stdout",
     "output_type": "stream",
     "text": [
      "pažymiai: [7, 4, 8, 7, 9, 6, 2, 5]\n",
      "teigiami pažymiai: [7, 8, 7, 9, 6, 5]\n",
      "neigiami pažymiai: [4, 2]\n"
     ]
    }
   ],
   "source": [
    "pazymiai = [7, 4, 8, 7, 9, 6, 2, 5]\n",
    "\n",
    "teigiami = []\n",
    "neigiami = []\n",
    "\n",
    "for paz in pazymiai:\n",
    "    if paz >= 5:\n",
    "        teigiami.append(paz)\n",
    "    else:\n",
    "        neigiami.append(paz)\n",
    "\n",
    "print('pažymiai:', pazymiai)\n",
    "print('teigiami pažymiai:', teigiami)\n",
    "print('neigiami pažymiai:', neigiami)"
   ]
  },
  {
   "cell_type": "code",
   "execution_count": 22,
   "metadata": {},
   "outputs": [
    {
     "name": "stdout",
     "output_type": "stream",
     "text": [
      "PIRMAS STUDENTAS\n",
      "pažymiai: [8, 7, 9, 8, 7, 9, 10, 9]\n",
      "vidurkis: 8.38\n",
      "ANTRAS STUDENTAS\n",
      "pažymiai: [9, 9, 10, 8, 7, 6, 9]\n",
      "vidurkis: 8.29\n",
      "\n",
      "pirmo studento vidurkis didesnis\n",
      "skirtumas tarp vidurkių: 0.09\n"
     ]
    }
   ],
   "source": [
    "pirmo_stud_paz = [8, 7, 9, 8, 7, 9, 10, 9]\n",
    "antro_stud_paz = [9, 9, 10, 8, 7, 6, 9]\n",
    "\n",
    "pirmo_stud_vidurkis = round(sum(pirmo_stud_paz) / len(pirmo_stud_paz), 2)\n",
    "antro_stud_vidurkis = round(sum(antro_stud_paz) / len(antro_stud_paz), 2)\n",
    "\n",
    "print('PIRMAS STUDENTAS')\n",
    "print('pažymiai:', pirmo_stud_paz)\n",
    "print('vidurkis:', pirmo_stud_vidurkis)\n",
    "print('ANTRAS STUDENTAS')\n",
    "print('pažymiai:', antro_stud_paz)\n",
    "print('vidurkis:', antro_stud_vidurkis)\n",
    "print()\n",
    "\n",
    "if pirmo_stud_vidurkis > antro_stud_vidurkis:\n",
    "    print('pirmo studento vidurkis didesnis')\n",
    "    skirtumas = round(pirmo_stud_vidurkis - antro_stud_vidurkis, 2)\n",
    "    print('skirtumas tarp vidurkių:', skirtumas)\n",
    "elif antro_stud_vidurkis > pirmo_stud_vidurkis:\n",
    "    print('antro studento vidurkis didesnis')\n",
    "    skirtumas = round(antro_stud_vidurkis - pirmo_stud_vidurkis, 2)\n",
    "    print('skirtumas tarp vidurkių:', skirtumas)\n",
    "else:\n",
    "    print('abiejų studentų vidurkiai vienodi')"
   ]
  },
  {
   "cell_type": "code",
   "execution_count": 23,
   "metadata": {},
   "outputs": [
    {
     "name": "stdout",
     "output_type": "stream",
     "text": [
      "pažymiai: [7, 4, 8, 7, 9, 6, 2, 5]\n",
      "neigiamų pažymių kiekis: 2\n"
     ]
    }
   ],
   "source": [
    "pazymiai = [7, 4, 8, 7, 9, 6, 2, 5]\n",
    "\n",
    "kiek_neigiamu = 0\n",
    "\n",
    "for paz in pazymiai:\n",
    "    if paz < 5:\n",
    "        kiek_neigiamu += 1\n",
    "\n",
    "print('pažymiai:', pazymiai)\n",
    "print('neigiamų pažymių kiekis:', kiek_neigiamu)"
   ]
  },
  {
   "cell_type": "code",
   "execution_count": 24,
   "metadata": {},
   "outputs": [
    {
     "name": "stdout",
     "output_type": "stream",
     "text": [
      "didžiausias skaičius: 9\n"
     ]
    }
   ],
   "source": [
    "skaiciai = [8, 7, 9, 6, 5, 8, 4]\n",
    "\n",
    "didziausias = skaiciai[0]\n",
    "\n",
    "for sk in skaiciai:\n",
    "    if sk > didziausias:\n",
    "        didziausias = sk\n",
    "\n",
    "print('didžiausias skaičius:', didziausias)"
   ]
  },
  {
   "cell_type": "code",
   "execution_count": 26,
   "metadata": {},
   "outputs": [
    {
     "name": "stdout",
     "output_type": "stream",
     "text": [
      "didžiausias skaičius: 9\n",
      "didžiausio indeksas: 2\n"
     ]
    }
   ],
   "source": [
    "skaiciai = [8, 7, 9, 6, 5, 8, 4]\n",
    "\n",
    "didziausias = skaiciai[0]\n",
    "didziausio_indeksas = 0\n",
    "\n",
    "for i, skaicius in enumerate(skaiciai):\n",
    "    if skaicius > didziausias:\n",
    "        didziausias = skaicius\n",
    "        didziausio_indeksas = i\n",
    "\n",
    "print('didžiausias skaičius:', didziausias)\n",
    "print('didžiausio indeksas:', didziausio_indeksas)"
   ]
  },
  {
   "cell_type": "code",
   "execution_count": 27,
   "metadata": {},
   "outputs": [
    {
     "name": "stdout",
     "output_type": "stream",
     "text": [
      "sugeneruoti skaičiai: [4, 7, 4, 10, 7, 6, 8, 1, 1, 1]\n",
      "suma: 49\n",
      "vidurkis: 4.9\n"
     ]
    }
   ],
   "source": [
    "import random\n",
    "\n",
    "# tuščias sąrašas\n",
    "skaiciai = []\n",
    "\n",
    "# skaičių generavimas\n",
    "kiek = int(input(\"kiek skaičių norite: \"))\n",
    "for sk in range(kiek):\n",
    "    skaiciai.append(random.randint(1, 10))\n",
    "\n",
    "# skaičių išvedimas\n",
    "print('sugeneruoti skaičiai:', skaiciai)\n",
    "\n",
    "# skaičių suma\n",
    "suma = sum(skaiciai)\n",
    "print('suma:', suma)\n",
    "\n",
    "# skaičių vidurkis\n",
    "vidurkis = suma / len(skaiciai)\n",
    "print('vidurkis:', round(vidurkis, 2))"
   ]
  },
  {
   "attachments": {},
   "cell_type": "markdown",
   "metadata": {},
   "source": [
    "## Užduotys"
   ]
  },
  {
   "attachments": {},
   "cell_type": "markdown",
   "metadata": {},
   "source": [
    "### Užduotis 1\n",
    "\n",
    "Susikurkite programą, kurioje vartotojas galėtų nusakyti kiek atsitiktinių skaičių turėtų būti sugeneruota. Tuomet programa turėtų būtent tokį kiekį atsitiktinių skaičių sugeneruoti ir sudėti į sąrašą. Išveskite visus šiuos skaičius ekrane. Tuomet tuos pačius skaičius išveskite ekrane dar kartą, tačiau viską spausdinkite atskirose eilutėse, eilutėje nurodant patį skaičių ir jo kvadratą."
   ]
  },
  {
   "cell_type": "code",
   "execution_count": 1,
   "metadata": {},
   "outputs": [],
   "source": [
    "# Kodą rašykite čia..."
   ]
  },
  {
   "attachments": {},
   "cell_type": "markdown",
   "metadata": {},
   "source": [
    "### Užduotis 2\n",
    "\n",
    "Susikurkite norimą sąrašą su duomenimis. Išsiveskite viso šio sąrašo informaciją. Pakeiskite trijų pasirinktų narių reikšmes į kitas. Išsiveskite pakeisto sąrašo informaciją."
   ]
  },
  {
   "cell_type": "code",
   "execution_count": null,
   "metadata": {},
   "outputs": [],
   "source": [
    "# Kodą rašykite čia..."
   ]
  },
  {
   "attachments": {},
   "cell_type": "markdown",
   "metadata": {},
   "source": [
    "### Užduotis 3\n",
    "\n",
    "Susikurkite sąrašą ir jį užpildykite skaičiais (savarankiškai arba atsitiktiniais). Iš pradžių išveskite tekstą \"lyginiai skaičiai\" ir visus lyginius skaičius. Tuomet išveskite tekstą \"visi nelyginiai skaičiai\" ir visus nelyginius skaičius. Bei ant galo tekstą \"visi skaičiai, kurie dalinasi iš 3\" ir visus skaičius, kurie atitinka tokią sąlygą."
   ]
  },
  {
   "cell_type": "code",
   "execution_count": null,
   "metadata": {},
   "outputs": [],
   "source": [
    "# Kodą rašykite čia..."
   ]
  },
  {
   "attachments": {},
   "cell_type": "markdown",
   "metadata": {},
   "source": [
    "### Užduotis 4\n",
    "\n",
    "Susikurkite sąrašą ir jį užpildykite atsitiktiniais skaičiais. Išveskite visus skaičius didesnius nei vidurkis."
   ]
  },
  {
   "cell_type": "code",
   "execution_count": null,
   "metadata": {},
   "outputs": [],
   "source": [
    "# Kodą rašykite čia..."
   ]
  },
  {
   "attachments": {},
   "cell_type": "markdown",
   "metadata": {},
   "source": [
    "### Užduotis 5\n",
    "\n",
    "Susikurkite programą, kurioje būtų sukurtas sąrašas iš pasirinkto kiekio atsitiktinių skaičių. Raskite kiekvieno skaičiaus daliklius, pavyzdžiui:\n",
    "\n",
    "```\n",
    "skaičius 2 dalinasi iš 2\n",
    "skaičius 3 dalinasi iš 3\n",
    "skaičius 4 dalinasi iš 2, 4\n",
    "skaičius 5 dalinasi iš 5\n",
    "skaičius 6 dalinasi iš 2, 3, 6\n",
    "```"
   ]
  },
  {
   "cell_type": "code",
   "execution_count": null,
   "metadata": {},
   "outputs": [],
   "source": [
    "# Kodą rašykite čia..."
   ]
  },
  {
   "attachments": {},
   "cell_type": "markdown",
   "metadata": {},
   "source": [
    "### Užduotis 6\n",
    "\n",
    "Sukurkite programą, kurioje vartotojas galėtų įvesti norimą kiekį žodžių (pasirenka iš pradžių ir vykdomas for iki to kiekio skaičiaus, arba vykdomas while kol neįveda q ar kokio kito simbolio/žodžio). Išveskite visus šiuos žodžius ekrane."
   ]
  },
  {
   "cell_type": "code",
   "execution_count": null,
   "metadata": {},
   "outputs": [],
   "source": [
    "# Kodą rašykite čia..."
   ]
  },
  {
   "attachments": {},
   "cell_type": "markdown",
   "metadata": {},
   "source": [
    "### Užduotis 7\n",
    "\n",
    "Susikurkite sąrašą iš pasirinktų žodžių. Atskirose eilutėse išveskite patį žodį, jo raidžių kiekį."
   ]
  },
  {
   "cell_type": "code",
   "execution_count": null,
   "metadata": {},
   "outputs": [],
   "source": [
    "# Kodą rašykite čia..."
   ]
  },
  {
   "attachments": {},
   "cell_type": "markdown",
   "metadata": {},
   "source": [
    "### Užduotis 8\n",
    "\n",
    "Susikurkite pažymių sąrašą. Šiuos pažymius leiskite įvesti vartotojui. Baigus įvedimą, išveskite suvestų pažymių vidurkį. Taip pat, jeigu studentas turėjo neigiamų pažymių, tuomet atskirai parodykite tuos neigiamus pažymius ir jų kiekį."
   ]
  },
  {
   "cell_type": "code",
   "execution_count": null,
   "metadata": {},
   "outputs": [],
   "source": [
    "# Kodą rašykite čia..."
   ]
  },
  {
   "attachments": {},
   "cell_type": "markdown",
   "metadata": {},
   "source": [
    "### Užduotis 9\n",
    "\n",
    "Susikurkite žodžių sąrašą. Raskite ir išveskite trumpiausią ir ilgiausią žodžius, bei jų raidžių kiekius."
   ]
  },
  {
   "cell_type": "code",
   "execution_count": null,
   "metadata": {},
   "outputs": [],
   "source": [
    "# Kodą rašykite čia..."
   ]
  },
  {
   "attachments": {},
   "cell_type": "markdown",
   "metadata": {},
   "source": [
    "### Užduotis 10\n",
    "\n",
    "Sugeneruokite 100-ą atsitiktinių skaičių ir sukelkite visus tuos skaičius į sąrašą. Atlikite šiuos veiksmus:\n",
    "\n",
    "- Raskite mažiausią skaičių, didžiausią skaičių, bei vidurkį.\n",
    "- Tuomet atrinkite į atskirą sąrašą skaičius, kurie žemesni nei vidurkis. Raskite šių skaičių vidurkį.\n",
    "- Taip pat, atrinkite į dar vieną sąrašą skaičius, kurie didesni nei vidurkis. Raskite šių skaičių vidurkį.\n",
    "- Ekrane išveskite pradinius duomenis, mažiausią ir didžiausią skaičius, rastą vidurkį, pirmus atrinktus skaičius ir jų vidurkį, antrus atrinktus skaičius ir jų vidurkį."
   ]
  },
  {
   "cell_type": "code",
   "execution_count": null,
   "metadata": {},
   "outputs": [],
   "source": [
    "# Kodą rašykite čia..."
   ]
  },
  {
   "attachments": {},
   "cell_type": "markdown",
   "metadata": {},
   "source": [
    "### Užduotis 11\n",
    "\n",
    "Susikurkite žodžių masyvą. Išveskite per kiek simbolių yra ilgesnis ilgiausias žodis už trumpiausią. Tarkime ilgiausias yra “kompiuteris” (11 simbolių), o trumpiausias “medis” (5), skirtumas tarp jų 11 - 5 = 6 simboliai."
   ]
  },
  {
   "cell_type": "code",
   "execution_count": null,
   "metadata": {},
   "outputs": [],
   "source": [
    "# Kodą rašykite čia..."
   ]
  },
  {
   "attachments": {},
   "cell_type": "markdown",
   "metadata": {},
   "source": [
    "### Užduotis 12\n",
    "\n",
    "Susikurkite dviejų studentų pažymių sąrašus. Šią informaciją leiskite suvesti vartotojui. Raskite kurio studento vidurkis yra geresnis. Taip pat, ar kuris iš jų (ar abu) turi neigiamų pažymių."
   ]
  },
  {
   "cell_type": "code",
   "execution_count": null,
   "metadata": {},
   "outputs": [],
   "source": [
    "# Kodą rašykite čia..."
   ]
  },
  {
   "attachments": {},
   "cell_type": "markdown",
   "metadata": {},
   "source": [
    "### Užduotis 13\n",
    "\n",
    "Susikurkite skaičių masyvą ir užpildykite jį atsitiktiniais skaičiais. Raskite visų skaičių, kurie dalinasi iš 4 sumą."
   ]
  },
  {
   "cell_type": "code",
   "execution_count": null,
   "metadata": {},
   "outputs": [],
   "source": [
    "# Kodą rašykite čia..."
   ]
  },
  {
   "attachments": {},
   "cell_type": "markdown",
   "metadata": {},
   "source": [
    "### Užduotis 14\n",
    "\n",
    "Susikurkite skaičių masyvą ir užpildykite jį duomenimis. Išveskite visus skaičius atskirose eilutėse. Prie kiekvieno lyginio skaičiaus dar išvedant jo kvadratą."
   ]
  },
  {
   "cell_type": "code",
   "execution_count": null,
   "metadata": {},
   "outputs": [],
   "source": [
    "# Kodą rašykite čia..."
   ]
  },
  {
   "attachments": {},
   "cell_type": "markdown",
   "metadata": {},
   "source": [
    "### Užduotis 15\n",
    "\n",
    "Susikurkite studento pažymių sąrašą ir užpildykite jį duomenimis (atsitiktiniais arba kokius įrašysite). Išveskite kiekvieną pažymį atskiroje eilutėje. Prie kiekvieno pažymio nurodykite ar tai teigiamas, ar neigiamas pažymys. Taip pat, jeigu neigiamas pažymys, tuomet dar nurodykite kiek balų trūko iki teigiamo pažymio. Teigiamas pažymys skaitosi 5 balai."
   ]
  },
  {
   "cell_type": "code",
   "execution_count": null,
   "metadata": {},
   "outputs": [],
   "source": [
    "# Kodą rašykite čia..."
   ]
  },
  {
   "attachments": {},
   "cell_type": "markdown",
   "metadata": {},
   "source": [
    "### Užduotis 16\n",
    "\n",
    "Susikurkite žodžių sąrašą ir užpildykite duomenimis. Išveskite visus žodžius ekrane, nurodant iš kiek raidžių kiekvienas šis žodis yra sudarytas. Papildykite programą taip, kad rastumėte visų raidžių kiekį (pvz yra žodžiai \"medis\" ir \"alus\", 5 ir 4 raidės atitinkamai, o jas sudėjus gaunasi 9 raidės)."
   ]
  },
  {
   "cell_type": "code",
   "execution_count": null,
   "metadata": {},
   "outputs": [],
   "source": [
    "# Kodą rašykite čia..."
   ]
  },
  {
   "attachments": {},
   "cell_type": "markdown",
   "metadata": {},
   "source": [
    "### Užduotis 17\n",
    "\n",
    "Susikurkite skaičių sąrašą ir užpildykite duomenimis. Raskite visų skaičių, kurie dalinasi iš 3 sumą ir vidurkį. Išveskite pradinius duomenis ir gautus atsakymus."
   ]
  },
  {
   "cell_type": "code",
   "execution_count": null,
   "metadata": {},
   "outputs": [],
   "source": [
    "# Kodą rašykite čia..."
   ]
  },
  {
   "attachments": {},
   "cell_type": "markdown",
   "metadata": {},
   "source": [
    "### Užduotis 18\n",
    "\n",
    "Susikurkite sąrašą failų pavadinimams saugoti, užpildykite jį duomenimis. Įsivaizduokite kad jums reikės nuskaityti šiuos failus, todėl pirma norėsite patikrinti su kuriais galite dirbti. Atrinkite į atskirą sąrašą tik tuos failus, kurių galūnė yra .txt arba .json tipo. Išveskite atrinktus duomenis."
   ]
  },
  {
   "cell_type": "code",
   "execution_count": null,
   "metadata": {},
   "outputs": [],
   "source": [
    "# Kodą rašykite čia..."
   ]
  },
  {
   "attachments": {},
   "cell_type": "markdown",
   "metadata": {},
   "source": [
    "### Užduotis 19\n",
    "\n",
    "Susikurkite sąrašą įvykusių klaidų kodams saugoti ir užpildykite šį masyvą duomenimis. Tuomet išveskite visas sukauptas klaidas administratoriui, taip, kad jis suprastų kas per klaidos įvyko. Pavyzdžiui, jeigu yra kodas \"ui87\", tai kad išvestų \"Grafinės sąsajos klaida navigacijoje\", arba jeigu kodas \"sys12\", tuomet \"Trūksta operatyviosios atminties sistemoje\" ir pan."
   ]
  },
  {
   "cell_type": "code",
   "execution_count": null,
   "metadata": {},
   "outputs": [],
   "source": [
    "# Kodą rašykite čia..."
   ]
  },
  {
   "attachments": {},
   "cell_type": "markdown",
   "metadata": {},
   "source": [
    "### Užduotis 20\n",
    "\n",
    "Susikurkite sąrašą sandėlio likučiams saugoti (kiekvienas atskiras narys sąraše yra atskiros prekės likutis). Su kiekvienu likučiu paskaičiuokite per kiek dienų bus išpirktas, jei per dieną vidutiniškai yra nuperkami 5 vnt. Išveskite atsakymus atskirose eilutėse, nurodant kiek yra dabar ir kiek dienų užteks jo. Pavyzdžiui, jeigu yra likučiai 74, 54 ir 32, tai 74 vnt. prekės užteks maždaug 15 dienų, 54 vnt. prekės užteks maždaug 11 dienų ir t.t. Pabandykite papildyti programą taip, kad į atskirą sąrašą atrinktų tas prekes, kurių užteks savaitei ar mažiau, jas išveskite atskirai, pačioje pabaigoje."
   ]
  },
  {
   "cell_type": "code",
   "execution_count": null,
   "metadata": {},
   "outputs": [],
   "source": [
    "# Kodą rašykite čia..."
   ]
  },
  {
   "attachments": {},
   "cell_type": "markdown",
   "metadata": {},
   "source": [
    "### Užduotis 21\n",
    "\n",
    "Susikurkite sąrašą norimiems žodžiams saugoti. Užpildykite šį sąrašą duomenimis. Į kitą sąrašą atrinkite tuos žodžius, kurie yra trumpi (sudaro mažiau nei 5 raidės). Išveskite pradinius duomenis ir atrinktus."
   ]
  },
  {
   "cell_type": "code",
   "execution_count": null,
   "metadata": {},
   "outputs": [],
   "source": [
    "# Kodą rašykite čia..."
   ]
  }
 ],
 "metadata": {
  "kernelspec": {
   "display_name": "Python 3",
   "language": "python",
   "name": "python3"
  },
  "language_info": {
   "codemirror_mode": {
    "name": "ipython",
    "version": 3
   },
   "file_extension": ".py",
   "mimetype": "text/x-python",
   "name": "python",
   "nbconvert_exporter": "python",
   "pygments_lexer": "ipython3",
   "version": "3.7.9 (tags/v3.7.9:13c94747c7, Aug 17 2020, 18:58:18) [MSC v.1900 64 bit (AMD64)]"
  },
  "orig_nbformat": 4,
  "vscode": {
   "interpreter": {
    "hash": "aa11ca274996316222ef16f35c5f6dbeb467b694c0b2154cdf34dcf9271d5fd0"
   }
  }
 },
 "nbformat": 4,
 "nbformat_minor": 2
}
