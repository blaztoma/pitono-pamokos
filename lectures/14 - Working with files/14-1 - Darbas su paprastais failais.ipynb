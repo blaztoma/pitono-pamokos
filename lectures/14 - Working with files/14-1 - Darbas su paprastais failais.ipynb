{
 "cells": [
  {
   "attachments": {},
   "cell_type": "markdown",
   "metadata": {},
   "source": [
    "[![Open In Colab](https://colab.research.google.com/assets/colab-badge.svg)](https://colab.research.google.com/github/blaztoma/pitono-pamokos/blob/main/pamokos/14%20-%20Darbas%20su%20failais/14-1%20-%20Darbas%20su%20paprastais%20failais.ipynb)"
   ]
  },
  {
   "attachments": {},
   "cell_type": "markdown",
   "metadata": {},
   "source": [
    "# Darbas su paprastais failais"
   ]
  },
  {
   "attachments": {},
   "cell_type": "markdown",
   "metadata": {},
   "source": [
    "## Sintaksė\n",
    "\n",
    "Failo atidarymas:\n",
    "\n",
    "```\n",
    "open('failas.txt')\n",
    "```\n",
    "\n",
    "Failo nuskaitymas:\n",
    "\n",
    "```\n",
    ".read()\n",
    ".readline()\n",
    ".readlines()\n",
    "```\n",
    "\n",
    "Failo uždarymas:\n",
    "\n",
    "```\n",
    ".close()\n",
    "```\n",
    "\n",
    "Būsena ar failas uždarytas:\n",
    "\n",
    "```\n",
    ".closed\n",
    "```"
   ]
  },
  {
   "attachments": {},
   "cell_type": "markdown",
   "metadata": {},
   "source": [
    "## Pavyzdžiai"
   ]
  },
  {
   "cell_type": "code",
   "execution_count": 1,
   "metadata": {},
   "outputs": [
    {
     "name": "stdout",
     "output_type": "stream",
     "text": [
      "koks nors\n",
      "mano norimas\n",
      "tekstas\n",
      "per kelias\n",
      "eilutes\n"
     ]
    }
   ],
   "source": [
    "failas = open('./tekstas.txt')\n",
    "\n",
    "nuskaitytas_tekstas = failas.read()\n",
    "\n",
    "print(nuskaitytas_tekstas)\n",
    "\n",
    "failas.close()"
   ]
  },
  {
   "cell_type": "code",
   "execution_count": 2,
   "metadata": {},
   "outputs": [
    {
     "name": "stdout",
     "output_type": "stream",
     "text": [
      "koks nors\n",
      "\n"
     ]
    }
   ],
   "source": [
    "failas = open('./tekstas.txt')\n",
    "\n",
    "nuskaitytas_tekstas = failas.readline()\n",
    "\n",
    "print(nuskaitytas_tekstas)\n",
    "\n",
    "failas.close()"
   ]
  },
  {
   "cell_type": "code",
   "execution_count": 3,
   "metadata": {},
   "outputs": [
    {
     "name": "stdout",
     "output_type": "stream",
     "text": [
      "koks nors\n",
      "\n",
      "mano norimas\n",
      "\n"
     ]
    }
   ],
   "source": [
    "failas = open('./tekstas.txt')\n",
    "\n",
    "nuskaitytas_tekstas = failas.readline()\n",
    "print(nuskaitytas_tekstas)\n",
    "\n",
    "nuskaitytas_tekstas = failas.readline()\n",
    "print(nuskaitytas_tekstas)\n",
    "\n",
    "failas.close()"
   ]
  },
  {
   "cell_type": "code",
   "execution_count": 4,
   "metadata": {},
   "outputs": [
    {
     "name": "stdout",
     "output_type": "stream",
     "text": [
      "['koks nors\\n', 'mano norimas\\n', 'tekstas\\n', 'per kelias\\n', 'eilutes']\n"
     ]
    }
   ],
   "source": [
    "failas = open('./tekstas.txt')\n",
    "\n",
    "nuskaitytas_tekstas = failas.readlines()\n",
    "\n",
    "print(nuskaitytas_tekstas)\n",
    "\n",
    "failas.close()"
   ]
  },
  {
   "cell_type": "code",
   "execution_count": 5,
   "metadata": {},
   "outputs": [
    {
     "name": "stdout",
     "output_type": "stream",
     "text": [
      "['koks nors', 'mano norimas', 'tekstas', 'per kelias', 'eilutes']\n"
     ]
    }
   ],
   "source": [
    "failas = open('./tekstas.txt')\n",
    "\n",
    "nuskaitytas_tekstas = failas.read()\n",
    "isskaidytas_tekstas = nuskaitytas_tekstas.splitlines()\n",
    "\n",
    "print(isskaidytas_tekstas)\n",
    "\n",
    "failas.close()"
   ]
  },
  {
   "attachments": {},
   "cell_type": "markdown",
   "metadata": {},
   "source": [
    "## Sintaksė\n",
    "\n",
    "Failo atidarymas ir uždarymas su `with`:\n",
    "\n",
    "```\n",
    "with open('failas.txt') as failas:\n",
    "```"
   ]
  },
  {
   "cell_type": "code",
   "execution_count": 6,
   "metadata": {},
   "outputs": [
    {
     "name": "stdout",
     "output_type": "stream",
     "text": [
      "koks nors\n",
      "mano norimas\n",
      "tekstas\n",
      "per kelias\n",
      "eilutes\n"
     ]
    }
   ],
   "source": [
    "with open('./tekstas.txt') as failas:\n",
    "    tekstas = failas.read()\n",
    "    print(tekstas)"
   ]
  },
  {
   "cell_type": "code",
   "execution_count": 7,
   "metadata": {},
   "outputs": [
    {
     "name": "stdout",
     "output_type": "stream",
     "text": [
      "nuskaityta eilute: koks nors\n",
      "nuskaityta eilute: mano norimas\n",
      "nuskaityta eilute: tekstas\n",
      "nuskaityta eilute: per kelias\n",
      "nuskaityta eilute: eilutes\n",
      "['koks nors', 'mano norimas', 'tekstas', 'per kelias', 'eilutes']\n"
     ]
    }
   ],
   "source": [
    "eilutes = []\n",
    "\n",
    "with open('./tekstas.txt') as failas:\n",
    "    for eilute in failas:\n",
    "        eilute = eilute.rstrip('\\n')\n",
    "        print('nuskaityta eilute:', eilute)\n",
    "        eilutes.append(eilute)\n",
    "\n",
    "print(eilutes)"
   ]
  },
  {
   "cell_type": "code",
   "execution_count": 11,
   "metadata": {},
   "outputs": [
    {
     "name": "stdout",
     "output_type": "stream",
     "text": [
      "[{'vardas': 'Petras', 'pavarde': 'Petrauskas', 'amzius': 22, 'mokykla': 'KTU', 'vidurkis': 8.7}, {'vardas': 'Inga', 'pavarde': 'Ingauskienė', 'amzius': 23, 'mokykla': 'VDU', 'vidurkis': 8.9}, {'vardas': 'Ugnius', 'pavarde': 'Ugnavičius', 'amzius': 21, 'mokykla': 'KTU', 'vidurkis': 8.5}, {'vardas': 'Gintarė', 'pavarde': 'Gintarytė', 'amzius': 22, 'mokykla': 'VDU', 'vidurkis': 8.3}]\n"
     ]
    }
   ],
   "source": [
    "studentai = []\n",
    "\n",
    "with open('./studentai.txt', encoding=\"utf8\") as failas:\n",
    "    for eilute in failas:\n",
    "        eilute = eilute.rstrip('\\n')\n",
    "        isskaidyta = eilute.split(';')\n",
    "        studentas = dict(\n",
    "            vardas = isskaidyta[0],\n",
    "            pavarde = isskaidyta[1],\n",
    "            amzius = int(isskaidyta[2]),\n",
    "            # amzius = int(isskaidyta[2]) if isskaidyta[2] else 0,\n",
    "            mokykla = isskaidyta[3],\n",
    "            vidurkis = float(isskaidyta[4])\n",
    "        )\n",
    "        studentai.append(studentas)\n",
    "\n",
    "print(studentai)"
   ]
  },
  {
   "cell_type": "code",
   "execution_count": 14,
   "metadata": {},
   "outputs": [
    {
     "name": "stdout",
     "output_type": "stream",
     "text": [
      "{'vardas': 'Inga', 'pavarde': 'Ingauskienė', 'amzius': 23, 'mokykla': 'VDU', 'vidurkis': 8.9}\n",
      "Inga su amžiumi 23 yra vyriausias(-a)\n"
     ]
    }
   ],
   "source": [
    "# Vyriausias studentas v1\n",
    "\n",
    "vyriausias_studentas = studentai[0]\n",
    "\n",
    "for studentas in studentai:\n",
    "    if studentas['amzius'] > vyriausias_studentas['amzius']:\n",
    "        vyriausias_studentas = studentas\n",
    "\n",
    "print(vyriausias_studentas)\n",
    "# arba:\n",
    "print(vyriausias_studentas['vardas'], 'su amžiumi', vyriausias_studentas['amzius'], 'yra vyriausias(-a)')"
   ]
  },
  {
   "cell_type": "code",
   "execution_count": 15,
   "metadata": {},
   "outputs": [
    {
     "name": "stdout",
     "output_type": "stream",
     "text": [
      "{'vardas': 'Inga', 'pavarde': 'Ingauskienė', 'amzius': 23, 'mokykla': 'VDU', 'vidurkis': 8.9}\n"
     ]
    }
   ],
   "source": [
    "# Vyriausias studentas v2\n",
    "\n",
    "print(max(studentai, key=lambda studentas: studentas['amzius']))"
   ]
  },
  {
   "attachments": {},
   "cell_type": "markdown",
   "metadata": {},
   "source": [
    "## Užduotys"
   ]
  },
  {
   "attachments": {},
   "cell_type": "markdown",
   "metadata": {},
   "source": [
    "### Užduotis 1\n",
    "\n",
    "Susikurkite paprastą tekstinį failą su norimu tekstu. Nuskaitykite šį failą ir suskaičiuokite kiek šiame faile yra žodžių, kiek simbolių ir kiek atskirų eilučių."
   ]
  },
  {
   "cell_type": "code",
   "execution_count": null,
   "metadata": {},
   "outputs": [],
   "source": [
    "# Kodą rašykite čia..."
   ]
  },
  {
   "attachments": {},
   "cell_type": "markdown",
   "metadata": {},
   "source": [
    "### Užduotis 2\n",
    "\n",
    "Susikurkite tekstinį failą kuriame būtų ši informacija:\n",
    "\n",
    "```\n",
    "Audi;A4;2010;1.6\n",
    "Volvo;V60;2012;1.6\n",
    "Toyota;Prius;2011;1.2\n",
    "```\n",
    "\n",
    "Nuskaitykite šį failą. Kiekvieną eilutę susidėkite į žodyną (faile informacija pateikiama tokia: markė, modelis, metai, darbinis tūris), o tą žodyną įdėkite į bendrą automobilių sąrašą.\n",
    "\n",
    "Raskite kuris automobilis naujausias.\n",
    "\n",
    "Raskite metų vidurkį.\n",
    "\n",
    "Raskite kurio automobilio darbinis tūris mažiausias."
   ]
  },
  {
   "cell_type": "code",
   "execution_count": null,
   "metadata": {},
   "outputs": [],
   "source": [
    "# Kodą rašykite čia..."
   ]
  }
 ],
 "metadata": {
  "kernelspec": {
   "display_name": "Python 3",
   "language": "python",
   "name": "python3"
  },
  "language_info": {
   "codemirror_mode": {
    "name": "ipython",
    "version": 3
   },
   "file_extension": ".py",
   "mimetype": "text/x-python",
   "name": "python",
   "nbconvert_exporter": "python",
   "pygments_lexer": "ipython3",
   "version": "3.11.3 (tags/v3.11.3:f3909b8, Apr  4 2023, 23:49:59) [MSC v.1934 64 bit (AMD64)]"
  },
  "orig_nbformat": 4,
  "vscode": {
   "interpreter": {
    "hash": "c261aea317cc0286b3b3261fbba9abdec21eaa57589985bb7a274bf54d6cc0a7"
   }
  }
 },
 "nbformat": 4,
 "nbformat_minor": 2
}
