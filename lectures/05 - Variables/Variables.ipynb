{
  "cells": [
    {
      "attachments": {},
      "cell_type": "markdown",
      "metadata": {},
      "source": [
        "[![Open In Colab](https://colab.research.google.com/assets/colab-badge.svg)](https://colab.research.google.com/github/blaztoma/pitono-pamokos/blob/main/lectures/05%20-%20Variables/Variables.ipynb)"
      ]
    },
    {
      "cell_type": "markdown",
      "metadata": {
        "id": "joEKV-9mX_uS"
      },
      "source": [
        "# Variables"
      ]
    },
    {
      "cell_type": "markdown",
      "metadata": {
        "id": "DmtwV6EoYDkZ"
      },
      "source": [
        "Programming languages have a very convenient tool for reusing data. If we have data that needs to be remembered and used later, we can create a variable. We will store the value in it and use it when needed. In Python, we use the equals sign (`=`) to assign values to variables."
      ]
    },
    {
      "cell_type": "code",
      "execution_count": 1,
      "metadata": {
        "colab": {
          "base_uri": "https://localhost:8080/"
        },
        "id": "rpsbQXBaXRwj",
        "outputId": "3d371ea3-b735-4c3c-bbff-007a6206cc44"
      },
      "outputs": [
        {
          "name": "stdout",
          "output_type": "stream",
          "text": [
            "Text string\n"
          ]
        }
      ],
      "source": [
        "text = 'Text string'\n",
        "print(text)"
      ]
    },
    {
      "cell_type": "markdown",
      "metadata": {
        "id": "XuhBFDuPZ9aj"
      },
      "source": [
        "## Variable Creation Rules"
      ]
    },
    {
      "cell_type": "markdown",
      "metadata": {
        "id": "uAqfoRV7aC7o"
      },
      "source": [
        "1. To create a variable, we simply write the variable name directly. Python will determine the variable type based on its value.\n",
        "2. A variable name can consist of letters, numbers, and underscores (A-z, 0-9, _).\n",
        "3. A variable name can only start with a letter or underscore.\n",
        "4. According to Python programming style guidelines, variable names should start with a lowercase letter.\n",
        "5. According to Python programming style guidelines, separate words in variable names should be joined with underscores (e.g., `field_temperature`).\n",
        "6. Variable names are case-sensitive. Uppercase A and lowercase a are not the same, so the variable `name` and the variable `NAME` are not the same.\n",
        "7. When describing a value, remember to use or not use quotes, depending on what type of variable is being used."
      ]
    },
    {
      "cell_type": "markdown",
      "metadata": {
        "id": "yCj_9f0kba-s"
      },
      "source": [
        "# Data Types"
      ]
    },
    {
      "cell_type": "markdown",
      "metadata": {
        "id": "_VdfImm5be26"
      },
      "source": [
        "Data Type  | Keyword \n",
        "-------------------|------------------\n",
        "Text (text type) | `str`\n",
        "Numbers (numeric types) | `int`, `float`, `complex`\n",
        "Lists (sequence types) | `list`, `tuple`, `range`\n",
        "Dictionaries (mapping type) | `dict`\n",
        "Sets (set types) | `set`, `frozenset`\n",
        "Boolean | `bool`\n",
        "Binary (binary types) | `bytes`, `bytearray`, `memoryview`\n",
        "No type | `NoneType`"
      ]
    },
    {
      "cell_type": "markdown",
      "metadata": {
        "id": "UcVHYWy_diJ2"
      },
      "source": [
        "# Examples"
      ]
    },
    {
      "cell_type": "markdown",
      "metadata": {
        "id": "F-QZdEZNdmS4"
      },
      "source": [
        "To show Python that a variable is a string, we use single or double quotes:"
      ]
    },
    {
      "cell_type": "code",
      "execution_count": 3,
      "metadata": {
        "colab": {
          "base_uri": "https://localhost:8080/"
        },
        "id": "ylGX5Btid6Pp",
        "outputId": "e02e2f4b-882c-46d1-d5ec-b996bf207ef6"
      },
      "outputs": [
        {
          "name": "stdout",
          "output_type": "stream",
          "text": [
            "John\n",
            "Smith\n"
          ]
        }
      ],
      "source": [
        "first_name = 'John'\n",
        "last_name = \"Smith\"\n",
        "\n",
        "print(first_name)\n",
        "print(last_name)"
      ]
    },
    {
      "cell_type": "markdown",
      "metadata": {
        "id": "GTPPz1a6eCpf"
      },
      "source": [
        "Numbers must be written without quotes. This way Python will understand that the variable is of number type."
      ]
    },
    {
      "cell_type": "code",
      "execution_count": 5,
      "metadata": {
        "colab": {
          "base_uri": "https://localhost:8080/"
        },
        "id": "PkqOUMtEeOSL",
        "outputId": "319707d8-c11a-4239-d452-0757ef27400f"
      },
      "outputs": [
        {
          "name": "stdout",
          "output_type": "stream",
          "text": [
            "8\n",
            "4\n",
            "12\n"
          ]
        }
      ],
      "source": [
        "number_1 = 8\n",
        "number_2 = 4\n",
        "\n",
        "print(number_1)\n",
        "print(number_2)\n",
        "\n",
        "print(number_1 + number_2)"
      ]
    },
    {
      "cell_type": "markdown",
      "metadata": {
        "id": "10rVUNeSflBO"
      },
      "source": [
        "This example includes decimal numbers and None types."
      ]
    },
    {
      "cell_type": "code",
      "execution_count": 6,
      "metadata": {
        "colab": {
          "base_uri": "https://localhost:8080/"
        },
        "id": "uuGucylUfxAs",
        "outputId": "5049667c-f416-4f1c-a851-e54a74e1228f"
      },
      "outputs": [
        {
          "name": "stdout",
          "output_type": "stream",
          "text": [
            "Brand: Toyota\n",
            "Model: Camry\n",
            "Year: 2018\n",
            "Mileage, miles: 45000\n",
            "Engine size, L: 2.5\n",
            "Has inspection? False\n",
            "Owner: None\n"
          ]
        }
      ],
      "source": [
        "brand = 'Toyota'\n",
        "model = 'Camry'\n",
        "year = 2018\n",
        "mileage = 45000\n",
        "engine_size = 2.5\n",
        "has_inspection = False\n",
        "owner = None\n",
        "\n",
        "print('Brand:', brand)\n",
        "print('Model:', model)\n",
        "print('Year:', year)\n",
        "print('Mileage, miles:', mileage)\n",
        "print('Engine size, L:', engine_size)\n",
        "print('Has inspection?', has_inspection)\n",
        "print('Owner:', owner)"
      ]
    },
    {
      "cell_type": "markdown",
      "metadata": {
        "id": "dOB3akKyhQh7"
      },
      "source": [
        "If we want to see what types Python assigned to the variables, we use the `type()` function:"
      ]
    },
    {
      "cell_type": "code",
      "execution_count": 7,
      "metadata": {
        "colab": {
          "base_uri": "https://localhost:8080/"
        },
        "id": "V8b0vcEEhacc",
        "outputId": "6f82ae07-edb5-423b-b270-aaf4ce3c5e08"
      },
      "outputs": [
        {
          "name": "stdout",
          "output_type": "stream",
          "text": [
            "Toyota <class 'str'>\n",
            "Camry <class 'str'>\n",
            "2018 <class 'int'>\n",
            "45000 <class 'int'>\n",
            "2.5 <class 'float'>\n",
            "False <class 'bool'>\n",
            "None <class 'NoneType'>\n"
          ]
        }
      ],
      "source": [
        "brand = 'Toyota'\n",
        "model = 'Camry'\n",
        "year = 2018\n",
        "mileage = 45000\n",
        "engine_size = 2.5\n",
        "has_inspection = False\n",
        "owner = None\n",
        "\n",
        "print(brand, type(brand))\n",
        "print(model, type(model))\n",
        "print(year, type(year))\n",
        "print(mileage, type(mileage))\n",
        "print(engine_size, type(engine_size))\n",
        "print(has_inspection, type(has_inspection))\n",
        "print(owner, type(owner))"
      ]
    },
    {
      "cell_type": "markdown",
      "metadata": {
        "id": "cAFdT8BCiVCR"
      },
      "source": [
        "# Tasks"
      ]
    },
    {
      "cell_type": "markdown",
      "metadata": {
        "id": "o53g8eN8knYN"
      },
      "source": [
        "Complete the tasks below and evaluate the results yourself."
      ]
    },
    {
      "cell_type": "markdown",
      "metadata": {
        "id": "D2mpDLebih-g"
      },
      "source": [
        "## Task 1"
      ]
    },
    {
      "cell_type": "markdown",
      "metadata": {
        "id": "ZklhTwT9iZ2R"
      },
      "source": [
        "Create a variable to store your name. Output to the console the text \"My name is \" and the value of your variable."
      ]
    },
    {
      "cell_type": "code",
      "execution_count": null,
      "metadata": {
        "id": "d5K8Hm2JiYnl"
      },
      "outputs": [],
      "source": [
        "# Write your code here..."
      ]
    },
    {
      "cell_type": "markdown",
      "metadata": {
        "id": "98XYwnUKik-b"
      },
      "source": [
        "## Task 2"
      ]
    },
    {
      "cell_type": "markdown",
      "metadata": {
        "id": "nL6PRd1siwa0"
      },
      "source": [
        "Create variables to store a student's academic group and grade average. Output this information to the console in this format:\n",
        "```\n",
        "Academic group: CS-101\n",
        "Average: 8.5\n",
        "```"
      ]
    },
    {
      "cell_type": "code",
      "execution_count": null,
      "metadata": {
        "id": "MtIB53Y4jph_"
      },
      "outputs": [],
      "source": [
        "# Write your code here..."
      ]
    },
    {
      "cell_type": "markdown",
      "metadata": {
        "id": "ceLstTcSjCaG"
      },
      "source": [
        "## Task 3"
      ]
    },
    {
      "cell_type": "markdown",
      "metadata": {
        "id": "DJGMvlqpjGBn"
      },
      "source": [
        "Create a variable that stores the word \"Python!\". Now with Python's help, let's chant by outputting this word to the console three times: `Python! Python! Python!`."
      ]
    },
    {
      "cell_type": "code",
      "execution_count": null,
      "metadata": {
        "id": "2r1T2IeZjqNK"
      },
      "outputs": [],
      "source": [
        "# Write your code here..."
      ]
    },
    {
      "cell_type": "markdown",
      "metadata": {
        "id": "tw0Z4_MQjrxc"
      },
      "source": [
        "## Task 4"
      ]
    },
    {
      "cell_type": "markdown",
      "metadata": {
        "id": "n7BDeur0jvXS"
      },
      "source": [
        "Define and output (on separate lines) variables storing this information about a city:\n",
        "1. Name\n",
        "2. Country\n",
        "3. Founded date\n",
        "4. Latitude\n",
        "5. Longitude\n",
        "6. Area in sq. km\n",
        "7. Population (in thousands)"
      ]
    },
    {
      "cell_type": "code",
      "execution_count": 1,
      "metadata": {
        "id": "oYJ12D0HkbFb"
      },
      "outputs": [],
      "source": [
        "# Write your code here..."
      ]
    },
    {
      "attachments": {},
      "cell_type": "markdown",
      "metadata": {},
      "source": [
        "## Task 5\n",
        "\n",
        "Create a variable that stores any word. Output this word using one `print()` statement. The word should be output 5 times on the same line, separated by spaces."
      ]
    },
    {
      "cell_type": "code",
      "execution_count": null,
      "metadata": {},
      "outputs": [],
      "source": [
        "# Write your code here..."
      ]
    }
  ],
  "metadata": {
    "colab": {
      "provenance": []
    },
    "kernelspec": {
      "display_name": "Python 3",
      "language": "python",
      "name": "python3"
    },
    "language_info": {
      "codemirror_mode": {
        "name": "ipython",
        "version": 3
      },
      "file_extension": ".py",
      "mimetype": "text/x-python",
      "name": "python",
      "nbconvert_exporter": "python",
      "pygments_lexer": "ipython3",
      "version": "3.7.9 (tags/v3.7.9:13c94747c7, Aug 17 2020, 18:58:18) [MSC v.1900 64 bit (AMD64)]"
    },
    "vscode": {
      "interpreter": {
        "hash": "aa11ca274996316222ef16f35c5f6dbeb467b694c0b2154cdf34dcf9271d5fd0"
      }
    }
  },
  "nbformat": 4,
  "nbformat_minor": 0
}