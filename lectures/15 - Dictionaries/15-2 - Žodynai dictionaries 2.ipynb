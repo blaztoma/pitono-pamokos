{
 "cells": [
  {
   "attachments": {},
   "cell_type": "markdown",
   "metadata": {},
   "source": [
    "[![Open In Colab](https://colab.research.google.com/assets/colab-badge.svg)](https://colab.research.google.com/github/blaztoma/pitono-pamokos/blob/main/pamokos/15%20-%20%C5%BDodynai%20-%20Dictionaries/15-2%20-%20%C5%BDodynai%20dictionaries%202.ipynb)"
   ]
  },
  {
   "attachments": {},
   "cell_type": "markdown",
   "metadata": {},
   "source": [
    "# Žodynai (`dictionaries`) (2 dalis)"
   ]
  },
  {
   "attachments": {},
   "cell_type": "markdown",
   "metadata": {},
   "source": [
    "## Pavyzdžiai"
   ]
  },
  {
   "cell_type": "code",
   "execution_count": null,
   "metadata": {},
   "outputs": [],
   "source": [
    "zmogus = {\n",
    "    'vardas_pavarde': 'Jonas Jonaitis',\n",
    "    'amzius': 45,\n",
    "    'profesija': 'fūristas',\n",
    "    'ugis': 1.8,\n",
    "    'ar_turi_teises': True,\n",
    "}\n",
    "\n",
    "raktas = 'amzius'\n",
    "print(raktas, zmogus[raktas])"
   ]
  },
  {
   "cell_type": "code",
   "execution_count": null,
   "metadata": {},
   "outputs": [],
   "source": [
    "for raktas in zmogus:\n",
    "    print(raktas, ':', zmogus[raktas])"
   ]
  },
  {
   "cell_type": "code",
   "execution_count": null,
   "metadata": {},
   "outputs": [],
   "source": [
    "studentas = dict(\n",
    "    vardas = 'Tomas',\n",
    "    pavarde = 'Tomauskas',\n",
    "    amzius = 23,\n",
    "    ugis = 1.7,\n",
    "    pazymiai = [7, 7, 8, 7, 9, 8, 10, 9],\n",
    "    grupe = 'IFM-3/4'\n",
    ")\n",
    "\n",
    "for indeksas in studentas:\n",
    "    print(studentas[indeksas])"
   ]
  },
  {
   "cell_type": "code",
   "execution_count": null,
   "metadata": {},
   "outputs": [],
   "source": [
    "studentas = dict(\n",
    "    vardas = 'Tomas',\n",
    "    pavarde = 'Tomauskas',\n",
    "    amzius = 23,\n",
    "    ugis = 1.7,\n",
    "    pazymiai = [7, 7, 2, 3, 9, 8, 10, 9],\n",
    "    grupe = 'IFM-3/4'\n",
    ")\n",
    "\n",
    "for pazymys in studentas['pazymiai']:\n",
    "    if pazymys >= 5:\n",
    "        print(f'pažymys {pazymys} yra teigiamas')\n",
    "    else:\n",
    "        print(f'pažymys {pazymys} yra neigiamas')"
   ]
  },
  {
   "cell_type": "code",
   "execution_count": null,
   "metadata": {},
   "outputs": [],
   "source": [
    "studentas = dict(\n",
    "    vardas = 'Tomas',\n",
    "    pavarde = 'Tomauskas',\n",
    "    amzius = 23,\n",
    "    ugis = 1.7,\n",
    "    pazymiai = [7, 7, 2, 3, 9, 8, 10, 9],\n",
    "    grupe = 'IFM-3/4'\n",
    ")\n",
    "\n",
    "for raktas in studentas:\n",
    "    if raktas == 'vardas' or raktas == 'pazymiai':\n",
    "        print(raktas, studentas[raktas])"
   ]
  },
  {
   "cell_type": "code",
   "execution_count": null,
   "metadata": {},
   "outputs": [],
   "source": [
    "studentas = dict(\n",
    "    vardas = 'Tomas',\n",
    "    pavarde = 'Tomauskas',\n",
    "    amzius = 23,\n",
    "    ugis = 1.7,\n",
    "    pazymiai = [7, 7, 2, 3, 9, 8, 10, 9],\n",
    "    grupe = 'IFM-3/4'\n",
    ")\n",
    "\n",
    "print(studentas)"
   ]
  },
  {
   "cell_type": "code",
   "execution_count": null,
   "metadata": {},
   "outputs": [],
   "source": [
    "print(studentas.values())"
   ]
  },
  {
   "cell_type": "code",
   "execution_count": null,
   "metadata": {},
   "outputs": [],
   "source": [
    "print(studentas.keys())"
   ]
  },
  {
   "cell_type": "code",
   "execution_count": null,
   "metadata": {},
   "outputs": [],
   "source": [
    "print(studentas.items())"
   ]
  },
  {
   "cell_type": "code",
   "execution_count": null,
   "metadata": {},
   "outputs": [],
   "source": [
    "studentas = dict(\n",
    "    vardas = 'Tomas',\n",
    "    pavarde = 'Tomauskas',\n",
    "    amzius = 23,\n",
    "    ugis = 1.7,\n",
    "    pazymiai = [7, 7, 2, 3, 9, 8, 10, 9],\n",
    "    grupe = 'IFM-3/4'\n",
    ")\n",
    "\n",
    "for raktas in studentas:\n",
    "    print(raktas, studentas[raktas])"
   ]
  },
  {
   "cell_type": "code",
   "execution_count": null,
   "metadata": {},
   "outputs": [],
   "source": [
    "studentas = dict(\n",
    "    vardas = 'Tomas',\n",
    "    pavarde = 'Tomauskas',\n",
    "    amzius = 23,\n",
    "    ugis = 1.7,\n",
    "    pazymiai = [7, 7, 2, 3, 9, 8, 10, 9],\n",
    "    grupe = 'IFM-3/4'\n",
    ")\n",
    "\n",
    "for raktas in studentas.keys():\n",
    "    print(raktas, studentas[raktas])"
   ]
  },
  {
   "cell_type": "code",
   "execution_count": null,
   "metadata": {},
   "outputs": [],
   "source": [
    "studentas = dict(\n",
    "    vardas = 'Tomas',\n",
    "    pavarde = 'Tomauskas',\n",
    "    amzius = 23,\n",
    "    ugis = 1.7,\n",
    "    pazymiai = [7, 7, 2, 3, 9, 8, 10, 9],\n",
    "    grupe = 'IFM-3/4'\n",
    ")\n",
    "\n",
    "for reiksme in studentas.values():\n",
    "    print(reiksme)"
   ]
  },
  {
   "cell_type": "code",
   "execution_count": null,
   "metadata": {},
   "outputs": [],
   "source": [
    "studentas = dict(\n",
    "    vardas = 'Tomas',\n",
    "    pavarde = 'Tomauskas',\n",
    "    amzius = 23,\n",
    "    ugis = 1.7,\n",
    "    pazymiai = [7, 7, 2, 3, 9, 8, 10, 9],\n",
    "    grupe = 'IFM-3/4'\n",
    ")\n",
    "\n",
    "for raktas, reiksme in studentas.items():\n",
    "    print(f'raktas {raktas} turi reikšmę {reiksme}')"
   ]
  },
  {
   "cell_type": "code",
   "execution_count": null,
   "metadata": {},
   "outputs": [],
   "source": [
    "darbuotojas = {\n",
    "    'vardas': 'Petras',\n",
    "    'pavarde': 'Petrauskas',\n",
    "    'amzius': 25\n",
    "}"
   ]
  },
  {
   "cell_type": "code",
   "execution_count": null,
   "metadata": {},
   "outputs": [],
   "source": [
    "print(darbuotojas['telefonas']) # klaida!"
   ]
  },
  {
   "cell_type": "code",
   "execution_count": null,
   "metadata": {},
   "outputs": [],
   "source": [
    "print(darbuotojas.get('telefonas')) # None"
   ]
  },
  {
   "cell_type": "code",
   "execution_count": null,
   "metadata": {},
   "outputs": [],
   "source": [
    "darbuotojas = {\n",
    "    'vardas': 'Petras',\n",
    "    'pavarde': 'Petrauskas',\n",
    "    'amzius': 25\n",
    "}\n",
    "\n",
    "print('vardas' in darbuotojas)\n",
    "print('telefonas' in darbuotojas)"
   ]
  },
  {
   "cell_type": "code",
   "execution_count": null,
   "metadata": {},
   "outputs": [],
   "source": [
    "darbuotojas = {\n",
    "    'vardas': 'Petras',\n",
    "    'pavarde': 'Petrauskas',\n",
    "    'amzius': 25\n",
    "}\n",
    "\n",
    "if 'telefonas' in darbuotojas:\n",
    "    print('telefonas:', darbuotojas['telefonas'])\n",
    "else:\n",
    "    print('nėra nurodytas telefono numeris')"
   ]
  },
  {
   "cell_type": "code",
   "execution_count": null,
   "metadata": {},
   "outputs": [],
   "source": [
    "darbuotojas = {\n",
    "    'vardas': 'Petras',\n",
    "    'pavarde': 'Petrauskas',\n",
    "    'amzius': 25\n",
    "}\n",
    "\n",
    "print('Petras' in darbuotojas)\n",
    "print('Petras' in darbuotojas.values())\n",
    "print()\n",
    "\n",
    "print('vardas' in darbuotojas.keys())\n",
    "print('vardas' in darbuotojas)"
   ]
  },
  {
   "cell_type": "code",
   "execution_count": null,
   "metadata": {},
   "outputs": [],
   "source": [
    "studentas = {\n",
    "    'vardas': 'Tomas',\n",
    "    'pavarde': 'Tomauskas',\n",
    "    'amzius': 23,\n",
    "    'ugis': 1.7,\n",
    "    'pazymiai': [7, 7, 8, 7, 9, 8, 10, 9],\n",
    "    'grupe': 'IFM-3/4'\n",
    "}\n",
    "\n",
    "paz_suma = 0\n",
    "\n",
    "for paz in studentas['pazymiai']:\n",
    "    paz_suma += paz\n",
    "\n",
    "vidurkis = paz_suma / len(studentas['pazymiai'])\n",
    "print('pažymiai', studentas['pazymiai'])\n",
    "print('pažymių vidurkis', vidurkis)"
   ]
  },
  {
   "cell_type": "code",
   "execution_count": null,
   "metadata": {},
   "outputs": [],
   "source": [
    "studentas = {\n",
    "    'vardas': 'Tomas',\n",
    "    'pavarde': 'Tomauskas',\n",
    "    'amzius': 23,\n",
    "    'ugis': 1.7,\n",
    "    'pazymiai': [7, 7, 8, 7, 9, 8, 10, 9],\n",
    "    'grupe': 'IFM-3/4'\n",
    "}\n",
    "\n",
    "vidurkis = sum(studentas['pazymiai']) / len(studentas['pazymiai'])\n",
    "print('pazymiai', studentas['pazymiai'])\n",
    "print('pazymiu vidurkis', vidurkis)"
   ]
  },
  {
   "cell_type": "code",
   "execution_count": null,
   "metadata": {},
   "outputs": [],
   "source": [
    "paaukojimai = dict(\n",
    "    sam=25.0,\n",
    "    lena=88.99,\n",
    "    chuck=13.0,\n",
    "    linus=99.5,\n",
    "    stan=150.0,\n",
    "    lisa=50.25,\n",
    "    harrison=10.0\n",
    ")\n",
    "\n",
    "viso_paaukojimu = 0\n",
    "\n",
    "for paaukojimas in paaukojimai.values():\n",
    "    viso_paaukojimu += paaukojimas\n",
    "\n",
    "print(viso_paaukojimu)"
   ]
  },
  {
   "cell_type": "code",
   "execution_count": null,
   "metadata": {},
   "outputs": [],
   "source": [
    "paaukojimai = dict(\n",
    "    sam=25.0,\n",
    "    lena=88.99,\n",
    "    chuck=13.0,\n",
    "    linus=99.5,\n",
    "    stan=150.0,\n",
    "    lisa=50.25,\n",
    "    harrison=10.0\n",
    ")\n",
    "\n",
    "viso_paaukojimu1 = sum(paaukojimas for paaukojimas in paaukojimai.values())\n",
    "print(viso_paaukojimu1)\n",
    "\n",
    "viso_paaukojimu2 = sum(paaukojimai.values())\n",
    "print(viso_paaukojimu2)"
   ]
  },
  {
   "cell_type": "code",
   "execution_count": null,
   "metadata": {},
   "outputs": [],
   "source": [
    "preke = {\n",
    "    'pavadinimas': 'pieštukas',\n",
    "    'kodas': 'ASFSDG458485',\n",
    "    'kaina': 2.99,\n",
    "    'kiekis_sandelyje': 451\n",
    "}\n",
    "\n",
    "print('prekė:', preke, '\\n')\n",
    "print('pardavus prekę galėtume uždirbti:',\n",
    "    (preke['kaina'] * preke['kiekis_sandelyje']))"
   ]
  },
  {
   "attachments": {},
   "cell_type": "markdown",
   "metadata": {},
   "source": [
    "## Užduotys"
   ]
  },
  {
   "attachments": {},
   "cell_type": "markdown",
   "metadata": {},
   "source": [
    "### Užduotis 1\n",
    "\n",
    "Susikurkite žodyną informacijai apie knygyną saugoti. Į šį žodyną sudėkite tokias savybes su reikšmėmis: pavadinimas, adresas, plotas (kv. m.), kiek turi knygų, darbo valandos, ar atidarytas. Išveskite šio knygyno žodyno raktus su reikšmėmis."
   ]
  },
  {
   "cell_type": "code",
   "execution_count": null,
   "metadata": {},
   "outputs": [],
   "source": [
    "# Kodą rašykite čia..."
   ]
  },
  {
   "attachments": {},
   "cell_type": "markdown",
   "metadata": {},
   "source": [
    "### Užduotis 2\n",
    "\n",
    "Susikurkite du žodynus, dviejų studentų informacijai saugoti. Abiejuose žodynuose sudėkite šias savybes su reikšmėmis: vardas ir pavardė, studijų programos pavadinimas, pažymiai. Raskite abiejų studentų pažymių vidurkius. Išveskite abiejų studentų informaciją, bei pažymių vidurkius. Raskite ir išveskite, kurio studento pažymių vidurkis yra didesnis ir išveskite jo vardą su pavarde."
   ]
  },
  {
   "cell_type": "code",
   "execution_count": null,
   "metadata": {},
   "outputs": [],
   "source": [
    "# Kodą rašykite čia..."
   ]
  },
  {
   "attachments": {},
   "cell_type": "markdown",
   "metadata": {},
   "source": [
    "### Užduotis 3\n",
    "\n",
    "Susikurkite žodyną, kuriame būtų nurodytos prekės ir turimi kiekiai, t.y. raktas yra prekės pavadinimas ir reikšmė yra turimas prekės kiekis, o visa tai saugoma viename žodyne (panašu į prisegtą pavyzdį, kurį jau nagrinėjome). Išveskite visą turimą žodyno informaciją gražiai suformatuotai, pvz: '- Prekės \"Pieštukas\" liko 132 vnt.' ir tai padaryti atskirose eilutėse. Taip pat, raskite ir išveskite visų prekių bendrą turimą kiekį (sudėti visus turimus kiekius), kiekių vidurkį (kiek vidutiniškai turima prekių). O tos prekės kurios likę mažiausiai vienetų išvesti pavadinimą ir kiekį."
   ]
  },
  {
   "cell_type": "code",
   "execution_count": null,
   "metadata": {},
   "outputs": [],
   "source": [
    "# paaukojimai = dict(\n",
    "#     sam=25.0,\n",
    "#     lena=88.99,\n",
    "#     chuck=13.0,\n",
    "#     linus=99.5,\n",
    "#     stan=150.0,\n",
    "#     lisa=50.25,\n",
    "#     harrison=10.0\n",
    "# )\n",
    "\n",
    "# viso_paaukojimu = 0\n",
    "\n",
    "# for paaukojimas in paaukojimai.values():\n",
    "#     viso_paaukojimu += paaukojimas\n",
    "\n",
    "# print(viso_paaukojimu)\n",
    "\n",
    "# Kodą rašykite čia..."
   ]
  },
  {
   "attachments": {},
   "cell_type": "markdown",
   "metadata": {},
   "source": [
    "### Užduotis 4\n",
    "\n",
    "Susikurkite žodyną darbuotojo informacijai saugoti. Nurodykite tokias savybes: vardas ir pavardė, telefonas, profesija, etatas, atlyginimas. Taip pat, sukurkite dar vieną darbuotojo žodyną, tačiau nenurodykite 1-os ar 2-ų savybių, pvz, jame bus viskas išskyrus profesiją. Parašykite tokią programą, kuri galėtų išsiaiškinti kurios(-ių) savybių nėra antrame žodyne, kurios yra pirmame, pvz jeigu nėra profesijos, tai programa išsiaiškintų, kad nėra nurodyta profesija antrame žodyne. Padarykite taip, kad vartotojas turėtų galimybę suvesti trūkstamas savybes."
   ]
  },
  {
   "cell_type": "code",
   "execution_count": null,
   "metadata": {},
   "outputs": [],
   "source": [
    "# Kodą rašykite čia..."
   ]
  },
  {
   "attachments": {},
   "cell_type": "markdown",
   "metadata": {},
   "source": [
    "### Užduotis 5\n",
    "\n",
    "Kaimynystėje yra trys kepyklos, apie kiekvieną yra žinoma ši informacija: pavadinimas; darbuotojų kiekis; adresas; praeitos savaitės iškeptų kepinių kiekiai (sąrašas su 7-iais elementais, kur nurodyti atskiri kepinių kiekiai). Susikurkite žodynus kiekvienai kepyklai. Jeigu vienas kepinys parduodamas už 1.5 euro, raskite kuri kepykla galėjo būti pelningiausia. Taip pat, išsiaiškinkite kiek vidutiniškai kiekviena kepykla per dieną pagamina kepinių, raskite kurios kepyklos vidurkis mažiausias."
   ]
  },
  {
   "cell_type": "code",
   "execution_count": null,
   "metadata": {},
   "outputs": [],
   "source": [
    "# Kodą rašykite čia..."
   ]
  }
 ],
 "metadata": {
  "kernelspec": {
   "display_name": "Python 3",
   "language": "python",
   "name": "python3"
  },
  "language_info": {
   "codemirror_mode": {
    "name": "ipython",
    "version": 3
   },
   "file_extension": ".py",
   "mimetype": "text/x-python",
   "name": "python",
   "nbconvert_exporter": "python",
   "pygments_lexer": "ipython3",
   "version": "3.7.9 (tags/v3.7.9:13c94747c7, Aug 17 2020, 18:58:18) [MSC v.1900 64 bit (AMD64)]"
  },
  "orig_nbformat": 4,
  "vscode": {
   "interpreter": {
    "hash": "aa11ca274996316222ef16f35c5f6dbeb467b694c0b2154cdf34dcf9271d5fd0"
   }
  }
 },
 "nbformat": 4,
 "nbformat_minor": 2
}
