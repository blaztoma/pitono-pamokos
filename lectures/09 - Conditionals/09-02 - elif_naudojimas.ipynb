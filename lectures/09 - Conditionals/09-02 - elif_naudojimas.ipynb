{
  "cells": [
    {
      "attachments": {},
      "cell_type": "markdown",
      "metadata": {},
      "source": [
        "[![Open In Colab](https://colab.research.google.com/assets/colab-badge.svg)](https://colab.research.google.com/github/blaztoma/pitono-pamokos/blob/main/pamokos/09%20-%20Patikrinimo%20salygos/09-02%20-%20elif_naudojimas.ipynb)"
      ]
    },
    {
      "attachments": {},
      "cell_type": "markdown",
      "metadata": {
        "id": "1Uat8VFQ6YCk"
      },
      "source": [
        "# elif / else if naudojimas"
      ]
    },
    {
      "attachments": {},
      "cell_type": "markdown",
      "metadata": {
        "id": "cJ74_0Pk6eRE"
      },
      "source": [
        "## elif / else if ypatybės\n",
        "\n",
        "- Naudojant tik if dalį tikriausiai pastebėjote, kad tikrinate tik vieną sąlygą. `elif` / `else if` leidžia tikrinti kelias sąlygas (vieną po kitos). Pavyzdžiui:\n",
        "  - Ar skaičius teigiamas? Jei ne - tolesnis tikrinimas: o gal skaičius neigiamas?\n",
        "  - Ar vartotojui yra 18 metų? Jei ne - tolesnis tikrinimas: o gal vartotojui yra 16 metų? Jei ne - sekantis tikrinimas - o gal vartotojui mažiau nei 16?\n",
        "- Galima naudoti tiek `elif` blokų kiek tik reikia.\n",
        "- Kiekviena `elif` dalis atsakinga už naujos sąlygos apdorojimą.\n",
        "- Jei įvertinant skirtingas sąlygas yra randama teisinga, tuomet bloke esantis kodas yra įvykdomas ir tolesnės sąlygos nebetikrinamos. T.y. yra vykdoma tik pirma rasta teisinga sąlyga."
      ]
    },
    {
      "attachments": {},
      "cell_type": "markdown",
      "metadata": {
        "id": "cRFDKqXs7hNg"
      },
      "source": [
        "## elif /else if sintaksė"
      ]
    },
    {
      "attachments": {},
      "cell_type": "markdown",
      "metadata": {},
      "source": [
        "```\n",
        "if salyga_1:\n",
        "\t# šio bloko kodas vykdomas jeigu salyga_1 reikšmė yra True\n",
        "elif salyga_2:\n",
        "\t# šio bloko kodas vykdomas jeigu salyga_2 reikšmė yra True\n",
        "elif salyga_3:\n",
        "\t# šio bloko kodas vykdomas jeigu salyga_3 reikšmė yra True\n",
        "```"
      ]
    },
    {
      "attachments": {},
      "cell_type": "markdown",
      "metadata": {
        "id": "SfzbxPMs8hDz"
      },
      "source": [
        "## Pavyzdžiai"
      ]
    },
    {
      "attachments": {},
      "cell_type": "markdown",
      "metadata": {},
      "source": [
        "### Skaičių palyginimas"
      ]
    },
    {
      "cell_type": "code",
      "execution_count": 1,
      "metadata": {},
      "outputs": [
        {
          "name": "stdout",
          "output_type": "stream",
          "text": [
            "suveike 7 > 3\n"
          ]
        }
      ],
      "source": [
        "if 5 > 8:\n",
        "    print('suveike 5 > 8')\n",
        "elif 7 > 3:\n",
        "    print('suveike 7 > 3')\n",
        "elif 1 == 1:\n",
        "    print('suveike 1 == 1')"
      ]
    },
    {
      "attachments": {},
      "cell_type": "markdown",
      "metadata": {
        "id": "ystcP1q_8k2t"
      },
      "source": [
        "### Dviejų skaičių palyginimas"
      ]
    },
    {
      "cell_type": "code",
      "execution_count": 2,
      "metadata": {
        "colab": {
          "base_uri": "https://localhost:8080/"
        },
        "id": "zsxTrAc-8sDU",
        "outputId": "ab7d99c9-b870-47a6-f2e7-b374a6b1b5c4"
      },
      "outputs": [
        {
          "name": "stdout",
          "output_type": "stream",
          "text": [
            "Įveskite 1 skaičių: 2\n",
            "Įveskite 2 skaičių: 2\n",
            "Skaičius 1 lygus skaičiui 2.\n"
          ]
        }
      ],
      "source": [
        "skaicius_1 = int(input(\"Įveskite 1 skaičių: \"))\n",
        "skaicius_2 = int(input(\"Įveskite 2 skaičių: \"))\n",
        "\n",
        "if skaicius_1 > skaicius_2:\n",
        "  print(\"Skaičius 1 yra didesnis už skaičių 2.\")\n",
        "elif skaicius_1 < skaicius_2:\n",
        "  print(\"Skaičius 1 yra mažesnis už skaičių 2.\")\n",
        "elif skaicius_1 == skaicius_2:\n",
        "  print(\"Skaičius 1 lygus skaičiui 2.\")"
      ]
    },
    {
      "attachments": {},
      "cell_type": "markdown",
      "metadata": {
        "id": "S3v4TtN29mAO"
      },
      "source": [
        "### Meniu pasirinkimas"
      ]
    },
    {
      "cell_type": "code",
      "execution_count": 3,
      "metadata": {
        "colab": {
          "base_uri": "https://localhost:8080/"
        },
        "id": "rm5NlBe-9o0Y",
        "outputId": "b3f3f92b-ecb6-4931-d415-b2cff04f3918"
      },
      "outputs": [
        {
          "name": "stdout",
          "output_type": "stream",
          "text": [
            "1. Žaisti\n",
            "2. Lyderiai\n",
            "3. Nustatymai\n",
            "4. Išeiti\n",
            "Iveskite meniu (1-4): 1\n",
            "Pasiruoškite stipriai žaisti!\n"
          ]
        }
      ],
      "source": [
        "print(\"1. Žaisti\")\n",
        "print(\"2. Lyderiai\")\n",
        "print(\"3. Nustatymai\")\n",
        "print(\"4. Išeiti\")\n",
        "\n",
        "pasirinkimas = int( input('Iveskite meniu (1-4): ') )\n",
        "\n",
        "if pasirinkimas == 1:\n",
        "    print('Pasiruoškite stipriai žaisti!')\n",
        "elif pasirinkimas == 2:\n",
        "    print('Toliau pateiksime lyderių lentelę...')\n",
        "elif pasirinkimas == 3:\n",
        "    print('Nustatykite grafikos ir garso nustatymus...')\n",
        "elif pasirinkimas == 4:\n",
        "    print('Programa išjungiama...')"
      ]
    },
    {
      "attachments": {},
      "cell_type": "markdown",
      "metadata": {
        "id": "9NAIVlxH-k_V"
      },
      "source": [
        "### Intervalo suradimas"
      ]
    },
    {
      "cell_type": "code",
      "execution_count": 2,
      "metadata": {
        "id": "a8fi9IRW-qLD"
      },
      "outputs": [
        {
          "name": "stdout",
          "output_type": "stream",
          "text": [
            "Jūs esate puikus žaidėjas\n"
          ]
        }
      ],
      "source": [
        "taskai = 40\n",
        "\n",
        "if taskai >= 50:\n",
        "    print('Jūs esate genijus!')\n",
        "elif taskai >= 30:\n",
        "    print('Jūs esate puikus žaidėjas')\n",
        "elif taskai >= 10:\n",
        "    print('Jūs esate geras žaidėjas')\n",
        "elif taskai < 5:\n",
        "    print('Jūs esate pradedantysis žaidėjas')"
      ]
    },
    {
      "attachments": {},
      "cell_type": "markdown",
      "metadata": {},
      "source": [
        "### VIP įėjimas ar bilietas?"
      ]
    },
    {
      "cell_type": "code",
      "execution_count": 1,
      "metadata": {},
      "outputs": [
        {
          "name": "stdout",
          "output_type": "stream",
          "text": [
            "vip iejimas\n"
          ]
        }
      ],
      "source": [
        "pinigai = 10\n",
        "vip = True\n",
        "\n",
        "if vip: # galima ir vip == True\n",
        "    print('Jūs turite VIP ir galite įeiti.')\n",
        "elif pinigai > 5:\n",
        "    print('Galite nusipirkti bilietą')"
      ]
    },
    {
      "attachments": {},
      "cell_type": "markdown",
      "metadata": {},
      "source": [
        "### Teksto palyginimai"
      ]
    },
    {
      "cell_type": "code",
      "execution_count": 4,
      "metadata": {
        "colab": {
          "base_uri": "https://localhost:8080/"
        },
        "id": "OLERv_zD_Nyt",
        "outputId": "b27d443f-2daf-49e7-c5b6-6321d41f015d"
      },
      "outputs": [
        {
          "name": "stdout",
          "output_type": "stream",
          "text": [
            "Jūsų teisės apribotos komentarų moderavimu.\n"
          ]
        }
      ],
      "source": [
        "role = 'moderatorius'\n",
        "\n",
        "if role == 'adminas':\n",
        "    print('Jums suteiktos visos sistemos galimybės.')\n",
        "elif role == 'moderatorius':\n",
        "    print('Jūsų teisės apribotos komentarų moderavimu.')\n",
        "elif role == 'naudotojoas':\n",
        "    print('Jūs negalite tvarkyti inklalapio.')"
      ]
    },
    {
      "cell_type": "code",
      "execution_count": 2,
      "metadata": {},
      "outputs": [
        {
          "name": "stdout",
          "output_type": "stream",
          "text": [
            "Jonas is pirmos didziosios\n"
          ]
        }
      ],
      "source": [
        "vardas = 'Jonas'\n",
        "\n",
        "if vardas == 'jonas':\n",
        "    print('jonas iš mažųjų raidžių.')\n",
        "elif vardas == 'Jonas':\n",
        "    print('Jonas iš didžiosios raidės.')\n",
        "elif vardas == 'JONAS':\n",
        "    print('JONAS, visos didžiosios raidės.')"
      ]
    },
    {
      "cell_type": "code",
      "execution_count": 3,
      "metadata": {},
      "outputs": [
        {
          "name": "stdout",
          "output_type": "stream",
          "text": [
            "vardas Petras prasideda su Pe\n"
          ]
        }
      ],
      "source": [
        "vardas = 'Petras'\n",
        "\n",
        "if 'ABC' in vardas:\n",
        "    print('Varde', vardas, 'yra ABC raidės.')\n",
        "elif vardas.startswith('Pe'):\n",
        "    print('Vardas', vardas, 'prasideda Pe...')\n",
        "elif vardas.endswith('as'):\n",
        "    print('Vardas', vardas, 'baigiasi -as.')"
      ]
    },
    {
      "cell_type": "code",
      "execution_count": 4,
      "metadata": {},
      "outputs": [
        {
          "name": "stdout",
          "output_type": "stream",
          "text": [
            "radome, case insensitive\n"
          ]
        }
      ],
      "source": [
        "paieskos_fraze = 'SlaPtas'\n",
        "\n",
        "if paieskos_fraze == 'slaptas':\n",
        "    print('Radome, case sensitive.')\n",
        "elif paieskos_fraze.lower() == 'slaptas':\n",
        "    print('Radome, case insensitive.')\n",
        "elif paieskos_fraze.lower() != 'slaptas':\n",
        "    print('Neradome.')"
      ]
    },
    {
      "attachments": {},
      "cell_type": "markdown",
      "metadata": {
        "id": "8gkVnc2_ABOO"
      },
      "source": [
        "## Užduotys"
      ]
    },
    {
      "attachments": {},
      "cell_type": "markdown",
      "metadata": {},
      "source": [
        "### Užduotis 1\n",
        "\n",
        "Susikurkite kintamąjį skaičiui saugoti, kintamajam priskirkite bet kokią norimą reikšmę. Suraskite ar tas skaičius yra lyginis ar nelyginis."
      ]
    },
    {
      "cell_type": "code",
      "execution_count": 3,
      "metadata": {},
      "outputs": [],
      "source": [
        "# Kodą rašykite čia..."
      ]
    },
    {
      "attachments": {},
      "cell_type": "markdown",
      "metadata": {},
      "source": [
        "### Užduotis 2\n",
        "\n",
        "Susikurkite kintamąjį teksto saugojimui, kintamajam įveskite priskirkite bet kokį norimą žodį. Patikrinkite ir išveskite pirmą teisingą atsakymą iš šių:\n",
        "\n",
        "- Žodis prasideda raide `A`.\n",
        "- Žodis pasibaigia tekstu `as`.\n",
        "- Kur nors žodyje yra raidė `t`."
      ]
    },
    {
      "cell_type": "code",
      "execution_count": 4,
      "metadata": {},
      "outputs": [],
      "source": [
        "# Kodą rašykite čia..."
      ]
    },
    {
      "attachments": {},
      "cell_type": "markdown",
      "metadata": {
        "id": "oWi_GJEcAD80"
      },
      "source": [
        "### Užduotis 3\n",
        "\n",
        "Studentas turi įvesti egzamino rezultatą (`0-10`).\n",
        "\n",
        "Panaudokite `elif` ir išveskite atitinkamą tekstą:\n",
        "\n",
        "- Jei pažymys yra lygus 10, išvesti \"puiku\".\n",
        "- Jei pažymys yra lygus arba didesnis nei 9, išvesti \"labai gerai\".\n",
        "- Jei pažymys yra lygus arba didesnis nei 7, išvesti \"gerai\".\n",
        "- Jei pažymys yra lygus arba didesnis nei 5, išvesti \"patenkinamai\".\n",
        "- Jei pažymys mažesnis nei 5 išvesti \"egzaminas neišlaikytas\"."
      ]
    },
    {
      "cell_type": "code",
      "execution_count": null,
      "metadata": {
        "id": "5DwRWhd0AbM3"
      },
      "outputs": [],
      "source": [
        "# Čia rašykite kodą"
      ]
    },
    {
      "attachments": {},
      "cell_type": "markdown",
      "metadata": {},
      "source": [
        "### Užduotis 4\n",
        "\n",
        "Jums yra duotas kintamasis `tekstas` bei ieškomas žodis `paieska`. Patikrinkite ar kur nors tekste yra ieškoma frazė (kreipiant dėmesį į didžiąsias / mažąsias raides). Jeigu nėra, gal paieškos žodį aptiktume nekreipiant dėmesio į didžiąsias / mažąsias raides?"
      ]
    },
    {
      "cell_type": "code",
      "execution_count": null,
      "metadata": {},
      "outputs": [],
      "source": [
        "tekstas = 'Mano batai buvo du. Vienas dingo nerandu...'\n",
        "paieska = 'vienas'\n",
        "\n",
        "# Kodą rašykite čia..."
      ]
    },
    {
      "attachments": {},
      "cell_type": "markdown",
      "metadata": {
        "id": "-r5KUeH5BqhK"
      },
      "source": [
        "### Užduotis 5\n",
        "\n",
        "Konsolėje įvedamas perkamas produktas, kuris gali būti **vaisius**, **daržovė**, **žuvis** arba **mėsa**. Galimi variantai: `šašlykas`, `skumbrė`, `obuolys`, `bulvė` ir t.t. Programa turi nustatyti ir išvesti produkto tipą."
      ]
    },
    {
      "cell_type": "code",
      "execution_count": null,
      "metadata": {
        "id": "X499fnxfCdaY"
      },
      "outputs": [],
      "source": [
        "# Čia rašykite kodą"
      ]
    },
    {
      "attachments": {},
      "cell_type": "markdown",
      "metadata": {
        "id": "Un64cV_KCkOV"
      },
      "source": [
        "### Užduotis 6\n",
        "\n",
        "Naudotojas turi įvesti savo prisijungimo slaptažodį. Jei slaptažodis yra `slaptas_1`, tuomet naudotojo rolė yra `autorius`. Jei slaptažodis yra `slaptas_2`, tuomet naudotojo rolė yra `moderatorius`. \n",
        "\n",
        "Parašykite programą, kuri nustatytų ir atspausdintų `Jūs galite redaguoti`, jei rolė yra `autorius`. Jeigu rolė yra `moderatorius`, programa turi atspausdinti `Kreipkitės į autorių`. Jeigu slaptažodis nerastas, programa turi atspausdinti `Prisijungti nepavyko`."
      ]
    },
    {
      "cell_type": "code",
      "execution_count": null,
      "metadata": {
        "id": "WCPERzfFEk3K"
      },
      "outputs": [],
      "source": [
        "# Čia rašykite kodą"
      ]
    }
  ],
  "metadata": {
    "colab": {
      "provenance": []
    },
    "kernelspec": {
      "display_name": "Python 3",
      "language": "python",
      "name": "python3"
    },
    "language_info": {
      "codemirror_mode": {
        "name": "ipython",
        "version": 3
      },
      "file_extension": ".py",
      "mimetype": "text/x-python",
      "name": "python",
      "nbconvert_exporter": "python",
      "pygments_lexer": "ipython3",
      "version": "3.7.9"
    },
    "vscode": {
      "interpreter": {
        "hash": "aa11ca274996316222ef16f35c5f6dbeb467b694c0b2154cdf34dcf9271d5fd0"
      }
    }
  },
  "nbformat": 4,
  "nbformat_minor": 0
}
