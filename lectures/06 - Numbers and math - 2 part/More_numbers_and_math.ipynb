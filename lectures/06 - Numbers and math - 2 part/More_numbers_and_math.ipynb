{
  "cells": [
    {
      "attachments": {},
      "cell_type": "markdown",
      "metadata": {},
      "source": [
        "[![Open In Colab](https://colab.research.google.com/assets/colab-badge.svg)](https://colab.research.google.com/github/blaztoma/pitono-pamokos/blob/main/lectures/06%20-%20Numbers%20and%20math%20-%202%20part/More_numbers_and_math.ipynb)"
      ]
    },
    {
      "cell_type": "markdown",
      "metadata": {
        "id": "vQyNbZ4ZQzvZ"
      },
      "source": [
        "# Other Mathematical Operations"
      ]
    },
    {
      "attachments": {},
      "cell_type": "markdown",
      "metadata": {
        "id": "YMPVuhOnQ91l"
      },
      "source": [
        "We already know these mathematical operators:\n",
        "\n",
        "Operator\t| Name | Example | Explanation\n",
        "------------|-------------|----------|-------------\n",
        "`+` | Addition | `5 + 3` | Adds `5` and `3`\n",
        "`-` | Subtraction | `5 - 3` | Subtracts `3` from `5`\n",
        "`*` | Multiplication | `5 * 3` | Multiplies `5` by `3`\n",
        "`/` | Division | `5 / 3` | Divides `5` by `3`\n",
        "`**` | Exponentiation | `5 ** 3` | Raises `5` to the power of `3`\n",
        "`%` | Modulo | `5 % 3` | Remainder (result: 2)\n",
        "`//` | Floor Division | `5 // 3` | Integer division (result: 1)  "
      ]
    },
    {
      "cell_type": "markdown",
      "metadata": {
        "id": "iVk319FqRETx"
      },
      "source": [
        "And we know the basic form of assignment to variables:\n",
        "```\n",
        "variable = value\n",
        "```\n",
        "\n"
      ]
    },
    {
      "cell_type": "markdown",
      "metadata": {
        "id": "6ESXyeToRhwd"
      },
      "source": [
        "Often there are situations where a variable needs to be changed. For example, increasing it, decreasing it, or otherwise changing its value. For example, to increase the initial value of variable `variable` by 5, you need to do this:"
      ]
    },
    {
      "cell_type": "code",
      "execution_count": 1,
      "metadata": {
        "colab": {
          "base_uri": "https://localhost:8080/"
        },
        "id": "7u_QfX8IQrv_",
        "outputId": "25615354-223c-472e-86a3-71bf2a8d5549"
      },
      "outputs": [
        {
          "name": "stdout",
          "output_type": "stream",
          "text": [
            "10\n"
          ]
        }
      ],
      "source": [
        "variable = 5\n",
        "variable = variable + 5\n",
        "print(variable)"
      ]
    },
    {
      "cell_type": "markdown",
      "metadata": {
        "id": "iU0-mvKHSlty"
      },
      "source": [
        "In Python, as in various other programming languages, this can be done more efficiently:"
      ]
    },
    {
      "cell_type": "code",
      "execution_count": 2,
      "metadata": {
        "colab": {
          "base_uri": "https://localhost:8080/"
        },
        "id": "iUCFSPLvS1vo",
        "outputId": "39232cf9-0820-43ec-bb70-6d631d64ee0b"
      },
      "outputs": [
        {
          "name": "stdout",
          "output_type": "stream",
          "text": [
            "10\n"
          ]
        }
      ],
      "source": [
        "variable = 5\n",
        "variable += 5\n",
        "print(variable)"
      ]
    },
    {
      "cell_type": "markdown",
      "metadata": {
        "id": "OLObCchRS9tl"
      },
      "source": [
        "Did you notice the difference? As you can see, the difference is the `+=` operation."
      ]
    },
    {
      "cell_type": "markdown",
      "metadata": {
        "id": "9xBFar1sTKVZ"
      },
      "source": [
        "## Other Value Modification Operators"
      ]
    },
    {
      "attachments": {},
      "cell_type": "markdown",
      "metadata": {
        "id": "nz0CnfyjTfoq"
      },
      "source": [
        "`+=` is not the only value modification (in this case - increment) operator. There are several others:\n",
        "\n",
        "Assignment | Equivalent | Explanation\n",
        "------------|-----------|----------\n",
        "`x += y` | `x = x + y` | Variable `x` is increased by `y`\n",
        "`x -= y` | `x = x - y` | Variable `x` is decreased by `y`\n",
        "`x *= y` | `x = x * y` | Variable `x` is multiplied by `y` \n",
        "`x /= y` | `x = x / y` | Variable `x` is divided by `y` \n",
        "`x %= y` | `x = x % y` | Variable `x` is divided by `y` and remainder is taken\n",
        "`x **= y` | `x = x ** y` | Variable `x` is raised to the power of `y`\n",
        "\n"
      ]
    },
    {
      "cell_type": "markdown",
      "metadata": {
        "id": "SIhriuTCWf68"
      },
      "source": [
        "Examine the example below and if anything was unclear - it will become clear 😀"
      ]
    },
    {
      "cell_type": "code",
      "execution_count": 3,
      "metadata": {
        "colab": {
          "base_uri": "https://localhost:8080/"
        },
        "id": "A6TCHzv_WfKk",
        "outputId": "16ea7a7e-a7b0-4b08-c93b-e083a3d1438d"
      },
      "outputs": [
        {
          "name": "stdout",
          "output_type": "stream",
          "text": [
            "= 0: 0\n",
            "+= 10: 10\n",
            "-= 5: 5\n",
            "*= 2: 10\n",
            "/= 4: 2.5\n"
          ]
        }
      ],
      "source": [
        "number = 0\n",
        "print('= 0:', number)\n",
        "\n",
        "number += 10\n",
        "print('+= 10:', number)\n",
        "\n",
        "number -= 5\n",
        "print('-= 5:', number)\n",
        "\n",
        "number *= 2\n",
        "print('*= 2:', number)\n",
        "\n",
        "number /= 4\n",
        "print('/= 4:', number)"
      ]
    },
    {
      "cell_type": "markdown",
      "metadata": {
        "id": "v7aTNWPxVyGg"
      },
      "source": [
        "Here you saw operations with numbers. On the other hand, this operation also applies to other types, for example strings:"
      ]
    },
    {
      "cell_type": "code",
      "execution_count": 4,
      "metadata": {
        "colab": {
          "base_uri": "https://localhost:8080/"
        },
        "id": "WBhqUQpnV7AX",
        "outputId": "a650e2be-93cb-4307-9793-ba3ed885d421"
      },
      "outputs": [
        {
          "name": "stdout",
          "output_type": "stream",
          "text": [
            "This is the first string combined with another string.\n"
          ]
        }
      ],
      "source": [
        "text = \"This is the first string \"\n",
        "text += \"combined with another string.\"\n",
        "print(text)"
      ]
    },
    {
      "attachments": {},
      "cell_type": "markdown",
      "metadata": {},
      "source": [
        "# More Examples"
      ]
    },
    {
      "cell_type": "code",
      "execution_count": 5,
      "metadata": {},
      "outputs": [
        {
          "name": "stdout",
          "output_type": "stream",
          "text": [
            "11\n",
            "-35\n"
          ]
        }
      ],
      "source": [
        "print(5 + 3 * 2)\n",
        "print(10 - 5 * (7 + 2))"
      ]
    },
    {
      "cell_type": "code",
      "execution_count": 6,
      "metadata": {},
      "outputs": [
        {
          "name": "stdout",
          "output_type": "stream",
          "text": [
            "20\n"
          ]
        }
      ],
      "source": [
        "answer = 8 * 2 + 4\n",
        "print(answer)"
      ]
    },
    {
      "cell_type": "code",
      "execution_count": 7,
      "metadata": {},
      "outputs": [
        {
          "name": "stdout",
          "output_type": "stream",
          "text": [
            "13\n",
            "7\n",
            "30\n",
            "3.3333333333333335\n",
            "\n",
            "1\n",
            "1000\n",
            "3\n"
          ]
        }
      ],
      "source": [
        "x = 10\n",
        "y = 3\n",
        "\n",
        "print(x + y)\n",
        "print(x - y)\n",
        "print(x * y)\n",
        "print(x / y)\n",
        "print()\n",
        "\n",
        "print(x % y)\n",
        "print(x ** y)\n",
        "print(x // y)"
      ]
    },
    {
      "cell_type": "code",
      "execution_count": 8,
      "metadata": {},
      "outputs": [
        {
          "name": "stdout",
          "output_type": "stream",
          "text": [
            "a: 5\n",
            "b: 4\n",
            "sum: 9\n",
            "difference: 1\n",
            "product: 20\n",
            "quotient: 1.25\n"
          ]
        }
      ],
      "source": [
        "a = 5\n",
        "b = 4\n",
        "\n",
        "sum_result = a + b\n",
        "difference = a - b\n",
        "product = a * b\n",
        "quotient = a / b\n",
        "\n",
        "print('a:', a)\n",
        "print('b:', b)\n",
        "\n",
        "print('sum:', sum_result)\n",
        "print('difference:', difference)\n",
        "print('product:', product)\n",
        "print('quotient:', quotient)"
      ]
    },
    {
      "cell_type": "code",
      "execution_count": 9,
      "metadata": {},
      "outputs": [
        {
          "name": "stdout",
          "output_type": "stream",
          "text": [
            "5 + 4 = 9\n",
            "5 - 4 = 1\n",
            "5 * 4 = 20\n",
            "5 / 4 = 1.25\n"
          ]
        }
      ],
      "source": [
        "a = 5\n",
        "b = 4\n",
        "\n",
        "sum_result = a + b\n",
        "difference = a - b\n",
        "product = a * b\n",
        "quotient = a / b\n",
        "\n",
        "print(f'{a} + {b} = {sum_result}')\n",
        "print(f'{a} - {b} = {difference}')\n",
        "print(f'{a} * {b} = {product}')\n",
        "print(f'{a} / {b} = {quotient}')"
      ]
    },
    {
      "cell_type": "code",
      "execution_count": 10,
      "metadata": {},
      "outputs": [
        {
          "name": "stdout",
          "output_type": "stream",
          "text": [
            "5 + 4 = 9\n",
            "5 - 4 = 1\n",
            "5 * 4 = 20\n",
            "5 / 4 = 1.25\n"
          ]
        }
      ],
      "source": [
        "a = 5\n",
        "b = 4\n",
        "\n",
        "print(f'{a} + {b} = {a + b}')\n",
        "print(f'{a} - {b} = {a - b}')\n",
        "print(f'{a} * {b} = {a * b}')\n",
        "print(f'{a} / {b} = {a / b}')"
      ]
    },
    {
      "cell_type": "code",
      "execution_count": 11,
      "metadata": {},
      "outputs": [
        {
          "name": "stdout",
          "output_type": "stream",
          "text": [
            "1.5714285714285714\n",
            "4\n"
          ]
        }
      ],
      "source": [
        "num1 = 11\n",
        "num2 = 7\n",
        "\n",
        "print(num1 / num2)\n",
        "print(num1 % num2)"
      ]
    },
    {
      "cell_type": "code",
      "execution_count": 12,
      "metadata": {},
      "outputs": [
        {
          "name": "stdout",
          "output_type": "stream",
          "text": [
            "5\n",
            "7\n",
            "19\n",
            "24\n"
          ]
        }
      ],
      "source": [
        "a = 5\n",
        "b = 7\n",
        "\n",
        "c = a + b * 2\n",
        "d = a + c\n",
        "\n",
        "print(a)\n",
        "print(b)\n",
        "print(c)\n",
        "print(d)"
      ]
    },
    {
      "cell_type": "code",
      "execution_count": 13,
      "metadata": {},
      "outputs": [
        {
          "name": "stdout",
          "output_type": "stream",
          "text": [
            "15\n",
            "1\n",
            "3\n",
            "0\n",
            "5\n"
          ]
        }
      ],
      "source": [
        "number = 15\n",
        "print(number)\n",
        "\n",
        "number = 1\n",
        "print(number)\n",
        "\n",
        "number = number + 2\n",
        "print(number)\n",
        "\n",
        "number = 0\n",
        "print(number)\n",
        "\n",
        "number += 5\n",
        "print(number)"
      ]
    },
    {
      "cell_type": "code",
      "execution_count": 14,
      "metadata": {},
      "outputs": [
        {
          "name": "stdout",
          "output_type": "stream",
          "text": [
            "5\n",
            "2\n",
            "15\n"
          ]
        }
      ],
      "source": [
        "first = 5\n",
        "second = 2\n",
        "\n",
        "print(first)\n",
        "print(second)\n",
        "\n",
        "first += 5 * second\n",
        "\n",
        "print(first)"
      ]
    },
    {
      "attachments": {},
      "cell_type": "markdown",
      "metadata": {
        "id": "SzDBjd_LdNgD"
      },
      "source": [
        "# Tasks"
      ]
    },
    {
      "attachments": {},
      "cell_type": "markdown",
      "metadata": {
        "id": "hcO7u0vidQzN"
      },
      "source": [
        "## Task 1"
      ]
    },
    {
      "cell_type": "markdown",
      "metadata": {
        "id": "FloWp3HidVWh"
      },
      "source": [
        "Given initial code. Replace the `?` so that the result is `125`."
      ]
    },
    {
      "cell_type": "code",
      "execution_count": 10,
      "metadata": {
        "colab": {
          "base_uri": "https://localhost:8080/"
        },
        "id": "vdSiSWtJdtLu",
        "outputId": "25a369d4-bd9a-4ced-ebea-f15920a6e6d6"
      },
      "outputs": [
        {
          "name": "stdout",
          "output_type": "stream",
          "text": [
            "125\n"
          ]
        }
      ],
      "source": [
        "result = 5\n",
        "result ?= 2\n",
        "result ?= 5\n",
        "result ?= 3\n",
        "print(result)"
      ]
    },
    {
      "attachments": {},
      "cell_type": "markdown",
      "metadata": {},
      "source": [
        "## Task 2\n",
        "\n",
        "Create two variables to store numbers. Assign any numbers you want to them. Create a third variable whose value would be the sum of the first two variables. Output all variables."
      ]
    },
    {
      "cell_type": "code",
      "execution_count": null,
      "metadata": {},
      "outputs": [],
      "source": [
        "# Write your code here..."
      ]
    },
    {
      "attachments": {},
      "cell_type": "markdown",
      "metadata": {},
      "source": [
        "## Task 3\n",
        "\n",
        "Create three variables to store numbers. Assign any numbers you want to them. Find the sum, difference, product, and quotient of these numbers. Output the answers along with the operation being performed (e.g., 8 + 2 + 4 = 14)."
      ]
    },
    {
      "cell_type": "code",
      "execution_count": null,
      "metadata": {},
      "outputs": [],
      "source": [
        "# Write your code here..."
      ]
    },
    {
      "attachments": {},
      "cell_type": "markdown",
      "metadata": {},
      "source": [
        "## Task 4\n",
        "\n",
        "Create two variables to store numbers. Assign any numbers you want to them. Increase the first variable by 5. Increase the second variable by 2 times (multiply by 2). Output all answers (initial values and changed values)."
      ]
    },
    {
      "cell_type": "code",
      "execution_count": null,
      "metadata": {},
      "outputs": [],
      "source": [
        "# Write your code here..."
      ]
    }
  ],
  "metadata": {
    "colab": {
      "provenance": []
    },
    "kernelspec": {
      "display_name": "Python 3",
      "language": "python",
      "name": "python3"
    },
    "language_info": {
      "codemirror_mode": {
        "name": "ipython",
        "version": 3
      },
      "file_extension": ".py",
      "mimetype": "text/x-python",
      "name": "python",
      "nbconvert_exporter": "python3",
      "version": "3.7.9"
    },
    "vscode": {
      "interpreter": {
        "hash": "aa11ca274996316222ef16f35c5f6dbeb467b694c0b2154cdf34dcf9271d5fd0"
      }
    }
  },
  "nbformat": 4,
  "nbformat_minor": 0
}