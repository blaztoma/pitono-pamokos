{
 "cells": [
  {
   "attachments": {},
   "cell_type": "markdown",
   "metadata": {},
   "source": [
    "[![Open In Colab](https://colab.research.google.com/assets/colab-badge.svg)](https://colab.research.google.com/github/blaztoma/pitono-pamokos/blob/main/pamokos/12%20-%20Ciklai/12-05%20-%20while%20ciklas%20(3%20dalis).ipynb)"
   ]
  },
  {
   "attachments": {},
   "cell_type": "markdown",
   "metadata": {},
   "source": [
    "# `while` ciklas (3 dalis)"
   ]
  },
  {
   "attachments": {},
   "cell_type": "markdown",
   "metadata": {},
   "source": [
    "## Pavyzdžiai"
   ]
  },
  {
   "attachments": {},
   "cell_type": "markdown",
   "metadata": {},
   "source": [
    "Prašysime įvesti vardą tol, kol bus įvesta bent kažkiek teksto."
   ]
  },
  {
   "cell_type": "code",
   "execution_count": null,
   "metadata": {},
   "outputs": [],
   "source": [
    "vardas = None\n",
    "\n",
    "while vardas == '' or vardas == None:\n",
    "    vardas = input('Įveskite vardą: ')\n",
    "\n",
    "print('Įvestas vardas:', vardas)"
   ]
  },
  {
   "attachments": {},
   "cell_type": "markdown",
   "metadata": {},
   "source": [
    "Šią programą papildysime pranešimu, kuris bus rodomas, jei vardas nebuvo įvestas. Tuo tikslu, vardą palyginame su tuščia eilute."
   ]
  },
  {
   "cell_type": "code",
   "execution_count": null,
   "metadata": {},
   "outputs": [],
   "source": [
    "vardas = None\n",
    "\n",
    "while vardas == '' or vardas == None:\n",
    "    vardas = input('Įveskite vardą: ')\n",
    "    if vardas == '':\n",
    "        print('Blogai įvestas vardas, mėginkite iš naujo')\n",
    "\n",
    "print('Įvestas vardas:', vardas)"
   ]
  },
  {
   "attachments": {},
   "cell_type": "markdown",
   "metadata": {},
   "source": [
    "Šitoje programoje vardą tikriname kaip loginį kintamąjį, kuris automatiškai turės reikšmę `False`, jei bus tuščias."
   ]
  },
  {
   "cell_type": "code",
   "execution_count": null,
   "metadata": {},
   "outputs": [],
   "source": [
    "vardas = None\n",
    "\n",
    "while vardas == '' or vardas == None:\n",
    "    vardas = input('Įveskite vardą: ')\n",
    "    if not vardas:\n",
    "        print('Blogai įvestas vardas, mėginkite iš naujo')\n",
    "\n",
    "print('Įvestas vardas:', vardas)"
   ]
  },
  {
   "attachments": {},
   "cell_type": "markdown",
   "metadata": {},
   "source": [
    "Čia patikrinimą iškeliam į ciklo sąlygą. Dėl to, pirmą vardo įvedimą organizuojame ciklo išorėje."
   ]
  },
  {
   "cell_type": "code",
   "execution_count": null,
   "metadata": {},
   "outputs": [],
   "source": [
    "vardas = input('Įveskite vardą: ')\n",
    "\n",
    "while not vardas:\n",
    "    print('Blogai įvestas vardas, mėginkite iš naujo.')\n",
    "    vardas = input('Įveskite vardą: ')\n",
    "\n",
    "print('Įvestas vardas:', vardas)"
   ]
  },
  {
   "attachments": {},
   "cell_type": "markdown",
   "metadata": {},
   "source": [
    "Tą patį galime daryti ir su įvedamais skaičiais. Šioje programoje įvedinėsime skaičių tol, kol jis pateks tarp nurodytų rėžių."
   ]
  },
  {
   "cell_type": "code",
   "execution_count": null,
   "metadata": {},
   "outputs": [],
   "source": [
    "pradzia, pabaiga = 1, 100\n",
    "\n",
    "skaicius = 0\n",
    "\n",
    "while skaicius < pradzia or skaicius > pabaiga:\n",
    "    skaicius = int( input('Įveskite skaičių tarp [1-100]: ') )\n",
    "\n",
    "print('Įvestas skaičius:', skaicius)"
   ]
  },
  {
   "attachments": {},
   "cell_type": "markdown",
   "metadata": {},
   "source": [
    "Pridedame informacijos pateikimą apie tai, kad skaičius nepateko į intervalą."
   ]
  },
  {
   "cell_type": "code",
   "execution_count": null,
   "metadata": {},
   "outputs": [],
   "source": [
    "pradzia, pabaiga = 1, 100\n",
    "\n",
    "skaicius = 0\n",
    "\n",
    "while skaicius < pradzia or skaicius > pabaiga:\n",
    "    skaicius = int( input('Įveskite skaičių tarp [1-100]: ') )\n",
    "    if skaicius < pradzia or skaicius > pabaiga:\n",
    "        print('Skaičius nepatenka į nurodytą intervalą!')\n",
    "\n",
    "print('Įvestas skaičius:', skaicius)"
   ]
  },
  {
   "attachments": {},
   "cell_type": "markdown",
   "metadata": {},
   "source": [
    "Šioje programoje organizuojame amžiną ciklą įvedimui ir pabėgimą iš jo."
   ]
  },
  {
   "cell_type": "code",
   "execution_count": null,
   "metadata": {},
   "outputs": [],
   "source": [
    "pradzia, pabaiga = 1, 100\n",
    "\n",
    "skaicius = 0\n",
    "\n",
    "while True:\n",
    "    skaicius = int( input('Įveskite skaičių tarp [1-100]: ') )\n",
    "    if skaicius < pradzia or skaicius > pabaiga:\n",
    "        print('Skaičius nepatenka į nurodytą intervalą!')\n",
    "    else:\n",
    "        break\n",
    "\n",
    "print('Įvestas skaičius:', skaicius)"
   ]
  },
  {
   "attachments": {},
   "cell_type": "markdown",
   "metadata": {},
   "source": [
    "Kai dirbame su skaičiais ir įvedimu, visuomet reiktų pasitikrinti ar įvesta reikšmė yra skaičius."
   ]
  },
  {
   "cell_type": "code",
   "execution_count": null,
   "metadata": {},
   "outputs": [],
   "source": [
    "ivestis = input('Įveskite skaičių: ')\n",
    "\n",
    "while not ivestis.isdigit():\n",
    "    ivestis = input('Įvedėte ne skaičių, mėginkite iš naujo: ')\n",
    "\n",
    "skaicius = int(ivestis)\n",
    "print('Įvestas skaičius:', skaicius)\n",
    "print('Jo tipas:', type(skaicius))\n",
    "print('Jis gautas iš įvesties:', ivestis, type(ivestis))"
   ]
  },
  {
   "attachments": {},
   "cell_type": "markdown",
   "metadata": {},
   "source": [
    "Dviejų skaičių įvedimas aukščiau pateikta forma."
   ]
  },
  {
   "cell_type": "code",
   "execution_count": null,
   "metadata": {},
   "outputs": [],
   "source": [
    "pirmas = input('Įveskite pirmą skaičių: ')\n",
    "\n",
    "while not pirmas.isdigit():\n",
    "    pirmas = input('Įveskite pirmą skaičių: ')\n",
    "\n",
    "antras = input('Įveskite antrą skaičių: ')\n",
    "\n",
    "while not antras.isdigit():\n",
    "    antras = input('Įveskite antrą skaičių: ')\n",
    "\n",
    "pirmas = int(pirmas)\n",
    "antras = int(antras)\n",
    "\n",
    "print(f'{pirmas} + {antras} = {pirmas + antras}')\n",
    "print(f'{pirmas} - {antras} = {pirmas - antras}')\n",
    "print(f'{pirmas} * {antras} = {pirmas * antras}')\n",
    "print(f'{pirmas} / {antras} = {pirmas / antras}')\n"
   ]
  },
  {
   "attachments": {},
   "cell_type": "markdown",
   "metadata": {},
   "source": [
    "Programą šiek tiek sutrumpiname įvedimo kintamiesiems priskirdami tuščias reikšmes. Ciklo sąlyga nebus patenkinta ir dėl to lieps įvesti skaičių."
   ]
  },
  {
   "cell_type": "code",
   "execution_count": null,
   "metadata": {},
   "outputs": [],
   "source": [
    "pirmas, antras = '', ''\n",
    "\n",
    "while not pirmas.isdigit():\n",
    "    pirmas = input('Įveskite pirmą skaičių: ')\n",
    "\n",
    "while not antras.isdigit():\n",
    "    antras = input('Įveskite antrą skaičių: ')\n",
    "\n",
    "pirmas = int(pirmas)\n",
    "antras = int(antras)\n",
    "\n",
    "print(f'{pirmas} + {antras} = {pirmas + antras}')\n",
    "print(f'{pirmas} - {antras} = {pirmas - antras}')\n",
    "print(f'{pirmas} * {antras} = {pirmas * antras}')\n",
    "print(f'{pirmas} / {antras} = {pirmas / antras}')\n"
   ]
  },
  {
   "attachments": {},
   "cell_type": "markdown",
   "metadata": {},
   "source": [
    "Norėdami patikrinti ar konversija (kokia ji bebūtų) pavyko, galime naudoti išimčių apdorojimo sakinį. Tam naudojame `try` ... `except` bloką."
   ]
  },
  {
   "cell_type": "code",
   "execution_count": null,
   "metadata": {},
   "outputs": [],
   "source": [
    "try:\n",
    "    skaicius = int(input(\"Įveskite skaičių: \"))\n",
    "except ValueError:\n",
    "    print(\"Čia ne skaičius!\")\n",
    "\n",
    "print('Įvestas skaičius:', skaicius)"
   ]
  },
  {
   "attachments": {},
   "cell_type": "markdown",
   "metadata": {},
   "source": [
    "Išimčių apdorojimas panaudotas ciklo viduje."
   ]
  },
  {
   "cell_type": "code",
   "execution_count": null,
   "metadata": {},
   "outputs": [],
   "source": [
    "kartoti = True\n",
    "\n",
    "while kartoti:\n",
    "    try:\n",
    "        skaicius = int(input(\"Įveskite skaičių: \"))\n",
    "        kartoti = False\n",
    "    except ValueError:\n",
    "        print(\"Čia ne skaičius!\")\n",
    "\n",
    "print('Įvestas skaičius:', skaicius)"
   ]
  },
  {
   "attachments": {},
   "cell_type": "markdown",
   "metadata": {},
   "source": [
    "Ši programa organizuoja daugelio skaičių įvedimą ir skaičiuoja jų sumą. "
   ]
  },
  {
   "cell_type": "code",
   "execution_count": null,
   "metadata": {},
   "outputs": [],
   "source": [
    "suma = 0\n",
    "kartoti = True\n",
    "ivestis = ''\n",
    "\n",
    "while kartoti:\n",
    "    while not ivestis.isdigit():\n",
    "        ivestis = input('Įveskite skaičių: ')\n",
    "\n",
    "    skaicius = int(ivestis)\n",
    "    print('Įvestas skaičius:', skaicius)\n",
    "    suma += skaicius\n",
    "\n",
    "    ivestis = input('Ar dar kartoti? t/n ')\n",
    "    if ivestis != 't':\n",
    "        kartoti = False\n",
    "\n",
    "print('Visų įvestų skaičių suma:', suma)"
   ]
  },
  {
   "attachments": {},
   "cell_type": "markdown",
   "metadata": {},
   "source": [
    "## Užduotys"
   ]
  },
  {
   "attachments": {},
   "cell_type": "markdown",
   "metadata": {},
   "source": [
    "### Užduotis 1\n",
    "\n",
    "Leiskite naudotojui įvesti norimą žodį. Kartokite įvedimą tol kol vartotojas įves žodžį. Kai žodis bus įvestas, atspausdinkite patį žodį ir jo ilgį."
   ]
  },
  {
   "cell_type": "code",
   "execution_count": null,
   "metadata": {},
   "outputs": [],
   "source": [
    "# Kodą rašykite čia..."
   ]
  },
  {
   "attachments": {},
   "cell_type": "markdown",
   "metadata": {},
   "source": [
    "### Užduotis 2\n",
    "\n",
    "Leiskite naudotojui įvesti du žodžius. Kartokite įvedimą tol, kol abu žodžiai bus įvesti. Tai yra, bus ne tuščios eilutės. Raskite kuris iš jų yra ilgesnis ir kiek. Pavyzdiui, jeigu bus įvesti žodžiai `gynyba` ir `puolimas`, tai žodis `puolimas` yra `2` simboliais ilgesnis."
   ]
  },
  {
   "cell_type": "code",
   "execution_count": null,
   "metadata": {},
   "outputs": [],
   "source": [
    "# Kodą rašykite čia..."
   ]
  },
  {
   "attachments": {},
   "cell_type": "markdown",
   "metadata": {},
   "source": [
    "### Užduotis 3\n",
    "\n",
    "Leiskite naudotojui įvesti skaičių. Kartokite įvedimą kol bus įvesta skaitinė reikšmė. Tuomet atspausdinkite patį skaičių ir tai, ar jis yra lyginis ar ne lyginis."
   ]
  },
  {
   "cell_type": "code",
   "execution_count": null,
   "metadata": {},
   "outputs": [],
   "source": [
    "# Kodą rašykite čia..."
   ]
  },
  {
   "attachments": {},
   "cell_type": "markdown",
   "metadata": {},
   "source": [
    "### Užduotis 4\n",
    "\n",
    "Leiskite naudotojui įvesti tris skaičius. Kartokite neteisingai įvestų skaičių įvedimą. Suraskite šių skaičių sumą ir vidurkį. Rezultatus išveskite."
   ]
  },
  {
   "cell_type": "code",
   "execution_count": null,
   "metadata": {},
   "outputs": [],
   "source": [
    "# Kodą rašykite čia..."
   ]
  },
  {
   "attachments": {},
   "cell_type": "markdown",
   "metadata": {},
   "source": [
    "### Užduotis 5\n",
    "\n",
    "Naudotojas turi įvesti intervalo pradžią ir pabaigą. Turite patikrinti ar nurodyti intervalo rėžiai yra teisingi (tai yra skaičiai ir pradžia mažesnė už pabaigą). Liepkite vartotojui kartoti įvedimą tol, kol intervalo rėžiai bus tinkami. Tuomet išveskite visus intervalo skaičiu skaičius (čia galite naudoti `for` ciklą). Šalia kiekvieno skaičiaus išveskite jo kvadratą ir tai, ar jis lyginis ar ne."
   ]
  },
  {
   "cell_type": "code",
   "execution_count": null,
   "metadata": {},
   "outputs": [],
   "source": [
    "# Kodą rašykite čia..."
   ]
  },
  {
   "attachments": {},
   "cell_type": "markdown",
   "metadata": {},
   "source": [
    "### Užduotis 6\n",
    "\n",
    "Leiskite naudotojui atlikti skaičiavimus tiek kartų, kiek jis nori. Skaičiavimus sugalvokite patys (tai gali būti įvedamų skaičių sudėtis, daugyba ir pan.). Įvedus duomenis, suskaičiavus ir pateikus rezultatus, programa turi paklausti - ar tęsti darbą. Nepamirškite tikrinti įvedamų skaičių teisingumą ir kartoti įvedimą, kai jie įvesti neteisingai."
   ]
  },
  {
   "cell_type": "code",
   "execution_count": null,
   "metadata": {},
   "outputs": [],
   "source": [
    "# Kodą rašykite čia..."
   ]
  },
  {
   "attachments": {},
   "cell_type": "markdown",
   "metadata": {},
   "source": [
    "### Užduotis 7\n",
    "\n",
    "Naudotojui išveskite pasirinkto skaičiaus daugybos lentelę (pvz, skaičiaus 5 daugybos lentelė gali būti `5 * 1 = 5`; `5 * 2 = 10`; `5 * 3 = 15`; ...). Leiskite naudotojui kartoti daugybos lentelės išvedimą su kitais skaičiais. Nepamirškite tikrinti įvedamų skaičių teisingumą ir kartoti įvedimą, kai jie įvesti neteisingai."
   ]
  },
  {
   "cell_type": "code",
   "execution_count": null,
   "metadata": {},
   "outputs": [],
   "source": [
    "# Kodą rašykite čia..."
   ]
  },
  {
   "attachments": {},
   "cell_type": "markdown",
   "metadata": {},
   "source": [
    "### Užduotis 8\n",
    "\n",
    "Liepkite naudotojui įvesti tiek skaičių, kiek jis nori. Įvedimą sustabdykite tuomet, kai vartototojas įves `0` ar `-1`, ar kitą jūsų pasirinktą skaičių ar simbolį. Raskite naudotojo įvestų skaičių sumą, vidurkį. Nepamirškite tikrinti įvedamų skaičių teisingumą ir kartoti įvedimą, kai jie įvesti neteisingai."
   ]
  },
  {
   "cell_type": "code",
   "execution_count": null,
   "metadata": {},
   "outputs": [],
   "source": [
    "# Kodą rašykite čia..."
   ]
  },
  {
   "attachments": {},
   "cell_type": "markdown",
   "metadata": {},
   "source": [
    "### Užduotis 9\n",
    "\n",
    "Sukurkite studentų pažymių vidurkių skaičiuoklę (galite naudoti kodo blokelyje prisegtą pavyzdį). Programa turi leisti naudotojui kartoti pažymių įvedimą ir vidurkio skaičiavimą tiek kartų, kiek reikia. Be to, programa turi tikrinti įvedamus duomenis ir užtikrinti, kad būtų įvesti tik tinkami skaičiai."
   ]
  },
  {
   "cell_type": "code",
   "execution_count": null,
   "metadata": {},
   "outputs": [],
   "source": [
    "# Kaip pagrindą galite naudoti šį pavyzdį ir pamodifikuoti:\n",
    "\n",
    "# pazymiu_suma = 0\n",
    "# pazymiu_kiekis = 0\n",
    "\n",
    "# pazymys = -1\n",
    "\n",
    "# print('Iveskite tiek pazymiu kiek norite (atskiriant enter)')\n",
    "# print('Norint baigti irasykite 0')\n",
    "\n",
    "# while pazymys != 0:\n",
    "#     pazymys = int(input('Iveskite pazymi: '))\n",
    "#     if pazymys != 0:\n",
    "#         pazymiu_suma += pazymys\n",
    "#         pazymiu_kiekis += 1\n",
    "\n",
    "# vidurkis = round(pazymiu_suma / pazymiu_kiekis, 1)\n",
    "# print('Suvestu pazymiu vidurkis:', vidurkis)\n",
    "\n",
    "# Kodą rašykite čia...\n"
   ]
  },
  {
   "attachments": {},
   "cell_type": "markdown",
   "metadata": {},
   "source": [
    "### Užduotis 10\n",
    "\n",
    "Sukurkite žaidimą, panašų į skaičių spėliojimo žaidimą. Programa turi sugeneruoti du atsitiktinius skaičius (čia bus intervalo rėžiai). Naudotojas turės rasti bet kokį skaičių esantį tarp tų rėžių. Nepamirškite tikrinti įvedamų skaičių teisingumą ir kartoti įvedimą, kai jie įvesti neteisingai.\n",
    "\n",
    "Pavyzdžiui:\n",
    "\n",
    "Jeigu programa sugeneravo 2 ir 5, tai žmogus laimės jeigu spės 2, 3, 4, arba 5. Kitu atveju - pralaimės."
   ]
  },
  {
   "cell_type": "code",
   "execution_count": null,
   "metadata": {},
   "outputs": [],
   "source": [
    "# Kodą rašykite čia..."
   ]
  },
  {
   "attachments": {},
   "cell_type": "markdown",
   "metadata": {},
   "source": [
    "### Užduotis 11\n",
    "\n",
    "Praplėskite aukščiau sukurtą spėjimo programą. Leiskite naudotojui pasirinkti žaidimo sudėtingumą (galimus intervalo rėžius), suteikiamos pagalbos (ar spėjamas skaičius mažesnis / didesnis) galimybę, spėjimų kiekį (neribotai, arba pvz iki 10 ėjimų). Šiuos parametrus naudotojas turi pasirinkti žaidimo pradžioje. Patikrinkite, ar naudotojas pasirinko parametrus iš galimų variantų. Jeigu ne, liepkite įvedimą pakartoti."
   ]
  },
  {
   "cell_type": "code",
   "execution_count": null,
   "metadata": {},
   "outputs": [],
   "source": [
    "# Kodą rašykite čia..."
   ]
  }
 ],
 "metadata": {
  "kernelspec": {
   "display_name": "Python 3",
   "language": "python",
   "name": "python3"
  },
  "language_info": {
   "codemirror_mode": {
    "name": "ipython",
    "version": 3
   },
   "file_extension": ".py",
   "mimetype": "text/x-python",
   "name": "python",
   "nbconvert_exporter": "python",
   "pygments_lexer": "ipython3",
   "version": "3.7.9 (tags/v3.7.9:13c94747c7, Aug 17 2020, 18:58:18) [MSC v.1900 64 bit (AMD64)]"
  },
  "orig_nbformat": 4,
  "vscode": {
   "interpreter": {
    "hash": "aa11ca274996316222ef16f35c5f6dbeb467b694c0b2154cdf34dcf9271d5fd0"
   }
  }
 },
 "nbformat": 4,
 "nbformat_minor": 2
}
