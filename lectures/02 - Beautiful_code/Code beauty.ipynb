{
  "cells": [
    {
      "attachments": {},
      "cell_type": "markdown",
      "metadata": {},
      "source": [
        "[![Open In Colab](https://colab.research.google.com/assets/colab-badge.svg)](https://github.com/blaztoma/pitono-pamokos/blob/main/lectures/02%20-%20Beautiful_code/Code%20beauty.ipynb)"      ]
    },
    {
      "attachments": {},
      "cell_type": "markdown",
      "metadata": {},
      "source": [
        "# Indentation"
      ]
    },
    {
      "attachments": {},
      "cell_type": "markdown",
      "metadata": {},
      "source": [
        "A program is split into blocks (functions, loops, etc.). To show the boundaries of a block, that block’s code is indented.\n",
        "The lines of a block are indented from the margin (or the previous block) with 4 spaces or 1 tab press.\n",
        "\n",
        "> **Note**: unlike many programming languages, indentation plays a major role in program execution.\n",
        "\n",
        "Indentation replaces `begin` and `end` in Pascal or `{ }` in C. Below you see a Python program example with proper indentation. For now, don’t worry about how the program works."
      ]
    },
    {
      "cell_type": "code",
      "execution_count": 4,
      "metadata": {},
      "outputs": [
        {
          "name": "stdout",
          "output_type": "stream",
          "text": [
            "start!\n",
            "apple\n",
            "pear\n",
            "end!\n"
          ]
        }
      ],
      "source": [
        "def indentation_example():\n",
        "    print(\"start!\")\n",
        "    fruits = [\"apple\", \"pear\", \"plum\"]\n",
        "    for fruit in fruits:\n",
        "        print(fruit)\n",
        "        if fruit == \"pear\":\n",
        "            break\n",
        "    print(\"end!\")\n",
        "\n",
        "indentation_example()"
      ]
    },
    {
      "attachments": {},
      "cell_type": "markdown",
      "metadata": {},
      "source": [
        "# Commenting"
      ]
    },
    {
      "attachments": {},
      "cell_type": "markdown",
      "metadata": {},
      "source": [
        "Code is commented when we want to write an explanation about what is happening in the code or when we want to make some part of the code inactive (not executed).\n",
        "\n",
        "> The symbol used for a comment is: #\n",
        "\n",
        "Below is the same program with a function description and two commented-out lines that print *start* and *end*."
      ]
    },
    {
      "cell_type": "code",
      "execution_count": 5,
      "metadata": {},
      "outputs": [
        {
          "name": "stdout",
          "output_type": "stream",
          "text": [
            "apple\n",
            "pear\n"
          ]
        }
      ],
      "source": [
        "# This function is written to illustrate\n",
        "# how to write tidy, well-indented code.\n",
        "# It uses a function called indentation_example\n",
        "def indentation_example():\n",
        "#     print(\"start!\")\n",
        "    fruits = [\"apple\", \"pear\", \"plum\"]\n",
        "    for fruit in fruits:\n",
        "        print(fruit)\n",
        "        if fruit == \"pear\":\n",
        "            break\n",
        "#     print(\"end!\")\n",
        "\n",
        "indentation_example()"
      ]
    },
    {
      "attachments": {},
      "cell_type": "markdown",
      "metadata": {},
      "source": [
        "# Task"
      ]
    },
    {
      "attachments": {},
      "cell_type": "markdown",
      "metadata": {},
      "source": [
        "Below is a program that doesn’t work because functions are called that aren’t defined. Do the following:\n",
        "* Copy the program to your environment\n",
        "* Comment out the non-working parts of the code\n",
        "\n",
        "Note that the environment itself highlights incorrect lines in red."
      ]
    },
    {
      "cell_type": "code",
      "execution_count": 7,
      "metadata": {},
      "outputs": [
        {
          "ename": "NameError",
          "evalue": "NameError: name 'call_unknown_function' is not defined",
          "output_type": "error",
          "traceback": [
            "\u001b[0;31m---------------------------------------------------------------------------",
            "Traceback (most recent call last)",
            "    at line 1 in <module>",
            "NameError: name 'call_unknown_function' is not defined"
          ]
        }
      ],
      "source": [
        "call_unknown_function()\n",
        "\n",
        "def indentation_example():\n",
        "#     print(\"start!\")\n",
        "    fruits = [\"apple\", \"pear\", \"plum\"]\n",
        "    for fruit in fruits:\n",
        "        print(fruit)\n",
        "        if fruit == \"pear\":\n",
        "            break\n",
        "#     print(\"end!\")\n",
        "\n",
        "call_other_function()\n",
        "indentation_example()"
      ]
    }
  ],
  "metadata": {
    "kernelspec": {
      "display_name": "Python 3",
      "language": "python",
      "name": "python3"
    },
    "language_info": {
      "name": "python",
      "version": "3.7.9 (tags/v3.7.9:13c94747c7, Aug 17 2020, 18:58:18) [MSC v.1900 64 bit (AMD64)]"
    },
    "vscode": {
      "interpreter": {
        "hash": "aa11ca274996316222ef16f35c5f6dbeb467b694c0b2154cdf34dcf9271d5fd0"
      }
    }
  },
  "nbformat": 4,
  "nbformat_minor": 0
}
