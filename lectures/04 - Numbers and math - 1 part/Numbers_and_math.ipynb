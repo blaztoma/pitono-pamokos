{
  "cells": [
    {
      "attachments": {},
      "cell_type": "markdown",
      "metadata": {},
      "source": [
        "[![Open In Colab](https://colab.research.google.com/assets/colab-badge.svg)](https://colab.research.google.com/github/blaztoma/pitono-pamokos/blob/main/lectures/04%20-%20Numbers%20and%20math%20-%201%20part/Numbers_and_math.ipynb)"
      ]
    },
    {
      "cell_type": "markdown",
      "metadata": {
        "id": "fT9zEu-PpaTj"
      },
      "source": [
        "# Numbers and Mathematics"
      ]
    },
    {
      "cell_type": "markdown",
      "metadata": {
        "id": "UZ-9J0p3qg4C"
      },
      "source": [
        "## Basic Number Types"
      ]
    },
    {
      "cell_type": "markdown",
      "metadata": {
        "id": "se6yHtk7qn5i"
      },
      "source": [
        "int (integer)      | float (floating point)\n",
        "-------------------|------------------\n",
        "8 | 8.5\n",
        "10 | 10.0\n",
        "-5 | -5.5\n"
      ]
    },
    {
      "attachments": {},
      "cell_type": "markdown",
      "metadata": {
        "id": "OfUty2SDrJxW"
      },
      "source": [
        "Note that to show Python that a variable is of float type, we must write the number with a decimal point, even if it doesn't have a fractional part."
      ]
    },
    {
      "cell_type": "markdown",
      "metadata": {
        "id": "D9nsFUx_rmOc"
      },
      "source": [
        "## Mathematical Operators"
      ]
    },
    {
      "attachments": {},
      "cell_type": "markdown",
      "metadata": {
        "id": "dz5jQUIDro9g"
      },
      "source": [
        "Operator\t| Name | Example | Explanation\n",
        "------------|-------------|----------|-------------\n",
        "`+` | Addition | `5 + 3` | Adds `5` and `3`\n",
        "`-` | Subtraction | `5 - 3` | Subtracts `3` from `5`\n",
        "`*` | Multiplication | `5 * 3` | Multiplies `5` by `3`\n",
        "`/` | Division | `5 / 3` | Divides `5` by `3`\n",
        "`**` | Exponentiation | `5 ** 3` | Raises `5` to the power of `3`\n",
        "`%` | Modulo | `5 % 3` | Remainder (result: 2)\n",
        "`//` | Floor Division | `5 // 3` | Integer division (result: 1)  "
      ]
    },
    {
      "cell_type": "markdown",
      "metadata": {
        "id": "Edh2WAuqtPXX"
      },
      "source": [
        "## Examples"
      ]
    },
    {
      "cell_type": "markdown",
      "metadata": {
        "id": "UF3E4roMtrLI"
      },
      "source": [
        "### Number Output"
      ]
    },
    {
      "cell_type": "code",
      "execution_count": 1,
      "metadata": {
        "colab": {
          "base_uri": "https://localhost:8080/"
        },
        "id": "gdGIYoEQtdwz",
        "outputId": "ba862492-2a23-4ca9-fae6-d857fe2054aa"
      },
      "outputs": [
        {
          "name": "stdout",
          "output_type": "stream",
          "text": [
            "12\n",
            "5\n",
            "8.2\n"
          ]
        }
      ],
      "source": [
        "print(12)\n",
        "print(5)\n",
        "print(8.2)"
      ]
    },
    {
      "attachments": {},
      "cell_type": "markdown",
      "metadata": {
        "id": "UcmhNvz7txji"
      },
      "source": [
        "### Simple Integer Operations"
      ]
    },
    {
      "cell_type": "code",
      "execution_count": 2,
      "metadata": {
        "colab": {
          "base_uri": "https://localhost:8080/"
        },
        "id": "G5D8ngUet2e4",
        "outputId": "6fb7fe0d-0776-4df5-f2d7-cb5ea3bc8474"
      },
      "outputs": [
        {
          "name": "stdout",
          "output_type": "stream",
          "text": [
            "15\n",
            "8\n",
            "4\n",
            "2.3333333333333335\n"
          ]
        }
      ],
      "source": [
        "print(7 + 8)\n",
        "print(2 * 4)\n",
        "print(5 - 1)\n",
        "print(7 / 3)"
      ]
    },
    {
      "cell_type": "markdown",
      "metadata": {
        "id": "NcyQQwvYuKEx"
      },
      "source": [
        "### Simple Float Operations"
      ]
    },
    {
      "cell_type": "code",
      "execution_count": null,
      "metadata": {
        "id": "qkcsYwBUuPi4"
      },
      "outputs": [],
      "source": [
        "print(5.2 + 1.4)\n",
        "print(8 - 1.5)\n",
        "print(1 / 2)\n",
        "print(1 / 3)"
      ]
    },
    {
      "cell_type": "markdown",
      "metadata": {
        "id": "kbnpHZfGu990"
      },
      "source": [
        "### Exponentiation"
      ]
    },
    {
      "cell_type": "code",
      "execution_count": 3,
      "metadata": {
        "colab": {
          "base_uri": "https://localhost:8080/"
        },
        "id": "fxyV2camvBYg",
        "outputId": "ee4cfadf-0618-415f-c9df-e7cf546de5f1"
      },
      "outputs": [
        {
          "name": "stdout",
          "output_type": "stream",
          "text": [
            "8\n",
            "65536\n",
            "7.0\n"
          ]
        }
      ],
      "source": [
        "print(2 ** 3)\n",
        "print(4 ** 8)\n",
        "print(49 ** 0.5)"
      ]
    },
    {
      "attachments": {},
      "cell_type": "markdown",
      "metadata": {
        "id": "RZ0IKhtsvF-W"
      },
      "source": [
        "### Modulo Operation"
      ]
    },
    {
      "cell_type": "code",
      "execution_count": 4,
      "metadata": {
        "colab": {
          "base_uri": "https://localhost:8080/"
        },
        "id": "xnvPCa1EvTSq",
        "outputId": "bf62e6f4-68e9-4258-8cd7-4410e3d09810"
      },
      "outputs": [
        {
          "name": "stdout",
          "output_type": "stream",
          "text": [
            "1\n",
            "1\n",
            "1\n",
            "0\n",
            "0\n"
          ]
        }
      ],
      "source": [
        "print(10 % 3)\n",
        "print(25 % 4)\n",
        "print(13 % 2)\n",
        "print(16 % 2)\n",
        "print(8 % 2)"
      ]
    },
    {
      "cell_type": "markdown",
      "metadata": {
        "id": "hhVKbqaJvecc"
      },
      "source": [
        "### Division and Floor Division"
      ]
    },
    {
      "cell_type": "code",
      "execution_count": null,
      "metadata": {
        "id": "TH5_lIqlvhxq"
      },
      "outputs": [],
      "source": [
        "print(10 / 3)\n",
        "print(10 // 3)\n",
        "print(6 / 7)\n",
        "print(6 // 7)"
      ]
    },
    {
      "cell_type": "markdown",
      "metadata": {
        "id": "2LFnVOutvqmJ"
      },
      "source": [
        "### Order of Operations"
      ]
    },
    {
      "cell_type": "code",
      "execution_count": 7,
      "metadata": {
        "colab": {
          "base_uri": "https://localhost:8080/"
        },
        "id": "Ewm98w9wvwib",
        "outputId": "93a5eabe-84de-40d7-9f30-575e2ac32c15"
      },
      "outputs": [
        {
          "name": "stdout",
          "output_type": "stream",
          "text": [
            "4.333333333333334\n",
            "5.0\n"
          ]
        }
      ],
      "source": [
        "print(1 + 2 * 5 / 3)\n",
        "print( (1 + 2) * 5 / 3 )"
      ]
    },
    {
      "cell_type": "markdown",
      "metadata": {
        "id": "wjAxkGa5wTcr"
      },
      "source": [
        "### What Type?"
      ]
    },
    {
      "cell_type": "markdown",
      "metadata": {
        "id": "BsgEmyOvwWgz"
      },
      "source": [
        "To see what number type Python will determine, you need to use the `type()` function. First try to guess the type, then run the program."
      ]
    },
    {
      "cell_type": "code",
      "execution_count": 9,
      "metadata": {
        "colab": {
          "base_uri": "https://localhost:8080/"
        },
        "id": "1HrXdWS6whXM",
        "outputId": "4d0982a6-e90f-4f49-f101-f71079d55e78"
      },
      "outputs": [
        {
          "name": "stdout",
          "output_type": "stream",
          "text": [
            "<class 'int'>\n",
            "<class 'float'>\n",
            "<class 'int'>\n",
            "<class 'float'>\n",
            "<class 'int'>\n",
            "<class 'int'>\n",
            "<class 'int'>\n"
          ]
        }
      ],
      "source": [
        "print(type(5))\n",
        "print(type(5.0))\n",
        "print(type(5 * 3))\n",
        "print(type(5 / 3))\n",
        "print(type(5 // 3))\n",
        "print(type(5 ** 3))\n",
        "print(type(5 % 3))"
      ]
    },
    {
      "cell_type": "markdown",
      "metadata": {
        "id": "npaBvuUaxFGj"
      },
      "source": [
        "## Tasks"
      ]
    },
    {
      "cell_type": "markdown",
      "metadata": {
        "id": "3MfH_q2sxJwt"
      },
      "source": [
        "### Task 1"
      ]
    },
    {
      "cell_type": "markdown",
      "metadata": {
        "id": "oNS0wifTyFzR"
      },
      "source": [
        "Output the numbers `15`, `12`, `-9`, and `5.8` on separate lines."
      ]
    },
    {
      "cell_type": "code",
      "execution_count": null,
      "metadata": {
        "id": "OXfENMqLyMz0"
      },
      "outputs": [],
      "source": [
        "# Write your code here..."
      ]
    },
    {
      "cell_type": "markdown",
      "metadata": {
        "id": "AUFMmIN3xSfj"
      },
      "source": [
        "### Task 2"
      ]
    },
    {
      "cell_type": "markdown",
      "metadata": {
        "id": "RjcQiL27yfGK"
      },
      "source": [
        "Output the results of these mathematical operations:\n",
        "\n",
        "* 78 * 2\n",
        "* 5 + 3\n",
        "* 7 / 2\n",
        "* 85 - 32"
      ]
    },
    {
      "cell_type": "code",
      "execution_count": null,
      "metadata": {
        "id": "3lrnpOF0yRmt"
      },
      "outputs": [],
      "source": [
        "# Write your code here..."
      ]
    },
    {
      "cell_type": "markdown",
      "metadata": {
        "id": "TlJ2ybnFxTiP"
      },
      "source": [
        "### Task 3"
      ]
    },
    {
      "cell_type": "markdown",
      "metadata": {
        "id": "IjjShFvFzJzy"
      },
      "source": [
        "Output the results of these mathematical operations:\n",
        "* 5.2 * 3\n",
        "* 9.4 * 0.5\n",
        "* 4.2 / 2"
      ]
    },
    {
      "cell_type": "code",
      "execution_count": null,
      "metadata": {
        "id": "-FE_-j37ySt6"
      },
      "outputs": [],
      "source": [
        "# Write your code here..."
      ]
    },
    {
      "cell_type": "markdown",
      "metadata": {
        "id": "3_DBcP_JxUnj"
      },
      "source": [
        "### Task 4"
      ]
    },
    {
      "cell_type": "markdown",
      "metadata": {
        "id": "QCC7HRVLzXbu"
      },
      "source": [
        "Output the results of these mathematical operations:\n",
        "* 7 + 2 * 3\n",
        "* (7 + 2) * 3\n",
        "* 52 + 74 + 32\n",
        "* 87 - 65 + 14\n",
        "* 79 / (5 - 2)"
      ]
    },
    {
      "cell_type": "code",
      "execution_count": null,
      "metadata": {
        "id": "Hom0Zy3ZyTrO"
      },
      "outputs": [],
      "source": [
        "# Write your code here..."
      ]
    },
    {
      "cell_type": "markdown",
      "metadata": {
        "id": "sqwO_lMXxWEo"
      },
      "source": [
        "### Task 5"
      ]
    },
    {
      "cell_type": "markdown",
      "metadata": {
        "id": "EQ2qYnxPzfsp"
      },
      "source": [
        "Calculate and output these results (using the `**` operator):\n",
        "* number 2 raised to the 4th power\n",
        "* number 8 raised to the 3rd power\n",
        "* number 14 raised to the 0.5 power"
      ]
    },
    {
      "cell_type": "code",
      "execution_count": null,
      "metadata": {
        "id": "GG4z43VbyURv"
      },
      "outputs": [],
      "source": [
        "# Write your code here..."
      ]
    },
    {
      "cell_type": "markdown",
      "metadata": {
        "id": "Jo8lL7uhzrWH"
      },
      "source": [
        "### Task 6"
      ]
    },
    {
      "cell_type": "markdown",
      "metadata": {
        "id": "Uq5GYbM80Bdf"
      },
      "source": [
        "Find the remainders when dividing 10 by smaller numbers (using the `%` operator). That is (10 % 1, 10 % 2, etc.)."
      ]
    },
    {
      "cell_type": "code",
      "execution_count": null,
      "metadata": {
        "id": "x1L3gbnczyWC"
      },
      "outputs": [],
      "source": [
        "# Write your code here..."
      ]
    },
    {
      "cell_type": "markdown",
      "metadata": {
        "id": "GrwgH04qzskb"
      },
      "source": [
        "### Task 7"
      ]
    },
    {
      "attachments": {},
      "cell_type": "markdown",
      "metadata": {
        "id": "Lb3SW0l90oKE"
      },
      "source": [
        "Perform floor division (using the `//` operator) with these numbers:\n",
        "* 5 // 2\n",
        "* 6 // 3\n",
        "* 6 // 4\n",
        "* 80 // 3\n",
        "* 45 // 4\n",
        "* 45 // 3"
      ]
    },
    {
      "cell_type": "code",
      "execution_count": null,
      "metadata": {
        "id": "I6GYwxNDzzbO"
      },
      "outputs": [],
      "source": [
        "# Write your code here..."
      ]
    },
    {
      "cell_type": "markdown",
      "metadata": {
        "id": "BQHF1DmGzt9D"
      },
      "source": [
        "### Task 8"
      ]
    },
    {
      "cell_type": "markdown",
      "metadata": {
        "id": "xb2qrFlX08LH"
      },
      "source": [
        "Determine the data types (use `type()`) for these cases:\n",
        "* if the number is 6\n",
        "* if the number is 2.5\n",
        "* if the number is 157\n",
        "* if the number is -8.2\n",
        "* if there is division 2 / 5\n",
        "* if there is addition 8 + 9\n",
        "* if there is addition 8.5 + 3"
      ]
    },
    {
      "cell_type": "code",
      "execution_count": null,
      "metadata": {
        "id": "jzfkrnsjz0Mz"
      },
      "outputs": [],
      "source": [
        "# Write your code here..."
      ]
    }
  ],
  "metadata": {
    "colab": {
      "provenance": []
    },
    "kernelspec": {
      "display_name": "Python 3",
      "language": "python",
      "name": "python3"
    },
    "language_info": {
      "name": "python",
      "version": "3.7.9 (tags/v3.7.9:13c94747c7, Aug 17 2020, 18:58:18) [MSC v.1900 64 bit (AMD64)]"
    },
    "vscode": {
      "interpreter": {
        "hash": "aa11ca274996316222ef16f35c5f6dbeb467b694c0b2154cdf34dcf9271d5fd0"
      }
    }
  },
  "nbformat": 4,
  "nbformat_minor": 0
}