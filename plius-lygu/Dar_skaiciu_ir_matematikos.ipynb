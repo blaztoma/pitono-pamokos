{
  "nbformat": 4,
  "nbformat_minor": 0,
  "metadata": {
    "colab": {
      "provenance": []
    },
    "kernelspec": {
      "name": "python3",
      "display_name": "Python 3"
    },
    "language_info": {
      "name": "python"
    }
  },
  "cells": [
    {
      "cell_type": "markdown",
      "source": [
        "# Kitos matematinės operacijos"
      ],
      "metadata": {
        "id": "vQyNbZ4ZQzvZ"
      }
    },
    {
      "cell_type": "markdown",
      "source": [
        "Mes jau žinome šiuos matematinius operatorius:\n",
        "\n",
        "Operatorius\t| Pavadinimas |\tPavyzdys | Paaiškinimas\n",
        "------------|-------------|----------|-------------\n",
        "`+` | Sudėtis | `5 + 3` | Sudeda `5` ir `3`\n",
        "`-` | Atimtis | `5 - 3` | Atima `3` iš `5`\n",
        "`*` | Daugyba | `5 * 3` | Sudaugina `5` iš `3`\n",
        "`/` | Dalyba | `5 / 3` | Padalina `5` iš `3`\n",
        "`**` | Laipsnis | `5 ** 3` | Pakelia `5` laipsniu `3`\n",
        "`%` | Modulis | `5 % 3` | Liekana (ats. 2)\n",
        "`//` | Dalyba | `5 // 3` | Sveiko skaičiaus dalyba (ats. 1)  "
      ],
      "metadata": {
        "id": "YMPVuhOnQ91l"
      }
    },
    {
      "cell_type": "markdown",
      "source": [
        "Ir žinome pagrindinę priskyrimo kintamiesiems formą:\n",
        "```\n",
        "kintamasis = reikšmė\n",
        "```\n",
        "\n"
      ],
      "metadata": {
        "id": "iVk319FqRETx"
      }
    },
    {
      "cell_type": "markdown",
      "source": [
        "Dažnai pasitaiko tokia situacija, kai kintamąjį reikia pakeisti. Pavyzdžiui jį padidinant, pamažinant ar kitaip pakeičiant jo reikšmę. Pavyzdžiui, norint padidinti pradinę kintamojo `kintamasis` reikšmę 5-iais, reikia daryti taip:"
      ],
      "metadata": {
        "id": "6ESXyeToRhwd"
      }
    },
    {
      "cell_type": "code",
      "execution_count": 1,
      "metadata": {
        "colab": {
          "base_uri": "https://localhost:8080/"
        },
        "id": "7u_QfX8IQrv_",
        "outputId": "25615354-223c-472e-86a3-71bf2a8d5549"
      },
      "outputs": [
        {
          "output_type": "stream",
          "name": "stdout",
          "text": [
            "10\n"
          ]
        }
      ],
      "source": [
        "kintamasis = 5\n",
        "kintamasis = kintamasis + 5\n",
        "print(kintamasis)"
      ]
    },
    {
      "cell_type": "markdown",
      "source": [
        "Pitone, kaip ir įvairiose kitose programavimo kalbose, tai galima padaryti efektyviau:"
      ],
      "metadata": {
        "id": "iU0-mvKHSlty"
      }
    },
    {
      "cell_type": "code",
      "source": [
        "kintamasis = 5\n",
        "kintamasis += 5\n",
        "print(kintamasis)"
      ],
      "metadata": {
        "colab": {
          "base_uri": "https://localhost:8080/"
        },
        "id": "iUCFSPLvS1vo",
        "outputId": "39232cf9-0820-43ec-bb70-6d631d64ee0b"
      },
      "execution_count": 7,
      "outputs": [
        {
          "output_type": "stream",
          "name": "stdout",
          "text": [
            "1000\n"
          ]
        }
      ]
    },
    {
      "cell_type": "markdown",
      "source": [
        "Ar pastebėjote skirtumą? Kaip matote, skirtumas yra `+=` operacija."
      ],
      "metadata": {
        "id": "OLObCchRS9tl"
      }
    },
    {
      "cell_type": "markdown",
      "source": [
        "## Kiti reikšmės pakeitimo operatoriai"
      ],
      "metadata": {
        "id": "9xBFar1sTKVZ"
      }
    },
    {
      "cell_type": "markdown",
      "source": [
        "`+=` yra ne vienintelis toks reikšmės pakeitimo (šiuo atveju - padidinimo) operatorius. Yra ir eilė kitų:\n",
        "\n",
        "Priskyrimas | Atitikmuo | Paaiškinimas\n",
        "------------|-----------|----------\n",
        "`x += y` | `x = x + y` | Kintamasis `x` padidinamas `y` skaičiumi\n",
        "`x -= y` | `x = x - y` | Kintamasis `x` sumažinamas `y` skaičiumi\n",
        "`x *= y` | `x = x * y` | Kintamasis `x` padauginamas iš `y` \n",
        "`x /= y` | `x = x / y` | Kintamasis `x` padalinamas iš `y` \n",
        "`x %= y` | `x = x % y` | Kintamasis `x` padalinamas iš `y` ir paimama liekana\n",
        "`x **= y` | `x = x % y` | Kintamasis `x` pakeliamas `y` laipsniu\n",
        "\n"
      ],
      "metadata": {
        "id": "nz0CnfyjTfoq"
      }
    },
    {
      "cell_type": "markdown",
      "source": [
        "Panagrinėkite žemiau esantį pavyzdį ir jei kas buvo neaišku - paaiškės 😀"
      ],
      "metadata": {
        "id": "SIhriuTCWf68"
      }
    },
    {
      "cell_type": "code",
      "source": [
        "skaicius = 0\n",
        "print('= 0:', skaicius)\n",
        "\n",
        "skaicius += 10\n",
        "print('+= 10:', skaicius)\n",
        "\n",
        "skaicius -= 5\n",
        "print('-= 5:', skaicius)\n",
        "\n",
        "skaicius *= 2\n",
        "print('*= 2:', skaicius)\n",
        "\n",
        "skaicius /= 4\n",
        "print('/= 4:', skaicius)"
      ],
      "metadata": {
        "colab": {
          "base_uri": "https://localhost:8080/"
        },
        "id": "A6TCHzv_WfKk",
        "outputId": "16ea7a7e-a7b0-4b08-c93b-e083a3d1438d"
      },
      "execution_count": 9,
      "outputs": [
        {
          "output_type": "stream",
          "name": "stdout",
          "text": [
            "= 0: 0\n",
            "+= 10: 10\n",
            "-= 5: 5\n",
            "*= 2: 10\n",
            "/= 4: 2.5\n"
          ]
        }
      ]
    },
    {
      "cell_type": "markdown",
      "source": [
        "Čia matėte operacijas su skaičiais. Kita vertus, ši operacija galioja ir kitiems tipams, pavyzdžiui eilutėms:"
      ],
      "metadata": {
        "id": "v7aTNWPxVyGg"
      }
    },
    {
      "cell_type": "code",
      "source": [
        "eilute = \"Čia yra pirma eilutė \"\n",
        "eilute += \"sujungta su kita eilute.\"\n",
        "print(eilute)"
      ],
      "metadata": {
        "colab": {
          "base_uri": "https://localhost:8080/"
        },
        "id": "WBhqUQpnV7AX",
        "outputId": "a650e2be-93cb-4307-9793-ba3ed885d421"
      },
      "execution_count": 8,
      "outputs": [
        {
          "output_type": "stream",
          "name": "stdout",
          "text": [
            "Čia yra pirma eilutė sujungta su kita eilute.\n"
          ]
        }
      ]
    },
    {
      "cell_type": "markdown",
      "source": [
        "## Užduotys"
      ],
      "metadata": {
        "id": "SzDBjd_LdNgD"
      }
    },
    {
      "cell_type": "markdown",
      "source": [
        "# Užduotis 1"
      ],
      "metadata": {
        "id": "hcO7u0vidQzN"
      }
    },
    {
      "cell_type": "markdown",
      "source": [
        "Duotas pradinis kodas. Pakeiskite `?` taip, kad rezultatas būtų `125`."
      ],
      "metadata": {
        "id": "FloWp3HidVWh"
      }
    },
    {
      "cell_type": "code",
      "source": [
        "rezultatas = 5\n",
        "rezultatas ?= 2\n",
        "rezultatas ?= 5\n",
        "rezultatas ?= 3\n",
        "print(rezultatas)"
      ],
      "metadata": {
        "colab": {
          "base_uri": "https://localhost:8080/"
        },
        "id": "vdSiSWtJdtLu",
        "outputId": "25a369d4-bd9a-4ced-ebea-f15920a6e6d6"
      },
      "execution_count": 10,
      "outputs": [
        {
          "output_type": "stream",
          "name": "stdout",
          "text": [
            "125\n"
          ]
        }
      ]
    }
  ]
}