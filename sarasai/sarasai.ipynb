{
  "nbformat": 4,
  "nbformat_minor": 0,
  "metadata": {
    "colab": {
      "provenance": []
    },
    "kernelspec": {
      "name": "python3",
      "display_name": "Python 3"
    },
    "language_info": {
      "name": "python"
    }
  },
  "cells": [
    {
      "cell_type": "markdown",
      "source": [
        "[![Open In Colab](https://colab.research.google.com/assets/colab-badge.svg)](https://colab.research.google.com/github/blaztoma/pitono-pamokos/blob/main/kintamieji/Kintamieji.ipynb)"
      ],
      "metadata": {
        "id": "shyEKf0O8OZ9"
      }
    },
    {
      "cell_type": "markdown",
      "source": [
        "#Sąrašai"
      ],
      "metadata": {
        "id": "H4xoHJotkela"
      }
    },
    {
      "cell_type": "markdown",
      "source": [
        "##Kas yra sąrašai?\n",
        "Programuojant dažnai tenka dirbti su duomenų rinkiniais. Pitonas - viena patogiausių kalbų tokiems dalykams. Sąrašas yra viena iš daugelio integruotų Pitono duomenų struktūrų, leidžiančių dirbti su duomenų rinkiniu nuoseklia tvarka.\n",
        "\n",
        "Tarkime, norime sudaryti studentų sąrašą:\n",
        "* Tomas\n",
        "* Rimas\n",
        "* Rima\n",
        "* Sigita\n",
        "\n",
        "Pitono programoje galime sukurti kintamąjį, pavadintą `studentai` ir jam priskirti visus šiuos vardus:"
      ],
      "metadata": {
        "id": "6lAq5i2NlAZD"
      }
    },
    {
      "cell_type": "code",
      "execution_count": 1,
      "metadata": {
        "colab": {
          "base_uri": "https://localhost:8080/"
        },
        "id": "t8e4J2nXkcv8",
        "outputId": "aeb02828-0b88-4bb0-b00a-5121e3841db9"
      },
      "outputs": [
        {
          "output_type": "stream",
          "name": "stdout",
          "text": [
            "['Tomas', 'Rimas', 'Rima', 'Sigita']\n"
          ]
        }
      ],
      "source": [
        "studentai = [\"Tomas\", \"Rimas\", \"Rima\", \"Sigita\"]\n",
        "print(studentai)"
      ]
    },
    {
      "cell_type": "markdown",
      "source": [
        "Ar pastebėjote šiuos, su sąrašu susijusius dalykus:\n",
        "* sąrašas pradedamas simboliu `[` ir baigiamas `]`;\n",
        "* sąrašo elementai atskiriami kableliu (jokie kiti skirtukai netinka);\n",
        "* po kablelio paprastai padedamas tarpas lengvesniam programos skaitomumui (bet veiks ir be jo)."
      ],
      "metadata": {
        "id": "UvpdRZ17mQdS"
      }
    },
    {
      "cell_type": "markdown",
      "source": [
        "##Sąrašo elementų tipai\n",
        "Gali kilti klausimas: ką mes galime patalpinti sąraše. Ogi - daug ką! Matėte pavyzdį su eilutėmis, tačiau sąraše galime talpinti bet kurio Pitono tipo elementą.\n",
        "\n",
        "Štai taip atrodo `int` tipo sąrašas. Tebūnie tai bus studentų krepšininkų ūgiai:"
      ],
      "metadata": {
        "id": "JyqWu5Snm6ho"
      }
    },
    {
      "cell_type": "code",
      "source": [
        "studentu_ugiai = [180, 215, 205, 195]\n",
        "print(studentu_ugiai)"
      ],
      "metadata": {
        "colab": {
          "base_uri": "https://localhost:8080/"
        },
        "id": "1P_BAm8rnh3A",
        "outputId": "4ad8d0ec-006f-4ac0-f533-a7a1be84441a"
      },
      "execution_count": 3,
      "outputs": [
        {
          "output_type": "stream",
          "name": "stdout",
          "text": [
            "[180, 215, 205, 195]\n"
          ]
        }
      ]
    },
    {
      "cell_type": "markdown",
      "source": [
        "Skirtingai nuo kai kurių kitų programavimo kalbų - skirtingus tipus galime talpinti viename sąraše. Paimkime ir padarykime iš studentų vardų ir jų ūgių vieną sąrašą:"
      ],
      "metadata": {
        "id": "rEv2Qq-Bnv_T"
      }
    },
    {
      "cell_type": "code",
      "source": [
        "studentai = [\"Tomas\", 180, \"Rimas\", 215, \"Rima\", 205, \"Sigita\", 195]\n",
        "print(studentai)"
      ],
      "metadata": {
        "colab": {
          "base_uri": "https://localhost:8080/"
        },
        "id": "fq6T2p7joHjf",
        "outputId": "a1c4c869-a47a-4b00-83dd-c4876b03acff"
      },
      "execution_count": 4,
      "outputs": [
        {
          "output_type": "stream",
          "name": "stdout",
          "text": [
            "['Tomas', 180, 'Rimas', 215, 'Rima', 205, 'Sigita', 195]\n"
          ]
        }
      ]
    },
    {
      "cell_type": "markdown",
      "source": [
        "##Tušti sąrašai\n",
        "Dažniausiai programoje nebūna surašytų duomenų. Duomenys kaupiami atskiruose failuose, duomenų bazėse, interneto serveriuose. Tol kol jie bus užkrauti, mes galime apibrėžti tuščią sąrašą, kuris neturi nei vieno elemento."
      ],
      "metadata": {
        "id": "Q_FGeD3_okMF"
      }
    },
    {
      "cell_type": "code",
      "source": [
        "studentai = []"
      ],
      "metadata": {
        "id": "WcyznHtPpGXS"
      },
      "execution_count": null,
      "outputs": []
    },
    {
      "cell_type": "markdown",
      "source": [
        "##Sąrašo metodai\n",
        "Sąrašas Pitone yra Objektas, kuris sukurtas iš atitinkamos klasės. Neišsigąskite, jei nežinote - apie tai mokysimės daug vėliau. Esmė ta, kad sąrašas turi operacijas, kurios vadinamos metodais. Tos operacijos mums leidžia tvarkyti sąrašo elementus. Beje, terminus `metodas` ir `operacija` čia naudosime kaip sinonimus, tačiau jei norite būti visiškai tikslūs - naudokite terminą `metodas`."
      ],
      "metadata": {
        "id": "h32AdgeUpUFL"
      }
    },
    {
      "cell_type": "markdown",
      "source": [
        "###Elementų prijungimas naudojant append() metodą ir pliusą\n",
        "`append()` operacija leidžia prijungti elementą prie sąrašo galo. Sakykime, kad turime pradinį studentų vardų sąrašą (Tomas, Rimas, Rima, Sigita) ir prie jo norime prijungti naują studentą vardu Petras. Tuomet darysime šitaip:"
      ],
      "metadata": {
        "id": "C8n8JHIGp-vN"
      }
    },
    {
      "cell_type": "code",
      "source": [
        "studentai = [\"Tomas\", \"Rimas\", \"Rima\", \"Sigita\"]\n",
        "studentai.append(\"Petras\")\n",
        "print(studentai)"
      ],
      "metadata": {
        "colab": {
          "base_uri": "https://localhost:8080/"
        },
        "id": "6-fK1SMfqmXg",
        "outputId": "51f62b89-48c8-41cb-816d-3ef7dce3a575"
      },
      "execution_count": 5,
      "outputs": [
        {
          "output_type": "stream",
          "name": "stdout",
          "text": [
            "['Tomas', 'Rimas', 'Rima', 'Sigita', 'Petras']\n"
          ]
        }
      ]
    },
    {
      "cell_type": "markdown",
      "source": [
        "Dabar galime aptarti sintaksę. Norint panaudoti sąrašo operaciją, pirmiausiai užrašomas sąrašo kintamojo pavadinimas (studentai šiuo atveju). Tuomet dedamas taškas ir po jo užrašomas metodo pavadinimas. Po jo dedami skliausteliai, kuriuose galime pateikti reikalingus duomenis."
      ],
      "metadata": {
        "id": "8cQJ6NsfqtwK"
      }
    },
    {
      "cell_type": "markdown",
      "source": [
        "Dabar įsivaizduokite situaciją, kad jums reikia pridėti, ne vieną studentą, bet visą jų grupę. Būtų labai liūdna, jei tai reikėtų daryti naudojant `append()` metodą - labai daug tekų rašyti. Laimei - prie sąrašo mes galime prijungti kitą sąrašą pasinaudodami pliuso (`+`) operacija:"
      ],
      "metadata": {
        "id": "5Blgwx70sPCp"
      }
    },
    {
      "cell_type": "code",
      "source": [
        "studentai = [\"Tomas\", \"Rimas\", \"Rima\", \"Sigita\"]\n",
        "studentai += [\"Petras\", \"Antanas\", \"Nijolė\"]\n",
        "print(studentai)"
      ],
      "metadata": {
        "colab": {
          "base_uri": "https://localhost:8080/"
        },
        "id": "gmHmp_UAs3zZ",
        "outputId": "50c0d39b-5ba6-4326-e5f6-494c6baa8763"
      },
      "execution_count": 6,
      "outputs": [
        {
          "output_type": "stream",
          "name": "stdout",
          "text": [
            "['Tomas', 'Rimas', 'Rima', 'Sigita', 'Petras', 'Antanas', 'Nijolė']\n"
          ]
        }
      ]
    },
    {
      "cell_type": "markdown",
      "source": [
        "Čia pridėjome visą sąrašą, tačiau tokiu pat būdu galime pridėti ir vieną vienintelį elementą. Tik nepamirškite naudoti sąrašą žyminčių skliaustelių (pvz., `studentai += [\"Marytė\"]`)."
      ],
      "metadata": {
        "id": "cbgNBkbTtEqg"
      }
    },
    {
      "cell_type": "markdown",
      "source": [
        "###Sąrašo elementų gavimas naudojant indeksus\n",
        "Pitonas susinumeruoja mūsų sąrašo elementus ir mes tuos elementus galime pasiekti naudodami jų numerius. Pavyzdžiui, mūsų pradinį studentų sąrašą Pitonas susinumeruos taip:\n",
        "\n",
        "| Elementas | Indeksas\n",
        "|-----------|---------\n",
        "| Tomas | 0\n",
        "| Rimas | 1\n",
        "| Rima | 2\n",
        "| Sigita | 3\n",
        "\n",
        "Įdomus dalykas! Kaip matote, Pitonas numeruoja žmones ir kitus elementus nuo `0`. Taip jau yra - daugelis kalbų kažkodėl taip daro...\n",
        "\n",
        "Taigi, pamėginkime atspausdinti antrą studentų sąrašo elementą:\n"
      ],
      "metadata": {
        "id": "koZBSmpRt39D"
      }
    },
    {
      "cell_type": "code",
      "source": [
        "studentai = [\"Tomas\", \"Rimas\", \"Rima\", \"Sigita\"]\n",
        "print(studentai[1])"
      ],
      "metadata": {
        "colab": {
          "base_uri": "https://localhost:8080/"
        },
        "id": "IpJJWs4pvFzh",
        "outputId": "0d290596-50b5-4abd-9ba6-46843f89c5db"
      },
      "execution_count": 7,
      "outputs": [
        {
          "output_type": "stream",
          "name": "stdout",
          "text": [
            "Rimas\n"
          ]
        }
      ]
    },
    {
      "cell_type": "markdown",
      "source": [
        "Ar pastebėjote, kad norėdami atspausdinti antrą elementą turėjome nurodyti pirmą (`1`) indeksą. Taip, taip - čia dėl to, kad elementai numeruojami (kitaip sakant - indeksuojami) nuo `0`.\n",
        "\n",
        "Dėl šito ar kito dalyko kartais galime ir apsirinkti. Pasižiūrėkime, kaip reaguos mūsų Pitonas:"
      ],
      "metadata": {
        "id": "mAaVUUehwcz3"
      }
    },
    {
      "cell_type": "code",
      "source": [
        "studentai = [\"Tomas\", \"Rimas\", \"Rima\", \"Sigita\"]\n",
        "print(studentai[4])"
      ],
      "metadata": {
        "colab": {
          "base_uri": "https://localhost:8080/",
          "height": 188
        },
        "id": "0RefTdIBw8LM",
        "outputId": "f23a9bf7-b495-4783-fb67-d8744d407f9b"
      },
      "execution_count": 8,
      "outputs": [
        {
          "output_type": "error",
          "ename": "IndexError",
          "evalue": "ignored",
          "traceback": [
            "\u001b[0;31m---------------------------------------------------------------------------\u001b[0m",
            "\u001b[0;31mIndexError\u001b[0m                                Traceback (most recent call last)",
            "\u001b[0;32m<ipython-input-8-992cee9bcc81>\u001b[0m in \u001b[0;36m<module>\u001b[0;34m\u001b[0m\n\u001b[1;32m      1\u001b[0m \u001b[0mstudentai\u001b[0m \u001b[0;34m=\u001b[0m \u001b[0;34m[\u001b[0m\u001b[0;34m\"Tomas\"\u001b[0m\u001b[0;34m,\u001b[0m \u001b[0;34m\"Rimas\"\u001b[0m\u001b[0;34m,\u001b[0m \u001b[0;34m\"Rima\"\u001b[0m\u001b[0;34m,\u001b[0m \u001b[0;34m\"Sigita\"\u001b[0m\u001b[0;34m]\u001b[0m\u001b[0;34m\u001b[0m\u001b[0;34m\u001b[0m\u001b[0m\n\u001b[0;32m----> 2\u001b[0;31m \u001b[0mprint\u001b[0m\u001b[0;34m(\u001b[0m\u001b[0mstudentai\u001b[0m\u001b[0;34m[\u001b[0m\u001b[0;36m4\u001b[0m\u001b[0;34m]\u001b[0m\u001b[0;34m)\u001b[0m\u001b[0;34m\u001b[0m\u001b[0;34m\u001b[0m\u001b[0m\n\u001b[0m",
            "\u001b[0;31mIndexError\u001b[0m: list index out of range"
          ]
        }
      ]
    },
    {
      "cell_type": "markdown",
      "source": [
        "Matote, klaidos tipas yra `IndexError`, o klaidos apibūdinimas: `list out of range` arba \"nepatenka į sąrašo intervalą\". Tai pamačius, mes jau žinosime kur klaida."
      ],
      "metadata": {
        "id": "WnhULiGFxCGk"
      }
    },
    {
      "cell_type": "markdown",
      "source": [
        "Šį kartą, eksperimentuodami, mes viršijome sąrašo ribą. O kas atsitiktų, jei mes tą ribą peržengtume į kitą pusę, tai yra - parinktume neigiamą indeksą. Turbūt turėtų būti ta pati IndexError klaida!?"
      ],
      "metadata": {
        "id": "uZIkk5ZPxj-W"
      }
    },
    {
      "cell_type": "code",
      "source": [
        "studentai = [\"Tomas\", \"Rimas\", \"Rima\", \"Sigita\"]\n",
        "print(studentai[-1])"
      ],
      "metadata": {
        "colab": {
          "base_uri": "https://localhost:8080/"
        },
        "id": "tcjF5t8Rx3oJ",
        "outputId": "6228ae23-1b17-409f-d848-872be68479c3"
      },
      "execution_count": 9,
      "outputs": [
        {
          "output_type": "stream",
          "name": "stdout",
          "text": [
            "Sigita\n"
          ]
        }
      ]
    },
    {
      "cell_type": "markdown",
      "source": [
        "Ogi, pasirodo, kad ne! Keistas sutvėrimas tas Pitonas - jis paėmė paskutinį elementą. Pasirodo, Pitone galime susinumeruoti ir atvirkštine tvarka :) Na, o mūsų studentų sąrašo indeksai bus tokie:\n",
        "\n",
        "| Elementas | Indeksas | Neigiamas indeksas\n",
        "|-----------|--------- |-------------------\n",
        "| Tomas | 0 | -4\n",
        "| Rimas | 1 | -3\n",
        "| Rima | 2 | -2\n",
        "| Sigita | 3 | -1"
      ],
      "metadata": {
        "id": "3gO47xuZyCnD"
      }
    },
    {
      "cell_type": "markdown",
      "source": [
        "###Sąrašo elementų keitimas\n",
        "Sąrašo elemento pakeitimas yra paprastas. Tereikia išrinkti keičiamą elementą panaudojus jo indeksą ir priskirti naują reikšmę:"
      ],
      "metadata": {
        "id": "G4Up6D4ayzS9"
      }
    },
    {
      "cell_type": "code",
      "source": [
        "studentai = [\"Tomas\", \"Rimas\", \"Rima\", \"Sigita\"]\n",
        "studentai[1] = \"Antanas\"\n",
        "print(studentai)"
      ],
      "metadata": {
        "colab": {
          "base_uri": "https://localhost:8080/"
        },
        "id": "J5RdspixzOA_",
        "outputId": "d800f720-f527-407a-e210-a907697481fb"
      },
      "execution_count": 10,
      "outputs": [
        {
          "output_type": "stream",
          "name": "stdout",
          "text": [
            "['Tomas', 'Antanas', 'Rima', 'Sigita']\n"
          ]
        }
      ]
    },
    {
      "cell_type": "markdown",
      "source": [
        "###Sąrašo elemento pašalinimas\n",
        "Įsivaizduokite, kad įvyko didelė nelaimė ir studentas Tomas iškrito iš universiteto neišlaikęs matematikos egzamino! Tuomet mes jį galime pašalinti ir iš sąrašo, panaudodami metodą `remove()`:"
      ],
      "metadata": {
        "id": "NwwL7cFYzskD"
      }
    },
    {
      "cell_type": "code",
      "source": [
        "studentai = [\"Tomas\", \"Rimas\", \"Rima\", \"Sigita\"]\n",
        "studentai.remove(\"Tomas\")\n",
        "print(studentai)"
      ],
      "metadata": {
        "colab": {
          "base_uri": "https://localhost:8080/"
        },
        "id": "7U8uJGRG0e2_",
        "outputId": "f20d3650-a998-4d80-adc2-52bc1dba7b3c"
      },
      "execution_count": 12,
      "outputs": [
        {
          "output_type": "stream",
          "name": "stdout",
          "text": [
            "['Rimas', 'Rima', 'Sigita']\n"
          ]
        }
      ]
    },
    {
      "cell_type": "markdown",
      "source": [
        "O kas bus, jei bus du Tomai?"
      ],
      "metadata": {
        "id": "fCRBEcW40nSo"
      }
    },
    {
      "cell_type": "code",
      "source": [
        "studentai = [\"Tomas\", \"Rimas\", \"Rima\", \"Tomas\"]\n",
        "studentai.remove(\"Tomas\")\n",
        "print(studentai)"
      ],
      "metadata": {
        "colab": {
          "base_uri": "https://localhost:8080/"
        },
        "id": "SiF8E5560zmj",
        "outputId": "33288fb1-48e6-4877-f831-5546d8017b4b"
      },
      "execution_count": 13,
      "outputs": [
        {
          "output_type": "stream",
          "name": "stdout",
          "text": [
            "['Rimas', 'Rima', 'Tomas']\n"
          ]
        }
      ]
    },
    {
      "cell_type": "markdown",
      "source": [
        "Aha, pašalino tik pirmąjį Tomą. Norite pašalinti antrąjį, nepašalinę pirmojo Tomo? Tuomet teks pasinaudoti viena iš daugelio sąrašų tvarkymo funkcijų `del()`:"
      ],
      "metadata": {
        "id": "xq_9aeZ604lj"
      }
    },
    {
      "cell_type": "code",
      "source": [
        "studentai = [\"Tomas\", \"Rimas\", \"Rima\", \"Tomas\"]\n",
        "del(studentai[-1])\n",
        "print(studentai)"
      ],
      "metadata": {
        "colab": {
          "base_uri": "https://localhost:8080/"
        },
        "id": "L9FnYUtc1LHZ",
        "outputId": "a41471b5-5461-4460-c69b-c2d38133d9ab"
      },
      "execution_count": 14,
      "outputs": [
        {
          "output_type": "stream",
          "name": "stdout",
          "text": [
            "['Tomas', 'Rimas', 'Rima']\n"
          ]
        }
      ]
    },
    {
      "cell_type": "markdown",
      "source": [
        "Matote - čia pašalinimui jau panaudojome indeksą. Yra ir daugiau patogių operacijų - mes dar prie jų prieisime."
      ],
      "metadata": {
        "id": "J3JUQmdS1S29"
      }
    },
    {
      "cell_type": "markdown",
      "source": [
        "##Dvimačiai sąrašai"
      ],
      "metadata": {
        "id": "g45SURbb2ALB"
      }
    },
    {
      "cell_type": "markdown",
      "source": [
        "Mes jau turėjome studentų ir jų ūgių sąrašą. Jo mums užtenka, kad galėtume tvarkyti studentų ūgius:"
      ],
      "metadata": {
        "id": "UL5atf9s2hIP"
      }
    },
    {
      "cell_type": "code",
      "source": [
        "studentai = [\"Tomas\", 180, \"Rimas\", 215, \"Rima\", 205, \"Sigita\", 195]\n",
        "print(studentai[5])"
      ],
      "metadata": {
        "colab": {
          "base_uri": "https://localhost:8080/"
        },
        "id": "dohvqAPL2vsq",
        "outputId": "50e04598-b621-413a-a698-716a7429233b"
      },
      "execution_count": 15,
      "outputs": [
        {
          "output_type": "stream",
          "name": "stdout",
          "text": [
            "205\n"
          ]
        }
      ]
    },
    {
      "cell_type": "markdown",
      "source": [
        "Bet, įsivaizduokite, jei norėsime gauti trečio studento ūgį, turėsime naudoti indeksą `5`. Tai labai nepatogu. Daug geriau studentus ir jų ūgius numeruoti tuo pačiu indeksu. Taip išvengsime neatidumo klaidų.\n",
        "\n",
        "Pitone, kaip ir daugelyje kitų kalbų, tai daroma tokiu būdu:"
      ],
      "metadata": {
        "id": "7fgPPg8l2w6n"
      }
    },
    {
      "cell_type": "code",
      "source": [
        "studentai = [[\"Tomas\", 180], [\"Rimas\", 215], [\"Rima\", 205], [\"Sigita\", 195]]\n",
        "print(studentai[2], studentai[3])"
      ],
      "metadata": {
        "colab": {
          "base_uri": "https://localhost:8080/"
        },
        "id": "mGMK5Y4t3Qxl",
        "outputId": "13b5c4f1-8ad5-450a-bf8e-81816c311adb"
      },
      "execution_count": 17,
      "outputs": [
        {
          "output_type": "stream",
          "name": "stdout",
          "text": [
            "['Rima', 205] ['Sigita', 195]\n"
          ]
        }
      ]
    },
    {
      "cell_type": "markdown",
      "source": [
        "Matote - taip daug paprasčiau :) Ką padarėme - tai kiekvieno studento duomenis organizavome kaip atskirą sąrašą. Ir kiekvienas tas nedidelis sąrašas yra bendro sąrašo elementas."
      ],
      "metadata": {
        "id": "xQEEAPt53hE9"
      }
    },
    {
      "cell_type": "markdown",
      "source": [
        "###Dvimačio sąrašo elementų gavimas ir keitimas"
      ],
      "metadata": {
        "id": "CV8kGcaF4SEz"
      }
    },
    {
      "cell_type": "markdown",
      "source": [
        "Dvimatį sąrašą galite įsivaizduoti kaip skaičiuoklės lentelę.\n",
        "\n",
        "| Indeksai  | 0 | 1\n",
        "|---|---|---\n",
        "| 0 | Tomas | 180\n",
        "| 1 | Rimas | 215\n",
        "| 2 | Rima | 205\n",
        "| 3 | Sigita | 195\n",
        "\n",
        "Pasiekti elementus galime naudodami dvigubus indeksus:"
      ],
      "metadata": {
        "id": "Nb0VvWyU4cEY"
      }
    },
    {
      "cell_type": "code",
      "source": [
        "studentai = [[\"Tomas\", 180], [\"Rimas\", 215], [\"Rima\", 205], [\"Sigita\", 195]]\n",
        "print(studentai[0][0], studentai[0][1])\n",
        "print(studentai[1][0], studentai[1][1])\n",
        "print(studentai[2][0], studentai[2][1])\n",
        "print(studentai[3][0], studentai[3][1])"
      ],
      "metadata": {
        "colab": {
          "base_uri": "https://localhost:8080/"
        },
        "id": "Pz6PXkdK5nRg",
        "outputId": "30201a33-60ae-4319-c0dc-51822797fbd0"
      },
      "execution_count": 19,
      "outputs": [
        {
          "output_type": "stream",
          "name": "stdout",
          "text": [
            "Tomas 180\n",
            "Rimas 215\n",
            "Rima 205\n",
            "Sigita 195\n"
          ]
        }
      ]
    },
    {
      "cell_type": "markdown",
      "source": [
        "Paprasta, ar ne? Pirmasis indeksas žymi lentelės eilutę, o antrasis - stulpelį. Jei kada susimaišysite - prisiminkite skaičiuoklę :)\n",
        "\n",
        "Na o dabar pakeiskime elementą. Šį kartą studentę Rimą pakeičiam Maryte:"
      ],
      "metadata": {
        "id": "LyiNBmOV6DzJ"
      }
    },
    {
      "cell_type": "code",
      "source": [
        "studentai = [[\"Tomas\", 180], [\"Rimas\", 215], [\"Rima\", 205], [\"Sigita\", 195]]\n",
        "studentai[2][0] = \"Marytė\"\n",
        "studentai[2][1] = 175\n",
        "print(studentai)"
      ],
      "metadata": {
        "colab": {
          "base_uri": "https://localhost:8080/"
        },
        "id": "YKpLU964677p",
        "outputId": "ddb16159-4701-41d2-b435-b432556e7341"
      },
      "execution_count": 20,
      "outputs": [
        {
          "output_type": "stream",
          "name": "stdout",
          "text": [
            "[['Tomas', 180], ['Rimas', 215], ['Marytė', 175], ['Sigita', 195]]\n"
          ]
        }
      ]
    },
    {
      "cell_type": "markdown",
      "source": [
        "Šį kartą keitėme po vieną elementą, bet jei mums reikia pakeisti visą vidinio sąrašo elementą, galime daryti šitaip:"
      ],
      "metadata": {
        "id": "cATUov9y7Ome"
      }
    },
    {
      "cell_type": "code",
      "source": [
        "studentai = [[\"Tomas\", 180], [\"Rimas\", 215], [\"Rima\", 205], [\"Sigita\", 195]]\n",
        "studentai[2] = [\"Marytė\", 175]\n",
        "print(studentai)"
      ],
      "metadata": {
        "colab": {
          "base_uri": "https://localhost:8080/"
        },
        "id": "_f4s1_c_7ZKY",
        "outputId": "d4cb9c79-81d4-44b0-ba2f-a75a32536ea2"
      },
      "execution_count": 21,
      "outputs": [
        {
          "output_type": "stream",
          "name": "stdout",
          "text": [
            "[['Tomas', 180], ['Rimas', 215], ['Marytė', 175], ['Sigita', 195]]\n"
          ]
        }
      ]
    },
    {
      "cell_type": "markdown",
      "source": [
        "##Apibendrinimas\n",
        "Šį tą sužinojome apie paprastus ir dvimačius sąrašus. Šiek tiek pramokome juos tvarkyti, bet čia dar tik prasidėjo mūsų pažintis su sąrašais!"
      ],
      "metadata": {
        "id": "J6n_PpBm6hy6"
      }
    }
  ]
}