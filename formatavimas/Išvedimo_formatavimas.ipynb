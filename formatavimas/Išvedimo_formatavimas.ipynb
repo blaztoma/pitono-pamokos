{
  "nbformat": 4,
  "nbformat_minor": 0,
  "metadata": {
    "colab": {
      "provenance": []
    },
    "kernelspec": {
      "name": "python3",
      "display_name": "Python 3"
    },
    "language_info": {
      "name": "python"
    }
  },
  "cells": [
    {
      "cell_type": "markdown",
      "source": [
        "# Išvedimo formatavimas"
      ],
      "metadata": {
        "id": "tryOIkqN4dV3"
      }
    },
    {
      "cell_type": "markdown",
      "source": [
        "Dažnai reikia suskaičiuoti įvairias reikšmes, jas apjungti ir gražiai išvesti. Panagrinėkime kelias galimybes tai padaryti."
      ],
      "metadata": {
        "id": "RNypakjB4hM4"
      }
    },
    {
      "cell_type": "markdown",
      "source": [
        "Jei naudosime funkciją `print()` ir kintamuosius atskirsime kableliu, tuomet Pitonas pats sudarys eilutę išvedimui:"
      ],
      "metadata": {
        "id": "wUmsNqiC5SwX"
      }
    },
    {
      "cell_type": "code",
      "execution_count": 1,
      "metadata": {
        "colab": {
          "base_uri": "https://localhost:8080/"
        },
        "id": "QhshRVW84J6h",
        "outputId": "7943631a-cf60-426c-a6d7-27de9196c0f1"
      },
      "outputs": [
        {
          "output_type": "stream",
          "name": "stdout",
          "text": [
            "Citroen Xsara buvo pagaminta 2002 metais ir nuvaziavo 148974 km\n"
          ]
        }
      ],
      "source": [
        "marke = 'Citroen'\n",
        "modelis = 'Xsara'\n",
        "metai = 2002 \n",
        "rida = 148974\n",
        "\n",
        "print(marke, modelis, 'buvo pagaminta', metai, 'metais ir nuvaziavo', rida, 'km.')"
      ]
    },
    {
      "cell_type": "markdown",
      "source": [
        "Eilutes galima sujungti prieš išvedant. Tai vienas dažniausiai naudojamų būdų. Tiesa, sujungiant eilutes reikia konvertuoti kitų tipų kintamuosius į eilutės tipą. Tam naudojama funkcija `str()`."
      ],
      "metadata": {
        "id": "6wvFM5vi5go3"
      }
    },
    {
      "cell_type": "code",
      "source": [
        "marke = 'Citroen'\n",
        "modelis = 'Xsara'\n",
        "metai = 2002\n",
        "rida = 148974\n",
        "\n",
        "# Šis kodas neveiks (rodys klaidą), nes Pitonas nemokės sujungti eilutės ir skaičiaus.\n",
        "# Galite šią eilutę nukomentuoti ir pažiūrėti.  \n",
        "# sakinys = marke + \" \" + modelis + \" buvo pagaminta \" + metai + \" metais ir nuvažiavo \" + rida + \" km.\"\n",
        "\n",
        "# O šis kodas geras, nes jis konvertuoja skaičius į eilutės tipą\n",
        "sakinys = marke + \" \" + modelis + \" buvo pagaminta \" + str(metai) + \" metais ir nuvažiavo \" + str(rida) + \" km.\"\n",
        "\n",
        "print(sakinys)"
      ],
      "metadata": {
        "colab": {
          "base_uri": "https://localhost:8080/"
        },
        "id": "UpMek1-e_dxW",
        "outputId": "1e51ca31-c1bf-4a7c-9051-93e5f068c523"
      },
      "execution_count": 3,
      "outputs": [
        {
          "output_type": "stream",
          "name": "stdout",
          "text": [
            "Citroen Xsara buvo pagaminta 2002 metais ir nuvažiavo 148974 km.\n"
          ]
        }
      ]
    },
    {
      "cell_type": "markdown",
      "source": [
        "Jei norime išvengti tipų konvertavimo, formuoti tekstinę eilutę galime pasinaudojant `%` formatavimo operaciją. Šis būdas nerekomenduojamas paties Pitono, bet galite pažiūrėti kaip jis atrodo:"
      ],
      "metadata": {
        "id": "xeCjYTxiBZTr"
      }
    },
    {
      "cell_type": "code",
      "source": [
        "marke = 'Citroen'\n",
        "modelis = 'Xsara'\n",
        "metai = 2002\n",
        "rida = 148974\n",
        "\n",
        "print(\"%s %s buvo pagaminta %s metais ir nuvažiavo %s km.\" % (marke, modelis, metai, rida))"
      ],
      "metadata": {
        "colab": {
          "base_uri": "https://localhost:8080/"
        },
        "id": "xny2Zzr8B92_",
        "outputId": "faf538bc-91d5-4b1f-f725-7788c1c34416"
      },
      "execution_count": 5,
      "outputs": [
        {
          "output_type": "stream",
          "name": "stdout",
          "text": [
            "Citroen Xsara buvo pagaminta 2002 metais ir nuvažiavo 148974 km.\n"
          ]
        }
      ]
    },
    {
      "cell_type": "markdown",
      "source": [
        "Šiek tiek geresnis būdas yra `format` naudojimas:"
      ],
      "metadata": {
        "id": "xmVXp63GC-7r"
      }
    },
    {
      "cell_type": "code",
      "source": [
        "marke = 'Citroen'\n",
        "modelis = 'Xsara'\n",
        "metai = 2002\n",
        "rida = 148974\n",
        "\n",
        "print(\"{1} {0} buvo pagaminta {2} metais ir nuvažiavo {3} km.\".format(modelis, marke, metai, rida))"
      ],
      "metadata": {
        "colab": {
          "base_uri": "https://localhost:8080/"
        },
        "id": "n7AdgkrdDMmJ",
        "outputId": "e2f2bd89-8044-4c87-9dac-a04151b7c6a7"
      },
      "execution_count": 7,
      "outputs": [
        {
          "output_type": "stream",
          "name": "stdout",
          "text": [
            "Citroen Xsara buvo pagaminta 2002 metais ir nuvažiavo 148974 km.\n"
          ]
        }
      ]
    },
    {
      "cell_type": "markdown",
      "source": [
        "Naujesniame Pitone (nuo 3.6 versijos) atsirado dar patogesnis ir geresnis būdas formatuoti išvedamą tekstą. Tam naudojamos taip vadinamos f-eilutės (`f\"\"` arba `f''`). Šios f-eilutės yra atsparesnės klaidoms ir greitesnės nei `%` ar `format` būdai. Naudokite jas.\n"
      ],
      "metadata": {
        "id": "SNARIQTUAdfv"
      }
    },
    {
      "cell_type": "code",
      "source": [
        "marke = 'Citroen'\n",
        "modelis = 'Xsara'\n",
        "metai = 2002\n",
        "rida = 148974\n",
        "\n",
        "print(f'{marke} {modelis} buvo pagaminta {metai} metais ir nuvaziavo {rida} km')"
      ],
      "metadata": {
        "colab": {
          "base_uri": "https://localhost:8080/"
        },
        "id": "mozGEPQyA_Ot",
        "outputId": "d7d2e75a-35e8-401f-b558-6cf16d631034"
      },
      "execution_count": 4,
      "outputs": [
        {
          "output_type": "stream",
          "name": "stdout",
          "text": [
            "Citroen Xsara buvo pagaminta 2002 metais ir nuvaziavo 148974 km\n"
          ]
        }
      ]
    },
    {
      "cell_type": "markdown",
      "source": [
        "Ir pabaigai, jei reiktų formatuoti daugelio eilučių tekstą, darykite taip:"
      ],
      "metadata": {
        "id": "patt7v5lL_Ac"
      }
    },
    {
      "cell_type": "code",
      "source": [
        "marke = 'Citroen'\n",
        "modelis = 'Xsara'\n",
        "metai = 2002\n",
        "rida = 148974\n",
        "\n",
        "sakinys = f\"\"\"\n",
        "  {marke} {modelis} \n",
        "  buvo pagaminta {metai} metais\n",
        "  ir nuvaziavo {rida} km'\n",
        "\"\"\"\n",
        "\n",
        "print(sakinys)"
      ],
      "metadata": {
        "colab": {
          "base_uri": "https://localhost:8080/"
        },
        "id": "A4eG9wdMMEXy",
        "outputId": "ad602157-5102-4f89-a315-aff437d083c4"
      },
      "execution_count": 9,
      "outputs": [
        {
          "output_type": "stream",
          "name": "stdout",
          "text": [
            "\n",
            "  Citroen Xsara \n",
            "  buvo pagaminta 2002 metais\n",
            "  ir nuvaziavo 148974 km'\n",
            "\n"
          ]
        }
      ]
    },
    {
      "cell_type": "markdown",
      "source": [
        "## Užduotys"
      ],
      "metadata": {
        "id": "6KnDfQ3fMmNR"
      }
    },
    {
      "cell_type": "markdown",
      "source": [
        "## Užduotis 1"
      ],
      "metadata": {
        "id": "axLuRXqlMsAR"
      }
    },
    {
      "cell_type": "markdown",
      "source": [
        "Duotas pradinis kodas. Suformatuokite eilutę taip, kad būtų išvedamas toks tekstas:\n",
        "```\n",
        "Vardenis Pavardenis (22 m.) mokosi 3-iame kurse, jo vidurkis yra 8.7\n",
        "```\n"
      ],
      "metadata": {
        "id": "LQVws38XMvF9"
      }
    },
    {
      "cell_type": "code",
      "source": [
        "vardas = 'Vardenis'\n",
        "pavarde = 'Pavardenis'\n",
        "amzius = 22\n",
        "kursas = 3\n",
        "vidurkis = 8.7\n",
        "\n",
        "# šioje vietoje suformuokite eilutę: eilute = ...\n",
        "\n",
        "print(eilute)"
      ],
      "metadata": {
        "id": "wasDoufDNMbc"
      },
      "execution_count": null,
      "outputs": []
    },
    {
      "cell_type": "markdown",
      "source": [
        "## Užduotis 2"
      ],
      "metadata": {
        "id": "BIYRCKJaN9Ak"
      }
    },
    {
      "cell_type": "markdown",
      "source": [
        "Duotas pradinis kodas. Suformatuokite eilutę taip, kad būtų išvedamas toks tekstas:\n",
        "```\n",
        "Mano batai buvo 2\n",
        "1 dingo - nerandu.\n",
        "Aš su 1 batuku,\n",
        "Niekur eiti negaliu.\n",
        "```\n",
        "Formatavimui panaudokite daugelio eilučių f-eilutę ir kode duotus kintamuosius."
      ],
      "metadata": {
        "id": "0ZpaFj-rONrB"
      }
    },
    {
      "cell_type": "code",
      "source": [
        "vienas = 1\n",
        "du = 2\n",
        "\n",
        "# šioje vietoje suformuokite eilutę: eilute = ...\n",
        "\n",
        "print(eilute)"
      ],
      "metadata": {
        "id": "DQRiAWKEOARE"
      },
      "execution_count": null,
      "outputs": []
    }
  ]
}