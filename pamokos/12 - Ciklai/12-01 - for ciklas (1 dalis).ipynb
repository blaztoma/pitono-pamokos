{
 "cells": [
  {
   "attachments": {},
   "cell_type": "markdown",
   "metadata": {},
   "source": [
    "# Ciklai\n",
    "\n",
    "- Ciklai naudojami norint kartoti tuos pačius veiksmus daugiau nei vieną kartą.\n",
    "- Yra du ciklų tipai:\n",
    "  - `for`\n",
    "  - `while`\n",
    "- Kiekvienas ciklas pasižymi tam tikromis savybėmis, todėl kiekvienu atveju reikia patiems nuspręsti, kuris ciklas tuo konkrečiu atveju yra tinkamesnis naudoti."
   ]
  },
  {
   "attachments": {},
   "cell_type": "markdown",
   "metadata": {},
   "source": [
    "# `for` ciklas (1 dalis)"
   ]
  },
  {
   "attachments": {},
   "cell_type": "markdown",
   "metadata": {},
   "source": [
    "## Apie `for` ciklą\n",
    "\n",
    "Šis ciklas dažniausiai naudojamas kai yra žinoma, kiek kartų jis turi būti vykdomas, arba kai yra iteruojamas duomenų rinkinys (skaičių sąrašas, elementų rinkinys, …)."
   ]
  },
  {
   "attachments": {},
   "cell_type": "markdown",
   "metadata": {},
   "source": [
    "## Sintaksė\n",
    "\n",
    "```\n",
    "for elementas in iteruojamas_objektas:\n",
    "\t# vykdomas kodas\n",
    "```\n",
    "\n",
    "- **iteruojamas_objektas** - elementų rinkinys, sąrašas ir pan. - tai, ką mes iteruojame naudodami ciklą\n",
    "- **elementas** - vienas elementas, viena dalis, iš `iteruojamas_objektas`"
   ]
  },
  {
   "attachments": {},
   "cell_type": "markdown",
   "metadata": {},
   "source": [
    "**iteruojamas_objektas** gali būti:\n",
    "\n",
    "```\n",
    "[40, 32, 73]\n",
    "\"labas\"\n",
    "range(1, 10)\n",
    "...\n",
    "```"
   ]
  },
  {
   "attachments": {},
   "cell_type": "markdown",
   "metadata": {},
   "source": [
    "## Pavyzdžiai"
   ]
  },
  {
   "attachments": {},
   "cell_type": "markdown",
   "metadata": {},
   "source": [
    "Be ciklo:"
   ]
  },
  {
   "cell_type": "code",
   "execution_count": 1,
   "metadata": {},
   "outputs": [
    {
     "name": "stdout",
     "output_type": "stream",
     "text": [
      "0\n",
      "1\n",
      "2\n",
      "3\n",
      "4\n"
     ]
    }
   ],
   "source": [
    "print(0)\n",
    "print(1)\n",
    "print(2)\n",
    "print(3)\n",
    "print(4)"
   ]
  },
  {
   "attachments": {},
   "cell_type": "markdown",
   "metadata": {},
   "source": [
    "Su ciklu:"
   ]
  },
  {
   "cell_type": "code",
   "execution_count": 2,
   "metadata": {},
   "outputs": [
    {
     "name": "stdout",
     "output_type": "stream",
     "text": [
      "0\n",
      "1\n",
      "2\n",
      "3\n",
      "4\n"
     ]
    }
   ],
   "source": [
    "for i in range(5):\n",
    "    print(i)"
   ]
  },
  {
   "attachments": {},
   "cell_type": "markdown",
   "metadata": {},
   "source": [
    "Nuo 0 iki 5:"
   ]
  },
  {
   "cell_type": "code",
   "execution_count": 3,
   "metadata": {},
   "outputs": [
    {
     "name": "stdout",
     "output_type": "stream",
     "text": [
      "0\n",
      "1\n",
      "2\n",
      "3\n",
      "4\n"
     ]
    }
   ],
   "source": [
    "for i in range(0, 5):\n",
    "    print(i)"
   ]
  },
  {
   "attachments": {},
   "cell_type": "markdown",
   "metadata": {},
   "source": [
    "Nuo 1 iki 6:"
   ]
  },
  {
   "cell_type": "code",
   "execution_count": 4,
   "metadata": {},
   "outputs": [
    {
     "name": "stdout",
     "output_type": "stream",
     "text": [
      "1\n",
      "2\n",
      "3\n",
      "4\n",
      "5\n"
     ]
    }
   ],
   "source": [
    "for i in range(1, 6):\n",
    "    print(i)"
   ]
  },
  {
   "attachments": {},
   "cell_type": "markdown",
   "metadata": {},
   "source": [
    "Nuo 0 iki 5:"
   ]
  },
  {
   "cell_type": "code",
   "execution_count": 5,
   "metadata": {},
   "outputs": [
    {
     "name": "stdout",
     "output_type": "stream",
     "text": [
      "1\n",
      "2\n",
      "3\n",
      "4\n",
      "5\n"
     ]
    }
   ],
   "source": [
    "for i in range(5):\n",
    "    print(i+1)"
   ]
  },
  {
   "attachments": {},
   "cell_type": "markdown",
   "metadata": {},
   "source": [
    "Be ciklo:"
   ]
  },
  {
   "cell_type": "code",
   "execution_count": 6,
   "metadata": {},
   "outputs": [
    {
     "name": "stdout",
     "output_type": "stream",
     "text": [
      "labas\n",
      "labas\n",
      "labas\n"
     ]
    }
   ],
   "source": [
    "print('labas')\n",
    "print('labas')\n",
    "print('labas')"
   ]
  },
  {
   "attachments": {},
   "cell_type": "markdown",
   "metadata": {},
   "source": [
    "Su ciklu:"
   ]
  },
  {
   "cell_type": "code",
   "execution_count": 7,
   "metadata": {},
   "outputs": [
    {
     "name": "stdout",
     "output_type": "stream",
     "text": [
      "labas\n",
      "labas\n",
      "labas\n"
     ]
    }
   ],
   "source": [
    "for _ in range(3):\n",
    "    print('labas')"
   ]
  },
  {
   "attachments": {},
   "cell_type": "markdown",
   "metadata": {},
   "source": [
    "Be ciklo:"
   ]
  },
  {
   "cell_type": "code",
   "execution_count": 3,
   "metadata": {},
   "outputs": [
    {
     "name": "stdout",
     "output_type": "stream",
     "text": [
      "eilutė nr. 1\n",
      "eilutė nr. 2\n",
      "eilutė nr. 3\n",
      "eilutė nr. 4\n"
     ]
    }
   ],
   "source": [
    "print('eilutė nr. 1')\n",
    "print('eilutė nr. 2')\n",
    "print('eilutė nr. 3')\n",
    "print('eilutė nr. 4')"
   ]
  },
  {
   "attachments": {},
   "cell_type": "markdown",
   "metadata": {},
   "source": [
    "Su ciklu:"
   ]
  },
  {
   "cell_type": "code",
   "execution_count": 4,
   "metadata": {},
   "outputs": [
    {
     "name": "stdout",
     "output_type": "stream",
     "text": [
      "eilutė nr. 1\n",
      "eilutė nr. 2\n",
      "eilutė nr. 3\n",
      "eilutė nr. 4\n"
     ]
    }
   ],
   "source": [
    "for i in range(1, 5):\n",
    "    print(f'eilutė nr. {i}')"
   ]
  },
  {
   "attachments": {},
   "cell_type": "markdown",
   "metadata": {},
   "source": [
    "Nuo 5 iki 11:"
   ]
  },
  {
   "cell_type": "code",
   "execution_count": 5,
   "metadata": {},
   "outputs": [
    {
     "name": "stdout",
     "output_type": "stream",
     "text": [
      "skaičius: 5\n",
      "skaičius: 6\n",
      "skaičius: 7\n",
      "skaičius: 8\n",
      "skaičius: 9\n",
      "skaičius: 10\n"
     ]
    }
   ],
   "source": [
    "for sk in range(5, 11):\n",
    "    print(f'skaičius: {sk}')"
   ]
  },
  {
   "attachments": {},
   "cell_type": "markdown",
   "metadata": {},
   "source": [
    "Nuo 5 iki 16:"
   ]
  },
  {
   "cell_type": "code",
   "execution_count": 6,
   "metadata": {},
   "outputs": [
    {
     "name": "stdout",
     "output_type": "stream",
     "text": [
      "skaičius i = 5\n",
      "skaičius i = 6\n",
      "skaičius i = 7\n",
      "skaičius i = 8\n",
      "skaičius i = 9\n",
      "skaičius i = 10\n",
      "skaičius i = 11\n",
      "skaičius i = 12\n",
      "skaičius i = 13\n",
      "skaičius i = 14\n",
      "skaičius i = 15\n"
     ]
    }
   ],
   "source": [
    "for i in range(5, 16):\n",
    "    print(f'skaičius i = {i}')"
   ]
  },
  {
   "attachments": {},
   "cell_type": "markdown",
   "metadata": {},
   "source": [
    "Nuo 2 iki 11, lyginiai:"
   ]
  },
  {
   "cell_type": "code",
   "execution_count": 7,
   "metadata": {},
   "outputs": [
    {
     "name": "stdout",
     "output_type": "stream",
     "text": [
      "skaičius 2 yra lyginis\n",
      "skaičius 4 yra lyginis\n",
      "skaičius 6 yra lyginis\n",
      "skaičius 8 yra lyginis\n",
      "skaičius 10 yra lyginis\n"
     ]
    }
   ],
   "source": [
    "for skaicius in range(2, 11):\n",
    "    if skaicius % 2 == 0:\n",
    "        print(f'skaičius {skaicius} yra lyginis')"
   ]
  },
  {
   "attachments": {},
   "cell_type": "markdown",
   "metadata": {},
   "source": [
    "Nuo 2 iki 11, kas antrą:"
   ]
  },
  {
   "cell_type": "code",
   "execution_count": 8,
   "metadata": {},
   "outputs": [
    {
     "name": "stdout",
     "output_type": "stream",
     "text": [
      "skaičius 2 yra lyginis\n",
      "skaičius 4 yra lyginis\n",
      "skaičius 6 yra lyginis\n",
      "skaičius 8 yra lyginis\n",
      "skaičius 10 yra lyginis\n"
     ]
    }
   ],
   "source": [
    "for skaicius in range(2, 11, 2):\n",
    "    print(f'skaičius {skaicius} yra lyginis')"
   ]
  },
  {
   "attachments": {},
   "cell_type": "markdown",
   "metadata": {},
   "source": [
    "Nuo 1 iki 13, kurie dalinasi iš 2 arba 5:"
   ]
  },
  {
   "cell_type": "code",
   "execution_count": 9,
   "metadata": {},
   "outputs": [
    {
     "name": "stdout",
     "output_type": "stream",
     "text": [
      "skaičius 2 dalinasi iš 2 arba 5\n",
      "skaičius 4 dalinasi iš 2 arba 5\n",
      "skaičius 5 dalinasi iš 2 arba 5\n",
      "skaičius 6 dalinasi iš 2 arba 5\n",
      "skaičius 8 dalinasi iš 2 arba 5\n",
      "skaičius 10 dalinasi iš 2 arba 5\n",
      "skaičius 12 dalinasi iš 2 arba 5\n"
     ]
    }
   ],
   "source": [
    "for sk in range(1, 13):\n",
    "    if sk % 2 == 0 or sk % 5 == 0:\n",
    "        print(f'skaičius {sk} dalinasi iš 2 arba 5')"
   ]
  },
  {
   "attachments": {},
   "cell_type": "markdown",
   "metadata": {},
   "source": [
    "Kintamųjų naudojimas cikle:"
   ]
  },
  {
   "cell_type": "code",
   "execution_count": 15,
   "metadata": {},
   "outputs": [
    {
     "name": "stdout",
     "output_type": "stream",
     "text": [
      "0\n",
      "1\n",
      "2\n",
      "3\n",
      "4\n"
     ]
    }
   ],
   "source": [
    "kiek = 5\n",
    "\n",
    "for i in range(kiek):\n",
    "    print(i)"
   ]
  },
  {
   "attachments": {},
   "cell_type": "markdown",
   "metadata": {},
   "source": [
    "Kintamųjų naudojimas cikle:"
   ]
  },
  {
   "cell_type": "code",
   "execution_count": 10,
   "metadata": {},
   "outputs": [
    {
     "name": "stdout",
     "output_type": "stream",
     "text": [
      "skaičius 7\n",
      "skaičius 8\n",
      "skaičius 9\n",
      "skaičius 10\n"
     ]
    }
   ],
   "source": [
    "pradzia = 7\n",
    "pabaiga = 10\n",
    "\n",
    "for i in range(pradzia, pabaiga + 1):\n",
    "    print(f'skaičius {i}')"
   ]
  },
  {
   "attachments": {},
   "cell_type": "markdown",
   "metadata": {},
   "source": [
    "Kintamųjų naudojimas cikle:"
   ]
  },
  {
   "cell_type": "code",
   "execution_count": 11,
   "metadata": {},
   "outputs": [
    {
     "name": "stdout",
     "output_type": "stream",
     "text": [
      "skaičius 7\n",
      "skaičius 8\n",
      "skaičius 9\n",
      "skaičius 10\n"
     ]
    }
   ],
   "source": [
    "pradzia, pabaiga = 7, 10\n",
    "\n",
    "for i in range(pradzia, pabaiga + 1):\n",
    "    print(f'skaičius {i}')"
   ]
  },
  {
   "attachments": {},
   "cell_type": "markdown",
   "metadata": {},
   "source": [
    "Kintamųjų naudojimas cikle:"
   ]
  },
  {
   "cell_type": "code",
   "execution_count": 12,
   "metadata": {},
   "outputs": [
    {
     "name": "stdout",
     "output_type": "stream",
     "text": [
      "Ieva\n",
      "Ieva\n",
      "Ieva\n",
      "Ieva\n",
      "Ieva\n"
     ]
    }
   ],
   "source": [
    "vardas = input('Įveskite savo vardą: ')\n",
    "kiek = int( input('Įveskite kiek kartų norite kartoti: ') )\n",
    "\n",
    "for i in range(kiek):\n",
    "    print(vardas)"
   ]
  },
  {
   "attachments": {},
   "cell_type": "markdown",
   "metadata": {},
   "source": [
    "## Užduotys"
   ]
  },
  {
   "attachments": {},
   "cell_type": "markdown",
   "metadata": {},
   "source": [
    "### Užduotis 1\n",
    "\n",
    "Parašyti `for`, kuris išvestų kiekvieną skaičių pradedant nuo 0 ir baigiant 10 (pvz: `0, 1, 2, 3, 4, 5, 6, 7, 8, 9, 10`)."
   ]
  },
  {
   "cell_type": "code",
   "execution_count": 19,
   "metadata": {},
   "outputs": [],
   "source": [
    "# Kodą rašykite čia...\n"
   ]
  },
  {
   "attachments": {},
   "cell_type": "markdown",
   "metadata": {},
   "source": [
    "### Užduotis 2\n",
    "\n",
    "Parašyti `for`, kuris išvestų kas antrą skaičių pradedant 0 ir baigiant 15 (pvz: `0, 2, 4, 6, 8, 10, 12, 14`)."
   ]
  },
  {
   "cell_type": "code",
   "execution_count": 20,
   "metadata": {},
   "outputs": [],
   "source": [
    "# Kodą rašykite čia...\n"
   ]
  },
  {
   "attachments": {},
   "cell_type": "markdown",
   "metadata": {},
   "source": [
    "### Užduotis 3\n",
    "\n",
    "Parašyti `for`, kuris išvestų kas trečią skaičių, pradedant 1 ir baigiant 20. Kiekvieną skaičių apskliausti laužtiniais skliaustais. Pvz.: `[1][4][7]`..."
   ]
  },
  {
   "cell_type": "code",
   "execution_count": 21,
   "metadata": {},
   "outputs": [],
   "source": [
    "# Kodą rašykite čia...\n"
   ]
  },
  {
   "attachments": {},
   "cell_type": "markdown",
   "metadata": {},
   "source": [
    "### Užduotis 4\n",
    "\n",
    "Su `for` pagalba penkis kartus išveskite savo vardą."
   ]
  },
  {
   "cell_type": "code",
   "execution_count": 22,
   "metadata": {},
   "outputs": [],
   "source": [
    "# Kodą rašykite čia...\n"
   ]
  },
  {
   "attachments": {},
   "cell_type": "markdown",
   "metadata": {},
   "source": [
    "### Užduotis 5\n",
    "\n",
    "Parašyti `for`, kuris eitų pro kiekvieną skaičių nuo 1 iki 20. Jame apsirašyti `if` sąlygą, kuri patikrintų ar dabartinis skaičius dalinasi iš 4, jei taip tai šį skaičių išvesti."
   ]
  },
  {
   "cell_type": "code",
   "execution_count": 23,
   "metadata": {},
   "outputs": [],
   "source": [
    "# Kodą rašykite čia...\n"
   ]
  },
  {
   "attachments": {},
   "cell_type": "markdown",
   "metadata": {},
   "source": [
    "### Užduotis 6\n",
    "\n",
    "Išveskite visus skaičius nuo 1 iki 15, prie kiekvieno jų nurodant tai lyginis ar nelyginis skaičius. Pvz:\n",
    "\n",
    "```\n",
    "1 - nelyginis\n",
    "2 - lyginis\n",
    "3 - nelyginis\n",
    "...\n",
    "```"
   ]
  },
  {
   "cell_type": "code",
   "execution_count": 24,
   "metadata": {},
   "outputs": [],
   "source": [
    "# Kodą rašykite čia...\n"
   ]
  },
  {
   "attachments": {},
   "cell_type": "markdown",
   "metadata": {},
   "source": [
    "### Užduotis 7\n",
    "\n",
    "Susikurkite kintamuosius rėžių pradžiai ir pabaigai nusakyti. Patikrinkite, kad tai būtų validu (pradžia turi būti mažesnė nei pabaiga). Jei rėžiai tinkami, tuomet vykdyti `for`, kuris atskirose eilutėse išvestų kiekvieną skaičių iš tų rėžių, bei atskiriant tarpu - tų skaičių kvadratus."
   ]
  },
  {
   "cell_type": "code",
   "execution_count": 25,
   "metadata": {},
   "outputs": [],
   "source": [
    "# Kodą rašykite čia...\n"
   ]
  },
  {
   "attachments": {},
   "cell_type": "markdown",
   "metadata": {},
   "source": [
    "### Užduotis 8\n",
    "\n",
    "Susikurkite kintamuosius rėžių pradžiai ir pabaigai nusakyti. Patikrinkite, kad tai būtų validu (pradžia turi būti mažesnė nei pabaiga). Jei rėžiai tinkami, tuomet vykdyti `for`, kuris iš duotų skaičių išvestų visus nelyginius skaičius arba tuos, kurie dalinasi iš 8."
   ]
  },
  {
   "cell_type": "code",
   "execution_count": 26,
   "metadata": {},
   "outputs": [],
   "source": [
    "# Kodą rašykite čia...\n"
   ]
  }
 ],
 "metadata": {
  "kernelspec": {
   "display_name": "Python 3",
   "language": "python",
   "name": "python3"
  },
  "language_info": {
   "codemirror_mode": {
    "name": "ipython",
    "version": 3
   },
   "file_extension": ".py",
   "mimetype": "text/x-python",
   "name": "python",
   "nbconvert_exporter": "python",
   "pygments_lexer": "ipython3",
   "version": "3.7.9 (tags/v3.7.9:13c94747c7, Aug 17 2020, 18:58:18) [MSC v.1900 64 bit (AMD64)]"
  },
  "orig_nbformat": 4,
  "vscode": {
   "interpreter": {
    "hash": "aa11ca274996316222ef16f35c5f6dbeb467b694c0b2154cdf34dcf9271d5fd0"
   }
  }
 },
 "nbformat": 4,
 "nbformat_minor": 2
}
