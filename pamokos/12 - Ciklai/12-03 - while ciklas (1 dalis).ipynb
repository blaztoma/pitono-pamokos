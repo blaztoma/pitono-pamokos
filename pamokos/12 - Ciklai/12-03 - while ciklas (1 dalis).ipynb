{
 "cells": [
  {
   "attachments": {},
   "cell_type": "markdown",
   "metadata": {},
   "source": [
    "[![Open In Colab](https://colab.research.google.com/assets/colab-badge.svg)](https://colab.research.google.com/github/blaztoma/pitono-pamokos/blob/main/pamokos/12%20-%20Ciklai/12-03%20-%20while%20ciklas%20(1%20dalis).ipynb)"
   ]
  },
  {
   "attachments": {},
   "cell_type": "markdown",
   "metadata": {},
   "source": [
    "# `while` ciklas (1 dalis)"
   ]
  },
  {
   "attachments": {},
   "cell_type": "markdown",
   "metadata": {},
   "source": [
    "## Apie `while` ciklą\n",
    "\n",
    "Dažniausiai naudojamas kai nežinome kiek kartų ciklas turėtų būti vykdomas. Pavyzdžiui:\n",
    "\n",
    "- nuskaitinėjame failą, tačiau nežinome kiek teksto eilučių jame yra;\n",
    "- bandome iš naudotojo gauti duomenis, tačiau nežinome kada jis sugebės teisingai pateikti duomenis;\n",
    "- vykdome skaičiavimus ir norime juos vykdyti tol, kol pasieksime tinkamą rezultatą;\n",
    "- ..."
   ]
  },
  {
   "attachments": {},
   "cell_type": "markdown",
   "metadata": {},
   "source": [
    "## Sintaksė\n",
    "\n",
    "```\n",
    "while sąlyga:\n",
    "\t# vykdomas kodas jei patikrinimo_salyga yra True\n",
    "```\n",
    "\n",
    "**sąlyga** - ciklo sąlygos sakinys; jeigu jis grąžina `True` atsakymą, tuomet ciklas vykdo iteraciją.\n",
    "\n",
    "Ciklas vykdo iteracijas tol, kol sąlyga vis dar yra True."
   ]
  },
  {
   "attachments": {},
   "cell_type": "markdown",
   "metadata": {},
   "source": [
    "## Pavyzdžiai"
   ]
  },
  {
   "attachments": {},
   "cell_type": "markdown",
   "metadata": {},
   "source": [
    "Prisiminkime, kaip sudarome skaičių seką, nuo 0 iki 4, naudodami `range()` funkciją ir `for` ciklą:"
   ]
  },
  {
   "cell_type": "code",
   "execution_count": null,
   "metadata": {},
   "outputs": [],
   "source": [
    "for skaicius in range(5):\n",
    "    print(skaicius)"
   ]
  },
  {
   "attachments": {},
   "cell_type": "markdown",
   "metadata": {},
   "source": [
    "Tą patį galime padaryti naudodami `while` ciklą:"
   ]
  },
  {
   "cell_type": "code",
   "execution_count": null,
   "metadata": {},
   "outputs": [],
   "source": [
    "skaicius = 0\n",
    "\n",
    "while skaicius < 5:\n",
    "    print(skaicius)\n",
    "    skaicius += 1"
   ]
  },
  {
   "attachments": {},
   "cell_type": "markdown",
   "metadata": {},
   "source": [
    "Taip atrodo ciklas `while`, kai rėžių pradžia ir pabaiga nurodoma kintamaisiais:"
   ]
  },
  {
   "cell_type": "code",
   "execution_count": null,
   "metadata": {},
   "outputs": [],
   "source": [
    "pradzia = 10\n",
    "pabaiga = 20\n",
    "\n",
    "dabartinis = pradzia\n",
    "\n",
    "while dabartinis <= pabaiga:\n",
    "    print(dabartinis)\n",
    "    dabartinis += 1"
   ]
  },
  {
   "attachments": {},
   "cell_type": "markdown",
   "metadata": {},
   "source": [
    "Taip išvedame tekstą kelis kartus naudodami `while` ciklą:"
   ]
  },
  {
   "cell_type": "code",
   "execution_count": null,
   "metadata": {},
   "outputs": [],
   "source": [
    "tekstas = 'Šitą tekstą išvedame'\n",
    "kiek_liko = 4\n",
    "\n",
    "while kiek_liko > 0:\n",
    "    print(tekstas)\n",
    "    kiek_liko -= 1"
   ]
  },
  {
   "attachments": {},
   "cell_type": "markdown",
   "metadata": {},
   "source": [
    "Šiame pavyzdyje išvedinėsime skaičius tol, kol sugeneruotas atsitiktinis skaičius bus mažesnis už 10."
   ]
  },
  {
   "cell_type": "code",
   "execution_count": null,
   "metadata": {},
   "outputs": [],
   "source": [
    "from random import randint\n",
    "\n",
    "skaicius = 1\n",
    "\n",
    "while skaicius < 10:\n",
    "    skaicius = randint(1, 20)\n",
    "    print(skaicius)"
   ]
  },
  {
   "attachments": {},
   "cell_type": "markdown",
   "metadata": {},
   "source": [
    "Šiame pavyzdyje nagrinėjamas atvejis, kai perkame prekes tol, kol jų likutis didesnis už nulį."
   ]
  },
  {
   "cell_type": "code",
   "execution_count": null,
   "metadata": {},
   "outputs": [],
   "source": [
    "from random import randint\n",
    "\n",
    "kiekis = 20\n",
    "\n",
    "while kiekis > 0:\n",
    "    print('Kiekis prieš pirkimą:', kiekis)\n",
    "    nupirkta = randint(1, 10)\n",
    "    print('Nupirkta:', nupirkta)\n",
    "    kiekis -= nupirkta\n",
    "    print('Likutis:', kiekis)\n",
    "    print()"
   ]
  },
  {
   "attachments": {},
   "cell_type": "markdown",
   "metadata": {},
   "source": [
    "Prisiminkime, kaip galime patogiau išvesti informaciją naudodami formatavimą. Pavyzdys tas pats."
   ]
  },
  {
   "cell_type": "code",
   "execution_count": null,
   "metadata": {},
   "outputs": [],
   "source": [
    "from random import randint\n",
    "\n",
    "kiekis = 20\n",
    "\n",
    "while kiekis > 0:\n",
    "    nupirkta = randint(1, 10)\n",
    "    print(f'Kiekis prieš pirkimą: {kiekis:<4} | Nupirkta: {nupirkta:<4} | Liko: {kiekis - nupirkta}')\n",
    "    kiekis -= nupirkta"
   ]
  },
  {
   "attachments": {},
   "cell_type": "markdown",
   "metadata": {},
   "source": [
    "Paimkime tą patį pavyzdį ir leiskime naudotojui nuspręsti, kiek prekių pirkti."
   ]
  },
  {
   "cell_type": "code",
   "execution_count": null,
   "metadata": {},
   "outputs": [],
   "source": [
    "prekiu_kiekis = 24\n",
    "\n",
    "while prekiu_kiekis > 0:\n",
    "    print(f'Turimas prekių kiekis: {prekiu_kiekis}')\n",
    "    nupirkta = int( input('Kiek norite nupirkti? ') )\n",
    "    print(f'Nupirkote: {nupirkta} \\n')\n",
    "    prekiu_kiekis -= nupirkta"
   ]
  },
  {
   "attachments": {},
   "cell_type": "markdown",
   "metadata": {},
   "source": [
    "Ankstesnis pavyzdys leido pirkti prekes 'į minusą'. Patikrinkime ar galime tiek pirkti, kitu atveju - pirksime tiek, kiek liko prekių."
   ]
  },
  {
   "cell_type": "code",
   "execution_count": null,
   "metadata": {},
   "outputs": [],
   "source": [
    "prekiu_kiekis = 24\n",
    "\n",
    "while prekiu_kiekis > 0:\n",
    "    print(f'Turimas prekių kiekis: {prekiu_kiekis}')\n",
    "    pirkimo_kiekis = int( input('Kiek norite nupirkti? ') )\n",
    "    if pirkimo_kiekis > prekiu_kiekis:\n",
    "        pirkimo_kiekis = prekiu_kiekis\n",
    "    print(f'Nupirkote: {pirkimo_kiekis} \\n')\n",
    "    prekiu_kiekis -= pirkimo_kiekis"
   ]
  },
  {
   "attachments": {},
   "cell_type": "markdown",
   "metadata": {},
   "source": [
    "Ciklas `while True` yra amžinas. Tiesa, galime iš jo pabėgti naudodami `break` operaciją. Šiuo atveju pabėgsime, kai atsitiktinis skaičius dalinsis ir iš 7 ir iš 2."
   ]
  },
  {
   "cell_type": "code",
   "execution_count": null,
   "metadata": {},
   "outputs": [],
   "source": [
    "import random\n",
    "\n",
    "while True:\n",
    "    skaicius = random.randint(1, 100)\n",
    "    print(skaicius)\n",
    "\n",
    "    if skaicius % 7 == 0 and skaicius % 2 == 0:\n",
    "        print(f'skaičius {skaicius} dalinasi iš 7 ir iš 2')\n",
    "        break"
   ]
  },
  {
   "attachments": {},
   "cell_type": "markdown",
   "metadata": {},
   "source": [
    "Tą patį rezultatą galime pasiekti nenaudodami operacijos `break`. Šiuo atveju įvedame loginį kintamąjį `ar_dar_ieskoti`. Pakeitus jo reikšmę išeisime iš ciklo."
   ]
  },
  {
   "cell_type": "code",
   "execution_count": null,
   "metadata": {},
   "outputs": [],
   "source": [
    "from random import randint\n",
    "\n",
    "ar_dar_ieskoti = True\n",
    "\n",
    "while ar_dar_ieskoti:\n",
    "    skaicius = randint(1, 100)\n",
    "    print(skaicius)\n",
    "\n",
    "    if skaicius % 7 == 0 and skaicius % 2 == 0:\n",
    "        print(f'skaičius {skaicius} dalinasi iš 7 ir iš 2')\n",
    "        ar_dar_ieskoti = False"
   ]
  },
  {
   "attachments": {},
   "cell_type": "markdown",
   "metadata": {},
   "source": [
    "Galime perkelti dalybos sąlygą į `while` ciklo aprašymą. Tuo būdu nereikės naudoti atskiro kintamojo."
   ]
  },
  {
   "cell_type": "code",
   "execution_count": null,
   "metadata": {},
   "outputs": [],
   "source": [
    "import random\n",
    "\n",
    "skaicius = 1\n",
    "\n",
    "while skaicius % 7 != 0 or skaicius % 2 != 0:\n",
    "    skaicius = random.randint(1, 100)\n",
    "    print(skaicius)\n",
    "\n",
    "print(f'Skaičius {skaicius} dalinasi iš 7 ir iš 2.')"
   ]
  },
  {
   "attachments": {},
   "cell_type": "markdown",
   "metadata": {},
   "source": [
    "Pavyzdys, kaip galime surasti ar duotas skaičius yra pirminis. Organizuojame `for` ciklą ir jeigu aptinkamas skaičius iš kurio duotas skaičius dalijasi - nutraukiam ciklą."
   ]
  },
  {
   "cell_type": "code",
   "execution_count": null,
   "metadata": {},
   "outputs": [],
   "source": [
    "skaicius = 57\n",
    "ar_pirminis = True\n",
    "\n",
    "for daliklis in range(2, skaicius):\n",
    "    if (skaicius % daliklis == 0):\n",
    "        ar_pirminis = False\n",
    "        break\n",
    "\n",
    "if ar_pirminis:\n",
    "    print(f'skaičius {skaicius} yra pirminis')\n",
    "else:\n",
    "    print(f'skaičius {skaicius} nėra pirminis')"
   ]
  },
  {
   "attachments": {},
   "cell_type": "markdown",
   "metadata": {},
   "source": [
    "Toliau esanti programa ieškos pirmo atsitiktinio skaičiaus, kuris yra pirminis. Tam panaudojamas ciklas `while` ir aukščiau esantis kodas. "
   ]
  },
  {
   "cell_type": "code",
   "execution_count": null,
   "metadata": {},
   "outputs": [],
   "source": [
    "from random import randint\n",
    "\n",
    "ar_pirminis = False\n",
    "\n",
    "while not ar_pirminis:\n",
    "\n",
    "    skaicius = randint(1, 1000)\n",
    "    ar_pirminis = True\n",
    "\n",
    "    for daliklis in range(2, skaicius):\n",
    "        if (skaicius % daliklis == 0):\n",
    "            ar_pirminis = False\n",
    "            break\n",
    "\n",
    "    if ar_pirminis:\n",
    "        print(f'skaičius {skaicius} yra pirminis')\n",
    "    else:\n",
    "        print(f'skaičius {skaicius} nėra pirminis')"
   ]
  },
  {
   "attachments": {},
   "cell_type": "markdown",
   "metadata": {},
   "source": [
    "## Užduotys"
   ]
  },
  {
   "attachments": {},
   "cell_type": "markdown",
   "metadata": {},
   "source": [
    "### Užduotis 1\n",
    "\n",
    "Išveskite visus skaičius nuo 1 iki 20."
   ]
  },
  {
   "cell_type": "code",
   "execution_count": null,
   "metadata": {},
   "outputs": [],
   "source": [
    "# Kodą rašykite čia..."
   ]
  },
  {
   "attachments": {},
   "cell_type": "markdown",
   "metadata": {},
   "source": [
    "### Užduotis 2\n",
    "\n",
    "Išveskite visus skaičius nuo 1 iki 50. Prie kiekvieno lyginio skaičiaus parašykite žodį \"lyginis\", o prie kiekvieno nelyginio – \"nelyginis\"."
   ]
  },
  {
   "cell_type": "code",
   "execution_count": null,
   "metadata": {},
   "outputs": [],
   "source": [
    "# Kodą rašykite čia..."
   ]
  },
  {
   "attachments": {},
   "cell_type": "markdown",
   "metadata": {},
   "source": [
    "### Užduotis 3\n",
    "\n",
    "Išveskite visus skaičius nuo 25 iki 50. Vietoj skaičių, kurie dalinasi iš 3 išveskite tekstą \"dalinasi iš 3\"."
   ]
  },
  {
   "cell_type": "code",
   "execution_count": null,
   "metadata": {},
   "outputs": [],
   "source": [
    "# Kodą rašykite čia..."
   ]
  },
  {
   "attachments": {},
   "cell_type": "markdown",
   "metadata": {},
   "source": [
    "### Užduotis 4\n",
    "\n",
    "Išvedinėkite skaičius nuo 1 iki 100 tol, kol pasitaikys toks, kuris dalinasi iš 7."
   ]
  },
  {
   "cell_type": "code",
   "execution_count": null,
   "metadata": {},
   "outputs": [],
   "source": [
    "# Kodą rašykite čia..."
   ]
  },
  {
   "attachments": {},
   "cell_type": "markdown",
   "metadata": {},
   "source": [
    "### Užduotis 5\n",
    "\n",
    "Išvedinėkite skaičius pradedant 1 tol, kol pasitaikys skaičius, kuris dalinasi iš 3 ir iš 5."
   ]
  },
  {
   "cell_type": "code",
   "execution_count": null,
   "metadata": {},
   "outputs": [],
   "source": [
    "# Kodą rašykite čia..."
   ]
  },
  {
   "attachments": {},
   "cell_type": "markdown",
   "metadata": {},
   "source": [
    "### Užduotis 6\n",
    "\n",
    "Išvedinėkite skaičius pradedant 1 tol, kol pasitaikys toks skaičius, kuris yra ir lyginis ir dalinasi iš 15."
   ]
  },
  {
   "cell_type": "code",
   "execution_count": null,
   "metadata": {},
   "outputs": [],
   "source": [
    "# Kodą rašykite čia..."
   ]
  },
  {
   "attachments": {},
   "cell_type": "markdown",
   "metadata": {},
   "source": [
    "### Užduotis 7\n",
    "\n",
    "Generuokite ir išvedinėkite atsitiktinius skaičius (ribose [1, 100]) tol, kol pasitaikys toks kuris yra virš 50 ir yra lyginis (pvz. 52)."
   ]
  },
  {
   "cell_type": "code",
   "execution_count": null,
   "metadata": {},
   "outputs": [],
   "source": [
    "# Kodą rašykite čia..."
   ]
  },
  {
   "attachments": {},
   "cell_type": "markdown",
   "metadata": {},
   "source": [
    "### Užduotis 8\n",
    "\n",
    "Priskirkite dviems kintamiesiems prekių kiekius. Pirmasis kintamasis tegul bus `bananu_kiekis`,  antrasis - `obuoliu_kiekis`.\n",
    "\n",
    "Cikle generuokite atsitiktinius skaičius, kuriuos atimsite iš šių kiekių. Atminkite, kad negalite atimti didesnio kiekio nei likutis.\n",
    "\n",
    "Vykdykite ciklą tol, kol dar turėsite obuolių arba bananų (bent vieno iš jų kiekis daugiau už nulį).\n",
    "\n",
    "Galimas išvedimo pavyzdys:\n",
    "\n",
    "```\n",
    "Bananų yra 20  | Obuolių yra 14\n",
    "Bananų yra 18  | Obuolių yra 10\n",
    "Bananų yra 14  | Obuolių yra 5\n",
    "Bananų yra 9   | Obuolių yra 2\n",
    "Bananų yra 5   | Obuolių yra 0\n",
    "Bananų yra 3   | Obuolių yra 0\n",
    "Bananų yra 2   | Obuolių yra 0\n",
    "Bananų yra 0   | Obuolių yra 0\n",
    "```"
   ]
  },
  {
   "cell_type": "code",
   "execution_count": null,
   "metadata": {},
   "outputs": [],
   "source": [
    "# Kodą rašykite čia..."
   ]
  },
  {
   "attachments": {},
   "cell_type": "markdown",
   "metadata": {},
   "source": [
    "### Užduotis 9\n",
    "\n",
    "Išvedinėkite skaičius pradedant 1 tol, kol pasitaikys toks, kuris yra ir pirminis ir didesnis nei 20."
   ]
  },
  {
   "cell_type": "code",
   "execution_count": null,
   "metadata": {},
   "outputs": [],
   "source": [
    "# Kodą rašykite čia..."
   ]
  },
  {
   "attachments": {},
   "cell_type": "markdown",
   "metadata": {},
   "source": [
    "### Užduotis 10\n",
    "\n",
    "Išvedinėkite fibonačių skaičių seką tol, kol pasitaikys lyginis skaičius, kuris yra didesnis nei 50.\n",
    "\n",
    "Fibonačiaus skaičiai yra tokie skaičiai, kur kiekvienas skaičius yra lygus prieš jį ėjusių dviejų skaičių sumai. Pvz.: `1, 1, 2, 3, 5, 8, 13, 21, ...`"
   ]
  },
  {
   "cell_type": "code",
   "execution_count": null,
   "metadata": {},
   "outputs": [],
   "source": [
    "# Kodą rašykite čia..."
   ]
  }
 ],
 "metadata": {
  "kernelspec": {
   "display_name": "Python 3",
   "language": "python",
   "name": "python3"
  },
  "language_info": {
   "codemirror_mode": {
    "name": "ipython",
    "version": 3
   },
   "file_extension": ".py",
   "mimetype": "text/x-python",
   "name": "python",
   "nbconvert_exporter": "python",
   "pygments_lexer": "ipython3",
   "version": "3.10.10"
  },
  "orig_nbformat": 4,
  "vscode": {
   "interpreter": {
    "hash": "aa11ca274996316222ef16f35c5f6dbeb467b694c0b2154cdf34dcf9271d5fd0"
   }
  }
 },
 "nbformat": 4,
 "nbformat_minor": 2
}
