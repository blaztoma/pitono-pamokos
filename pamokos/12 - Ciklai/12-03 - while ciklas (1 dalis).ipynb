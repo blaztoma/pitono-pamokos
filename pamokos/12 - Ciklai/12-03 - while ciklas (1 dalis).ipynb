{
 "cells": [
  {
   "attachments": {},
   "cell_type": "markdown",
   "metadata": {},
   "source": [
    "[![Open In Colab](https://colab.research.google.com/assets/colab-badge.svg)](https://colab.research.google.com/github/blaztoma/pitono-pamokos/blob/main/pamokos/12%20-%20Ciklai/12-03%20-%20while%20ciklas%20(1%20dalis).ipynb)"
   ]
  },
  {
   "attachments": {},
   "cell_type": "markdown",
   "metadata": {},
   "source": [
    "# `while` ciklas (1 dalis)"
   ]
  },
  {
   "attachments": {},
   "cell_type": "markdown",
   "metadata": {},
   "source": [
    "## Apie `while` ciklą\n",
    "\n",
    "Dažniausiai naudojamas kai nežinome kiek kartų ciklas turėtų būti vykdomas. Pavyzdžiui:\n",
    "\n",
    "- Nuskaitinėjame failą, tačiau nežinome kiek teksto eilučių jame yra.\n",
    "- Bandome iš vartotojo gauti duomenis, tačiau nežinome iš kelinto karto jis sugebės suvesti duomenis tvarkingai.\n",
    "- Vykdome skaičiavimus ir norime juos vykdyti iki kol pasieksime tinkamą rezultatą.\n",
    "- ..."
   ]
  },
  {
   "attachments": {},
   "cell_type": "markdown",
   "metadata": {},
   "source": [
    "## Sintaksė\n",
    "\n",
    "```\n",
    "while patikrinimo_salyga:\n",
    "\t# vykdomas kodas jei patikrinimo_salyga yra True\n",
    "```\n",
    "\n",
    "- **patikrinimo_salyga** - jeigu ši sąlyga grąžina True tipo atsakymą, tuomet ciklas vykdo iteraciją\n",
    "- Ciklas vykdo tiek iteracijų kiek patikrinimo_salyga vis dar grąžina True"
   ]
  },
  {
   "attachments": {},
   "cell_type": "markdown",
   "metadata": {},
   "source": [
    "## Pavyzdžiai"
   ]
  },
  {
   "attachments": {},
   "cell_type": "markdown",
   "metadata": {},
   "source": [
    "Nuo 0 iki 5 su `for`:"
   ]
  },
  {
   "cell_type": "code",
   "execution_count": 14,
   "metadata": {},
   "outputs": [
    {
     "name": "stdout",
     "output_type": "stream",
     "text": [
      "0\n",
      "1\n",
      "2\n",
      "3\n",
      "4\n"
     ]
    }
   ],
   "source": [
    "for skaicius in range(5):\n",
    "    print(skaicius)"
   ]
  },
  {
   "attachments": {},
   "cell_type": "markdown",
   "metadata": {},
   "source": [
    "Nuo 0 iki 5 su `while`:"
   ]
  },
  {
   "cell_type": "code",
   "execution_count": 2,
   "metadata": {},
   "outputs": [
    {
     "name": "stdout",
     "output_type": "stream",
     "text": [
      "0\n",
      "1\n",
      "2\n",
      "3\n",
      "4\n"
     ]
    }
   ],
   "source": [
    "skaicius = 0\n",
    "\n",
    "while skaicius < 5:\n",
    "    print(skaicius)\n",
    "    skaicius += 1"
   ]
  },
  {
   "cell_type": "code",
   "execution_count": 80,
   "metadata": {},
   "outputs": [
    {
     "name": "stdout",
     "output_type": "stream",
     "text": [
      "10\n",
      "11\n",
      "12\n",
      "13\n",
      "14\n",
      "15\n",
      "16\n",
      "17\n",
      "18\n",
      "19\n",
      "20\n"
     ]
    }
   ],
   "source": [
    "pradzia = 10\n",
    "pabaiga = 20\n",
    "\n",
    "dabartinis = pradzia\n",
    "\n",
    "while dabartinis <= pabaiga:\n",
    "    print(dabartinis)\n",
    "    dabartinis += 1"
   ]
  },
  {
   "cell_type": "code",
   "execution_count": 1,
   "metadata": {},
   "outputs": [
    {
     "name": "stdout",
     "output_type": "stream",
     "text": [
      "Šitą tekstą išvedame\n",
      "Šitą tekstą išvedame\n",
      "Šitą tekstą išvedame\n",
      "Šitą tekstą išvedame\n"
     ]
    }
   ],
   "source": [
    "tekstas = 'Šitą tekstą išvedame'\n",
    "kiek_liko = 4\n",
    "\n",
    "while kiek_liko > 0:\n",
    "    print(tekstas)\n",
    "    kiek_liko -= 1"
   ]
  },
  {
   "cell_type": "code",
   "execution_count": 50,
   "metadata": {},
   "outputs": [
    {
     "name": "stdout",
     "output_type": "stream",
     "text": [
      "5\n",
      "8\n",
      "6\n",
      "3\n",
      "1\n",
      "16\n"
     ]
    }
   ],
   "source": [
    "from random import randint\n",
    "\n",
    "skaicius = 1\n",
    "\n",
    "while skaicius < 10:\n",
    "    skaicius = randint(1, 20)\n",
    "    print(skaicius)"
   ]
  },
  {
   "cell_type": "code",
   "execution_count": 2,
   "metadata": {},
   "outputs": [
    {
     "name": "stdout",
     "output_type": "stream",
     "text": [
      "kiekis prieš: 20\n",
      "nupirkta: 9\n",
      "kiekis liko: 11\n",
      "\n",
      "kiekis prieš: 11\n",
      "nupirkta: 1\n",
      "kiekis liko: 10\n",
      "\n",
      "kiekis prieš: 10\n",
      "nupirkta: 7\n",
      "kiekis liko: 3\n",
      "\n",
      "kiekis prieš: 3\n",
      "nupirkta: 2\n",
      "kiekis liko: 1\n",
      "\n",
      "kiekis prieš: 1\n",
      "nupirkta: 10\n",
      "kiekis liko: -9\n",
      "\n"
     ]
    }
   ],
   "source": [
    "from random import randint\n",
    "\n",
    "kiekis = 20\n",
    "\n",
    "while kiekis > 0:\n",
    "    print('kiekis prieš:', kiekis)\n",
    "    nupirkta = randint(1, 10)\n",
    "    print('nupirkta:', nupirkta)\n",
    "    kiekis -= nupirkta\n",
    "    print('kiekis liko:', kiekis)\n",
    "    print()"
   ]
  },
  {
   "cell_type": "code",
   "execution_count": 3,
   "metadata": {},
   "outputs": [
    {
     "name": "stdout",
     "output_type": "stream",
     "text": [
      "kiekis prieš: 20   | nupirkta: 9    | liko: 11\n",
      "kiekis prieš: 11   | nupirkta: 6    | liko: 5\n",
      "kiekis prieš: 5    | nupirkta: 6    | liko: -1\n"
     ]
    }
   ],
   "source": [
    "from random import randint\n",
    "\n",
    "kiekis = 20\n",
    "\n",
    "while kiekis > 0:\n",
    "    nupirkta = randint(1, 10)\n",
    "    print(f'kiekis prieš: {kiekis:<4} | nupirkta: {nupirkta:<4} | liko: {kiekis - nupirkta}')\n",
    "    kiekis -= nupirkta"
   ]
  },
  {
   "cell_type": "code",
   "execution_count": 4,
   "metadata": {},
   "outputs": [
    {
     "name": "stdout",
     "output_type": "stream",
     "text": [
      "turimas prekių kiekis: 24\n",
      "nupirkote: 10 \n",
      "\n",
      "turimas prekių kiekis: 14\n",
      "nupirkote: 4 \n",
      "\n",
      "turimas prekių kiekis: 10\n",
      "nupirkote: 7 \n",
      "\n",
      "turimas prekių kiekis: 3\n",
      "nupirkote: 8 \n",
      "\n"
     ]
    }
   ],
   "source": [
    "prekiu_kiekis = 24\n",
    "\n",
    "while prekiu_kiekis > 0:\n",
    "    print(f'turimas prekių kiekis: {prekiu_kiekis}')\n",
    "    nupirkta = int( input('Kiek norite nupirkti? ') )\n",
    "    print(f'nupirkote: {nupirkta} \\n')\n",
    "    prekiu_kiekis -= nupirkta"
   ]
  },
  {
   "cell_type": "code",
   "execution_count": 5,
   "metadata": {},
   "outputs": [
    {
     "name": "stdout",
     "output_type": "stream",
     "text": [
      "turimas prekių kiekis: 24\n",
      "nupirkote: 7 \n",
      "\n",
      "turimas prekių kiekis: 17\n",
      "nupirkote: 6 \n",
      "\n",
      "turimas prekių kiekis: 11\n",
      "nupirkote: 8 \n",
      "\n",
      "turimas prekių kiekis: 3\n",
      "nupirkote: 3 \n",
      "\n"
     ]
    }
   ],
   "source": [
    "prekiu_kiekis = 24\n",
    "\n",
    "while prekiu_kiekis > 0:\n",
    "    print(f'turimas prekių kiekis: {prekiu_kiekis}')\n",
    "    pirkimo_kiekis = int( input('Kiek norite nupirkti? ') )\n",
    "    if pirkimo_kiekis > prekiu_kiekis:\n",
    "        pirkimo_kiekis = prekiu_kiekis\n",
    "    print(f'nupirkote: {pirkimo_kiekis} \\n')\n",
    "    prekiu_kiekis -= pirkimo_kiekis"
   ]
  },
  {
   "cell_type": "code",
   "execution_count": 8,
   "metadata": {},
   "outputs": [
    {
     "name": "stdout",
     "output_type": "stream",
     "text": [
      "77\n",
      "19\n",
      "9\n",
      "94\n",
      "50\n",
      "47\n",
      "10\n",
      "13\n",
      "32\n",
      "84\n",
      "skaičius 84 dalinasi iš 7 ir iš 2\n"
     ]
    }
   ],
   "source": [
    "import random\n",
    "\n",
    "while True:\n",
    "    skaicius = random.randint(1, 100)\n",
    "    print(skaicius)\n",
    "\n",
    "    if skaicius % 7 == 0 and skaicius % 2 == 0:\n",
    "        print(f'skaičius {skaicius} dalinasi iš 7 ir iš 2')\n",
    "        break"
   ]
  },
  {
   "cell_type": "code",
   "execution_count": 9,
   "metadata": {},
   "outputs": [
    {
     "name": "stdout",
     "output_type": "stream",
     "text": [
      "69\n",
      "49\n",
      "73\n",
      "22\n",
      "40\n",
      "70\n",
      "skaičius 70 dalinasi iš 7 ir iš 2\n"
     ]
    }
   ],
   "source": [
    "from random import randint\n",
    "\n",
    "ar_dar_ieskoti = True\n",
    "\n",
    "while ar_dar_ieskoti:\n",
    "    skaicius = randint(1, 100)\n",
    "    print(skaicius)\n",
    "\n",
    "    if skaicius % 7 == 0 and skaicius % 2 == 0:\n",
    "        print(f'skaičius {skaicius} dalinasi iš 7 ir iš 2')\n",
    "        ar_dar_ieskoti = False"
   ]
  },
  {
   "cell_type": "code",
   "execution_count": 11,
   "metadata": {},
   "outputs": [
    {
     "name": "stdout",
     "output_type": "stream",
     "text": [
      "4\n",
      "92\n",
      "96\n",
      "26\n",
      "5\n",
      "70\n",
      "skaičius 70 dalinasi iš 7 ir iš 2\n"
     ]
    }
   ],
   "source": [
    "import random\n",
    "\n",
    "skaicius = 1\n",
    "\n",
    "while skaicius % 7 != 0 or skaicius % 2 != 0:\n",
    "    skaicius = random.randint(1, 100)\n",
    "    print(skaicius)\n",
    "\n",
    "print(f'skaičius {skaicius} dalinasi iš 7 ir iš 2')"
   ]
  },
  {
   "cell_type": "code",
   "execution_count": 12,
   "metadata": {},
   "outputs": [
    {
     "name": "stdout",
     "output_type": "stream",
     "text": [
      "skaičius 57 nėra pirminis\n"
     ]
    }
   ],
   "source": [
    "skaicius = 57\n",
    "ar_pirminis = True\n",
    "\n",
    "for daliklis in range(2, skaicius):\n",
    "    if (skaicius % daliklis == 0):\n",
    "        ar_pirminis = False\n",
    "        break\n",
    "\n",
    "if ar_pirminis:\n",
    "    print(f'skaičius {skaicius} yra pirminis')\n",
    "else:\n",
    "    print(f'skaičius {skaicius} nėra pirminis')"
   ]
  },
  {
   "cell_type": "code",
   "execution_count": 13,
   "metadata": {},
   "outputs": [
    {
     "name": "stdout",
     "output_type": "stream",
     "text": [
      "skaičius 505 nėra pirminis\n",
      "skaičius 824 nėra pirminis\n",
      "skaičius 659 yra pirminis\n"
     ]
    }
   ],
   "source": [
    "from random import randint\n",
    "\n",
    "ar_pirminis = False\n",
    "\n",
    "while not ar_pirminis:\n",
    "\n",
    "    skaicius = randint(1, 1000)\n",
    "    ar_pirminis = True\n",
    "\n",
    "    for daliklis in range(2, skaicius):\n",
    "        if (skaicius % daliklis == 0):\n",
    "            ar_pirminis = False\n",
    "            break\n",
    "\n",
    "    if ar_pirminis:\n",
    "        print(f'skaičius {skaicius} yra pirminis')\n",
    "    else:\n",
    "        print(f'skaičius {skaicius} nėra pirminis')"
   ]
  },
  {
   "attachments": {},
   "cell_type": "markdown",
   "metadata": {},
   "source": [
    "## Užduotys"
   ]
  },
  {
   "attachments": {},
   "cell_type": "markdown",
   "metadata": {},
   "source": [
    "### Užduotis 1\n",
    "\n",
    "Išveskite visus skaičius nuo 1 iki 20."
   ]
  },
  {
   "cell_type": "code",
   "execution_count": null,
   "metadata": {},
   "outputs": [],
   "source": [
    "# Kodą rašykite čia..."
   ]
  },
  {
   "attachments": {},
   "cell_type": "markdown",
   "metadata": {},
   "source": [
    "### Užduotis 2\n",
    "\n",
    "Išveskite visus skaičius nuo 1 iki 50. Prie kiekvieno lyginio skaičiaus parašykite žodį \"lyginis\", o prie kiekvieno nelyginio – \"nelyginis\"."
   ]
  },
  {
   "cell_type": "code",
   "execution_count": null,
   "metadata": {},
   "outputs": [],
   "source": [
    "# Kodą rašykite čia..."
   ]
  },
  {
   "attachments": {},
   "cell_type": "markdown",
   "metadata": {},
   "source": [
    "### Užduotis 3\n",
    "\n",
    "Išveskite visus skaičius nuo 25 iki 50. Vietoj skaičių, kurie dalinasi iš 3 išveskite tekstą \"dalinasi iš 3\"."
   ]
  },
  {
   "cell_type": "code",
   "execution_count": null,
   "metadata": {},
   "outputs": [],
   "source": [
    "# Kodą rašykite čia..."
   ]
  },
  {
   "attachments": {},
   "cell_type": "markdown",
   "metadata": {},
   "source": [
    "### Užduotis 4\n",
    "\n",
    "Išveskite visus skaičius nuo 1 iki 100 arba iki tol kol pasitaikys toks, kuris dalinasi iš 7."
   ]
  },
  {
   "cell_type": "code",
   "execution_count": null,
   "metadata": {},
   "outputs": [],
   "source": [
    "# Kodą rašykite čia..."
   ]
  },
  {
   "attachments": {},
   "cell_type": "markdown",
   "metadata": {},
   "source": [
    "### Užduotis 5\n",
    "\n",
    "Išvedinėkite visus skaičius nuo 1 iki tol kol pasitaikys skaičius, kuris dalinasi iš 3 ir iš 5."
   ]
  },
  {
   "cell_type": "code",
   "execution_count": null,
   "metadata": {},
   "outputs": [],
   "source": [
    "# Kodą rašykite čia..."
   ]
  },
  {
   "attachments": {},
   "cell_type": "markdown",
   "metadata": {},
   "source": [
    "### Užduotis 6\n",
    "\n",
    "Išvedinėkite visus skaičius nuo 1 iki tol, kol pasitaikys toks skaičius, kuris yra ir lyginis ir dalinasi iš 15."
   ]
  },
  {
   "cell_type": "code",
   "execution_count": null,
   "metadata": {},
   "outputs": [],
   "source": [
    "# Kodą rašykite čia..."
   ]
  },
  {
   "attachments": {},
   "cell_type": "markdown",
   "metadata": {},
   "source": [
    "### Užduotis 7\n",
    "\n",
    "Generuokite ir išvedinėkite atsitiktinius skaičius (šie skaičiai ribose [1-100]) iki tol kol pasitaikys toks kuris yra virš 50 ir yra lyginis (ciklas sustos tik tada kai sugeneruotas atsitiktinis skaičius bus virš 50 ir bus lyginis (pvz: 52), kitu atveju generuos naują skaičių ir jį išves)."
   ]
  },
  {
   "cell_type": "code",
   "execution_count": null,
   "metadata": {},
   "outputs": [],
   "source": [
    "# Kodą rašykite čia..."
   ]
  },
  {
   "attachments": {},
   "cell_type": "markdown",
   "metadata": {},
   "source": [
    "### Užduotis 8\n",
    "\n",
    "Susikurkite du kintamuosius prekių kiekiams saugoti. Pavyzdžiui, pirmasis kintamasis gali būti tarkim `bananu_kiekis` su kokia nors reikšme, o kitas tarkim `obuoliu_kiekis` su kokia nors reikšme.\n",
    "\n",
    "Vykdykite ciklą tol, kol dar turėsite bent vieno kiekio bent vieną vienetą. Pavyzdžiui, jeigu vienos prekės turėsite 5 vnt., o kitos jau 0, tai ciklas vis dar vykdomas, o jeigu turėsite abiejų po 0, tai ciklas jau sustoja.\n",
    "\n",
    "Cikle generuokite atsitiktinius skaičius, kuriuos atimsite iš šių kiekių. Tačiau neatimkite kiekių į minusą, pvz, jeigu prekės turite 5 vnt., o norite atimti 6, tai atimkite 5, o jeigu jau turite 0 vnt., tai daugiau nieko ir neatimkite.\n",
    "\n",
    "Viską išvedinėkite kuo aiškiau, kad matytųsi programos eiga.\n",
    "\n",
    "Galimas išvedimo pavyzdys:\n",
    "\n",
    "```\n",
    "Bananų yra 20  | Obuolių yra 14\n",
    "Bananų yra 18  | Obuolių yra 10\n",
    "Bananų yra 14  | Obuolių yra 5\n",
    "Bananų yra 9   | Obuolių yra 2\n",
    "Bananų yra 5   | Obuolių yra 0\n",
    "Bananų yra 3   | Obuolių yra 0\n",
    "Bananų yra 2   | Obuolių yra 0\n",
    "Bananų yra 0   | Obuolių yra 0\n",
    "```"
   ]
  },
  {
   "cell_type": "code",
   "execution_count": null,
   "metadata": {},
   "outputs": [],
   "source": [
    "# Kodą rašykite čia..."
   ]
  },
  {
   "attachments": {},
   "cell_type": "markdown",
   "metadata": {},
   "source": [
    "### Užduotis 9\n",
    "\n",
    "Išveskite visus skaičius nuo 1 iki kol pasitaikys toks, kuris yra pirminis ir yra didesnis nei 20."
   ]
  },
  {
   "cell_type": "code",
   "execution_count": null,
   "metadata": {},
   "outputs": [],
   "source": [
    "# Kodą rašykite čia..."
   ]
  },
  {
   "attachments": {},
   "cell_type": "markdown",
   "metadata": {},
   "source": [
    "### Užduotis 10\n",
    "\n",
    "Išvedinėkite fibonačių skaičių seką iki tol kol pasitaikys toks skaičius kuris yra virš 50 ir yra lyginis.\n",
    "\n",
    "PS: Fibonačiaus skaičiai yra tokie skaičiai kur kiekvienas skaičius yra lygus prieš jį ėjusių dviejų skaičių sumai. Pvz.: `1, 1, 2, 3, 5, 8, 13, 21, ...`"
   ]
  },
  {
   "cell_type": "code",
   "execution_count": null,
   "metadata": {},
   "outputs": [],
   "source": [
    "# Kodą rašykite čia..."
   ]
  }
 ],
 "metadata": {
  "kernelspec": {
   "display_name": "Python 3",
   "language": "python",
   "name": "python3"
  },
  "language_info": {
   "codemirror_mode": {
    "name": "ipython",
    "version": 3
   },
   "file_extension": ".py",
   "mimetype": "text/x-python",
   "name": "python",
   "nbconvert_exporter": "python",
   "pygments_lexer": "ipython3",
   "version": "3.7.9 (tags/v3.7.9:13c94747c7, Aug 17 2020, 18:58:18) [MSC v.1900 64 bit (AMD64)]"
  },
  "orig_nbformat": 4,
  "vscode": {
   "interpreter": {
    "hash": "aa11ca274996316222ef16f35c5f6dbeb467b694c0b2154cdf34dcf9271d5fd0"
   }
  }
 },
 "nbformat": 4,
 "nbformat_minor": 2
}
