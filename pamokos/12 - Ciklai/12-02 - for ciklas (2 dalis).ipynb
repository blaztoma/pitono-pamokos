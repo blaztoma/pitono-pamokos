{
 "cells": [
  {
   "attachments": {},
   "cell_type": "markdown",
   "metadata": {},
   "source": [
    "[![Open In Colab](https://colab.research.google.com/assets/colab-badge.svg)](https://colab.research.google.com/github/blaztoma/pitono-pamokos/blob/main/pamokos/12%20-%20Ciklai/12-02%20-%20for%20ciklas%20(2%20dalis).ipynb)"
   ]
  },
  {
   "attachments": {},
   "cell_type": "markdown",
   "metadata": {},
   "source": [
    "# `for` ciklas (2 dalis)"
   ]
  },
  {
   "attachments": {},
   "cell_type": "markdown",
   "metadata": {},
   "source": [
    "## Sintaksė\n",
    "\n",
    "```\n",
    "for elementas in iteruojamas_objektas:\n",
    "\t# vykdomas kodas\n",
    "```\n",
    "\n",
    "- **iteruojamas_objektas** - elementų rinkinys, sąrašas ir pan. - tai, ką mes iteruojame naudodami ciklą\n",
    "- **elementas** - vienas elementas, viena dalis, iš `iteruojamas_objektas`"
   ]
  },
  {
   "attachments": {},
   "cell_type": "markdown",
   "metadata": {},
   "source": [
    "**iteruojamas_objektas** gali būti:\n",
    "\n",
    "```\n",
    "[40, 32, 73]\n",
    "\"labas\"\n",
    "range(1, 10)\n",
    "...\n",
    "```"
   ]
  },
  {
   "attachments": {},
   "cell_type": "markdown",
   "metadata": {},
   "source": [
    "## Pavyzdžiai"
   ]
  },
  {
   "cell_type": "code",
   "execution_count": 1,
   "metadata": {},
   "outputs": [
    {
     "name": "stdout",
     "output_type": "stream",
     "text": [
      "m\n",
      "a\n",
      "n\n",
      "o\n",
      " \n",
      "t\n",
      "e\n",
      "k\n",
      "s\n",
      "t\n",
      "a\n",
      "s\n"
     ]
    }
   ],
   "source": [
    "for raide in \"mano tekstas\":\n",
    "    print(raide)"
   ]
  },
  {
   "cell_type": "code",
   "execution_count": 2,
   "metadata": {},
   "outputs": [
    {
     "name": "stdout",
     "output_type": "stream",
     "text": [
      "aaaaaaaaaa\n"
     ]
    }
   ],
   "source": [
    "simbolis = 'a'\n",
    "print(simbolis * 10)"
   ]
  },
  {
   "cell_type": "code",
   "execution_count": 3,
   "metadata": {},
   "outputs": [
    {
     "name": "stdout",
     "output_type": "stream",
     "text": [
      "oooooooooo\n",
      "bbbbbbbbbb\n",
      "eeeeeeeeee\n",
      "llllllllll\n",
      "iiiiiiiiii\n",
      "ssssssssss\n"
     ]
    }
   ],
   "source": [
    "tekstas = 'obelis'\n",
    "\n",
    "for raide in tekstas:\n",
    "    print(raide * 10)"
   ]
  },
  {
   "cell_type": "code",
   "execution_count": 4,
   "metadata": {},
   "outputs": [
    {
     "name": "stdout",
     "output_type": "stream",
     "text": [
      "7\n",
      "4\n",
      "5\n",
      "32\n",
      "14\n",
      "78\n"
     ]
    }
   ],
   "source": [
    "for el in [7, 4, 5, 32, 14, 78]:\n",
    "    print(el)"
   ]
  },
  {
   "cell_type": "code",
   "execution_count": 1,
   "metadata": {},
   "outputs": [
    {
     "name": "stdout",
     "output_type": "stream",
     "text": [
      "skaičius 6 yra lyginis\n",
      "skaičius 7 yra nelyginis\n",
      "skaičius 1 yra nelyginis\n",
      "skaičius 5 yra nelyginis\n",
      "skaičius 9 yra nelyginis\n",
      "skaičius 7 yra nelyginis\n",
      "skaičius 3 yra nelyginis\n"
     ]
    }
   ],
   "source": [
    "for skaicius in [6, 7, 1, 5, 9, 7, 3]:\n",
    "    if skaicius % 2 == 0:\n",
    "        print(f'skaičius {skaicius} yra lyginis')\n",
    "    else:\n",
    "        print(f'skaičius {skaicius} yra nelyginis')"
   ]
  },
  {
   "cell_type": "code",
   "execution_count": 2,
   "metadata": {},
   "outputs": [
    {
     "name": "stdout",
     "output_type": "stream",
     "text": [
      "pradžia\n",
      "ą\n",
      "ž\n",
      "u\n",
      "o\n",
      "pabaiga\n"
     ]
    }
   ],
   "source": [
    "print(\"pradžia\")\n",
    "\n",
    "for raide in \"ąžuolas\":\n",
    "    if raide == \"l\":\n",
    "        break\n",
    "    print(raide)\n",
    "\n",
    "print(\"pabaiga\")"
   ]
  },
  {
   "cell_type": "code",
   "execution_count": 3,
   "metadata": {},
   "outputs": [
    {
     "name": "stdout",
     "output_type": "stream",
     "text": [
      "pradžia\n",
      "ą\n",
      "ž\n",
      "u\n",
      "o\n",
      "a\n",
      "s\n",
      "pabaiga\n"
     ]
    }
   ],
   "source": [
    "print(\"pradžia\")\n",
    "\n",
    "for raide in \"ąžuolas\":\n",
    "    if raide == \"l\":\n",
    "        continue\n",
    "    print(raide)\n",
    "\n",
    "print(\"pabaiga\")"
   ]
  },
  {
   "cell_type": "code",
   "execution_count": 8,
   "metadata": {},
   "outputs": [
    {
     "name": "stdout",
     "output_type": "stream",
     "text": [
      "Visi teigiami: False\n"
     ]
    }
   ],
   "source": [
    "visi_teigiami = True\n",
    "\n",
    "for skaicius in [6, 1, -7, 5, -1, 4, 5]:\n",
    "    if skaicius < 0:\n",
    "        visi_teigiami = False\n",
    "        break\n",
    "\n",
    "print('Visi teigiami:', visi_teigiami)"
   ]
  },
  {
   "cell_type": "code",
   "execution_count": 4,
   "metadata": {},
   "outputs": [
    {
     "name": "stdout",
     "output_type": "stream",
     "text": [
      "Yra bent vienas neigiamas skaičius\n"
     ]
    }
   ],
   "source": [
    "visi_teigiami = True\n",
    "\n",
    "for skaicius in [6, 1, -7, 5, -1, 4, 5]:\n",
    "    if skaicius < 0:\n",
    "        visi_teigiami = False\n",
    "        break\n",
    "\n",
    "if visi_teigiami:\n",
    "    print('Visi skaičiai teigiami')\n",
    "else:\n",
    "    print('Yra bent vienas neigiamas skaičius')"
   ]
  },
  {
   "cell_type": "code",
   "execution_count": 5,
   "metadata": {},
   "outputs": [
    {
     "name": "stdout",
     "output_type": "stream",
     "text": [
      "pirmo ciklo pradžia, i = 1\n",
      "antras ciklas, j = 1\n",
      "antras ciklas, j = 2\n",
      "antras ciklas, j = 3\n",
      "pirmo ciklo iteracijos pabaiga\n",
      "pirmo ciklo pradžia, i = 2\n",
      "antras ciklas, j = 1\n",
      "antras ciklas, j = 2\n",
      "antras ciklas, j = 3\n",
      "pirmo ciklo iteracijos pabaiga\n",
      "pirmo ciklo pradžia, i = 3\n",
      "antras ciklas, j = 1\n",
      "antras ciklas, j = 2\n",
      "antras ciklas, j = 3\n",
      "pirmo ciklo iteracijos pabaiga\n"
     ]
    }
   ],
   "source": [
    "for i in range(1, 4):\n",
    "\n",
    "    print('pirmo ciklo pradžia, i =', i)\n",
    "\n",
    "    for j in range(1, 4):\n",
    "        print('antras ciklas, j =', j)\n",
    "\n",
    "    print('pirmo ciklo iteracijos pabaiga')"
   ]
  },
  {
   "cell_type": "code",
   "execution_count": 6,
   "metadata": {},
   "outputs": [
    {
     "name": "stdout",
     "output_type": "stream",
     "text": [
      "studento nr. 1 pažymiai: 1 2 3 4 5 \n",
      "studento nr. 2 pažymiai: 1 2 3 4 5 \n",
      "studento nr. 3 pažymiai: 1 2 3 4 5 \n",
      "studento nr. 4 pažymiai: 1 2 3 4 5 \n"
     ]
    }
   ],
   "source": [
    "for studentas in range(1, 5):\n",
    "    print(f'studento nr. {studentas} pažymiai: ', end='')\n",
    "    for pazymys in range(1, 6):\n",
    "        print(pazymys, end=' ')\n",
    "    print()"
   ]
  },
  {
   "attachments": {},
   "cell_type": "markdown",
   "metadata": {},
   "source": [
    "## Užduotys"
   ]
  },
  {
   "attachments": {},
   "cell_type": "markdown",
   "metadata": {},
   "source": [
    "### Užduotis 1\n",
    "\n",
    "Leiskite vartotojui įvesti savo vardą. Ciklą `for` vykdykite tiek kartų kiek tame varde yra raidžių. Visais atvejais išveskite tą patį pasisveikinimą, pavyzdžiui \"Labas, Ieva\" (ši eilutė kartotųsi 4 kartus, kadangi varde \"Ieva\" yra 4 raidės)."
   ]
  },
  {
   "cell_type": "code",
   "execution_count": 12,
   "metadata": {},
   "outputs": [],
   "source": [
    "# Kodą rašykite čia..."
   ]
  },
  {
   "attachments": {},
   "cell_type": "markdown",
   "metadata": {},
   "source": [
    "### Užduotis 2\n",
    "\n",
    "Susikurkite tokį ciklą: `for elementas in [88, 65, 21, 26, 47]`\n",
    "\n",
    "Iš duotų skaičių išveskite visus skaičius, kurie yra lyginiai."
   ]
  },
  {
   "cell_type": "code",
   "execution_count": 13,
   "metadata": {},
   "outputs": [],
   "source": [
    "# Kodą rašykite čia..."
   ]
  },
  {
   "attachments": {},
   "cell_type": "markdown",
   "metadata": {},
   "source": [
    "### Užduotis 3\n",
    "\n",
    "Leiskite vartotojui nurodyti rėžių pradžią, pabaigą, žingsnį. Taip pat, kokius skaičius jis nori matyti (lyginius ar nelyginius). Patikrinkite ar rėžiai tinkami, jei taip vykdykite ciklą, kuris eitų per nurodytą rėžių, darant atitinkamą žingsnį. Išveskite tik tokius skaičius kokius vartotojas pasirinko (lyginius arba nelyginius)."
   ]
  },
  {
   "cell_type": "code",
   "execution_count": 14,
   "metadata": {},
   "outputs": [],
   "source": [
    "# Kodą rašykite čia..."
   ]
  },
  {
   "attachments": {},
   "cell_type": "markdown",
   "metadata": {},
   "source": [
    "### Užduotis 4\n",
    "\n",
    "Su `for` pagalba, pamėginkite išvesti tokią eglutę:\n",
    "\n",
    "```\n",
    "*\n",
    "**\n",
    "***\n",
    "****\n",
    "*****\n",
    "```\n",
    "\n",
    "(papildomai) leiskite vartotojui pasirinkti kokio dydžio eglutė turėtų būti išvesta."
   ]
  },
  {
   "cell_type": "code",
   "execution_count": 15,
   "metadata": {},
   "outputs": [],
   "source": [
    "# Kodą rašykite čia..."
   ]
  },
  {
   "attachments": {},
   "cell_type": "markdown",
   "metadata": {},
   "source": [
    "### Užduotis 5\n",
    "\n",
    "Leiskite vartotojui įvesti bet kokį žodį, bei pasirinkti po kiek kartų turėtų būti pakartojama kiekviena raidė. Su ciklo pagalba išveskite kiekvieną raidę iš žodžio atskiroje eilutėje, taip pat, tą raidę eilutėje kartokite tiek kartų kiek pasirinko vartotojas."
   ]
  },
  {
   "cell_type": "code",
   "execution_count": 16,
   "metadata": {},
   "outputs": [],
   "source": [
    "# Kaip pagrindą galite naudoti šį ciklą ir jį pakeisti:\n",
    "# for raide in \"mano tekstas\":\n",
    "#     print(raide)\n",
    "\n",
    "# Kodą rašykite čia..."
   ]
  },
  {
   "attachments": {},
   "cell_type": "markdown",
   "metadata": {},
   "source": [
    "### Užduotis 6\n",
    "\n",
    "(papildomai, sunkiau) Be daugybos veiksmo programoje, sudauginkite du skaičius."
   ]
  },
  {
   "cell_type": "code",
   "execution_count": 17,
   "metadata": {},
   "outputs": [],
   "source": [
    "# Kodą rašykite čia..."
   ]
  },
  {
   "attachments": {},
   "cell_type": "markdown",
   "metadata": {},
   "source": [
    "### Užduotis 7\n",
    "\n",
    "Susikurkite skaičiaus kintamąjį. Suraskite ar šis skaičius yra pirminis."
   ]
  },
  {
   "cell_type": "code",
   "execution_count": 18,
   "metadata": {},
   "outputs": [],
   "source": [
    "# Kodą rašykite čia..."
   ]
  }
 ],
 "metadata": {
  "kernelspec": {
   "display_name": "Python 3",
   "language": "python",
   "name": "python3"
  },
  "language_info": {
   "codemirror_mode": {
    "name": "ipython",
    "version": 3
   },
   "file_extension": ".py",
   "mimetype": "text/x-python",
   "name": "python",
   "nbconvert_exporter": "python",
   "pygments_lexer": "ipython3",
   "version": "3.7.9 (tags/v3.7.9:13c94747c7, Aug 17 2020, 18:58:18) [MSC v.1900 64 bit (AMD64)]"
  },
  "orig_nbformat": 4,
  "vscode": {
   "interpreter": {
    "hash": "aa11ca274996316222ef16f35c5f6dbeb467b694c0b2154cdf34dcf9271d5fd0"
   }
  }
 },
 "nbformat": 4,
 "nbformat_minor": 2
}
