{
 "cells": [
  {
   "attachments": {},
   "cell_type": "markdown",
   "metadata": {},
   "source": [
    "[![Open In Colab](https://colab.research.google.com/assets/colab-badge.svg)](https://colab.research.google.com/github/blaztoma/pitono-pamokos/blob/main/pamokos/12%20-%20Ciklai/12-02%20-%20for%20ciklas%20(2%20dalis).ipynb)"
   ]
  },
  {
   "attachments": {},
   "cell_type": "markdown",
   "metadata": {},
   "source": [
    "# `for` ciklas (2 dalis)"
   ]
  },
  {
   "attachments": {},
   "cell_type": "markdown",
   "metadata": {},
   "source": [
    "## Sintaksė\n",
    "\n",
    "```\n",
    "for elementas in iteruojamas_objektas:\n",
    "\t# vykdomas kodas\n",
    "```\n",
    "\n",
    "- **iteruojamas_objektas** - elementų rinkinys, sąrašas ir pan. - tai, ką mes iteruojame naudodami ciklą\n",
    "- **elementas** - vienas elementas, viena dalis, iš `iteruojamas_objektas`"
   ]
  },
  {
   "attachments": {},
   "cell_type": "markdown",
   "metadata": {},
   "source": [
    "**iteruojamas_objektas** gali būti:\n",
    "\n",
    "```\n",
    "[40, 32, 73]\n",
    "\"labas\"\n",
    "range(1, 10)\n",
    "...\n",
    "```"
   ]
  },
  {
   "attachments": {},
   "cell_type": "markdown",
   "metadata": {},
   "source": [
    "## Pavyzdžiai"
   ]
  },
  {
   "cell_type": "code",
   "execution_count": null,
   "metadata": {},
   "outputs": [],
   "source": [
    "for raide in \"mano tekstas\":\n",
    "    print(raide)"
   ]
  },
  {
   "cell_type": "code",
   "execution_count": null,
   "metadata": {},
   "outputs": [],
   "source": [
    "simbolis = 'a'\n",
    "print(simbolis * 10)"
   ]
  },
  {
   "cell_type": "code",
   "execution_count": null,
   "metadata": {},
   "outputs": [],
   "source": [
    "tekstas = 'obelis'\n",
    "\n",
    "for raide in tekstas:\n",
    "    print(raide * 10)"
   ]
  },
  {
   "cell_type": "code",
   "execution_count": null,
   "metadata": {},
   "outputs": [],
   "source": [
    "for el in [7, 4, 5, 32, 14, 78]:\n",
    "    print(el)"
   ]
  },
  {
   "cell_type": "code",
   "execution_count": null,
   "metadata": {},
   "outputs": [],
   "source": [
    "for skaicius in [6, 7, 1, 5, 9, 7, 3]:\n",
    "    if skaicius % 2 == 0:\n",
    "        print(f'skaičius {skaicius} yra lyginis')\n",
    "    else:\n",
    "        print(f'skaičius {skaicius} yra nelyginis')"
   ]
  },
  {
   "cell_type": "code",
   "execution_count": null,
   "metadata": {},
   "outputs": [],
   "source": [
    "print(\"pradžia\")\n",
    "\n",
    "for raide in \"ąžuolas\":\n",
    "    if raide == \"l\":\n",
    "        break\n",
    "    print(raide)\n",
    "\n",
    "print(\"pabaiga\")"
   ]
  },
  {
   "cell_type": "code",
   "execution_count": null,
   "metadata": {},
   "outputs": [],
   "source": [
    "print(\"pradžia\")\n",
    "\n",
    "for raide in \"ąžuolas\":\n",
    "    if raide == \"l\":\n",
    "        continue\n",
    "    print(raide)\n",
    "\n",
    "print(\"pabaiga\")"
   ]
  },
  {
   "cell_type": "code",
   "execution_count": null,
   "metadata": {},
   "outputs": [],
   "source": [
    "visi_teigiami = True\n",
    "\n",
    "for skaicius in [6, 1, -7, 5, -1, 4, 5]:\n",
    "    if skaicius < 0:\n",
    "        visi_teigiami = False\n",
    "        break\n",
    "\n",
    "print('Visi teigiami:', visi_teigiami)"
   ]
  },
  {
   "cell_type": "code",
   "execution_count": null,
   "metadata": {},
   "outputs": [],
   "source": [
    "visi_teigiami = True\n",
    "\n",
    "for skaicius in [6, 1, -7, 5, -1, 4, 5]:\n",
    "    if skaicius < 0:\n",
    "        visi_teigiami = False\n",
    "        break\n",
    "\n",
    "if visi_teigiami:\n",
    "    print('Visi skaičiai teigiami.')\n",
    "else:\n",
    "    print('Yra bent vienas neigiamas skaičius.')"
   ]
  },
  {
   "cell_type": "code",
   "execution_count": null,
   "metadata": {},
   "outputs": [],
   "source": [
    "for i in range(1, 4):\n",
    "\n",
    "    print('Pirmo ciklo pradžia, i =', i)\n",
    "\n",
    "    for j in range(1, 4):\n",
    "        print('antras ciklas, j =', j)\n",
    "\n",
    "    print('Pirmo ciklo iteracijos pabaiga.')"
   ]
  },
  {
   "cell_type": "code",
   "execution_count": null,
   "metadata": {},
   "outputs": [],
   "source": [
    "for studentas in range(1, 5):\n",
    "    print(f'Studento nr. {studentas} pažymiai: ', end='')\n",
    "    for pazymys in range(1, 6):\n",
    "        print(pazymys, end=' ')\n",
    "    print()"
   ]
  },
  {
   "attachments": {},
   "cell_type": "markdown",
   "metadata": {},
   "source": [
    "## Užduotys"
   ]
  },
  {
   "attachments": {},
   "cell_type": "markdown",
   "metadata": {},
   "source": [
    "### Užduotis 1\n",
    "\n",
    "Leiskite vartotojui įvesti savo vardą. Ciklą `for` vykdykite tiek kartų, kiek tame varde yra raidžių. Visais atvejais išveskite tą patį pasisveikinimą, pavyzdžiui \"Labas, Ieva\" (ši eilutė kartotųsi 4 kartus, kadangi varde \"Ieva\" yra 4 raidės)."
   ]
  },
  {
   "cell_type": "code",
   "execution_count": null,
   "metadata": {},
   "outputs": [],
   "source": [
    "# Kodą rašykite čia..."
   ]
  },
  {
   "attachments": {},
   "cell_type": "markdown",
   "metadata": {},
   "source": [
    "### Užduotis 2\n",
    "\n",
    "Suprogramuokite tokį ciklą: `for elementas in [88, 65, 21, 26, 47]`\n",
    "\n",
    "Iš duotų skaičių išveskite visus skaičius, kurie yra lyginiai."
   ]
  },
  {
   "cell_type": "code",
   "execution_count": null,
   "metadata": {},
   "outputs": [],
   "source": [
    "# Kodą rašykite čia..."
   ]
  },
  {
   "attachments": {},
   "cell_type": "markdown",
   "metadata": {},
   "source": [
    "### Užduotis 3\n",
    "\n",
    "Leiskite vartotojui nurodyti rėžių pradžią, pabaigą, žingsnį. Taip pat, kokius skaičius jis nori matyti (lyginius ar nelyginius). Patikrinkite ar rėžiai tinkami, jei taip vykdykite ciklą, kuris eitų per nurodytą rėžių, darant atitinkamą žingsnį. Išveskite tik tokius skaičius kokius vartotojas pasirinko (lyginius arba nelyginius)."
   ]
  },
  {
   "cell_type": "code",
   "execution_count": null,
   "metadata": {},
   "outputs": [],
   "source": [
    "# Kodą rašykite čia..."
   ]
  },
  {
   "attachments": {},
   "cell_type": "markdown",
   "metadata": {},
   "source": [
    "### Užduotis 4\n",
    "\n",
    "Su `for` pagalba, pamėginkite išvesti tokią eglutę:\n",
    "\n",
    "```\n",
    "*\n",
    "**\n",
    "***\n",
    "****\n",
    "*****\n",
    "```\n",
    "\n",
    "(papildomai) leiskite vartotojui pasirinkti kokio dydžio eglutė turėtų būti išvesta."
   ]
  },
  {
   "cell_type": "code",
   "execution_count": null,
   "metadata": {},
   "outputs": [],
   "source": [
    "# Kodą rašykite čia..."
   ]
  },
  {
   "attachments": {},
   "cell_type": "markdown",
   "metadata": {},
   "source": [
    "### Užduotis 5\n",
    "\n",
    "Leiskite vartotojui įvesti bet kokį žodį, bei pasirinkti po kiek kartų turėtų būti pakartojama kiekviena raidė. Su ciklo pagalba išveskite kiekvieną raidę iš žodžio atskiroje eilutėje, taip pat, tą raidę eilutėje kartokite tiek kartų kiek pasirinko vartotojas."
   ]
  },
  {
   "cell_type": "code",
   "execution_count": null,
   "metadata": {},
   "outputs": [],
   "source": [
    "# Kaip pagrindą galite naudoti šį ciklą ir jį pakeisti:\n",
    "# for raide in \"mano tekstas\":\n",
    "#     print(raide)\n",
    "\n",
    "# Kodą rašykite čia..."
   ]
  },
  {
   "attachments": {},
   "cell_type": "markdown",
   "metadata": {},
   "source": [
    "### Užduotis 6\n",
    "\n",
    "(papildomai, sunkiau) Be daugybos veiksmo programoje, sudauginkite du skaičius."
   ]
  },
  {
   "cell_type": "code",
   "execution_count": null,
   "metadata": {},
   "outputs": [],
   "source": [
    "# Kodą rašykite čia..."
   ]
  },
  {
   "attachments": {},
   "cell_type": "markdown",
   "metadata": {},
   "source": [
    "### Užduotis 7\n",
    "\n",
    "Susikurkite skaičiaus kintamąjį. Suraskite ar šis skaičius yra pirminis."
   ]
  },
  {
   "cell_type": "code",
   "execution_count": null,
   "metadata": {},
   "outputs": [],
   "source": [
    "# Kodą rašykite čia..."
   ]
  }
 ],
 "metadata": {
  "kernelspec": {
   "display_name": "Python 3",
   "language": "python",
   "name": "python3"
  },
  "language_info": {
   "codemirror_mode": {
    "name": "ipython",
    "version": 3
   },
   "file_extension": ".py",
   "mimetype": "text/x-python",
   "name": "python",
   "nbconvert_exporter": "python",
   "pygments_lexer": "ipython3",
   "version": "3.7.9 (tags/v3.7.9:13c94747c7, Aug 17 2020, 18:58:18) [MSC v.1900 64 bit (AMD64)]"
  },
  "orig_nbformat": 4,
  "vscode": {
   "interpreter": {
    "hash": "aa11ca274996316222ef16f35c5f6dbeb467b694c0b2154cdf34dcf9271d5fd0"
   }
  }
 },
 "nbformat": 4,
 "nbformat_minor": 2
}
