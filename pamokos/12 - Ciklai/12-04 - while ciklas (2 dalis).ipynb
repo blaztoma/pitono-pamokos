{
 "cells": [
  {
   "attachments": {},
   "cell_type": "markdown",
   "metadata": {},
   "source": [
    "[![Open In Colab](https://colab.research.google.com/assets/colab-badge.svg)](https://colab.research.google.com/github/blaztoma/pitono-pamokos/blob/main/pamokos/12%20-%20Ciklai/12-04%20-%20while%20ciklas%20(2%20dalis).ipynb)"
   ]
  },
  {
   "attachments": {},
   "cell_type": "markdown",
   "metadata": {},
   "source": [
    "# `while` ciklas (2 dalis)"
   ]
  },
  {
   "attachments": {},
   "cell_type": "markdown",
   "metadata": {},
   "source": [
    "## Pavyzdžiai"
   ]
  },
  {
   "attachments": {},
   "cell_type": "markdown",
   "metadata": {},
   "source": [
    "Kartojame operaciją (šiuo atveju - dviejų skaičių sumą) tol, kol naudotojas nepatvirtins įvedimo (įves kitą raidę nei `t`)."
   ]
  },
  {
   "cell_type": "code",
   "execution_count": null,
   "metadata": {},
   "outputs": [],
   "source": [
    "kartoti = 't'\n",
    "\n",
    "while kartoti == 't':\n",
    "    print(\"Įveskite du skaičius (atskiriant enter):\")\n",
    "    pirmas = int( input() )\n",
    "    antras = int( input() )\n",
    "    print(f'{pirmas} + {antras} = {pirmas + antras}')\n",
    "    kartoti = input('Ar norite kartoti? (t/n): ')\n",
    "\n",
    "print('Pabaiga')"
   ]
  },
  {
   "attachments": {},
   "cell_type": "markdown",
   "metadata": {},
   "source": [
    "Tą patį galime realizuoti naudojant amžiną ciklą ir pabėgimą iš jo naudojant operaciją `break`."
   ]
  },
  {
   "cell_type": "code",
   "execution_count": null,
   "metadata": {},
   "outputs": [],
   "source": [
    "while True:\n",
    "    print(\"Įveskite du norimus skaičius (atskiriant enter):\")\n",
    "    pirmas = int( input() )\n",
    "    antras = int( input() )\n",
    "    print(f'{pirmas} + {antras} = {pirmas + antras}')\n",
    "    kartoti = input('Ar norite kartoti? (t/n): ')\n",
    "    if kartoti != 't':\n",
    "        print('Daugiau nebekartojama')\n",
    "        break\n",
    "\n",
    "print('Pabaiga')"
   ]
  },
  {
   "attachments": {},
   "cell_type": "markdown",
   "metadata": {},
   "source": [
    "Pamėginkite atspėti kompiuterio sugeneruotą atsitiktinį skaičių. Atkreipkite dėmesį į `while` ciklą ir jo sąlygą."
   ]
  },
  {
   "cell_type": "code",
   "execution_count": null,
   "metadata": {},
   "outputs": [],
   "source": [
    "import random\n",
    "\n",
    "slaptas = random.randint(1, 10)\n",
    "spejimas = None\n",
    "\n",
    "while slaptas != spejimas:\n",
    "    spejimas = int(input('Spėkite skaičių tarp 1 ir 10: '))\n",
    "\n",
    "print('Atspėjote!')\n",
    "print('Slaptas skaičius buvo:', slaptas)"
   ]
  },
  {
   "attachments": {},
   "cell_type": "markdown",
   "metadata": {},
   "source": [
    "Šiek tiek patobulinkime programą, kad ji parašytų apie tai kaip sekėsi spėti."
   ]
  },
  {
   "cell_type": "code",
   "execution_count": null,
   "metadata": {},
   "outputs": [],
   "source": [
    "import random\n",
    "\n",
    "slaptas = random.randint(1, 10)\n",
    "spejimas = None\n",
    "\n",
    "while slaptas != spejimas:\n",
    "    spejimas = int(input('Spėkite skaičių tarp 1 ir 10: '))\n",
    "    if slaptas != spejimas:\n",
    "        print('Deja nepavyko, bandykite dar kartą')\n",
    "    else:\n",
    "        print('Laimėjote!')"
   ]
  },
  {
   "attachments": {},
   "cell_type": "markdown",
   "metadata": {},
   "source": [
    "Dar patobulinkime programą, pasakydami naudotojui ar spėjamas skaičius yra didesnis ar mažesnis."
   ]
  },
  {
   "cell_type": "code",
   "execution_count": null,
   "metadata": {},
   "outputs": [],
   "source": [
    "import random\n",
    "\n",
    "slaptas = random.randint(1, 10)\n",
    "spejimas = None\n",
    "\n",
    "while slaptas != spejimas:\n",
    "    spejimas = int(input('Spėkite skaičių tarp 1 ir 10: '))\n",
    "    if slaptas > spejimas:\n",
    "        print('Bandykite didesnį')\n",
    "    elif slaptas < spejimas:\n",
    "        print('Bandykite mažesnį')\n",
    "    else:\n",
    "        print('Atspėjote!')"
   ]
  },
  {
   "attachments": {},
   "cell_type": "markdown",
   "metadata": {},
   "source": [
    "Ciklo pagalba realizuosime sumos ir skaičiavimą. Įvedinėsime skaičius tol kol norės naudotojas, o po to suskaičiuosime vidurkį."
   ]
  },
  {
   "cell_type": "code",
   "execution_count": null,
   "metadata": {},
   "outputs": [],
   "source": [
    "pazymiu_suma = 0\n",
    "pazymiu_kiekis = 0\n",
    "\n",
    "dar_ivesti = 't'\n",
    "\n",
    "while dar_ivesti == 't':\n",
    "    pazymys = int(input('Įveskite pažymį: '))\n",
    "    pazymiu_suma += pazymys\n",
    "    pazymiu_kiekis += 1\n",
    "    dar_ivesti = input('Ar dar norite įvesti? (t/n) ')\n",
    "\n",
    "vidurkis = round(pazymiu_suma / pazymiu_kiekis, 1)\n",
    "print('Įvestų pažymių vidurkis:', vidurkis)"
   ]
  },
  {
   "attachments": {},
   "cell_type": "markdown",
   "metadata": {},
   "source": [
    "Dar viena to paties algoritmo realizacija. Šį kartą norėdami pabaigti turime įvesti 0. Taip sutaupome vieną įvedimo operaciją."
   ]
  },
  {
   "cell_type": "code",
   "execution_count": null,
   "metadata": {},
   "outputs": [],
   "source": [
    "pazymiu_suma = 0\n",
    "pazymiu_kiekis = 0\n",
    "\n",
    "pazymys = -1\n",
    "\n",
    "print('Įveskite tiek pažymių kiek norite (atskiriant enter)')\n",
    "print('Norint baigti įrašykite 0')\n",
    "\n",
    "while pazymys != 0:\n",
    "    pazymys = int(input('Įveskite pažymį: '))\n",
    "    if pazymys != 0:\n",
    "        pazymiu_suma += pazymys\n",
    "        pazymiu_kiekis += 1\n",
    "\n",
    "vidurkis = round(pazymiu_suma / pazymiu_kiekis, 1)\n",
    "print('Įvestų pažymių vidurkis:', vidurkis)"
   ]
  },
  {
   "attachments": {},
   "cell_type": "markdown",
   "metadata": {},
   "source": [
    "Toliau esanti programa generuoja atsitiktinius skaičius ir iš jų išrenka penkis lyginius skaičius bei suskaičiuoja jų sumą."
   ]
  },
  {
   "cell_type": "code",
   "execution_count": null,
   "metadata": {},
   "outputs": [],
   "source": [
    "import random\n",
    "\n",
    "lyginiu_suma = 0\n",
    "lyginiu_kiekis = 0\n",
    "\n",
    "while lyginiu_kiekis < 5:\n",
    "    skaicius = random.randint(1, 10)\n",
    "    if skaicius % 2 == 0:\n",
    "        print(skaicius, 'lyginis')\n",
    "        lyginiu_kiekis += 1\n",
    "        lyginiu_suma += skaicius\n",
    "    else:\n",
    "        print(skaicius)\n",
    "\n",
    "print('Rasta lyginių suma: ', lyginiu_suma)"
   ]
  },
  {
   "attachments": {},
   "cell_type": "markdown",
   "metadata": {},
   "source": [
    "## Užduotys"
   ]
  },
  {
   "attachments": {},
   "cell_type": "markdown",
   "metadata": {},
   "source": [
    "### Užduotis 1\n",
    "\n",
    "Sukurkite programą kur naudotojas galėtų įvedinėti informaciją tiek kartų, kiek jis norėtų. Kiekvieną kartą jam būtų leidžiama įvesti du skaičius. Tuomet būtų suskaičiuojami ir atspausdinami šių skaičių suma, skirtumas, sandauga ir dalmuo."
   ]
  },
  {
   "cell_type": "code",
   "execution_count": null,
   "metadata": {},
   "outputs": [],
   "source": [
    "# Kodą rašykite čia..."
   ]
  },
  {
   "attachments": {},
   "cell_type": "markdown",
   "metadata": {},
   "source": [
    "### Užduotis 2\n",
    "\n",
    "Leiskite naudotojui įvesti tiek žodžių, kiek norės. Suskaičiuokite ir išveskite informaciją apie tai, kiek žodžių jis įvedė."
   ]
  },
  {
   "cell_type": "code",
   "execution_count": null,
   "metadata": {},
   "outputs": [],
   "source": [
    "# Kodą rašykite čia..."
   ]
  },
  {
   "attachments": {},
   "cell_type": "markdown",
   "metadata": {},
   "source": [
    "### Užduotis 3\n",
    "\n",
    "Priskirkite kintamajam tam tikrą tekstą. Leiskite vartotojui atlikti paiešką šiame tekste tiek kartų, kiek jis norės. Paieška vykdoma žmogui įvedant pasirinktą žodį. Programa turi patikrinti ar tekste žodis yra ar nėra, bei išvesti atsakymą."
   ]
  },
  {
   "cell_type": "code",
   "execution_count": null,
   "metadata": {},
   "outputs": [],
   "source": [
    "# Kodą rašykite čia..."
   ]
  },
  {
   "attachments": {},
   "cell_type": "markdown",
   "metadata": {},
   "source": [
    "### Užduotis 4\n",
    "\n",
    "Leiskite žmogui įvesti turimų prekių likučius. Įvedimą sustabdykite tuomet, kai žmogus įves -1. Suskaičiuokite turimų likučių sumą (-1 neturėtų būti įtrauktas į skaičiavimą) bei prekių kiekį, kurių likę mažiau nei 6 vienetai. Išveskite gautus rezultatus."
   ]
  },
  {
   "cell_type": "code",
   "execution_count": null,
   "metadata": {},
   "outputs": [],
   "source": [
    "# Kodą rašykite čia..."
   ]
  },
  {
   "attachments": {},
   "cell_type": "markdown",
   "metadata": {},
   "source": [
    "### Užduotis 5\n",
    "\n",
    "Generuokite ir išvedinėkite atsitiktinius skaičius. Veiksmą kartokite tol, kol pasitaikys trys nelyginiai skaičiai. Šalia kiekvieno nelyginio skaičiaus išveskite, kad tai nelyginis skaičius. Suskaičiuokite ir atspausdinkite šių nelyginių skaičių vidurkį.\n",
    "\n",
    "Pvz:\n",
    "\n",
    "```\n",
    "5 nelyginis\n",
    "2\n",
    "4\n",
    "7 nelyginis\n",
    "8\n",
    "6\n",
    "2\n",
    "1 nelyginis\n",
    "Darbas baigtas\n",
    "```"
   ]
  },
  {
   "cell_type": "code",
   "execution_count": null,
   "metadata": {},
   "outputs": [],
   "source": [
    "# Kodą rašykite čia..."
   ]
  },
  {
   "attachments": {},
   "cell_type": "markdown",
   "metadata": {},
   "source": [
    "### Užduotis 6\n",
    "\n",
    "Naudotojui leiskite įvedinėti tiek žodžių kiek jis nori. Įvedimą baikite kai įrašys žodį \"baigti\". Visus įvestus žodžius sujunkite į vieną bendrą eilutę, kiekvieną žodį atskiriant tarpu. Po paskutinio žodžio tarpo padėti nereikia. Atspausdinkite sujungtą tekstą, įvestų žodžių kiekį ir bendrą simbolių kiekį."
   ]
  },
  {
   "cell_type": "code",
   "execution_count": null,
   "metadata": {},
   "outputs": [],
   "source": [
    "# Kodą rašykite čia..."
   ]
  },
  {
   "attachments": {},
   "cell_type": "markdown",
   "metadata": {},
   "source": [
    "### Užduotis 7\n",
    "\n",
    "Leiskite naudotojui įvedinėti bet kokius skaičius. Vykdykite įvedinėjimą tol, kol įvestas skaičius bus lygus 0. Atspausdinkite įvestų skaičių sumą."
   ]
  },
  {
   "cell_type": "code",
   "execution_count": null,
   "metadata": {},
   "outputs": [],
   "source": [
    "# Kodą rašykite čia..."
   ]
  },
  {
   "attachments": {},
   "cell_type": "markdown",
   "metadata": {},
   "source": [
    "### Užduotis 8\n",
    "\n",
    "Leiskite naudotojui įvedinėti tiek teigiamų ir neigiamų skaičių, kiek norės. Įvedimą nutraukite, jeigu įves skaičių 0. Programa turi suskaičiuoti ir išvesti, kiek buvo įvesta teigiamų ir neigiamų skaičių. Pvz: jeigu naudotojas įves: `7, 4, 9, 5, -4, 2, -7, 0`, tai gausime `teigiamų - 5` ir `neigiamų - 2`."
   ]
  },
  {
   "cell_type": "code",
   "execution_count": null,
   "metadata": {},
   "outputs": [],
   "source": [
    "# Kodą rašykite čia..."
   ]
  },
  {
   "attachments": {},
   "cell_type": "markdown",
   "metadata": {},
   "source": [
    "### Užduotis 9\n",
    "\n",
    "Leiskite naudotojui sudaryti daugybos lenteles su pasirinktais skaičiais. Kiekvieną kartą naudotojo turi būti paklausiama, kokio skaičiaus bus sudaroma daugybos lentelė ir kokie daugiklio rėžiai.\n",
    "\n",
    "Pvz: jeigu pasirinko sudaryti daugybos lentelę skaičiui `5`, pradžią įvedę `1` ir pabaigą - `5`, tai jam bus išvesti tokie rezultatai:\n",
    "\n",
    "```\n",
    "5 * 1 = 5\n",
    "5 * 2 = 10\n",
    "5 * 3 = 15\n",
    "5 * 4 = 20\n",
    "5 * 5 = 25\n",
    "```\n",
    "\n",
    "Po lentelės atspausdinimo naudotojas gali sudaryti naują daugybos lentelę arba sustabdyti programą."
   ]
  },
  {
   "cell_type": "code",
   "execution_count": null,
   "metadata": {},
   "outputs": [],
   "source": [
    "# Kodą rašykite čia..."
   ]
  },
  {
   "attachments": {},
   "cell_type": "markdown",
   "metadata": {},
   "source": [
    "### Užduotis 10\n",
    "\n",
    "Leiskite naudotojui įvesti bet kokius žodžius. Kiekvieną kartą įvedus žodį, jis turi būti atspausdinamas ekrane ir šalia jo turi būti parašyta, kiek raidžių šiame žodyje yra. Įvedinėjimas yra vykdomas tol, kol pasitaikys žodis ilgesnis nei 5 simboliai.\n",
    "\n",
    "Pavyzdys:\n",
    "\n",
    "```\n",
    "Abc\n",
    "Def\n",
    "AAAA\n",
    "gg\n",
    "pomidoras\n",
    "```\n",
    "\n",
    "Programa sustos po žodžio `pomidoras`, nes jis buvo ilgesnis nei `5` simboliai."
   ]
  },
  {
   "cell_type": "code",
   "execution_count": null,
   "metadata": {},
   "outputs": [],
   "source": [
    "# Kodą rašykite čia..."
   ]
  }
 ],
 "metadata": {
  "kernelspec": {
   "display_name": "Python 3",
   "language": "python",
   "name": "python3"
  },
  "language_info": {
   "codemirror_mode": {
    "name": "ipython",
    "version": 3
   },
   "file_extension": ".py",
   "mimetype": "text/x-python",
   "name": "python",
   "nbconvert_exporter": "python",
   "pygments_lexer": "ipython3",
   "version": "3.10.10"
  },
  "orig_nbformat": 4,
  "vscode": {
   "interpreter": {
    "hash": "aa11ca274996316222ef16f35c5f6dbeb467b694c0b2154cdf34dcf9271d5fd0"
   }
  }
 },
 "nbformat": 4,
 "nbformat_minor": 2
}
