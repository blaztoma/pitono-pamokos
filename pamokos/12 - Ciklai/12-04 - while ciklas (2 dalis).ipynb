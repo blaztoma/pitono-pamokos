{
 "cells": [
  {
   "attachments": {},
   "cell_type": "markdown",
   "metadata": {},
   "source": [
    "[![Open In Colab](https://colab.research.google.com/assets/colab-badge.svg)](https://colab.research.google.com/github/blaztoma/pitono-pamokos/blob/main/pamokos/12%20-%20Ciklai/12-04%20-%20while%20ciklas%20(2%20dalis).ipynb)"
   ]
  },
  {
   "attachments": {},
   "cell_type": "markdown",
   "metadata": {},
   "source": [
    "# `while` ciklas (2 dalis)"
   ]
  },
  {
   "attachments": {},
   "cell_type": "markdown",
   "metadata": {},
   "source": [
    "## Pavyzdžiai"
   ]
  },
  {
   "cell_type": "code",
   "execution_count": 12,
   "metadata": {},
   "outputs": [
    {
     "name": "stdout",
     "output_type": "stream",
     "text": [
      "Įveskite du norimus skaičius (atskiriant enter):\n",
      "4 + 7 = 11\n",
      "Įveskite du norimus skaičius (atskiriant enter):\n",
      "5 + 2 = 7\n",
      "Pabaiga\n"
     ]
    }
   ],
   "source": [
    "kartoti = 't'\n",
    "\n",
    "while kartoti == 't':\n",
    "    print(\"Įveskite du norimus skaičius (atskiriant enter):\")\n",
    "    pirmas = int( input() )\n",
    "    antras = int( input() )\n",
    "    print(f'{pirmas} + {antras} = {pirmas + antras}')\n",
    "    kartoti = input('Ar norite kartoti? (t/n): ')\n",
    "\n",
    "print('Pabaiga')"
   ]
  },
  {
   "cell_type": "code",
   "execution_count": 13,
   "metadata": {},
   "outputs": [
    {
     "name": "stdout",
     "output_type": "stream",
     "text": [
      "Įveskite du norimus skaičius (atskiriant enter):\n",
      "8 + 5 = 13\n",
      "Įveskite du norimus skaičius (atskiriant enter):\n",
      "6 + 7 = 13\n",
      "Daugiau nebekartojama\n",
      "Pabaiga\n"
     ]
    }
   ],
   "source": [
    "while True:\n",
    "    print(\"Įveskite du norimus skaičius (atskiriant enter):\")\n",
    "    pirmas = int( input() )\n",
    "    antras = int( input() )\n",
    "    print(f'{pirmas} + {antras} = {pirmas + antras}')\n",
    "    kartoti = input('Ar norite kartoti? (t/n): ')\n",
    "    if kartoti != 't':\n",
    "        print('Daugiau nebekartojama')\n",
    "        break\n",
    "\n",
    "print('Pabaiga')"
   ]
  },
  {
   "cell_type": "code",
   "execution_count": 14,
   "metadata": {},
   "outputs": [
    {
     "name": "stdout",
     "output_type": "stream",
     "text": [
      "Atspėjote!\n",
      "Slaptas buvo: 3\n"
     ]
    }
   ],
   "source": [
    "import random\n",
    "\n",
    "slaptas = random.randint(1, 10)\n",
    "spejimas = None\n",
    "\n",
    "while slaptas != spejimas:\n",
    "    spejimas = int(input('Spėkite skaičių tarp 1 ir 10: '))\n",
    "\n",
    "print('Atspėjote!')\n",
    "print('Slaptas buvo:', slaptas)"
   ]
  },
  {
   "cell_type": "code",
   "execution_count": 17,
   "metadata": {},
   "outputs": [
    {
     "name": "stdout",
     "output_type": "stream",
     "text": [
      "Deja nepavyko, bandykite dar kartą\n",
      "Deja nepavyko, bandykite dar kartą\n",
      "Deja nepavyko, bandykite dar kartą\n",
      "Deja nepavyko, bandykite dar kartą\n",
      "Laimėjote!\n"
     ]
    }
   ],
   "source": [
    "import random\n",
    "\n",
    "slaptas = random.randint(1, 10)\n",
    "spejimas = None\n",
    "\n",
    "while slaptas != spejimas:\n",
    "    spejimas = int(input('Spėkite skaičių tarp 1 ir 10: '))\n",
    "    if slaptas != spejimas:\n",
    "        print('Deja nepavyko, bandykite dar kartą')\n",
    "    else:\n",
    "        print('Laimėjote!')"
   ]
  },
  {
   "cell_type": "code",
   "execution_count": 19,
   "metadata": {},
   "outputs": [
    {
     "name": "stdout",
     "output_type": "stream",
     "text": [
      "Bandykite didesnį\n",
      "Atspėjote!\n"
     ]
    }
   ],
   "source": [
    "import random\n",
    "\n",
    "slaptas = random.randint(1, 10)\n",
    "spejimas = None\n",
    "\n",
    "while slaptas != spejimas:\n",
    "    spejimas = int(input('Spėkite skaičių tarp 1 ir 10: '))\n",
    "    if slaptas > spejimas:\n",
    "        print('Bandykite didesnį')\n",
    "    elif slaptas < spejimas:\n",
    "        print('Bandykite mažesnį')\n",
    "    else:\n",
    "        print('Atspėjote!')"
   ]
  },
  {
   "cell_type": "code",
   "execution_count": 20,
   "metadata": {},
   "outputs": [
    {
     "name": "stdout",
     "output_type": "stream",
     "text": [
      "Suvestų pažymių vidurkis: 8.8\n"
     ]
    }
   ],
   "source": [
    "pazymiu_suma = 0\n",
    "pazymiu_kiekis = 0\n",
    "\n",
    "dar_ivesti = 't'\n",
    "\n",
    "while dar_ivesti == 't':\n",
    "    pazymys = int(input('Įveskite pažymį: '))\n",
    "    pazymiu_suma += pazymys\n",
    "    pazymiu_kiekis += 1\n",
    "    dar_ivesti = input('Ar dar norite įvesti? (t/n) ')\n",
    "\n",
    "vidurkis = round(pazymiu_suma / pazymiu_kiekis, 1)\n",
    "print('Suvestų pažymių vidurkis:', vidurkis)"
   ]
  },
  {
   "cell_type": "code",
   "execution_count": 21,
   "metadata": {},
   "outputs": [
    {
     "name": "stdout",
     "output_type": "stream",
     "text": [
      "Įveskite tiek pažymių kiek norite (atskiriant enter)\n",
      "Norint baigti įrašykite 0\n",
      "Įvestų pažymių vidurkis: 8.8\n"
     ]
    }
   ],
   "source": [
    "pazymiu_suma = 0\n",
    "pazymiu_kiekis = 0\n",
    "\n",
    "pazymys = -1\n",
    "\n",
    "print('Įveskite tiek pažymių kiek norite (atskiriant enter)')\n",
    "print('Norint baigti įrašykite 0')\n",
    "\n",
    "while pazymys != 0:\n",
    "    pazymys = int(input('Įveskite pažymį: '))\n",
    "    if pazymys != 0:\n",
    "        pazymiu_suma += pazymys\n",
    "        pazymiu_kiekis += 1\n",
    "\n",
    "vidurkis = round(pazymiu_suma / pazymiu_kiekis, 1)\n",
    "print('Įvestų pažymių vidurkis:', vidurkis)"
   ]
  },
  {
   "cell_type": "code",
   "execution_count": 22,
   "metadata": {},
   "outputs": [
    {
     "name": "stdout",
     "output_type": "stream",
     "text": [
      "1\n",
      "8 lyginis\n",
      "6 lyginis\n",
      "5\n",
      "6 lyginis\n",
      "8 lyginis\n",
      "9\n",
      "2 lyginis\n",
      "rasta lyginių suma: 30\n"
     ]
    }
   ],
   "source": [
    "import random\n",
    "\n",
    "lyginiu_suma = 0\n",
    "lyginiu_kiekis = 0\n",
    "\n",
    "while lyginiu_kiekis < 5:\n",
    "    skaicius = random.randint(1, 10)\n",
    "    if skaicius % 2 == 0:\n",
    "        print(skaicius, 'lyginis')\n",
    "        lyginiu_kiekis += 1\n",
    "        lyginiu_suma += skaicius\n",
    "    else:\n",
    "        print(skaicius)\n",
    "\n",
    "print('rasta lyginių suma:', lyginiu_suma)"
   ]
  },
  {
   "attachments": {},
   "cell_type": "markdown",
   "metadata": {},
   "source": [
    "## Užduotys"
   ]
  },
  {
   "attachments": {},
   "cell_type": "markdown",
   "metadata": {},
   "source": [
    "### Užduotis 1\n",
    "\n",
    "Sukurkite programą kur vartotojas galėtų įvedinėti informaciją tiek kartų kiek jis norėtų. Kiekvieną kartą jam būtų leidžiama įvesti du skaičius. Tuomet būtų paskaičiuojama šių skaičių suma, skirtumas, sandauga ir dalmuo, bei išvedami visi atsakymai."
   ]
  },
  {
   "cell_type": "code",
   "execution_count": null,
   "metadata": {},
   "outputs": [],
   "source": [
    "# Kodą rašykite čia..."
   ]
  },
  {
   "attachments": {},
   "cell_type": "markdown",
   "metadata": {},
   "source": [
    "### Užduotis 2\n",
    "\n",
    "Leiskite vartotojui įvesti tiek žodžių kiek norės. Suskaičiuokite ir išveskite kiek žodžių jis įvedė."
   ]
  },
  {
   "cell_type": "code",
   "execution_count": null,
   "metadata": {},
   "outputs": [],
   "source": [
    "# Kodą rašykite čia..."
   ]
  },
  {
   "attachments": {},
   "cell_type": "markdown",
   "metadata": {},
   "source": [
    "### Užduotis 3\n",
    "\n",
    "Programoje susikurkite kintamąjį su kažkiek teksto. Leiskite vartotojui atlikinėti paiešką šiame tekste tiek kartų kiek jis norės. Paieška vyksta žmogui įvedant pasirinktą žodį, tada programa žiūri ar turimame tekste tas žodis yra ar nėra, bei išveda atsakymą."
   ]
  },
  {
   "cell_type": "code",
   "execution_count": null,
   "metadata": {},
   "outputs": [],
   "source": [
    "# Kodą rašykite čia..."
   ]
  },
  {
   "attachments": {},
   "cell_type": "markdown",
   "metadata": {},
   "source": [
    "### Užduotis 4\n",
    "\n",
    "Leiskite žmogui suvesti turimų prekių likučius. Įvedimą sustabdykite tuomet, kai žmogus įves -1. Suskaičiuokite turimų likučių sumą (-1 neturėtų būti įtrauktas į skaičiavimą) bei kiekį kiek yra tokių prekių, kurių likę 5 vienetai ar mažiau. Išveskite gautus atsakymus."
   ]
  },
  {
   "cell_type": "code",
   "execution_count": null,
   "metadata": {},
   "outputs": [],
   "source": [
    "# Kodą rašykite čia..."
   ]
  },
  {
   "attachments": {},
   "cell_type": "markdown",
   "metadata": {},
   "source": [
    "### Užduotis 5\n",
    "\n",
    "Generuokite ir išvedinėkite atsitiktinius skaičius. Veiksmą kartokite tiek kartų iki kol pasitaikys trys tokie skaičiai, kurie yra nelyginiai. Prie kiekvieno nelyginio skaičiaus išveskite, kad tai nelyginis skaičius. Raskite ir išveskite šių nelyginių skaičių vidurkį.\n",
    "\n",
    "Pvz:\n",
    "\n",
    "```\n",
    "5 nelyginis\n",
    "2\n",
    "4\n",
    "7 nelyginis\n",
    "8\n",
    "6\n",
    "2\n",
    "1 nelyginis\n",
    "baigė darbą\n",
    "```"
   ]
  },
  {
   "cell_type": "code",
   "execution_count": null,
   "metadata": {},
   "outputs": [],
   "source": [
    "# Kodą rašykite čia..."
   ]
  },
  {
   "attachments": {},
   "cell_type": "markdown",
   "metadata": {},
   "source": [
    "### Užduotis 6\n",
    "\n",
    "Vartotojui leiskite įvedinėti tiek žodžių kiek jis nori. Įvedimą baikite kai įrašys žodį \"baigti\". Visus įvestus žodžius sujunkite į vieną bendrą `string`, kiekvieną žodį atskiriant tarpu (bet po paskutinio nepaliekant tarpo). Parodykite sujungtą tekstą, įvestų žodžių kiekį ir bendrą simbolių kiekį."
   ]
  },
  {
   "cell_type": "code",
   "execution_count": null,
   "metadata": {},
   "outputs": [],
   "source": [
    "# Kodą rašykite čia..."
   ]
  },
  {
   "attachments": {},
   "cell_type": "markdown",
   "metadata": {},
   "source": [
    "### Užduotis 7\n",
    "\n",
    "Liepkite vartotojui įvedinėti bet kokius skaičius. Vykdykite įvedinėjimą iki kol įvestas skaičius bus lygus 0. Raskite įvestų skaičių sumą."
   ]
  },
  {
   "cell_type": "code",
   "execution_count": null,
   "metadata": {},
   "outputs": [],
   "source": [
    "# Kodą rašykite čia..."
   ]
  },
  {
   "attachments": {},
   "cell_type": "markdown",
   "metadata": {},
   "source": [
    "### Užduotis 8\n",
    "\n",
    "Leiskite vartotojui įvedinėti tiek teigiamų ir neigiamų skaičių kiek norės, įvedimą nutraukiant jeigu įves skaičių 0. Programa turėtų suskaičiuoti ir išvesti kiek buvo suvestų teigiamų skaičių ir kiek buvo suvestų neigiamų skaičių. Pvz: jeigu žmogus įves `7, 4, 9, 5, -4, 2, -7, 0`, tai gausime `teigiamų - 5` ir `neigiamų - 2`."
   ]
  },
  {
   "cell_type": "code",
   "execution_count": null,
   "metadata": {},
   "outputs": [],
   "source": [
    "# Kodą rašykite čia..."
   ]
  },
  {
   "attachments": {},
   "cell_type": "markdown",
   "metadata": {},
   "source": [
    "### Užduotis 9\n",
    "\n",
    "Leiskite vartotojui išsivedinėti tiek skirtingų daugybos lentelių kiek norėtų. Kiekvieną kartą kai žmogui leidžiama gauti daugybos lentelę, turėtų būti jo paklausiama kokio skaičiaus tai daugybos lentelė, nuo kokio daugiklio iki kokio reikia praeiti.\n",
    "\n",
    "Pvz: jeigu pasirinko, kad nori daugybos lentelės skaičiaus `5`, o pradžiai davė `1` ir pabaigai `5`, tai jam bus išvesti tokie atsakymai:\n",
    "\n",
    "```\n",
    "5 * 1 = 5\n",
    "5 * 2 = 10\n",
    "5 * 3 = 15\n",
    "5 * 4 = 20\n",
    "5 * 5 = 25\n",
    "```\n",
    "\n",
    "Po tokios lentelės išvedimo vartotojas gali vėl išsivesti daugybos lentelę, nurodant naujus parametrus išvedimui, arba gali sustabdyti programą."
   ]
  },
  {
   "cell_type": "code",
   "execution_count": null,
   "metadata": {},
   "outputs": [],
   "source": [
    "# Kodą rašykite čia..."
   ]
  },
  {
   "attachments": {},
   "cell_type": "markdown",
   "metadata": {},
   "source": [
    "### Užduotis 10\n",
    "\n",
    "Leiskite žmogui įvedinėti bet kokius žodžius. Kiekvieną kartą žmogui įvedus žodį jis turėtų būti išspausdinamas ekrane ir šalia jo parašyta kiek raidžių šiame žodyje yra. Įvedinėjimas yra vykdomas tol kol nepasitaikys žodis ilgesnis nei 5 simboliai.\n",
    "\n",
    "Pvz, jeigu įves kažką tokio:\n",
    "\n",
    "```\n",
    "Abc\n",
    "Def\n",
    "AAAA\n",
    "gg\n",
    "pomidoras\n",
    "```\n",
    "\n",
    "Programa sustos po žodžio `pomidoras` nes jis buvo ilgesnis nei `5` simboliai."
   ]
  },
  {
   "cell_type": "code",
   "execution_count": null,
   "metadata": {},
   "outputs": [],
   "source": [
    "# Kodą rašykite čia..."
   ]
  }
 ],
 "metadata": {
  "kernelspec": {
   "display_name": "Python 3",
   "language": "python",
   "name": "python3"
  },
  "language_info": {
   "codemirror_mode": {
    "name": "ipython",
    "version": 3
   },
   "file_extension": ".py",
   "mimetype": "text/x-python",
   "name": "python",
   "nbconvert_exporter": "python",
   "pygments_lexer": "ipython3",
   "version": "3.7.9 (tags/v3.7.9:13c94747c7, Aug 17 2020, 18:58:18) [MSC v.1900 64 bit (AMD64)]"
  },
  "orig_nbformat": 4,
  "vscode": {
   "interpreter": {
    "hash": "aa11ca274996316222ef16f35c5f6dbeb467b694c0b2154cdf34dcf9271d5fd0"
   }
  }
 },
 "nbformat": 4,
 "nbformat_minor": 2
}
