{
 "cells": [
  {
   "attachments": {},
   "cell_type": "markdown",
   "metadata": {},
   "source": [
    "[![Open In Colab](https://colab.research.google.com/assets/colab-badge.svg)](https://colab.research.google.com/github/blaztoma/pitono-pamokos/blob/main/pamokos/12%20-%20Ciklai/12-05%20-%20while%20ciklas%20(3%20dalis).ipynb)"
   ]
  },
  {
   "attachments": {},
   "cell_type": "markdown",
   "metadata": {},
   "source": [
    "# `while` ciklas (3 dalis)"
   ]
  },
  {
   "attachments": {},
   "cell_type": "markdown",
   "metadata": {},
   "source": [
    "## Pavyzdžiai"
   ]
  },
  {
   "cell_type": "code",
   "execution_count": 1,
   "metadata": {},
   "outputs": [
    {
     "name": "stdout",
     "output_type": "stream",
     "text": [
      "Įvestas vardas: Ieva\n"
     ]
    }
   ],
   "source": [
    "vardas = None\n",
    "\n",
    "while vardas == '' or vardas == None:\n",
    "    vardas = input('Įveskite vardą: ')\n",
    "\n",
    "print('Įvestas vardas:', vardas)"
   ]
  },
  {
   "cell_type": "code",
   "execution_count": 2,
   "metadata": {},
   "outputs": [
    {
     "name": "stdout",
     "output_type": "stream",
     "text": [
      "Blogai įvestas vardas, mėginkite iš naujo\n",
      "Įvestas vardas: Ieva\n"
     ]
    }
   ],
   "source": [
    "vardas = None\n",
    "\n",
    "while vardas == '' or vardas == None:\n",
    "    vardas = input('Įveskite vardą: ')\n",
    "    if vardas == '':\n",
    "        print('Blogai įvestas vardas, mėginkite iš naujo')\n",
    "\n",
    "print('Įvestas vardas:', vardas)"
   ]
  },
  {
   "cell_type": "code",
   "execution_count": 3,
   "metadata": {},
   "outputs": [
    {
     "name": "stdout",
     "output_type": "stream",
     "text": [
      "Blogai įvestas vardas, mėginkite iš naujo\n",
      "Blogai įvestas vardas, mėginkite iš naujo\n",
      "Įvestas vardas: Ieva\n"
     ]
    }
   ],
   "source": [
    "vardas = None\n",
    "\n",
    "while vardas == '' or vardas == None:\n",
    "    vardas = input('Įveskite vardą: ')\n",
    "    if not vardas:\n",
    "        print('Blogai įvestas vardas, mėginkite iš naujo')\n",
    "\n",
    "print('Įvestas vardas:', vardas)"
   ]
  },
  {
   "cell_type": "code",
   "execution_count": 4,
   "metadata": {},
   "outputs": [
    {
     "name": "stdout",
     "output_type": "stream",
     "text": [
      "Blogai įvestas vardas, mėginkite iš naujo\n",
      "Blogai įvestas vardas, mėginkite iš naujo\n",
      "Įvestas vardas: Ieva\n"
     ]
    }
   ],
   "source": [
    "vardas = input('Įveskite vardą: ')\n",
    "\n",
    "while not vardas:\n",
    "    print('Blogai įvestas vardas, mėginkite iš naujo')\n",
    "    vardas = input('Įveskite vardą: ')\n",
    "\n",
    "print('Įvestas vardas:', vardas)"
   ]
  },
  {
   "cell_type": "code",
   "execution_count": 5,
   "metadata": {},
   "outputs": [
    {
     "name": "stdout",
     "output_type": "stream",
     "text": [
      "Pabaiga\n",
      "Įvestas skaičius: 10\n"
     ]
    }
   ],
   "source": [
    "pradzia, pabaiga = 1, 100\n",
    "\n",
    "skaicius = 0\n",
    "\n",
    "while skaicius < pradzia or skaicius > pabaiga:\n",
    "    skaicius = int( input('Įveskite skaičių tarp [1-100]: ') )\n",
    "\n",
    "print('Pabaiga')\n",
    "print('Įvestas skaičius:', skaicius)"
   ]
  },
  {
   "cell_type": "code",
   "execution_count": 6,
   "metadata": {},
   "outputs": [
    {
     "name": "stdout",
     "output_type": "stream",
     "text": [
      "Blogas rėžis!\n",
      "Blogas rėžis!\n",
      "Pabaiga\n",
      "Įvestas skaičius: 54\n"
     ]
    }
   ],
   "source": [
    "pradzia, pabaiga = 1, 100\n",
    "\n",
    "skaicius = 0\n",
    "\n",
    "while skaicius < pradzia or skaicius > pabaiga:\n",
    "    skaicius = int( input('Įveskite skaičių tarp [1-100]: ') )\n",
    "    if skaicius < pradzia or skaicius > pabaiga:\n",
    "        print('Blogas rėžis!')\n",
    "\n",
    "print('Pabaiga')\n",
    "print('Įvestas skaičius:', skaicius)"
   ]
  },
  {
   "cell_type": "code",
   "execution_count": 7,
   "metadata": {},
   "outputs": [
    {
     "name": "stdout",
     "output_type": "stream",
     "text": [
      "Blogas rėžis!\n",
      "Blogas rėžis!\n",
      "Pabaiga\n",
      "Įvestas skaičius: 74\n"
     ]
    }
   ],
   "source": [
    "pradzia, pabaiga = 1, 100\n",
    "\n",
    "skaicius = 0\n",
    "\n",
    "while True:\n",
    "    skaicius = int( input('Įveskite skaičių tarp [1-100]: ') )\n",
    "    if skaicius < pradzia or skaicius > pabaiga:\n",
    "        print('Blogas rėžis!')\n",
    "    else:\n",
    "        break\n",
    "\n",
    "print('Pabaiga')\n",
    "print('Įvestas skaičius:', skaicius)"
   ]
  },
  {
   "cell_type": "code",
   "execution_count": 8,
   "metadata": {},
   "outputs": [
    {
     "name": "stdout",
     "output_type": "stream",
     "text": [
      "Įvestas skaičius: 56\n",
      "Jo tipas: <class 'int'>\n",
      "Jis gautas iš įvesties: 56 <class 'str'>\n"
     ]
    }
   ],
   "source": [
    "ivestis = input('Įveskite skaičių: ')\n",
    "\n",
    "while not ivestis.isdigit():\n",
    "    ivestis = input('Įvedėte ne skaičių, mėginkite iš naujo: ')\n",
    "\n",
    "skaicius = int(ivestis)\n",
    "print('Įvestas skaičius:', skaicius)\n",
    "print('Jo tipas:', type(skaicius))\n",
    "print('Jis gautas iš įvesties:', ivestis, type(ivestis))"
   ]
  },
  {
   "cell_type": "code",
   "execution_count": 10,
   "metadata": {},
   "outputs": [
    {
     "name": "stdout",
     "output_type": "stream",
     "text": [
      "87 + 24 = 111\n",
      "87 - 24 = 63\n",
      "87 * 24 = 2088\n",
      "87 / 24 = 3.625\n"
     ]
    }
   ],
   "source": [
    "pirmas = input('Įveskite pirmą skaičių: ')\n",
    "\n",
    "while not pirmas.isdigit():\n",
    "    pirmas = input('Įveskite pirmą skaičių: ')\n",
    "\n",
    "antras = input('Įveskite antrą skaičių: ')\n",
    "\n",
    "while not antras.isdigit():\n",
    "    antras = input('Įveskite antrą skaičių: ')\n",
    "\n",
    "pirmas = int(pirmas)\n",
    "antras = int(antras)\n",
    "\n",
    "print(f'{pirmas} + {antras} = {pirmas + antras}')\n",
    "print(f'{pirmas} - {antras} = {pirmas - antras}')\n",
    "print(f'{pirmas} * {antras} = {pirmas * antras}')\n",
    "print(f'{pirmas} / {antras} = {pirmas / antras}')\n"
   ]
  },
  {
   "cell_type": "code",
   "execution_count": 11,
   "metadata": {},
   "outputs": [
    {
     "name": "stdout",
     "output_type": "stream",
     "text": [
      "74 + 34 = 108\n",
      "74 - 34 = 40\n",
      "74 * 34 = 2516\n",
      "74 / 34 = 2.176470588235294\n"
     ]
    }
   ],
   "source": [
    "pirmas, antras = '', ''\n",
    "\n",
    "while not pirmas.isdigit():\n",
    "    pirmas = input('Įveskite pirmą skaičių: ')\n",
    "\n",
    "while not antras.isdigit():\n",
    "    antras = input('Įveskite antrą skaičių: ')\n",
    "\n",
    "pirmas = int(pirmas)\n",
    "antras = int(antras)\n",
    "\n",
    "print(f'{pirmas} + {antras} = {pirmas + antras}')\n",
    "print(f'{pirmas} - {antras} = {pirmas - antras}')\n",
    "print(f'{pirmas} * {antras} = {pirmas * antras}')\n",
    "print(f'{pirmas} / {antras} = {pirmas / antras}')\n"
   ]
  },
  {
   "cell_type": "code",
   "execution_count": 19,
   "metadata": {},
   "outputs": [
    {
     "name": "stdout",
     "output_type": "stream",
     "text": [
      "Čia ne skaičius!\n",
      "Įvestas skaičius: 9\n"
     ]
    }
   ],
   "source": [
    "try:\n",
    "    skaicius = int(input(\"Įveskite skaičių: \"))\n",
    "except ValueError:\n",
    "    print(\"Čia ne skaičius!\")\n",
    "\n",
    "print('Įvestas skaičius:', skaicius)"
   ]
  },
  {
   "cell_type": "code",
   "execution_count": 21,
   "metadata": {},
   "outputs": [
    {
     "name": "stdout",
     "output_type": "stream",
     "text": [
      "Čia ne skaičius!\n",
      "Čia ne skaičius!\n",
      "Čia ne skaičius!\n",
      "Įvestas skaičius: 10\n"
     ]
    }
   ],
   "source": [
    "kartoti = True\n",
    "\n",
    "while kartoti:\n",
    "    try:\n",
    "        skaicius = int(input(\"Įveskite skaičių: \"))\n",
    "        kartoti = False\n",
    "    except ValueError:\n",
    "        print(\"Čia ne skaičius!\")\n",
    "\n",
    "print('Įvestas skaičius:', skaicius)"
   ]
  },
  {
   "cell_type": "code",
   "execution_count": 12,
   "metadata": {},
   "outputs": [
    {
     "name": "stdout",
     "output_type": "stream",
     "text": [
      "Įvestas skaičius: 10\n",
      "Įvestas skaičius: 30\n",
      "Įvestas skaičius: 40\n",
      "Visų įvestų skaičių suma: 80\n"
     ]
    }
   ],
   "source": [
    "suma = 0\n",
    "kartoti = True\n",
    "ivestis = ''\n",
    "\n",
    "while kartoti:\n",
    "    while not ivestis.isdigit():\n",
    "        ivestis = input('Įveskite skaičių: ')\n",
    "\n",
    "    skaicius = int(ivestis)\n",
    "    print('Įvestas skaičius:', skaicius)\n",
    "    suma += skaicius\n",
    "\n",
    "    ivestis = input('Ar dar kartoti? t/n ')\n",
    "    if ivestis != 't':\n",
    "        kartoti = False\n",
    "\n",
    "print('Visų įvestų skaičių suma:', suma)"
   ]
  },
  {
   "attachments": {},
   "cell_type": "markdown",
   "metadata": {},
   "source": [
    "## Užduotys"
   ]
  },
  {
   "attachments": {},
   "cell_type": "markdown",
   "metadata": {},
   "source": [
    "### Užduotis 1\n",
    "\n",
    "Leiskite vartotojui įvesti norimą žodį. Kartokite įvedimą tol kol vartotojas neįves jokio validaus žodžio. O kai žodis bus įvestas, išveskite patį žodį ir kokio ilgio jis yra."
   ]
  },
  {
   "cell_type": "code",
   "execution_count": null,
   "metadata": {},
   "outputs": [],
   "source": [
    "# Kodą rašykite čia..."
   ]
  },
  {
   "attachments": {},
   "cell_type": "markdown",
   "metadata": {},
   "source": [
    "### Užduotis 2\n",
    "\n",
    "Leiskite vartotojui įvesti du žodžius. Kartokite įvedimus jei bent vienas iš įvestų žodžių nėra įvestas gerai (pvz.: tuščias `str`). Kai žodžiai bus suvesti gerai, raskite kuris iš jų yra ilgesnis, bei per kiek simbolių ilgesnis už trumpesnį, pvz.: jeigu įvesta bus `gynyba` ir `puolimas`, tai `gynyba` sudaryta iš `6` simbolių, o `puolimas` iš `8`, ir jis yra ilgesnis už pirmą žodį per `2` simbolius."
   ]
  },
  {
   "cell_type": "code",
   "execution_count": null,
   "metadata": {},
   "outputs": [],
   "source": [
    "# Kodą rašykite čia..."
   ]
  },
  {
   "attachments": {},
   "cell_type": "markdown",
   "metadata": {},
   "source": [
    "### Užduotis 3\n",
    "\n",
    "Leiskite vartotojui įvesti skaičių. Kartokite įvedimą jei įvestas ne skaičius ar nebuvo išvis jokios įvesties. Po sėkmingos įvesties išveskite patį skaičių ir ar jis yra lyginis ar ne lyginis."
   ]
  },
  {
   "cell_type": "code",
   "execution_count": null,
   "metadata": {},
   "outputs": [],
   "source": [
    "# Kodą rašykite čia..."
   ]
  },
  {
   "attachments": {},
   "cell_type": "markdown",
   "metadata": {},
   "source": [
    "### Užduotis 4\n",
    "\n",
    "Leiskite vartotojui įvesti tris skaičius. Jei bent vienas skaičius yra įvestas negerai, tuomet kartokite jo įvedimą. Kai viskas įvyks sėkmingai, tai suraskite šių skaičių sumą ir vidurkį bei gautus atsakymus išveskite."
   ]
  },
  {
   "cell_type": "code",
   "execution_count": null,
   "metadata": {},
   "outputs": [],
   "source": [
    "# Kodą rašykite čia..."
   ]
  },
  {
   "attachments": {},
   "cell_type": "markdown",
   "metadata": {},
   "source": [
    "### Užduotis 5\n",
    "\n",
    "Vartotojas turi suvesti rėžių pradžią ir pabaigą. Tačiau jūs turite patikrinti ar nurodyti rėžiai yra geri (pradžia mažesnė už pabaigą), bei rėžiai nurodyti kaip skaičiai. Liepkite vartotojui kartoti įvedimą tol, kol rėžiai jau bus įvesti tinkamai. Turint tinkamus rėžius, išveskite visus skaičius nuo rėžių pradžios iki pabaigos (šitam jau vietoj `while` galite naudoti `for` ciklą), šalia kiekvieno skaičiaus išvedant jo kvadratą, bei ar jis lyginis / nelyginis."
   ]
  },
  {
   "cell_type": "code",
   "execution_count": null,
   "metadata": {},
   "outputs": [],
   "source": [
    "# Kodą rašykite čia..."
   ]
  },
  {
   "attachments": {},
   "cell_type": "markdown",
   "metadata": {},
   "source": [
    "### Užduotis 6\n",
    "\n",
    "Leiskite vartotojui atlikti norimus skaičiavimus tiek kartų kiek jis nori. Pavyzdžiui, leiskite vartotojui įvesti du skaičius, tuomet jam parodykite pačius skaičius, veiksmus (sudėtis, atimtis, daugyba, dalyba) ir suskaičiuotus atsakymus (`5 + 3 = 8`; `5 - 3 = 2`; ...). Kai atsakymai bus parodyti, vartotojas turi turėti galimybę pakartoti skaičiavimus, todėl leiskite pasirinkti ar dar kartoti veiksmą, ar jau programa turėtų baigti savo darbą. Taip pat, nepamirškite apsaugoti visų įvedimų, kad jeigu pavyzdžiui norime skaičiaus ir programa gauna ne skaičių, tai vartotojas turėtų suvesti skaičių iš naujo."
   ]
  },
  {
   "cell_type": "code",
   "execution_count": null,
   "metadata": {},
   "outputs": [],
   "source": [
    "# Kodą rašykite čia..."
   ]
  },
  {
   "attachments": {},
   "cell_type": "markdown",
   "metadata": {},
   "source": [
    "### Užduotis 7\n",
    "\n",
    "Vartotojui išveskite pasirinkto skaičiaus daugybos lentelę (pvz, skaičiaus 5 daugybos lentelė būtų `5 * 1 = 5`; `5 * 2 = 10`; `5 * 3 = 15`; ...). Leiskite vartotojui kartoti veiksmą (tiek kartų kiek norės) ir gauti dar vieną daugybos lentelę su kitu pasirinktu skaičiumi. Taip pat, nepamirškite apsaugoti visų įvedimų, kad jeigu pavyzdžiui norime skaičiaus ir programa gauna ne skaičių, tai vartotojas turėtų suvesti skaičių iš naujo."
   ]
  },
  {
   "cell_type": "code",
   "execution_count": null,
   "metadata": {},
   "outputs": [],
   "source": [
    "# Kodą rašykite čia..."
   ]
  },
  {
   "attachments": {},
   "cell_type": "markdown",
   "metadata": {},
   "source": [
    "### Užduotis 8\n",
    "\n",
    "Liepkite vartotojui įvesti kiek jis nori skaičių. Įvedimą sustabdykite tuomet, kai vartototojas įves 0 ar -1, ar kitą jūsų pasirinktą skaičių ar simbolį. Raskite vartotojo įvestų skaičių sumą, vidurkį. Taip pat, nepamirškite apsaugoti visų įvedimų, kad jeigu pavyzdžiui norime skaičiaus ir programa gauna ne skaičių, tai vartotojas turėtų suvesti skaičių iš naujo."
   ]
  },
  {
   "cell_type": "code",
   "execution_count": null,
   "metadata": {},
   "outputs": [],
   "source": [
    "# Kodą rašykite čia..."
   ]
  },
  {
   "attachments": {},
   "cell_type": "markdown",
   "metadata": {},
   "source": [
    "### Užduotis 9\n",
    "\n",
    "Sukurkite studentų pažymių vidurkių skaičiuoklę (kaip pavyzdį galite naudoti kodo blokelyje prisegtą pavyzdį). Tačiau tokia skaičiuoklė turėtų leisti skaičiuoti vidurkį ne tik iš vieno studento pažymių, bet leistų pakartoti pažymių įvedimą ir vidurkio skaičiavimą ant tiek studentų kiek reikia. Taip pat, nepamirškite apsaugoti visų įvedimų, kad jeigu pavyzdžiui norime skaičiaus ir programa gauna ne skaičių, tai vartotojas turėtų suvesti skaičių iš naujo."
   ]
  },
  {
   "cell_type": "code",
   "execution_count": 22,
   "metadata": {},
   "outputs": [],
   "source": [
    "# Kaip pagrindą galite naudoti šį pavyzdį ir pamodifikuoti:\n",
    "\n",
    "# pazymiu_suma = 0\n",
    "# pazymiu_kiekis = 0\n",
    "\n",
    "# pazymys = -1\n",
    "\n",
    "# print('Iveskite tiek pazymiu kiek norite (atskiriant enter)')\n",
    "# print('Norint baigti irasykite 0')\n",
    "\n",
    "# while pazymys != 0:\n",
    "#     pazymys = int(input('Iveskite pazymi: '))\n",
    "#     if pazymys != 0:\n",
    "#         pazymiu_suma += pazymys\n",
    "#         pazymiu_kiekis += 1\n",
    "\n",
    "# vidurkis = round(pazymiu_suma / pazymiu_kiekis, 1)\n",
    "# print('Suvestu pazymiu vidurkis:', vidurkis)\n",
    "\n",
    "# Kodą rašykite čia...\n"
   ]
  },
  {
   "attachments": {},
   "cell_type": "markdown",
   "metadata": {},
   "source": [
    "### Užduotis 10\n",
    "\n",
    "Sukurkite žaidimą, panašų į skaičių spėliojimo žaidimą. Tik šis skirsis tuo, kad programa automatiškai sugeneruos du atsitiktinius skaičius (čia bus mūsų rėžiai), o vartotojas turės atspėti bet kokį skaičių esantį tarp tų rėžių. Kiekvieną kartą kai žmogus įvedinės skaičių, įsitikinkite, kad tai yra skaičius ir tik tada vykdykite tolimesnius veiksmus, o jeigu skaičius suvestas blogai, tuomet kartokite įvedimą.\n",
    "\n",
    "Pavyzdžiui:\n",
    "\n",
    "Jeigu programa sugeneravo 2 ir 5, tai žmogus laimės jeigu spės 2, 3, 4, arba 5, tačiau pralaimės jeigu spės ką nors kito.\n",
    "\n",
    "Arba jeigu programa sugeneravo 10 ir 15, tai žmogus laimės jeigu spės 10, 11, 12, 13, 14, arba 15, tačiau pralaimės jeigu spės ką nors kito."
   ]
  },
  {
   "cell_type": "code",
   "execution_count": null,
   "metadata": {},
   "outputs": [],
   "source": [
    "# Kodą rašykite čia..."
   ]
  },
  {
   "attachments": {},
   "cell_type": "markdown",
   "metadata": {},
   "source": [
    "### Užduotis 11\n",
    "\n",
    "Sukurkite skaičiaus atspėjimo užduotį. Leiskite vartotojui pasirinkti žaidimo sudėtingumą (atsitiktinio skaičiaus rėžiai), ar suteikiamos pagalbos (skaičius mažesnis / didesnis nei spėjamas), kiek spėjimų leidžiama (neribotai, arba pvz iki 10 ėjimų), bei kiti pasirinkti parametrai. Vartotojas šiuos parametrus pasirenka žaidimo pradžioje. Turite užtikrinti, kad vartotojas pasirinko parametrus tik iš galimų - jeigu ne, liepkite įvedimą pakartoti."
   ]
  },
  {
   "cell_type": "code",
   "execution_count": null,
   "metadata": {},
   "outputs": [],
   "source": [
    "# Kodą rašykite čia..."
   ]
  }
 ],
 "metadata": {
  "kernelspec": {
   "display_name": "Python 3",
   "language": "python",
   "name": "python3"
  },
  "language_info": {
   "codemirror_mode": {
    "name": "ipython",
    "version": 3
   },
   "file_extension": ".py",
   "mimetype": "text/x-python",
   "name": "python",
   "nbconvert_exporter": "python",
   "pygments_lexer": "ipython3",
   "version": "3.7.9 (tags/v3.7.9:13c94747c7, Aug 17 2020, 18:58:18) [MSC v.1900 64 bit (AMD64)]"
  },
  "orig_nbformat": 4,
  "vscode": {
   "interpreter": {
    "hash": "aa11ca274996316222ef16f35c5f6dbeb467b694c0b2154cdf34dcf9271d5fd0"
   }
  }
 },
 "nbformat": 4,
 "nbformat_minor": 2
}
