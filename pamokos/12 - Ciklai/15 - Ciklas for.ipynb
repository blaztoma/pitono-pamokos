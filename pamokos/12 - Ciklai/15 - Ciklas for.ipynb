{
 "cells": [
  {
   "attachments": {},
   "cell_type": "markdown",
   "metadata": {},
   "source": [
    "# Ciklai\n",
    "\n",
    "- Ciklai naudojami norint kartoti tuos pačius veiksmus daugiau nei vieną kartą.\n",
    "- Yra du ciklų tipai:\n",
    "  - `for`\n",
    "  - `while`\n",
    "- Kiekvienas ciklas pasižymi tam tikromis savybėmis, todėl kiekvienu atveju reikia patiems nuspręsti, kuris ciklas yra tinkamesnis naudoti."
   ]
  },
  {
   "attachments": {},
   "cell_type": "markdown",
   "metadata": {},
   "source": [
    "# `for` ciklas"
   ]
  },
  {
   "attachments": {},
   "cell_type": "markdown",
   "metadata": {},
   "source": [
    "## Apie `for` ciklą\n",
    "\n",
    "Šis ciklas dažniausiai naudojamas kai yra žinoma, kiek kartų jis turi būti vykdomas, arba kai iteruojamas duomenų rinkinys (skaičių sąrašas, elementų rinkinys, …)."
   ]
  },
  {
   "attachments": {},
   "cell_type": "markdown",
   "metadata": {},
   "source": [
    "## Sintaksė\n",
    "\n",
    "```\n",
    "for elementas in iteruojamas_objektas:\n",
    "\t# vykdomas kodas\n",
    "```\n",
    "\n",
    "- **iteruojamas_objektas** - elementų rinkinys, sąrašas ir pan. - tai, ką mes iteruojame naudodami ciklą\n",
    "- **elementas** - vienas elementas, viena dalis, iš `iteruojamas_objektas`"
   ]
  },
  {
   "attachments": {},
   "cell_type": "markdown",
   "metadata": {},
   "source": [
    "**iteruojamas_objektas** pavyzdžiai:\n",
    "\n",
    "```\n",
    "[40, 32, 73]\n",
    "\"labas\"\n",
    "range(1, 10)\n",
    "```"
   ]
  },
  {
   "attachments": {},
   "cell_type": "markdown",
   "metadata": {},
   "source": [
    "## Pavyzdžiai"
   ]
  },
  {
   "cell_type": "code",
   "execution_count": null,
   "metadata": {},
   "outputs": [],
   "source": [
    "print('labas')\n",
    "print('labas')\n",
    "print('labas')\n",
    "\n",
    "print()\n",
    "\n",
    "# Tą patį atliks ir šis ciklas:\n",
    "\n",
    "for sk in range(3):\n",
    "    print('labas')"
   ]
  },
  {
   "cell_type": "code",
   "execution_count": null,
   "metadata": {},
   "outputs": [],
   "source": [
    "print('Eilutė nr 1')\n",
    "print('Eilutė nr 2')\n",
    "print('Eilutė nr 3')\n",
    "print('Eilutė nr 4')\n",
    "print()\n",
    "\n",
    "for i in range(1, 5):\n",
    "    print(f'Eilutė nr. {i}')"
   ]
  },
  {
   "cell_type": "code",
   "execution_count": null,
   "metadata": {},
   "outputs": [],
   "source": [
    "for i in range(5):\n",
    "    print(i)"
   ]
  },
  {
   "cell_type": "code",
   "execution_count": null,
   "metadata": {},
   "outputs": [],
   "source": [
    "for i in range(0, 5):\n",
    "    print(i)"
   ]
  },
  {
   "cell_type": "code",
   "execution_count": null,
   "metadata": {},
   "outputs": [],
   "source": [
    "for i in range(1, 6):\n",
    "    print(i)"
   ]
  },
  {
   "cell_type": "code",
   "execution_count": null,
   "metadata": {},
   "outputs": [],
   "source": [
    "for i in range(5):\n",
    "    print(i+1)"
   ]
  },
  {
   "cell_type": "code",
   "execution_count": null,
   "metadata": {},
   "outputs": [],
   "source": [
    "for sk in range(5, 11):\n",
    "    print(f'Skaičius: {sk}')"
   ]
  },
  {
   "cell_type": "code",
   "execution_count": null,
   "metadata": {},
   "outputs": [],
   "source": [
    "for i in range(5, 16):\n",
    "    print(f'Skaičius i = {i}')"
   ]
  },
  {
   "cell_type": "code",
   "execution_count": null,
   "metadata": {},
   "outputs": [],
   "source": [
    "for skaicius in range(2, 11):\n",
    "    if skaicius % 2 == 0:\n",
    "        print(f'Skaičius {skaicius} yra lyginis.')"
   ]
  },
  {
   "cell_type": "code",
   "execution_count": null,
   "metadata": {},
   "outputs": [],
   "source": [
    "for skaicius in range(2, 11, 2):\n",
    "    print(f'Skaičius {skaicius} yra lyginis.')"
   ]
  },
  {
   "cell_type": "code",
   "execution_count": null,
   "metadata": {},
   "outputs": [],
   "source": [
    "for sk in range(1, 13):\n",
    "    if sk % 2 == 0 or sk % 5 == 0:\n",
    "        print(f'Skaičius {sk} dalinasi iš 2 arba 5.')"
   ]
  },
  {
   "cell_type": "code",
   "execution_count": null,
   "metadata": {},
   "outputs": [],
   "source": [
    "kiek = 5\n",
    "\n",
    "for i in range(kiek):\n",
    "    print(i)"
   ]
  },
  {
   "cell_type": "code",
   "execution_count": null,
   "metadata": {},
   "outputs": [],
   "source": [
    "pradzia = 7\n",
    "pabaiga = 10\n",
    "\n",
    "for i in range(pradzia, pabaiga + 1):\n",
    "    print(f'Skaičius {i}')"
   ]
  },
  {
   "cell_type": "code",
   "execution_count": null,
   "metadata": {},
   "outputs": [],
   "source": [
    "pradzia, pabaiga = 7, 10\n",
    "\n",
    "for i in range(pradzia, pabaiga + 1):\n",
    "    print(f'Skaičius {i}')"
   ]
  },
  {
   "cell_type": "code",
   "execution_count": null,
   "metadata": {},
   "outputs": [],
   "source": [
    "for raide in \"mano tekstas\":\n",
    "    print(raide)"
   ]
  },
  {
   "cell_type": "code",
   "execution_count": null,
   "metadata": {},
   "outputs": [],
   "source": [
    "tekstas = 'obelis'\n",
    "\n",
    "for r in tekstas:\n",
    "    print(r * 10)"
   ]
  },
  {
   "cell_type": "code",
   "execution_count": null,
   "metadata": {},
   "outputs": [],
   "source": [
    "for el in [7, 4, 5, 32, 14, 78]:\n",
    "    print(el)"
   ]
  },
  {
   "cell_type": "code",
   "execution_count": null,
   "metadata": {},
   "outputs": [],
   "source": [
    "for i in range(1, 4):\n",
    "\n",
    "    print('Pirmo ciklo pradžia, i =', i)\n",
    "\n",
    "    for j in range(1, 4):\n",
    "        print('Antras ciklas, j =', j)\n",
    "\n",
    "    print('Pirmo ciklo iteracijos pabaiga.')"
   ]
  },
  {
   "cell_type": "code",
   "execution_count": null,
   "metadata": {},
   "outputs": [],
   "source": [
    "for raide in \"ąžuolas\":\n",
    "    if raide == \"l\":\n",
    "        break\n",
    "    print(raide)\n",
    "\n",
    "print(\"pabaiga\")"
   ]
  },
  {
   "cell_type": "code",
   "execution_count": null,
   "metadata": {},
   "outputs": [],
   "source": [
    "for raide in \"ąžuolas\":\n",
    "    if raide == \"l\":\n",
    "        continue\n",
    "    print(raide)\n",
    "\n",
    "print(\"pabaiga\")"
   ]
  },
  {
   "attachments": {},
   "cell_type": "markdown",
   "metadata": {},
   "source": [
    "## Užduotys"
   ]
  },
  {
   "attachments": {},
   "cell_type": "markdown",
   "metadata": {},
   "source": [
    "### Užduotis 1\n",
    "\n",
    "`for` pagalba išveskite savo vardą penkis kartus."
   ]
  },
  {
   "cell_type": "code",
   "execution_count": null,
   "metadata": {},
   "outputs": [],
   "source": [
    "# Kodą rašykite čia...\n"
   ]
  },
  {
   "attachments": {},
   "cell_type": "markdown",
   "metadata": {},
   "source": [
    "### Užduotis 2\n",
    "\n",
    "Parašyti `for` ciklą, kuris išvestų visus skaičius, pradedant nuo 0 ir baigiant 10."
   ]
  },
  {
   "cell_type": "code",
   "execution_count": null,
   "metadata": {},
   "outputs": [],
   "source": [
    "# Kodą rašykite čia...\n"
   ]
  },
  {
   "attachments": {},
   "cell_type": "markdown",
   "metadata": {},
   "source": [
    "### Užduotis 3\n",
    "\n",
    "Parašyti `for` ciklą, kuris išvestų kas antrą skaičių, pradedant 0 ir baigiant 15."
   ]
  },
  {
   "cell_type": "code",
   "execution_count": null,
   "metadata": {},
   "outputs": [],
   "source": [
    "# Kodą rašykite čia...\n"
   ]
  },
  {
   "attachments": {},
   "cell_type": "markdown",
   "metadata": {},
   "source": [
    "### Užduotis 4\n",
    "\n",
    "Parašyti `for` ciklą, kuris išvestų kas trečią skaičių, pradedant 1 ir baigiant 20. Kiekvieną skaičių apskliausti laužtiniais skliaustais. Pvz.: `[1][4][7]`..."
   ]
  },
  {
   "cell_type": "code",
   "execution_count": null,
   "metadata": {},
   "outputs": [],
   "source": [
    "# Kodą rašykite čia...\n"
   ]
  },
  {
   "attachments": {},
   "cell_type": "markdown",
   "metadata": {},
   "source": [
    "### Užduotis 5\n",
    "\n",
    "Parašyti `for` ciklą, kuris tikrintų kiekvieną skaičių intervale nuo 1 iki 20. Jame parašyti `if` sąlygą, kuri patikrintų ar tikrinamas skaičius dalinasi iš 4. Jei taip, tai šį skaičių išvesti."
   ]
  },
  {
   "cell_type": "code",
   "execution_count": null,
   "metadata": {},
   "outputs": [],
   "source": [
    "# Kodą rašykite čia...\n"
   ]
  },
  {
   "attachments": {},
   "cell_type": "markdown",
   "metadata": {},
   "source": [
    "### Užduotis 6\n",
    "\n",
    "Išveskite visus skaičius nuo 1 iki 15. Kiekvienam iš jų nurodykite ar tai lyginis ar nelyginis skaičius. Pvz:\n",
    "\n",
    "```\n",
    "1 - nelyginis\n",
    "2 - lyginis\n",
    "3 - nelyginis\n",
    "...\n",
    "```"
   ]
  },
  {
   "cell_type": "code",
   "execution_count": null,
   "metadata": {},
   "outputs": [],
   "source": [
    "# Kodą rašykite čia...\n"
   ]
  },
  {
   "attachments": {},
   "cell_type": "markdown",
   "metadata": {},
   "source": [
    "### Užduotis 7\n",
    "\n",
    "Susikurkite kintamuosius rėžių pradžiai ir pabaigai nusakyti. Patikrinkite ar pradžia mažesnė nei pabaiga. Jei rėžiai tinkami, tuomet vykdykite `for` ciklą, kuris atskirose eilutėse išvestų kiekvieną skaičių iš tų rėžių, bei tų skaičių kvadratus."
   ]
  },
  {
   "cell_type": "code",
   "execution_count": null,
   "metadata": {},
   "outputs": [],
   "source": [
    "# Kodą rašykite čia...\n"
   ]
  },
  {
   "attachments": {},
   "cell_type": "markdown",
   "metadata": {},
   "source": [
    "### Užduotis 8\n",
    "\n",
    "Susikurkite kintamuosius rėžių pradžiai ir pabaigai nusakyti. Patikrinkite ar pradžia mažesnė nei pabaiga. Jei rėžiai tinkami, tuomet vykdykite `for` ciklą, kuris iš duotų skaičių išvestų visus nelyginius skaičius, arba tuos, kurie dalinasi iš 8."
   ]
  },
  {
   "cell_type": "code",
   "execution_count": null,
   "metadata": {},
   "outputs": [],
   "source": [
    "# Kodą rašykite čia...\n"
   ]
  },
  {
   "attachments": {},
   "cell_type": "markdown",
   "metadata": {},
   "source": [
    "### Užduotis 9\n",
    "\n",
    "Leiskite vartotojui įvesti savo vardą. Ciklą `for` vykdykite tiek kartų kiek tame varde yra raidžių. Visais atvejais išveskite tą patį pasisveikinimą, pavyzdžiui \"Labas, Ieva\" (ši eilutė kartotųsi 4 kartus)."
   ]
  },
  {
   "cell_type": "code",
   "execution_count": null,
   "metadata": {},
   "outputs": [],
   "source": [
    "# Kodą rašykite čia...\n"
   ]
  },
  {
   "attachments": {},
   "cell_type": "markdown",
   "metadata": {},
   "source": [
    "### Užduotis 10\n",
    "\n",
    "Parašykite tokį ciklą: `for elementas in [88, 65, 21, 26, 47]`\n",
    "\n",
    "Iš duotų skaičių išveskite visus lyginius skaičius."
   ]
  },
  {
   "cell_type": "code",
   "execution_count": null,
   "metadata": {},
   "outputs": [],
   "source": [
    "# Kodą rašykite čia...\n"
   ]
  },
  {
   "attachments": {},
   "cell_type": "markdown",
   "metadata": {},
   "source": [
    "### Užduotis 11\n",
    "\n",
    "Leiskite vartotojui nurodyti rėžių pradžią, pabaigą ir žingsnį. Taip pat išveskite, kokius skaičius jis nori matyti (lyginius ar nelyginius). Patikrinkite ar rėžiai tinkami. Jei taip, vykdykite ciklą, kuris pereitų per nurodytą intervalą, darydamas nurodytą žingsnį. Išveskite tik tokius skaičius, kokius vartotojas pasirinko (lyginius arba nelyginius)."
   ]
  },
  {
   "cell_type": "code",
   "execution_count": null,
   "metadata": {},
   "outputs": [],
   "source": [
    "# Kodą rašykite čia...\n"
   ]
  },
  {
   "attachments": {},
   "cell_type": "markdown",
   "metadata": {},
   "source": [
    "### Užduotis 12\n",
    "\n",
    "`for` ciklo pagalba pamėginkite išvesti tokią eglutę:\n",
    "\n",
    "```\n",
    "*\n",
    "**\n",
    "***\n",
    "****\n",
    "*****\n",
    "```\n",
    "\n",
    "*Papildomai* \n",
    "\n",
    "Leiskite naudotojui pasirinkti, kokio dydžio eglutė turėtų būti pavaizduota."
   ]
  },
  {
   "cell_type": "code",
   "execution_count": null,
   "metadata": {},
   "outputs": [],
   "source": [
    "# Kodą rašykite čia...\n"
   ]
  },
  {
   "attachments": {},
   "cell_type": "markdown",
   "metadata": {},
   "source": [
    "### Užduotis 13\n",
    "\n",
    "Leiskite vartotojui įvesti bet kokį žodį, bei pasirinkti, po kiek kartų turėtų būti pakartojama kiekviena raidė. Ciklo pagalba išveskite kiekvieną žodžio raidę atskiroje eilutėje. Taip pat, tą raidę eilutėje kartokite tiek kartų kiek pasirinko vartotojas."
   ]
  },
  {
   "cell_type": "code",
   "execution_count": null,
   "metadata": {},
   "outputs": [],
   "source": [
    "# Kodą rašykite čia...\n",
    "\n",
    "# Kaip pagrindą galite naudoti šį ciklą ir jį pakeisti:\n",
    "# for raide in \"mano tekstas\":\n",
    "#     print(raide)"
   ]
  },
  {
   "attachments": {},
   "cell_type": "markdown",
   "metadata": {},
   "source": [
    "### Užduotis 14\n",
    "\n",
    "*Papildomai*\n",
    "\n",
    "Sudauginkite du skaičius nenaudodami daugybos operacijos."
   ]
  },
  {
   "cell_type": "code",
   "execution_count": null,
   "metadata": {},
   "outputs": [],
   "source": [
    "# Kodą rašykite čia...\n"
   ]
  }
 ],
 "metadata": {
  "kernelspec": {
   "display_name": "Python 3",
   "language": "python",
   "name": "python3"
  },
  "language_info": {
   "codemirror_mode": {
    "name": "ipython",
    "version": 3
   },
   "file_extension": ".py",
   "mimetype": "text/x-python",
   "name": "python",
   "nbconvert_exporter": "python",
   "pygments_lexer": "ipython3",
   "version": "3.7.9"
  },
  "orig_nbformat": 4,
  "vscode": {
   "interpreter": {
    "hash": "aa11ca274996316222ef16f35c5f6dbeb467b694c0b2154cdf34dcf9271d5fd0"
   }
  }
 },
 "nbformat": 4,
 "nbformat_minor": 2
}
