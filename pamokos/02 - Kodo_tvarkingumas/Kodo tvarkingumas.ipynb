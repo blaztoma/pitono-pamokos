{
  "cells": [
    {
      "attachments": {},
      "cell_type": "markdown",
      "metadata": {},
      "source": [
        "[![Open In Colab](https://colab.research.google.com/assets/colab-badge.svg)](https://colab.research.google.com/github/blaztoma/pitono-pamokos/blob/main/pamokos/02%20-%20Kodo%20tvarkingumas/Kodo%20tvarkingumas.ipynb)"
      ]
    },
    {
      "attachments": {},
      "cell_type": "markdown",
      "metadata": {},
      "source": [
        "# Atitraukimai nuo krašto"
      ]
    },
    {
      "attachments": {},
      "cell_type": "markdown",
      "metadata": {},
      "source": [
        "Programa yra skaidoma blokais (funkcijos, ciklai ir kt.). Norint parodyti bloko ribas, to bloko kodas yra atitraukiamas nuo krašto.\n",
        "Bloko eilutės yra atitraukiamos nuo krašto (arba prieš tai esančio bloko) su 4 tarpais arba 1 tab paspaudimu.\n",
        "\n",
        "> **Atkreipkite dėmesį**: skirtingai nuo daugelio programavimo kalbų, atitraukimas turi didelę reikšmę programos vykdymui.\n",
        "\n",
        "Atitraukimas atstoja begin ir end paskalio kalboje arba { } C kalbos simbolius. Žemiau matote pitono programos pavyzdį su tinkamu kodo atitraukimu. Kol kas nesiaiškinkite kaip programa veikia."
      ]
    },
    {
      "cell_type": "code",
      "execution_count": 4,
      "metadata": {},
      "outputs": [
        {
          "name": "stdout",
          "output_type": "stream",
          "text": [
            "pradzia!\n",
            "obuolys\n",
            "kriaušė\n",
            "pabaiga!\n"
          ]
        }
      ],
      "source": [
        "def atitraukimo_pavyzdys():\n",
        "    print(\"pradzia!\")\n",
        "    vaisiai = [\"obuolys\", \"kriaušė\", \"slyva\"]\n",
        "    for vaisius in vaisiai:\n",
        "        print(vaisius)\n",
        "        if vaisius == \"kriaušė\":\n",
        "            break\n",
        "    print(\"pabaiga!\")\n",
        "\n",
        "atitraukimo_pavyzdys()"
      ]
    },
    {
      "attachments": {},
      "cell_type": "markdown",
      "metadata": {},
      "source": [
        "# Komentavimas"
      ]
    },
    {
      "attachments": {},
      "cell_type": "markdown",
      "metadata": {},
      "source": [
        "Kodas yra komentuojamas tais atvejais kai mes norime parašyti paaiškinimą apie tai kas vyksta kode arba kai norim kažkurią kodo dalį padaryti nebeaktyvią (nebevykdomą).\n",
        "\n",
        "> Komentarui naudojamas simbolis: #\n",
        "\n",
        "Toliau parodyta ta pati programa su funkcijos aprašymu bei dviem užkomentuotom kodo eilutėm, kurios išveda *pradžia* ir *pabaiga*"
      ]
    },
    {
      "cell_type": "code",
      "execution_count": 5,
      "metadata": {},
      "outputs": [
        {
          "name": "stdout",
          "output_type": "stream",
          "text": [
            "obuolys\n",
            "kriaušė\n"
          ]
        }
      ],
      "source": [
        "# Ši funkcija parašyta tam, kad iliustruoti\n",
        "# tvarkingo kodo užrašymą.\n",
        "# Tam naudojama funkcija pavadinimu atitraukimo_pavyzdys\n",
        "def atitraukimo_pavyzdys():\n",
        "#     print(\"pradzia!\")\n",
        "    vaisiai = [\"obuolys\", \"kriaušė\", \"slyva\"]\n",
        "    for vaisius in vaisiai:\n",
        "        print(vaisius)\n",
        "        if vaisius == \"kriaušė\":\n",
        "            break\n",
        "#     print(\"pabaiga!\")\n",
        "\n",
        "atitraukimo_pavyzdys()"
      ]
    },
    {
      "attachments": {},
      "cell_type": "markdown",
      "metadata": {},
      "source": [
        "# Užduotis"
      ]
    },
    {
      "attachments": {},
      "cell_type": "markdown",
      "metadata": {},
      "source": [
        "Žemiau pateikta programa, kuri neveikia, nes kviečiamos funkcijos, kurios nėra užrašytos. Atlikite šiuos veiksmus:\n",
        "* Nukopijuokite programą į savo aplinką\n",
        "* Užkomentuokite neveikiančias kodo dalis\n",
        "\n",
        "Atkreipkite dėmesį, kad aplinka pati raudonai pažymi neteisingas eilutes. "
      ]
    },
    {
      "cell_type": "code",
      "execution_count": 7,
      "metadata": {},
      "outputs": [
        {
          "ename": "NameError",
          "evalue": "NameError: name 'kviečiu_nežinomą_funkciją' is not defined",
          "output_type": "error",
          "traceback": [
            "\u001b[0;31m---------------------------------------------------------------------------",
            "Traceback (most recent call last)",
            "    at line 1 in <module>",
            "NameError: name 'kviečiu_nežinomą_funkciją' is not defined"
          ]
        }
      ],
      "source": [
        "kviečiu_nežinomą_funkciją()\n",
        "\n",
        "def atitraukimo_pavyzdys():\n",
        "#     print(\"pradzia!\")\n",
        "    vaisiai = [\"obuolys\", \"kriaušė\", \"slyva\"]\n",
        "    for vaisius in vaisiai:\n",
        "        print(vaisius)\n",
        "        if vaisius == \"kriaušė\":\n",
        "            break\n",
        "#     print(\"pabaiga!\")\n",
        "\n",
        "kviečiu_kitą_funkciją()\n",
        "atitraukimo_pavyzdys()"
      ]
    }
  ],
  "metadata": {
    "kernelspec": {
      "display_name": "Python 3",
      "language": "python",
      "name": "python3"
    },
    "language_info": {
      "name": "python",
      "version": "3.7.9 (tags/v3.7.9:13c94747c7, Aug 17 2020, 18:58:18) [MSC v.1900 64 bit (AMD64)]"
    },
    "vscode": {
      "interpreter": {
        "hash": "aa11ca274996316222ef16f35c5f6dbeb467b694c0b2154cdf34dcf9271d5fd0"
      }
    }
  },
  "nbformat": 4,
  "nbformat_minor": 0
}
