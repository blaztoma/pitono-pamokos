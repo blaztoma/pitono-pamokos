{
  "cells": [
    {
      "attachments": {},
      "cell_type": "markdown",
      "metadata": {},
      "source": [
        "[![Open In Colab](https://colab.research.google.com/assets/colab-badge.svg)](https://colab.research.google.com/github/blaztoma/pitono-pamokos/blob/main/pamokos/03%20-%20Isvedimas/I%C5%A1vedimas.ipynb)"
      ]
    },
    {
      "cell_type": "markdown",
      "metadata": {
        "id": "WbbZLXtbSUl9"
      },
      "source": [
        "# Išvedimas į konsolę"
      ]
    },
    {
      "cell_type": "markdown",
      "metadata": {
        "id": "KJBRz6ErI5YO"
      },
      "source": [
        "Kompiuteris gali atsakyti į daugelį mūsų klausimų apie tai ko norime sužinoti iš programos. Dėl to jis turi bendrauti - vienu ar kitu būdu pateikti informaciją žmogui. Dabar išmokysime kompiuterį bendrauti pačiu paprasčiausiu būdu, tai yra išvesdami informaciją į konsolę."
      ]
    },
    {
      "cell_type": "markdown",
      "metadata": {
        "id": "vnSINe7WL6u8"
      },
      "source": [
        "Pitone tam naudojama funkcija `print()`. Spausdinamą pranešimą reikia apgaubti viengubomis arba dvigubomis kabutėmis. Pavyzdys:"
      ]
    },
    {
      "cell_type": "code",
      "execution_count": null,
      "metadata": {
        "colab": {
          "base_uri": "https://localhost:8080/"
        },
        "id": "Ga_UNBCDIufe",
        "outputId": "ca853ab2-ea57-4822-e2d9-c7a90c70b6e1"
      },
      "outputs": [
        {
          "name": "stdout",
          "output_type": "stream",
          "text": [
            "Teksto eilutė\n"
          ]
        }
      ],
      "source": [
        "print('Teksto eilutė')"
      ]
    },
    {
      "cell_type": "markdown",
      "metadata": {
        "id": "A1KPt6zXKvoj"
      },
      "source": [
        "Jei naudosime dvigubas kabutes - tai duos tą patį rezultatą."
      ]
    },
    {
      "cell_type": "code",
      "execution_count": null,
      "metadata": {
        "colab": {
          "base_uri": "https://localhost:8080/"
        },
        "id": "AKRNXjP_I13j",
        "outputId": "220e0a30-05b5-492a-d8f0-958dbf1eb63c"
      },
      "outputs": [
        {
          "name": "stdout",
          "output_type": "stream",
          "text": [
            "Teksto eilutė\n"
          ]
        }
      ],
      "source": [
        "print(\"Teksto eilutė\")"
      ]
    },
    {
      "cell_type": "markdown",
      "metadata": {
        "id": "cEuxIQN4I2JH"
      },
      "source": [
        "Paklausite - kam tai reikalinga!? Ogi tiems, atvejams, kai kabutės yra teksto dalis: "
      ]
    },
    {
      "cell_type": "code",
      "execution_count": null,
      "metadata": {
        "colab": {
          "base_uri": "https://localhost:8080/"
        },
        "id": "-dXfifiqLebT",
        "outputId": "3f46a067-fe3f-4c22-e2a4-ff3077626155"
      },
      "outputs": [
        {
          "name": "stdout",
          "output_type": "stream",
          "text": [
            "Kompiuteris parašė: 'Labas rytas!'\n"
          ]
        }
      ],
      "source": [
        "print(\"Kompiuteris parašė: 'Labas rytas!'\")"
      ]
    },
    {
      "cell_type": "markdown",
      "metadata": {
        "id": "qCh0kDe2NTcI"
      },
      "source": [
        "Antrą kartą panaudojus funkciją `print()`, tekstas bus išvedamas naujoje eilutėje:"
      ]
    },
    {
      "cell_type": "code",
      "execution_count": null,
      "metadata": {
        "colab": {
          "base_uri": "https://localhost:8080/"
        },
        "id": "UaAG_xSnNhY-",
        "outputId": "a5b4c23a-694a-49b4-f85c-8775d3ea7fc9"
      },
      "outputs": [
        {
          "name": "stdout",
          "output_type": "stream",
          "text": [
            "Pirma teksto eilutė\n",
            "Antra teksto eilutė\n"
          ]
        }
      ],
      "source": [
        "print('Pirma teksto eilutė')\n",
        "print('Antra teksto eilutė')"
      ]
    },
    {
      "cell_type": "markdown",
      "metadata": {
        "id": "sTWg4mwGNo2I"
      },
      "source": [
        "Jei norime tiesiog praleisti vieną eilutę, turime spausdinti tuščią eilutę taip:"
      ]
    },
    {
      "cell_type": "code",
      "execution_count": null,
      "metadata": {
        "colab": {
          "base_uri": "https://localhost:8080/"
        },
        "id": "3BCSD20ENylS",
        "outputId": "8e6571ab-6cb5-46d6-c3bf-20252ffffa70"
      },
      "outputs": [
        {
          "name": "stdout",
          "output_type": "stream",
          "text": [
            "Pirma teksto eilutė\n",
            "\n",
            "Kita teksto eilutė\n"
          ]
        }
      ],
      "source": [
        "print('Pirma teksto eilutė')\n",
        "print() # spausdinama tuščia eilutė\n",
        "print('Kita teksto eilutė')"
      ]
    },
    {
      "cell_type": "markdown",
      "metadata": {
        "id": "3-qOvcaKOTkm"
      },
      "source": [
        "Skaidyti eilutėmis galime ir naudodami specialų simbolį `\\n`, kuris perkelia teksto išvedimą į naują eilutę."
      ]
    },
    {
      "cell_type": "code",
      "execution_count": null,
      "metadata": {
        "colab": {
          "base_uri": "https://localhost:8080/"
        },
        "id": "fDke4Ct6OfoN",
        "outputId": "428c5ff9-0429-4934-8899-099d1a0f85ef"
      },
      "outputs": [
        {
          "name": "stdout",
          "output_type": "stream",
          "text": [
            "Pirma eilutė\n",
            "Antra eilutė\n",
            "Trečia eilutė\n"
          ]
        }
      ],
      "source": [
        "print(\"Pirma eilutė\\nAntra eilutė\\nTrečia eilutė\")"
      ]
    },
    {
      "cell_type": "markdown",
      "metadata": {
        "id": "igI4Zx-jOujU"
      },
      "source": [
        "Norėdami išskirti ar gražiau apipavidalinti tekstą, galime naudoti įvairius ASCII simbolius."
      ]
    },
    {
      "cell_type": "code",
      "execution_count": null,
      "metadata": {
        "colab": {
          "base_uri": "https://localhost:8080/"
        },
        "id": "NyBseKKXO68q",
        "outputId": "425ea627-3744-4782-87df-78b481a0240a"
      },
      "outputs": [
        {
          "name": "stdout",
          "output_type": "stream",
          "text": [
            "#=========================#=======#\n",
            "# Pavadinimas             # Kaina #\n",
            "#=========================#=======#\n"
          ]
        }
      ],
      "source": [
        "print(\"#=========================#=======#\")\n",
        "print(\"# Pavadinimas             # Kaina #\")\n",
        "print(\"#=========================#=======#\")"
      ]
    },
    {
      "cell_type": "markdown",
      "metadata": {
        "id": "BOxqlHbDPaYq"
      },
      "source": [
        "Įvairius tekstus galime sujungti perskirdami juos kableliais arba naudodami pliuso ženklą (`+`):"
      ]
    },
    {
      "cell_type": "code",
      "execution_count": null,
      "metadata": {
        "colab": {
          "base_uri": "https://localhost:8080/"
        },
        "id": "5JmbsaMwPljt",
        "outputId": "e7db0867-aa16-4fe4-edb0-0c8d6c4f8dcc"
      },
      "outputs": [
        {
          "name": "stdout",
          "output_type": "stream",
          "text": [
            "Sujungta viena ir antra teksto dalis.\n",
            "Sujungta viena ir antra teksto dalis.\n"
          ]
        }
      ],
      "source": [
        "print(\"Sujungta viena ir\", \"antra teksto dalis.\")\n",
        "print(\"Sujungta viena ir \" + \"antra teksto dalis.\")"
      ]
    },
    {
      "cell_type": "markdown",
      "metadata": {
        "id": "xXnhMlqEP1GZ"
      },
      "source": [
        "Atkreipkite dėmesį į tai, kad atskiriant kableliu nereikia palikti tuščio tarpo."
      ]
    },
    {
      "cell_type": "markdown",
      "metadata": {
        "id": "WT0Xvlt1RId5"
      },
      "source": [
        "Jeigu norime eilutes formatuoti taip kaip rašome, tuomet galime naudoti trigubas kabutes. Pasižiūrėkite į pavyzdį, kaip jos naudojamos:"
      ]
    },
    {
      "cell_type": "code",
      "execution_count": 1,
      "metadata": {
        "colab": {
          "base_uri": "https://localhost:8080/"
        },
        "id": "cMfAJeyUQnp_",
        "outputId": "c5eca619-8eda-4fb2-a131-3f6f6bf87f24"
      },
      "outputs": [
        {
          "name": "stdout",
          "output_type": "stream",
          "text": [
            "\n",
            "Mano batai buvo du,\n",
            "Vienas dingo - nerandu.\n",
            "Aš su vienu batuku,\n",
            "Niekur eiti negaliu. \n",
            "\n"
          ]
        }
      ],
      "source": [
        "print(\"\"\"\n",
        "Mano batai buvo du,\n",
        "Vienas dingo - nerandu.\n",
        "Aš su vienu batuku,\n",
        "Niekur eiti negaliu.\n",
        "\"\"\")"
      ]
    },
    {
      "cell_type": "markdown",
      "metadata": {
        "id": "yh55NvPwSkTR"
      },
      "source": [
        "# Užduotys"
      ]
    },
    {
      "cell_type": "markdown",
      "metadata": {
        "id": "WnC3Ud47U-Nx"
      },
      "source": [
        "Atlikite žemiau esančias užduotis, o rezultatą įsivertinkite patys. Pamėginkite panaudoti įvairius eilučių išvedimo būdus."
      ]
    },
    {
      "cell_type": "markdown",
      "metadata": {
        "id": "6nnV8csNTB6A"
      },
      "source": [
        "## Užduotis 1"
      ]
    },
    {
      "cell_type": "markdown",
      "metadata": {
        "id": "DzImH9rTTFwK"
      },
      "source": [
        "Pirmoje eilutėje išveskite savo vardą ir amžių. Antroje eilutėje išveskite kodėl pasiryžote išbandyti programavimą."
      ]
    },
    {
      "cell_type": "code",
      "execution_count": null,
      "metadata": {
        "id": "d6z_IVR2TIrq"
      },
      "outputs": [],
      "source": [
        "# Kodą rašykite čia, žemiau šios eilutės..."
      ]
    },
    {
      "cell_type": "markdown",
      "metadata": {
        "id": "LKl7e7w1TUAx"
      },
      "source": [
        "## Užduotis 2"
      ]
    },
    {
      "cell_type": "markdown",
      "metadata": {
        "id": "zReJgnogTaO3"
      },
      "source": [
        "Išveskite tokį tekstą:\n",
        "```\n",
        "*\n",
        "**\n",
        "***\n",
        "```"
      ]
    },
    {
      "cell_type": "code",
      "execution_count": null,
      "metadata": {
        "id": "izffjC69Ugz5"
      },
      "outputs": [],
      "source": [
        "# Kodą rašykite čia, žemiau šios eilutės..."
      ]
    },
    {
      "cell_type": "markdown",
      "metadata": {
        "id": "wx6xksSHUW8D"
      },
      "source": [
        "## Užduotis 3"
      ]
    },
    {
      "cell_type": "markdown",
      "metadata": {
        "id": "oSTVlOrIUak7"
      },
      "source": [
        "Išveskite bent 5 eilučių eilėraštį."
      ]
    },
    {
      "cell_type": "code",
      "execution_count": null,
      "metadata": {
        "id": "4tiXeFluUkF9"
      },
      "outputs": [],
      "source": [
        "# Kodą rašykite čia, žemiau šios eilutės..."
      ]
    },
    {
      "cell_type": "markdown",
      "metadata": {
        "id": "YxaPlSwVUmMf"
      },
      "source": [
        "## Užduotis 4"
      ]
    },
    {
      "cell_type": "markdown",
      "metadata": {
        "id": "Uqp5IBVYUwan"
      },
      "source": [
        "Išveskite tokią lentelę:\n",
        "```\n",
        "+--------+--------+\n",
        "| Vardas | Amžius |\n",
        "+--------+--------+\n",
        "| Tomas  | 24     |\n",
        "| Jonas  | 26     |\n",
        "| Justė  | 25     |\n",
        "+--------+--------+\n",
        "```\n",
        "\n"
      ]
    },
    {
      "cell_type": "code",
      "execution_count": null,
      "metadata": {
        "id": "FGnMZ-CNUn2X"
      },
      "outputs": [],
      "source": [
        "# Kodą rašykite čia, žemiau šios eilutės..."
      ]
    }
  ],
  "metadata": {
    "colab": {
      "provenance": []
    },
    "kernelspec": {
      "display_name": "Python 3",
      "name": "python3"
    },
    "language_info": {
      "codemirror_mode": {
        "name": "ipython",
        "version": 3
      },
      "file_extension": ".py",
      "mimetype": "text/x-python",
      "name": "python",
      "nbconvert_exporter": "python",
      "pygments_lexer": "ipython3",
      "version": "3.10.11"
    }
  },
  "nbformat": 4,
  "nbformat_minor": 0
}
