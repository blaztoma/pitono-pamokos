{
  "cells": [
    {
      "attachments": {},
      "cell_type": "markdown",
      "metadata": {},
      "source": [
        "[![Open In Colab](https://colab.research.google.com/assets/colab-badge.svg)](https://colab.research.google.com/github/blaztoma/pitono-pamokos/blob/main/pamokos/09%20-%20Patikrinimo%20salygos/09-03%20-%20else_naudojimas.ipynb)"
      ]
    },
    {
      "attachments": {},
      "cell_type": "markdown",
      "metadata": {
        "id": "N0oZc4WzGE2n"
      },
      "source": [
        "# else naudojimas"
      ]
    },
    {
      "attachments": {},
      "cell_type": "markdown",
      "metadata": {
        "id": "rLLvEl7aGJOp"
      },
      "source": [
        "## Apie else naudojimą\n",
        "\n",
        "- `else` į lietuvių kalbą galima išversti kaip `kitu atveju` arba `kitais atvejais`. \n",
        "- `else` blokas bus vykdomas visada kai jokia kita, prieš jį ėjusi sąlyga nebus teisinga.\n",
        "- `else` dalyje nebereikia rašyti jokios sąlygos. Jei norite pridėti ir sąlygą, tuomet naudokite `elif` konstrukciją.\n",
        "- `else` dalis rašoma tik vieną kartą, visos `if` konstrukcijos pabaigoje.\n",
        "- `else`, kaip ir `elif` blokai yra nebūtini.\n",
        "- `else` bloką dažnai naudojame, kai:\n",
        "  - norime užsitikrinti, kad sąlyga nepaliks neapdorotų variantų;\n",
        "  - išvesti klaidos pranešimą;\n",
        "  - norime leisti kartoti veiksmą;\n",
        "  - norime aptikti klaidą.11"
      ]
    },
    {
      "attachments": {},
      "cell_type": "markdown",
      "metadata": {
        "id": "TFYCuWHvNGxJ"
      },
      "source": [
        "## `else` sintaksė:"
      ]
    },
    {
      "cell_type": "code",
      "execution_count": null,
      "metadata": {
        "id": "BWZKRRN_NLHQ"
      },
      "outputs": [],
      "source": [
        "if sąlyga:\n",
        "\t# šio bloko kodas vykdomas jeigu tenkinama sąlyga\n",
        "else:\n",
        "\t# šio bloko kodas vykdomas jeigu netenkinama sąlyga"
      ]
    },
    {
      "cell_type": "markdown",
      "metadata": {
        "id": "kIkyqgXWN600"
      },
      "source": [
        "else sintaksė, kai naudojama `elif` konstrukcija:"
      ]
    },
    {
      "cell_type": "code",
      "execution_count": null,
      "metadata": {
        "id": "MX9bwdi4OBEs"
      },
      "outputs": [],
      "source": [
        "if sąlyga_1:\n",
        "\t# šio bloko kodas vykdomas jeigu tenkinama sąlyga_1\n",
        "elif sąlyga_2:\n",
        "  # šio bloko kodas vykdomas jeigu tenkinama sąlyga_2\n",
        "# ...\n",
        "elif sąlyga_n:\n",
        "  # šio bloko kodas vykdomas jeigu tenkinama sąlyga_n\n",
        "else:\n",
        "\t# šio bloko kodas vykdomas jeigu netenkinamos visos aukščiau esančios sąlygos"
      ]
    },
    {
      "attachments": {},
      "cell_type": "markdown",
      "metadata": {
        "id": "s5CHhKlDNAAh"
      },
      "source": [
        "## Pavyzdžiai"
      ]
    },
    {
      "attachments": {},
      "cell_type": "markdown",
      "metadata": {
        "id": "IGDnK_UzOvL8"
      },
      "source": [
        "### Skaičiaus palyginimas"
      ]
    },
    {
      "cell_type": "code",
      "execution_count": null,
      "metadata": {
        "id": "QjbwUwZIE1fm"
      },
      "outputs": [],
      "source": [
        "metai = int(input('Įveskite metus:'))\n",
        "\n",
        "if metai >= 18:\n",
        "  print(\"Asmuo pilnametis\")\n",
        "else:\n",
        "  print(\"Asmuo nepilnametis\")"
      ]
    },
    {
      "attachments": {},
      "cell_type": "markdown",
      "metadata": {
        "id": "Qe34ngY7PQoJ"
      },
      "source": [
        "### Eilutės palyginimas"
      ]
    },
    {
      "cell_type": "code",
      "execution_count": 2,
      "metadata": {
        "colab": {
          "base_uri": "https://localhost:8080/"
        },
        "id": "nSD3rwmiPWZx",
        "outputId": "73f32098-4bca-4258-bf8a-e6dbb4ffaaf5"
      },
      "outputs": [
        {
          "name": "stdout",
          "output_type": "stream",
          "text": [
            "Tekstinis failas.\n",
            "pradedamas darbas su failu.\n"
          ]
        }
      ],
      "source": [
        "failas = 'failai/paskaitos/uzrasai.txt'\n",
        "\n",
        "if failas.endswith('.txt'):\n",
        "    print('Tekstinis failas.')\n",
        "    print('Pradedamas darbas su failu.')\n",
        "else:\n",
        "    print('Ne tekstinis failas')\n",
        "    print('Prašome pasirinkti tinkamą failą.')"
      ]
    },
    {
      "attachments": {},
      "cell_type": "markdown",
      "metadata": {
        "id": "hzTU83VFP7uZ"
      },
      "source": [
        "### Skaičiaus spėjimas"
      ]
    },
    {
      "cell_type": "code",
      "execution_count": 3,
      "metadata": {
        "colab": {
          "base_uri": "https://localhost:8080/"
        },
        "id": "BRFf-1qEQAer",
        "outputId": "89da10e0-1f46-48bc-9375-f272ec84f693"
      },
      "outputs": [
        {
          "name": "stdout",
          "output_type": "stream",
          "text": [
            "Spekite skaiciu nuo 1 iki 10: 5\n",
            "Deja, nepavyko :(\n"
          ]
        }
      ],
      "source": [
        "from random import randint\n",
        "\n",
        "atsitiktinis = randint(1, 10)\n",
        "\n",
        "spejimas = int( input('Spekite skaiciu nuo 1 iki 10: ') )\n",
        "\n",
        "if atsitiktinis == spejimas:\n",
        "    print('Atspejote!')\n",
        "else:\n",
        "    print('Deja, nepavyko :(')"
      ]
    },
    {
      "attachments": {},
      "cell_type": "markdown",
      "metadata": {
        "id": "4wS4bVHFQRO8"
      },
      "source": [
        "### Klaidingo varianto aptikimas"
      ]
    },
    {
      "attachments": {},
      "cell_type": "markdown",
      "metadata": {},
      "source": [
        "Be patikrinimų kurie baigiasi `True` ar `False`, natūraliai `False` galime gauti ir jeigu:\n",
        "- turime tuščią objektą\n",
        "- turime tuščią string kintamąjį\n",
        "- nurodyta None reikšmė\n",
        "- yra 0"
      ]
    },
    {
      "cell_type": "code",
      "execution_count": 1,
      "metadata": {},
      "outputs": [
        {
          "name": "stdout",
          "output_type": "stream",
          "text": [
            "failo nuskaitymas...\n"
          ]
        }
      ],
      "source": [
        "failas = 'failai/paskaitos/uzrasai.txt'\n",
        "\n",
        "if failas:\n",
        "    print('failo nuskaitymas...')\n",
        "else:\n",
        "    print('prasome nurodyti faila')"
      ]
    },
    {
      "cell_type": "code",
      "execution_count": 2,
      "metadata": {},
      "outputs": [
        {
          "name": "stdout",
          "output_type": "stream",
          "text": [
            "prasome nurodyti faila\n"
          ]
        }
      ],
      "source": [
        "failas = None\n",
        "\n",
        "if failas:\n",
        "    print('failo nuskaitymas...')\n",
        "else:\n",
        "    print('prasome nurodyti faila')"
      ]
    },
    {
      "cell_type": "code",
      "execution_count": null,
      "metadata": {
        "id": "81ce7BP0QUSO"
      },
      "outputs": [],
      "source": [
        "vardas = input('Įveskite savo vardą:')\n",
        "\n",
        "if vardas:\n",
        "    print('Labas, ' + vardas + '!')\n",
        "else:\n",
        "    print('Nieko neįvedėte!')"
      ]
    },
    {
      "attachments": {},
      "cell_type": "markdown",
      "metadata": {
        "id": "GBpRzSWRQl9B"
      },
      "source": [
        "## Uždaviniai"
      ]
    },
    {
      "cell_type": "markdown",
      "metadata": {
        "id": "zQD8NfzrQpRr"
      },
      "source": [
        "Toliau pateikiami uždaviniai, kuriuos jau sprendėte. Savo sprendimus pakeiskite taip, kad būtų naudojama `else` konstrukcija. Pasvarstykite apie `else` naudojimo privalumus ir trūkumus."
      ]
    },
    {
      "attachments": {},
      "cell_type": "markdown",
      "metadata": {
        "id": "C3DnQkHNRbvg"
      },
      "source": [
        "### Užduotis 1"
      ]
    },
    {
      "attachments": {},
      "cell_type": "markdown",
      "metadata": {
        "id": "cnhnGRNdRhZP"
      },
      "source": [
        "Studentas turi įvesti egzamino rezultatą (0-10). Panaudokite `elif` ir išveskite atitinkamą tekstą:\n",
        "\n",
        "- Jei pažymys yra lygus 10, išvesti \"puiku\".\n",
        "- Jei pažymys yra lygus arba didesnis nei 9, išvesti \"labai gerai\".\n",
        "- Jei pažymys yra lygus arba didesnis nei 7, išvesti \"gerai\".\n",
        "- Jei pažymys yra lygus arba didesnis nei 5, išvesti \"patenkinamai\".\n",
        "- Jei pažymys mažesnis nei 5 išvesti \"egzaminas neišlaikytas\"."
      ]
    },
    {
      "cell_type": "code",
      "execution_count": null,
      "metadata": {
        "id": "nUKFdUfCRcjR"
      },
      "outputs": [],
      "source": [
        "# Čia rašykite kodą"
      ]
    },
    {
      "attachments": {},
      "cell_type": "markdown",
      "metadata": {
        "id": "B6VopmU3RpSj"
      },
      "source": [
        "### Užduotis 2"
      ]
    },
    {
      "cell_type": "markdown",
      "metadata": {
        "id": "Q6VFj50lR5po"
      },
      "source": [
        "Parašykite programą, kuri leistų įvesti tris studento pažymius (pvz.: 1,2,3). Programa turi surasti ir atspausdinti didžiausią studento pažymį. Toks uždavinys jau duotas anksčiau. Šį kartą spręskite jį panaudodami `elif` (jei reikia) ir `else`."
      ]
    },
    {
      "cell_type": "code",
      "execution_count": null,
      "metadata": {
        "id": "dML5sthqRzq5"
      },
      "outputs": [],
      "source": [
        "# Čia rašykite kodą"
      ]
    },
    {
      "attachments": {},
      "cell_type": "markdown",
      "metadata": {
        "id": "2Vc6LFJLRyfI"
      },
      "source": [
        "### Užduotis 3"
      ]
    },
    {
      "cell_type": "markdown",
      "metadata": {
        "id": "zprCPqEESHEw"
      },
      "source": [
        "Konsolėje įvedamas perkamas produktas, kuris gali būti vaisius, daržovė, žuvis arba mėsa. Galimi variantai: šašlykas, skumbrė, obuolys, bulvė ir t.t. Programa turi nustatyti ir išvesti produkto tipą. Jei produktas nenustatytas, programa turi apie tai pranešti."
      ]
    },
    {
      "cell_type": "code",
      "execution_count": null,
      "metadata": {
        "id": "GRvSq_K9SPuh"
      },
      "outputs": [],
      "source": [
        "# Čia rašykite kodą"
      ]
    },
    {
      "attachments": {},
      "cell_type": "markdown",
      "metadata": {
        "id": "i_I4zU9NSR0A"
      },
      "source": [
        "### Užduotis 4"
      ]
    },
    {
      "cell_type": "markdown",
      "metadata": {
        "id": "A62H520xSVta"
      },
      "source": [
        "Naudotojas turi įvesti savo prisijungimo slaptažodį. Jei slaptažodis yra `slaptas_1`, tuomet naudotojo rolė yra `autorius`. Jei slaptažodis yra `slaptas_2`, tuomet naudotojo rolė yra `moderatorius`.\n",
        "\n",
        "Parašykite programą, kuri nustatytų ir atspausdintų `Jūs galite redaguoti`, jei rolė yra `autorius`. Jeigu rolė yra `moderatorius`, programa turi atspausdinti `Kreipkitės į autorių`. Jeigu slaptažodis nerastas, programa turi atspausdinti `Prisijungti nepavyko`. \n",
        "\n",
        "Naudokite `elif` ir `else` konstrukcijas pagal poreikį."
      ]
    },
    {
      "cell_type": "code",
      "execution_count": null,
      "metadata": {
        "id": "NqY-18cjSTIi"
      },
      "outputs": [],
      "source": [
        "# Čia rašykite kodą"
      ]
    }
  ],
  "metadata": {
    "colab": {
      "provenance": []
    },
    "kernelspec": {
      "display_name": "Python 3",
      "language": "python",
      "name": "python3"
    },
    "language_info": {
      "codemirror_mode": {
        "name": "ipython",
        "version": 3
      },
      "file_extension": ".py",
      "mimetype": "text/x-python",
      "name": "python",
      "nbconvert_exporter": "python",
      "pygments_lexer": "ipython3",
      "version": "3.7.9 (tags/v3.7.9:13c94747c7, Aug 17 2020, 18:58:18) [MSC v.1900 64 bit (AMD64)]"
    },
    "vscode": {
      "interpreter": {
        "hash": "aa11ca274996316222ef16f35c5f6dbeb467b694c0b2154cdf34dcf9271d5fd0"
      }
    }
  },
  "nbformat": 4,
  "nbformat_minor": 0
}
