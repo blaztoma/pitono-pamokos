{
  "cells": [
    {
      "attachments": {},
      "cell_type": "markdown",
      "metadata": {},
      "source": [
        "[![Open In Colab](https://colab.research.google.com/assets/colab-badge.svg)](https://colab.research.google.com/github/blaztoma/pitono-pamokos/blob/main/pamokos/09%20-%20Patikrinimo%20salygos/09-01%20-%20if_sakinys_pradzia.ipynb)"
      ]
    },
    {
      "attachments": {},
      "cell_type": "markdown",
      "metadata": {
        "id": "7dnK-3UcdjME"
      },
      "source": [
        "# Programos tėkmė ir if sąlygos sakiniai"
      ]
    },
    {
      "cell_type": "markdown",
      "metadata": {
        "id": "PWhAVEVBiJwh"
      },
      "source": [
        "Kompiuteris ir jo programos būtų neprotingi ir mažai panaudojami dalykai, jei negalėtų priimti sprendimų. Kiek jie protingi - irgi diskusijų vertas klausimas, tačiau chatGPT, šachmatus žaidžiančios ir kitos programos parodė, kad kompiuteriai gali priimti sprendimus. Ir netgi - visai neblogus. Čia mes panagrinėsime kaip kompiuteris gali priimti pačius paprasčiausius sprendimus, nulemiančius programos vykdymo tėkmę. Tai yra - kokios operacijos bus vykdomos atsižvelgiant į situaciją."
      ]
    },
    {
      "cell_type": "markdown",
      "metadata": {
        "id": "CYGgAIaAkrA5"
      },
      "source": [
        "Norėdami programos veikimą pakreipti tam tikru keliu, turime priimti sprendimą atsižvelgiant į įvairias, programai aktualias, sąlygas. Tai yra, turime palyginti tai, kas aktualu programai, pavyzdžiui:"
      ]
    },
    {
      "cell_type": "code",
      "execution_count": null,
      "metadata": {
        "colab": {
          "base_uri": "https://localhost:8080/"
        },
        "id": "xmTClz1NdfxS",
        "outputId": "7bc8bba0-64ac-4fc9-a71c-dd1083ca1fff"
      },
      "outputs": [
        {
          "name": "stdout",
          "output_type": "stream",
          "text": [
            "Įveskite slaptažodį: asd\n",
            "Jums nepavyko prisijungti...\n"
          ]
        }
      ],
      "source": [
        "slaptazodis = input(\"Įveskite slaptažodį: \")\n",
        "if slaptazodis == \"adminas\":\n",
        "  print(\"Sveikiname prisijungus\")\n",
        "else:\n",
        "  print(\"Jums nepavyko prisijungti...\")"
      ]
    },
    {
      "cell_type": "markdown",
      "metadata": {
        "id": "CyIcObctl6ko"
      },
      "source": [
        "Matome, kad mes palyginome kintamąjį `slaptažodis` su tekstu `adminas`. Ar atkreipėte dėmesį, kad palyginimui naudojamos net dvi lygybės (`==`). Taip yra todėl, kad Pitone viena lygybė rezervuota priskyrimo sakiniui. Be abejonės - tokio palyginimo neužtenka, yra keletas kitų palyginimo operatorių, kartais dar vadinamų *komparatoriais*. Jie pateikti lentelėje."
      ]
    },
    {
      "attachments": {},
      "cell_type": "markdown",
      "metadata": {
        "id": "ySr4KTEpnD_H"
      },
      "source": [
        "Operatorius | Apibūdinimas | Pavyzdys\n",
        "------------|--------------|---------\n",
        "`==` | ar lygu | `x == y`\n",
        "`!=` | ar nelygu | `x != y`\n",
        "`>` | ar daugiau | `x > y`\n",
        "`<` | ar mažiau | `x < y`\n",
        "`>=` | ar daugiau arba lygu | `x >= y`\n",
        "`<=` | ar mažiau arba lygu | `x <= y`"
      ]
    },
    {
      "cell_type": "markdown",
      "metadata": {
        "id": "owZO8Yk3olRW"
      },
      "source": [
        "Kaip matote, įdomesnis yra tik nelygybės ženklas, kuris prasideda šauktuku. Taip jau yra, kad Pitone ir įvairiose kitose kalbose ši ženklas reiškia - NE."
      ]
    },
    {
      "cell_type": "markdown",
      "metadata": {
        "id": "zwqWqGyopFzQ"
      },
      "source": [
        "## If sakinio struktūra"
      ]
    },
    {
      "cell_type": "markdown",
      "metadata": {
        "id": "Tq_7OGHbpKLc"
      },
      "source": [
        "If sąlygos sakinys gali susidėti iš kelių dalių:\n",
        "* `if` - būtinoji dalis, po jos rašomi veiksmai, kurie vydomi patenkinus sąlygą.\n",
        "* `elif` / `else if` - jeigu reikia tikrinti daugiau sąlygų, galima rašyti tiek else if dalių kiek tik reikia.\n",
        "* `else` - rašosi pačiame gale, vieną kartą, jei reikia apimti visas sąlygas, kurios nepatenka į kitas dalis."
      ]
    },
    {
      "attachments": {},
      "cell_type": "markdown",
      "metadata": {
        "id": "vGg9hEFAqPbU"
      },
      "source": [
        "Paprasčiausia `if` sakinio forma yra tokia:\n",
        "```\n",
        "if sąlyga:\n",
        "  veiksmai...\n",
        "```\n",
        "Tai yra, rašomas raktažodis `if`, nurodoma sąlyga ir gale parašomas dvitaškis. Po to nurodomi veiksmai, kurie atitraukiami nuo krašto.\n",
        "\n",
        "Sąlygos veiksmai bus vykdomi tik tuo atveju jei sąlygoje gausime teisingą (`True` tipo) atsakymą."
      ]
    },
    {
      "attachments": {},
      "cell_type": "markdown",
      "metadata": {
        "id": "Hol5OLCqrSOA"
      },
      "source": [
        "## Pavyzdžiai"
      ]
    },
    {
      "cell_type": "markdown",
      "metadata": {
        "id": "86_tM4UCrXUF"
      },
      "source": [
        "Pasinagrinėkite toliau esančius pavydžius ir daug kas paaiškės."
      ]
    },
    {
      "attachments": {},
      "cell_type": "markdown",
      "metadata": {
        "id": "QMgmmkx3rn98"
      },
      "source": [
        "### Paprasčiausias dviejų skaičių palyginimas"
      ]
    },
    {
      "cell_type": "code",
      "execution_count": null,
      "metadata": {
        "colab": {
          "base_uri": "https://localhost:8080/"
        },
        "id": "LSOGX63rrvsH",
        "outputId": "e5bbd32a-2865-4a66-ed2e-ea05c853c749"
      },
      "outputs": [
        {
          "name": "stdout",
          "output_type": "stream",
          "text": [
            "Skaičius 5 yra didesnis už 3\n"
          ]
        }
      ],
      "source": [
        "if 5 > 3:\n",
        "    print('Skaičius 5 yra didesnis už 3')"
      ]
    },
    {
      "attachments": {},
      "cell_type": "markdown",
      "metadata": {
        "id": "XrsfZoWwr7sh"
      },
      "source": [
        "### Keli sąlygos sakiniai, kurių vienas netenkinamas"
      ]
    },
    {
      "cell_type": "code",
      "execution_count": 2,
      "metadata": {
        "colab": {
          "base_uri": "https://localhost:8080/"
        },
        "id": "xO_dvk9ssJ0W",
        "outputId": "59f14ee7-20c5-4b1e-8715-2d7a49a8c797"
      },
      "outputs": [
        {
          "name": "stdout",
          "output_type": "stream",
          "text": [
            "-7 yra didesnis už -10\n"
          ]
        }
      ],
      "source": [
        "if -7 > -10:\n",
        "    print('-7 yra didesnis už -10')"
      ]
    },
    {
      "cell_type": "code",
      "execution_count": 3,
      "metadata": {},
      "outputs": [
        {
          "name": "stdout",
          "output_type": "stream",
          "text": [
            "3 mažesnis uz 5\n"
          ]
        }
      ],
      "source": [
        "if 3 < 5:\n",
        "    print('3 mažesnis uz 5')"
      ]
    },
    {
      "cell_type": "code",
      "execution_count": 4,
      "metadata": {},
      "outputs": [],
      "source": [
        "if 8 < 0:\n",
        "    print('8 mažesnis uz 0')"
      ]
    },
    {
      "attachments": {},
      "cell_type": "markdown",
      "metadata": {
        "id": "_PKWDW0OsTed"
      },
      "source": [
        "### Kintamojo panaudojimas sąlygoje"
      ]
    },
    {
      "cell_type": "code",
      "execution_count": null,
      "metadata": {
        "colab": {
          "base_uri": "https://localhost:8080/"
        },
        "id": "Z4k1JdBrshhy",
        "outputId": "91e1183f-cfab-4f71-f424-ba570b26e042"
      },
      "outputs": [
        {
          "name": "stdout",
          "output_type": "stream",
          "text": [
            "Skaičius teigiamas\n"
          ]
        }
      ],
      "source": [
        "skaicius = 5\n",
        "\n",
        "if skaicius > 0:\n",
        "    print('Skaičius teigiamas')\n",
        "\n",
        "if skaicius < 0:\n",
        "    print('Skaičius neigiamas')\n",
        "\n",
        "if skaicius == 0:\n",
        "    print('Skaičius lygus 0')"
      ]
    },
    {
      "attachments": {},
      "cell_type": "markdown",
      "metadata": {},
      "source": [
        "### Didesnis, lygus"
      ]
    },
    {
      "cell_type": "code",
      "execution_count": 5,
      "metadata": {},
      "outputs": [],
      "source": [
        "if 5 > 5:\n",
        "    print('5 didesnis nei 5')"
      ]
    },
    {
      "cell_type": "code",
      "execution_count": 6,
      "metadata": {},
      "outputs": [
        {
          "name": "stdout",
          "output_type": "stream",
          "text": [
            "5 lygu 5\n"
          ]
        }
      ],
      "source": [
        "if 5 == 5:\n",
        "    print('5 lygu 5')"
      ]
    },
    {
      "attachments": {},
      "cell_type": "markdown",
      "metadata": {},
      "source": [
        "### Teksto palyginimas"
      ]
    },
    {
      "cell_type": "code",
      "execution_count": 7,
      "metadata": {},
      "outputs": [
        {
          "name": "stdout",
          "output_type": "stream",
          "text": [
            "antras if\n"
          ]
        }
      ],
      "source": [
        "slaptazodis = 'slaptas'\n",
        "\n",
        "if slaptazodis == 'Slaptas':\n",
        "    print('pirmas if')\n",
        "\n",
        "if slaptazodis == 'slaptas':\n",
        "    print('antras if')"
      ]
    },
    {
      "attachments": {},
      "cell_type": "markdown",
      "metadata": {
        "id": "JezOCTiHszsK"
      },
      "source": [
        "### Amžiaus palyginimas"
      ]
    },
    {
      "cell_type": "code",
      "execution_count": null,
      "metadata": {
        "id": "7P9TsmGYs3xe"
      },
      "outputs": [],
      "source": [
        "vardas = 'Jonas'\n",
        "amzius = 18\n",
        "\n",
        "if amzius >= 18:\n",
        "    print(vardas, 'yra pilnametis')"
      ]
    },
    {
      "attachments": {},
      "cell_type": "markdown",
      "metadata": {
        "id": "Y2PtEnyCtP6w"
      },
      "source": [
        "### Naudotojo įvesties tikrinimas"
      ]
    },
    {
      "cell_type": "code",
      "execution_count": null,
      "metadata": {
        "colab": {
          "base_uri": "https://localhost:8080/"
        },
        "id": "3Hs8hEiatUrR",
        "outputId": "f9346d52-5409-47d1-ce59-8f0a9ec0cb26"
      },
      "outputs": [
        {
          "name": "stdout",
          "output_type": "stream",
          "text": [
            "Įveskite norimą skaičių:\n",
            "5\n",
            "Įvestas skaičius yra teigiamas.\n"
          ]
        }
      ],
      "source": [
        "print('Įveskite skaičių:')\n",
        "skaicius = int(input())\n",
        "\n",
        "if skaicius > 0:\n",
        "    print('Įvestas skaičius yra teigiamas.')\n",
        "\n",
        "if skaicius < 0:\n",
        "    print('Įvestas skaičius yra neigiamas.')\n",
        "\n",
        "if skaicius == 0:\n",
        "    print('Įvestas skaičius lygus 0')"
      ]
    },
    {
      "attachments": {},
      "cell_type": "markdown",
      "metadata": {},
      "source": [
        "### Aritmetinių veiksmų patikrinimas"
      ]
    },
    {
      "cell_type": "code",
      "execution_count": 9,
      "metadata": {},
      "outputs": [
        {
          "name": "stdout",
          "output_type": "stream",
          "text": [
            "suveikė 5 + 3 >= 6 patikrinimas\n",
            "suveikė 8 * 2 > 0 patikrinimas\n"
          ]
        }
      ],
      "source": [
        "skaicius = 8\n",
        "\n",
        "if 5 + 3 >= 6:\n",
        "    print('suveikė 5 + 3 >= 6 patikrinimas')\n",
        "\n",
        "if skaicius + 2 > 10:\n",
        "    print('suveikė', skaicius, '+ 2 > 10 patikrinimas')\n",
        "\n",
        "if skaicius * 2 > 0:\n",
        "    print('suveikė', skaicius, '* 2 > 0 patikrinimas')\n",
        "\n",
        "if 8 * 2 < 8 + 6:\n",
        "    print('suveikė 8 * 2 < 8 + 6 patikrinimas')"
      ]
    },
    {
      "attachments": {},
      "cell_type": "markdown",
      "metadata": {
        "id": "xeHTFt6Pt48x"
      },
      "source": [
        "### Ar skaičius dalinasi?"
      ]
    },
    {
      "cell_type": "code",
      "execution_count": 10,
      "metadata": {
        "id": "GDtHGzfat-ND"
      },
      "outputs": [
        {
          "name": "stdout",
          "output_type": "stream",
          "text": [
            "24:\n",
            "dalinasi iš 2\n",
            "dalinasi iš 3\n",
            "dalinasi iš 4\n",
            "dalinasi iš 6\n",
            "dalinasi iš 8\n"
          ]
        }
      ],
      "source": [
        "skaicius = int( input('Įveskite skaičių: ') )\n",
        "\n",
        "print(f'{skaicius}:')\n",
        "\n",
        "if skaicius % 2 == 0:\n",
        "    print('dalinasi iš 2')\n",
        "if skaicius % 3 == 0:\n",
        "    print('dalinasi iš 3')\n",
        "if skaicius % 4 == 0:\n",
        "    print('dalinasi iš 4')\n",
        "if skaicius % 5 == 0:\n",
        "    print('dalinasi iš 5')\n",
        "if skaicius % 6 == 0:\n",
        "    print('dalinasi iš 6')\n",
        "if skaicius % 7 == 0:\n",
        "    print('dalinasi iš 7')\n",
        "if skaicius % 8 == 0:\n",
        "    print('dalinasi iš 8')\n",
        "if skaicius % 9 == 0:\n",
        "    print('dalinasi iš 9')"
      ]
    },
    {
      "cell_type": "markdown",
      "metadata": {
        "id": "8mXTcIv6uKSx"
      },
      "source": [
        "Kaip matote - naudojame liekanos gavimo operaciją. Jei liekana lygi nuliui, vadinasi skaičius dalinasi."
      ]
    },
    {
      "attachments": {},
      "cell_type": "markdown",
      "metadata": {
        "id": "BGtQwaiTuWbH"
      },
      "source": [
        "### Ar skaičius nesidalina?"
      ]
    },
    {
      "cell_type": "code",
      "execution_count": 11,
      "metadata": {
        "id": "U8F9V5t2wNIp"
      },
      "outputs": [
        {
          "name": "stdout",
          "output_type": "stream",
          "text": [
            "Skaičius nesidalina iš 3\n"
          ]
        }
      ],
      "source": [
        "skaicius = 8\n",
        "\n",
        "if skaicius % 2 != 0:\n",
        "    print('Skaičius nesidalina iš 2')\n",
        "\n",
        "if skaicius % 3 != 0:\n",
        "    print('Skaičius nesidalina iš 3')\n",
        "\n",
        "if skaicius % 4 != 0:\n",
        "    print('Skaičius nesidalina iš 4')"
      ]
    },
    {
      "cell_type": "markdown",
      "metadata": {
        "id": "-4UYiOWNwJUW"
      },
      "source": [
        "Skaičius nesidalina, jei liekana *nelygi* nuliui."
      ]
    },
    {
      "cell_type": "markdown",
      "metadata": {
        "id": "82wv4SgNwvfd"
      },
      "source": [
        "## Loginės reikšmės"
      ]
    },
    {
      "cell_type": "markdown",
      "metadata": {
        "id": "Yyebj9IDw16p"
      },
      "source": [
        "If sakinio sąlyga gali būti labai sudėtinga, tačiau kai sąlyga įvertinama, gaunamas vienas įvertis, kuris pasako ar sąlyga buvo teisinga ar neteisinga. Tas įvertis yra loginė reikšmė, kuri gali būti `True` arba `False` (tiesa/netiesa). Jei pamėginsime funkcijai `print` nurodyti sąlygą, mums Pitonas ir atspausdins rezultatą."
      ]
    },
    {
      "cell_type": "code",
      "execution_count": null,
      "metadata": {
        "colab": {
          "base_uri": "https://localhost:8080/"
        },
        "id": "CUGfW1IsxoK4",
        "outputId": "9af8b5c4-ed7b-4960-c843-4d75d6cd15e6"
      },
      "outputs": [
        {
          "name": "stdout",
          "output_type": "stream",
          "text": [
            "True\n",
            "True\n",
            "False\n",
            "False\n",
            "False\n",
            "True\n"
          ]
        }
      ],
      "source": [
        "skaicius = 14\n",
        "\n",
        "print(skaicius > 0)\n",
        "print(skaicius >= 10)\n",
        "print(skaicius < 0)\n",
        "print(skaicius <= 10)\n",
        "print(skaicius == 10)\n",
        "print(skaicius != 10)"
      ]
    },
    {
      "cell_type": "markdown",
      "metadata": {
        "id": "HZKkpvqCyGsk"
      },
      "source": [
        "Pažiūrėkime atidžiau, ką Pitonui reiškia `True` ir `False` reikšmės. Pamėginkite paaiškinti atspausdintus rezultatus."
      ]
    },
    {
      "cell_type": "code",
      "execution_count": 12,
      "metadata": {
        "colab": {
          "base_uri": "https://localhost:8080/"
        },
        "id": "MYI_CcMeySma",
        "outputId": "2b27162b-e413-4cb6-bd18-d5a9188c3a39"
      },
      "outputs": [
        {
          "name": "stdout",
          "output_type": "stream",
          "text": [
            "True\n",
            "True\n"
          ]
        }
      ],
      "source": [
        "print(1 == 1)\n",
        "print(True == 1)"
      ]
    },
    {
      "cell_type": "code",
      "execution_count": 13,
      "metadata": {},
      "outputs": [
        {
          "name": "stdout",
          "output_type": "stream",
          "text": [
            "False\n",
            "False\n"
          ]
        }
      ],
      "source": [
        "print(True == False)\n",
        "print(True == 0)"
      ]
    },
    {
      "cell_type": "code",
      "execution_count": 14,
      "metadata": {},
      "outputs": [
        {
          "name": "stdout",
          "output_type": "stream",
          "text": [
            "True\n"
          ]
        }
      ],
      "source": [
        "print(False == 0)"
      ]
    },
    {
      "cell_type": "markdown",
      "metadata": {
        "id": "4NZ0dxoYynne"
      },
      "source": [
        "Jei loginė reikšmė apskaičiuojama anksčiau, ją galime palyginti arba palikti Pitonui spręsti pagal nutylėjimą. Dažniau naudojamas antrasis variantas."
      ]
    },
    {
      "cell_type": "code",
      "execution_count": null,
      "metadata": {
        "id": "-QtDJQiqy1Jk"
      },
      "outputs": [],
      "source": [
        "ar_vairuoja = True\n",
        "\n",
        "if ar_vairuoja == True:\n",
        "    print('Pirmasis if sako, kad vairuoja.')\n",
        "\n",
        "if ar_vairuoja:\n",
        "    print('Antrasis if sako, kad vairuoja.')"
      ]
    },
    {
      "attachments": {},
      "cell_type": "markdown",
      "metadata": {
        "id": "9KEUTAznUIQl"
      },
      "source": [
        "## if'ai... if'uose\n",
        "\n",
        "Dažnai pasitaiko toks atvejis, kai vienos sąlygos nepakanka. Tuomet galime `if` naudoti ir kito `if` bloke."
      ]
    },
    {
      "cell_type": "code",
      "execution_count": 1,
      "metadata": {
        "colab": {
          "base_uri": "https://localhost:8080/"
        },
        "id": "a2oGHwF6UpsH",
        "outputId": "7f60a5d7-997c-4d2e-a49b-465a16d33e13"
      },
      "outputs": [
        {
          "name": "stdout",
          "output_type": "stream",
          "text": [
            "Galima eiti per perėją\n"
          ]
        }
      ],
      "source": [
        "pereja = True\n",
        "masinos_vaziuoja = False\n",
        "\n",
        "if pereja:\n",
        "  if masinos_vaziuoja == False:\n",
        "    print(\"Galima eiti per perėją\")"
      ]
    },
    {
      "cell_type": "markdown",
      "metadata": {
        "id": "6O4bgqo3VAB2"
      },
      "source": [
        "Tiesa, šį sakinį galima užrašyti trumpiau naudojant loginius operatorius. Juos mes dar nagrinėsime. Galima galvoti apie `if` bloko panaudojimą kitame `if` tuomet, kai įvairios sąlygos viename `if` sakinyje tampa sunkiai skaitomos ir suvokiamos."
      ]
    },
    {
      "cell_type": "markdown",
      "metadata": {
        "id": "EgMSg_ir26Sh"
      },
      "source": [
        "## Užduotys"
      ]
    },
    {
      "cell_type": "markdown",
      "metadata": {
        "id": "iQusSztw2_U6"
      },
      "source": [
        "### Užduotis 1"
      ]
    },
    {
      "cell_type": "markdown",
      "metadata": {
        "id": "gCZfwv5P3CV8"
      },
      "source": [
        "Susikurkite tris kintamuosius skaičiams saugoti. Parašykite šias atskiras if sąlygas:\n",
        "\n",
        "* Ar pirmas ir antras skaičiai yra lygūs?\n",
        "* Ar antras ir trečias skaičiai yra lygūs?\n",
        "* Ar pirmas skaičius yra didesnis už antrąjį?\n",
        "* Ar antras skaičius yra didesnis už dvigubą trečiojo skaičiaus reikšmę?\n",
        "* Ar pirmas skaičius yra lyginis?\n",
        "* Ar antras skaičius yra nelyginis?\n",
        "* Ar trečias skaičius yra teigiamas?\n",
        "* Ar pirmas skaičius yra neigiamas?\n",
        "* Ar antras skaičius dalinasi iš 4?"
      ]
    },
    {
      "cell_type": "code",
      "execution_count": null,
      "metadata": {
        "id": "6io_oVfI3TnB"
      },
      "outputs": [],
      "source": [
        "# Kodą rašykite čia..."
      ]
    },
    {
      "cell_type": "markdown",
      "metadata": {
        "id": "xFZjRLJJ3ZDx"
      },
      "source": [
        "### Užduotis 2"
      ]
    },
    {
      "attachments": {},
      "cell_type": "markdown",
      "metadata": {
        "id": "w0_mFAiH3l2Z"
      },
      "source": [
        "Liepkite vartotojui suvesti savo amžių. Patikrinkite ar amžius yra didesnis arba lygus 18-ai, jei taip - išveskite \"jūs galite balsuoti\"."
      ]
    },
    {
      "cell_type": "code",
      "execution_count": null,
      "metadata": {
        "id": "YALDiPRe3dSH"
      },
      "outputs": [],
      "source": [
        "# Kodą rašykite čia..."
      ]
    },
    {
      "cell_type": "markdown",
      "metadata": {
        "id": "DVC5Rykv3aE5"
      },
      "source": [
        "### Užduotis 3"
      ]
    },
    {
      "attachments": {},
      "cell_type": "markdown",
      "metadata": {
        "id": "dZAwQ2664QRC"
      },
      "source": [
        "Leiskite vartotojui suvesti norimą kiekį pažymių (pavyzdžiui, jūs nusimatote 3-is kintamuosius, tai leidžiate įvykdyti 3 įvedimus). Raskite šių pažymių vidurkį. Patikrinkite ar vidurkis teigiamas (daugiau arba lygu 5-iems), jei taip - išveskite \"vidurkis teigiamas\"."
      ]
    },
    {
      "cell_type": "code",
      "execution_count": 15,
      "metadata": {
        "colab": {
          "base_uri": "https://localhost:8080/"
        },
        "id": "NrEITQb-3dsR",
        "outputId": "d2055ac1-e560-4703-8f44-392ef4c54a64"
      },
      "outputs": [],
      "source": [
        "# Kodą rašykite čia..."
      ]
    },
    {
      "cell_type": "markdown",
      "metadata": {
        "id": "WkLKJpjP3bLQ"
      },
      "source": [
        "### Užduotis 4"
      ]
    },
    {
      "cell_type": "markdown",
      "metadata": {
        "id": "59aqe50l45Wa"
      },
      "source": [
        "Parašykite programą, kuri leidžia įvesti išraišką, kurią sudaro du skaičiai ir operacija atskirti tarpais (pvz. `5 * 8`). Pagal operaciją programa turi apskaičiuoti rezultatą ir jį atspausdinti."
      ]
    },
    {
      "cell_type": "code",
      "execution_count": 10,
      "metadata": {
        "colab": {
          "base_uri": "https://localhost:8080/"
        },
        "id": "M_Me1UoA3ebN",
        "outputId": "3f0ada50-c2c5-4d5e-e0d4-a841aecbca0f"
      },
      "outputs": [],
      "source": [
        "skaicius_1, operacija, skaicius_2 = input().split()\n",
        "skaicius_1, skaicius_2 = int(skaicius_1), int(skaicius_2)\n",
        "\n",
        "# Kodą rašykite čia..."
      ]
    },
    {
      "attachments": {},
      "cell_type": "markdown",
      "metadata": {},
      "source": [
        "### Užduotis 5\n",
        "\n",
        "Susikurkite skaičiaus kintamąjį arba leiskite šį skaičių įvesti vartotojui. Atlikite šiuos patikrinimus ir veiksmus:\n",
        "\n",
        "- Jei skaičius dalinasi iš 5, tuomet išveskite šio skaičiaus daugybos lentelę nuo 1 iki 5.\n",
        "- Jei skaičius lyginis, tuomet išveskite šį skaičių, jo kvadratą ir jį padalintą iš 2.\n",
        "- Jei skaičius nesidalina iš 7, tuomet susikurkite antrąjį kintamąjį, išveskite šių dviejų skaičių sumą, skirtumą, sandaugą, dalmenį."
      ]
    },
    {
      "cell_type": "code",
      "execution_count": null,
      "metadata": {},
      "outputs": [],
      "source": [
        "# Kodą rašykite čia..."
      ]
    }
  ],
  "metadata": {
    "colab": {
      "provenance": []
    },
    "kernelspec": {
      "display_name": "Python 3",
      "language": "python",
      "name": "python3"
    },
    "language_info": {
      "codemirror_mode": {
        "name": "ipython",
        "version": 3
      },
      "file_extension": ".py",
      "mimetype": "text/x-python",
      "name": "python",
      "nbconvert_exporter": "python",
      "pygments_lexer": "ipython3",
      "version": "3.7.9"
    },
    "vscode": {
      "interpreter": {
        "hash": "aa11ca274996316222ef16f35c5f6dbeb467b694c0b2154cdf34dcf9271d5fd0"
      }
    }
  },
  "nbformat": 4,
  "nbformat_minor": 0
}
