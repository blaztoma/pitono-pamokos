{
  "cells": [
    {
      "attachments": {},
      "cell_type": "markdown",
      "metadata": {},
      "source": [
        "[![Open In Colab](https://colab.research.google.com/assets/colab-badge.svg)](https://colab.research.google.com/github/blaztoma/pitono-pamokos/blob/main/pamokos/09%20-%20Patikrinimo%20salygos/09-04%20-%20loginiai_operatoriai.ipynb)"
      ]
    },
    {
      "attachments": {},
      "cell_type": "markdown",
      "metadata": {
        "id": "tQ0aZTcUl-hA"
      },
      "source": [
        "# Loginiai operatoriai"
      ]
    },
    {
      "attachments": {},
      "cell_type": "markdown",
      "metadata": {
        "id": "XONTnaRany_S"
      },
      "source": [
        "## Apie loginius operatorius\n",
        "\n",
        "Loginiai operatoriai dažniausiai naudojami norint patikrinti kelias sąlygas vienu metu, tuo būdu sumažinant kodo kiekį ir jį supaprastinant. Pavyzdžiui:\n",
        "* Ar naudotojas prisijungęs **IR** turi atitinkamą rolę?\n",
        "* Ar failas **ARBA** tam tikras katalogas egzistuoja?\n",
        "* Ar studentas turi pinigų bilietui **ARBA** turi galiojantį LSP?\n",
        "* Ar skaičius patenka į intervalą (ar skaičius >= pradžia **IR** <= pabaiga)?\n",
        "* Ar produktas **NE** mokamas?"
      ]
    },
    {
      "attachments": {},
      "cell_type": "markdown",
      "metadata": {
        "id": "19eYKtIopPfn"
      },
      "source": [
        "## Loginių operatorių aprašymas\n",
        "\n",
        "Jei aprašymas ne visai aiškus - pradėkite nuo pavyzdžių ir vėliau sugrįškite čia.\n",
        "\n",
        "| Operatorius |\tAprašymas\t| Pavyzdys\n",
        "|-------------|-----------|---------\n",
        "| `and` | `True`, jeigu abi sąlygos yra `True` |\t`x < 5 and x < 10`\n",
        "| `or` |\t`True`, jeigu bent viena iš sąlygų yra `True` |\t`x < 5 or x < 4`\n",
        "| `not` |\tatvirkštinė reikšmė | `not 1 < 2`"
      ]
    },
    {
      "attachments": {},
      "cell_type": "markdown",
      "metadata": {
        "id": "Oev8uJ4CsTck"
      },
      "source": [
        "### `and` (ir) operatorius\n",
        "\n",
        "`and` Pitono loginis operatorius atlieka dviejų loginių reikšmių, kintamųjų arba išraiškų loginį palyginimą. \n",
        "\n",
        "Jei abiejų operatoriaus pusių reikšmės yra `True`, operatorius `and` grąžina `True`. Jei kurios nors iš pusių (arba abiejų pusių) reikšmė yra `False`, operatorius `and` grąžina `False`. \n",
        "\n",
        "Jei naudojama ne loginio tipo reikšmė (arba kintamasis, kuriame saugoma reikšmė), Pitone ji visada bus vertinama kaip `True`.\n",
        "\n",
        "**Teisingumo lentelė**\n",
        "\n",
        "| `X` | `Y` | `X and Y`\n",
        "|---|---|--------\n",
        "| 0 | 0 | 0\n",
        "| 0 | 1 | 0\n",
        "| 1 | 0 | 0\n",
        "| 1 | 1 | 1\n",
        "\n",
        "**Operacija ir rezultatas**\n",
        "\n",
        "| Operacija | Rezultatas\n",
        "|-----------|-----------\n",
        "| `False` and `False` | `False`\n",
        "| `False` and `True` | `False`\n",
        "| `True` and `False` | `False`\n",
        "| `True` and `True` | `True`\n",
        "\n",
        "**Keli pavyzdžiai**"
      ]
    },
    {
      "cell_type": "code",
      "execution_count": null,
      "metadata": {
        "colab": {
          "base_uri": "https://localhost:8080/"
        },
        "id": "CMtrBryKvKaH",
        "outputId": "95701624-7899-4ee6-90df-0686bbfac943"
      },
      "outputs": [],
      "source": [
        "True and True     # Bus True\n",
        "True and False    # Bus False\n",
        "False and False   # Bus False\n",
        "1 == 1 and 1 < 2  # Bus True\n",
        "1 < 2 and 3 < 1   # Bus False\n",
        "\"Taip\" and 100    # Bus True"
      ]
    },
    {
      "attachments": {},
      "cell_type": "markdown",
      "metadata": {
        "id": "2S5tST_gvWZR"
      },
      "source": [
        "### `or` (arba) operatorius\n",
        "\n",
        "`or` Pitono loginis operatorius sudeda dvi logines išraiškas ir įvertina `True`, jei bent viena iš išraiškų įvertinama `True`. Priešingu atveju, jei abi išraiškos yra `False`, visa išraiška įvertinama kaip `False`. \n",
        "\n",
        "**Teisingumo lentelė**\n",
        "\n",
        "| `X` | `Y` | `X or Y`\n",
        "|---|---|--------\n",
        "| 0 | 0 | 0\n",
        "| 0 | 1 | 1\n",
        "| 1 | 0 | 1\n",
        "| 1 | 1 | 1\n",
        "\n",
        "**Operacija ir rezultatas**\n",
        "\n",
        "| Operacija | Rezultatas\n",
        "|-----------|-----------\n",
        "| `False` or `False` | `False`\n",
        "| `False` or `True` | `True`\n",
        "| `True` or `False` | `True`\n",
        "| `True` or `True` | `True`\n",
        "\n",
        "**Keli pavyzdžiai**"
      ]
    },
    {
      "cell_type": "code",
      "execution_count": null,
      "metadata": {
        "id": "tQsCHS7nwB2V"
      },
      "outputs": [],
      "source": [
        "True or True      # Bus True\n",
        "True or False     # Bus True\n",
        "False or False    # Bus False\n",
        "1 < 2 or 3 < 1    # Bus True\n",
        "3 < 1 or 1 > 6    # Bus False\n",
        "1 == 1 or 1 < 2   # Bus True"
      ]
    },
    {
      "attachments": {},
      "cell_type": "markdown",
      "metadata": {
        "id": "_VFglRw0wz4p"
      },
      "source": [
        "### `not` (ne) operatorius\n",
        "\n",
        "`ne` Pitono loginis operatorius naudojamas loginėje išraiškoje tam, kad būtų gauta išraiškos atvirkštinė reikšmė. Jei pradinė išraiška buvo `True`, panaudojus operatorių `not` išraiška taptų `False`, ir atvirkščiai. \n",
        "\n",
        "**Teisingumo lentelė**\n",
        "\n",
        "| `X` | `not X`\n",
        "|---|-------\n",
        "| 0 | 1\n",
        "| 1 | 0\n",
        "\n",
        "**Operacija ir rezultatas**\n",
        "\n",
        "| Operacija | Rezultatas\n",
        "|-----------|-----------\n",
        "| not `False` | `True`\n",
        "| not `True` | `False`\n",
        "\n",
        "**Keli pavyzdžiai**"
      ]
    },
    {
      "cell_type": "code",
      "execution_count": null,
      "metadata": {
        "colab": {
          "base_uri": "https://localhost:8080/"
        },
        "id": "Gt2m3_vtxpG0",
        "outputId": "0e1b7034-92ce-424e-dbde-1a4f8d8187e3"
      },
      "outputs": [],
      "source": [
        "not True     # Bus False\n",
        "not False    # Bus True\n",
        "1 > 2        # Bus False\n",
        "not 1 > 2    # Bus True\n",
        "1 == 1       # Bus True\n",
        "not 1 == 1   # Bus False"
      ]
    },
    {
      "attachments": {},
      "cell_type": "markdown",
      "metadata": {
        "id": "BJEYw2tgybnQ"
      },
      "source": [
        "## Pasitikrinkite\n",
        "\n",
        "Kaip manote, kaip Pitonas įvertins šias išraiškas?\n",
        "\n",
        "Sugalvokite atsakymus ir norėdami pasitikrinti įvykdykite programą nukomentuodami po vieną eilutę. "
      ]
    },
    {
      "cell_type": "code",
      "execution_count": null,
      "metadata": {
        "colab": {
          "base_uri": "https://localhost:8080/"
        },
        "id": "F8_cLPjFyvVw",
        "outputId": "5d417b88-2e86-4477-e02a-b7c2d484877b"
      },
      "outputs": [],
      "source": [
        "#(10 > 9) and (9 > 10)      # = ???\n",
        "#(10 > 9) or (9 > 10)       # = ???\n",
        "#not(True)                  # = ???\n",
        "#(10 > 9) and (not(9 > 10)) # = ???"
      ]
    },
    {
      "attachments": {},
      "cell_type": "markdown",
      "metadata": {
        "id": "djsDrqgyzEc2"
      },
      "source": [
        "## Pavydžiai"
      ]
    },
    {
      "cell_type": "code",
      "execution_count": null,
      "metadata": {},
      "outputs": [],
      "source": [
        "skaicius = int( input('Įveskite skaičių: ') )\n",
        "\n",
        "if skaicius > 0 and skaicius <= 100:\n",
        "  print('Skaičius patenka į intervalą [1-100].')"
      ]
    },
    {
      "cell_type": "code",
      "execution_count": null,
      "metadata": {
        "colab": {
          "base_uri": "https://localhost:8080/"
        },
        "id": "42sI9f8UzQl2",
        "outputId": "c5aea1dc-cb84-478e-ac78-2dbe2d444f03"
      },
      "outputs": [],
      "source": [
        "skaicius = int( input('Įveskite skaičių: ') )\n",
        "\n",
        "if skaicius > 0 and skaicius <= 100:\n",
        "  print('Skaičius patenka į intervalą [1-100].')\n",
        "else:\n",
        "  print('Skaičius nepatenka į intervalą [1-100].')"
      ]
    },
    {
      "cell_type": "code",
      "execution_count": null,
      "metadata": {},
      "outputs": [],
      "source": [
        "skaicius = 156\n",
        "\n",
        "if skaicius == 3 or skaicius > 100:\n",
        "    print('Skaičius lygus 3 arba didesnis nei 100.')"
      ]
    },
    {
      "cell_type": "code",
      "execution_count": null,
      "metadata": {},
      "outputs": [],
      "source": [
        "pradzia = 1\n",
        "pabaiga = 100\n",
        "\n",
        "skaicius = int( input('Įveskite skaičių: ') )\n",
        "\n",
        "print()\n",
        "print('Rėžiai [', pradzia, '-', pabaiga, ']')\n",
        "print('Duotas skaičius:', skaicius)\n",
        "\n",
        "if skaicius >= pradzia and skaicius <= pabaiga:\n",
        "    print('patenka į rėžius.')\n",
        "else:\n",
        "    print('nepatenka į rėžius.')"
      ]
    },
    {
      "cell_type": "code",
      "execution_count": null,
      "metadata": {
        "colab": {
          "base_uri": "https://localhost:8080/"
        },
        "id": "zJWui8w20xNJ",
        "outputId": "937f167c-996d-4c5c-8eef-d597991472ec"
      },
      "outputs": [],
      "source": [
        "skaicius = 4\n",
        "\n",
        "if skaicius > 0 and skaicius % 2 == 0:\n",
        "    print('Skaičius teigiamas ir lyginis.')\n",
        "elif skaicius > 0 and skaicius % 3 == 0:\n",
        "    print('Skaičius teigiamas ir dalinasi iš 3.')\n",
        "else:\n",
        "    print('Skaičius neigiamas arba nesidalina nei iš 2 nei iš 3.')"
      ]
    },
    {
      "cell_type": "code",
      "execution_count": null,
      "metadata": {
        "colab": {
          "base_uri": "https://localhost:8080/"
        },
        "id": "11hpJ_VM1MzP",
        "outputId": "c615219b-a176-4cc4-88f8-2adb81cff562"
      },
      "outputs": [],
      "source": [
        "skaicius = 30\n",
        "\n",
        "if skaicius % 2 == 0 and skaicius % 3 == 0 and skaicius % 10 == 0:\n",
        "    print('Skaičius dalinasi iš 2, 3 ir 10.')\n",
        "else:\n",
        "    print('Nesidalina iš kažkurių skaičių.')"
      ]
    },
    {
      "cell_type": "code",
      "execution_count": null,
      "metadata": {},
      "outputs": [],
      "source": [
        "if 5 + 3 > 0 or 100 < 100:\n",
        "    print('Suveikė')\n",
        "else:\n",
        "    print('Nesuveikė')"
      ]
    },
    {
      "cell_type": "code",
      "execution_count": null,
      "metadata": {},
      "outputs": [],
      "source": [
        "if 5 + 3 > 0 and 100 < 100:\n",
        "    print('Suveikė')\n",
        "else:\n",
        "    print('Nesuveikė')"
      ]
    },
    {
      "cell_type": "code",
      "execution_count": null,
      "metadata": {},
      "outputs": [],
      "source": [
        "if 8 * 2 == 16 and (8 + 9 * 2) % 2 == 0:\n",
        "    print('Suveikė')\n",
        "else:\n",
        "    print('Nesuveikė')"
      ]
    },
    {
      "cell_type": "code",
      "execution_count": null,
      "metadata": {},
      "outputs": [],
      "source": [
        "kaina = 0\n",
        "nemokama = True\n",
        "\n",
        "if kaina > 0 or nemokama == True:\n",
        "    print('Prekė parduodama')\n",
        "\n",
        "if kaina > 0 or nemokama:\n",
        "    print('Prekė parduodama')"
      ]
    },
    {
      "cell_type": "code",
      "execution_count": null,
      "metadata": {
        "id": "n5zKNLVK2LuO"
      },
      "outputs": [],
      "source": [
        "skaicius = 3\n",
        "\n",
        "if not skaicius % 2 == 0:\n",
        "    print('Skaičius nelyginis.')\n",
        "else:\n",
        "    print('Skaičius lyginis.')"
      ]
    },
    {
      "cell_type": "code",
      "execution_count": null,
      "metadata": {},
      "outputs": [],
      "source": [
        "ar_yra_bilietas = True\n",
        "\n",
        "if ar_yra_bilietas:\n",
        "    print('Bilietas yra')\n",
        "else:\n",
        "    print('Bilieto nėra')\n",
        "\n",
        "if not(ar_yra_bilietas):\n",
        "    print('Bilieto nėra')\n",
        "else:\n",
        "    print('Bilietas yra')"
      ]
    },
    {
      "cell_type": "code",
      "execution_count": null,
      "metadata": {},
      "outputs": [],
      "source": [
        "if False and False or True:\n",
        "    print('Suveikė')\n",
        "else:\n",
        "    print('Nesuveikė')"
      ]
    },
    {
      "cell_type": "code",
      "execution_count": null,
      "metadata": {},
      "outputs": [],
      "source": [
        "if False and (False or True):\n",
        "    print('Suveikė')\n",
        "else:\n",
        "    print('Nesuveikė')"
      ]
    },
    {
      "cell_type": "code",
      "execution_count": null,
      "metadata": {
        "colab": {
          "base_uri": "https://localhost:8080/"
        },
        "id": "GQ4V1d8y3yvD",
        "outputId": "f4820f0e-3afa-4ad0-c08f-8c4a79f5f511"
      },
      "outputs": [],
      "source": [
        "skaicius = 30\n",
        "\n",
        "if skaicius % 2 == 0 or (skaicius % 3 == 0 and skaicius % 10 == 0):\n",
        "    print('Skaičius tenkina sąlygą.')\n",
        "else:\n",
        "    print('Skaičius netenkina sąlygos.')"
      ]
    },
    {
      "cell_type": "code",
      "execution_count": null,
      "metadata": {},
      "outputs": [],
      "source": [
        "skaicius = 55\n",
        "\n",
        "if (skaicius > 0 and skaicius < 100) or skaicius % 2 == 0:\n",
        "    print('Skaičius patenka į rėžius arba dalinasi iš 2.')\n",
        "\n",
        "if skaicius > 0 and (skaicius < 100 or skaicius % 2 == 0):\n",
        "    print('Skaičius teigiamas ir mažesnis už 100 arba lyginis.')"
      ]
    },
    {
      "attachments": {},
      "cell_type": "markdown",
      "metadata": {
        "id": "LO29lUjm4ki_"
      },
      "source": [
        "## Užduotys"
      ]
    },
    {
      "attachments": {},
      "cell_type": "markdown",
      "metadata": {},
      "source": [
        "### Užduotis 1\n",
        "\n",
        "Parašykite programą, kuri leistų įvesti tris studento pažymius (pvz.: 8, 9, 6). Programa turi surasti ir atspausdinti didžiausią studento pažymį."
      ]
    },
    {
      "cell_type": "code",
      "execution_count": null,
      "metadata": {},
      "outputs": [],
      "source": [
        "# Kodą rašykite čia..."
      ]
    },
    {
      "attachments": {},
      "cell_type": "markdown",
      "metadata": {},
      "source": [
        "### Užduotis 2\n",
        "\n",
        "Parašykite programą, kuri leistų įvesti tris studento pažymius (pvz.: 8, 9, 6). Programa turi surasti ir atspausdinti mažiausią studento pažymį."
      ]
    },
    {
      "cell_type": "code",
      "execution_count": null,
      "metadata": {},
      "outputs": [],
      "source": [
        "# Kodą rašykite čia..."
      ]
    },
    {
      "attachments": {},
      "cell_type": "markdown",
      "metadata": {
        "id": "PDprrIM75Kci"
      },
      "source": [
        "### Užduotis 3\n",
        "\n",
        "Parašykite programą, kuri leistų įvesti tris studento pažymius (pvz.: 8, 9, 6). Suraskite pažymių vidurkį. Atspausdinkite:\n",
        "\n",
        "* `Įvertinimai geri`, jei vidurkis intervale [8-10];\n",
        "* `Įvertinimai prasti`, jei vidurkis intervale [5-7];\n",
        "* `Įvertinimai blogi`, jei vidurkis < 5"
      ]
    },
    {
      "cell_type": "code",
      "execution_count": null,
      "metadata": {
        "id": "p1_Rd9tb5vxn"
      },
      "outputs": [],
      "source": [
        "# Kodą rašykite čia..."
      ]
    },
    {
      "attachments": {},
      "cell_type": "markdown",
      "metadata": {},
      "source": [
        "### Užduotis 4\n",
        "\n",
        "Susikurkite du skaičius. Patikrinkite (naudojant 4 atskirus `if`'us):\n",
        "\n",
        "- ar pirmas skaičius yra didesnis už antrąjį arba yra lygus 0;\n",
        "- ar antras skaičius yra didesnis už pirmąjį arba yra lygus 5;\n",
        "- ar pirmas skaičius yra didesnis už antrąjį ir yra lygus 20;\n",
        "- ar antras skaičius yra didesnis už pirmąjį ir yra mažesnis už 100;"
      ]
    },
    {
      "cell_type": "code",
      "execution_count": null,
      "metadata": {},
      "outputs": [],
      "source": [
        "# Kodą rašykite čia..."
      ]
    }
  ],
  "metadata": {
    "colab": {
      "collapsed_sections": [
        "XONTnaRany_S"
      ],
      "provenance": []
    },
    "kernelspec": {
      "display_name": "Python 3",
      "language": "python",
      "name": "python3"
    },
    "language_info": {
      "codemirror_mode": {
        "name": "ipython",
        "version": 3
      },
      "file_extension": ".py",
      "mimetype": "text/x-python",
      "name": "python",
      "nbconvert_exporter": "python",
      "pygments_lexer": "ipython3",
      "version": "3.7.9"
    },
    "vscode": {
      "interpreter": {
        "hash": "aa11ca274996316222ef16f35c5f6dbeb467b694c0b2154cdf34dcf9271d5fd0"
      }
    }
  },
  "nbformat": 4,
  "nbformat_minor": 0
}
