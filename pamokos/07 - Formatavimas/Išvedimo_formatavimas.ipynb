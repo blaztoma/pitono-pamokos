{
  "cells": [
    {
      "attachments": {},
      "cell_type": "markdown",
      "metadata": {},
      "source": [
        "[![Open In Colab](https://colab.research.google.com/assets/colab-badge.svg)](https://colab.research.google.com/github/blaztoma/pitono-pamokos/blob/main/pamokos/07%20-%20Formatavimas/I%C5%A1vedimo_formatavimas.ipynb)"
      ]
    },
    {
      "cell_type": "markdown",
      "metadata": {
        "id": "tryOIkqN4dV3"
      },
      "source": [
        "# Išvedimo formatavimas"
      ]
    },
    {
      "cell_type": "markdown",
      "metadata": {
        "id": "RNypakjB4hM4"
      },
      "source": [
        "Dažnai reikia suskaičiuoti įvairias reikšmes, jas apjungti ir gražiai išvesti. Panagrinėkime kelias galimybes tai padaryti."
      ]
    },
    {
      "cell_type": "markdown",
      "metadata": {
        "id": "wUmsNqiC5SwX"
      },
      "source": [
        "Jei naudosime funkciją `print()` ir kintamuosius atskirsime kableliu, tuomet Pitonas pats sudarys eilutę išvedimui:"
      ]
    },
    {
      "cell_type": "code",
      "execution_count": 1,
      "metadata": {
        "colab": {
          "base_uri": "https://localhost:8080/"
        },
        "id": "QhshRVW84J6h",
        "outputId": "7943631a-cf60-426c-a6d7-27de9196c0f1"
      },
      "outputs": [
        {
          "name": "stdout",
          "output_type": "stream",
          "text": [
            "Citroen Xsara buvo pagaminta 2002 metais ir nuvaziavo 148974 km\n"
          ]
        }
      ],
      "source": [
        "marke = 'Citroen'\n",
        "modelis = 'Xsara'\n",
        "metai = 2002 \n",
        "rida = 148974\n",
        "\n",
        "print(marke, modelis, 'buvo pagaminta', metai, 'metais ir nuvažiavo', rida, 'km.')"
      ]
    },
    {
      "cell_type": "markdown",
      "metadata": {
        "id": "6wvFM5vi5go3"
      },
      "source": [
        "Eilutes galima sujungti prieš išvedant. Tai vienas dažniausiai naudojamų būdų. Tiesa, sujungiant eilutes reikia konvertuoti kitų tipų kintamuosius į eilutės tipą. Tam naudojama funkcija `str()`."
      ]
    },
    {
      "cell_type": "code",
      "execution_count": 3,
      "metadata": {
        "colab": {
          "base_uri": "https://localhost:8080/"
        },
        "id": "UpMek1-e_dxW",
        "outputId": "1e51ca31-c1bf-4a7c-9051-93e5f068c523"
      },
      "outputs": [
        {
          "name": "stdout",
          "output_type": "stream",
          "text": [
            "Citroen Xsara buvo pagaminta 2002 metais ir nuvažiavo 148974 km.\n"
          ]
        }
      ],
      "source": [
        "marke = 'Citroen'\n",
        "modelis = 'Xsara'\n",
        "metai = 2002\n",
        "rida = 148974\n",
        "\n",
        "# Šis kodas neveiks (rodys klaidą), nes Pitonas nemokės sujungti eilutės ir skaičiaus.\n",
        "# Galite šią eilutę nukomentuoti ir pažiūrėti.  \n",
        "# sakinys = marke + \" \" + modelis + \" buvo pagaminta \" + metai + \" metais ir nuvažiavo \" + rida + \" km.\"\n",
        "\n",
        "# O šis kodas geras, nes jis konvertuoja skaičius į eilutės tipą\n",
        "sakinys = marke + \" \" + modelis + \" buvo pagaminta \" + str(metai) + \" metais ir nuvažiavo \" + str(rida) + \" km.\"\n",
        "\n",
        "print(sakinys)"
      ]
    },
    {
      "cell_type": "markdown",
      "metadata": {
        "id": "xeCjYTxiBZTr"
      },
      "source": [
        "Jei norime išvengti tipų konvertavimo, formuoti tekstinę eilutę galime pasinaudojant `%` formatavimo operaciją. Šis būdas nerekomenduojamas paties Pitono, bet galite pažiūrėti kaip jis atrodo:"
      ]
    },
    {
      "cell_type": "code",
      "execution_count": 5,
      "metadata": {
        "colab": {
          "base_uri": "https://localhost:8080/"
        },
        "id": "xny2Zzr8B92_",
        "outputId": "faf538bc-91d5-4b1f-f725-7788c1c34416"
      },
      "outputs": [
        {
          "name": "stdout",
          "output_type": "stream",
          "text": [
            "Citroen Xsara buvo pagaminta 2002 metais ir nuvažiavo 148974 km.\n"
          ]
        }
      ],
      "source": [
        "marke = 'Citroen'\n",
        "modelis = 'Xsara'\n",
        "metai = 2002\n",
        "rida = 148974\n",
        "\n",
        "print(\"%s %s buvo pagaminta %s metais ir nuvažiavo %s km.\" % (marke, modelis, metai, rida))"
      ]
    },
    {
      "cell_type": "markdown",
      "metadata": {
        "id": "xmVXp63GC-7r"
      },
      "source": [
        "Šiek tiek geresnis būdas yra `format` naudojimas:"
      ]
    },
    {
      "cell_type": "code",
      "execution_count": 7,
      "metadata": {
        "colab": {
          "base_uri": "https://localhost:8080/"
        },
        "id": "n7AdgkrdDMmJ",
        "outputId": "e2f2bd89-8044-4c87-9dac-a04151b7c6a7"
      },
      "outputs": [
        {
          "name": "stdout",
          "output_type": "stream",
          "text": [
            "Citroen Xsara buvo pagaminta 2002 metais ir nuvažiavo 148974 km.\n"
          ]
        }
      ],
      "source": [
        "marke = 'Citroen'\n",
        "modelis = 'Xsara'\n",
        "metai = 2002\n",
        "rida = 148974\n",
        "\n",
        "print(\"{1} {0} buvo pagaminta {2} metais ir nuvažiavo {3} km.\".format(modelis, marke, metai, rida))"
      ]
    },
    {
      "cell_type": "markdown",
      "metadata": {
        "id": "SNARIQTUAdfv"
      },
      "source": [
        "Naujesniame Pitone (nuo 3.6 versijos) atsirado dar patogesnis ir geresnis būdas formatuoti išvedamą tekstą. Tam naudojamos taip vadinamos f-eilutės (`f\"\"` arba `f''`). Šios f-eilutės yra atsparesnės klaidoms ir greitesnės nei `%` ar `format` būdai. Naudokite jas.\n"
      ]
    },
    {
      "cell_type": "code",
      "execution_count": 4,
      "metadata": {
        "colab": {
          "base_uri": "https://localhost:8080/"
        },
        "id": "mozGEPQyA_Ot",
        "outputId": "d7d2e75a-35e8-401f-b558-6cf16d631034"
      },
      "outputs": [
        {
          "name": "stdout",
          "output_type": "stream",
          "text": [
            "Citroen Xsara buvo pagaminta 2002 metais ir nuvaziavo 148974 km\n"
          ]
        }
      ],
      "source": [
        "marke = 'Citroen'\n",
        "modelis = 'Xsara'\n",
        "metai = 2002\n",
        "rida = 148974\n",
        "\n",
        "print(f'{marke} {modelis} buvo pagaminta {metai} metais ir nuvažiavo {rida} km.')"
      ]
    },
    {
      "cell_type": "markdown",
      "metadata": {
        "id": "patt7v5lL_Ac"
      },
      "source": [
        "Ir pabaigai, jei reiktų formatuoti daugelio eilučių tekstą, darykite taip:"
      ]
    },
    {
      "cell_type": "code",
      "execution_count": 9,
      "metadata": {
        "colab": {
          "base_uri": "https://localhost:8080/"
        },
        "id": "A4eG9wdMMEXy",
        "outputId": "ad602157-5102-4f89-a315-aff437d083c4"
      },
      "outputs": [
        {
          "name": "stdout",
          "output_type": "stream",
          "text": [
            "\n",
            "  Citroen Xsara \n",
            "  buvo pagaminta 2002 metais\n",
            "  ir nuvaziavo 148974 km'\n",
            "\n"
          ]
        }
      ],
      "source": [
        "marke = 'Citroen'\n",
        "modelis = 'Xsara'\n",
        "metai = 2002\n",
        "rida = 148974\n",
        "\n",
        "sakinys = f\"\"\"\n",
        "  {marke} {modelis} \n",
        "  buvo pagaminta {metai} metais\n",
        "  ir nuvažiavo {rida} km.'\n",
        "\"\"\"\n",
        "\n",
        "print(sakinys)"
      ]
    },
    {
      "attachments": {},
      "cell_type": "markdown",
      "metadata": {
        "id": "6KnDfQ3fMmNR"
      },
      "source": [
        "# Užduotys"
      ]
    },
    {
      "attachments": {},
      "cell_type": "markdown",
      "metadata": {
        "id": "axLuRXqlMsAR"
      },
      "source": [
        "## Užduotis 1"
      ]
    },
    {
      "cell_type": "markdown",
      "metadata": {
        "id": "LQVws38XMvF9"
      },
      "source": [
        "Duotas pradinis kodas. Suformatuokite eilutę taip, kad būtų išvedamas toks tekstas:\n",
        "```\n",
        "Vardenis Pavardenis (22 m.) mokosi 3-iame kurse, jo vidurkis yra 8.7\n",
        "```\n"
      ]
    },
    {
      "cell_type": "code",
      "execution_count": null,
      "metadata": {
        "id": "wasDoufDNMbc"
      },
      "outputs": [],
      "source": [
        "vardas = 'Vardenis'\n",
        "pavarde = 'Pavardenis'\n",
        "amzius = 22\n",
        "kursas = 3\n",
        "vidurkis = 8.7\n",
        "\n",
        "# šioje vietoje suformuokite eilutę: eilute = ...\n",
        "\n",
        "print(eilute)"
      ]
    },
    {
      "attachments": {},
      "cell_type": "markdown",
      "metadata": {
        "id": "BIYRCKJaN9Ak"
      },
      "source": [
        "## Užduotis 2"
      ]
    },
    {
      "cell_type": "markdown",
      "metadata": {
        "id": "0ZpaFj-rONrB"
      },
      "source": [
        "Duotas pradinis kodas. Suformatuokite eilutę taip, kad būtų išvedamas toks tekstas:\n",
        "```\n",
        "Mano batai buvo 2\n",
        "1 dingo - nerandu.\n",
        "Aš su 1 batuku,\n",
        "Niekur eiti negaliu.\n",
        "```\n",
        "Formatavimui panaudokite daugelio eilučių f-eilutę ir kode duotus kintamuosius."
      ]
    },
    {
      "cell_type": "code",
      "execution_count": 1,
      "metadata": {
        "id": "DQRiAWKEOARE"
      },
      "outputs": [
        {
          "ename": "NameError",
          "evalue": "name 'eilute' is not defined",
          "output_type": "error",
          "traceback": [
            "\u001b[1;31m---------------------------------------------------------------------------\u001b[0m",
            "\u001b[1;31mNameError\u001b[0m                                 Traceback (most recent call last)",
            "\u001b[1;32m<ipython-input-1-28f28ba6268e>\u001b[0m in \u001b[0;36m<module>\u001b[1;34m\u001b[0m\n\u001b[0;32m      4\u001b[0m \u001b[1;31m# šioje vietoje suformuokite eilutę: eilute = ...\u001b[0m\u001b[1;33m\u001b[0m\u001b[1;33m\u001b[0m\u001b[1;33m\u001b[0m\u001b[0m\n\u001b[0;32m      5\u001b[0m \u001b[1;33m\u001b[0m\u001b[0m\n\u001b[1;32m----> 6\u001b[1;33m \u001b[0mprint\u001b[0m\u001b[1;33m(\u001b[0m\u001b[0meilute\u001b[0m\u001b[1;33m)\u001b[0m\u001b[1;33m\u001b[0m\u001b[1;33m\u001b[0m\u001b[0m\n\u001b[0m",
            "\u001b[1;31mNameError\u001b[0m: name 'eilute' is not defined"
          ]
        }
      ],
      "source": [
        "vienas = 1\n",
        "du = 2\n",
        "\n",
        "# šioje vietoje suformuokite eilutę: eilute = ...\n",
        "\n",
        "print(eilute)"
      ]
    },
    {
      "attachments": {},
      "cell_type": "markdown",
      "metadata": {},
      "source": [
        "## Užduotis 3\n",
        "\n",
        "Išveskite 3x3 dydžio tuščiavidurį kvadratą iš * simbolio. Galutinio rezultato pavyzdys:\n",
        "\n",
        "```\n",
        "***\n",
        "* *\n",
        "***\n",
        "```"
      ]
    },
    {
      "cell_type": "code",
      "execution_count": null,
      "metadata": {},
      "outputs": [],
      "source": [
        "# Kodą rašykite čia..."
      ]
    },
    {
      "attachments": {},
      "cell_type": "markdown",
      "metadata": {},
      "source": [
        "## Užduotis 4\n",
        "\n",
        "Susikurkite šiuos kintamuosius, saugančius informaciją apie gyvūną: pavadinimas, amžius, kailio spalva, svoris. Išveskite šiuos duomenis gražiai suformatuotus vienoje eilutėje, sakinio forma. Pavyzdžiui:\n",
        "\n",
        "```\n",
        "Gyvūnas - šuo (2 m.) turi rudą kailio spalvą ir sveria 1.4 kg.\n",
        "```"
      ]
    },
    {
      "cell_type": "code",
      "execution_count": null,
      "metadata": {},
      "outputs": [],
      "source": [
        "# Kodą rašykite čia..."
      ]
    },
    {
      "attachments": {},
      "cell_type": "markdown",
      "metadata": {},
      "source": [
        "## Užduotis 5\n",
        "\n",
        "Susikurkite skaičiaus kintamąjį, kurį išveskite penkis kartus toje pačioje eilutėje be tarpų tarp šių skaičių. Pavyzdžiui:\n",
        "skaičius - `25`, išvedimas - `2525252525`"
      ]
    },
    {
      "cell_type": "code",
      "execution_count": null,
      "metadata": {},
      "outputs": [],
      "source": [
        "# Kodą rašykite čia..."
      ]
    },
    {
      "attachments": {},
      "cell_type": "markdown",
      "metadata": {},
      "source": [
        "## Užduotis 6\n",
        "\n",
        "Susikurkite skaičiaus kintamąjį, kurį išveskite penkis kartus toje pačioje eilutėje su tarpais tarp šių skaičių. Pavyzdžiui:\n",
        "skaičius - `25`, rezultatas - `25 25 25 25 25`"
      ]
    },
    {
      "cell_type": "code",
      "execution_count": null,
      "metadata": {},
      "outputs": [],
      "source": [
        "# Kodą rašykite čia..."
      ]
    }
  ],
  "metadata": {
    "colab": {
      "provenance": []
    },
    "kernelspec": {
      "display_name": "Python 3",
      "language": "python",
      "name": "python3"
    },
    "language_info": {
      "codemirror_mode": {
        "name": "ipython",
        "version": 3
      },
      "file_extension": ".py",
      "mimetype": "text/x-python",
      "name": "python",
      "nbconvert_exporter": "python",
      "pygments_lexer": "ipython3",
      "version": "3.7.9 (tags/v3.7.9:13c94747c7, Aug 17 2020, 18:58:18) [MSC v.1900 64 bit (AMD64)]"
    },
    "vscode": {
      "interpreter": {
        "hash": "aa11ca274996316222ef16f35c5f6dbeb467b694c0b2154cdf34dcf9271d5fd0"
      }
    }
  },
  "nbformat": 4,
  "nbformat_minor": 0
}
