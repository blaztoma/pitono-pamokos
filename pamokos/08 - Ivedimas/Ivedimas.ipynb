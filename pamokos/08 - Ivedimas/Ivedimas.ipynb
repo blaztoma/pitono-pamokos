{
  "cells": [
    {
      "attachments": {},
      "cell_type": "markdown",
      "metadata": {},
      "source": [
        "[![Open In Colab](https://colab.research.google.com/assets/colab-badge.svg)](https://colab.research.google.com/github/blaztoma/pitono-pamokos/blob/main/pamokos/08%20-%20Ivedimas/Ivedimas.ipynb)"
      ]
    },
    {
      "cell_type": "markdown",
      "metadata": {
        "id": "hLvbocp2jbhr"
      },
      "source": [
        "# Įvedimas iš konsolės"
      ]
    },
    {
      "cell_type": "markdown",
      "metadata": {
        "id": "KKXxxcLMjnJS"
      },
      "source": [
        "Vienas iš būdų, kaip įvesti duomenis programai - paprašyti naudotojo, kad konsolėje suvestų reikalingą informaciją. Tam naudojama `input()` funkcija."
      ]
    },
    {
      "cell_type": "markdown",
      "metadata": {
        "id": "wzd6nwMlj54O"
      },
      "source": [
        "Kai prašymas įvesti informaciją išvedamas atskirai:"
      ]
    },
    {
      "cell_type": "code",
      "execution_count": null,
      "metadata": {
        "colab": {
          "base_uri": "https://localhost:8080/"
        },
        "id": "TYB0piIejX5q",
        "outputId": "149445dc-bd72-450b-a13c-78c850b93832"
      },
      "outputs": [],
      "source": [
        "print('Įveskite vardą:')\n",
        "vardas = input()\n",
        "print(vardas)"
      ]
    },
    {
      "cell_type": "markdown",
      "metadata": {
        "id": "IPh_dErRkHzY"
      },
      "source": [
        "Kai prašymas įvesti informaciją išvedamas kartu:"
      ]
    },
    {
      "cell_type": "code",
      "execution_count": null,
      "metadata": {
        "colab": {
          "base_uri": "https://localhost:8080/"
        },
        "id": "I_BmVJuskORt",
        "outputId": "6bd7f865-0153-4dca-dbb7-832cbae16ada"
      },
      "outputs": [],
      "source": [
        "vardas = input('Įveskite vardą:')\n",
        "print(vardas)"
      ]
    },
    {
      "attachments": {},
      "cell_type": "markdown",
      "metadata": {},
      "source": [
        "Kokio tipo informaciją gauname iš `input`?"
      ]
    },
    {
      "cell_type": "code",
      "execution_count": null,
      "metadata": {},
      "outputs": [],
      "source": [
        "print('Įveskite kokį nors skaičių:')\n",
        "skaicius = input()\n",
        "\n",
        "print('Įvesta:', skaicius, type(skaicius))"
      ]
    },
    {
      "attachments": {},
      "cell_type": "markdown",
      "metadata": {},
      "source": [
        "Gauname skaičių iš prieš tai įvykusios įvesties:"
      ]
    },
    {
      "cell_type": "code",
      "execution_count": null,
      "metadata": {},
      "outputs": [],
      "source": [
        "skaicius = int(skaicius)\n",
        "print('Konvertuota:', skaicius, type(skaicius))"
      ]
    },
    {
      "attachments": {},
      "cell_type": "markdown",
      "metadata": {
        "id": "fj_Qb3ZJkuDN"
      },
      "source": [
        "Skaičiaus įvestį galime įgyvendinti ir per vieną eilutę:"
      ]
    },
    {
      "cell_type": "code",
      "execution_count": null,
      "metadata": {
        "colab": {
          "base_uri": "https://localhost:8080/"
        },
        "id": "LK5BQCfLk1i8",
        "outputId": "f3129f80-a189-4414-9eb7-5571091658c8"
      },
      "outputs": [],
      "source": [
        "skaicius = int(input('Įveskite sveiką skaičių:'))\n",
        "print(skaicius)"
      ]
    },
    {
      "cell_type": "markdown",
      "metadata": {
        "id": "4s7fFRKhk0e_"
      },
      "source": [
        "Kai norime gauti įvestą slankaus kablelio skaičių:"
      ]
    },
    {
      "cell_type": "code",
      "execution_count": null,
      "metadata": {
        "colab": {
          "base_uri": "https://localhost:8080/"
        },
        "id": "RHJmuu4-lMPN",
        "outputId": "be7d262d-7084-4f5d-a369-de3d26eb9276"
      },
      "outputs": [],
      "source": [
        "skaicius = float(input('Įveskite skaičių:'))\n",
        "print(skaicius)"
      ]
    },
    {
      "cell_type": "markdown",
      "metadata": {
        "id": "9kza4VX9l9cr"
      },
      "source": [
        "F-eilučių prisiminimui įvesime du skaičius atskirose eilutėse ir juos sudėsime:"
      ]
    },
    {
      "cell_type": "code",
      "execution_count": null,
      "metadata": {
        "id": "s8VJoSVXlqbj"
      },
      "outputs": [],
      "source": [
        "skaicius_1 = input('Įveskite pirmą skaičių')\n",
        "skaicius_2 = input('Įveskite antrą skaičių')\n",
        "print(f'{skaicius_1} + {skaicius_2} = {skaicius_1 + skaicius_2}')"
      ]
    },
    {
      "attachments": {},
      "cell_type": "markdown",
      "metadata": {},
      "source": [
        "Atkreipkite dėmesį į tai kad praeitame pavyzdyje gauta įvestis yra `str` tipo, todėl sudėtis (`+`) atliko teksto sudėtį, o ne matematinę sudėtį. Tai ištaisyti būtų galima taip:"
      ]
    },
    {
      "cell_type": "code",
      "execution_count": null,
      "metadata": {},
      "outputs": [],
      "source": [
        "skaicius_1 = int(input('Įveskite pirmą skaičių'))\n",
        "skaicius_2 = int(input('Įveskite antrą skaičių'))\n",
        "print(f'{skaicius_1} + {skaicius_2} = {skaicius_1 + skaicius_2}')"
      ]
    },
    {
      "attachments": {},
      "cell_type": "markdown",
      "metadata": {},
      "source": [
        "Arba taip:"
      ]
    },
    {
      "cell_type": "code",
      "execution_count": null,
      "metadata": {},
      "outputs": [],
      "source": [
        "skaicius_1 = input('Įveskite pirmą skaičių')\n",
        "skaicius_2 = input('Įveskite antrą skaičių')\n",
        "print(f'{skaicius_1} + {skaicius_2} = {int(skaicius_1) + int(skaicius_2)}')"
      ]
    },
    {
      "attachments": {},
      "cell_type": "markdown",
      "metadata": {
        "id": "yeB--dnIml-I"
      },
      "source": [
        "Šį kartą įvesime tuos du skaičius vienoje eilutėje:"
      ]
    },
    {
      "cell_type": "code",
      "execution_count": null,
      "metadata": {
        "colab": {
          "base_uri": "https://localhost:8080/"
        },
        "id": "e-xkcMowmySz",
        "outputId": "eee61098-7ed0-4829-861b-477b1eaece36"
      },
      "outputs": [],
      "source": [
        "print('Įveskite du skaičius, juos atskirdami tarpu:')\n",
        "skaicius_1, skaicius_2 = input().split()\n",
        "print(f'{skaicius_1} + {skaicius_2} = {int(skaicius_1) + int(skaicius_2)}')"
      ]
    },
    {
      "cell_type": "code",
      "execution_count": null,
      "metadata": {},
      "outputs": [],
      "source": [
        "print('Įveskite du skaičius atskirdami tarpu:')\n",
        "skaicius_1, skaicius_2 = input().split()\n",
        "skaicius_1 = int(skaicius_1)\n",
        "skaicius_2 = int(skaicius_2)\n",
        "print(f'{skaicius_1} + {skaicius_2} = {skaicius_1 + skaicius_2}')"
      ]
    },
    {
      "cell_type": "code",
      "execution_count": null,
      "metadata": {},
      "outputs": [],
      "source": [
        "print('Įveskite tris skaičius atskirdami tarpu:')\n",
        "skaicius_1, skaicius_2, skaicius_3 = [ int(skaicius) for skaicius in input().split() ]\n",
        "print(f'{skaicius_1} + {skaicius_2} + {skaicius_3} = {skaicius_1 + skaicius_2 + skaicius_3}')"
      ]
    },
    {
      "attachments": {},
      "cell_type": "markdown",
      "metadata": {},
      "source": [
        "Galima ir taip:"
      ]
    },
    {
      "cell_type": "code",
      "execution_count": null,
      "metadata": {},
      "outputs": [],
      "source": [
        "print('Įveskite du skaičius (atskiriant enter paspaudimu):')\n",
        "pirmas = int(input())\n",
        "antras = int(input())\n",
        "\n",
        "suma = pirmas + antras\n",
        "print('skaičių suma:', suma)"
      ]
    },
    {
      "attachments": {},
      "cell_type": "markdown",
      "metadata": {},
      "source": [
        "Daugiau įvesties:"
      ]
    },
    {
      "cell_type": "code",
      "execution_count": null,
      "metadata": {},
      "outputs": [],
      "source": [
        "vardas = input('Įveskite vardą: ')\n",
        "amzius = int( input('Įveskite amžių: ') )\n",
        "\n",
        "print('Įvesta informacija:')\n",
        "print(vardas, type(vardas))\n",
        "print(amzius, type(amzius))"
      ]
    },
    {
      "cell_type": "markdown",
      "metadata": {
        "id": "HrnY00hVnhy2"
      },
      "source": [
        "## Užduotys"
      ]
    },
    {
      "cell_type": "markdown",
      "metadata": {
        "id": "hwDj6lv8nkm1"
      },
      "source": [
        "### Užduotis 1"
      ]
    },
    {
      "cell_type": "markdown",
      "metadata": {
        "id": "bp9fj9jxn2gO"
      },
      "source": [
        "Paprašykite naudotojo įvesti savo vardą, amžių ir kodėl panoro išmokti Pitoną. Įvestą informaciją išveskite tvarkingai, vienu sakiniu ar atskirose eilutėse su prierašais."
      ]
    },
    {
      "cell_type": "code",
      "execution_count": null,
      "metadata": {
        "id": "eXWqDJLmoAwP"
      },
      "outputs": [],
      "source": [
        "# Kodą rašykite čia..."
      ]
    },
    {
      "attachments": {},
      "cell_type": "markdown",
      "metadata": {},
      "source": [
        "### Užduotis 2\n",
        "\n",
        "Paprašykite vartotojo įvesti norimą simbolį. Iš šio simbolio atspausdinkite laiptus. Pvz.:\n",
        "\n",
        "```\n",
        "*\n",
        "**\n",
        "***\n",
        "```"
      ]
    },
    {
      "cell_type": "code",
      "execution_count": null,
      "metadata": {},
      "outputs": [],
      "source": [
        "# Kodą rašykite čia..."
      ]
    },
    {
      "attachments": {},
      "cell_type": "markdown",
      "metadata": {
        "id": "6A35-IQnoLXk"
      },
      "source": [
        "### Užduotis 3"
      ]
    },
    {
      "cell_type": "markdown",
      "metadata": {
        "id": "7XAZwWOzoi8J"
      },
      "source": [
        "Paprašykite vartotojo įvesti norimą simbolį. Iš šio simbolio atspausdinkite inicialus. Pvz.:\n",
        "```\n",
        "*** *\n",
        " *  *\n",
        " *  ***\n",
        "```\n"
      ]
    },
    {
      "cell_type": "markdown",
      "metadata": {
        "id": "7q-0t1XCpzjg"
      },
      "source": [
        "Užduočiai atlikti galite naudoti daugelio eilučių išvedimą."
      ]
    },
    {
      "cell_type": "code",
      "execution_count": null,
      "metadata": {
        "id": "M5vavct5oRTh"
      },
      "outputs": [],
      "source": [
        "# Kodą rašykite čia..."
      ]
    },
    {
      "attachments": {},
      "cell_type": "markdown",
      "metadata": {},
      "source": [
        "### Užduotis 4\n",
        "\n",
        "Paprašykite vartotojo įvesti vardą, amžių, ūgį (metais) (nepamirškite ką reikia iškonvertuoti iš `str` į `int` ar `float`). Išveskite gautus duomenis ir jų tipus."
      ]
    },
    {
      "cell_type": "code",
      "execution_count": null,
      "metadata": {},
      "outputs": [],
      "source": [
        "# Kodą rašykite čia..."
      ]
    },
    {
      "attachments": {},
      "cell_type": "markdown",
      "metadata": {
        "id": "_R8pynb9oNpE"
      },
      "source": [
        "### Užduotis 5"
      ]
    },
    {
      "cell_type": "markdown",
      "metadata": {
        "id": "SFB0Ad1JpEMd"
      },
      "source": [
        "Leiskite naudotojui įvesti metrus. Išveskite kiek tai gaunasi centimetrais, milimetrais ir kilometrais."
      ]
    },
    {
      "cell_type": "code",
      "execution_count": null,
      "metadata": {
        "id": "wrT9zY9IoSvr"
      },
      "outputs": [],
      "source": [
        "# Kodą rašykite čia..."
      ]
    },
    {
      "attachments": {},
      "cell_type": "markdown",
      "metadata": {
        "id": "BsHZhrt-oO1f"
      },
      "source": [
        "### Užduotis 6"
      ]
    },
    {
      "cell_type": "markdown",
      "metadata": {
        "id": "yv7UcPT2p_2i"
      },
      "source": [
        "Vienoje eilutėje įveskite vardą, pavardę ir amžių. Išveskite informaciją vienu sakiniu."
      ]
    },
    {
      "cell_type": "code",
      "execution_count": null,
      "metadata": {
        "colab": {
          "base_uri": "https://localhost:8080/"
        },
        "id": "3Afrr09ZoUeE",
        "outputId": "700f0735-c8c9-4a82-cc2a-de1ed1e89278"
      },
      "outputs": [],
      "source": [
        "# Kodą rašykite čia..."
      ]
    },
    {
      "attachments": {},
      "cell_type": "markdown",
      "metadata": {},
      "source": [
        "### Užduotis 7\n",
        "\n",
        "Paprašykite vartotojo įvesti 5-is savo pažymius vienoje eilutėje. Paskaičiuokite pažymių vidurkį. Išveskite atsakymą."
      ]
    },
    {
      "cell_type": "code",
      "execution_count": null,
      "metadata": {},
      "outputs": [],
      "source": [
        "# Kodą rašykite čia..."
      ]
    },
    {
      "attachments": {},
      "cell_type": "markdown",
      "metadata": {},
      "source": [
        "### Užduotis 8\n",
        "\n",
        "Leiskite vartotojui įvesti du skaičius. Išveskite šių skaičių sudėtį, skirtumą, sandaugą ir dalmenį."
      ]
    },
    {
      "cell_type": "code",
      "execution_count": null,
      "metadata": {},
      "outputs": [],
      "source": [
        "# Kodą rašykite čia..."
      ]
    },
    {
      "attachments": {},
      "cell_type": "markdown",
      "metadata": {},
      "source": [
        "### Užduotis 9\n",
        "\n",
        "Leiskite vartotojui įvesti du norimus skaičius. Išveskite kokia gaunasi liekana padalinus vieną skaičių iš kito."
      ]
    },
    {
      "cell_type": "code",
      "execution_count": null,
      "metadata": {},
      "outputs": [],
      "source": [
        "# Kodą rašykite čia..."
      ]
    },
    {
      "attachments": {},
      "cell_type": "markdown",
      "metadata": {},
      "source": [
        "### Užduotis 10\n",
        "\n",
        "Leiskite vartotojui įvesti du skaičius. Išveskite kiek gautųsi vieną skaičių pakėlus kito skaičiaus laipsniu (pvz, pirmas skaičius eina už pagrindą, o antras skaičius yra laipsnis, kuriuo ir keliame)."
      ]
    },
    {
      "cell_type": "code",
      "execution_count": null,
      "metadata": {},
      "outputs": [],
      "source": [
        "# Kodą rašykite čia..."
      ]
    }
  ],
  "metadata": {
    "colab": {
      "provenance": []
    },
    "kernelspec": {
      "display_name": "Python 3",
      "language": "python",
      "name": "python3"
    },
    "language_info": {
      "codemirror_mode": {
        "name": "ipython",
        "version": 3
      },
      "file_extension": ".py",
      "mimetype": "text/x-python",
      "name": "python",
      "nbconvert_exporter": "python",
      "pygments_lexer": "ipython3",
      "version": "3.7.9"
    },
    "vscode": {
      "interpreter": {
        "hash": "aa11ca274996316222ef16f35c5f6dbeb467b694c0b2154cdf34dcf9271d5fd0"
      }
    }
  },
  "nbformat": 4,
  "nbformat_minor": 0
}
