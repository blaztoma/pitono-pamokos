{
 "cells": [
  {
   "attachments": {},
   "cell_type": "markdown",
   "metadata": {},
   "source": [
    "[![Open In Colab](https://colab.research.google.com/assets/colab-badge.svg)](https://colab.research.google.com/github/blaztoma/pitono-pamokos/blob/main/pamokos/13%20-%20Sarasai/13-01%20-%20S%C4%85ra%C5%A1ai%20lists%201.ipynb)"
   ]
  },
  {
   "attachments": {},
   "cell_type": "markdown",
   "metadata": {},
   "source": [
    "# Sąrašai (`lists`) (1 dalis)"
   ]
  },
  {
   "attachments": {},
   "cell_type": "markdown",
   "metadata": {},
   "source": [
    "## Apie sąrašus\n",
    "\n",
    "Sąrašus galima įsivaizduoti kaip duomenų rinkinį. Galimi pavyzdžiai būtų tokie:\n",
    "\n",
    "- studentų pažymiai;\n",
    "- žodžiai;\n",
    "- prekės;\n",
    "- studentai;\n",
    "- automobiliai;\n",
    "- ..."
   ]
  },
  {
   "attachments": {},
   "cell_type": "markdown",
   "metadata": {},
   "source": [
    "## Sąrašo kūrimas\n",
    "\n",
    "Tuščias sąrašas (be duomenų):\n",
    "\n",
    "```\n",
    "saraso_pavadinimas = []\n",
    "```\n",
    "\n",
    "Pavyzdžiui:"
   ]
  },
  {
   "cell_type": "code",
   "execution_count": 3,
   "metadata": {},
   "outputs": [],
   "source": [
    "informacija = []"
   ]
  },
  {
   "attachments": {},
   "cell_type": "markdown",
   "metadata": {},
   "source": [
    "\n",
    "Sąrašas su duomenimis:\n",
    "\n",
    "```\n",
    "saraso_pavadinimas = [reikšmė, reikšmė, reikšmė, ...]\n",
    "```\n",
    "\n",
    "Pavyzdžiui:"
   ]
  },
  {
   "cell_type": "code",
   "execution_count": 4,
   "metadata": {},
   "outputs": [],
   "source": [
    "skaiciai = [7, 4, 5, 8, 3, 1]"
   ]
  },
  {
   "cell_type": "code",
   "execution_count": 6,
   "metadata": {},
   "outputs": [],
   "source": [
    "zmones = ['Jonas', 'Petras', 'Ona', 'Birutė']"
   ]
  },
  {
   "attachments": {},
   "cell_type": "markdown",
   "metadata": {},
   "source": [
    "## Viso sąrašo atvaizdavimas\n",
    "\n",
    "Jeigu norime atvaizduoti informaciją iš viso sąrašo, tai galime padaryti taip:"
   ]
  },
  {
   "cell_type": "code",
   "execution_count": 2,
   "metadata": {},
   "outputs": [
    {
     "name": "stdout",
     "output_type": "stream",
     "text": [
      "[7, 5, 6, 9, 7, 5]\n"
     ]
    }
   ],
   "source": [
    "skaiciai = [7, 5, 6, 9, 7, 5]\n",
    "print(skaiciai)"
   ]
  },
  {
   "cell_type": "code",
   "execution_count": 7,
   "metadata": {},
   "outputs": [
    {
     "name": "stdout",
     "output_type": "stream",
     "text": [
      "['Ona', 'Petras', 'Birutė', 'Jonas']\n"
     ]
    }
   ],
   "source": [
    "zmones = ['Ona', 'Petras', 'Birutė', 'Jonas']\n",
    "print(zmones)"
   ]
  },
  {
   "attachments": {},
   "cell_type": "markdown",
   "metadata": {},
   "source": [
    "## Sąrašo papildymas\n",
    "\n",
    "Jeigu norima papildyti jau egzistuojantį sąrašą, tam galima naudoti `append()` arba `extend()` metodus.\n",
    "\n",
    "Pavyzdžiui:"
   ]
  },
  {
   "cell_type": "code",
   "execution_count": 11,
   "metadata": {},
   "outputs": [
    {
     "name": "stdout",
     "output_type": "stream",
     "text": [
      "[1, 2, 3, 4, 5, 6]\n",
      "[1, 2, 3, 4, 5, 6, 7, 8, 9]\n"
     ]
    }
   ],
   "source": [
    "skaiciai = [1, 2, 3, 4]\n",
    "\n",
    "skaiciai.append(5)\n",
    "skaiciai.append(6)\n",
    "print(skaiciai)\n",
    "\n",
    "skaiciai.extend([7, 8, 9])\n",
    "print(skaiciai)"
   ]
  },
  {
   "attachments": {},
   "cell_type": "markdown",
   "metadata": {},
   "source": [
    "## Sąrašo elementų kiekis\n",
    "\n",
    "Norėdami išsiaiškinti kiek sąraše yra elementų, mes galima naudoti `len()` funkciją:\n",
    "\n",
    "```\n",
    "len(saraso_pavadinimas)\n",
    "```\n",
    "\n",
    "Pavyzdžiui:"
   ]
  },
  {
   "cell_type": "code",
   "execution_count": 8,
   "metadata": {},
   "outputs": [
    {
     "name": "stdout",
     "output_type": "stream",
     "text": [
      "5\n"
     ]
    }
   ],
   "source": [
    "skaiciai = [5, 2, 3, 5, 4]\n",
    "print( len(skaiciai) )"
   ]
  },
  {
   "attachments": {},
   "cell_type": "markdown",
   "metadata": {},
   "source": [
    "## Indeksavimas\n",
    "\n",
    "Jeigu sąrašuose yra duomenų, tai kiekvienas elementas tame sąraše turi savo indeksą. O su šio indekso pagalba galima tą informaciją pasiekti arba pakeisti.\n",
    "\n",
    "Indeksai yra skaičiuojami pradedant nuo 0.\n",
    "\n",
    "Tarkime, turime tokį sąrašą:\n",
    "\n",
    "```\n",
    "pazymiai = [7, 8, 5, 9, 10, 6]\n",
    "```\n",
    "\n",
    "Tai kiekvienas elementas iš sąrašo įgaus tokius indeksus:\n",
    "\n",
    "| Elementas iš sąrašo | 7 | 8 | 5 | 9 | 10 | 6 |\n",
    "|-|-|-|-|-|-|-|\n",
    "| Priskirtas indeksas | 0 | 1 | 2 | 3 | 4 | 5 |\n",
    "\n",
    "Arba jeigu turime tokį sąrašą:\n",
    "\n",
    "```\n",
    "medziai = ['Gluosnis', 'Ąžuolas', 'Liepa', 'Berželis', 'Obelis']\n",
    "```\n",
    "\n",
    "Tai kiekvienas elementas iš sąrašo įgaus tokius indeksus:\n",
    "\n",
    "| Elementas iš sąrašo | 'Gluosnis' | 'Ąžuolas' | 'Liepa' | 'Berželis' | 'Obelis' |\n",
    "|-|-|-|-|-|-|\n",
    "| Priskirtas indeksas | 0 | 1 | 2 | 3 | 4 |\n",
    "\n",
    "Python taip pat leidžia indeksavimą taikyti žiūrint nuo galo, o tuo atveju numeracija pradedama nuo -1, pavyzdžiui:\n",
    "\n",
    "| Elementas iš sąrašo | 'Gluosnis' | 'Ąžuolas' | 'Liepa' | 'Berželis' | 'Obelis' |\n",
    "|-|-|-|-|-|-|\n",
    "| Priskirtas indeksas (nuo galo) | -5 | -4 | -3 | -2 | -1 |"
   ]
  },
  {
   "attachments": {},
   "cell_type": "markdown",
   "metadata": {},
   "source": [
    "### Indekso naudojimo sintaksė\n",
    "\n",
    "Norint gauti informaciją:\n",
    "\n",
    "```\n",
    "saraso_pavadinimas[indeksas]\n",
    "```\n",
    "\n",
    "Norint atnaujinti informaciją:\n",
    "\n",
    "```\n",
    "saraso_pavadinimas[indeksas] = nauja_reiksme\n",
    "```"
   ]
  },
  {
   "attachments": {},
   "cell_type": "markdown",
   "metadata": {},
   "source": [
    "### Užduotis žodžiu: koks indeksas arba reikšmė?\n",
    "\n",
    "| Reikšmė | 5 | 8 | 9 | 3 | -1 | 7 | -2 | 4 |\n",
    "|-|-|-|-|-|-|-|-|-|\n",
    "| Indesas | 0 | 1 | 2 | 3 | 4 | 5 | 6 | 7 |\n",
    "\n",
    "- skaiciai[???] = 5\n",
    "- skaiciai[3] = ???\n",
    "- skaiciai[6] = ???\n",
    "- skaiciai[???] = 8\n",
    "- skaiciai[???] = 7\n",
    "- skaiciai[4] = ???\n",
    "- skaiciai[???] = 9\n",
    "- skaiciai[???] = 4"
   ]
  },
  {
   "attachments": {},
   "cell_type": "markdown",
   "metadata": {},
   "source": [
    "## Pavyzdžiai"
   ]
  },
  {
   "cell_type": "code",
   "execution_count": 12,
   "metadata": {},
   "outputs": [
    {
     "name": "stdout",
     "output_type": "stream",
     "text": [
      "[1, 2, 3, 4, 5, 6]\n",
      "['a', 'b', 'c']\n",
      "[1, 2, 'a', True]\n"
     ]
    }
   ],
   "source": [
    "li = [1, 2, 3, 4, 5, 6]\n",
    "li2 = ['a', 'b', 'c']\n",
    "li3 = [1, 2, 'a', True]\n",
    "\n",
    "print(li)\n",
    "print(li2)\n",
    "print(li3)"
   ]
  },
  {
   "cell_type": "code",
   "execution_count": 13,
   "metadata": {},
   "outputs": [
    {
     "name": "stdout",
     "output_type": "stream",
     "text": [
      "78\n",
      "95\n",
      "23\n",
      "14\n"
     ]
    }
   ],
   "source": [
    "skaiciai = [78, 65, 95, 21, 23, 14, 74, 147]\n",
    "\n",
    "print(skaiciai[0])\n",
    "print(skaiciai[2])\n",
    "print(skaiciai[4])\n",
    "print(skaiciai[5])"
   ]
  },
  {
   "cell_type": "code",
   "execution_count": 21,
   "metadata": {},
   "outputs": [
    {
     "name": "stdout",
     "output_type": "stream",
     "text": [
      "Sąrašas: [47, 54, 25, 36, 87]\n",
      "Pirmas skaičius iš sąrašo: 47\n",
      "Narių sąraše kiekis: 5\n",
      "Paskutinis skaičius iš sąrašo: 87\n",
      "Paskutinis skaičius iš sąrašo: 87\n"
     ]
    }
   ],
   "source": [
    "skaiciai = [47, 54, 25, 36, 87]\n",
    "\n",
    "print('Sąrašas:', skaiciai)\n",
    "print('Pirmas skaičius iš sąrašo:', skaiciai[0])\n",
    "print('Narių sąraše kiekis:', len(skaiciai))\n",
    "print('Paskutinis skaičius iš sąrašo:', skaiciai[-1])\n",
    "print('Paskutinis skaičius iš sąrašo:', skaiciai[len(skaiciai) - 1])"
   ]
  },
  {
   "cell_type": "code",
   "execution_count": 22,
   "metadata": {},
   "outputs": [
    {
     "name": "stdout",
     "output_type": "stream",
     "text": [
      "[]\n",
      "[87, 95]\n",
      "[87, 95, 147, 258, 399]\n"
     ]
    }
   ],
   "source": [
    "skaiciai = []\n",
    "\n",
    "print(skaiciai)\n",
    "\n",
    "# sąrašo papildymas nurodyta reikšme, pildo į galą\n",
    "skaiciai.append(87)\n",
    "skaiciai.append(95)\n",
    "\n",
    "print(skaiciai)\n",
    "\n",
    "# sąrašo papildymas keliomis nurodytomis reikšmėmis, pildoma į galą\n",
    "skaiciai.extend([147, 258, 399])\n",
    "\n",
    "print(skaiciai)"
   ]
  },
  {
   "cell_type": "code",
   "execution_count": 23,
   "metadata": {},
   "outputs": [
    {
     "name": "stdout",
     "output_type": "stream",
     "text": [
      "Studento pažymiai: [8, 7, 9, 9, 8]\n",
      "Gauta suma: 41\n",
      "Pažymių vidurkis: 8.2\n"
     ]
    }
   ],
   "source": [
    "pazymiai = [8, 7, 9, 9, 8]\n",
    "\n",
    "print('Studento pažymiai:', pazymiai)\n",
    "\n",
    "suma = pazymiai[0] + pazymiai[1] + pazymiai[2] + pazymiai[3] + pazymiai[4]\n",
    "vidurkis = suma / len(pazymiai)\n",
    "\n",
    "print('Gauta suma:', suma)\n",
    "print('Pažymių vidurkis:', vidurkis)"
   ]
  },
  {
   "cell_type": "code",
   "execution_count": 24,
   "metadata": {},
   "outputs": [
    {
     "name": "stdout",
     "output_type": "stream",
     "text": [
      "['Agnė', 'Tomas', 'Gintarė', 'Petras']\n",
      "['Paulina', 'Tomas', 'Gintarė', 'Justas']\n"
     ]
    }
   ],
   "source": [
    "vardai = ['Agnė', 'Tomas', 'Gintarė', 'Petras']\n",
    "\n",
    "print(vardai)\n",
    "\n",
    "vardai[0] = 'Paulina'\n",
    "vardai[3] = 'Justas'\n",
    "\n",
    "print(vardai)"
   ]
  },
  {
   "cell_type": "code",
   "execution_count": 25,
   "metadata": {},
   "outputs": [
    {
     "name": "stdout",
     "output_type": "stream",
     "text": [
      "Naujienų failai: ['naujienos/pirma.txt', 'naujienos/antra.txt', 'naujienos/trecia.txt', 'naujienos/ketvirta.txt', 'naujienos/penkta.txt']\n",
      "Naujienų kiekis: 5\n",
      "\n",
      "Papildomai pridėta naujiena: naujienos/sesta.txt\n",
      "Naujienų failai: ['naujienos/pirma.txt', 'naujienos/antra.txt', 'naujienos/trecia.txt', 'naujienos/ketvirta.txt', 'naujienos/penkta.txt', 'naujienos/sesta.txt']\n",
      "Naujienų kiekis: 6\n"
     ]
    }
   ],
   "source": [
    "failai = [\n",
    "    'naujienos/pirma.txt',\n",
    "    'naujienos/antra.txt',\n",
    "    'naujienos/trecia.txt',\n",
    "    'naujienos/ketvirta.txt',\n",
    "    'naujienos/penkta.txt'\n",
    "]\n",
    "\n",
    "print('Naujienų failai:', failai)\n",
    "print('Naujienų kiekis:', len(failai))\n",
    "print()\n",
    "\n",
    "dar_viena = 'naujienos/sesta.txt'\n",
    "failai.append(dar_viena)\n",
    "\n",
    "print('Papildomai pridėta naujiena:', dar_viena)\n",
    "print('Naujienų failai:', failai)\n",
    "print('Naujienų kiekis:', len(failai))"
   ]
  },
  {
   "cell_type": "code",
   "execution_count": 1,
   "metadata": {},
   "outputs": [
    {
     "name": "stdout",
     "output_type": "stream",
     "text": [
      "range(1, 100)\n",
      "[1, 2, 3, 4, 5, 6, 7, 8, 9, 10, 11, 12, 13, 14, 15, 16, 17, 18, 19, 20, 21, 22, 23, 24, 25, 26, 27, 28, 29, 30, 31, 32, 33, 34, 35, 36, 37, 38, 39, 40, 41, 42, 43, 44, 45, 46, 47, 48, 49, 50, 51, 52, 53, 54, 55, 56, 57, 58, 59, 60, 61, 62, 63, 64, 65, 66, 67, 68, 69, 70, 71, 72, 73, 74, 75, 76, 77, 78, 79, 80, 81, 82, 83, 84, 85, 86, 87, 88, 89, 90, 91, 92, 93, 94, 95, 96, 97, 98, 99]\n"
     ]
    }
   ],
   "source": [
    "print(range(1, 100))\n",
    "print(list(range(1, 100)))"
   ]
  },
  {
   "cell_type": "code",
   "execution_count": 13,
   "metadata": {},
   "outputs": [
    {
     "name": "stdout",
     "output_type": "stream",
     "text": [
      "[]\n",
      "[6, 13]\n"
     ]
    }
   ],
   "source": [
    "from random import randint\n",
    "\n",
    "skaiciai = []\n",
    "print(skaiciai)\n",
    "\n",
    "naujas_sk = randint(1, 10)\n",
    "naujas_sk2 = randint(1, 15)\n",
    "\n",
    "skaiciai.append(naujas_sk)\n",
    "skaiciai.append(naujas_sk2)\n",
    "\n",
    "print(skaiciai)"
   ]
  },
  {
   "cell_type": "code",
   "execution_count": 26,
   "metadata": {},
   "outputs": [
    {
     "name": "stdout",
     "output_type": "stream",
     "text": [
      "[]\n",
      "[4, 3, 5]\n"
     ]
    }
   ],
   "source": [
    "# ši eilutė bus veiksni jeigu būsite prieš tai įvykdę ankstesnį langelį\n",
    "# from random import randint\n",
    "\n",
    "skaiciai = []\n",
    "print(skaiciai)\n",
    "\n",
    "skaiciai.extend([ randint(1, 10), randint(1, 10), randint(1, 10) ])\n",
    "print(skaiciai)"
   ]
  },
  {
   "attachments": {},
   "cell_type": "markdown",
   "metadata": {},
   "source": [
    "## Užduotys"
   ]
  },
  {
   "attachments": {},
   "cell_type": "markdown",
   "metadata": {},
   "source": [
    "### Užduotis 1\n",
    "\n",
    "Susikurkite sąrašą vardams saugoti ir užpildykite jį informacija. Išveskite visą šį sąrašą, tuomet pirmą vardą iš jo, trečią vardą iš jo, paskutinį vardą, bei kiek šiame sąraše yra įvestų vardų."
   ]
  },
  {
   "cell_type": "code",
   "execution_count": 1,
   "metadata": {},
   "outputs": [],
   "source": [
    "# Kodą rašykite čia..."
   ]
  },
  {
   "attachments": {},
   "cell_type": "markdown",
   "metadata": {},
   "source": [
    "### Užduotis 2\n",
    "\n",
    "Susikurkite sąrašą, kuriame būtų išsaugoti prekių pavadinimai (pvz.: obuoliai, kriaušės, morkos, svogūnai, ...). Išveskite viso šio sąrašo informaciją. Pakeiskite trijų pasirinktų narių reikšmes į kitas. Išsiveskite pakeisto sąrašo informaciją."
   ]
  },
  {
   "cell_type": "code",
   "execution_count": null,
   "metadata": {},
   "outputs": [],
   "source": [
    "# Kodą rašykite čia..."
   ]
  },
  {
   "attachments": {},
   "cell_type": "markdown",
   "metadata": {},
   "source": [
    "### Užduotis 3\n",
    "\n",
    "Susikurkite sąrašą žmonių ūgiams saugoti ir užpildykite jį informacija. Išveskite viso šio sąrašo duomenis bei kiek įvestų ūgių turite."
   ]
  },
  {
   "cell_type": "code",
   "execution_count": 2,
   "metadata": {},
   "outputs": [],
   "source": [
    "# Kodą rašykite čia..."
   ]
  },
  {
   "attachments": {},
   "cell_type": "markdown",
   "metadata": {},
   "source": [
    "### Užduotis 4\n",
    "\n",
    "Susikurkite sąrašą, kuriame būtų saugomas miestų sąrašas. Į šį sąrašą iškart įrašykite keletą miestų. Šį sąrašą išveskite, kad matytųsi visi jo duomenys, taip pat, išveskite kiek miestų jame yra. Tuomet šį sąrašą papildykite su `append` ir/ar `extend` metodu. Vėl pakartokite visą jo išvedimą ir kiek narių jame yra.\n",
    "\n",
    "*Papildomai:*\n",
    "\n",
    "Sugalvokite kaip galėtumėte vartotojui parodyti kiek naujų miestų buvo įrašyta į sąrašą. Pvz.: jeigu sąraše buvo Kaunas ir Vilnius, o su `append` / `extend` buvo pridėta dar Klaipėda, Šiauliai ir Biržai, tai tuomet išveskite, kad buvo pridėti 3 nauji miestai. Ši dalis turėtų būti išspręsta su `len` funkcija, tačiau greičiausiai reikės užsisaugoti tarpinius rezultatus."
   ]
  },
  {
   "cell_type": "code",
   "execution_count": null,
   "metadata": {},
   "outputs": [],
   "source": [
    "# Kodą rašykite čia..."
   ]
  },
  {
   "attachments": {},
   "cell_type": "markdown",
   "metadata": {},
   "source": [
    "### Užduotis 5\n",
    "\n",
    "Susikurkite sąrašą pažymiams saugoti. Pamėginkite sukurti programą, kur vartotojas galėtų suvesti norimą kiekį naujų duomenų. Galiausiai išveskite visus pažymius ir jų kiekį."
   ]
  },
  {
   "cell_type": "code",
   "execution_count": 3,
   "metadata": {},
   "outputs": [],
   "source": [
    "# Kodą rašykite čia..."
   ]
  },
  {
   "attachments": {},
   "cell_type": "markdown",
   "metadata": {},
   "source": [
    "### Užduotis 6\n",
    "\n",
    "Susikurkite tuščią sąrašą. Užpildykite šį sąrašą keliais atsitiktinai sugeneruotais skaičiais. Išveskite šio sąrašo informaciją. Raskite turimų skaičių sumą ir vidurkį."
   ]
  },
  {
   "cell_type": "code",
   "execution_count": null,
   "metadata": {},
   "outputs": [],
   "source": [
    "# Kodą rašykite čia..."
   ]
  },
  {
   "attachments": {},
   "cell_type": "markdown",
   "metadata": {},
   "source": [
    "### Užduotis 7\n",
    "\n",
    "Sukurkite du sąrašus dviejų studentų pažymiams saugoti. Įveskite po 3-5 pažymius kiekvienam studentui (iškart kuriant sąrašus arba per `append` / `extend` metodus). Suskaičiuokite ir išveskite jų vidurkius. Išsiaiškinkite kurio studento vidurkis didesnis ir per kiek didesnis nei kito studento vidurkis, išveskite gautus atsakymus."
   ]
  },
  {
   "cell_type": "code",
   "execution_count": null,
   "metadata": {},
   "outputs": [],
   "source": [
    "# Kodą rašykite čia..."
   ]
  }
 ],
 "metadata": {
  "kernelspec": {
   "display_name": "Python 3",
   "language": "python",
   "name": "python3"
  },
  "language_info": {
   "codemirror_mode": {
    "name": "ipython",
    "version": 3
   },
   "file_extension": ".py",
   "mimetype": "text/x-python",
   "name": "python",
   "nbconvert_exporter": "python",
   "pygments_lexer": "ipython3",
   "version": "3.7.9 (tags/v3.7.9:13c94747c7, Aug 17 2020, 18:58:18) [MSC v.1900 64 bit (AMD64)]"
  },
  "orig_nbformat": 4,
  "vscode": {
   "interpreter": {
    "hash": "aa11ca274996316222ef16f35c5f6dbeb467b694c0b2154cdf34dcf9271d5fd0"
   }
  }
 },
 "nbformat": 4,
 "nbformat_minor": 2
}
