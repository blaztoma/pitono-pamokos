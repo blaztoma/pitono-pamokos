{
 "cells": [
  {
   "attachments": {},
   "cell_type": "markdown",
   "metadata": {},
   "source": [
    "[![Open In Colab](https://colab.research.google.com/assets/colab-badge.svg)](https://colab.research.google.com/github/blaztoma/pitono-pamokos/blob/main/pamokos/13%20-%20Sarasai/13-02%20-%20S%C4%85ra%C5%A1ai%20lists%202.ipynb)"
   ]
  },
  {
   "attachments": {},
   "cell_type": "markdown",
   "metadata": {},
   "source": [
    "# Sąrašai (`lists`) (2 dalis)"
   ]
  },
  {
   "attachments": {},
   "cell_type": "markdown",
   "metadata": {},
   "source": [
    "## Pavyzdžiai"
   ]
  },
  {
   "cell_type": "code",
   "execution_count": 7,
   "metadata": {},
   "outputs": [
    {
     "name": "stdout",
     "output_type": "stream",
     "text": [
      "['Justė', 'Tomas', 'Giedrius', 'Evelina', 'Jonas']\n",
      "['Justė', 'Ugnė', 'Tomas', 'Giedrius', 'Evelina', 'Jonas']\n"
     ]
    }
   ],
   "source": [
    "studentai = ['Justė', 'Tomas', 'Giedrius', 'Evelina']\n",
    "\n",
    "# prideda į galą\n",
    "studentai.append('Jonas')\n",
    "\n",
    "print(studentai)\n",
    "\n",
    "# prideda į nurodytą vietą\n",
    "studentai.insert(1, 'Ugnė')\n",
    "\n",
    "print(studentai)"
   ]
  },
  {
   "cell_type": "code",
   "execution_count": 8,
   "metadata": {},
   "outputs": [
    {
     "name": "stdout",
     "output_type": "stream",
     "text": [
      "[7, 5, 8, 9, 6]\n",
      "[7, 5, 8, 9]\n"
     ]
    }
   ],
   "source": [
    "skaiciai = [7, 5, 8, 9, 6]\n",
    "\n",
    "print(skaiciai)\n",
    "\n",
    "# ištrina patį paskutinį narį\n",
    "skaiciai.pop()\n",
    "\n",
    "print(skaiciai)"
   ]
  },
  {
   "cell_type": "code",
   "execution_count": 9,
   "metadata": {},
   "outputs": [
    {
     "name": "stdout",
     "output_type": "stream",
     "text": [
      "[7, 5, 8, 9, 6]\n",
      "[7, 5, 8]\n"
     ]
    }
   ],
   "source": [
    "skaiciai = [7, 5, 8, 9, 6]\n",
    "print(skaiciai)\n",
    "\n",
    "skaiciai.pop()\n",
    "skaiciai.pop()\n",
    "print(skaiciai)"
   ]
  },
  {
   "cell_type": "code",
   "execution_count": 10,
   "metadata": {},
   "outputs": [
    {
     "name": "stdout",
     "output_type": "stream",
     "text": [
      "[7, 5, 8, 9, 6]\n",
      "[5, 8, 9, 6]\n"
     ]
    }
   ],
   "source": [
    "skaiciai = [7, 5, 8, 9, 6]\n",
    "\n",
    "print(skaiciai)\n",
    "\n",
    "# ištrina iš nurodytos vietos (indekso)\n",
    "skaiciai.pop(0)\n",
    "\n",
    "print(skaiciai)"
   ]
  },
  {
   "cell_type": "code",
   "execution_count": 11,
   "metadata": {},
   "outputs": [
    {
     "name": "stdout",
     "output_type": "stream",
     "text": [
      "[7, 5, 8, 9, 6]\n",
      "[]\n"
     ]
    }
   ],
   "source": [
    "skaiciai = [7, 5, 8, 9, 6]\n",
    "\n",
    "print(skaiciai)\n",
    "\n",
    "# pilnai išvalo visą sąrašą\n",
    "skaiciai.clear()\n",
    "\n",
    "print(skaiciai)"
   ]
  },
  {
   "cell_type": "code",
   "execution_count": 13,
   "metadata": {},
   "outputs": [
    {
     "name": "stdout",
     "output_type": "stream",
     "text": [
      "3\n"
     ]
    }
   ],
   "source": [
    "skaiciai = [7, 5, 8, 9, 6]\n",
    "\n",
    "# pasako kurioje sąrašo vietoje (kuriame indekse) yra nurodyta reikšmė\n",
    "print(skaiciai.index(9))"
   ]
  },
  {
   "cell_type": "code",
   "execution_count": 14,
   "metadata": {},
   "outputs": [
    {
     "name": "stdout",
     "output_type": "stream",
     "text": [
      "2\n"
     ]
    }
   ],
   "source": [
    "tekstas = ['mano', 'batai', 'buvo', 'du']\n",
    "\n",
    "# pasako kurioje sąrašo vietoje (kuriame indekse) yra nurodyta reikšmė\n",
    "print(tekstas.index('buvo'))"
   ]
  },
  {
   "cell_type": "code",
   "execution_count": 15,
   "metadata": {},
   "outputs": [
    {
     "ename": "ValueError",
     "evalue": "'batai' is not in list",
     "output_type": "error",
     "traceback": [
      "\u001b[1;31m---------------------------------------------------------------------------\u001b[0m",
      "\u001b[1;31mValueError\u001b[0m                                Traceback (most recent call last)",
      "\u001b[1;32m~\\AppData\\Local\\Temp\\ipykernel_24848\\251514050.py\u001b[0m in \u001b[0;36m<module>\u001b[1;34m\u001b[0m\n\u001b[0;32m      3\u001b[0m \u001b[1;31m# pasako kurioje sąrašo vietoje (kuriame indekse) yra nurodyta reikšmė,\u001b[0m\u001b[1;33m\u001b[0m\u001b[1;33m\u001b[0m\u001b[1;33m\u001b[0m\u001b[0m\n\u001b[0;32m      4\u001b[0m \u001b[1;31m# bet pradeda paiešką ties 2-u indeksu, o baigia ties 3-u\u001b[0m\u001b[1;33m\u001b[0m\u001b[1;33m\u001b[0m\u001b[1;33m\u001b[0m\u001b[0m\n\u001b[1;32m----> 5\u001b[1;33m \u001b[0mprint\u001b[0m\u001b[1;33m(\u001b[0m\u001b[0mtekstas\u001b[0m\u001b[1;33m.\u001b[0m\u001b[0mindex\u001b[0m\u001b[1;33m(\u001b[0m\u001b[1;34m'batai'\u001b[0m\u001b[1;33m,\u001b[0m \u001b[1;36m2\u001b[0m\u001b[1;33m,\u001b[0m \u001b[1;36m3\u001b[0m\u001b[1;33m)\u001b[0m\u001b[1;33m)\u001b[0m\u001b[1;33m\u001b[0m\u001b[1;33m\u001b[0m\u001b[0m\n\u001b[0m",
      "\u001b[1;31mValueError\u001b[0m: 'batai' is not in list"
     ]
    }
   ],
   "source": [
    "tekstas = ['mano', 'batai', 'buvo', 'du']\n",
    "\n",
    "# pasako kurioje sąrašo vietoje (kuriame indekse) yra nurodyta reikšmė,\n",
    "# bet pradeda paiešką ties 2-u indeksu, o baigia ties 3-u\n",
    "print(tekstas.index('batai', 2, 3))"
   ]
  },
  {
   "cell_type": "code",
   "execution_count": 16,
   "metadata": {},
   "outputs": [
    {
     "name": "stdout",
     "output_type": "stream",
     "text": [
      "1\n"
     ]
    }
   ],
   "source": [
    "tekstas = ['mano', 'batai', 'buvo', 'du']\n",
    "\n",
    "# pasako kurioje sąrašo vietoje (kuriame indekse) yra nurodyta reikšmė,\n",
    "# bet pradeda paiešką ties 1-u indeksu, o baigia ties 3-u\n",
    "print(tekstas.index('batai', 1, 3))"
   ]
  },
  {
   "cell_type": "code",
   "execution_count": 1,
   "metadata": {},
   "outputs": [
    {
     "name": "stdout",
     "output_type": "stream",
     "text": [
      "True\n"
     ]
    }
   ],
   "source": [
    "zodziai = ['popierius', 'kompiuteris', 'knyga', 'popierius', 'medis']\n",
    "\n",
    "# pasako ar sąraše yra tokia reikšmė\n",
    "print('knyga' in zodziai)"
   ]
  },
  {
   "cell_type": "code",
   "execution_count": 2,
   "metadata": {},
   "outputs": [
    {
     "name": "stdout",
     "output_type": "stream",
     "text": [
      "False\n"
     ]
    }
   ],
   "source": [
    "zodziai = ['popierius', 'kompiuteris', 'knyga', 'popierius', 'medis']\n",
    "\n",
    "# pasako ar sąraše yra tokia reikšmė\n",
    "print('x' in zodziai)"
   ]
  },
  {
   "cell_type": "code",
   "execution_count": 3,
   "metadata": {},
   "outputs": [
    {
     "name": "stdout",
     "output_type": "stream",
     "text": [
      "True\n"
     ]
    }
   ],
   "source": [
    "# pasako ar tekste yra tokia reikšmė\n",
    "print('m' in 'labas mano vardas Ieva')"
   ]
  },
  {
   "cell_type": "code",
   "execution_count": 23,
   "metadata": {},
   "outputs": [
    {
     "name": "stdout",
     "output_type": "stream",
     "text": [
      "Kaunas tarp miestų rastas.\n",
      "Biržai tarp miestų nerastas.\n"
     ]
    }
   ],
   "source": [
    "miestai = ['Vilnius', 'Kaunas', 'Klaipėda', 'Šiauliai']\n",
    "\n",
    "if 'Kaunas' in miestai:\n",
    "    print('Kaunas tarp miestų rastas.')\n",
    "else:\n",
    "    print('Kaunas tarp miestų nerastas.')\n",
    "\n",
    "if 'Biržai' in miestai:\n",
    "    print('Biržai tarp miestų rastas.')\n",
    "else:\n",
    "    print('Biržai tarp miestų nerastas.')"
   ]
  },
  {
   "cell_type": "code",
   "execution_count": 4,
   "metadata": {},
   "outputs": [
    {
     "name": "stdout",
     "output_type": "stream",
     "text": [
      "2\n"
     ]
    }
   ],
   "source": [
    "zodziai = ['popierius', 'kompiuteris', 'knyga', 'popierius', 'medis']\n",
    "\n",
    "# pasako kiek kartų šita reikšmė rasta sąraše\n",
    "print(zodziai.count('popierius'))"
   ]
  },
  {
   "attachments": {},
   "cell_type": "markdown",
   "metadata": {},
   "source": [
    "## Užduotys"
   ]
  },
  {
   "attachments": {},
   "cell_type": "markdown",
   "metadata": {},
   "source": [
    "### Užduotis 1\n",
    "\n",
    "Susikurkite miestų sąrašą. Į šį sąrašą pridėkite duomenų kurdami patį sąrašą. Toliau sukurkite galimybę vartotojui papildyti sąrašą. Išveskite tiek pradinį sąrašą, tiek papildytą duomenimis. Pamėginkite papildyti programą taip, kad vartotojas galėtų pasirinkti į kurią sąrašo vietą būtų įrašytas naujas miestas."
   ]
  },
  {
   "cell_type": "code",
   "execution_count": 1,
   "metadata": {},
   "outputs": [],
   "source": [
    "# Kodą rašykite čia..."
   ]
  },
  {
   "attachments": {},
   "cell_type": "markdown",
   "metadata": {},
   "source": [
    "### Užduotis 2\n",
    "\n",
    "Sukurkite pasirinktą sąrašą ir užpildykite jį duomenimis. Iš jo pašalinkite keletą įrašų, tiesiog panaudojant `pop()` metodą. Taip pat padarykite taip, kad vartotojas galėtų pasirinkti kiek dar duomenų pašalinti ir pašalinkite iš sąrašo pasirinktą kiekį įrašų."
   ]
  },
  {
   "cell_type": "code",
   "execution_count": null,
   "metadata": {},
   "outputs": [],
   "source": [
    "# Kodą rašykite čia..."
   ]
  },
  {
   "attachments": {},
   "cell_type": "markdown",
   "metadata": {},
   "source": [
    "### Užduotis 3\n",
    "\n",
    "Sukurkite sąrašą su pasirinktais duomenimis. Patikrinkite ar sąraše yra daugiau nei 5 įrašai ir jeigu taip - jį išvalykite (`clear()` metodas)."
   ]
  },
  {
   "cell_type": "code",
   "execution_count": null,
   "metadata": {},
   "outputs": [],
   "source": [
    "# Kodą rašykite čia..."
   ]
  },
  {
   "attachments": {},
   "cell_type": "markdown",
   "metadata": {},
   "source": [
    "### Užduotis 4\n",
    "\n",
    "Sukurkite sąrašą, kuriame būtų surašyti bet kokie žodžiai. Leiskite vartotojui atlikti paiešką tame sąraše - vartotojas įvestų norimą žodį ir programa pasakytų ar tame sąraše tas žodis yra ir jeigu yra, tai kurioje vietoje."
   ]
  },
  {
   "cell_type": "code",
   "execution_count": null,
   "metadata": {},
   "outputs": [],
   "source": [
    "# Kodą rašykite čia..."
   ]
  },
  {
   "attachments": {},
   "cell_type": "markdown",
   "metadata": {},
   "source": [
    "### Užduotis 5\n",
    "\n",
    "Sukurkite sąrašą, kuriame būtų surašyti studentų pažymiai. Galite padaryti taip, kad pasirinktą kiekį pažymių galėtų suvesti pats vartotojas. Programa turi pasakyti kiek dešimtukų studentas turi."
   ]
  },
  {
   "cell_type": "code",
   "execution_count": null,
   "metadata": {},
   "outputs": [],
   "source": [
    "# Kodą rašykite čia..."
   ]
  }
 ],
 "metadata": {
  "kernelspec": {
   "display_name": "Python 3",
   "language": "python",
   "name": "python3"
  },
  "language_info": {
   "codemirror_mode": {
    "name": "ipython",
    "version": 3
   },
   "file_extension": ".py",
   "mimetype": "text/x-python",
   "name": "python",
   "nbconvert_exporter": "python",
   "pygments_lexer": "ipython3",
   "version": "3.7.9 (tags/v3.7.9:13c94747c7, Aug 17 2020, 18:58:18) [MSC v.1900 64 bit (AMD64)]"
  },
  "orig_nbformat": 4,
  "vscode": {
   "interpreter": {
    "hash": "aa11ca274996316222ef16f35c5f6dbeb467b694c0b2154cdf34dcf9271d5fd0"
   }
  }
 },
 "nbformat": 4,
 "nbformat_minor": 2
}
