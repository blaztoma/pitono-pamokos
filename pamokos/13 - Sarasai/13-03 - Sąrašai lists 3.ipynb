{
 "cells": [
  {
   "attachments": {},
   "cell_type": "markdown",
   "metadata": {},
   "source": [
    "[![Open In Colab](https://colab.research.google.com/assets/colab-badge.svg)](https://colab.research.google.com/github/blaztoma/pitono-pamokos/blob/main/pamokos/13%20-%20Sarasai/13-03%20-%20S%C4%85ra%C5%A1ai%20lists%203.ipynb)"
   ]
  },
  {
   "attachments": {},
   "cell_type": "markdown",
   "metadata": {},
   "source": [
    "# Sąrašai (`lists`) (3 dalis)"
   ]
  },
  {
   "attachments": {},
   "cell_type": "markdown",
   "metadata": {},
   "source": [
    "## Pavyzdžiai"
   ]
  },
  {
   "attachments": {},
   "cell_type": "markdown",
   "metadata": {},
   "source": [
    "Rūšiavimui naudojamas sąrašo objekto metodas `sort()`. Šis metodas surūšiuos sąrašo elementus."
   ]
  },
  {
   "cell_type": "code",
   "execution_count": null,
   "metadata": {},
   "outputs": [],
   "source": [
    "zodziai = ['popierius', 'kompiuteris', 'knyga', 'popierius', 'medis']\n",
    "\n",
    "# surikiuoja duomenis sąraše, pakeisdamas originalų sąrašą\n",
    "zodziai.sort()\n",
    "\n",
    "print(zodziai)"
   ]
  },
  {
   "attachments": {},
   "cell_type": "markdown",
   "metadata": {},
   "source": [
    "Rūšiavimui galime naudoti ir funkciją `sort()`. Ši funkcija sukurs naują sąrašą, kuriame bus surūšiuoti elementai, tačiau seno sąrašo nepakeis."
   ]
  },
  {
   "cell_type": "code",
   "execution_count": null,
   "metadata": {},
   "outputs": [],
   "source": [
    "zodziai = ['popierius', 'kompiuteris', 'knyga', 'popierius', 'medis']\n",
    "\n",
    "# surikiuoja duomenis, bet grąžina naują sąrašą\n",
    "print(sorted(zodziai))"
   ]
  },
  {
   "attachments": {},
   "cell_type": "markdown",
   "metadata": {},
   "source": [
    "Šis pavyzdys kaip tik tai ir iliustruoja."
   ]
  },
  {
   "cell_type": "code",
   "execution_count": null,
   "metadata": {},
   "outputs": [],
   "source": [
    "zodziai = ['popierius', 'kompiuteris', 'knyga', 'popierius', 'medis']\n",
    "print(sorted(zodziai)) # sorted grąžina naują sąrašą\n",
    "print(zodziai)"
   ]
  },
  {
   "attachments": {},
   "cell_type": "markdown",
   "metadata": {},
   "source": [
    "Sąrašo metodas `reverse()` surikiuoja elementus atvirkštine tvarka."
   ]
  },
  {
   "cell_type": "code",
   "execution_count": null,
   "metadata": {},
   "outputs": [],
   "source": [
    "zodziai = ['popierius', 'kompiuteris', 'knyga', 'popierius', 'medis']\n",
    "\n",
    "# apverčia iš kitos pusės\n",
    "zodziai.reverse()\n",
    "\n",
    "print(zodziai)"
   ]
  },
  {
   "attachments": {},
   "cell_type": "markdown",
   "metadata": {},
   "source": [
    "Kombinuodami `reverse()` su `sort()`, galime gauti atvirkštine tvarka rūšiuotą sąrašą."
   ]
  },
  {
   "cell_type": "code",
   "execution_count": null,
   "metadata": {},
   "outputs": [],
   "source": [
    "zodziai = ['popierius', 'kompiuteris', 'knyga', 'popierius', 'medis']\n",
    "\n",
    "# surikiuoja\n",
    "zodziai.sort()\n",
    "\n",
    "# apverčia iš kitos pusės\n",
    "zodziai.reverse()\n",
    "\n",
    "print(zodziai)"
   ]
  },
  {
   "attachments": {},
   "cell_type": "markdown",
   "metadata": {},
   "source": [
    "## Užduotys"
   ]
  },
  {
   "attachments": {},
   "cell_type": "markdown",
   "metadata": {},
   "source": [
    "### Užduotis 1\n",
    "\n",
    "Sukurkite automobilių modelių sąrašą ir užpildykite jį duomenimis. Atspausdinkite įvestą sąrašą. Surikiuokite automobilių modelius didėjimo tvarka ir atspausdinkite. Taip pat, surikiuokite mažėjimo tvarka ir vėl atspausdinkite."
   ]
  },
  {
   "cell_type": "code",
   "execution_count": null,
   "metadata": {},
   "outputs": [],
   "source": [
    "# Kodą rašykite čia..."
   ]
  },
  {
   "attachments": {},
   "cell_type": "markdown",
   "metadata": {},
   "source": [
    "### Užduotis 2\n",
    "\n",
    "Sukurkite studento pažymių sąrašą ir užpildykite jį duomenimis. Atspausdinkite tris didžiausius pažymius."
   ]
  },
  {
   "cell_type": "code",
   "execution_count": null,
   "metadata": {},
   "outputs": [],
   "source": [
    "# Kodą rašykite čia..."
   ]
  },
  {
   "attachments": {},
   "cell_type": "markdown",
   "metadata": {},
   "source": [
    "### Užduotis 3\n",
    "\n",
    "Sukurkite studentų pažymių sąrašą ir užpildykite jį duomenimis. Jeigu studentas turi nepatenkinamų pažymių (1, 2, 3, arba 4), atspausdinkite tokių pažymių kiekį (pvz.: pažymys 2 - 3 vnt., pažymys 4 - 1 vnt.)."
   ]
  },
  {
   "cell_type": "code",
   "execution_count": null,
   "metadata": {},
   "outputs": [],
   "source": [
    "# Kodą rašykite čia..."
   ]
  }
 ],
 "metadata": {
  "kernelspec": {
   "display_name": "Python 3",
   "language": "python",
   "name": "python3"
  },
  "language_info": {
   "codemirror_mode": {
    "name": "ipython",
    "version": 3
   },
   "file_extension": ".py",
   "mimetype": "text/x-python",
   "name": "python",
   "nbconvert_exporter": "python",
   "pygments_lexer": "ipython3",
   "version": "3.7.9 (tags/v3.7.9:13c94747c7, Aug 17 2020, 18:58:18) [MSC v.1900 64 bit (AMD64)]"
  },
  "orig_nbformat": 4,
  "vscode": {
   "interpreter": {
    "hash": "aa11ca274996316222ef16f35c5f6dbeb467b694c0b2154cdf34dcf9271d5fd0"
   }
  }
 },
 "nbformat": 4,
 "nbformat_minor": 2
}
