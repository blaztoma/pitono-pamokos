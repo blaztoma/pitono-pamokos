{
 "cells": [
  {
   "attachments": {},
   "cell_type": "markdown",
   "metadata": {},
   "source": [
    "# Sąrašai (`lists`) (3 dalis)"
   ]
  },
  {
   "attachments": {},
   "cell_type": "markdown",
   "metadata": {},
   "source": [
    "## Pavyzdžiai"
   ]
  },
  {
   "cell_type": "code",
   "execution_count": 1,
   "metadata": {},
   "outputs": [
    {
     "name": "stdout",
     "output_type": "stream",
     "text": [
      "['knyga', 'kompiuteris', 'medis', 'popierius', 'popierius']\n"
     ]
    }
   ],
   "source": [
    "zodziai = ['popierius', 'kompiuteris', 'knyga', 'popierius', 'medis']\n",
    "\n",
    "# surikiuoja duomenis sąraše, pakeisdamas originalų sąrašą\n",
    "zodziai.sort()\n",
    "\n",
    "print(zodziai)"
   ]
  },
  {
   "cell_type": "code",
   "execution_count": 2,
   "metadata": {},
   "outputs": [
    {
     "name": "stdout",
     "output_type": "stream",
     "text": [
      "['knyga', 'kompiuteris', 'medis', 'popierius', 'popierius']\n"
     ]
    }
   ],
   "source": [
    "zodziai = ['popierius', 'kompiuteris', 'knyga', 'popierius', 'medis']\n",
    "\n",
    "# surikiuoja duomenis, bet grąžina naują sąrašą\n",
    "print(sorted(zodziai))"
   ]
  },
  {
   "cell_type": "code",
   "execution_count": 3,
   "metadata": {},
   "outputs": [
    {
     "name": "stdout",
     "output_type": "stream",
     "text": [
      "['knyga', 'kompiuteris', 'medis', 'popierius', 'popierius']\n",
      "['popierius', 'kompiuteris', 'knyga', 'popierius', 'medis']\n"
     ]
    }
   ],
   "source": [
    "zodziai = ['popierius', 'kompiuteris', 'knyga', 'popierius', 'medis']\n",
    "print(sorted(zodziai)) # sorted grąžina naują sąrašą\n",
    "print(zodziai)"
   ]
  },
  {
   "cell_type": "code",
   "execution_count": 4,
   "metadata": {},
   "outputs": [
    {
     "name": "stdout",
     "output_type": "stream",
     "text": [
      "['medis', 'popierius', 'knyga', 'kompiuteris', 'popierius']\n"
     ]
    }
   ],
   "source": [
    "zodziai = ['popierius', 'kompiuteris', 'knyga', 'popierius', 'medis']\n",
    "\n",
    "# apverčia iš kitos pusės\n",
    "zodziai.reverse()\n",
    "\n",
    "print(zodziai)"
   ]
  },
  {
   "cell_type": "code",
   "execution_count": 5,
   "metadata": {},
   "outputs": [
    {
     "name": "stdout",
     "output_type": "stream",
     "text": [
      "['popierius', 'popierius', 'medis', 'kompiuteris', 'knyga']\n"
     ]
    }
   ],
   "source": [
    "zodziai = ['popierius', 'kompiuteris', 'knyga', 'popierius', 'medis']\n",
    "\n",
    "# surikiuoja\n",
    "zodziai.sort()\n",
    "\n",
    "# apverčia iš kitos pusės\n",
    "zodziai.reverse()\n",
    "\n",
    "print(zodziai)"
   ]
  },
  {
   "attachments": {},
   "cell_type": "markdown",
   "metadata": {},
   "source": [
    "## Užduotys"
   ]
  },
  {
   "attachments": {},
   "cell_type": "markdown",
   "metadata": {},
   "source": [
    "### Užduotis 1\n",
    "\n",
    "Susikurkite automobilių markių sąrašą ir užpildykite jį duomenimis (sąrašo kūrimo metu arba su vartotojo įvestimi). Išveskite turimus duomenis ekrane. Tuomet surikiuokite automobilių markes didėjimo tvarka ir išveskite. Taip pat, surikiuokite mažėjimo tvarka ir išveskite."
   ]
  },
  {
   "cell_type": "code",
   "execution_count": 6,
   "metadata": {},
   "outputs": [],
   "source": [
    "# Kodą rašykite čia..."
   ]
  },
  {
   "attachments": {},
   "cell_type": "markdown",
   "metadata": {},
   "source": [
    "### Užduotis 2\n",
    "\n",
    "Susikurkite studento pažymių sąrašą ir užpildykite duomenimis. Išveskite tris didžiausius turimus pažymius."
   ]
  },
  {
   "cell_type": "code",
   "execution_count": 7,
   "metadata": {},
   "outputs": [],
   "source": [
    "# Kodą rašykite čia..."
   ]
  },
  {
   "attachments": {},
   "cell_type": "markdown",
   "metadata": {},
   "source": [
    "### Užduotis 3\n",
    "\n",
    "Susikurkite studentų pažymių sąrašą ir užpildykite duomenimis. Jeigu studentas turi neigiamų pažymių (1, 2, 3, arba 4), išveskite kiek tokių pažymių jis turi (pvz.: pažymio 2 turi 3 vnt., pažymio 4 turi 1 vnt.)."
   ]
  },
  {
   "cell_type": "code",
   "execution_count": 8,
   "metadata": {},
   "outputs": [],
   "source": [
    "# Kodą rašykite čia..."
   ]
  }
 ],
 "metadata": {
  "kernelspec": {
   "display_name": "Python 3",
   "language": "python",
   "name": "python3"
  },
  "language_info": {
   "codemirror_mode": {
    "name": "ipython",
    "version": 3
   },
   "file_extension": ".py",
   "mimetype": "text/x-python",
   "name": "python",
   "nbconvert_exporter": "python",
   "pygments_lexer": "ipython3",
   "version": "3.7.9"
  },
  "orig_nbformat": 4,
  "vscode": {
   "interpreter": {
    "hash": "aa11ca274996316222ef16f35c5f6dbeb467b694c0b2154cdf34dcf9271d5fd0"
   }
  }
 },
 "nbformat": 4,
 "nbformat_minor": 2
}
