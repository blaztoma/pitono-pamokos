{
 "cells": [
  {
   "attachments": {},
   "cell_type": "markdown",
   "metadata": {},
   "source": [
    "# Sąrašai (`lists`) (4 dalis)"
   ]
  },
  {
   "attachments": {},
   "cell_type": "markdown",
   "metadata": {},
   "source": [
    "## Sąrašo karpymas (list slicing)\n",
    "\n",
    "Jeigu norime išsikarpyti tam tikras dalis iš sąrašo, tam mes galime naudoti metodiką pavadintą `list slicing`.\n",
    "\n",
    "Pats karpymas vyksta nurodant tam tikrus parametus tarp `[ ]` skliaustelių.\n",
    "\n",
    "Po karpymo yra grąžinamas naujas sąrašas.\n",
    "\n",
    "## Sintaksė\n",
    "\n",
    "Karpant sąrašą mes galima nurodyti norimus iškirpti rėžius tokiu būdu:\n",
    "\n",
    "```\n",
    "saraso_pavadinimas[pradzia:pabaiga]\n",
    "saraso_pavadinimas[pradzia:pabaiga:zingsnis]\n",
    "```\n",
    "\n",
    "Paaiškinimai:\n",
    "\n",
    "- `saraso_pavadinimas` - iš kurio sąrašo imama informacija.\n",
    "- `pradzia` - indeksas kuriuo pradedamas karpymas (įeina).\n",
    "- `pabaiga` - indeksas, kuriuo baigiamas karpymas (neįeina).\n",
    "- `zingsnis` - kiek elementų praleisti po kiekvieno paimto elemento.\n",
    "\n",
    "Karpant nebūtina nurodyti visų reikšmių.\n",
    "\n",
    "Viskas nuo pradžios iki nurodytos pabaigos:\n",
    "\n",
    "```\n",
    "saraso_pavadinimas[:pabaiga]\n",
    "```\n",
    "\n",
    "Viskas nuo nurodytos pradžios iki visiškai pabaigos:\n",
    "\n",
    "```\n",
    "saraso_pavadinimas[pradzia:]\n",
    "```\n",
    "\n",
    "Viskas nuo pradžios iki pabaigos:\n",
    "\n",
    "```\n",
    "saraso_pavadinimas[:]\n",
    "```\n",
    "\n",
    "Viskas nuo pradžios iki nurodytos pabaigos, darant nurodytą žingsnį:\n",
    "\n",
    "```\n",
    "saraso_pavadinimas[:pabaiga:zingsnis]\n",
    "```\n",
    "\n",
    "Viskas nuo nurodytos pradžios iki visiškai pabaigos, darant nurodytą žingsnį:\n",
    "\n",
    "```\n",
    "saraso_pavadinimas[pradzia::zingsnis]\n",
    "```\n",
    "\n",
    "Ir t.t."
   ]
  },
  {
   "attachments": {},
   "cell_type": "markdown",
   "metadata": {},
   "source": [
    "## Pavyzdžiai"
   ]
  },
  {
   "cell_type": "code",
   "execution_count": 1,
   "metadata": {},
   "outputs": [
    {
     "name": "stdout",
     "output_type": "stream",
     "text": [
      "Visi: ['medis', 'kriaušė', 'popierius', 'medis', 'gintaras']\n",
      "Kai [0]: medis\n",
      "Kai [0:2]: ['medis', 'kriaušė']\n",
      "Kai [1:4]: ['kriaušė', 'popierius', 'medis']\n"
     ]
    }
   ],
   "source": [
    "zodziai = ['medis', 'kriaušė', 'popierius', 'medis', 'gintaras']\n",
    "\n",
    "print('Visi:', zodziai)\n",
    "\n",
    "print('Kai [0]:', zodziai[0]) # [indeksas]\n",
    "print('Kai [0:2]:', zodziai[0:2]) # [pradzia:pabaiga]\n",
    "print('Kai [1:4]:', zodziai[1:4]) # [pradzia:pabaiga]"
   ]
  },
  {
   "cell_type": "code",
   "execution_count": 2,
   "metadata": {},
   "outputs": [
    {
     "name": "stdout",
     "output_type": "stream",
     "text": [
      "Visi: ['medis', 'kriaušė', 'popierius', 'medis', 'gintaras']\n",
      "Kai [2:]: ['popierius', 'medis', 'gintaras']\n",
      "Kai [:3]: ['medis', 'kriaušė', 'popierius']\n"
     ]
    }
   ],
   "source": [
    "zodziai = ['medis', 'kriaušė', 'popierius', 'medis', 'gintaras']\n",
    "\n",
    "print('Visi:', zodziai)\n",
    "\n",
    "print('Kai [2:]:', zodziai[2:]) # [pradzia:pabaiga]\n",
    "print('Kai [:3]:', zodziai[:3]) # [pradzia:pabaiga]"
   ]
  },
  {
   "cell_type": "code",
   "execution_count": 3,
   "metadata": {},
   "outputs": [
    {
     "name": "stdout",
     "output_type": "stream",
     "text": [
      "Visi: ['medis', 'kriaušė', 'popierius', 'medis', 'gintaras']\n",
      "Kai [0::1]: ['medis', 'kriaušė', 'popierius', 'medis', 'gintaras']\n",
      "Kai [::1]: ['medis', 'kriaušė', 'popierius', 'medis', 'gintaras']\n",
      "Kai [0::2]: ['medis', 'popierius', 'gintaras']\n",
      "Kai [::2]: ['medis', 'popierius', 'gintaras']\n"
     ]
    }
   ],
   "source": [
    "zodziai = ['medis', 'kriaušė', 'popierius', 'medis', 'gintaras']\n",
    "\n",
    "print('Visi:', zodziai)\n",
    "\n",
    "print('Kai [0::1]:', zodziai[0::1]) # [pradzia:pabaiga:zingsnis]\n",
    "print('Kai [::1]:', zodziai[::1]) # [pradzia:pabaiga:zingsnis]\n",
    "print('Kai [0::2]:', zodziai[0::2]) # [pradzia:pabaiga:zingsnis]\n",
    "print('Kai [::2]:', zodziai[::2]) # [pradzia:pabaiga:zingsnis]"
   ]
  },
  {
   "cell_type": "code",
   "execution_count": 4,
   "metadata": {},
   "outputs": [
    {
     "name": "stdout",
     "output_type": "stream",
     "text": [
      "Visi: [7, 8, 6, 5, 8, 7, 6, 5, 2, 3]\n",
      "Kai [2:8:2]: [6, 8, 6]\n",
      "Kai [4::3]: [8, 5]\n"
     ]
    }
   ],
   "source": [
    "skaiciai = [7, 8, 6, 5, 8, 7, 6, 5, 2, 3]\n",
    "\n",
    "print('Visi:', skaiciai)\n",
    "\n",
    "print('Kai [2:8:2]:', skaiciai[2:8:2]) # [pradzia:pabaiga:zingsnis]\n",
    "print('Kai [4::3]:', skaiciai[4::3]) # [pradzia:pabaiga:zingsnis]"
   ]
  },
  {
   "cell_type": "code",
   "execution_count": 5,
   "metadata": {},
   "outputs": [
    {
     "name": "stdout",
     "output_type": "stream",
     "text": [
      "['audi', 'bmw', 'volvo', 'mercedes', 'opel']\n",
      "['volvo', 'mercedes', 'opel']\n"
     ]
    }
   ],
   "source": [
    "masinos = ['audi', 'bmw', 'volvo', 'mercedes', 'opel']\n",
    "\n",
    "atrinktos = masinos[2:] # [pradzia:pabaiga]\n",
    "\n",
    "print(masinos)\n",
    "print(atrinktos)"
   ]
  },
  {
   "cell_type": "code",
   "execution_count": 6,
   "metadata": {},
   "outputs": [
    {
     "name": "stdout",
     "output_type": "stream",
     "text": [
      "['medis', 'popierius', 'knyga', 'kompiuteris', 'popierius']\n",
      "['popierius', 'kompiuteris', 'knyga', 'popierius', 'medis']\n"
     ]
    }
   ],
   "source": [
    "zodziai = ['popierius', 'kompiuteris', 'knyga', 'popierius', 'medis']\n",
    "\n",
    "# apverčia\n",
    "zodziai.reverse()\n",
    "\n",
    "print(zodziai)\n",
    "\n",
    "# taip pat apverčia, bet sukuria naują sąrašą\n",
    "print(zodziai[::-1]) # [pradzia:pabaiga:zingsnis]"
   ]
  },
  {
   "cell_type": "code",
   "execution_count": 7,
   "metadata": {},
   "outputs": [
    {
     "name": "stdout",
     "output_type": "stream",
     "text": [
      "MAŠINOS: ['audi', 'bmw', 'volvo', 'mercedes', 'bentley']\n",
      "KOPIJA: ['audi', 'bmw', 'volvo', 'mercedes', 'bentley']\n",
      "MAŠINOS: ['audi', 'NAUJAS', 'volvo', 'mercedes', 'bentley']\n",
      "KOPIJA: ['audi', 'bmw', 'volvo', 'mercedes', 'bentley']\n"
     ]
    }
   ],
   "source": [
    "masinos = ['audi', 'bmw', 'volvo', 'mercedes', 'opel']\n",
    "masinos[4] = 'bentley'\n",
    "\n",
    "print('MAŠINOS:', masinos)\n",
    "\n",
    "kopija = masinos[:] # [pradzia:pabaiga]\n",
    "print('KOPIJA:', kopija)\n",
    "\n",
    "masinos[1] = 'NAUJAS'\n",
    "print('MAŠINOS:', masinos)\n",
    "print('KOPIJA:', kopija)"
   ]
  },
  {
   "cell_type": "code",
   "execution_count": 8,
   "metadata": {},
   "outputs": [
    {
     "name": "stdout",
     "output_type": "stream",
     "text": [
      "MAŠINOS: ['audi', 'bmw', 'volvo', 'mercedes', 'bentley']\n",
      "KOPIJA: ['audi', 'bmw', 'volvo', 'mercedes', 'bentley']\n",
      "MAŠINOS: ['audi', 'NAUJAS', 'volvo', 'mercedes', 'bentley']\n",
      "KOPIJA: ['audi', 'NAUJAS', 'volvo', 'mercedes', 'bentley']\n"
     ]
    }
   ],
   "source": [
    "masinos = ['audi', 'bmw', 'volvo', 'mercedes', 'opel']\n",
    "masinos[4] = 'bentley'\n",
    "\n",
    "print('MAŠINOS:', masinos)\n",
    "\n",
    "kopija = masinos\n",
    "print('KOPIJA:', kopija)\n",
    "\n",
    "masinos[1] = 'NAUJAS'\n",
    "print('MAŠINOS:', masinos)\n",
    "print('KOPIJA:', kopija)"
   ]
  },
  {
   "cell_type": "code",
   "execution_count": 15,
   "metadata": {},
   "outputs": [
    {
     "name": "stdout",
     "output_type": "stream",
     "text": [
      "Ar sąrašų reikšmės sutampa: True\n",
      "Ar sąrašai atmintyje yra tas pats: False\n"
     ]
    }
   ],
   "source": [
    "masinos = ['audi', 'bmw', 'volvo', 'mercedes', 'opel']\n",
    "kopija = masinos[:] # [pradzia:pabaiga]\n",
    "\n",
    "print('Ar sąrašų reikšmės sutampa:', masinos == kopija)\n",
    "print('Ar sąrašai atmintyje yra tas pats:', masinos is kopija)"
   ]
  },
  {
   "cell_type": "code",
   "execution_count": 16,
   "metadata": {},
   "outputs": [
    {
     "name": "stdout",
     "output_type": "stream",
     "text": [
      "Ar sąrašų reikšmės sutampa: True\n",
      "Ar sąrašai atmintyje yra tas pats: True\n"
     ]
    }
   ],
   "source": [
    "masinos = ['audi', 'bmw', 'volvo', 'mercedes', 'opel']\n",
    "kopija = masinos\n",
    "\n",
    "print('Ar sąrašų reikšmės sutampa:', masinos == kopija)\n",
    "print('Ar sąrašai atmintyje yra tas pats:', masinos is kopija)"
   ]
  },
  {
   "attachments": {},
   "cell_type": "markdown",
   "metadata": {},
   "source": [
    "## Užduotys"
   ]
  },
  {
   "attachments": {},
   "cell_type": "markdown",
   "metadata": {},
   "source": [
    "### Užduotis 1\n",
    "\n",
    "Susikurkite pasirinktą sąrašą su duomenimis. Pritaikykite list slicing tokiais būdais ir gautus atsakymus išveskite:\n",
    "\n",
    "- Paimkite pirmus tris narius.\n",
    "- Paimkite du narius, pradedant trečiu.\n",
    "- Paimkite paskutinius keturis narius.\n",
    "- Paimkite kas antrą narį, pradedant trečiu nariu.\n",
    "- Paimkite visus atbuline tvarka."
   ]
  },
  {
   "cell_type": "code",
   "execution_count": 11,
   "metadata": {},
   "outputs": [],
   "source": [
    "# Kodą rašykite čia..."
   ]
  },
  {
   "attachments": {},
   "cell_type": "markdown",
   "metadata": {},
   "source": [
    "### Užduotis 2\n",
    "\n",
    "Susikurkite sąrašą studentų vidurkiams saugoti. Išsitraukite ir pasidėkite į atskirą sąrašą tris didžiausius pažymius (galite surikiuoti ir išsikirpti ką reikia)."
   ]
  },
  {
   "cell_type": "code",
   "execution_count": 12,
   "metadata": {},
   "outputs": [],
   "source": [
    "# Kodą rašykite čia..."
   ]
  },
  {
   "attachments": {},
   "cell_type": "markdown",
   "metadata": {},
   "source": [
    "### Užduotis 3\n",
    "\n",
    "Pamėginkite sukurti žodžių žodyną. Šį žodyną turėtų užpildyti vartotojas, įvesdamas visus norimus žodžius. Po kiekvieno įvedimo jam turėtų būti parodomi visi žodžiai, tačiau surikiuoti, t.y. įdėjus žodį į sąrašą, jį surikiuokite iš naujo ir parodykite."
   ]
  },
  {
   "cell_type": "code",
   "execution_count": 13,
   "metadata": {},
   "outputs": [],
   "source": [
    "# Kodą rašykite čia..."
   ]
  },
  {
   "attachments": {},
   "cell_type": "markdown",
   "metadata": {},
   "source": [
    "### Užduotis 4\n",
    "\n",
    "Sukurkite sąrašą, kuriame saugotumėte sandėlio likučius. Į atskirą sąrašą persikelkite visus likučius kurių lieka mažai (mažiau nei 5 vnt. arba trijų prekių likučius, kurių likę mažiausiai)."
   ]
  },
  {
   "cell_type": "code",
   "execution_count": 14,
   "metadata": {},
   "outputs": [],
   "source": [
    "# Kodą rašykite čia..."
   ]
  }
 ],
 "metadata": {
  "kernelspec": {
   "display_name": "Python 3",
   "language": "python",
   "name": "python3"
  },
  "language_info": {
   "codemirror_mode": {
    "name": "ipython",
    "version": 3
   },
   "file_extension": ".py",
   "mimetype": "text/x-python",
   "name": "python",
   "nbconvert_exporter": "python",
   "pygments_lexer": "ipython3",
   "version": "3.7.9"
  },
  "orig_nbformat": 4,
  "vscode": {
   "interpreter": {
    "hash": "aa11ca274996316222ef16f35c5f6dbeb467b694c0b2154cdf34dcf9271d5fd0"
   }
  }
 },
 "nbformat": 4,
 "nbformat_minor": 2
}
