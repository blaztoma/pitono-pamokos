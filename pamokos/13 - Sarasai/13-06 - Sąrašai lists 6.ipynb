{
 "cells": [
  {
   "attachments": {},
   "cell_type": "markdown",
   "metadata": {},
   "source": [
    "# Sąrašai (`lists`) (6 dalis)"
   ]
  },
  {
   "attachments": {},
   "cell_type": "markdown",
   "metadata": {},
   "source": [
    "## Sąrašo išpakavimas (`list unpacking`)"
   ]
  },
  {
   "attachments": {},
   "cell_type": "markdown",
   "metadata": {},
   "source": [
    "## Pavyzdžiai"
   ]
  },
  {
   "cell_type": "code",
   "execution_count": 1,
   "metadata": {},
   "outputs": [
    {
     "name": "stdout",
     "output_type": "stream",
     "text": [
      "['Jonas', 'Jonaitis', 23, 'KTU', 7]\n"
     ]
    }
   ],
   "source": [
    "zmogaus_informacija = ['Jonas', 'Jonaitis', 23, 'KTU', 7]\n",
    "print(zmogaus_informacija)"
   ]
  },
  {
   "cell_type": "code",
   "execution_count": 2,
   "metadata": {},
   "outputs": [
    {
     "name": "stdout",
     "output_type": "stream",
     "text": [
      "Jonas\n",
      "Jonaitis\n",
      "23\n",
      "KTU\n",
      "7\n"
     ]
    }
   ],
   "source": [
    "vardas, pavarde, amzius, mokykla, vidurkis = ['Jonas', 'Jonaitis', 23, 'KTU', 7]\n",
    "\n",
    "print(vardas)\n",
    "print(pavarde)\n",
    "print(amzius)\n",
    "print(mokykla)\n",
    "print(vidurkis)"
   ]
  },
  {
   "cell_type": "code",
   "execution_count": 3,
   "metadata": {},
   "outputs": [
    {
     "name": "stdout",
     "output_type": "stream",
     "text": [
      "Petras\n",
      "Petrauskas\n",
      "[7, 8, 9, 6, 5]\n"
     ]
    }
   ],
   "source": [
    "vardas, pavarde, *pazymiai = ['Petras', 'Petrauskas', 7, 8, 9, 6, 5]\n",
    "\n",
    "print(vardas)\n",
    "print(pavarde)\n",
    "print(pazymiai)"
   ]
  },
  {
   "cell_type": "code",
   "execution_count": 4,
   "metadata": {},
   "outputs": [
    {
     "name": "stdout",
     "output_type": "stream",
     "text": [
      "Ona\n",
      "Onutė\n",
      "[7, 8, 9, 7, 5, 9]\n",
      "KTU\n"
     ]
    }
   ],
   "source": [
    "vardas, pavarde, *pazymiai, mokykla = ['Ona', 'Onutė', 7, 8, 9, 7, 5, 9, 'KTU']\n",
    "\n",
    "print(vardas)\n",
    "print(pavarde)\n",
    "print(pazymiai)\n",
    "print(mokykla)"
   ]
  },
  {
   "cell_type": "code",
   "execution_count": 5,
   "metadata": {},
   "outputs": [
    {
     "name": "stdout",
     "output_type": "stream",
     "text": [
      "['Jonas', 'Jonauskas', 'KTU', '7', '8', '9']\n"
     ]
    }
   ],
   "source": [
    "sakinys = 'Jonas;Jonauskas;KTU;7;8;9'\n",
    "informacija = sakinys.split(';')\n",
    "print(informacija)"
   ]
  },
  {
   "cell_type": "code",
   "execution_count": 6,
   "metadata": {},
   "outputs": [
    {
     "name": "stdout",
     "output_type": "stream",
     "text": [
      "Jonas\n",
      "Jonauskas\n",
      "KTU\n",
      "['7', '8', '9']\n"
     ]
    }
   ],
   "source": [
    "sakinys = 'Jonas;Jonauskas;KTU;7;8;9'\n",
    "vardas, pavarde, mokykla, *pazymiai = sakinys.split(';')\n",
    "\n",
    "print(vardas)\n",
    "print(pavarde)\n",
    "print(mokykla)\n",
    "print(pazymiai)"
   ]
  },
  {
   "cell_type": "code",
   "execution_count": 10,
   "metadata": {},
   "outputs": [
    {
     "name": "stdout",
     "output_type": "stream",
     "text": [
      "Jonas\n",
      "Jonauskas\n",
      "23\n",
      "KTU\n",
      "[7, 8, 9]\n"
     ]
    }
   ],
   "source": [
    "sakinys = 'Jonas;Jonauskas;23;KTU;7;8;9'\n",
    "vardas, pavarde, metai, mokykla, *pazymiai = sakinys.split(';')\n",
    "metai = int(metai)\n",
    "pazymiai = list( map(int, pazymiai) )\n",
    "\n",
    "print(vardas)\n",
    "print(pavarde)\n",
    "print(metai)\n",
    "print(mokykla)\n",
    "print(pazymiai)"
   ]
  },
  {
   "attachments": {},
   "cell_type": "markdown",
   "metadata": {},
   "source": [
    "## Užduotys"
   ]
  },
  {
   "attachments": {},
   "cell_type": "markdown",
   "metadata": {},
   "source": [
    "### Užduotis 1\n",
    "\n",
    "Jums yra duotas sąrašas, kurį turite \"išpakuoti\" (atlikti `list unpacking`). Duotame sąraše informacija yra pasiskirsčiusi taip: markė; modelis; rida; metai; darbinis tūris. Ten kur yra duoti skaičiai, pamėginkite juos paversti į skaičius. Išsiveskite visą ištrauktą iš šio sąrašo informaciją."
   ]
  },
  {
   "cell_type": "code",
   "execution_count": null,
   "metadata": {},
   "outputs": [],
   "source": [
    "# .... = ['Audi', 'A4', 12454, 2010, 1.6]\n",
    "\n",
    "# Kodą rašykite čia..."
   ]
  },
  {
   "attachments": {},
   "cell_type": "markdown",
   "metadata": {},
   "source": [
    "### Užduotis 2\n",
    "\n",
    "Jums yra duoti du sąrašai, kuriuos turite \"išpakuoti\" (atlikti `list unpacking`). Duotuose sąrašuose informacija yra pasiskirsčiusi taip: savaitė metuose; likusiose vietose temperatūrų vidurkiai. Ten kur yra duoti skaičiai, pamėginkite juos paversti į skaičius. Išsiveskite visą ištrauktą iš šio sąrašo informaciją.\n",
    "\n",
    "*Papildomai:*\n",
    "\n",
    "Pamėginkite rasti abiejų savaičių vidurkius. Suraskite kurios savaitės vidurkis didesnis ir per kiek išveskite."
   ]
  },
  {
   "cell_type": "code",
   "execution_count": null,
   "metadata": {},
   "outputs": [],
   "source": [
    "# ... = ['24 savaitė', 14.7, 15.8, 14.4, 16.2]\n",
    "# ... = ['25 savaitė', 15.2, 14.1, 16.5, 17.4]\n",
    "\n",
    "# Kodą rašykite čia..."
   ]
  },
  {
   "attachments": {},
   "cell_type": "markdown",
   "metadata": {},
   "source": [
    "### Užduotis 3\n",
    "\n",
    "Jums yra duotas sąrašas, kurį turite \"išpakuoti\" (atlikti `list unpacking`). Duotame sąraše informacija yra pasiskirsčiusi taip: prekės pavadinimas; kaina; savikaina; kiekis sandėlyje. Ten kur yra duoti skaičiai, pamėginkite juos paversti į skaičius. Išsiveskite visą ištrauktą iš šio sąrašo informaciją. Raskite kiek būtų galima uždirbti pardavus visus šios prekės vienetus (nepamirškite atimti savikainos)."
   ]
  },
  {
   "cell_type": "code",
   "execution_count": null,
   "metadata": {},
   "outputs": [],
   "source": [
    "# ... = ['Pieštukas', 2, 1, 74]\n",
    "\n",
    "# Kodą rašykite čia..."
   ]
  }
 ],
 "metadata": {
  "kernelspec": {
   "display_name": "Python 3",
   "language": "python",
   "name": "python3"
  },
  "language_info": {
   "codemirror_mode": {
    "name": "ipython",
    "version": 3
   },
   "file_extension": ".py",
   "mimetype": "text/x-python",
   "name": "python",
   "nbconvert_exporter": "python",
   "pygments_lexer": "ipython3",
   "version": "3.7.9"
  },
  "orig_nbformat": 4,
  "vscode": {
   "interpreter": {
    "hash": "aa11ca274996316222ef16f35c5f6dbeb467b694c0b2154cdf34dcf9271d5fd0"
   }
  }
 },
 "nbformat": 4,
 "nbformat_minor": 2
}
