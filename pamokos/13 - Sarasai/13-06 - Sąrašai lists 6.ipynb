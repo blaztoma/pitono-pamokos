{
 "cells": [
  {
   "attachments": {},
   "cell_type": "markdown",
   "metadata": {},
   "source": [
    "[![Open In Colab](https://colab.research.google.com/assets/colab-badge.svg)](https://colab.research.google.com/github/blaztoma/pitono-pamokos/blob/main/pamokos/13%20-%20Sarasai/13-06%20-%20S%C4%85ra%C5%A1ai%20lists%206.ipynb)"
   ]
  },
  {
   "attachments": {},
   "cell_type": "markdown",
   "metadata": {},
   "source": [
    "# Sąrašai (`lists`) (6 dalis)"
   ]
  },
  {
   "attachments": {},
   "cell_type": "markdown",
   "metadata": {},
   "source": [
    "## Sąrašo išpakavimas (`list unpacking`)"
   ]
  },
  {
   "attachments": {},
   "cell_type": "markdown",
   "metadata": {},
   "source": [
    "## Pavyzdžiai"
   ]
  },
  {
   "attachments": {},
   "cell_type": "markdown",
   "metadata": {},
   "source": [
    "Tarkime, turime tokį sąrašą:"
   ]
  },
  {
   "cell_type": "code",
   "execution_count": null,
   "metadata": {},
   "outputs": [],
   "source": [
    "zmogaus_informacija = ['Jonas', 'Jonaitis', 23, 'KTU', 7]\n",
    "print(zmogaus_informacija)"
   ]
  },
  {
   "attachments": {},
   "cell_type": "markdown",
   "metadata": {},
   "source": [
    "Jį galime **išpakuoti** į atskirus kintamuosius."
   ]
  },
  {
   "cell_type": "code",
   "execution_count": null,
   "metadata": {},
   "outputs": [],
   "source": [
    "vardas, pavarde, amzius, mokykla, vidurkis = ['Jonas', 'Jonaitis', 23, 'KTU', 7]\n",
    "\n",
    "print(vardas)\n",
    "print(pavarde)\n",
    "print(amzius)\n",
    "print(mokykla)\n",
    "print(vidurkis)"
   ]
  },
  {
   "attachments": {},
   "cell_type": "markdown",
   "metadata": {},
   "source": [
    "Štai tokiu būdu išpakuojame studento vardą, pavardę ir jo pažymių sąrašą. Atkreipkite dėmesį, kad sąrašui pažymėti naudojama žvaigždutė (`*`). "
   ]
  },
  {
   "cell_type": "code",
   "execution_count": null,
   "metadata": {},
   "outputs": [],
   "source": [
    "vardas, pavarde, *pazymiai = ['Petras', 'Petrauskas', 7, 8, 9, 6, 5]\n",
    "\n",
    "print(vardas)\n",
    "print(pavarde)\n",
    "print(pazymiai)"
   ]
  },
  {
   "attachments": {},
   "cell_type": "markdown",
   "metadata": {},
   "source": [
    "Pitonas atpažins ir tokį aprašymą."
   ]
  },
  {
   "cell_type": "code",
   "execution_count": null,
   "metadata": {},
   "outputs": [],
   "source": [
    "vardas, pavarde, *pazymiai, mokykla = ['Ona', 'Onutė', 7, 8, 9, 7, 5, 9, 'KTU']\n",
    "\n",
    "print(vardas)\n",
    "print(pavarde)\n",
    "print(pazymiai)\n",
    "print(mokykla)"
   ]
  },
  {
   "attachments": {},
   "cell_type": "markdown",
   "metadata": {},
   "source": [
    "Eilutę irgi galime išpakuoti į atskirus kintamuosius. Tam pasiverčiam į sąrašą."
   ]
  },
  {
   "cell_type": "code",
   "execution_count": null,
   "metadata": {},
   "outputs": [],
   "source": [
    "sakinys = 'Jonas;Jonauskas;KTU;7;8;9'\n",
    "informacija = sakinys.split(';')\n",
    "print(informacija)"
   ]
  },
  {
   "attachments": {},
   "cell_type": "markdown",
   "metadata": {},
   "source": [
    "Pasivertus į sąrašą jau galime išpakuoti jo reikšmes."
   ]
  },
  {
   "cell_type": "code",
   "execution_count": null,
   "metadata": {},
   "outputs": [],
   "source": [
    "sakinys = 'Jonas;Jonauskas;KTU;7;8;9'\n",
    "vardas, pavarde, mokykla, *pazymiai = sakinys.split(';')\n",
    "\n",
    "print(vardas)\n",
    "print(pavarde)\n",
    "print(mokykla)\n",
    "print(pazymiai)"
   ]
  },
  {
   "attachments": {},
   "cell_type": "markdown",
   "metadata": {},
   "source": [
    "Tiesa, pažymiai liko kaip eilutės. Todėl mes turime juos pasiversti į int tipo sąrašą."
   ]
  },
  {
   "cell_type": "code",
   "execution_count": null,
   "metadata": {},
   "outputs": [],
   "source": [
    "sakinys = 'Jonas;Jonauskas;23;KTU;7;8;9'\n",
    "vardas, pavarde, metai, mokykla, *pazymiai = sakinys.split(';')\n",
    "metai = int(metai)\n",
    "pazymiai = list( map(int, pazymiai) )\n",
    "\n",
    "print(vardas)\n",
    "print(pavarde)\n",
    "print(metai)\n",
    "print(mokykla)\n",
    "print(pazymiai)"
   ]
  },
  {
   "attachments": {},
   "cell_type": "markdown",
   "metadata": {},
   "source": [
    "## Užduotys"
   ]
  },
  {
   "attachments": {},
   "cell_type": "markdown",
   "metadata": {},
   "source": [
    "### Užduotis 1\n",
    "\n",
    "Jums duotas sąrašas, kurį turite \"išpakuoti\". Duoto sąrašo laukai yra tokie: gamintojas; modelis; rida; metai; darbinis tūris. Atspausdinkite šio sąrašo informaciją."
   ]
  },
  {
   "cell_type": "code",
   "execution_count": null,
   "metadata": {},
   "outputs": [],
   "source": [
    "# .... = ['Audi', 'A4', 12454, 2010, 1.6]\n",
    "\n",
    "# Kodą rašykite čia..."
   ]
  },
  {
   "attachments": {},
   "cell_type": "markdown",
   "metadata": {},
   "source": [
    "### Užduotis 2\n",
    "\n",
    "Jums yra duoti du sąrašai, kuriuos turite \"išpakuoti\". Duoto sąrašo laukai yra tokie: savaitė; temperatūrų vidurkiai. Atspausdinkite šių sąrašų informaciją.\n",
    "\n",
    "*Papildomai:*\n",
    "\n",
    "Pamėginkite rasti abiejų savaičių vidurkius. Suraskite kurios savaitės vidurkis didesnis ir per kiek išveskite."
   ]
  },
  {
   "cell_type": "code",
   "execution_count": null,
   "metadata": {},
   "outputs": [],
   "source": [
    "# ... = ['24 savaitė', 14.7, 15.8, 14.4, 16.2]\n",
    "# ... = ['25 savaitė', 15.2, 14.1, 16.5, 17.4]\n",
    "\n",
    "# Kodą rašykite čia..."
   ]
  },
  {
   "attachments": {},
   "cell_type": "markdown",
   "metadata": {},
   "source": [
    "### Užduotis 3\n",
    "\n",
    "Jums yra duotas sąrašas, kurį turite \"išpakuoti\". Duoto sąrašo laukai yra tokie: prekės pavadinimas; kaina; savikaina; kiekis sandėlyje. Atspausdinkite sąrašo informaciją. Raskite kiek būtų galima uždirbti pardavus visas prekes (nepamirškite atimti savikainos)."
   ]
  },
  {
   "cell_type": "code",
   "execution_count": null,
   "metadata": {},
   "outputs": [],
   "source": [
    "# ... = ['Pieštukas', 2, 1, 74]\n",
    "\n",
    "# Kodą rašykite čia..."
   ]
  }
 ],
 "metadata": {
  "kernelspec": {
   "display_name": "Python 3",
   "language": "python",
   "name": "python3"
  },
  "language_info": {
   "codemirror_mode": {
    "name": "ipython",
    "version": 3
   },
   "file_extension": ".py",
   "mimetype": "text/x-python",
   "name": "python",
   "nbconvert_exporter": "python",
   "pygments_lexer": "ipython3",
   "version": "3.10.10"
  },
  "orig_nbformat": 4,
  "vscode": {
   "interpreter": {
    "hash": "aa11ca274996316222ef16f35c5f6dbeb467b694c0b2154cdf34dcf9271d5fd0"
   }
  }
 },
 "nbformat": 4,
 "nbformat_minor": 2
}
