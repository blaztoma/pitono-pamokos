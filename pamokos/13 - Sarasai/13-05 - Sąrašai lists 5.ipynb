{
 "cells": [
  {
   "attachments": {},
   "cell_type": "markdown",
   "metadata": {},
   "source": [
    "[![Open In Colab](https://colab.research.google.com/assets/colab-badge.svg)](https://colab.research.google.com/github/blaztoma/pitono-pamokos/blob/main/pamokos/13%20-%20Sarasai/13-05%20-%20S%C4%85ra%C5%A1ai%20lists%205.ipynb)"
   ]
  },
  {
   "attachments": {},
   "cell_type": "markdown",
   "metadata": {},
   "source": [
    "# Sąrašai (`lists`) (5 dalis)"
   ]
  },
  {
   "attachments": {},
   "cell_type": "markdown",
   "metadata": {},
   "source": [
    "## Sąrašo skaidymas ir apjungimas\n",
    "\n",
    "Sąrašus galima sujungti į teksto eilutes ir teksto eilutes galima išskaidyti į sąrašus.\n",
    "\n",
    "- Kai norime `list` -> `str`, tuomet naudojame `join` metodą.\n",
    "- Kai norime `str` -> `list`, tuomet naudojame `split` metodą.\n",
    "\n",
    "## `join`\n",
    "\n",
    "`join` naudojame norėdami sąrašą sujungti į teksto eilutę.\n",
    "\n",
    "Sintaksė:\n",
    "\n",
    "```\n",
    "'<skirtukas tarp kiekvieno elemento>'.join(<sarasas>)\n",
    "```\n",
    "\n",
    "## `split`\n",
    "\n",
    "`split` naudojame norėdami teksto eilutę suskaidyti į sąrašą.\n",
    "\n",
    "Sintaksė:\n",
    "\n",
    "```\n",
    "<sarasas>.split(<skirtukas pagal ką skelti>)\n",
    "```"
   ]
  },
  {
   "attachments": {},
   "cell_type": "markdown",
   "metadata": {},
   "source": [
    "## Pavyzdžiai"
   ]
  },
  {
   "cell_type": "code",
   "execution_count": 3,
   "metadata": {},
   "outputs": [
    {
     "name": "stdout",
     "output_type": "stream",
     "text": [
      "labas mano vardas yra JOJO\n"
     ]
    }
   ],
   "source": [
    "sarasas = ['labas', 'mano', 'vardas', 'yra', 'JOJO']\n",
    "sakinys = ' '.join(sarasas)\n",
    "print(sakinys)"
   ]
  },
  {
   "cell_type": "code",
   "execution_count": 4,
   "metadata": {},
   "outputs": [
    {
     "name": "stdout",
     "output_type": "stream",
     "text": [
      "labas mano vardas yra JOJO\n"
     ]
    }
   ],
   "source": [
    "sakinys = ' '.join(['labas', 'mano', 'vardas', 'yra', 'JOJO'])\n",
    "print(sakinys)"
   ]
  },
  {
   "cell_type": "code",
   "execution_count": 6,
   "metadata": {},
   "outputs": [
    {
     "name": "stdout",
     "output_type": "stream",
     "text": [
      "['Kaunas', 'Vilnius', 'Klaipėda', 'Jonava', 'Biržai']\n",
      "KaunasVilniusKlaipėdaJonavaBiržai\n",
      "Kaunas Vilnius Klaipėda Jonava Biržai\n",
      "Kaunas|Vilnius|Klaipėda|Jonava|Biržai\n",
      "Kaunas / Vilnius / Klaipėda / Jonava / Biržai\n"
     ]
    }
   ],
   "source": [
    "miestai = ['Kaunas', 'Vilnius', 'Klaipėda', 'Jonava', 'Biržai']\n",
    "\n",
    "print(miestai)\n",
    "\n",
    "print(''.join(miestai))\n",
    "print(' '.join(miestai))\n",
    "print('|'.join(miestai))\n",
    "print(' / '.join(miestai))"
   ]
  },
  {
   "cell_type": "code",
   "execution_count": 7,
   "metadata": {},
   "outputs": [
    {
     "ename": "TypeError",
     "evalue": "sequence item 0: expected str instance, int found",
     "output_type": "error",
     "traceback": [
      "\u001b[1;31m---------------------------------------------------------------------------\u001b[0m",
      "\u001b[1;31mTypeError\u001b[0m                                 Traceback (most recent call last)",
      "\u001b[1;32m~\\AppData\\Local\\Temp\\ipykernel_44672\\3680584834.py\u001b[0m in \u001b[0;36m<module>\u001b[1;34m\u001b[0m\n\u001b[0;32m      1\u001b[0m \u001b[0mskaiciai\u001b[0m \u001b[1;33m=\u001b[0m \u001b[1;33m[\u001b[0m\u001b[1;36m7\u001b[0m\u001b[1;33m,\u001b[0m \u001b[1;36m4\u001b[0m\u001b[1;33m,\u001b[0m \u001b[1;36m8\u001b[0m\u001b[1;33m,\u001b[0m \u001b[1;36m5\u001b[0m\u001b[1;33m,\u001b[0m \u001b[1;36m3\u001b[0m\u001b[1;33m]\u001b[0m\u001b[1;33m\u001b[0m\u001b[1;33m\u001b[0m\u001b[0m\n\u001b[1;32m----> 2\u001b[1;33m \u001b[0mprint\u001b[0m\u001b[1;33m(\u001b[0m\u001b[1;34m' '\u001b[0m\u001b[1;33m.\u001b[0m\u001b[0mjoin\u001b[0m\u001b[1;33m(\u001b[0m\u001b[0mskaiciai\u001b[0m\u001b[1;33m)\u001b[0m\u001b[1;33m)\u001b[0m\u001b[1;33m\u001b[0m\u001b[1;33m\u001b[0m\u001b[0m\n\u001b[0m",
      "\u001b[1;31mTypeError\u001b[0m: sequence item 0: expected str instance, int found"
     ]
    }
   ],
   "source": [
    "skaiciai = [7, 4, 8, 5, 3]\n",
    "print(' '.join(skaiciai))"
   ]
  },
  {
   "cell_type": "code",
   "execution_count": 9,
   "metadata": {},
   "outputs": [
    {
     "name": "stdout",
     "output_type": "stream",
     "text": [
      "[7, 8, 7, 9, 10, 8]\n",
      "7, 8, 7, 9, 10, 8\n",
      "7, 8, 7, 9, 10, 8\n"
     ]
    }
   ],
   "source": [
    "pazymiai = [7, 8, 7, 9, 10, 8]\n",
    "print(pazymiai)\n",
    "\n",
    "pazymiai_sakiniu1 = ', '.join(map(str, pazymiai))\n",
    "print(pazymiai_sakiniu1)\n",
    "\n",
    "pazymiai_sakiniu2 = ', '.join( [ str(paz) for paz in pazymiai ] )\n",
    "print(pazymiai_sakiniu2)"
   ]
  },
  {
   "cell_type": "code",
   "execution_count": 11,
   "metadata": {},
   "outputs": [
    {
     "name": "stdout",
     "output_type": "stream",
     "text": [
      "4 / 8 / 5 / 3 / 6 / 5\n",
      "4_8_5_3_6_5\n",
      "4 - 8 - 5 - 3 - 6 - 5\n"
     ]
    }
   ],
   "source": [
    "skaiciai = [4, 8, 5, 3, 6, 5]\n",
    "print( ' / '.join( map(str, skaiciai) ) )\n",
    "print( '_'.join( map(str, skaiciai) ) )\n",
    "print( ' - '.join( map(str, skaiciai) ) )"
   ]
  },
  {
   "cell_type": "code",
   "execution_count": 13,
   "metadata": {},
   "outputs": [
    {
     "name": "stdout",
     "output_type": "stream",
     "text": [
      "Koks nors mano norimas sakinys\n",
      "['Koks', 'nors', 'mano', 'norimas', 'sakinys']\n",
      "['Koks', 'nors', 'mano', 'norimas', 'sakinys']\n"
     ]
    }
   ],
   "source": [
    "sakinys = 'Koks nors mano norimas sakinys'\n",
    "print(sakinys)\n",
    "print(sakinys.split())\n",
    "print(sakinys.split(' '))"
   ]
  },
  {
   "cell_type": "code",
   "execution_count": 14,
   "metadata": {},
   "outputs": [
    {
     "name": "stdout",
     "output_type": "stream",
     "text": [
      "Šiame sakinys / turėtų, būti kablelių, dvitaškių: ir dar / ko nors\n",
      "['Šiame', 'sakinys', '/', 'turėtų,', 'būti', 'kablelių,', 'dvitaškių:', 'ir', 'dar', '/', 'ko', 'nors']\n",
      "['Šiame sakinys', 'turėtų, būti kablelių, dvitaškių: ir dar', 'ko nors']\n",
      "['Šiame sakinys / turėtų, būti kablelių, dvitaškių', 'ir dar / ko nors']\n",
      "['Šiame sakinys / turėtų', 'būti kablelių', 'dvitaškių: ir dar / ko nors']\n"
     ]
    }
   ],
   "source": [
    "sakinys = 'Šiame sakinys / turėtų, būti kablelių, dvitaškių: ir dar / ko nors'\n",
    "print(sakinys)\n",
    "print(sakinys.split(' '))\n",
    "print(sakinys.split(' / '))\n",
    "print(sakinys.split(': '))\n",
    "print(sakinys.split(', '))"
   ]
  },
  {
   "cell_type": "code",
   "execution_count": 17,
   "metadata": {},
   "outputs": [
    {
     "name": "stdout",
     "output_type": "stream",
     "text": [
      "['2014-10-10', '2015-12-30', '2016-02-04', '2017-05-03']\n",
      "['2014-10-10', '2015-12-30', '2016-02-04', '2017-05-03', '2018-11-08', '2019-07-08']\n",
      "2014-10-10|2015-12-30|2016-02-04|2017-05-03|2018-11-08|2019-07-08\n"
     ]
    }
   ],
   "source": [
    "datos_tekstu = '2014-10-10|2015-12-30|2016-02-04|2017-05-03'\n",
    "papildomos_datos = ['2018-11-08', '2019-07-08']\n",
    "\n",
    "datos = datos_tekstu.split('|')\n",
    "print(datos)\n",
    "\n",
    "datos.extend(papildomos_datos)\n",
    "print(datos)\n",
    "\n",
    "sujungtos_datos = '|'.join(datos)\n",
    "print(sujungtos_datos)"
   ]
  },
  {
   "cell_type": "code",
   "execution_count": 20,
   "metadata": {},
   "outputs": [
    {
     "name": "stdout",
     "output_type": "stream",
     "text": [
      "2014-10-10|2015-12-30|2016-02-04|2017-05-03|2018-11-08|2019-07-08\n"
     ]
    }
   ],
   "source": [
    "datos_tekstu = '2014-10-10|2015-12-30|2016-02-04|2017-05-03'\n",
    "papildomos_datos = ['2018-11-08', '2019-07-08']\n",
    "\n",
    "sujungtos_datos = datos_tekstu + '|' + '|'.join(papildomos_datos)\n",
    "print(sujungtos_datos)"
   ]
  },
  {
   "cell_type": "code",
   "execution_count": 25,
   "metadata": {},
   "outputs": [
    {
     "name": "stdout",
     "output_type": "stream",
     "text": [
      "['2', '1', '6', '5', '2', '7', '4']\n",
      "[2, 1, 6, 5, 2, 7, 4]\n",
      "[2, 1, 6, 5, 2, 7, 4]\n"
     ]
    }
   ],
   "source": [
    "skaiciai_tekstu = '2/1/6/5/2/7/4'\n",
    "\n",
    "skaiciai = skaiciai_tekstu.split('/')\n",
    "print(skaiciai)\n",
    "\n",
    "skaiciai1 = list( map(int, skaiciai) )\n",
    "print(skaiciai1)\n",
    "\n",
    "skaiciai2 = [ int(sk) for sk in skaiciai ]\n",
    "print(skaiciai2)"
   ]
  },
  {
   "attachments": {},
   "cell_type": "markdown",
   "metadata": {},
   "source": [
    "## Užduotys"
   ]
  },
  {
   "attachments": {},
   "cell_type": "markdown",
   "metadata": {},
   "source": [
    "### Užduotis 1\n",
    "\n",
    "Susikurkite žodžių sąrašą su duomenimis. Išveskite šį sąrašą šiais pavidalais:\n",
    "\n",
    "- Kiekvieną žodį atskirant kableliu ir tarpu: `pirmas, antras, trečias, ...`\n",
    "- Kiekvieną žodį atskiriant vertikaliu brūkšneliu: `pirmas|antras|trečias|...`\n",
    "- Kiekvieną žodį atskiriant tarpu: `pirmas antras trečias ...`"
   ]
  },
  {
   "cell_type": "code",
   "execution_count": 1,
   "metadata": {},
   "outputs": [],
   "source": [
    "# Kodą rašykite čia..."
   ]
  },
  {
   "attachments": {},
   "cell_type": "markdown",
   "metadata": {},
   "source": [
    "### Užduotis 2\n",
    "\n",
    "Susikurkite pažymių sąrašą ir užpildykite jį pažymiais. Surikiuokite sąrašą nuo didžiausio iki mažiausio pažymio ir išveskite taip, kad kiekvienas pažymys būtų atskirtas kableliu ir tarpu (`9, 8, 6, ...`)."
   ]
  },
  {
   "cell_type": "code",
   "execution_count": null,
   "metadata": {},
   "outputs": [],
   "source": [
    "# Kodą rašykite čia..."
   ]
  },
  {
   "attachments": {},
   "cell_type": "markdown",
   "metadata": {},
   "source": [
    "### Užduotis 3\n",
    "\n",
    "Susikurkite sąrašą prekių pavadinimams saugoti (prekių krepšeliui). Įveskite į šį sąrašą norimą informaciją. Išveskite šį sąrašą taip, kad tarp kiekvienos prekės būtų parašytas toks skirtukas: ` ||| `. Turėtų vaizde gautis taip: `prekė 1 ||| prekė 2 ||| prekė 3`."
   ]
  },
  {
   "cell_type": "code",
   "execution_count": null,
   "metadata": {},
   "outputs": [],
   "source": [
    "# Kodą rašykite čia..."
   ]
  },
  {
   "attachments": {},
   "cell_type": "markdown",
   "metadata": {},
   "source": [
    "### Užduotis 4\n",
    "\n",
    "Susikurkite sąrašą su datomis. Šias datas paverskite į tekstos eilutes tokiais pavidalais:\n",
    "\n",
    "- `data1 / data2 / data3 / ...`\n",
    "- `data1|data2|data3|...`\n",
    "- `data1__data2__data3__...`\n",
    "- `data1-data2-data3-...`"
   ]
  },
  {
   "cell_type": "code",
   "execution_count": null,
   "metadata": {},
   "outputs": [],
   "source": [
    "# Kodą rašykite čia..."
   ]
  },
  {
   "attachments": {},
   "cell_type": "markdown",
   "metadata": {},
   "source": [
    "### Užduotis 5\n",
    "\n",
    "Susikurkite teksto eilutę, kurioje būtų saugoma studentų informacija (vardai su pavardėmis), o teksto eilutę suformatuokite kiekvieną studentą atskiriant kableliu ir tarpu: `studentas1, studentas2, studentas3, ...`.\n",
    "\n",
    "Išskaidykite šią teksto eilutę taip, kad visus studentus turėtumėte sąraše kaip atskirus elementus."
   ]
  },
  {
   "cell_type": "code",
   "execution_count": null,
   "metadata": {},
   "outputs": [],
   "source": [
    "# Kodą rašykite čia..."
   ]
  },
  {
   "attachments": {},
   "cell_type": "markdown",
   "metadata": {},
   "source": [
    "### Užduotis 6\n",
    "\n",
    "Susikurkite teksto eilutę, kur būtų saugomos datos su laikais, o jos būtų atskirtos vertikaliu brūkšneliu: `data su laiku|data su laiku|data su laiku|...`.\n",
    "\n",
    "Išskaidykite šią teksto eilutę taip, kad visas datas turėtumėte sąraše kaip atskirus elementus."
   ]
  },
  {
   "cell_type": "code",
   "execution_count": null,
   "metadata": {},
   "outputs": [],
   "source": [
    "# Kodą rašykite čia..."
   ]
  },
  {
   "attachments": {},
   "cell_type": "markdown",
   "metadata": {},
   "source": [
    "### Užduotis 7\n",
    "\n",
    "Susikurkite tokią teksto eilutę: `Jonas;Jonauskas;21;KTU;8`. Ją paverskite į sąrašą, skaidymui naudojant skirtuką `;`."
   ]
  },
  {
   "cell_type": "code",
   "execution_count": null,
   "metadata": {},
   "outputs": [],
   "source": [
    "# Kodą rašykite čia..."
   ]
  },
  {
   "attachments": {},
   "cell_type": "markdown",
   "metadata": {},
   "source": [
    "### Užduotis 8\n",
    "\n",
    "Susikurkite teksto eilutę, kurioje būtų saugoma savaitės temperatūrų informacija, pvz: `17.5;20.6;21.7;22.9;...`. Šią eilutę paverskite į sąrašą, skaidymui naudojant simbolį `;`, taip pat, sąraše kiekviena temperatūra turėtų būti išsaugota kaip float, o ne tekstu."
   ]
  },
  {
   "cell_type": "code",
   "execution_count": null,
   "metadata": {},
   "outputs": [],
   "source": [
    "# Kodą rašykite čia..."
   ]
  }
 ],
 "metadata": {
  "kernelspec": {
   "display_name": "Python 3",
   "language": "python",
   "name": "python3"
  },
  "language_info": {
   "codemirror_mode": {
    "name": "ipython",
    "version": 3
   },
   "file_extension": ".py",
   "mimetype": "text/x-python",
   "name": "python",
   "nbconvert_exporter": "python",
   "pygments_lexer": "ipython3",
   "version": "3.7.9 (tags/v3.7.9:13c94747c7, Aug 17 2020, 18:58:18) [MSC v.1900 64 bit (AMD64)]"
  },
  "orig_nbformat": 4,
  "vscode": {
   "interpreter": {
    "hash": "aa11ca274996316222ef16f35c5f6dbeb467b694c0b2154cdf34dcf9271d5fd0"
   }
  }
 },
 "nbformat": 4,
 "nbformat_minor": 2
}
