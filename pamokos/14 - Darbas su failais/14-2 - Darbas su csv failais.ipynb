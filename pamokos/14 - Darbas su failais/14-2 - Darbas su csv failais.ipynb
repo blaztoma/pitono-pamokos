{
 "cells": [
  {
   "attachments": {},
   "cell_type": "markdown",
   "metadata": {},
   "source": [
    "# Darbas su csv failais"
   ]
  },
  {
   "attachments": {},
   "cell_type": "markdown",
   "metadata": {},
   "source": [
    "## `csv` failo skaitymas\n",
    "\n",
    "- `reader` - leidžia eiti per eilutes `csv` faile kaip pro lists\n",
    "- `DictReader` - leidžia eiti per eilutes `csv` faile kaip `OrderedDicts`"
   ]
  },
  {
   "attachments": {},
   "cell_type": "markdown",
   "metadata": {},
   "source": [
    "## Pavyzdžiai"
   ]
  },
  {
   "cell_type": "code",
   "execution_count": 1,
   "metadata": {},
   "outputs": [
    {
     "name": "stdout",
     "output_type": "stream",
     "text": [
      "['Vardas', 'Pavardė', 'Amžius', 'Mokykla', 'Kursas']\n",
      "['Petras', 'Petraitis', '21', 'KTU', '3']\n",
      "['Inga', 'Ingauskytė', '22', 'KTU', '4']\n",
      "['Jonas', 'Jonaitis', '20', 'VDU', '2']\n",
      "['Gintarė', 'Gintarytė', '21', 'VDU', '3']\n"
     ]
    }
   ],
   "source": [
    "from csv import reader\n",
    "\n",
    "with open('./studentai.csv', encoding='utf8') as failas:\n",
    "    csv_reader = reader(failas)\n",
    "    for eilute in csv_reader:\n",
    "        print(eilute)"
   ]
  },
  {
   "cell_type": "code",
   "execution_count": 2,
   "metadata": {},
   "outputs": [
    {
     "name": "stdout",
     "output_type": "stream",
     "text": [
      "['Petras', 'Petraitis', '21', 'KTU', '3']\n",
      "['Inga', 'Ingauskytė', '22', 'KTU', '4']\n",
      "['Jonas', 'Jonaitis', '20', 'VDU', '2']\n",
      "['Gintarė', 'Gintarytė', '21', 'VDU', '3']\n"
     ]
    }
   ],
   "source": [
    "from csv import reader\n",
    "\n",
    "with open('./studentai.csv', encoding='utf8') as failas:\n",
    "    csv_reader = reader(failas)\n",
    "    next(csv_reader) # praleidziam pirma eilute\n",
    "    for eilute in csv_reader:\n",
    "        print(eilute)"
   ]
  },
  {
   "cell_type": "code",
   "execution_count": 3,
   "metadata": {},
   "outputs": [
    {
     "name": "stdout",
     "output_type": "stream",
     "text": [
      "studentas(-e) Petras Petraitis mokosi KTU\n",
      "studentas(-e) Inga Ingauskytė mokosi KTU\n",
      "studentas(-e) Jonas Jonaitis mokosi VDU\n",
      "studentas(-e) Gintarė Gintarytė mokosi VDU\n"
     ]
    }
   ],
   "source": [
    "from csv import reader\n",
    "\n",
    "with open('./studentai.csv', encoding='utf8') as failas:\n",
    "    csv_reader = reader(failas)\n",
    "    next(csv_reader) # praleidziam pirma eilute\n",
    "    for eilute in csv_reader:\n",
    "        print(f'studentas(-e) {eilute[0]} {eilute[1]} mokosi {eilute[3]}')"
   ]
  },
  {
   "cell_type": "code",
   "execution_count": 4,
   "metadata": {},
   "outputs": [
    {
     "name": "stdout",
     "output_type": "stream",
     "text": [
      "[{'vardas': 'Petras', 'pavarde': 'Petraitis', 'amzius': 21, 'mokykla': 'KTU', 'kursas': 3}, {'vardas': 'Inga', 'pavarde': 'Ingauskytė', 'amzius': 22, 'mokykla': 'KTU', 'kursas': 4}, {'vardas': 'Jonas', 'pavarde': 'Jonaitis', 'amzius': 20, 'mokykla': 'VDU', 'kursas': 2}, {'vardas': 'Gintarė', 'pavarde': 'Gintarytė', 'amzius': 21, 'mokykla': 'VDU', 'kursas': 3}]\n"
     ]
    }
   ],
   "source": [
    "from csv import reader\n",
    "\n",
    "studentai = []\n",
    "\n",
    "with open('./studentai.csv', encoding='utf8') as failas:\n",
    "    csv_reader = reader(failas)\n",
    "    next(csv_reader) # praleidziam pirma eilute\n",
    "    for eilute in csv_reader:\n",
    "        studentas = {\n",
    "            'vardas': eilute[0],\n",
    "            'pavarde': eilute[1],\n",
    "            'amzius': int(eilute[2]),\n",
    "            'mokykla': eilute[3],\n",
    "            'kursas': int(eilute[4]),\n",
    "        }\n",
    "        studentai.append(studentas)\n",
    "\n",
    "print(studentai)"
   ]
  },
  {
   "cell_type": "code",
   "execution_count": 6,
   "metadata": {},
   "outputs": [
    {
     "name": "stdout",
     "output_type": "stream",
     "text": [
      "Inga yra vyriausias(-a) studentas(-e), su amžiumi 22\n"
     ]
    }
   ],
   "source": [
    "vyriausias_studentas = studentai[0]\n",
    "\n",
    "for studentas in studentai:\n",
    "    if studentas['amzius'] > vyriausias_studentas['amzius']:\n",
    "        vyriausias_studentas = studentas\n",
    "\n",
    "print(vyriausias_studentas['vardas'], 'yra vyriausias(-a) studentas(-e), su amžiumi', vyriausias_studentas['amzius'])"
   ]
  },
  {
   "cell_type": "code",
   "execution_count": 7,
   "metadata": {},
   "outputs": [
    {
     "name": "stdout",
     "output_type": "stream",
     "text": [
      "OrderedDict([('Vardas', 'Petras'), ('Pavardė', 'Petraitis'), ('Amžius', '21'), ('Mokykla', 'KTU'), ('Kursas', '3')])\n",
      "OrderedDict([('Vardas', 'Inga'), ('Pavardė', 'Ingauskytė'), ('Amžius', '22'), ('Mokykla', 'KTU'), ('Kursas', '4')])\n",
      "OrderedDict([('Vardas', 'Jonas'), ('Pavardė', 'Jonaitis'), ('Amžius', '20'), ('Mokykla', 'VDU'), ('Kursas', '2')])\n",
      "OrderedDict([('Vardas', 'Gintarė'), ('Pavardė', 'Gintarytė'), ('Amžius', '21'), ('Mokykla', 'VDU'), ('Kursas', '3')])\n"
     ]
    }
   ],
   "source": [
    "from csv import DictReader\n",
    "\n",
    "with open('./studentai.csv', encoding='utf8') as file:\n",
    "    csv_reader = DictReader(file)\n",
    "    for row in csv_reader:\n",
    "        print(row)"
   ]
  },
  {
   "cell_type": "code",
   "execution_count": 8,
   "metadata": {},
   "outputs": [
    {
     "name": "stdout",
     "output_type": "stream",
     "text": [
      "Studentas(-e) Petras Petraitis mokosi KTU\n",
      "Studentas(-e) Inga Ingauskytė mokosi KTU\n",
      "Studentas(-e) Jonas Jonaitis mokosi VDU\n",
      "Studentas(-e) Gintarė Gintarytė mokosi VDU\n"
     ]
    }
   ],
   "source": [
    "from csv import DictReader\n",
    "\n",
    "with open('./studentai.csv', encoding='utf8') as file:\n",
    "    csv_reader = DictReader(file)\n",
    "    for row in csv_reader:\n",
    "        print(f\"Studentas(-e) {row['Vardas']} {row['Pavardė']} mokosi {row['Mokykla']}\")"
   ]
  },
  {
   "cell_type": "code",
   "execution_count": 9,
   "metadata": {},
   "outputs": [
    {
     "name": "stdout",
     "output_type": "stream",
     "text": [
      "OrderedDict([('Vardas', 'Petras'), ('Pavardė', 'Petraitis'), ('Amžius', '21'), ('Mokykla', 'KTU'), ('Kursas', '3')])\n",
      "OrderedDict([('Vardas', 'Inga'), ('Pavardė', 'Ingauskytė'), ('Amžius', '22'), ('Mokykla', 'KTU'), ('Kursas', '4')])\n",
      "OrderedDict([('Vardas', 'Jonas'), ('Pavardė', 'Jonaitis'), ('Amžius', '20'), ('Mokykla', 'VDU'), ('Kursas', '2')])\n",
      "OrderedDict([('Vardas', 'Gintarė'), ('Pavardė', 'Gintarytė'), ('Amžius', '21'), ('Mokykla', 'VDU'), ('Kursas', '3')])\n"
     ]
    }
   ],
   "source": [
    "from csv import DictReader\n",
    "\n",
    "with open('./studentai.csv', encoding='utf8') as file:\n",
    "    csv_reader = DictReader(file, delimiter=',') # delimiter leidzia pakeisti skirtuka csv faile\n",
    "    for row in csv_reader:\n",
    "        print(row)"
   ]
  },
  {
   "cell_type": "code",
   "execution_count": null,
   "metadata": {},
   "outputs": [],
   "source": [
    "from csv import reader\n",
    "\n",
    "with open('./studentai.csv', encoding='utf8') as file:\n",
    "    csv_reader = reader(file, delimiter=',') # delimiter galima naudoti ir su paprastu reader\n",
    "    for row in csv_reader:\n",
    "        print(row)"
   ]
  },
  {
   "cell_type": "code",
   "execution_count": 12,
   "metadata": {},
   "outputs": [
    {
     "name": "stdout",
     "output_type": "stream",
     "text": [
      "[OrderedDict([('Vardas', 'Petras'), ('Pavardė', 'Petraitis'), ('Amžius', '21'), ('Mokykla', 'KTU'), ('Kursas', '3')]), OrderedDict([('Vardas', 'Inga'), ('Pavardė', 'Ingauskytė'), ('Amžius', '22'), ('Mokykla', 'KTU'), ('Kursas', '4')]), OrderedDict([('Vardas', 'Jonas'), ('Pavardė', 'Jonaitis'), ('Amžius', '20'), ('Mokykla', 'VDU'), ('Kursas', '2')]), OrderedDict([('Vardas', 'Gintarė'), ('Pavardė', 'Gintarytė'), ('Amžius', '21'), ('Mokykla', 'VDU'), ('Kursas', '3')])]\n"
     ]
    }
   ],
   "source": [
    "from csv import DictReader\n",
    "\n",
    "studentai = []\n",
    "\n",
    "with open('./studentai.csv', encoding='utf8') as file:\n",
    "    csv_reader = DictReader(file, delimiter=',')\n",
    "    studentai = list(csv_reader)\n",
    "\n",
    "print(studentai)"
   ]
  },
  {
   "cell_type": "code",
   "execution_count": 13,
   "metadata": {},
   "outputs": [
    {
     "name": "stdout",
     "output_type": "stream",
     "text": [
      "Inga yra vyriausias(-a) studentas(-e), su amžiumi 22\n"
     ]
    }
   ],
   "source": [
    "vyriausias_studentas = studentai[0]\n",
    "\n",
    "for studentas in studentai:\n",
    "    if int(studentas['Amžius']) > int(vyriausias_studentas['Amžius']):\n",
    "        vyriausias_studentas = studentas\n",
    "\n",
    "print(vyriausias_studentas['Vardas'], 'yra vyriausias(-a) studentas(-e), su amžiumi', vyriausias_studentas['Amžius'])"
   ]
  },
  {
   "attachments": {},
   "cell_type": "markdown",
   "metadata": {},
   "source": [
    "## Užduotys"
   ]
  },
  {
   "attachments": {},
   "cell_type": "markdown",
   "metadata": {},
   "source": [
    "### Užduotys 1\n",
    "\n",
    "Susikurkite csv failiuką su norimais duomenimis. Nuskaitykite pasirinktą csv failiuką ir paskaičiuokite bent 2 dalykus (pvz min/max pagal kažkurį atributą, sumą, ar pan.)."
   ]
  },
  {
   "cell_type": "code",
   "execution_count": null,
   "metadata": {},
   "outputs": [],
   "source": [
    "# Kodą rašykite čia..."
   ]
  }
 ],
 "metadata": {
  "kernelspec": {
   "display_name": ".venv",
   "language": "python",
   "name": "python3"
  },
  "language_info": {
   "codemirror_mode": {
    "name": "ipython",
    "version": 3
   },
   "file_extension": ".py",
   "mimetype": "text/x-python",
   "name": "python",
   "nbconvert_exporter": "python",
   "pygments_lexer": "ipython3",
   "version": "3.7.9"
  },
  "orig_nbformat": 4,
  "vscode": {
   "interpreter": {
    "hash": "8b0319d8c3bac02799e5ffba1feda405c2489fe48f4a9695597a0272ab68e58c"
   }
  }
 },
 "nbformat": 4,
 "nbformat_minor": 2
}
