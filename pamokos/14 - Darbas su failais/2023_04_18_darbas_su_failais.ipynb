{
  "nbformat": 4,
  "nbformat_minor": 0,
  "metadata": {
    "colab": {
      "provenance": []
    },
    "kernelspec": {
      "name": "python3",
      "display_name": "Python 3"
    },
    "language_info": {
      "name": "python"
    }
  },
  "cells": [
    {
      "cell_type": "code",
      "execution_count": 4,
      "metadata": {
        "id": "2OwRPAL_0KL6"
      },
      "outputs": [],
      "source": [
        "failas = open('tekstinis.txt', encoding='utf8')"
      ]
    },
    {
      "cell_type": "code",
      "source": [
        "failas.read()"
      ],
      "metadata": {
        "colab": {
          "base_uri": "https://localhost:8080/",
          "height": 35
        },
        "id": "rglpMko-2wjj",
        "outputId": "6c3d8877-2f59-4689-ade4-f3d24a3a2848"
      },
      "execution_count": 5,
      "outputs": [
        {
          "output_type": "execute_result",
          "data": {
            "text/plain": [
              "'pirma eilutė\\nantra eilutė\\ndar kažkokia eilutė\\nir paskutinė eilutė'"
            ],
            "application/vnd.google.colaboratory.intrinsic+json": {
              "type": "string"
            }
          },
          "metadata": {},
          "execution_count": 5
        }
      ]
    },
    {
      "cell_type": "code",
      "source": [
        "failas.read()"
      ],
      "metadata": {
        "colab": {
          "base_uri": "https://localhost:8080/",
          "height": 35
        },
        "id": "sbnfwsCP39DT",
        "outputId": "8c60d818-a560-4568-eb3f-1d8532e916aa"
      },
      "execution_count": 6,
      "outputs": [
        {
          "output_type": "execute_result",
          "data": {
            "text/plain": [
              "''"
            ],
            "application/vnd.google.colaboratory.intrinsic+json": {
              "type": "string"
            }
          },
          "metadata": {},
          "execution_count": 6
        }
      ]
    },
    {
      "cell_type": "code",
      "source": [
        "failas.seek(0)"
      ],
      "metadata": {
        "colab": {
          "base_uri": "https://localhost:8080/"
        },
        "id": "tJK3MxlA4P9L",
        "outputId": "a8f0948f-2e4a-40f9-b0d8-2057e5a7d5d2"
      },
      "execution_count": 7,
      "outputs": [
        {
          "output_type": "execute_result",
          "data": {
            "text/plain": [
              "0"
            ]
          },
          "metadata": {},
          "execution_count": 7
        }
      ]
    },
    {
      "cell_type": "code",
      "source": [
        "failas.readline()"
      ],
      "metadata": {
        "colab": {
          "base_uri": "https://localhost:8080/",
          "height": 35
        },
        "id": "4A8NRTdN4SW-",
        "outputId": "f4de0118-c25c-4e75-a1ef-22b30f6a292c"
      },
      "execution_count": 8,
      "outputs": [
        {
          "output_type": "execute_result",
          "data": {
            "text/plain": [
              "'pirma eilutė\\n'"
            ],
            "application/vnd.google.colaboratory.intrinsic+json": {
              "type": "string"
            }
          },
          "metadata": {},
          "execution_count": 8
        }
      ]
    },
    {
      "cell_type": "code",
      "source": [
        "# failo atidarymas - open()\n",
        "# failo uždarymas - close()\n",
        "# peršokimas į kažkurią poziciją (simbolis) - seek()"
      ],
      "metadata": {
        "id": "wDHfOHGX4bZK"
      },
      "execution_count": null,
      "outputs": []
    },
    {
      "cell_type": "code",
      "source": [
        "# read() - visas tekstas -> str ''\n",
        "# readline() - viena eilutė -> str ''\n",
        "# readlines() - visos eilutės -> list []"
      ],
      "metadata": {
        "id": "lz_0eJNx4lOO"
      },
      "execution_count": null,
      "outputs": []
    },
    {
      "cell_type": "code",
      "source": [
        "failas.readline()"
      ],
      "metadata": {
        "colab": {
          "base_uri": "https://localhost:8080/",
          "height": 35
        },
        "id": "6x_tHkhC5KaM",
        "outputId": "1c364d1a-ef3d-4393-f12e-65fe6dfb6b4e"
      },
      "execution_count": 9,
      "outputs": [
        {
          "output_type": "execute_result",
          "data": {
            "text/plain": [
              "'antra eilutė\\n'"
            ],
            "application/vnd.google.colaboratory.intrinsic+json": {
              "type": "string"
            }
          },
          "metadata": {},
          "execution_count": 9
        }
      ]
    },
    {
      "cell_type": "code",
      "source": [
        "failas.seek(0)"
      ],
      "metadata": {
        "colab": {
          "base_uri": "https://localhost:8080/"
        },
        "id": "IO8QcxO95LlW",
        "outputId": "96d2b2af-6e44-49b9-e246-ad17326c7332"
      },
      "execution_count": 13,
      "outputs": [
        {
          "output_type": "execute_result",
          "data": {
            "text/plain": [
              "0"
            ]
          },
          "metadata": {},
          "execution_count": 13
        }
      ]
    },
    {
      "cell_type": "code",
      "source": [
        "visas_tekstas = failas.read()\n",
        "print(visas_tekstas)"
      ],
      "metadata": {
        "colab": {
          "base_uri": "https://localhost:8080/"
        },
        "id": "Ri7FnDlK5SPr",
        "outputId": "a0070e69-aed0-4732-86d2-9f1f8f632025"
      },
      "execution_count": 14,
      "outputs": [
        {
          "output_type": "stream",
          "name": "stdout",
          "text": [
            "pirma eilutė\n",
            "antra eilutė\n",
            "dar kažkokia eilutė\n",
            "ir paskutinė eilutė\n"
          ]
        }
      ]
    },
    {
      "cell_type": "code",
      "source": [
        "eilutes = visas_tekstas.splitlines()\n",
        "print('Visas tekstas:', eilutes)\n",
        "print('Eilučių kiekis:', len(eilutes))"
      ],
      "metadata": {
        "colab": {
          "base_uri": "https://localhost:8080/"
        },
        "id": "Cue3rkYd5mBT",
        "outputId": "f750097c-10e4-4546-c500-9f3f9acad6ce"
      },
      "execution_count": 17,
      "outputs": [
        {
          "output_type": "stream",
          "name": "stdout",
          "text": [
            "Visas tekstas: ['pirma eilutė', 'antra eilutė', 'dar kažkokia eilutė', 'ir paskutinė eilutė']\n",
            "Eilučių kiekis: 4\n"
          ]
        }
      ]
    },
    {
      "cell_type": "code",
      "source": [
        "zodziai = visas_tekstas.replace('\\n', ' ').split(' ')\n",
        "print('Turimi žodžiai:', zodziai)"
      ],
      "metadata": {
        "colab": {
          "base_uri": "https://localhost:8080/"
        },
        "id": "0kku6QBe6SFs",
        "outputId": "3c366d5e-6ec1-43b7-b9f4-ff361ef09fd4"
      },
      "execution_count": 20,
      "outputs": [
        {
          "output_type": "stream",
          "name": "stdout",
          "text": [
            "Turimi žodžiai: ['pirma', 'eilutė', 'antra', 'eilutė', 'dar', 'kažkokia', 'eilutė', 'ir', 'paskutinė', 'eilutė']\n"
          ]
        }
      ]
    },
    {
      "cell_type": "code",
      "source": [
        "import re\n",
        "zodziai2 = re.split('\\n| ', visas_tekstas)\n",
        "print('Turimi žodžiai:', zodziai2)"
      ],
      "metadata": {
        "colab": {
          "base_uri": "https://localhost:8080/"
        },
        "id": "4K-rHCCG68t2",
        "outputId": "c8d083de-4bd0-4083-cf0a-0ed43c859170"
      },
      "execution_count": 21,
      "outputs": [
        {
          "output_type": "stream",
          "name": "stdout",
          "text": [
            "Turimi žodžiai: ['pirma', 'eilutė', 'antra', 'eilutė', 'dar', 'kažkokia', 'eilutė', 'ir', 'paskutinė', 'eilutė']\n"
          ]
        }
      ]
    },
    {
      "cell_type": "code",
      "source": [
        "failas.seek(0)"
      ],
      "metadata": {
        "colab": {
          "base_uri": "https://localhost:8080/"
        },
        "id": "cfJeN7Fi7itV",
        "outputId": "e9d3998d-9c08-4700-d7f0-271d9e311915"
      },
      "execution_count": 24,
      "outputs": [
        {
          "output_type": "execute_result",
          "data": {
            "text/plain": [
              "0"
            ]
          },
          "metadata": {},
          "execution_count": 24
        }
      ]
    },
    {
      "cell_type": "code",
      "source": [
        "eilutes = failas.readlines()"
      ],
      "metadata": {
        "id": "qWS5JPZV7k_q"
      },
      "execution_count": 25,
      "outputs": []
    },
    {
      "cell_type": "code",
      "source": [
        "eilutes = [ eilute.strip() for eilute in eilutes ]"
      ],
      "metadata": {
        "id": "sxXWRdEs72TU"
      },
      "execution_count": 26,
      "outputs": []
    },
    {
      "cell_type": "code",
      "source": [
        "eilutes"
      ],
      "metadata": {
        "colab": {
          "base_uri": "https://localhost:8080/"
        },
        "id": "htvlYQ7O8F9r",
        "outputId": "8a2c0328-451f-45d2-88fb-748400d6379a"
      },
      "execution_count": 27,
      "outputs": [
        {
          "output_type": "execute_result",
          "data": {
            "text/plain": [
              "['pirma eilutė', 'antra eilutė', 'dar kažkokia eilutė', 'ir paskutinė eilutė']"
            ]
          },
          "metadata": {},
          "execution_count": 27
        }
      ]
    },
    {
      "cell_type": "code",
      "source": [
        "failas.closed"
      ],
      "metadata": {
        "colab": {
          "base_uri": "https://localhost:8080/"
        },
        "id": "u_Yy4j_l8cD0",
        "outputId": "dbf08986-66bf-42ec-d396-4b711728482b"
      },
      "execution_count": 28,
      "outputs": [
        {
          "output_type": "execute_result",
          "data": {
            "text/plain": [
              "False"
            ]
          },
          "metadata": {},
          "execution_count": 28
        }
      ]
    },
    {
      "cell_type": "code",
      "source": [
        "failas.close()"
      ],
      "metadata": {
        "id": "2riBTW7H8i6J"
      },
      "execution_count": 29,
      "outputs": []
    },
    {
      "cell_type": "code",
      "source": [
        "failas.closed"
      ],
      "metadata": {
        "colab": {
          "base_uri": "https://localhost:8080/"
        },
        "id": "mHOT1tYi8mOM",
        "outputId": "dcbe3eb3-e8c5-4e0a-f4c5-ce6615c2a119"
      },
      "execution_count": 30,
      "outputs": [
        {
          "output_type": "execute_result",
          "data": {
            "text/plain": [
              "True"
            ]
          },
          "metadata": {},
          "execution_count": 30
        }
      ]
    },
    {
      "cell_type": "code",
      "source": [
        "failas.read()"
      ],
      "metadata": {
        "colab": {
          "base_uri": "https://localhost:8080/",
          "height": 166
        },
        "id": "NrSNTmG18pGe",
        "outputId": "0cd4e422-241b-4845-e09d-e798c9770952"
      },
      "execution_count": 31,
      "outputs": [
        {
          "output_type": "error",
          "ename": "ValueError",
          "evalue": "ignored",
          "traceback": [
            "\u001b[0;31m---------------------------------------------------------------------------\u001b[0m",
            "\u001b[0;31mValueError\u001b[0m                                Traceback (most recent call last)",
            "\u001b[0;32m<ipython-input-31-ebceeed28ca1>\u001b[0m in \u001b[0;36m<cell line: 1>\u001b[0;34m()\u001b[0m\n\u001b[0;32m----> 1\u001b[0;31m \u001b[0mfailas\u001b[0m\u001b[0;34m.\u001b[0m\u001b[0mread\u001b[0m\u001b[0;34m(\u001b[0m\u001b[0;34m)\u001b[0m\u001b[0;34m\u001b[0m\u001b[0;34m\u001b[0m\u001b[0m\n\u001b[0m",
            "\u001b[0;31mValueError\u001b[0m: I/O operation on closed file."
          ]
        }
      ]
    },
    {
      "cell_type": "code",
      "source": [
        "with open('tekstinis.txt', encoding='utf8') as failas:\n",
        "    duomenys = failas.read().splitlines()\n",
        "\n",
        "print(duomenys)"
      ],
      "metadata": {
        "colab": {
          "base_uri": "https://localhost:8080/"
        },
        "id": "eHSRmFWZ9TzH",
        "outputId": "9907c9b8-b0cc-4858-d060-19b5e7517997"
      },
      "execution_count": 33,
      "outputs": [
        {
          "output_type": "stream",
          "name": "stdout",
          "text": [
            "['pirma eilutė', 'antra eilutė', 'dar kažkokia eilutė', 'ir paskutinė eilutė']\n"
          ]
        }
      ]
    },
    {
      "cell_type": "code",
      "source": [
        "with open('tekstinis.txt', encoding='utf8') as failas:\n",
        "    duomenys = failas.read().splitlines()\n",
        "    print('Ar failas uždarytas?', failas.closed)\n",
        "\n",
        "print(duomenys)\n",
        "print('Ar failas uždarytas?', failas.closed)"
      ],
      "metadata": {
        "colab": {
          "base_uri": "https://localhost:8080/"
        },
        "id": "KirsGvWM9-Nj",
        "outputId": "a4da9dd0-d42b-4d97-f63a-92a31f5c5d51"
      },
      "execution_count": 34,
      "outputs": [
        {
          "output_type": "stream",
          "name": "stdout",
          "text": [
            "Ar failas uždarytas? False\n",
            "['pirma eilutė', 'antra eilutė', 'dar kažkokia eilutė', 'ir paskutinė eilutė']\n",
            "Ar failas uždarytas? True\n"
          ]
        }
      ]
    },
    {
      "cell_type": "code",
      "source": [
        "studentai = []\n",
        "\n",
        "with open('pazymiai.txt', encoding='utf8') as failas:\n",
        "    for eilute in failas:\n",
        "      # print(eilute)\n",
        "      vardas, *pazymiai = eilute.strip().split()\n",
        "      pazymiai = list(map(int, pazymiai))\n",
        "      # print(duomenys)\n",
        "      # print('vardas:', vardas)\n",
        "      # print('pažymiai:', pazymiai)\n",
        "      studentai.append([vardas, pazymiai])\n",
        "    \n",
        "print(studentai)"
      ],
      "metadata": {
        "colab": {
          "base_uri": "https://localhost:8080/"
        },
        "id": "T246sva5_AfH",
        "outputId": "e4a4b7f6-8f85-4116-9561-2fa577b841aa"
      },
      "execution_count": 43,
      "outputs": [
        {
          "output_type": "stream",
          "name": "stdout",
          "text": [
            "[['Jonas', [10, 8, 9]], ['Petras', [9, 9, 10, 10]], ['Paulina', [9, 8]], ['Inga', [10, 7, 10]]]\n"
          ]
        }
      ]
    },
    {
      "cell_type": "code",
      "source": [
        "print(studentai[2])\n",
        "print(studentai[2][1])\n",
        "print(studentai[2][1][1])"
      ],
      "metadata": {
        "colab": {
          "base_uri": "https://localhost:8080/"
        },
        "id": "JUQ_0Ut2CJYz",
        "outputId": "8d8c965b-c611-43c6-dcca-5eac1132c8bf"
      },
      "execution_count": 46,
      "outputs": [
        {
          "output_type": "stream",
          "name": "stdout",
          "text": [
            "['Paulina', [9, 8]]\n",
            "[9, 8]\n",
            "8\n"
          ]
        }
      ]
    },
    {
      "cell_type": "code",
      "source": [
        "studentai = []\n",
        "\n",
        "with open('pazymiai.txt', encoding='utf8') as failas:\n",
        "    for eilute in failas:\n",
        "      vardas, *pazymiai = eilute.strip().split()\n",
        "      pazymiai = list(map(int, pazymiai))\n",
        "      studentas = {\n",
        "          'vardas': vardas,\n",
        "          'pazymiai': pazymiai\n",
        "      }\n",
        "      studentai.append(studentas)\n",
        "    \n",
        "print(studentai)"
      ],
      "metadata": {
        "colab": {
          "base_uri": "https://localhost:8080/"
        },
        "id": "jOidWqh5Ck_R",
        "outputId": "798c2e59-54b5-4456-bca6-d941b1896580"
      },
      "execution_count": 48,
      "outputs": [
        {
          "output_type": "stream",
          "name": "stdout",
          "text": [
            "[{'vardas': 'Jonas', 'pazymiai': [10, 8, 9]}, {'vardas': 'Petras', 'pazymiai': [9, 9, 10, 10]}, {'vardas': 'Paulina', 'pazymiai': [9, 8]}, {'vardas': 'Inga', 'pazymiai': [10, 7, 10]}]\n"
          ]
        }
      ]
    },
    {
      "cell_type": "code",
      "source": [
        "print(studentai[2])\n",
        "print(studentai[2]['pazymiai'])\n",
        "print(studentai[2]['pazymiai'][1])"
      ],
      "metadata": {
        "colab": {
          "base_uri": "https://localhost:8080/"
        },
        "id": "j_7KPmYLC_JC",
        "outputId": "b29ba631-c9d4-457a-9a4e-cbbc3d12cf7b"
      },
      "execution_count": 51,
      "outputs": [
        {
          "output_type": "stream",
          "name": "stdout",
          "text": [
            "{'vardas': 'Paulina', 'pazymiai': [9, 8]}\n",
            "[9, 8]\n",
            "8\n"
          ]
        }
      ]
    },
    {
      "cell_type": "code",
      "source": [
        "studentai = []\n",
        "\n",
        "with open(\"pazymiai2.txt\", encoding='utf8') as failas:\n",
        "    kiek = int(failas.readline())\n",
        "    # print(kiek)\n",
        "\n",
        "    # for kelintas in range(kiek):\n",
        "    #     eilute = failas.readline()\n",
        "\n",
        "    for eilute in failas:\n",
        "      # print(eilute)\n",
        "      vardas = eilute[:15].strip()\n",
        "      visa_kita = eilute[15:]\n",
        "      kiek_paz, *pazymiai = list( map(int, visa_kita.split()) )\n",
        "      studentas = {\n",
        "          'vardas': vardas,\n",
        "          'kiek_pazymiu': kiek_paz,\n",
        "          'pazymiai': pazymiai\n",
        "      }\n",
        "      studentai.append(studentas)\n",
        "      # print(vardas)\n",
        "      # print(visa_kita)\n",
        "\n",
        "print(studentai)"
      ],
      "metadata": {
        "colab": {
          "base_uri": "https://localhost:8080/"
        },
        "id": "g4c3McSWESX0",
        "outputId": "73599804-67f8-4fee-ebf6-0771194c47ae"
      },
      "execution_count": 59,
      "outputs": [
        {
          "output_type": "stream",
          "name": "stdout",
          "text": [
            "[{'vardas': 'Jonas Petras', 'kiek_pazymiu': 3, 'pazymiai': [10, 8, 9]}, {'vardas': 'Petras', 'kiek_pazymiu': 4, 'pazymiai': [9, 9, 10, 10]}, {'vardas': 'Paulina', 'kiek_pazymiu': 2, 'pazymiai': [9, 8]}, {'vardas': 'Inga', 'kiek_pazymiu': 3, 'pazymiai': [10, 7, 10]}]\n"
          ]
        }
      ]
    },
    {
      "cell_type": "code",
      "source": [
        "kiekiai = [ studentas['kiek_pazymiu'] for studentas in studentai ]"
      ],
      "metadata": {
        "id": "w7phR-RzHKx1"
      },
      "execution_count": 60,
      "outputs": []
    },
    {
      "cell_type": "code",
      "source": [
        "print(kiekiai)"
      ],
      "metadata": {
        "colab": {
          "base_uri": "https://localhost:8080/"
        },
        "id": "ujURx0RsHU7-",
        "outputId": "380547ca-0706-460b-a934-c2bf19f846ab"
      },
      "execution_count": 61,
      "outputs": [
        {
          "output_type": "stream",
          "name": "stdout",
          "text": [
            "[3, 4, 2, 3]\n"
          ]
        }
      ]
    },
    {
      "cell_type": "code",
      "source": [
        "print( sum(kiekiai) )"
      ],
      "metadata": {
        "colab": {
          "base_uri": "https://localhost:8080/"
        },
        "id": "kyh4mwKkHXIN",
        "outputId": "2bd68f5e-a3f6-430d-e181-8eb9023c06e2"
      },
      "execution_count": 62,
      "outputs": [
        {
          "output_type": "stream",
          "name": "stdout",
          "text": [
            "12\n"
          ]
        }
      ]
    },
    {
      "cell_type": "code",
      "source": [
        "suma = 0\n",
        "\n",
        "for studentas in studentai:\n",
        "    # print(studentas)\n",
        "    # print(studentas['kiek_pazymiu'])\n",
        "    suma += studentas['kiek_pazymiu']\n",
        "\n",
        "print(suma)"
      ],
      "metadata": {
        "colab": {
          "base_uri": "https://localhost:8080/"
        },
        "id": "fmiAIy--HjXk",
        "outputId": "03beacf1-e9f7-4b8f-d1d9-f8b15cbce7da"
      },
      "execution_count": 67,
      "outputs": [
        {
          "output_type": "stream",
          "name": "stdout",
          "text": [
            "12\n"
          ]
        }
      ]
    }
  ]
}