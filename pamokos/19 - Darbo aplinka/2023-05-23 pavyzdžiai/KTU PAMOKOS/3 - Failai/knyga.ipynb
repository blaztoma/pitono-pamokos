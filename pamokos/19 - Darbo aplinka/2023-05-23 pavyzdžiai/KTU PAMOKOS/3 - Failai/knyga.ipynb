{
 "cells": [
  {
   "cell_type": "code",
   "execution_count": 1,
   "metadata": {},
   "outputs": [
    {
     "name": "stdout",
     "output_type": "stream",
     "text": [
      "pirmas\n",
      "\n"
     ]
    }
   ],
   "source": [
    "with open('tekstas.txt') as failas:\n",
    "    print(failas.readline())"
   ]
  },
  {
   "cell_type": "code",
   "execution_count": 6,
   "metadata": {},
   "outputs": [],
   "source": [
    "with open('rezultatai.txt', 'w', encoding='utf8') as failas:\n",
    "    print('išvedimas', file=failas)\n",
    "    # failas.write('išvedimas atsakymas\\n')\n",
    "    # failas.write('antras atsakymas')"
   ]
  }
 ],
 "metadata": {
  "kernelspec": {
   "display_name": "Python 3",
   "language": "python",
   "name": "python3"
  },
  "language_info": {
   "codemirror_mode": {
    "name": "ipython",
    "version": 3
   },
   "file_extension": ".py",
   "mimetype": "text/x-python",
   "name": "python",
   "nbconvert_exporter": "python",
   "pygments_lexer": "ipython3",
   "version": "3.10.7"
  },
  "orig_nbformat": 4
 },
 "nbformat": 4,
 "nbformat_minor": 2
}
