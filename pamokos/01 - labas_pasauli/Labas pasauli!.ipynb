{
  "cells": [
    {
      "attachments": {},
      "cell_type": "markdown",
      "metadata": {},
      "source": [
        "[![Open In Colab](https://colab.research.google.com/assets/colab-badge.svg)](https://colab.research.google.com/github/blaztoma/pitono-pamokos/blob/main/pamokos/01%20-%20labas_pasauli/Labas%20pasauli!.ipynb)"
      ]
    },
    {
      "attachments": {},
      "cell_type": "markdown",
      "metadata": {},
      "source": [
        "# Labas pasauli!"
      ]
    },
    {
      "attachments": {},
      "cell_type": "markdown",
      "metadata": {},
      "source": [
        "Pradėkime susipažinimą su aplinka. Šioje aplinka kiek skiriasi nuo tradicinių programavimo aplinkų. Joje galima rašyti tektus ir programos kodus toje pačioje vietoje. Perskaitę šį tekstą pamėginkite įvykdyti žemiau esančia programą."
      ]
    },
    {
      "cell_type": "code",
      "execution_count": 2,
      "metadata": {},
      "outputs": [
        {
          "name": "stdout",
          "output_type": "stream",
          "text": [
            "Labas!\n"
          ]
        }
      ],
      "source": [
        "print(\"Labas!\")"
      ]
    },
    {
      "attachments": {},
      "cell_type": "markdown",
      "metadata": {},
      "source": [
        "# Užduotis"
      ]
    },
    {
      "attachments": {},
      "cell_type": "markdown",
      "metadata": {},
      "source": [
        "Na kaip, pavyko!? Tikrai turėjo pavykti. Na o dabar patys, savo paskyroje atlikite šiuos veiksmus:\n",
        "* Sukurkite failą pavadinimu \"Labas pasauli!\"\n",
        "* Parašykite savo pirmąją programą, kuri parašytų \"Laabas pasauli!\"\n",
        "* Įvykdykite programą ir pažiūrėkite ar ji pateikia tai ko tikėjotės."
      ]
    }
  ],
  "metadata": {
    "language_info": {
      "name": "python"
    }
  },
  "nbformat": 4,
  "nbformat_minor": 0
}
