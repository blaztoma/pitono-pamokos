{
 "cells": [
  {
   "attachments": {},
   "cell_type": "markdown",
   "metadata": {},
   "source": [
    "[![Open In Colab](https://colab.research.google.com/assets/colab-badge.svg)](https://colab.research.google.com/github/blaztoma/pitono-pamokos/blob/main/pamokos/18%20-%20Funkcijos/18-1%20-%20Funkcijos%206.ipynb)"
   ]
  },
  {
   "attachments": {},
   "cell_type": "markdown",
   "metadata": {},
   "source": [
    "# Funkcijos (6 dalis)"
   ]
  },
  {
   "attachments": {},
   "cell_type": "markdown",
   "metadata": {},
   "source": [
    "## Default parametrai funkcijose\n",
    "\n",
    "Funkcijos aprašymas:\n",
    "\n",
    "```\n",
    "def funkcijos_pavadinimas(parametras1, parametras2='default reiksme'):\n",
    "    # funkcijos kodas\n",
    "    return grazinamas_atsakymas\n",
    "```\n",
    "\n",
    "1-as iškvietimo variantas:\n",
    "\n",
    "```\n",
    "print( funkcijos_pavadinimas(argumentas1, argumentas2) )\n",
    "```\n",
    "\n",
    "2-as iškvietimo variantas:\n",
    "\n",
    "```\n",
    "print( funkcijos_pavadinimas(argumentas1) )\n",
    "```"
   ]
  },
  {
   "attachments": {},
   "cell_type": "markdown",
   "metadata": {},
   "source": [
    "## Pavyzdžiai"
   ]
  },
  {
   "cell_type": "code",
   "execution_count": 1,
   "metadata": {},
   "outputs": [
    {
     "name": "stdout",
     "output_type": "stream",
     "text": [
      "8\n",
      "9\n",
      "9\n",
      "49\n"
     ]
    }
   ],
   "source": [
    "def kelimas_laipsniu(skaicius, laipsnis=2):\n",
    "    return skaicius ** laipsnis\n",
    "\n",
    "print( kelimas_laipsniu(2, 3) )\n",
    "print( kelimas_laipsniu(3, 2) )\n",
    "print( kelimas_laipsniu(3) )\n",
    "print( kelimas_laipsniu(7) )"
   ]
  },
  {
   "cell_type": "code",
   "execution_count": 2,
   "metadata": {},
   "outputs": [
    {
     "name": "stdout",
     "output_type": "stream",
     "text": [
      "As galvojau tu lektore...\n",
      "Sveika sugrizus Ieva\n",
      "Labas Ugnius\n"
     ]
    }
   ],
   "source": [
    "def rodyti_informacija(vardas='Ieva', ar_lektorius=False):\n",
    "    if vardas == 'Ieva' and ar_lektorius:\n",
    "        return 'Sveika sugrizus Ieva'\n",
    "    elif vardas == 'Ieva':\n",
    "        return 'As galvojau tu lektore...'\n",
    "    return f'Labas {vardas}'\n",
    "\n",
    "print( rodyti_informacija() )\n",
    "print( rodyti_informacija(ar_lektorius=True) )\n",
    "print( rodyti_informacija('Ugnius') )"
   ]
  },
  {
   "attachments": {},
   "cell_type": "markdown",
   "metadata": {},
   "source": [
    "## Užduotys"
   ]
  },
  {
   "attachments": {},
   "cell_type": "markdown",
   "metadata": {},
   "source": [
    "### Užduotis 1\n",
    "\n",
    "Pabandykite parašyti bent dvi pasirinktas funkcijas, kuriose būtų naudojami default parametrai. Iškvieskite šias funkcijas įvairiais būdais (perduodant visus argumentus, bei neperduodant tų kuriuos galima praleisti (turinčius default reikšmes))."
   ]
  },
  {
   "cell_type": "code",
   "execution_count": null,
   "metadata": {},
   "outputs": [],
   "source": [
    "# Kodą rašykite čia..."
   ]
  }
 ],
 "metadata": {
  "kernelspec": {
   "display_name": "Python 3",
   "language": "python",
   "name": "python3"
  },
  "language_info": {
   "codemirror_mode": {
    "name": "ipython",
    "version": 3
   },
   "file_extension": ".py",
   "mimetype": "text/x-python",
   "name": "python",
   "nbconvert_exporter": "python",
   "pygments_lexer": "ipython3",
   "version": "3.7.9 (tags/v3.7.9:13c94747c7, Aug 17 2020, 18:58:18) [MSC v.1900 64 bit (AMD64)]"
  },
  "orig_nbformat": 4,
  "vscode": {
   "interpreter": {
    "hash": "aa11ca274996316222ef16f35c5f6dbeb467b694c0b2154cdf34dcf9271d5fd0"
   }
  }
 },
 "nbformat": 4,
 "nbformat_minor": 2
}
