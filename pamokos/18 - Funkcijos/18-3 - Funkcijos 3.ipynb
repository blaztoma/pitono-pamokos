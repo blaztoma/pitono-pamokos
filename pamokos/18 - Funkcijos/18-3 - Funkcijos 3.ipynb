{
 "cells": [
  {
   "attachments": {},
   "cell_type": "markdown",
   "metadata": {},
   "source": [
    "[![Open In Colab](https://colab.research.google.com/assets/colab-badge.svg)](https://colab.research.google.com/github/blaztoma/pitono-pamokos/blob/main/pamokos/18%20-%20Funkcijos/18-1%20-%20Funkcijos%203.ipynb)"
   ]
  },
  {
   "attachments": {},
   "cell_type": "markdown",
   "metadata": {},
   "source": [
    "# Funkcijos (3 dalis)"
   ]
  },
  {
   "attachments": {},
   "cell_type": "markdown",
   "metadata": {},
   "source": [
    "## Pavyzdžiai"
   ]
  },
  {
   "cell_type": "code",
   "execution_count": 1,
   "metadata": {},
   "outputs": [
    {
     "name": "stdout",
     "output_type": "stream",
     "text": [
      "Skaiciai\n",
      "- 8\n",
      "- 7\n",
      "- 9\n",
      "\n",
      "Zmones\n",
      "- Asta\n",
      "- Inga\n",
      "- Giedrius\n",
      "- Justas\n",
      "\n"
     ]
    }
   ],
   "source": [
    "def isvesti_masyva(komentaras, masyvas):\n",
    "    print(komentaras)\n",
    "    for elementas in masyvas:\n",
    "        print('-', elementas)\n",
    "    print()\n",
    "\n",
    "skaiciai = [8, 7, 9]\n",
    "zmones = ['Asta', 'Inga', 'Giedrius', 'Justas']\n",
    "\n",
    "isvesti_masyva('Skaiciai', skaiciai)\n",
    "isvesti_masyva('Zmones', zmones)"
   ]
  },
  {
   "cell_type": "code",
   "execution_count": 2,
   "metadata": {},
   "outputs": [
    {
     "name": "stdout",
     "output_type": "stream",
     "text": [
      "DUOMENYS: 6, 8, 6, 10, 8, 7\n",
      "gauta suma: 45\n",
      "\n",
      "DUOMENYS: 23, 65, 74, 28\n",
      "gauta suma: 190\n",
      "\n"
     ]
    }
   ],
   "source": [
    "def masyvo_isvedimas(masyvas):\n",
    "    tekstu = ', '.join(map(str, masyvas))\n",
    "    print('DUOMENYS:', tekstu)\n",
    "\n",
    "def sumos_paieska(skaiciu_masyvas):\n",
    "    suma = 0\n",
    "    for sk in skaiciu_masyvas:\n",
    "        suma += sk\n",
    "    print('gauta suma:', suma)\n",
    "    print()\n",
    "\n",
    "skaiciai1 = [6, 8, 6, 10, 8, 7]\n",
    "skaiciai2 = [23, 65, 74, 28]\n",
    "\n",
    "masyvo_isvedimas(skaiciai1)\n",
    "sumos_paieska(skaiciai1)\n",
    "\n",
    "masyvo_isvedimas(skaiciai2)\n",
    "sumos_paieska(skaiciai2)"
   ]
  },
  {
   "cell_type": "code",
   "execution_count": 3,
   "metadata": {},
   "outputs": [
    {
     "name": "stdout",
     "output_type": "stream",
     "text": [
      "skaiciai1: [7, 8, 99, 14, 557, 21, 23]\n",
      "didziausias rastas skaicius: 557\n",
      "skaiciai2: [9, 7, 4, 2, 3, 6, 8, 10, 21, 5]\n",
      "didziausias rastas skaicius: 21\n"
     ]
    }
   ],
   "source": [
    "def didziausio_paieska(skaiciu_masyvas):\n",
    "    max = skaiciu_masyvas[0]\n",
    "\n",
    "    for skaicius in skaiciu_masyvas:\n",
    "        if skaicius > max:\n",
    "            max = skaicius\n",
    "\n",
    "    print('didziausias rastas skaicius:', max)\n",
    "\n",
    "\n",
    "skaiciai1 = [7, 8, 99, 14, 557, 21, 23]\n",
    "skaiciai2 = [9, 7, 4, 2, 3, 6, 8, 10, 21, 5]\n",
    "\n",
    "print('skaiciai1:', skaiciai1)\n",
    "didziausio_paieska(skaiciai1)\n",
    "\n",
    "print('skaiciai2:',skaiciai2)\n",
    "didziausio_paieska(skaiciai2)"
   ]
  },
  {
   "cell_type": "code",
   "execution_count": 4,
   "metadata": {},
   "outputs": [
    {
     "name": "stdout",
     "output_type": "stream",
     "text": [
      "pirmi skaiciai\n",
      "[7, 6, 8, 9, 7, 6, 8, 8, 10, 9]\n",
      "\n",
      "suma: 78\n",
      "\n",
      "antri skaiciai\n",
      "[8, 2, 2, 6, 9]\n",
      "\n",
      "suma: 27\n",
      "\n"
     ]
    }
   ],
   "source": [
    "from random import randint\n",
    "\n",
    "def atsitiktiniu_generavimas(kiek, min, max, masyvas):\n",
    "    for i in range(kiek):\n",
    "        masyvas.append( randint(min, max) )\n",
    "\n",
    "def masyvo_isvedimas(komentaras, masyvas):\n",
    "    print(komentaras)\n",
    "    print(masyvas)\n",
    "    print()\n",
    "\n",
    "def sumos_paieska(masyvas):\n",
    "    suma = 0\n",
    "    for el in masyvas:\n",
    "        suma += el\n",
    "    print('suma:', suma)\n",
    "    print()\n",
    "\n",
    "skaiciai1 = []\n",
    "skaiciai2 = []\n",
    "\n",
    "atsitiktiniu_generavimas(10, 5, 10, skaiciai1)\n",
    "atsitiktiniu_generavimas(5, 1, 10, skaiciai2)\n",
    "\n",
    "masyvo_isvedimas('pirmi skaiciai', skaiciai1)\n",
    "sumos_paieska(skaiciai1)\n",
    "\n",
    "masyvo_isvedimas('antri skaiciai', skaiciai2)\n",
    "sumos_paieska(skaiciai2)"
   ]
  },
  {
   "attachments": {},
   "cell_type": "markdown",
   "metadata": {},
   "source": [
    "## Užduotys"
   ]
  },
  {
   "attachments": {},
   "cell_type": "markdown",
   "metadata": {},
   "source": [
    "### Užduotis 1\n",
    "\n",
    "Susikurkite funkciją, kuri per argumentus priimtų žodžių masyvą. Funkcijoje išveskite visus žodžius iš masyvo atskirose eilutėse, nurodant žodžio ilgį (simbolių kiekį). Už funkcijos ribų susikurkite žodžių masyvą ir užpildykite jį duomenimis. Iškvieskite sukurtą funkciją perduodant turimą masyvą."
   ]
  },
  {
   "cell_type": "code",
   "execution_count": null,
   "metadata": {},
   "outputs": [],
   "source": [
    "# Kodą rašykite čia..."
   ]
  },
  {
   "attachments": {},
   "cell_type": "markdown",
   "metadata": {},
   "source": [
    "### Užduotis 2\n",
    "\n",
    "Susikurkite funkciją, kuri per argumentus priimtų skaičių masyvą. Funkcija turėtų atspausdinti visus skaičius, šalia jų išvedant to skaičiaus kvadratą ir jį padalintą iš dviejų. Už funkcijos ribų susikurkite du skaičių masyvus ir užpildykite jį duomenimis. Iškvieskite funkciją du kartus, kiekvieną kartą perduodant skirtingą turimą masyvą."
   ]
  },
  {
   "cell_type": "code",
   "execution_count": null,
   "metadata": {},
   "outputs": [],
   "source": [
    "# Kodą rašykite čia..."
   ]
  },
  {
   "attachments": {},
   "cell_type": "markdown",
   "metadata": {},
   "source": [
    "### Užduotis 3\n",
    "\n",
    "Susikurkite funkciją, kuri per argumentus priimtų pažymių masyvą, bei studento vardą su pavarde. Funkcija turėtų išvesti studento vardą ir pavardę, jo pažymius. Taip pat, suskaičiuoti vidurkį, bei jį išvesti. Už funkcijos ribų susikurkite reikiamus kintamuosius ir masyvus, arba objektus studentų pažymiams saugoti ir užpildykite juos duomenimis. Iškvieskite šią funkciją perduodant visus reikalingus duomenis."
   ]
  },
  {
   "cell_type": "code",
   "execution_count": null,
   "metadata": {},
   "outputs": [],
   "source": [
    "# Kodą rašykite čia..."
   ]
  },
  {
   "attachments": {},
   "cell_type": "markdown",
   "metadata": {},
   "source": [
    "### Užduotis 4\n",
    "\n",
    "Susikurkite funkciją, kuri per argumentus priimtų skaičių masyvą. Funkcija turėtų rasti didžiausią skaičių iš masyvo bei išvesti gautą atsakymus. Taip pat, susikurkite funkciją, kuri per argumentus priimtų masyvą ir į jį sugeneruotų pasirinktą kiekį atsitiktinių skaičių. Susikurkite tris tuščius masyvus. Iškvieskite atsitiktinių skaičių generavimo funkciją tris kartus, kiekvieną kartą perduodant funkcijai vis kitą masyvą. Kai duomenys bus užpildyti, masyvuose esančią informaciją išsiveskite norimu būdu (per `print` arba per dar atskirą funkciją). Tuomet kvieskite didžiausio skaičiaus paieškos funkciją tris kartus, kiekvieną kartą perduodant skirtingą masyvą į ją."
   ]
  },
  {
   "cell_type": "code",
   "execution_count": null,
   "metadata": {},
   "outputs": [],
   "source": [
    "# Kodą rašykite čia..."
   ]
  }
 ],
 "metadata": {
  "kernelspec": {
   "display_name": "Python 3",
   "language": "python",
   "name": "python3"
  },
  "language_info": {
   "codemirror_mode": {
    "name": "ipython",
    "version": 3
   },
   "file_extension": ".py",
   "mimetype": "text/x-python",
   "name": "python",
   "nbconvert_exporter": "python",
   "pygments_lexer": "ipython3",
   "version": "3.7.9 (tags/v3.7.9:13c94747c7, Aug 17 2020, 18:58:18) [MSC v.1900 64 bit (AMD64)]"
  },
  "orig_nbformat": 4,
  "vscode": {
   "interpreter": {
    "hash": "aa11ca274996316222ef16f35c5f6dbeb467b694c0b2154cdf34dcf9271d5fd0"
   }
  }
 },
 "nbformat": 4,
 "nbformat_minor": 2
}
