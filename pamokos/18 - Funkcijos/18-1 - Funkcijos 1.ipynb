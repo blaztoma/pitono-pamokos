{
 "cells": [
  {
   "attachments": {},
   "cell_type": "markdown",
   "metadata": {},
   "source": [
    "# Funkcijos (1 dalis)"
   ]
  },
  {
   "attachments": {},
   "cell_type": "markdown",
   "metadata": {},
   "source": [
    "## Apie funkcijas\n",
    "\n",
    "- Funkcijos skirtos atlikti tam tikras, konkrečias užduotis. Pavyzdžiui, nuskaityti failą, suskaičiuoti sumą, išvesti atsakymus ir pan.\n",
    "- Funkcija yra tam tam tikras veiksmų rinkinys, skirtas konkrečios vienos užduoties atlikimui.\n",
    "- Python turi daug iš anksto paruoštų funkcijų. Su kai kuriomis jau susipažinote, pvz, `range()`, `print()`, `randint()`, ir kt. Tačiau galite susikurti ir savo funkcijas.\n",
    "- Paprastai funkcijos kuriamos tada kai nesinori to paties algoritmo rašyti dar kartą, todėl aprašome funkciją, algoritmą aprašome vieną kartą, ir tą funkciją galime kviesti tiek kartų kiek reikia, o ji tą patį algoritmą jau įgyvendins pati tiek kartų kiek reikės.\n",
    "- Funkcija pati savavališkai nevykdo jokio kodo, todėl norint, kad ji atliktų kokį nors darbą - reikės ją iškviesti.\n",
    "- Jeigu funkcijai reikia kokių nors duomenų, jai tai galima perduoti kaip parametrus / argumentus.\n",
    "- Funkcija gali grąžinti kokio nors tipo atsakymą, o šį atsakymą jau galite naudoti ir kur nors išorėje."
   ]
  },
  {
   "attachments": {},
   "cell_type": "markdown",
   "metadata": {},
   "source": [
    "## Funkcijos sintaksė\n",
    "\n",
    "```\n",
    "def funkcijos_pavadinimas(parametras1, parametras2, ...):\n",
    "    # funkcijos kodas\n",
    "    return grazinamas_atsakymas\n",
    "```"
   ]
  },
  {
   "attachments": {},
   "cell_type": "markdown",
   "metadata": {},
   "source": [
    "## Pradėsime nuo šito\n",
    "\n",
    "Funkcijos sukūrimas:\n",
    "\n",
    "```\n",
    "def funkcijos_pavadinimas():\n",
    "    # funkcijos kodas\n",
    "```\n",
    "\n",
    "Funkcijos iškvietimas:\n",
    "\n",
    "```\n",
    "funkcijos_pavadinimas()\n",
    "```"
   ]
  },
  {
   "attachments": {},
   "cell_type": "markdown",
   "metadata": {},
   "source": [
    "## Pavyzdžiai"
   ]
  },
  {
   "cell_type": "code",
   "execution_count": 1,
   "metadata": {},
   "outputs": [
    {
     "name": "stdout",
     "output_type": "stream",
     "text": [
      "labas krabas\n"
     ]
    }
   ],
   "source": [
    "def pasisveikinti():\n",
    "    print('labas krabas')\n",
    "\n",
    "pasisveikinti()"
   ]
  },
  {
   "cell_type": "code",
   "execution_count": 2,
   "metadata": {},
   "outputs": [
    {
     "name": "stdout",
     "output_type": "stream",
     "text": [
      "labas rytas\n",
      "su peleda\n",
      "\n",
      "labas rytas\n",
      "su peleda\n",
      "\n",
      "labas rytas\n",
      "su peleda\n",
      "\n"
     ]
    }
   ],
   "source": [
    "def eilerastis():\n",
    "    print('labas rytas')\n",
    "    print('su peleda')\n",
    "    print()\n",
    "\n",
    "eilerastis()\n",
    "eilerastis()\n",
    "eilerastis()"
   ]
  },
  {
   "cell_type": "code",
   "execution_count": 3,
   "metadata": {},
   "outputs": [
    {
     "name": "stdout",
     "output_type": "stream",
     "text": [
      "sveiki prisijunge prie sistemos!\n",
      "\n",
      "atsijungete sekmingai\n",
      "lauksime sugriztant!\n",
      "\n"
     ]
    }
   ],
   "source": [
    "def pasisveikinti():\n",
    "    print('sveiki prisijunge prie sistemos!')\n",
    "    print()\n",
    "\n",
    "def atsisveikinti():\n",
    "    print('atsijungete sekmingai')\n",
    "    print('lauksime sugriztant!')\n",
    "    print()\n",
    "\n",
    "pasisveikinti()\n",
    "atsisveikinti()"
   ]
  },
  {
   "cell_type": "code",
   "execution_count": 6,
   "metadata": {},
   "outputs": [
    {
     "ename": "NameError",
     "evalue": "name 'pasisveikinti3' is not defined",
     "output_type": "error",
     "traceback": [
      "\u001b[1;31m---------------------------------------------------------------------------\u001b[0m",
      "\u001b[1;31mNameError\u001b[0m                                 Traceback (most recent call last)",
      "\u001b[1;32m~\\AppData\\Local\\Temp\\ipykernel_73904\\203518567.py\u001b[0m in \u001b[0;36m<module>\u001b[1;34m\u001b[0m\n\u001b[1;32m----> 1\u001b[1;33m \u001b[0mpasisveikinti3\u001b[0m\u001b[1;33m(\u001b[0m\u001b[1;33m)\u001b[0m\u001b[1;33m\u001b[0m\u001b[1;33m\u001b[0m\u001b[0m\n\u001b[0m\u001b[0;32m      2\u001b[0m \u001b[1;33m\u001b[0m\u001b[0m\n\u001b[0;32m      3\u001b[0m \u001b[1;32mdef\u001b[0m \u001b[0mpasisveikinti3\u001b[0m\u001b[1;33m(\u001b[0m\u001b[1;33m)\u001b[0m\u001b[1;33m:\u001b[0m\u001b[1;33m\u001b[0m\u001b[1;33m\u001b[0m\u001b[0m\n\u001b[0;32m      4\u001b[0m     \u001b[0mprint\u001b[0m\u001b[1;33m(\u001b[0m\u001b[1;34m'labas rytelis'\u001b[0m\u001b[1;33m)\u001b[0m\u001b[1;33m\u001b[0m\u001b[1;33m\u001b[0m\u001b[0m\n",
      "\u001b[1;31mNameError\u001b[0m: name 'pasisveikinti3' is not defined"
     ]
    }
   ],
   "source": [
    "pasisveikinti3()\n",
    "\n",
    "def pasisveikinti3():\n",
    "    print('labas rytelis')"
   ]
  },
  {
   "cell_type": "code",
   "execution_count": 7,
   "metadata": {},
   "outputs": [
    {
     "name": "stdout",
     "output_type": "stream",
     "text": [
      "pirmos funkcijos pradzia\n",
      "pirmos funkcijos pabaiga\n",
      "antros funkcijos pradzia\n",
      "pirmos funkcijos pradzia\n",
      "pirmos funkcijos pabaiga\n",
      "antros funkcijos pabaiga\n"
     ]
    }
   ],
   "source": [
    "def pirma():\n",
    "    print('pirmos funkcijos pradzia')\n",
    "    print('pirmos funkcijos pabaiga')\n",
    "\n",
    "def antra():\n",
    "    print('antros funkcijos pradzia')\n",
    "    pirma()\n",
    "    print('antros funkcijos pabaiga')\n",
    "\n",
    "pirma()\n",
    "antra()"
   ]
  },
  {
   "cell_type": "code",
   "execution_count": 8,
   "metadata": {},
   "outputs": [
    {
     "name": "stdout",
     "output_type": "stream",
     "text": [
      "5\n"
     ]
    }
   ],
   "source": [
    "def isvedimas():\n",
    "    print(skaicius)\n",
    "\n",
    "skaicius = 5\n",
    "\n",
    "isvedimas()"
   ]
  },
  {
   "cell_type": "code",
   "execution_count": 9,
   "metadata": {},
   "outputs": [
    {
     "name": "stdout",
     "output_type": "stream",
     "text": [
      "6\n"
     ]
    }
   ],
   "source": [
    "def isvedimas2():\n",
    "    skaicius = 6\n",
    "    print(skaicius)\n",
    "\n",
    "skaicius = 5\n",
    "\n",
    "isvedimas2()"
   ]
  },
  {
   "attachments": {},
   "cell_type": "markdown",
   "metadata": {},
   "source": [
    "## Užduotys"
   ]
  },
  {
   "attachments": {},
   "cell_type": "markdown",
   "metadata": {},
   "source": [
    "### Užduotis 1\n",
    "\n",
    "Sukurkite funkciją, kuri išvestų jūsų vardą ir kodėl pasirinkote programavimą. Iškvieskite šią funkciją tris kartus."
   ]
  },
  {
   "cell_type": "code",
   "execution_count": null,
   "metadata": {},
   "outputs": [],
   "source": [
    "# Kodą rašykite čia..."
   ]
  },
  {
   "attachments": {},
   "cell_type": "markdown",
   "metadata": {},
   "source": [
    "### Užduotis 2\n",
    "\n",
    "Sukurkite funkciją, kuri išvestų 5 eilučių eilėraštį. Iškvieskite šią funkciją 5 kartus."
   ]
  },
  {
   "cell_type": "code",
   "execution_count": null,
   "metadata": {},
   "outputs": [],
   "source": [
    "# Kodą rašykite čia..."
   ]
  },
  {
   "attachments": {},
   "cell_type": "markdown",
   "metadata": {},
   "source": [
    "### Užduotis 3\n",
    "\n",
    "Sukurkite tris funkcijas, kur kiekviena išvestų skirtingus tekstus. Iškvieskite visas tris funkcijas po vieną kartą."
   ]
  },
  {
   "cell_type": "code",
   "execution_count": null,
   "metadata": {},
   "outputs": [],
   "source": [
    "# Kodą rašykite čia..."
   ]
  },
  {
   "attachments": {},
   "cell_type": "markdown",
   "metadata": {},
   "source": [
    "### Užduotis 4\n",
    "\n",
    "Sukurkite dvi funkcijas, kur vienoje būtų viena teksto eilutėje, kitoje kita. Sukurkite trečią funkciją, kuri iškviestų pirmas dvi funkcijas. Iškvieskite šią trečiąją funkciją už visų funkcijų ribų."
   ]
  },
  {
   "cell_type": "code",
   "execution_count": null,
   "metadata": {},
   "outputs": [],
   "source": [
    "# Kodą rašykite čia..."
   ]
  },
  {
   "attachments": {},
   "cell_type": "markdown",
   "metadata": {},
   "source": [
    "### Užduotis 5\n",
    "\n",
    "Sukurkite funkciją, kurios viduje sugeneruotumėte du atsitiktinius skaičius. Funkcijoje suskaičiuokite ir išveskite šių dviejų skaičių sumą, kartu išvedant ir patį atliekamą veiksmą (pvz 7 + 2 = 9). Iškvieskite šią funkciją keletą kartų."
   ]
  },
  {
   "cell_type": "code",
   "execution_count": null,
   "metadata": {},
   "outputs": [],
   "source": [
    "# Kodą rašykite čia..."
   ]
  },
  {
   "attachments": {},
   "cell_type": "markdown",
   "metadata": {},
   "source": [
    "### Užduotis 6\n",
    "\n",
    "Sukurkite ir iškvieskite funkciją, kurioje kintamuosiuose būtų saugoma informacija apie policininką (vardas, pavardė, amžius, alga, etatas, specializacija). Išveskite šią informaciją suformatuotai (pavyzdžiui įterpkite į sakinį, ar išveskite sąrašu ar pan.)."
   ]
  },
  {
   "cell_type": "code",
   "execution_count": null,
   "metadata": {},
   "outputs": [],
   "source": [
    "# Kodą rašykite čia..."
   ]
  },
  {
   "attachments": {},
   "cell_type": "markdown",
   "metadata": {},
   "source": [
    "### Užduotis 7\n",
    "\n",
    "Sukurkite funkciją, kuri išvestų 10 atsitiktinių skaičių. Po visų išvestų skaičių turėtų padėti tuščią eilutę. Šią funkciją iškvieskite 5 kartus."
   ]
  },
  {
   "cell_type": "code",
   "execution_count": null,
   "metadata": {},
   "outputs": [],
   "source": [
    "# Kodą rašykite čia..."
   ]
  },
  {
   "attachments": {},
   "cell_type": "markdown",
   "metadata": {},
   "source": [
    "### Užduotis 8\n",
    "\n",
    "Sukurkite funkciją, kuri išvestų atsitiktinį skaičių. Už funkcijos ribų sukurkite ciklą, kurį būtų vykdomas 10 kartų. Iškvieskite sukurtą funkciją cikle. Turėtumėte pamatyti 10 atsitiktinių skaičių."
   ]
  },
  {
   "cell_type": "code",
   "execution_count": null,
   "metadata": {},
   "outputs": [],
   "source": [
    "# Kodą rašykite čia..."
   ]
  }
 ],
 "metadata": {
  "kernelspec": {
   "display_name": "Python 3",
   "language": "python",
   "name": "python3"
  },
  "language_info": {
   "codemirror_mode": {
    "name": "ipython",
    "version": 3
   },
   "file_extension": ".py",
   "mimetype": "text/x-python",
   "name": "python",
   "nbconvert_exporter": "python",
   "pygments_lexer": "ipython3",
   "version": "3.7.9 (tags/v3.7.9:13c94747c7, Aug 17 2020, 18:58:18) [MSC v.1900 64 bit (AMD64)]"
  },
  "orig_nbformat": 4,
  "vscode": {
   "interpreter": {
    "hash": "aa11ca274996316222ef16f35c5f6dbeb467b694c0b2154cdf34dcf9271d5fd0"
   }
  }
 },
 "nbformat": 4,
 "nbformat_minor": 2
}
