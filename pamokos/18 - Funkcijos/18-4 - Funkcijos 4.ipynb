{
 "cells": [
  {
   "attachments": {},
   "cell_type": "markdown",
   "metadata": {},
   "source": [
    "[![Open In Colab](https://colab.research.google.com/assets/colab-badge.svg)](https://colab.research.google.com/github/blaztoma/pitono-pamokos/blob/main/pamokos/18%20-%20Funkcijos/18-1%20-%20Funkcijos%204.ipynb)"
   ]
  },
  {
   "attachments": {},
   "cell_type": "markdown",
   "metadata": {},
   "source": [
    "# Funkcijos (4 dalis)"
   ]
  },
  {
   "attachments": {},
   "cell_type": "markdown",
   "metadata": {},
   "source": [
    "## Dabar pamėginsime panaudoti return dalį\n",
    "\n",
    "Funkcijos aprašymas:\n",
    "\n",
    "```\n",
    "def funkcijos_pavadinimas():\n",
    "    # funkcijos kodas\n",
    "    return grazinamas_atsakymas\n",
    "```\n",
    "\n",
    "1-as variantas panaudoti funkcijos atsakymą:\n",
    "\n",
    "```\n",
    "print( funkcijos_pavadinimas() )\n",
    "```\n",
    "\n",
    "2-as variantas panaudoti funkcijos atsakymą:\n",
    "\n",
    "```\n",
    "atsakymas = funkcijos_pavadinimas()\n",
    "print(atsakymas)\n",
    "```"
   ]
  },
  {
   "attachments": {},
   "cell_type": "markdown",
   "metadata": {},
   "source": [
    "## Taip pat, return su parametrais / argumentais\n",
    "\n",
    "Funkcijos aprašymas:\n",
    "\n",
    "```\n",
    "def funkcijos_pavadinimas(parametras1, parametras2, ...):\n",
    "    # funkcijos kodas\n",
    "    return grazinamas_atsakymas\n",
    "```\n",
    "\n",
    "1-as variantas panaudoti funkcijos atsakymą:\n",
    "\n",
    "```\n",
    "print( funkcijos_pavadinimas(argumentas1, argumentas2, ...) )\n",
    "```\n",
    "\n",
    "2-as variantas panaudoti funkcijos atsakymą:\n",
    "\n",
    "```\n",
    "atsakymas = funkcijos_pavadinimas(argumentas1, argumentas2, ...)\n",
    "print(atsakymas)\n",
    "```"
   ]
  },
  {
   "attachments": {},
   "cell_type": "markdown",
   "metadata": {},
   "source": [
    "## Pavyzdžiai"
   ]
  },
  {
   "cell_type": "code",
   "execution_count": 1,
   "metadata": {},
   "outputs": [
    {
     "name": "stdout",
     "output_type": "stream",
     "text": [
      "koks nors mano norimas tekstas\n"
     ]
    }
   ],
   "source": [
    "def tekstas():\n",
    "    return 'koks nors mano norimas tekstas'\n",
    "\n",
    "print( tekstas() )"
   ]
  },
  {
   "cell_type": "code",
   "execution_count": 2,
   "metadata": {},
   "outputs": [
    {
     "name": "stdout",
     "output_type": "stream",
     "text": [
      "kazkoks sakinys\n",
      "kazkoks sakinys\n"
     ]
    }
   ],
   "source": [
    "def sakinys():\n",
    "    tekstas = 'kazkoks sakinys'\n",
    "    return tekstas\n",
    "\n",
    "print( sakinys() )\n",
    "\n",
    "atsakymas = sakinys()\n",
    "print(atsakymas)"
   ]
  },
  {
   "cell_type": "code",
   "execution_count": 3,
   "metadata": {},
   "outputs": [
    {
     "name": "stdout",
     "output_type": "stream",
     "text": [
      "Labas, Tomas!\n",
      "Labas, Gintare!\n"
     ]
    }
   ],
   "source": [
    "def pasisveikinimo_tekstas(vardas):\n",
    "    return f'Labas, {vardas}!'\n",
    "\n",
    "print( pasisveikinimo_tekstas('Tomas') )\n",
    "print( pasisveikinimo_tekstas('Gintare') )"
   ]
  },
  {
   "cell_type": "code",
   "execution_count": 4,
   "metadata": {},
   "outputs": [
    {
     "name": "stdout",
     "output_type": "stream",
     "text": [
      "Labas, Tomas!\n",
      "Labas, Gintare!\n"
     ]
    }
   ],
   "source": [
    "def pasisveikinimo_tekstas(vardas):\n",
    "    return f'Labas, {vardas}!'\n",
    "\n",
    "tomas = pasisveikinimo_tekstas('Tomas')\n",
    "gintare = pasisveikinimo_tekstas('Gintare')\n",
    "\n",
    "print(tomas)\n",
    "print(gintare)"
   ]
  },
  {
   "cell_type": "code",
   "execution_count": 5,
   "metadata": {},
   "outputs": [
    {
     "name": "stdout",
     "output_type": "stream",
     "text": [
      "Tomas (24 m.) dirba policininku.\n",
      "Rasa (42 m.) dirba buhaltere.\n"
     ]
    }
   ],
   "source": [
    "def suformatuotas_sakinys(vardas, amzius, profesija):\n",
    "    return f'{vardas} ({amzius} m.) dirba {profesija}.'\n",
    "\n",
    "print( suformatuotas_sakinys('Tomas', 24, 'policininku') )\n",
    "print( suformatuotas_sakinys('Rasa', 42, 'buhaltere') )"
   ]
  },
  {
   "cell_type": "code",
   "execution_count": 6,
   "metadata": {},
   "outputs": [
    {
     "name": "stdout",
     "output_type": "stream",
     "text": [
      "11\n"
     ]
    }
   ],
   "source": [
    "def suma(a, b):\n",
    "    return a + b\n",
    "\n",
    "skaicius1 = 4\n",
    "skaicius2 = 7\n",
    "ats = suma(skaicius1, skaicius2)\n",
    "print(ats)"
   ]
  },
  {
   "cell_type": "code",
   "execution_count": 7,
   "metadata": {},
   "outputs": [
    {
     "name": "stdout",
     "output_type": "stream",
     "text": [
      "4 + 7 = 11\n",
      "8 + 7 = 15\n",
      "74 + 23 = 97\n"
     ]
    }
   ],
   "source": [
    "def suma(a, b):\n",
    "    return a + b\n",
    "\n",
    "def sumos_isvedimas(a, b):\n",
    "    print(f'{a} + {b} = {suma(a, b)}')\n",
    "\n",
    "skaicius1 = 4\n",
    "skaicius2 = 7\n",
    "sumos_isvedimas(skaicius1, skaicius2)\n",
    "\n",
    "sumos_isvedimas(8, 7)\n",
    "sumos_isvedimas(74, 23)"
   ]
  },
  {
   "attachments": {},
   "cell_type": "markdown",
   "metadata": {},
   "source": [
    "## Užduotys"
   ]
  },
  {
   "attachments": {},
   "cell_type": "markdown",
   "metadata": {},
   "source": [
    "### Užduotis 1\n",
    "\n",
    "Susikurkite funkciją, kuri grąžintų bet kokį jūsų norimą sakinį. Iškvieskite šią funkciją ir išspausdinkite gautus rezultatus."
   ]
  },
  {
   "cell_type": "code",
   "execution_count": null,
   "metadata": {},
   "outputs": [],
   "source": [
    "# Kodą rašykite čia..."
   ]
  },
  {
   "attachments": {},
   "cell_type": "markdown",
   "metadata": {},
   "source": [
    "### Užduotis 2\n",
    "\n",
    "Susikurkite funkciją, kuri grąžintų atsitiktinai sugeneruotą skaičių. Iškvieskite šią funkciją kelis kartus ir gautus atsakymus išveskite kokiu norite būdu."
   ]
  },
  {
   "cell_type": "code",
   "execution_count": null,
   "metadata": {},
   "outputs": [],
   "source": [
    "# Kodą rašykite čia..."
   ]
  },
  {
   "attachments": {},
   "cell_type": "markdown",
   "metadata": {},
   "source": [
    "### Užduotis 3\n",
    "\n",
    "Susikurkite funkciją, kuri per argumentus priimtų studento vardą ir vidurkį. Ši funkcija turėtų sugeneruoti iš to sakinį (pvz Studentas Tomas turi vidurkį 8.7) ir tai grąžinti kaip atsakymą. Iškvieskite šią funkciją bent porą kartų, perduodant vis skirtingus duomenis. Gautus atsakymus išveskite."
   ]
  },
  {
   "cell_type": "code",
   "execution_count": null,
   "metadata": {},
   "outputs": [],
   "source": [
    "# Kodą rašykite čia..."
   ]
  },
  {
   "attachments": {},
   "cell_type": "markdown",
   "metadata": {},
   "source": [
    "### Užduotis 4\n",
    "\n",
    "Susikurkite funkciją, kuri per argumentus gautų skaičių. Ji turėtų surasti duoto skaičiaus mažiausią daliklį (skaičių iš kurio dalinasi be liekanos). Už funkcijos ribų sukite ciklą nuo 10 iki 30 ir kiekvienoje ciklo iteracijoje iškvieskite šią funkciją, perduodant ciklo kintamąjį."
   ]
  },
  {
   "cell_type": "code",
   "execution_count": null,
   "metadata": {},
   "outputs": [],
   "source": [
    "# Kodą rašykite čia..."
   ]
  },
  {
   "attachments": {},
   "cell_type": "markdown",
   "metadata": {},
   "source": [
    "### Užduotis 5\n",
    "\n",
    "Susikurkite funkciją, kuri per argumentus gautų skaičių. Ji turėtų patikrinti ar šis skaičius yra pirminis (grąžina True jei pirminis, ir False jei ne pirminis). Už funkcijos ribų sukite ciklą nuo 2 iki 15, kiekvienoje ciklo iteracijoje išveskite tikrinamą skaičių ir šalia jo iškviestos funkcijos atsakymą (pvz 10 false, 11 true, ...)."
   ]
  },
  {
   "cell_type": "code",
   "execution_count": null,
   "metadata": {},
   "outputs": [],
   "source": [
    "# Kodą rašykite čia..."
   ]
  },
  {
   "attachments": {},
   "cell_type": "markdown",
   "metadata": {},
   "source": [
    "### Užduotis 6\n",
    "\n",
    "Susikurkite bent 3 matematines funkcijas, priimančias reikiamus argumentus (pvz suma iš dviejų skaičių, suma iš trijų skaičių, skirtumas, sandauga, dalyba) ir grąžinančias atitinkamus atsakymus. Taip pat, susikurkite funkciją, kurioje būtų sugeneruojamas reikiamas kiekis atsitiktinių skaičių ir išvedami visų skaičiavimų atsakymai su veiksmais (iškviečiant atitinkamas kitas funkcijas ir perduodant reikiamus kintamuosius) (galima spręsti panašiaip kaip parodyta prisegtame pavyzdyje, kurį jau nagrinėjome). Iškvieskite šią pagrindinę funkciją bent kartą."
   ]
  },
  {
   "cell_type": "code",
   "execution_count": null,
   "metadata": {},
   "outputs": [],
   "source": [
    "# def suma(a, b):\n",
    "#     return a + b\n",
    "\n",
    "# def sumos_isvedimas(a, b):\n",
    "#     print(f'{a} + {b} = {suma(a, b)}')\n",
    "\n",
    "# skaicius1 = 4\n",
    "# skaicius2 = 7\n",
    "# sumos_isvedimas(skaicius1, skaicius2)\n",
    "\n",
    "# sumos_isvedimas(8, 7)\n",
    "# sumos_isvedimas(74, 23)\n",
    "\n",
    "# Kodą rašykite čia..."
   ]
  }
 ],
 "metadata": {
  "kernelspec": {
   "display_name": "Python 3",
   "language": "python",
   "name": "python3"
  },
  "language_info": {
   "codemirror_mode": {
    "name": "ipython",
    "version": 3
   },
   "file_extension": ".py",
   "mimetype": "text/x-python",
   "name": "python",
   "nbconvert_exporter": "python",
   "pygments_lexer": "ipython3",
   "version": "3.7.9 (tags/v3.7.9:13c94747c7, Aug 17 2020, 18:58:18) [MSC v.1900 64 bit (AMD64)]"
  },
  "orig_nbformat": 4,
  "vscode": {
   "interpreter": {
    "hash": "aa11ca274996316222ef16f35c5f6dbeb467b694c0b2154cdf34dcf9271d5fd0"
   }
  }
 },
 "nbformat": 4,
 "nbformat_minor": 2
}
