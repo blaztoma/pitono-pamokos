{
 "cells": [
  {
   "attachments": {},
   "cell_type": "markdown",
   "metadata": {},
   "source": [
    "# Ciklai\n",
    "\n",
    "- Ciklai naudojami norint kartoti tuos pačius veiksmus daugiau nei vieną kartą.\n",
    "- Yra keli skirtingi ciklai:\n",
    "  - `for`\n",
    "  - `while`\n",
    "- Kiekvienas ciklas pasižymi tam tikromis savybėmis, todėl kiekvienu atveju reikia patiems nuspręsti kuris ciklas tuo konkrečiu atveju yra tinkamiausias panaudojimui."
   ]
  },
  {
   "attachments": {},
   "cell_type": "markdown",
   "metadata": {},
   "source": [
    "# Ciklas for"
   ]
  },
  {
   "attachments": {},
   "cell_type": "markdown",
   "metadata": {},
   "source": [
    "## Apie ciklą for\n",
    "\n",
    "Šis ciklas dažniausiai naudojamas kai yra žinoma kiek kartų jis turi būti vykdomas arba kai yra iteruojamas objektas (skaičių sąrašas, elementų rinkinys, …)."
   ]
  },
  {
   "attachments": {},
   "cell_type": "markdown",
   "metadata": {},
   "source": [
    "## Sintaksė\n",
    "\n",
    "```\n",
    "for elementas in iteruojamas_objektas:\n",
    "\t# vykdomas kodas\n",
    "```\n",
    "\n",
    "- **iteruojamas_objektas** - elementų rinkinys, sąrašas ir pan. - tai pro ką mes iteruojame su ciklu\n",
    "- **elementas** - vienas elementas, viena dalis, iš iteruojamas_objektas"
   ]
  },
  {
   "attachments": {},
   "cell_type": "markdown",
   "metadata": {},
   "source": [
    "**iteruojamas_objektas** pavyzdžiai:\n",
    "\n",
    "```\n",
    "[40, 32, 73]\n",
    "\"labas\"\n",
    "range(1, 10)\n",
    "```"
   ]
  },
  {
   "attachments": {},
   "cell_type": "markdown",
   "metadata": {},
   "source": [
    "## Pavyzdžiai"
   ]
  },
  {
   "cell_type": "code",
   "execution_count": 1,
   "metadata": {},
   "outputs": [
    {
     "name": "stdout",
     "output_type": "stream",
     "text": [
      "labas\n",
      "labas\n",
      "labas\n",
      "\n",
      "labas\n",
      "labas\n",
      "labas\n"
     ]
    }
   ],
   "source": [
    "print('labas')\n",
    "print('labas')\n",
    "print('labas')\n",
    "\n",
    "print()\n",
    "\n",
    "# ta pati atliks ir sitas ciklas:\n",
    "\n",
    "for sk in range(3):\n",
    "    print('labas')"
   ]
  },
  {
   "cell_type": "code",
   "execution_count": 2,
   "metadata": {},
   "outputs": [
    {
     "name": "stdout",
     "output_type": "stream",
     "text": [
      "eilute nr 1\n",
      "eilute nr 2\n",
      "eilute nr 3\n",
      "eilute nr 4\n",
      "\n",
      "eilute nr 1\n",
      "eilute nr 2\n",
      "eilute nr 3\n",
      "eilute nr 4\n"
     ]
    }
   ],
   "source": [
    "print('eilute nr 1')\n",
    "print('eilute nr 2')\n",
    "print('eilute nr 3')\n",
    "print('eilute nr 4')\n",
    "print()\n",
    "\n",
    "for i in range(1, 5):\n",
    "    print(f'eilute nr {i}')"
   ]
  },
  {
   "cell_type": "code",
   "execution_count": 3,
   "metadata": {},
   "outputs": [
    {
     "name": "stdout",
     "output_type": "stream",
     "text": [
      "0\n",
      "1\n",
      "2\n",
      "3\n",
      "4\n"
     ]
    }
   ],
   "source": [
    "for i in range(5):\n",
    "    print(i)"
   ]
  },
  {
   "cell_type": "code",
   "execution_count": 4,
   "metadata": {},
   "outputs": [
    {
     "name": "stdout",
     "output_type": "stream",
     "text": [
      "0\n",
      "1\n",
      "2\n",
      "3\n",
      "4\n"
     ]
    }
   ],
   "source": [
    "for i in range(0, 5):\n",
    "    print(i)"
   ]
  },
  {
   "cell_type": "code",
   "execution_count": 5,
   "metadata": {},
   "outputs": [
    {
     "name": "stdout",
     "output_type": "stream",
     "text": [
      "1\n",
      "2\n",
      "3\n",
      "4\n",
      "5\n"
     ]
    }
   ],
   "source": [
    "for i in range(1, 6):\n",
    "    print(i)"
   ]
  },
  {
   "cell_type": "code",
   "execution_count": 6,
   "metadata": {},
   "outputs": [
    {
     "name": "stdout",
     "output_type": "stream",
     "text": [
      "1\n",
      "2\n",
      "3\n",
      "4\n",
      "5\n"
     ]
    }
   ],
   "source": [
    "for i in range(5):\n",
    "    print(i+1)"
   ]
  },
  {
   "cell_type": "code",
   "execution_count": 7,
   "metadata": {},
   "outputs": [
    {
     "name": "stdout",
     "output_type": "stream",
     "text": [
      "skaicius: 5\n",
      "skaicius: 6\n",
      "skaicius: 7\n",
      "skaicius: 8\n",
      "skaicius: 9\n",
      "skaicius: 10\n"
     ]
    }
   ],
   "source": [
    "for sk in range(5, 11):\n",
    "    print(f'skaicius: {sk}')"
   ]
  },
  {
   "cell_type": "code",
   "execution_count": 8,
   "metadata": {},
   "outputs": [
    {
     "name": "stdout",
     "output_type": "stream",
     "text": [
      "skaicius i = 5\n",
      "skaicius i = 6\n",
      "skaicius i = 7\n",
      "skaicius i = 8\n",
      "skaicius i = 9\n",
      "skaicius i = 10\n",
      "skaicius i = 11\n",
      "skaicius i = 12\n",
      "skaicius i = 13\n",
      "skaicius i = 14\n",
      "skaicius i = 15\n"
     ]
    }
   ],
   "source": [
    "for i in range(5, 16):\n",
    "    print(f'skaicius i = {i}')"
   ]
  },
  {
   "cell_type": "code",
   "execution_count": 9,
   "metadata": {},
   "outputs": [
    {
     "name": "stdout",
     "output_type": "stream",
     "text": [
      "skaicius 2 yra lyginis\n",
      "skaicius 4 yra lyginis\n",
      "skaicius 6 yra lyginis\n",
      "skaicius 8 yra lyginis\n",
      "skaicius 10 yra lyginis\n"
     ]
    }
   ],
   "source": [
    "for skaicius in range(2, 11):\n",
    "    if skaicius % 2 == 0:\n",
    "        print(f'skaicius {skaicius} yra lyginis')"
   ]
  },
  {
   "cell_type": "code",
   "execution_count": 10,
   "metadata": {},
   "outputs": [
    {
     "name": "stdout",
     "output_type": "stream",
     "text": [
      "skaicius 2 yra lyginis\n",
      "skaicius 4 yra lyginis\n",
      "skaicius 6 yra lyginis\n",
      "skaicius 8 yra lyginis\n",
      "skaicius 10 yra lyginis\n"
     ]
    }
   ],
   "source": [
    "for skaicius in range(2, 11, 2):\n",
    "    print(f'skaicius {skaicius} yra lyginis')"
   ]
  },
  {
   "cell_type": "code",
   "execution_count": 11,
   "metadata": {},
   "outputs": [
    {
     "name": "stdout",
     "output_type": "stream",
     "text": [
      "skaicius 2 dalinasi is 2 arba 5\n",
      "skaicius 4 dalinasi is 2 arba 5\n",
      "skaicius 5 dalinasi is 2 arba 5\n",
      "skaicius 6 dalinasi is 2 arba 5\n",
      "skaicius 8 dalinasi is 2 arba 5\n",
      "skaicius 10 dalinasi is 2 arba 5\n",
      "skaicius 12 dalinasi is 2 arba 5\n"
     ]
    }
   ],
   "source": [
    "for sk in range(1, 13):\n",
    "    if sk % 2 == 0 or sk % 5 == 0:\n",
    "        print(f'skaicius {sk} dalinasi is 2 arba 5')"
   ]
  },
  {
   "cell_type": "code",
   "execution_count": 12,
   "metadata": {},
   "outputs": [
    {
     "name": "stdout",
     "output_type": "stream",
     "text": [
      "0\n",
      "1\n",
      "2\n",
      "3\n",
      "4\n"
     ]
    }
   ],
   "source": [
    "kiek = 5\n",
    "\n",
    "for i in range(kiek):\n",
    "    print(i)"
   ]
  },
  {
   "cell_type": "code",
   "execution_count": 13,
   "metadata": {},
   "outputs": [
    {
     "name": "stdout",
     "output_type": "stream",
     "text": [
      "skaicius 7\n",
      "skaicius 8\n",
      "skaicius 9\n",
      "skaicius 10\n"
     ]
    }
   ],
   "source": [
    "pradzia = 7\n",
    "pabaiga = 10\n",
    "\n",
    "for i in range(pradzia, pabaiga + 1):\n",
    "    print(f'skaicius {i}')"
   ]
  },
  {
   "cell_type": "code",
   "execution_count": 14,
   "metadata": {},
   "outputs": [
    {
     "name": "stdout",
     "output_type": "stream",
     "text": [
      "skaicius 7\n",
      "skaicius 8\n",
      "skaicius 9\n",
      "skaicius 10\n"
     ]
    }
   ],
   "source": [
    "pradzia, pabaiga = 7, 10\n",
    "\n",
    "for i in range(pradzia, pabaiga + 1):\n",
    "    print(f'skaicius {i}')"
   ]
  },
  {
   "cell_type": "code",
   "execution_count": 15,
   "metadata": {},
   "outputs": [
    {
     "name": "stdout",
     "output_type": "stream",
     "text": [
      "m\n",
      "a\n",
      "n\n",
      "o\n",
      " \n",
      "t\n",
      "e\n",
      "k\n",
      "s\n",
      "t\n",
      "a\n",
      "s\n"
     ]
    }
   ],
   "source": [
    "for raide in \"mano tekstas\":\n",
    "    print(raide)"
   ]
  },
  {
   "cell_type": "code",
   "execution_count": 16,
   "metadata": {},
   "outputs": [
    {
     "name": "stdout",
     "output_type": "stream",
     "text": [
      "oooooooooo\n",
      "bbbbbbbbbb\n",
      "eeeeeeeeee\n",
      "llllllllll\n",
      "iiiiiiiiii\n",
      "ssssssssss\n"
     ]
    }
   ],
   "source": [
    "tekstas = 'obelis'\n",
    "\n",
    "for r in tekstas:\n",
    "    print(r * 10)"
   ]
  },
  {
   "cell_type": "code",
   "execution_count": 17,
   "metadata": {},
   "outputs": [
    {
     "name": "stdout",
     "output_type": "stream",
     "text": [
      "7\n",
      "4\n",
      "5\n",
      "32\n",
      "14\n",
      "78\n"
     ]
    }
   ],
   "source": [
    "for el in [7, 4, 5, 32, 14, 78]:\n",
    "    print(el)"
   ]
  },
  {
   "cell_type": "code",
   "execution_count": 18,
   "metadata": {},
   "outputs": [
    {
     "name": "stdout",
     "output_type": "stream",
     "text": [
      "pirmo ciklo pradzia, i = 1\n",
      "antras ciklas, j = 1\n",
      "antras ciklas, j = 2\n",
      "antras ciklas, j = 3\n",
      "pirmo ciklo iteracijos pabaiga\n",
      "pirmo ciklo pradzia, i = 2\n",
      "antras ciklas, j = 1\n",
      "antras ciklas, j = 2\n",
      "antras ciklas, j = 3\n",
      "pirmo ciklo iteracijos pabaiga\n",
      "pirmo ciklo pradzia, i = 3\n",
      "antras ciklas, j = 1\n",
      "antras ciklas, j = 2\n",
      "antras ciklas, j = 3\n",
      "pirmo ciklo iteracijos pabaiga\n"
     ]
    }
   ],
   "source": [
    "for i in range(1, 4):\n",
    "\n",
    "    print('pirmo ciklo pradzia, i =', i)\n",
    "\n",
    "    for j in range(1, 4):\n",
    "        print('antras ciklas, j =', j)\n",
    "\n",
    "    print('pirmo ciklo iteracijos pabaiga')"
   ]
  },
  {
   "cell_type": "code",
   "execution_count": 19,
   "metadata": {},
   "outputs": [
    {
     "name": "stdout",
     "output_type": "stream",
     "text": [
      "a\n",
      "z\n",
      "u\n",
      "o\n",
      "pabaiga\n"
     ]
    }
   ],
   "source": [
    "for raide in \"azuolas\":\n",
    "    if raide == \"l\":\n",
    "        break\n",
    "    print(raide)\n",
    "\n",
    "print(\"pabaiga\")"
   ]
  },
  {
   "cell_type": "code",
   "execution_count": 20,
   "metadata": {},
   "outputs": [
    {
     "name": "stdout",
     "output_type": "stream",
     "text": [
      "a\n",
      "z\n",
      "u\n",
      "o\n",
      "a\n",
      "s\n",
      "pabaiga\n"
     ]
    }
   ],
   "source": [
    "for raide in \"azuolas\":\n",
    "    if raide == \"l\":\n",
    "        continue\n",
    "    print(raide)\n",
    "\n",
    "print(\"pabaiga\")"
   ]
  },
  {
   "attachments": {},
   "cell_type": "markdown",
   "metadata": {},
   "source": [
    "## Užduotys"
   ]
  },
  {
   "attachments": {},
   "cell_type": "markdown",
   "metadata": {},
   "source": [
    "### Užduotis 1\n",
    "\n",
    "Su for pagalba penkis kartus išveskite savo vardą."
   ]
  },
  {
   "cell_type": "code",
   "execution_count": null,
   "metadata": {},
   "outputs": [],
   "source": [
    "# Kodą rašykite čia...\n"
   ]
  },
  {
   "attachments": {},
   "cell_type": "markdown",
   "metadata": {},
   "source": [
    "### Užduotis 2\n",
    "\n",
    "Parašyti for, kuris išvestų kiekvieną skaičių pradedant nuo 0 ir baigiant 10."
   ]
  },
  {
   "cell_type": "code",
   "execution_count": null,
   "metadata": {},
   "outputs": [],
   "source": [
    "# Kodą rašykite čia...\n"
   ]
  },
  {
   "attachments": {},
   "cell_type": "markdown",
   "metadata": {},
   "source": [
    "### Užduotis 3\n",
    "\n",
    "Parašyti for, kuris išvestų kas antrą skaičių pradedant 0 ir baigiant 15."
   ]
  },
  {
   "cell_type": "code",
   "execution_count": null,
   "metadata": {},
   "outputs": [],
   "source": [
    "# Kodą rašykite čia...\n"
   ]
  },
  {
   "attachments": {},
   "cell_type": "markdown",
   "metadata": {},
   "source": [
    "### Užduotis 4\n",
    "\n",
    "Parašyti for, kuris išvestų kas trečią skaičių, pradedant 1 ir baigiant 20. Kiekvieną skaičių apskliausti laužtiniais skliaustais. Pvz.: `[1][4][7]`..."
   ]
  },
  {
   "cell_type": "code",
   "execution_count": null,
   "metadata": {},
   "outputs": [],
   "source": [
    "# Kodą rašykite čia...\n"
   ]
  },
  {
   "attachments": {},
   "cell_type": "markdown",
   "metadata": {},
   "source": [
    "### Užduotis 5\n",
    "\n",
    "Parašyti for, kuris eitų pro kiekvieną skaičių nuo 1 iki 20. Jame apsirašyti if sąlygą, kuri patikrintų ar dabartinis skaičius dalinasi iš 4, jei taip tai šį skaičių išvesti."
   ]
  },
  {
   "cell_type": "code",
   "execution_count": null,
   "metadata": {},
   "outputs": [],
   "source": [
    "# Kodą rašykite čia...\n"
   ]
  },
  {
   "attachments": {},
   "cell_type": "markdown",
   "metadata": {},
   "source": [
    "### Užduotis 6\n",
    "\n",
    "Išveskite visus skaičius nuo 1 iki 15, prie kiekvieno jų nurodant tai lyginis ar nelyginis skaičius. Pvz:\n",
    "\n",
    "```\n",
    "1 - nelyginis\n",
    "2 - lyginis\n",
    "3 - nelyginis\n",
    "...\n",
    "```"
   ]
  },
  {
   "cell_type": "code",
   "execution_count": null,
   "metadata": {},
   "outputs": [],
   "source": [
    "# Kodą rašykite čia...\n"
   ]
  },
  {
   "attachments": {},
   "cell_type": "markdown",
   "metadata": {},
   "source": [
    "### Užduotis 7\n",
    "\n",
    "Susikurkite kintamuosius rėžių pradžiai ir pabaigai nusakyti. Patikrinkite, kad tai būtų validu (pradžia turi būti mažesnė nei pabaiga). Jei rėžiai tinkami, tuomet vykdyti for, kuris atskirose eilutėse išvestų kiekvieną skaičių iš tų rėžių, bei atskiriant tarpu - tų skaičių kvadratus."
   ]
  },
  {
   "cell_type": "code",
   "execution_count": null,
   "metadata": {},
   "outputs": [],
   "source": [
    "# Kodą rašykite čia...\n"
   ]
  },
  {
   "attachments": {},
   "cell_type": "markdown",
   "metadata": {},
   "source": [
    "### Užduotis 8\n",
    "\n",
    "Susikurkite kintamuosius rėžių pradžiai ir pabaigai nusakyti. Patikrinkite, kad tai būtų validu (pradžia turi būti mažesnė nei pabaiga). Jei rėžiai tinkami, tuomet vykdyti for, kuris iš duotų skaičių išvestų visus nelyginius skaičius arba tuos, kurie dalinasi iš 8."
   ]
  },
  {
   "cell_type": "code",
   "execution_count": null,
   "metadata": {},
   "outputs": [],
   "source": [
    "# Kodą rašykite čia...\n"
   ]
  },
  {
   "attachments": {},
   "cell_type": "markdown",
   "metadata": {},
   "source": [
    "### Užduotis 9\n",
    "\n",
    "Leiskite vartotojui įvesti savo vardą. Ciklą for vykdykite tiek kartų kiek tame varde yra raidžių. Visais atvejais išveskite tą patį pasisveikinimą, pavyzdžiui \"Labas, Ieva\" (ši eilutė kartotųsi 4 kartus)."
   ]
  },
  {
   "cell_type": "code",
   "execution_count": null,
   "metadata": {},
   "outputs": [],
   "source": [
    "# Kodą rašykite čia...\n"
   ]
  },
  {
   "attachments": {},
   "cell_type": "markdown",
   "metadata": {},
   "source": [
    "### Užduotis 10\n",
    "\n",
    "Susikurkite tokį ciklą: `for elementas in [88, 65, 21, 26, 47]`\n",
    "\n",
    "Iš duotų skaičių išveskite visus skaičius, kurie yra lyginiai."
   ]
  },
  {
   "cell_type": "code",
   "execution_count": null,
   "metadata": {},
   "outputs": [],
   "source": [
    "# Kodą rašykite čia...\n"
   ]
  },
  {
   "attachments": {},
   "cell_type": "markdown",
   "metadata": {},
   "source": [
    "### Užduotis 11\n",
    "\n",
    "Leiskite vartotojui nurodyti rėžių pradžią, pabaigą, žingsnį. Taip pat, kokius skaičius jis nori matyti (lyginius ar nelyginius). Patikrinkite ar rėžiai tinkami, jei taip vykdykite ciklą, kuris eitų per nurodytą rėžių, darant atitinkamą žingsnį. Išveskite tik tokius skaičius kokius vartotojas pasirinko (lyginius arba nelyginius)."
   ]
  },
  {
   "cell_type": "code",
   "execution_count": null,
   "metadata": {},
   "outputs": [],
   "source": [
    "# Kodą rašykite čia...\n"
   ]
  },
  {
   "attachments": {},
   "cell_type": "markdown",
   "metadata": {},
   "source": [
    "### Užduotis 12\n",
    "\n",
    "Su for pagalba, pamėginkite išvesti tokią eglutę:\n",
    "\n",
    "```\n",
    "*\n",
    "**\n",
    "***\n",
    "****\n",
    "*****\n",
    "```\n",
    "\n",
    "(papildomai) leiskite vartotojui pasirinkti kokio dydžio eglutė turėtų būti išvesta."
   ]
  },
  {
   "cell_type": "code",
   "execution_count": null,
   "metadata": {},
   "outputs": [],
   "source": [
    "# Kodą rašykite čia...\n"
   ]
  },
  {
   "attachments": {},
   "cell_type": "markdown",
   "metadata": {},
   "source": [
    "### Užduotis 13\n",
    "\n",
    "Leiskite vartotojui įvesti bet kokį žodį, bei pasirinkti po kiek kartų turėtų būti pakartojama kiekviena raidė. Su ciklo pagalba išveskite kiekvieną raidę iš žodžio atskiroje eilutėje, taip pat, tą raidę eilutėje kartokite tiek kartų kiek pasirinko vartotojas."
   ]
  },
  {
   "cell_type": "code",
   "execution_count": null,
   "metadata": {},
   "outputs": [],
   "source": [
    "# Kodą rašykite čia...\n",
    "\n",
    "# Kaip pagrindą galite naudoti šį ciklą ir jį pakeisti:\n",
    "# for raide in \"mano tekstas\":\n",
    "#     print(raide)"
   ]
  },
  {
   "attachments": {},
   "cell_type": "markdown",
   "metadata": {},
   "source": [
    "### Užduotis 14\n",
    "\n",
    "(papildomai, sunkiau) Be daugybos veiksmo programoje, sudauginkite du skaičius."
   ]
  },
  {
   "cell_type": "code",
   "execution_count": null,
   "metadata": {},
   "outputs": [],
   "source": [
    "# Kodą rašykite čia...\n"
   ]
  }
 ],
 "metadata": {
  "kernelspec": {
   "display_name": "Python 3",
   "language": "python",
   "name": "python3"
  },
  "language_info": {
   "codemirror_mode": {
    "name": "ipython",
    "version": 3
   },
   "file_extension": ".py",
   "mimetype": "text/x-python",
   "name": "python",
   "nbconvert_exporter": "python",
   "pygments_lexer": "ipython3",
   "version": "3.7.9"
  },
  "orig_nbformat": 4,
  "vscode": {
   "interpreter": {
    "hash": "aa11ca274996316222ef16f35c5f6dbeb467b694c0b2154cdf34dcf9271d5fd0"
   }
  }
 },
 "nbformat": 4,
 "nbformat_minor": 2
}
