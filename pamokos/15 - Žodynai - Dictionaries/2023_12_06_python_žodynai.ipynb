{
  "nbformat": 4,
  "nbformat_minor": 0,
  "metadata": {
    "colab": {
      "provenance": []
    },
    "kernelspec": {
      "name": "python3",
      "display_name": "Python 3"
    },
    "language_info": {
      "name": "python"
    }
  },
  "cells": [
    {
      "cell_type": "code",
      "execution_count": 3,
      "metadata": {
        "id": "GXWOFhBhubcs",
        "colab": {
          "base_uri": "https://localhost:8080/"
        },
        "outputId": "c0f0f7de-3ab2-4a80-a5dc-ec7398c9c2c4"
      },
      "outputs": [
        {
          "output_type": "stream",
          "name": "stdout",
          "text": [
            "[8, 9, 10, 9, 9, 8, 10]\n",
            "10\n"
          ]
        }
      ],
      "source": [
        "# sąrašas:\n",
        "pazymiai = [8, 9, 10, 9, 9, 8, 10]\n",
        "print(pazymiai)\n",
        "print(pazymiai[2])"
      ]
    },
    {
      "cell_type": "code",
      "source": [
        "# žodynas\n",
        "studentu_pazymiai = { 'Agne': 10, 'Paulius': 10, 'Joana': 9, 'Nerijus': 8 }\n",
        "print(studentu_pazymiai)\n",
        "print(studentu_pazymiai['Joana'])"
      ],
      "metadata": {
        "colab": {
          "base_uri": "https://localhost:8080/"
        },
        "id": "GCRt8u_qGwpE",
        "outputId": "825fd5bf-2485-4053-8e1e-5297307f0850"
      },
      "execution_count": 4,
      "outputs": [
        {
          "output_type": "stream",
          "name": "stdout",
          "text": [
            "{'Agne': 10, 'Paulius': 10, 'Joana': 9, 'Nerijus': 8}\n",
            "9\n"
          ]
        }
      ]
    },
    {
      "cell_type": "code",
      "source": [
        "pavadinimas = 'Haris Poteris'\n",
        "autorius = 'Rowling'\n",
        "puslapiu_sk = 345\n",
        "kaina = 20\n",
        "\n",
        "print(pavadinimas, autorius, puslapiu_sk, kaina)"
      ],
      "metadata": {
        "colab": {
          "base_uri": "https://localhost:8080/"
        },
        "id": "lG_bjZL5JT_W",
        "outputId": "a910fd42-3d84-4af6-b3b1-068c5fbcde7c"
      },
      "execution_count": 5,
      "outputs": [
        {
          "output_type": "stream",
          "name": "stdout",
          "text": [
            "Haris Poteris Rowling 345 20\n"
          ]
        }
      ]
    },
    {
      "cell_type": "code",
      "source": [
        "knyga = {\n",
        "    'pavadinimas': 'Haris Poteris',\n",
        "    'autorius': 'Rowling',\n",
        "    'puslapiu_sk': 345,\n",
        "    'kaina': 20\n",
        "}\n",
        "\n",
        "print(knyga)\n",
        "print(knyga['puslapiu_sk'])\n",
        "print(knyga['autorius'])"
      ],
      "metadata": {
        "colab": {
          "base_uri": "https://localhost:8080/"
        },
        "id": "kfpudBDWJ14b",
        "outputId": "cc796f50-cfd6-4ce7-daae-7928a8f347ba"
      },
      "execution_count": 6,
      "outputs": [
        {
          "output_type": "stream",
          "name": "stdout",
          "text": [
            "{'pavadinimas': 'Haris Poteris', 'autorius': 'Rowling', 'puslapiu_sk': 345, 'kaina': 20}\n",
            "345\n",
            "Rowling\n"
          ]
        }
      ]
    },
    {
      "cell_type": "code",
      "source": [
        "studiju_programa = dict(\n",
        "    pavadinimas = 'Programų sistemos',\n",
        "    mokykla = 'KTU',\n",
        "    trukme_m = 2,\n",
        "    studentai = 40\n",
        ")\n",
        "\n",
        "print(studiju_programa)\n",
        "print(studiju_programa['trukme_m'])"
      ],
      "metadata": {
        "colab": {
          "base_uri": "https://localhost:8080/"
        },
        "id": "439z4B1pKtt3",
        "outputId": "5e0bfceb-9d9d-4fca-9c6c-d98073d83a16"
      },
      "execution_count": 8,
      "outputs": [
        {
          "output_type": "stream",
          "name": "stdout",
          "text": [
            "{'pavadinimas': 'Programų sistemos', 'mokykla': 'KTU', 'trukme_m': 2, 'studentai': 40}\n",
            "2\n"
          ]
        }
      ]
    },
    {
      "cell_type": "code",
      "source": [
        "# sukurkite žodyną, kuriame saugotumėte informaciją apie\n",
        "# prekę, o apie ją žinoma ši informacija: pavadinimas,\n",
        "# kaina, savikaina, sku kodas, turimas kiekis sandėlyje\n",
        "\n",
        "preke = {\n",
        "    'pavadinimas': 'Flomasteriai',\n",
        "    'kaina': 5,\n",
        "    'savikaina': 3,\n",
        "    'sku': 'FLOM346',\n",
        "    'kiekis_sandelyje': 50\n",
        "}\n",
        "\n",
        "# išveskite visą prekės informaciją ir kelis pasirinktus laukelius\n",
        "print(preke)\n",
        "print(preke['pavadinimas'])\n",
        "print(preke['sku'])\n",
        "\n",
        "print('kaina - savikaina:', preke['kaina'] - preke['savikaina'])\n",
        "print('(kaina - savikaina) * kiekis:', (preke['kaina'] - preke['savikaina']) * preke['kiekis_sandelyje'])"
      ],
      "metadata": {
        "colab": {
          "base_uri": "https://localhost:8080/"
        },
        "id": "gR8FEq2SLgOp",
        "outputId": "23e34234-a39d-4868-ae15-118933f47375"
      },
      "execution_count": 13,
      "outputs": [
        {
          "output_type": "stream",
          "name": "stdout",
          "text": [
            "{'pavadinimas': 'Flomasteriai', 'kaina': 5, 'savikaina': 3, 'sku': 'FLOM346', 'kiekis_sandelyje': 50}\n",
            "Flomasteriai\n",
            "FLOM346\n",
            "kaina - savikaina: 2\n",
            "(kaina - savikaina) * kiekis: 100\n"
          ]
        }
      ]
    },
    {
      "cell_type": "code",
      "source": [
        "top_salys = {\n",
        "    1: 'Lietuva',\n",
        "    2: 'Latvija',\n",
        "    3: 'Estija'\n",
        "}\n",
        "\n",
        "print('top pirma šalis:', top_salys[1])\n",
        "print('top antra šalis:', top_salys[2])\n",
        "print('top trečia šalis:', top_salys[3])"
      ],
      "metadata": {
        "colab": {
          "base_uri": "https://localhost:8080/"
        },
        "id": "mYnYxTOiNtKE",
        "outputId": "10315007-1d1a-4ed9-ab84-3773c5751aef"
      },
      "execution_count": 15,
      "outputs": [
        {
          "output_type": "stream",
          "name": "stdout",
          "text": [
            "top pirma šalis: Lietuva\n",
            "top antra šalis: Latvija\n",
            "top trečia šalis: Estija\n"
          ]
        }
      ]
    },
    {
      "cell_type": "code",
      "source": [
        "# top_salys = dict(\n",
        "#     1 = 'Lietuva',\n",
        "#     2 = 'Latvija',\n",
        "#     3 = 'Estija'\n",
        "# )"
      ],
      "metadata": {
        "id": "z5UWBQSsOnzz"
      },
      "execution_count": null,
      "outputs": []
    },
    {
      "cell_type": "code",
      "source": [
        "aukstoji_mokykla = {\n",
        "    'pavadinimas': 'VU',\n",
        "    'fakultetai': ['Matematikos', 'Fizikos', 'IT', '....'],\n",
        "    'mokymu_programos': [\n",
        "        {\n",
        "            'pavadinimas': 'Kompiuterių mokslas',\n",
        "            'kreditu_kiekis': 120\n",
        "        },\n",
        "        {\n",
        "            'pavadinimas': 'Statistika ir analizė',\n",
        "            'kreditu_kiekis': 100\n",
        "        }\n",
        "    ],\n",
        "    'lokacija': {\n",
        "        'adresas': 'Gatvių gatvelė 10',\n",
        "        'koordinates': [90.346, 346.957],\n",
        "        'plotas_kvm': 849\n",
        "    }\n",
        "}"
      ],
      "metadata": {
        "id": "7_wHItxEO0Fn"
      },
      "execution_count": 16,
      "outputs": []
    },
    {
      "cell_type": "code",
      "source": [
        "print(aukstoji_mokykla['pavadinimas'])"
      ],
      "metadata": {
        "colab": {
          "base_uri": "https://localhost:8080/"
        },
        "id": "_AoVpMGpQUvP",
        "outputId": "cae1f6bb-2199-45c4-a037-c591a0f4bcc6"
      },
      "execution_count": 17,
      "outputs": [
        {
          "output_type": "stream",
          "name": "stdout",
          "text": [
            "VU\n"
          ]
        }
      ]
    },
    {
      "cell_type": "code",
      "source": [
        "print(aukstoji_mokykla['fakultetai'])"
      ],
      "metadata": {
        "colab": {
          "base_uri": "https://localhost:8080/"
        },
        "id": "q6UK3A9hQhof",
        "outputId": "38f07442-124a-4451-fe2d-bbd8ee344243"
      },
      "execution_count": 18,
      "outputs": [
        {
          "output_type": "stream",
          "name": "stdout",
          "text": [
            "['Matematikos', 'Fizikos', 'IT', '....']\n"
          ]
        }
      ]
    },
    {
      "cell_type": "code",
      "source": [
        "print(aukstoji_mokykla['fakultetai'][2])"
      ],
      "metadata": {
        "colab": {
          "base_uri": "https://localhost:8080/"
        },
        "id": "Itv1NpYmQ0Ux",
        "outputId": "40c22345-057f-4c27-89c2-84d1b6a9b973"
      },
      "execution_count": 19,
      "outputs": [
        {
          "output_type": "stream",
          "name": "stdout",
          "text": [
            "IT\n"
          ]
        }
      ]
    },
    {
      "cell_type": "code",
      "source": [
        "print(aukstoji_mokykla['mokymu_programos'])"
      ],
      "metadata": {
        "colab": {
          "base_uri": "https://localhost:8080/"
        },
        "id": "mif_SqGrRSub",
        "outputId": "bc493059-c94d-4e9f-8bd1-e85ba80faf79"
      },
      "execution_count": 20,
      "outputs": [
        {
          "output_type": "stream",
          "name": "stdout",
          "text": [
            "[{'pavadinimas': 'Kompiuterių mokslas', 'kreditu_kiekis': 120}, {'pavadinimas': 'Statistika ir analizė', 'kreditu_kiekis': 100}]\n"
          ]
        }
      ]
    },
    {
      "cell_type": "code",
      "source": [
        "print(aukstoji_mokykla['mokymu_programos'][0])"
      ],
      "metadata": {
        "colab": {
          "base_uri": "https://localhost:8080/"
        },
        "id": "fJhMollZRcRp",
        "outputId": "1c1b4579-3d70-4ef7-edf2-dc51954e39ce"
      },
      "execution_count": 21,
      "outputs": [
        {
          "output_type": "stream",
          "name": "stdout",
          "text": [
            "{'pavadinimas': 'Kompiuterių mokslas', 'kreditu_kiekis': 120}\n"
          ]
        }
      ]
    },
    {
      "cell_type": "code",
      "source": [
        "print(aukstoji_mokykla['mokymu_programos'][0]['pavadinimas'])"
      ],
      "metadata": {
        "colab": {
          "base_uri": "https://localhost:8080/"
        },
        "id": "9V8r6KqJRmWy",
        "outputId": "cc4ae937-0a69-4d75-87bb-5c028503b598"
      },
      "execution_count": 22,
      "outputs": [
        {
          "output_type": "stream",
          "name": "stdout",
          "text": [
            "Kompiuterių mokslas\n"
          ]
        }
      ]
    },
    {
      "cell_type": "code",
      "source": [
        "print(aukstoji_mokykla['lokacija'])"
      ],
      "metadata": {
        "colab": {
          "base_uri": "https://localhost:8080/"
        },
        "id": "20wAubfLSBE6",
        "outputId": "d8a2b0a5-8a2c-4a4a-da5d-78f918541581"
      },
      "execution_count": 23,
      "outputs": [
        {
          "output_type": "stream",
          "name": "stdout",
          "text": [
            "{'adresas': 'Gatvių gatvelė 10', 'koordinates': [90.346, 346.957], 'plotas_kvm': 849}\n"
          ]
        }
      ]
    },
    {
      "cell_type": "code",
      "source": [
        "print(aukstoji_mokykla['lokacija']['adresas'])"
      ],
      "metadata": {
        "colab": {
          "base_uri": "https://localhost:8080/"
        },
        "id": "-9Sai0MhSFSo",
        "outputId": "c4befb19-494c-4003-8491-ea216f5bc302"
      },
      "execution_count": 24,
      "outputs": [
        {
          "output_type": "stream",
          "name": "stdout",
          "text": [
            "Gatvių gatvelė 10\n"
          ]
        }
      ]
    },
    {
      "cell_type": "code",
      "source": [
        "print(aukstoji_mokykla['lokacija']['koordinates'])\n",
        "print(aukstoji_mokykla['lokacija']['koordinates'][0])\n",
        "print(aukstoji_mokykla['lokacija']['koordinates'][1])"
      ],
      "metadata": {
        "colab": {
          "base_uri": "https://localhost:8080/"
        },
        "id": "0xID3Dx5SQ2H",
        "outputId": "d851eea2-38d1-4179-fccd-4c11cebe4515"
      },
      "execution_count": 26,
      "outputs": [
        {
          "output_type": "stream",
          "name": "stdout",
          "text": [
            "[90.346, 346.957]\n",
            "90.346\n",
            "346.957\n"
          ]
        }
      ]
    },
    {
      "cell_type": "code",
      "source": [
        "print(aukstoji_mokykla['fakultetai'])\n",
        "\n",
        "for fakultetas in aukstoji_mokykla['fakultetai']:\n",
        "    print('Fakultetas:', fakultetas)"
      ],
      "metadata": {
        "colab": {
          "base_uri": "https://localhost:8080/"
        },
        "id": "lG5ft7eySs6X",
        "outputId": "f6bf49fd-fc2c-40cf-f1c5-cb216ca27647"
      },
      "execution_count": 30,
      "outputs": [
        {
          "output_type": "stream",
          "name": "stdout",
          "text": [
            "['Matematikos', 'Fizikos', 'IT', '....']\n",
            "Fakultetas: Matematikos\n",
            "Fakultetas: Fizikos\n",
            "Fakultetas: IT\n",
            "Fakultetas: ....\n"
          ]
        }
      ]
    },
    {
      "cell_type": "code",
      "source": [
        "print(aukstoji_mokykla['mokymu_programos'])"
      ],
      "metadata": {
        "colab": {
          "base_uri": "https://localhost:8080/"
        },
        "id": "sbitE2wOTYE4",
        "outputId": "0c3f8d03-96d8-434a-b64a-f21934a77084"
      },
      "execution_count": 31,
      "outputs": [
        {
          "output_type": "stream",
          "name": "stdout",
          "text": [
            "[{'pavadinimas': 'Kompiuterių mokslas', 'kreditu_kiekis': 120}, {'pavadinimas': 'Statistika ir analizė', 'kreditu_kiekis': 100}]\n"
          ]
        }
      ]
    },
    {
      "cell_type": "code",
      "source": [
        "for programa in aukstoji_mokykla['mokymu_programos']:\n",
        "    print(programa)"
      ],
      "metadata": {
        "colab": {
          "base_uri": "https://localhost:8080/"
        },
        "id": "SisdLoCpTi1c",
        "outputId": "d571f5de-cd2d-4732-8e29-0769383ec1b3"
      },
      "execution_count": 32,
      "outputs": [
        {
          "output_type": "stream",
          "name": "stdout",
          "text": [
            "{'pavadinimas': 'Kompiuterių mokslas', 'kreditu_kiekis': 120}\n",
            "{'pavadinimas': 'Statistika ir analizė', 'kreditu_kiekis': 100}\n"
          ]
        }
      ]
    },
    {
      "cell_type": "code",
      "source": [
        "for programa in aukstoji_mokykla['mokymu_programos']:\n",
        "    # print(programa['pavadinimas'])\n",
        "    # print(programa['kreditu_kiekis'])\n",
        "    print(f\"{programa['pavadinimas']} ({programa['kreditu_kiekis']} kr.)\")"
      ],
      "metadata": {
        "colab": {
          "base_uri": "https://localhost:8080/"
        },
        "id": "YLmdgCuLTxvw",
        "outputId": "da1abf34-8fed-4725-f55b-366acbc0e930"
      },
      "execution_count": 36,
      "outputs": [
        {
          "output_type": "stream",
          "name": "stdout",
          "text": [
            "Kompiuterių mokslas (120 kr.)\n",
            "Statistika ir analizė (100 kr.)\n"
          ]
        }
      ]
    },
    {
      "cell_type": "code",
      "source": [
        "kreditu_suma = 0\n",
        "\n",
        "for programa in aukstoji_mokykla['mokymu_programos']:\n",
        "    kreditu_suma += programa['kreditu_kiekis']\n",
        "\n",
        "print('bendrai, kreditų suma yra', kreditu_suma)"
      ],
      "metadata": {
        "colab": {
          "base_uri": "https://localhost:8080/"
        },
        "id": "IMctM7FvUbkL",
        "outputId": "48579c85-4b76-4ec3-8812-3930c3e83983"
      },
      "execution_count": 38,
      "outputs": [
        {
          "output_type": "stream",
          "name": "stdout",
          "text": [
            "bendrai, kreditų suma yra 220\n"
          ]
        }
      ]
    },
    {
      "cell_type": "code",
      "source": [
        "suo = {\n",
        "    'vardas': 'Reksas',\n",
        "    'amzius': 2\n",
        "}\n",
        "\n",
        "print(suo)"
      ],
      "metadata": {
        "colab": {
          "base_uri": "https://localhost:8080/"
        },
        "id": "Ci-hYH7xVRAa",
        "outputId": "24e10d50-7bc7-4285-a488-b950bbeea4e6"
      },
      "execution_count": 42,
      "outputs": [
        {
          "output_type": "stream",
          "name": "stdout",
          "text": [
            "{'vardas': 'Reksas', 'amzius': 2}\n"
          ]
        }
      ]
    },
    {
      "cell_type": "code",
      "source": [
        "suo['amzius'] = 3\n",
        "print(suo)"
      ],
      "metadata": {
        "colab": {
          "base_uri": "https://localhost:8080/"
        },
        "id": "lbFUH1sDVteU",
        "outputId": "0f88248e-a2b0-4b1f-eb4c-2c0f635c8096"
      },
      "execution_count": 43,
      "outputs": [
        {
          "output_type": "stream",
          "name": "stdout",
          "text": [
            "{'vardas': 'Reksas', 'amzius': 3}\n"
          ]
        }
      ]
    },
    {
      "cell_type": "code",
      "source": [
        "suo['zaislas'] = 'Kamuoliukas'\n",
        "print(suo)"
      ],
      "metadata": {
        "colab": {
          "base_uri": "https://localhost:8080/"
        },
        "id": "okjDQZDnWECL",
        "outputId": "419cc40e-17e8-44db-9977-37d9564812d0"
      },
      "execution_count": 44,
      "outputs": [
        {
          "output_type": "stream",
          "name": "stdout",
          "text": [
            "{'vardas': 'Reksas', 'amzius': 3, 'zaislas': 'Kamuoliukas'}\n"
          ]
        }
      ]
    },
    {
      "cell_type": "code",
      "source": [
        "suo['tevai'] = {\n",
        "    'mama': 'Lesė',\n",
        "    'tetis': 'Toris'\n",
        "}\n",
        "\n",
        "print(suo)"
      ],
      "metadata": {
        "colab": {
          "base_uri": "https://localhost:8080/"
        },
        "id": "tYSlLvgAWMVc",
        "outputId": "af16fbba-913c-4d79-8100-1b0860365b66"
      },
      "execution_count": 45,
      "outputs": [
        {
          "output_type": "stream",
          "name": "stdout",
          "text": [
            "{'vardas': 'Reksas', 'amzius': 3, 'zaislas': 'Kamuoliukas', 'tevai': {'mama': 'Lesė', 'tetis': 'Toris'}}\n"
          ]
        }
      ]
    },
    {
      "cell_type": "code",
      "source": [
        "sunys = []\n",
        "\n",
        "sunys.append({\n",
        "    'vardas': 'Reksas',\n",
        "    'amzius': 5\n",
        "})\n",
        "\n",
        "print(sunys)"
      ],
      "metadata": {
        "colab": {
          "base_uri": "https://localhost:8080/"
        },
        "id": "xrtHt5NUWs5c",
        "outputId": "c937071a-587a-470b-cdb5-2102f0ef0e10"
      },
      "execution_count": 46,
      "outputs": [
        {
          "output_type": "stream",
          "name": "stdout",
          "text": [
            "[{'vardas': 'Reksas', 'amzius': 5}]\n"
          ]
        }
      ]
    },
    {
      "cell_type": "code",
      "source": [
        "sunys.append(suo)\n",
        "print(sunys)"
      ],
      "metadata": {
        "colab": {
          "base_uri": "https://localhost:8080/"
        },
        "id": "2lIwGmqwW5Y2",
        "outputId": "20e9e95c-79bd-4db1-c674-d76fa5ce5483"
      },
      "execution_count": 47,
      "outputs": [
        {
          "output_type": "stream",
          "name": "stdout",
          "text": [
            "[{'vardas': 'Reksas', 'amzius': 5}, {'vardas': 'Reksas', 'amzius': 3, 'zaislas': 'Kamuoliukas', 'tevai': {'mama': 'Lesė', 'tetis': 'Toris'}}]\n"
          ]
        }
      ]
    },
    {
      "cell_type": "code",
      "source": [
        "print(suo.keys())"
      ],
      "metadata": {
        "colab": {
          "base_uri": "https://localhost:8080/"
        },
        "id": "n_kHA0QmXL6h",
        "outputId": "900e5b7f-17d1-4dac-844e-489890f462ec"
      },
      "execution_count": 48,
      "outputs": [
        {
          "output_type": "stream",
          "name": "stdout",
          "text": [
            "dict_keys(['vardas', 'amzius', 'zaislas', 'tevai'])\n"
          ]
        }
      ]
    },
    {
      "cell_type": "code",
      "source": [
        "print(suo.values())"
      ],
      "metadata": {
        "colab": {
          "base_uri": "https://localhost:8080/"
        },
        "id": "xQ5fySJLXS9s",
        "outputId": "5751fa65-6b85-4146-b900-de840c7cbed3"
      },
      "execution_count": 49,
      "outputs": [
        {
          "output_type": "stream",
          "name": "stdout",
          "text": [
            "dict_values(['Reksas', 3, 'Kamuoliukas', {'mama': 'Lesė', 'tetis': 'Toris'}])\n"
          ]
        }
      ]
    },
    {
      "cell_type": "code",
      "source": [
        "print('zaislas' in suo.keys())"
      ],
      "metadata": {
        "colab": {
          "base_uri": "https://localhost:8080/"
        },
        "id": "fkw3ni2OXbq1",
        "outputId": "8c436178-ddea-482d-b4c9-399c2f41a02c"
      },
      "execution_count": 52,
      "outputs": [
        {
          "output_type": "stream",
          "name": "stdout",
          "text": [
            "True\n"
          ]
        }
      ]
    },
    {
      "cell_type": "code",
      "source": [
        "for raktas in suo:\n",
        "    print(raktas, suo[raktas])"
      ],
      "metadata": {
        "colab": {
          "base_uri": "https://localhost:8080/"
        },
        "id": "GOqXjPWAXsUF",
        "outputId": "dedd5447-ccff-4b9c-f12b-c175951cceb8"
      },
      "execution_count": 55,
      "outputs": [
        {
          "output_type": "stream",
          "name": "stdout",
          "text": [
            "vardas Reksas\n",
            "amzius 3\n",
            "zaislas Kamuoliukas\n",
            "tevai {'mama': 'Lesė', 'tetis': 'Toris'}\n"
          ]
        }
      ]
    },
    {
      "cell_type": "code",
      "source": [
        "print(suo.items())"
      ],
      "metadata": {
        "colab": {
          "base_uri": "https://localhost:8080/"
        },
        "id": "rUZfakqIYBcC",
        "outputId": "31dddf7a-41a3-4a90-da94-33dd02ada6af"
      },
      "execution_count": 56,
      "outputs": [
        {
          "output_type": "stream",
          "name": "stdout",
          "text": [
            "dict_items([('vardas', 'Reksas'), ('amzius', 3), ('zaislas', 'Kamuoliukas'), ('tevai', {'mama': 'Lesė', 'tetis': 'Toris'})])\n"
          ]
        }
      ]
    },
    {
      "cell_type": "code",
      "source": [
        "for raktas, reiksme in suo.items():\n",
        "    print(raktas, reiksme)"
      ],
      "metadata": {
        "colab": {
          "base_uri": "https://localhost:8080/"
        },
        "id": "I2__QVp-YQYP",
        "outputId": "c5ed01d8-d7c3-49db-c1dd-d76ebcacab5a"
      },
      "execution_count": 57,
      "outputs": [
        {
          "output_type": "stream",
          "name": "stdout",
          "text": [
            "vardas Reksas\n",
            "amzius 3\n",
            "zaislas Kamuoliukas\n",
            "tevai {'mama': 'Lesė', 'tetis': 'Toris'}\n"
          ]
        }
      ]
    },
    {
      "cell_type": "code",
      "source": [
        "for reiksme in suo.values():\n",
        "    print(reiksme)"
      ],
      "metadata": {
        "colab": {
          "base_uri": "https://localhost:8080/"
        },
        "id": "N1Ofg5yeYa8t",
        "outputId": "183641c1-3d23-43f2-b527-66d321ee0df2"
      },
      "execution_count": 58,
      "outputs": [
        {
          "output_type": "stream",
          "name": "stdout",
          "text": [
            "Reksas\n",
            "3\n",
            "Kamuoliukas\n",
            "{'mama': 'Lesė', 'tetis': 'Toris'}\n"
          ]
        }
      ]
    }
  ]
}