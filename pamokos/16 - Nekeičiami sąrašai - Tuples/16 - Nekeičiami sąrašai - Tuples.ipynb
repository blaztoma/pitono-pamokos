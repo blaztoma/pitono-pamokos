{
 "cells": [
  {
   "attachments": {},
   "cell_type": "markdown",
   "metadata": {},
   "source": [
    "[![Open In Colab](https://colab.research.google.com/assets/colab-badge.svg)](https://colab.research.google.com/github/blaztoma/pitono-pamokos/blob/main/pamokos/16%20-%20Nekei%C4%8Diami%20s%C4%85ra%C5%A1ai%20-%20Tuples/16%20-%20Nekei%C4%8Diami%20s%C4%85ra%C5%A1ai%20-%20Tuples.ipynb)"
   ]
  },
  {
   "attachments": {},
   "cell_type": "markdown",
   "metadata": {},
   "source": [
    "# Nekeičiami sąrašai (`Tuples`)"
   ]
  },
  {
   "attachments": {},
   "cell_type": "markdown",
   "metadata": {},
   "source": [
    "## Apie `tuples`\n",
    "\n",
    "- Tai susijusių duomenų sugrupavimas (labai panašu į sąrašus).\n",
    "- Tačiau tų duomenų mes niekaip po sukūrimo keisti nebegalime (`read-only`).\n",
    "- `Tuples` yra greitesni už sąrašus, mažesnė rizika kad kažką sugadinsime ir pan. Tačiau jeigu reikia galimybės keisti duomenis - tuomet `tuples` netiks."
   ]
  },
  {
   "attachments": {},
   "cell_type": "markdown",
   "metadata": {},
   "source": [
    "## Sintaksė\n",
    "\n",
    "1-as variantas:\n",
    "\n",
    "```\n",
    "rinkinys = (reikšmė, reikšmė, reikšmė)\n",
    "```\n",
    "\n",
    "2-as variantas:\n",
    "\n",
    "```\n",
    "rinkinys = tuple([reikšmė, reikšmė, reikšmė])\n",
    "```"
   ]
  },
  {
   "attachments": {},
   "cell_type": "markdown",
   "metadata": {},
   "source": [
    "## Pavyzdžiai"
   ]
  },
  {
   "cell_type": "code",
   "execution_count": null,
   "metadata": {},
   "outputs": [],
   "source": [
    "menesiai = ('sausis', 'vasaris', 'kovas', 'balandis', 'gegužė', 'birželis', 'liepa', 'rugpjūtis', 'rugsėjis', 'spalis', 'lapkritis', 'gruodis')\n",
    "\n",
    "print(menesiai)"
   ]
  },
  {
   "cell_type": "code",
   "execution_count": null,
   "metadata": {},
   "outputs": [],
   "source": [
    "menesiai = tuple(['sausis', 'vasaris', 'kovas', 'balandis', 'gegužė', 'birželis', 'liepa', 'rugpjūtis', 'rugsėjis', 'spalis', 'lapkritis', 'gruodis'])\n",
    "\n",
    "print(menesiai)"
   ]
  },
  {
   "cell_type": "code",
   "execution_count": null,
   "metadata": {},
   "outputs": [],
   "source": [
    "menesiai = ('sausis', 'vasaris', 'kovas', 'balandis', 'gegužė', 'birželis', 'liepa', 'rugpjūtis', 'rugsėjis', 'spalis', 'lapkritis', 'gruodis')\n",
    "\n",
    "print(menesiai)\n",
    "print(type(menesiai))\n",
    "print(menesiai[0])\n",
    "print(menesiai[2])\n",
    "print(menesiai[2:5])\n",
    "print(menesiai[-4])\n",
    "print(menesiai[1:6:2])"
   ]
  },
  {
   "cell_type": "code",
   "execution_count": null,
   "metadata": {},
   "outputs": [],
   "source": [
    "# galim turėti pasikartojančių duomenų\n",
    "skaiciai = (4, 7, 8, 5, 4, 6, 8, 4)\n",
    "print(skaiciai.count(4)) # kiek yra 4'ų\n",
    "print(skaiciai.index(8)) # kur yra skaičius 8"
   ]
  },
  {
   "cell_type": "code",
   "execution_count": null,
   "metadata": {},
   "outputs": [],
   "source": [
    "studentai = ('Petras', 'Ona', 'Ignas', 'Alisa')\n",
    "\n",
    "for studentas in studentai:\n",
    "    print(studentas)"
   ]
  },
  {
   "cell_type": "code",
   "execution_count": null,
   "metadata": {},
   "outputs": [],
   "source": [
    "demo = (7, 8, 5, 6)\n",
    "demo.append(4) # klaida"
   ]
  },
  {
   "cell_type": "code",
   "execution_count": null,
   "metadata": {},
   "outputs": [],
   "source": [
    "demo = (7, 8, 5, 6)\n",
    "demo[1] = 55 # klaida"
   ]
  },
  {
   "cell_type": "code",
   "execution_count": null,
   "metadata": {},
   "outputs": [],
   "source": [
    "kate = {\n",
    "    'vardas': 'pūkė',\n",
    "    'amzius': 0.5,\n",
    "    'megstamiausias_zaislas': 'lazeriukas'\n",
    "}\n",
    "\n",
    "# kai kurie žodyno metodai, kaip pvz .items()\n",
    "# grąžina tuples\n",
    "print(kate.items())"
   ]
  },
  {
   "cell_type": "code",
   "execution_count": null,
   "metadata": {},
   "outputs": [],
   "source": [
    "# tuples galima naudoti kaip raktus prie žodynų:\n",
    "lokacijos = {\n",
    "    (35.6895, 39.6917): 'tokyo biuras',\n",
    "    (40.7128, 74.0060): 'new york biuras',\n",
    "    (37.7749, 122.4194): 'san francisco biuras'\n",
    "}\n",
    "\n",
    "print(lokacijos)\n",
    "print()\n",
    "print(lokacijos[(37.7749, 122.4194)])"
   ]
  },
  {
   "attachments": {},
   "cell_type": "markdown",
   "metadata": {},
   "source": [
    "## Užduotys"
   ]
  },
  {
   "attachments": {},
   "cell_type": "markdown",
   "metadata": {},
   "source": [
    "### Užduotis 1\n",
    "\n",
    "Susikurkite tuple iš studijų programos modulių pavadinimų. Atspausdinkite šiuos pavadinimus sąraše, prieš kiekvieną pavadinimą išvedant brūkšniuką. Raskite ilgiausią modulio pavadinimą."
   ]
  },
  {
   "cell_type": "code",
   "execution_count": null,
   "metadata": {},
   "outputs": [],
   "source": [
    "# Kodą rašykite čia..."
   ]
  },
  {
   "attachments": {},
   "cell_type": "markdown",
   "metadata": {},
   "source": [
    "### Užduotis 2\n",
    "\n",
    "Susikurkite tuple iš mėnesių pavadinimų. Susikurkite kitus tuples sezonams apibūdinti: žiema, pavasaris, vasara, ruduo. Panaudokite slicing `[start:end]`, kad atitinkamus mėnesius sudėtumėte į atitinkamus sezonų tuples. Šį priskyrimą turite atlikti kuriant individualius sezonų tuples, kitaip išmes klaidą, kad jo negalite modifikuoti."
   ]
  },
  {
   "cell_type": "code",
   "execution_count": null,
   "metadata": {},
   "outputs": [],
   "source": [
    "# Kodą rašykite čia..."
   ]
  }
 ],
 "metadata": {
  "kernelspec": {
   "display_name": "Python 3",
   "language": "python",
   "name": "python3"
  },
  "language_info": {
   "codemirror_mode": {
    "name": "ipython",
    "version": 3
   },
   "file_extension": ".py",
   "mimetype": "text/x-python",
   "name": "python",
   "nbconvert_exporter": "python",
   "pygments_lexer": "ipython3",
   "version": "3.7.9 (tags/v3.7.9:13c94747c7, Aug 17 2020, 18:58:18) [MSC v.1900 64 bit (AMD64)]"
  },
  "orig_nbformat": 4,
  "vscode": {
   "interpreter": {
    "hash": "aa11ca274996316222ef16f35c5f6dbeb467b694c0b2154cdf34dcf9271d5fd0"
   }
  }
 },
 "nbformat": 4,
 "nbformat_minor": 2
}
