{
  "nbformat": 4,
  "nbformat_minor": 0,
  "metadata": {
    "colab": {
      "provenance": []
    },
    "kernelspec": {
      "name": "python3",
      "display_name": "Python 3"
    },
    "language_info": {
      "name": "python"
    }
  },
  "cells": [
    {
      "cell_type": "markdown",
      "source": [
        "# Įvedimas iš konsolės"
      ],
      "metadata": {
        "id": "hLvbocp2jbhr"
      }
    },
    {
      "cell_type": "markdown",
      "source": [
        "Vienas iš būdų, kaip įvesti duomenis programai - paprašyti naudotojo, kad konsolėje suvestų reikalingą informaciją. Tam naudojama `input()` funkcija."
      ],
      "metadata": {
        "id": "KKXxxcLMjnJS"
      }
    },
    {
      "cell_type": "markdown",
      "source": [
        "Kai prašymas įvesti informaciją išvedamas atskirai:"
      ],
      "metadata": {
        "id": "wzd6nwMlj54O"
      }
    },
    {
      "cell_type": "code",
      "execution_count": 1,
      "metadata": {
        "colab": {
          "base_uri": "https://localhost:8080/"
        },
        "id": "TYB0piIejX5q",
        "outputId": "149445dc-bd72-450b-a13c-78c850b93832"
      },
      "outputs": [
        {
          "output_type": "stream",
          "name": "stdout",
          "text": [
            "Įveskite vardą:\n",
            "Tomas\n",
            "Tomas\n"
          ]
        }
      ],
      "source": [
        "print('Įveskite vardą:')\n",
        "vardas = input()\n",
        "print(vardas)"
      ]
    },
    {
      "cell_type": "markdown",
      "source": [
        "Kai prašymas įvesti informaciją išvedamas kartu:"
      ],
      "metadata": {
        "id": "IPh_dErRkHzY"
      }
    },
    {
      "cell_type": "code",
      "source": [
        "vardas = input('Įveskite vardą:')\n",
        "print(vardas)"
      ],
      "metadata": {
        "colab": {
          "base_uri": "https://localhost:8080/"
        },
        "id": "I_BmVJuskORt",
        "outputId": "6bd7f865-0153-4dca-dbb7-832cbae16ada"
      },
      "execution_count": 2,
      "outputs": [
        {
          "output_type": "stream",
          "name": "stdout",
          "text": [
            "Įveskite vardą:Tomas\n",
            "Tomas\n"
          ]
        }
      ]
    },
    {
      "cell_type": "markdown",
      "source": [
        "Kai norime gauti įvestą sveiką skaičių:"
      ],
      "metadata": {
        "id": "fj_Qb3ZJkuDN"
      }
    },
    {
      "cell_type": "code",
      "source": [
        "skaicius = int(input('Įveskite sveiką skaičių:'))\n",
        "print(skaicius)"
      ],
      "metadata": {
        "colab": {
          "base_uri": "https://localhost:8080/"
        },
        "id": "LK5BQCfLk1i8",
        "outputId": "f3129f80-a189-4414-9eb7-5571091658c8"
      },
      "execution_count": 5,
      "outputs": [
        {
          "output_type": "stream",
          "name": "stdout",
          "text": [
            "Įveskite sveiką skaičių:20\n",
            "20\n"
          ]
        }
      ]
    },
    {
      "cell_type": "markdown",
      "source": [
        "Kai norime gauti įvestą slankaus kablelio skaičių:"
      ],
      "metadata": {
        "id": "4s7fFRKhk0e_"
      }
    },
    {
      "cell_type": "code",
      "source": [
        "skaicius = float(input('Įveskite skaičių:'))\n",
        "print(skaicius)"
      ],
      "metadata": {
        "colab": {
          "base_uri": "https://localhost:8080/"
        },
        "id": "RHJmuu4-lMPN",
        "outputId": "be7d262d-7084-4f5d-a369-de3d26eb9276"
      },
      "execution_count": 6,
      "outputs": [
        {
          "output_type": "stream",
          "name": "stdout",
          "text": [
            "Įveskite sveiką skaičių:10.5\n",
            "10.5\n"
          ]
        }
      ]
    },
    {
      "cell_type": "markdown",
      "source": [
        "F-eilučių prisiminimui įvesime du skaičius atskirose eilutėse ir juos sudėsime:"
      ],
      "metadata": {
        "id": "9kza4VX9l9cr"
      }
    },
    {
      "cell_type": "code",
      "source": [
        "skaicius_1 = input('Įveskite pirmą skaičių')\n",
        "skaicius_2 = input('Įveskite antrą skaičių')\n",
        "print(f'{skaicius_1} + {skaicius_2} = {skaicius_1 + skaicius_2}')"
      ],
      "metadata": {
        "id": "s8VJoSVXlqbj"
      },
      "execution_count": null,
      "outputs": []
    },
    {
      "cell_type": "markdown",
      "source": [
        "Šį kartą įvesime tuos du skaičius vienoje eilutėje."
      ],
      "metadata": {
        "id": "yeB--dnIml-I"
      }
    },
    {
      "cell_type": "code",
      "source": [
        "print('Įveskite du skaičius atskirdami tarpu:')\n",
        "skaicius_1, skaicius_2 = x, y = input().split()\n",
        "print(f'{skaicius_1} + {skaicius_2} = {skaicius_1 + skaicius_2}')"
      ],
      "metadata": {
        "colab": {
          "base_uri": "https://localhost:8080/"
        },
        "id": "e-xkcMowmySz",
        "outputId": "eee61098-7ed0-4829-861b-477b1eaece36"
      },
      "execution_count": 7,
      "outputs": [
        {
          "output_type": "stream",
          "name": "stdout",
          "text": [
            "Įveskite du skaičius:\n",
            "2 3\n",
            "2 + 3 = 23\n"
          ]
        }
      ]
    },
    {
      "cell_type": "markdown",
      "source": [
        "## Užduotys"
      ],
      "metadata": {
        "id": "HrnY00hVnhy2"
      }
    },
    {
      "cell_type": "markdown",
      "source": [
        "### Užduotis 1"
      ],
      "metadata": {
        "id": "hwDj6lv8nkm1"
      }
    },
    {
      "cell_type": "markdown",
      "source": [
        "Paprašykite naudotojo įvesti savo vardą, amžių ir kodėl panoro išmokti Pitoną. Įvestą informaciją išveskite tvarkingai, vienu sakiniu ar atskirose eilutėse su prierašais."
      ],
      "metadata": {
        "id": "bp9fj9jxn2gO"
      }
    },
    {
      "cell_type": "code",
      "source": [
        "# Kodą rašykite čia..."
      ],
      "metadata": {
        "id": "eXWqDJLmoAwP"
      },
      "execution_count": null,
      "outputs": []
    },
    {
      "cell_type": "markdown",
      "source": [
        "### Užduotis 2"
      ],
      "metadata": {
        "id": "6A35-IQnoLXk"
      }
    },
    {
      "cell_type": "markdown",
      "source": [
        "Paprašykite vartotojo įvesti norimą simbolį. Iš šio simbolio atspausdinkite inicialus. Pvz.:\n",
        "```\n",
        "*** *\n",
        " *  *\n",
        " *  ***\n",
        "```\n"
      ],
      "metadata": {
        "id": "7XAZwWOzoi8J"
      }
    },
    {
      "cell_type": "markdown",
      "source": [
        "Užduočiai atlikti galite naudoti daugelio eilučių išvedimą."
      ],
      "metadata": {
        "id": "7q-0t1XCpzjg"
      }
    },
    {
      "cell_type": "code",
      "source": [
        "# Kodą rašykite čia..."
      ],
      "metadata": {
        "id": "M5vavct5oRTh"
      },
      "execution_count": null,
      "outputs": []
    },
    {
      "cell_type": "markdown",
      "source": [
        "### Užduotis 3"
      ],
      "metadata": {
        "id": "lmB90fOEoMdK"
      }
    },
    {
      "cell_type": "markdown",
      "source": [
        "Paprašykite vartotojo įvesti 5-is savo pažymius vienoje eilutėje. Paskaičiuokite pažymių vidurkį. Išveskite atsakymą."
      ],
      "metadata": {
        "id": "zg6IFhvJowb3"
      }
    },
    {
      "cell_type": "code",
      "source": [
        "# Kodą rašykite čia..."
      ],
      "metadata": {
        "id": "D_TSyx1-oR_5"
      },
      "execution_count": null,
      "outputs": []
    },
    {
      "cell_type": "markdown",
      "source": [
        "### Užduotis 4"
      ],
      "metadata": {
        "id": "_R8pynb9oNpE"
      }
    },
    {
      "cell_type": "markdown",
      "source": [
        "Leiskite naudotojui įvesti metrus. Išveskite kiek tai gaunasi centimetrais, milimetrais ir kilometrais."
      ],
      "metadata": {
        "id": "SFB0Ad1JpEMd"
      }
    },
    {
      "cell_type": "code",
      "source": [
        "# Kodą rašykite čia..."
      ],
      "metadata": {
        "id": "wrT9zY9IoSvr"
      },
      "execution_count": null,
      "outputs": []
    },
    {
      "cell_type": "markdown",
      "source": [
        "### Užduotis 5"
      ],
      "metadata": {
        "id": "BsHZhrt-oO1f"
      }
    },
    {
      "cell_type": "markdown",
      "source": [
        "Vienoje eilutėje įveskite vardą, pavardę ir amžių. Išveskite informaciją vienu sakiniu."
      ],
      "metadata": {
        "id": "yv7UcPT2p_2i"
      }
    },
    {
      "cell_type": "code",
      "source": [
        "# Kodą rašykite čia..."
      ],
      "metadata": {
        "colab": {
          "base_uri": "https://localhost:8080/"
        },
        "id": "3Afrr09ZoUeE",
        "outputId": "700f0735-c8c9-4a82-cc2a-de1ed1e89278"
      },
      "execution_count": 8,
      "outputs": [
        {
          "output_type": "stream",
          "name": "stdout",
          "text": [
            "asdf fdsa 15\n",
            "15 fdsa 15\n"
          ]
        }
      ]
    }
  ]
}