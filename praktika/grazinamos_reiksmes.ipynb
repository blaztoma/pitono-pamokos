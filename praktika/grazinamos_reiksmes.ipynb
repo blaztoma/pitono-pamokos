{
  "cells": [
    {
      "attachments": {},
      "cell_type": "markdown",
      "metadata": {},
      "source": [
        "[![Open In Colab](https://colab.research.google.com/assets/colab-badge.svg)](https://colab.research.google.com/github/blaztoma/pitono-pamokos/blob/main/praktika/grazinamos_reiksmes.ipynb)"
      ]
    },
    {
      "cell_type": "markdown",
      "metadata": {
        "id": "offOlPrSXC4m"
      },
      "source": [
        "# Kodėl reikia grąžinti reikšmes\n",
        "Lig šiol visos mūsų sukurtos funkcijos rezultatus spausdino į ekraną. Šios funkcijos yra skirtos vienos užduoties vykdymui (skaičiavimams) ir rezultatų vaizdavimui. Tuo tarpu kuriant didesnes programas, yra tikslinga atskirti skaičiavimų dalį nuo rezultatų pateikimo. Tada vienos funkcijos atlieka smulkesnius skaičiavimus, kitos - stambesnius, apjungiančius, ir tik pačioj pabaigoje pateikiami galutiniai rezultatai.\n",
        "\n",
        "Mums dažnai reikia tokių funkcijų kaip **sin(x)** ar **cos(x)**, kurios vykdo skaičiavimus ir nerodo jokių rezultatų, bet gautas reikšmes atiduoda jas kvietusiai programai (ar kitai funkcijai). Tokios funkcijos yra vadinamos grąžinančiomis reikšmes funkcijomis. Jų veikimui yra būtinas sakinys **return** su paskaičiuota reikšme. Pirmuose pavyzdžiuose tai bus tiesiog skaitinės reikšmės, t.y. konkrečių figūrų plotai. Gautas reikšmes jau galima naudoti sudėtingesnių figūrų, sudarytų iš trikampių, skaičiavimui.\n",
        "\n",
        "Skaičiavimams galima naudoti formules:<br>\n",
        "http://www.mat.lt/matematikos-formules/figuru-plotai.html<br>\n",
        "https://www.calculat.org/lt/plotas-perimetras/"
      ]
    },
    {
      "cell_type": "code",
      "execution_count": null,
      "metadata": {
        "colab": {
          "base_uri": "https://localhost:8080/"
        },
        "id": "DSmDTkaSWnr1",
        "outputId": "206b372c-f61a-4733-f71d-754198a5c841"
      },
      "outputs": [],
      "source": [
        "krastine_1 = 13\n",
        "krastine_2 = 12\n",
        "krastine_3 = 5\n",
        "\n",
        "# Trikampio perimetro skaičiavimo funkcija\n",
        "# kai duoti trijų kraštinių ilgiai a, b, c\n",
        "def trikampio_perimetras(a, b, c): \n",
        "  return a + b + c\n",
        "\n",
        "ilgis_1 = trikampio_perimetras(3, 5, 4)\n",
        "ilgis_2 = trikampio_perimetras(krastine_1, krastine_2, krastine_3)\n",
        "print(f'{ilgis_1=}, {ilgis_2=}')"
      ]
    },
    {
      "cell_type": "code",
      "execution_count": null,
      "metadata": {
        "colab": {
          "base_uri": "https://localhost:8080/"
        },
        "id": "hXdmshgvbfeQ",
        "outputId": "827f9484-87b8-4b10-f34f-a070c02921a6"
      },
      "outputs": [],
      "source": [
        "# Trikampio perimetro skaičiavimo funkcija\n",
        "# kai duoti trijų kraštinių ilgiai a, b, c\n",
        "def trikampio_plotas(a, b, c):\n",
        "  p = (a + b + c) / 2 # pusė perimetro\n",
        "  d = p * (p-a) * (p-b) * (p-c)\n",
        "  return d**0.5\n",
        "\n",
        "plotas_1 = trikampio_plotas(3, 5, 4)\n",
        "plotas_2 = trikampio_plotas(krastine_1, krastine_2, krastine_3) \n",
        "print(f'{plotas_1=} {plotas_2=}')"
      ]
    },
    {
      "cell_type": "markdown",
      "metadata": {
        "id": "q08tL4znDYmR"
      },
      "source": [
        "# Python funkcijų specifika\n",
        "Tolimesniuose pavyzdžiuose demonstruojama Python savybė, kai galima skaičiuoti ir grąžinti kelias reikšmes, pvz. perimetrą ir plotą. Tokiu atveju grąžinamą reikšmę turi priimti tiek pat kintamųjų, kiek yra grąžinamų reikšmių. Jei kuri nors reikšmė iš grąžinamo rinkinio yra nereikalinga, priimant reikšmes rekomenduojama toje vietoje rašyti pabraukimo ženklą _.\n",
        "\n",
        "Tuo pačiu reikia atkreipti dėmesį, kad **funkcijos parametrai tik perduoda reikšmes funkcijai** ir nenaudoja nuorodų, kaip buvo C++ atveju. Reikšmės yra grąžinamos tik naudojant sakinį **return**. Vėliau pamatysite kad galima grąžinti ne tik skaičius, bet ir kitas struktūras, taip kuriant bibliotekas, kurios leidžia kurti sudėtingas programas."
      ]
    },
    {
      "cell_type": "code",
      "execution_count": null,
      "metadata": {
        "colab": {
          "base_uri": "https://localhost:8080/"
        },
        "id": "Z4FAA70Va9sj",
        "outputId": "a39bd7d3-6502-4e17-ff89-00c7b12b59d8"
      },
      "outputs": [],
      "source": [
        "def trikampis(a, b, c):\n",
        "  perim = a + b + c\n",
        "  p = perim / 2\n",
        "  d = p * (p-a) * (p-b) * (p-c)\n",
        "  plotas = d**0.5\n",
        "  return perim, plotas\n",
        "\n",
        "perimetras_1, plotas_1 = trikampis(3, 5, 4)    \n",
        "perimetras_2, plotas_2 = trikampis(krastine_1, krastine_1, krastine_1)    \n",
        "_, plotas_3 = trikampis(10, 20, 10)    \n",
        "print(perimetras_1, plotas_1)\n",
        "print(perimetras_2, plotas_2)\n",
        "print(plotas_3)"
      ]
    },
    {
      "cell_type": "markdown",
      "metadata": {
        "id": "n8NezqnoM3Mu"
      },
      "source": [
        "# Tobuliname parašytas funkcijas\n",
        "Funkcija veiksmus vykdo su pateiktais duomenimis, kurie nevisada gali būti teisingi. Todėl reikia patikrinti ar funkcijos argumentai yra teisingi. Jei neteisingi, tai galima skelbti pranešimą, arba grąžinti reikšmę `None`, kuri reiškia kad atsakymo nėra."
      ]
    },
    {
      "cell_type": "code",
      "execution_count": null,
      "metadata": {
        "colab": {
          "base_uri": "https://localhost:8080/"
        },
        "id": "UZ2O5mdxMP0d",
        "outputId": "587b6b9b-722c-416e-c9fd-aae6b8d707ec"
      },
      "outputs": [],
      "source": [
        "# Trikampio perimetro skaičiavimo funkcija\n",
        "# kai duoti trijų kraštinių ilgiai a, b, c\n",
        "def trikampio_perimetras(a, b, c):\n",
        "  if a+b<=c or b+c<=a or a+c<=b:\n",
        "    return None\n",
        "  perim = a + b + c\n",
        "  return perim\n",
        "\n",
        "print(f'{trikampio_perimetras(5, 10, 5)=}')"
      ]
    },
    {
      "cell_type": "markdown",
      "metadata": {
        "id": "_7MLjqWvILcX"
      },
      "source": [
        "# Įtvirtinančios užduotys su plotais\n",
        "Pateiktame variante užduotys buvo susietos su figūrų perimetro ir ploto skaičiavimo funkcijomis. Šią temą galima tęsti toliau, kuriant taisyklingųjų trikampių funkcijas ir skaičiuojant penkiakampių plotus, kai duotas kuraštinės ilgis.\n",
        "\n",
        "Tokios funkcijos yra naudingos, kai ieškomi sudėtinių figūrų, susidedančių iš elementarių figūrų, plotai. Tokių užduočių galima rasti pateikus tokios frazės paiešką: **calculate compound shapes area**.\n",
        "\n",
        "Taip pat tikslinga išplėsti funkcijų tematiką sprendžiant fizikos uždavinius, pvz. nueito kelio radimas, nuoseklaus ir lygiagretaus varžų jungimo skaičiavimo funkcijos."
      ]
    },
    {
      "cell_type": "markdown",
      "metadata": {
        "id": "1yeGt4xnLla1"
      },
      "source": [
        "# Matavimo vienetų keitimo funkcijos\n",
        "Kaip žinote, yra įvairių matavimo sistemų: temperatūra matuojama Celsijaus ir Farenheito laipsniais, ilgis matuojamas metrais, jardais, coliais; svoris - kilogramais ir pūdais ir panašiai.\n",
        "Siūlom savarankiškai užbaigti ir išbandyti šias konvertavimo funkcijas:\n",
        "```\n",
        "def farenheitus_i_colsijus(fa):\n",
        "  return 0.0 # reikia gražinti Celsijaus laipsnius\n",
        "def celsijus_i_farenheitus(ce):\n",
        "  return 0.0 # reikia gražinti Farenheito laipsnius\n",
        "def kilometrai_i_mylias(km):\n",
        "  return 0.0 # reikia kilometrus perskaičiuoti į mylias\n",
        "```\n",
        "\n"
      ]
    }
  ],
  "metadata": {
    "colab": {
      "provenance": []
    },
    "kernelspec": {
      "display_name": "Python 3",
      "language": "python",
      "name": "python3"
    },
    "language_info": {
      "name": "python",
      "version": "3.10.10"
    },
    "vscode": {
      "interpreter": {
        "hash": "6e7e9d62a9c0d99599c9267f410880885962d61a20668adffd152ec6632084ab"
      }
    }
  },
  "nbformat": 4,
  "nbformat_minor": 0
}
