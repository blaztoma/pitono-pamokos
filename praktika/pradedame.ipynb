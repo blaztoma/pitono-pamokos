{
  "cells": [
    {
      "attachments": {},
      "cell_type": "markdown",
      "metadata": {},
      "source": [
        "[![Open In Colab](https://colab.research.google.com/assets/colab-badge.svg)](https://colab.research.google.com/github/blaztoma/pitono-pamokos/blob/main/praktika/pradedame.ipynb)"
      ]
    },
    {
      "attachments": {},
      "cell_type": "markdown",
      "metadata": {
        "id": "rSF1oNzCQbLe"
      },
      "source": [
        "# 1. Skaičiuojame ir spausdiname\n",
        "Kadangi skaičiavimai Pitono kalba yra užrašomi paprastai ir natūraliai, galima iškart pradėti ir džiaugtis rezultatais 🙂. Tiesiog reikia pasirinkti skaičiavimų temą ir pradėti. Pradžioje pasitikriname aritmetines operacijas.\n",
        "\n",
        "Pradedame nuo vienos raidės kintamųjų, kuriems priskiriame skaitines reikšmes. Norint parodyti kintamųjų reikšmes, naudojame spausdinimo komandą **print()** ir pamatysime pagrindinių keturių operacijų rezultatus, atskirtus tarpais. Keiskite pradines reikšmes - gausite kitus rezultatus.\n",
        "\n",
        "PATOGU: Eilutės pabaigoje nereikia kabliataškių, t.y. jie gali būti, bet Pitono programose (skirtingai nei C++) įprasta jų nerašyti 🙂 juk ir be jų yra aišku. Jei skaičiavimo formulės perkeliamos iš C++, galima jas palikti, tuo atveju klaidos nebus."
      ]
    },
    {
      "cell_type": "code",
      "execution_count": null,
      "metadata": {
        "colab": {
          "base_uri": "https://localhost:8080/"
        },
        "id": "d0mEqGEw2nmF",
        "outputId": "b43f570f-dc68-4c19-8001-ddfacca59009"
      },
      "outputs": [],
      "source": [
        "a = 10\n",
        "b = 4\n",
        "print(a, b)\n",
        "print (a+b, a-b, a*b, a/b)"
      ]
    },
    {
      "attachments": {},
      "cell_type": "markdown",
      "metadata": {
        "id": "qo8huGlJRUCs"
      },
      "source": [
        "# 2. Spausdinimas su paaiškinimais\n",
        "Kai skaičiavimų rezultatai pateikiami keliais skaičiukais, tai siekiant geresnio kompiuterio atsakymo supratimo, reikia paaiškinti jų paskirtį. Tai galima atlikti dviem būdais A ir B:\n",
        "\n",
        "A - *senoviškai prieš kiekvieną reikšmę pateikiant paaiškinantį tekstą, žiūr. pavyzdį:*"
      ]
    },
    {
      "cell_type": "code",
      "execution_count": null,
      "metadata": {
        "colab": {
          "base_uri": "https://localhost:8080/"
        },
        "id": "DWpr-rte24ij",
        "outputId": "932ce48b-a9d1-48a5-b94f-c2ea3cf181aa"
      },
      "outputs": [],
      "source": [
        "a=11; b=4\n",
        "print(\"a=\", a, \"b=\", b)\n",
        "print (\"a+b=\", a+b, a-b, a*b, a/b)\n",
        "# užbaikite paaiškinimus kitoms trims reikšmėms !!"
      ]
    },
    {
      "attachments": {},
      "cell_type": "markdown",
      "metadata": {
        "id": "w52z6PlrUytb"
      },
      "source": [
        "B - *naudodami formatinę eilutę - tai palyginus naujas programavimo kalbų išradimas 🙂.*<br>\n",
        "Taigi formatinėje eilutėje, kuri pradedama **f raide**, rašomas tekstas, o tarp **riestinių skliaustų {}** rašomas kintamasis arba išraiška. Jei dar įrašome **lygybės ženklą**, tai suformuojamas ir paaiškinantis tekstas. Tarp riestinių skliaustų {} rašant dvitaškį, galime nurodyti reikšmei skirto lauko plotį. Tai ypač naudinga, kai spausdinami slankaus taško skaičiai, po taško nurodant kiek pozicijų skiriama trupmeninei daliai. Argi ne puiku, trumpai ir aiškiai formuojame atsakymą 🙂. Kadangi formatinė eilutė yra santykinai nauja savybė, todėl yra reikalinga ne žemesnė Pitono versija nei 3.8. Dokumentacijoje tai vadinama *save dokumentuojančios išraiškos* *(self-documenting expressions)*."
      ]
    },
    {
      "cell_type": "code",
      "execution_count": null,
      "metadata": {
        "colab": {
          "base_uri": "https://localhost:8080/"
        },
        "id": "8y-WhJcSU-To",
        "outputId": "fa060bc7-a715-4e3b-b222-0adb9e0c6847"
      },
      "outputs": [],
      "source": [
        "a=11; b=3\n",
        "print(f'{a=}, {b=}')\n",
        "print (f'Aritmetika: {a+b=}|{a-b=}|{a*b=}|{a/b=:5.3f}')\n",
        "# užrašykite dalybos sveikos dalies bei liekanos radimą"
      ]
    },
    {
      "cell_type": "markdown",
      "metadata": {
        "id": "_GtxD0xyGSlz"
      },
      "source": [
        "Formatinę eilutę reikia suprasti kaip tekstą, kuriame tarp riestinių skliaustų esančios išraiškos yra paskaičiuojamos ir pakeičia tekstą tarp skliaustų. Suformuotos formatinės eilutės gali būti naudojamos kaip teksto kintamieji."
      ]
    },
    {
      "cell_type": "code",
      "execution_count": null,
      "metadata": {
        "colab": {
          "base_uri": "https://localhost:8080/"
        },
        "id": "j4iL3HJuHltk",
        "outputId": "2de61491-cca2-47e0-a33c-bd3c9973117c"
      },
      "outputs": [],
      "source": [
        "ilgis = 10; plotis = 4.5; aukštis = 2/3\n",
        "plotas = ilgis * plotis;\n",
        "tūris = plotas * aukštis\n",
        "pradiniai = f'{ilgis=} {plotis=} {aukštis=:4.2f}'\n",
        "rezultatai = f'{plotas=} {tūris=:6.2f}'\n",
        "print(pradiniai, '=>', rezultatai)\n",
        "# paskaičiuokite su kitomis reikšmėmis"
      ]
    },
    {
      "cell_type": "markdown",
      "metadata": {
        "id": "mArGd5rEL52e"
      },
      "source": [
        "**Išvada:** naudojant **prasmingus kintamųjų vardus** yra patogu gauti aiškius atsakymus formatinės eilutės pagalba."
      ]
    },
    {
      "attachments": {},
      "cell_type": "markdown",
      "metadata": {
        "id": "LuCFkLlE3NgC"
      },
      "source": [
        "# 3. Su sąrašais - paprastai ir aiškiai\n",
        "Sąrašas yra bendresnė ir universalesnė sąvoka nei pirmose programavimo kalbose naudotas masyvas. Parodome kaip reikia formuoti ir analizuoti krepšinio žaidėjų pelnytų taškų sąrašą. Tam sąrašui naudosime prasmingesnį pavadinimą **taškai**, o pačius taškus rašysime tarp laužtinių skliaustų. Pitono funkcija **sum()** skaičiuoja taškų sumą, o funkcija **len()** nurodo sąrašo elementų kiekį *(len - nuo pilno žodžio length)*."
      ]
    },
    {
      "cell_type": "code",
      "execution_count": null,
      "metadata": {
        "colab": {
          "base_uri": "https://localhost:8080/"
        },
        "id": "ZJI_e_Iq2666",
        "outputId": "2854c47e-50f0-48a2-c341-7b1f62d9c547"
      },
      "outputs": [],
      "source": [
        "taškai = [4, 0,  12, 23, 9, 0, 17]\n",
        "viso_taškų = sum(taškai)\n",
        "kiek_žaidėjų = len(taškai)\n",
        "print(taškai, viso_taškų, kiek_žaidėjų) # be paaiškinimų\n",
        "print(f'{taškai=} {viso_taškų=} {kiek_žaidėjų=}')"
      ]
    },
    {
      "attachments": {},
      "cell_type": "markdown",
      "metadata": {
        "id": "R6T_NYx_3N9Z"
      },
      "source": [
        "# Sąrašo peržiūros ciklas\n",
        "O dabar atliksime truputį sudėtingesnę analizę: skaičiuosime kiek žaidėjų taškų nepelnė ir kiek žaidėjų pelnė vienženklį taškų skaičių, t.y. < 10. Tuo tikslu panaudosime sąrašo peržiūros ciklą **for** *t* **in** *taškai*:  kur *taškai* žymi sąrašą, *t* atskirą elementą. Kintamųjų *nepelnė* ir *vienženklių* pagalba bus skaičiuojami taškų nepelniusių ir vienženklį pelniusių žaidėjų kiekiai."
      ]
    },
    {
      "cell_type": "code",
      "execution_count": null,
      "metadata": {
        "colab": {
          "base_uri": "https://localhost:8080/"
        },
        "id": "cm1whv6L28Iq",
        "outputId": "2a3ba76a-bdc3-4bc7-a172-85871128629d"
      },
      "outputs": [],
      "source": [
        "nepelnė = vienženklių = 0\n",
        "for t in taškai:\n",
        "    if t == 0:\n",
        "        nepelnė += 1\n",
        "    if t < 10:\n",
        "        vienženklių += 1\n",
        "# !!! programa skaičiuoja neteisingai        \n",
        "print(\"Taškų nepelnė:\", nepelnė)\n",
        "print(\"Vienženklį pelnė:\", vienženklių)\n",
        "# papildykite kiek žaidėjų pelnė dviženklį taškų skaičių"
      ]
    },
    {
      "cell_type": "markdown",
      "metadata": {
        "id": "s7loFLK0mJl3"
      },
      "source": [
        "# Įtvirtinanti užduotis\n",
        "Nors sąrašo ir ciklo sąvokos detaliai dar tik bus nagrinėjamos, pabandykite intuityviai, pritaikydami ankstesnio pavyzdžio tekstą, sudaryti programą šios užduoties sprendimui.\n",
        "\n",
        "Duotas mokinių ūgių masyvas.<br>\n",
        "- raskite visų mokinių ūgio vidurkį;\n",
        "- raskite aukščiausio mokinio ūgį; \n",
        "- nustatykite kiek yra aukštų, vidutinių ir mažų mokinių pagal pasirinktas ribas.\n"
      ]
    },
    {
      "cell_type": "code",
      "execution_count": null,
      "metadata": {
        "colab": {
          "base_uri": "https://localhost:8080/"
        },
        "id": "kPN5ncU74qj5",
        "outputId": "63e67f1f-a3e0-4ae3-efca-336521cdfbcb"
      },
      "outputs": [],
      "source": [
        "ūgiai = [1.56, 1.49, 1.74, 1.65]\n",
        "# rašykite skaičiavimo ir spausdinimo veiksmus"
      ]
    },
    {
      "cell_type": "markdown",
      "metadata": {
        "id": "NEQaekaKr-O5"
      },
      "source": [
        "# Detaliau susipažįstame su colabo aplinka\n",
        "Šoniniame meniu pabandome įjungti ir išjungti turinį.<br>\n",
        "Meniu punktas **{x}** parodo visų pamokos kintamųjų lentelę.<br>\n",
        "Viršutinio meniu **Runtime** punkto **Run all** komanda įvykdo visas pamokos programėles ir visi kintamieji pasikeičia.\n"
      ]
    }
  ],
  "metadata": {
    "colab": {
      "provenance": []
    },
    "kernelspec": {
      "display_name": "Python 3",
      "language": "python",
      "name": "python3"
    },
    "language_info": {
      "codemirror_mode": {
        "name": "ipython",
        "version": 3
      },
      "file_extension": ".py",
      "mimetype": "text/x-python",
      "name": "python",
      "nbconvert_exporter": "python",
      "pygments_lexer": "ipython3",
      "version": "3.10.10"
    },
    "vscode": {
      "interpreter": {
        "hash": "6e7e9d62a9c0d99599c9267f410880885962d61a20668adffd152ec6632084ab"
      }
    }
  },
  "nbformat": 4,
  "nbformat_minor": 0
}
