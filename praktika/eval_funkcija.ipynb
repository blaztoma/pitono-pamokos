{
  "cells": [
    {
      "attachments": {},
      "cell_type": "markdown",
      "metadata": {},
      "source": [
        "[![Open In Colab](https://colab.research.google.com/assets/colab-badge.svg)](https://colab.research.google.com/github/blaztoma/pitono-pamokos/blob/main/praktika/eval_funkcija.ipynb)"
      ]
    },
    {
      "attachments": {},
      "cell_type": "markdown",
      "metadata": {
        "id": "DfrgAh-Ie8v3"
      },
      "source": [
        "#Eval funkcija\n",
        "Funkcija `eval(išraiška)` įvykdo bet kurią, sintaksiškai teisingą, Pitono išraišką. Ta išraiška iš esmės yra Pitno programa, kuri pateikiama tekstine eilute, kodo objektu arba sukompiliuotu baitkodu. Paprastumo dėlei, mes nagrinėsime tik tekstine eilute pateikiamas išraiškas."
      ]
    },
    {
      "attachments": {},
      "cell_type": "markdown",
      "metadata": {},
      "source": [
        "Štai tokiu būdu galime leisti naudotojui įvesti formulę ir ją apskaičiuoti. Nepamirškite, formulė turi būti įvesta naudojant Pitono sintaksę!"
      ]
    },
    {
      "cell_type": "code",
      "execution_count": null,
      "metadata": {
        "colab": {
          "base_uri": "https://localhost:8080/"
        },
        "collapsed": true,
        "id": "xCYrp_TMAfV9",
        "outputId": "22d3d006-a55a-4ecf-deaa-08449333957b"
      },
      "outputs": [],
      "source": [
        "e = input(\"Įvesk formulę: \")\n",
        "print(e, '=', eval(e))"
      ]
    },
    {
      "attachments": {},
      "cell_type": "markdown",
      "metadata": {},
      "source": [
        "Smagumo dėlei galite paeksperimentuoti su išraiškomis, užrašydami jas kode."
      ]
    },
    {
      "cell_type": "code",
      "execution_count": null,
      "metadata": {
        "cellView": "form",
        "colab": {
          "base_uri": "https://localhost:8080/"
        },
        "collapsed": true,
        "id": "EdxTC-gGfqVs",
        "outputId": "74481599-7ef4-4a59-8e51-b2eb498db094"
      },
      "outputs": [],
      "source": [
        "e1 = '(2+3)*(8-4)'\n",
        "print(e1, '=', eval(e1))\n",
        "x=3; y=4; z=5\n",
        "print(e:='2**2**2', '=', eval(e))\n",
        "print(e:='(2**2)**2', '=', eval(e))\n",
        "print(e:='2**(2**2)', '=', eval(e))\n",
        "print(e:='2**(2**2)', '=', eval(e))"
      ]
    },
    {
      "attachments": {},
      "cell_type": "markdown",
      "metadata": {},
      "source": [
        "Tam galite panaudoti ir daugybines eilutes."
      ]
    },
    {
      "cell_type": "code",
      "execution_count": null,
      "metadata": {
        "cellView": "form",
        "colab": {
          "base_uri": "https://localhost:8080/"
        },
        "collapsed": true,
        "id": "-sFcAKiM09CJ",
        "outputId": "56292c45-b185-40cb-bc00-50fcef9c2278"
      },
      "outputs": [],
      "source": [
        "from math import *\n",
        "sin_cos = \"\"\"\n",
        "sin(pi/6)   sin(radians(30))\n",
        "sin(pi/4) 2**0.5/2 sqrt(2)/2\n",
        "sin(pi/4)==2**0.5/2\n",
        "sin(1)**2+cos(1)**2\n",
        "sin(0.5)**2+cos(0.5)**2\n",
        "sin(pi/9)**2+cos(pi/9)**2\n",
        "sin(x)**2+cos(x)**2\n",
        "\"\"\"\n",
        "tangentai = \"\"\"\n",
        "tan(pi/4) tan(radians(45)) tan(pi/2)\n",
        "degrees(atan(tan(pi/2)))\n",
        "\"\"\"\n",
        "laipsniai_log = \"\"\"\n",
        "log2(256) log2(1024)\n",
        "log10(10**17) \n",
        "\"\"\"\n",
        "begalybė = \"\"\"\n",
        "999/inf 99*inf\n",
        "999_999_999_999_999>inf\n",
        "\"\"\"\n",
        "x = pi / 111\n",
        "\n",
        "def tyrinėti(formulės):\n",
        "    for e in formulės.split():\n",
        "        print(f'{e:>28} :', eval(e))\n",
        "    print('-' * 50)\n",
        "#-------------------\n",
        "# tyrinėti(sin_cos)\n",
        "# tyrinėti(tangentai)\n",
        "# tyrinėti(laipsniai_log)\n",
        "tyrinėti(begalybė)\n"
      ]
    },
    {
      "attachments": {},
      "cell_type": "markdown",
      "metadata": {},
      "source": [
        "Pabaigai reikia paminėti, jog ši funkcija turi labai specializuotą taikymų spektrą ir gali būti labai pavojinga. Ypač ten, kur išraiškas leidžiama įvesti naudotojui. Dėl to ši funkcija dažnai draudžiama serverių aplinkose. Paklausite - o ką gi tokio prasmingo suprogramuoti su šia funkcija!? Ogi - Jupiterio užrašines, kuriose mokomės, galima nesunkiai pasidaryti patiems :)"
      ]
    }
  ],
  "metadata": {
    "colab": {
      "provenance": []
    },
    "kernelspec": {
      "display_name": "Python 3",
      "language": "python",
      "name": "python3"
    },
    "language_info": {
      "name": "python",
      "version": "3.10.10"
    },
    "vscode": {
      "interpreter": {
        "hash": "6e7e9d62a9c0d99599c9267f410880885962d61a20668adffd152ec6632084ab"
      }
    }
  },
  "nbformat": 4,
  "nbformat_minor": 0
}
