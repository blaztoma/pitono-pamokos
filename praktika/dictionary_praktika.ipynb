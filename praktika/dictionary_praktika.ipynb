{
  "cells": [
    {
      "attachments": {},
      "cell_type": "markdown",
      "metadata": {},
      "source": [
        "[![Open In Colab](https://colab.research.google.com/assets/colab-badge.svg)](https://colab.research.google.com/github/blaztoma/pitono-pamokos/blob/main/praktika/dictionary_praktika.ipynb)"
      ]
    },
    {
      "cell_type": "markdown",
      "metadata": {
        "id": "VL2mR5rYjw0P"
      },
      "source": [
        "# Dictionary (Žodyno) duomenų struktūra\n",
        "Žodyno struktūra yra panaši į aibės struktūrą: ją sudaro unikalūs raktai su reikšmėmis, atitinkančioms tą raktą. Duomenys į šią struktūrą yra įdedami ir paimami naudojant unikalų raktą."
      ]
    },
    {
      "cell_type": "code",
      "execution_count": null,
      "metadata": {
        "id": "eZYI2sVRica7"
      },
      "outputs": [],
      "source": [
        "# formuojame spalvų žodyną - lietuvių anglų kalbų lt-en\n",
        "# raktas -> reikšmė (key -> value)\n",
        "spalvu_zodynas = {\n",
        "    \"raudona\": \"red\", \"juoda\"  : \"black\",  \"balta\"  : \"white\"\n",
        "}\n",
        "print(spalvu_zodynas[\"raudona\"])\n",
        "print(spalvu_zodynas[\"juoda\"])\n",
        "# print(spalvu_zodynas[\"žalia\"])  # atidengus įvyks klaida"
      ]
    },
    {
      "cell_type": "markdown",
      "metadata": {
        "id": "8sjC9zbXo6jC"
      },
      "source": [
        "Sudarome vertimo funkciją, kuri pateikia spalvos vertimą, jei pateikta spalva egzistuoja žodyne."
      ]
    },
    {
      "cell_type": "code",
      "execution_count": null,
      "metadata": {
        "id": "bY0i28S-lGhN"
      },
      "outputs": [],
      "source": [
        "def vertimas(žodynas, spalva):\n",
        "    if spalva in žodynas:\n",
        "        print(spalva, \"<LT-EN>\", žodynas[spalva])\n",
        "    else: \n",
        "        print(spalva, \"<LT-EN> nežinau\")\n",
        "        \n",
        "vertimas(spalvu_zodynas, \"raudona\")\n",
        "vertimas(spalvu_zodynas, \"juoda\")\n",
        "vertimas(spalvu_zodynas, \"žalia\")"
      ]
    },
    {
      "cell_type": "markdown",
      "metadata": {
        "id": "tlhT34ZoqaLZ"
      },
      "source": [
        "Papildome žodyną naujomis spalvomis."
      ]
    },
    {
      "cell_type": "code",
      "execution_count": null,
      "metadata": {
        "id": "P-mKBxHtlpMy"
      },
      "outputs": [],
      "source": [
        "spalvu_zodynas[\"žalia\"] = \"green\"\n",
        "spalvu_zodynas[\"geltona\"] = \"yellow\"\n",
        "vertimas(spalvu_zodynas, \"geltona\")\n",
        "vertimas(spalvu_zodynas, \"žalia\")"
      ]
    },
    {
      "cell_type": "markdown",
      "metadata": {
        "id": "PDIMtF2JDN3Z"
      },
      "source": [
        "Trynimas iš žodyno vykdomas naudojant funkciją **del()**."
      ]
    },
    {
      "cell_type": "code",
      "execution_count": null,
      "metadata": {
        "id": "NyGiewSsDOXG"
      },
      "outputs": [],
      "source": [
        "del(spalvu_zodynas[\"raudona\"])\n",
        "vertimas(spalvu_zodynas, \"geltona\")\n",
        "vertimas(spalvu_zodynas, \"raudona\")"
      ]
    },
    {
      "cell_type": "markdown",
      "metadata": {
        "id": "5d-QGBV2nsOY"
      },
      "source": [
        "Panagrinėkime suformuotą žodyną."
      ]
    },
    {
      "cell_type": "code",
      "execution_count": null,
      "metadata": {
        "id": "tLkgVJwclGQz"
      },
      "outputs": [],
      "source": [
        "print(\"Žodyno dydis\", len(spalvu_zodynas))\n",
        "# Trys žodyno peržiūros variantai\n",
        "for lietuviskas_zodis in spalvu_zodynas:\n",
        "    print(lietuviskas_zodis)\n",
        "for zodzių_pora in spalvu_zodynas.items():\n",
        "    print(zodzių_pora)\n",
        "for lietuviskas_zodis, angliskas_zodis in spalvu_zodynas.items():\n",
        "    print(lietuviskas_zodis, angliskas_zodis)"
      ]
    },
    {
      "cell_type": "markdown",
      "metadata": {
        "id": "Dw3k44MenioG"
      },
      "source": [
        "Suformuokime žodyną iš teksto."
      ]
    },
    {
      "cell_type": "code",
      "execution_count": null,
      "metadata": {
        "id": "gHFBtU9zmEIC"
      },
      "outputs": [],
      "source": [
        "spalvos_lt_en = \"\"\"\n",
        "raudona red\n",
        "juoda black\n",
        "balta white\n",
        "žalia green\n",
        "geltona yellow\n",
        "\"\"\".splitlines()\n",
        "\n",
        "def formuoti(duomenys):\n",
        "    \"\"\" duomenyse žodžių pora vienoje eilutėje\"\"\"\n",
        "    zodynas = {}\n",
        "    for elementas in duomenys:\n",
        "        if len(elementas) < 2: continue\n",
        "        lietuviskas_zodis, angliskas_zodis = elementas.split()\n",
        "        zodynas[lietuviskas_zodis] = angliskas_zodis\n",
        "    return zodynas\n",
        "\n",
        "zodis_1 = formuoti(spalvos_lt_en)\n",
        "print(zodis_1)"
      ]
    },
    {
      "cell_type": "markdown",
      "metadata": {
        "id": "h4fmJB_an6Qa"
      },
      "source": [
        "Sukeičiame žodžius ir gauname anglų-lietuvių kalbos žodyno variantą."
      ]
    },
    {
      "cell_type": "code",
      "execution_count": null,
      "metadata": {
        "id": "E2P0Usr2meS6"
      },
      "outputs": [],
      "source": [
        "zodis_2 = {angliskas_zodis: lietuviskas_zodis for lietuviskas_zodis, angliskas_zodis in zodis_1.items()}\n",
        "print(zodis_2)\n",
        "\n",
        "print(\"-------- Tikriname žodynų veikimą\")\n",
        "vertimas(zodis_1, \"balta\")\n",
        "vertimas(zodis_1, \"pilka\")\n",
        "vertimas(zodis_2, \"green\")"
      ]
    },
    {
      "cell_type": "markdown",
      "metadata": {
        "id": "IjETokMvop6r"
      },
      "source": [
        "Surikiuojam žodynus pagal abėcėlę."
      ]
    },
    {
      "cell_type": "code",
      "execution_count": null,
      "metadata": {
        "id": "2rXep-MDnBSj"
      },
      "outputs": [],
      "source": [
        "zodis_1_surikiuota = dict(sorted(zodis_1.items()))\n",
        "zodis_2_surikiuota = dict(sorted(zodis_2.items()))\n",
        "print(zodis_1_surikiuota)\n",
        "for angliskas_zodis, lietuviskas_zodis in zodis_2_surikiuota.items():\n",
        "    print(f\"{angliskas_zodis:8}-> {lietuviskas_zodis:8}\")"
      ]
    }
  ],
  "metadata": {
    "colab": {
      "provenance": []
    },
    "kernelspec": {
      "display_name": "Python 3",
      "name": "python3"
    },
    "language_info": {
      "name": "python"
    }
  },
  "nbformat": 4,
  "nbformat_minor": 0
}
