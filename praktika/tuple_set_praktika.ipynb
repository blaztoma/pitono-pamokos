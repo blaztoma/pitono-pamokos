{
  "cells": [
    {
      "attachments": {},
      "cell_type": "markdown",
      "metadata": {},
      "source": [
        "[![Open In Colab](https://colab.research.google.com/assets/colab-badge.svg)](https://colab.research.google.com/github/blaztoma/pitono-pamokos/blob/main/praktika/tuple_set_praktika.ipynb)"
      ]
    },
    {
      "cell_type": "markdown",
      "metadata": {
        "id": "nyOqi6G-Ox1E"
      },
      "source": [
        "# Tuple ir Set\n",
        "**List** (sąrašas) yra nuoseklus ir indeksuojamas duomenų rinkinys, kurį galima (pa)pildyti ir keisti (*mutable*);<br>\n",
        "**Tuple** - taip pat nuoseklus ir indeksuojamas duomenų rinkinys, bet nekeičiamas (*immutable*);<br>\n",
        "**Set** (aibė) - neindeksuojamas nesikartojančių elementų rinkinys.<br>"
      ]
    },
    {
      "cell_type": "markdown",
      "metadata": {
        "id": "WNmU9C8eAT7g"
      },
      "source": [
        "##Pavyzdys"
      ]
    },
    {
      "cell_type": "code",
      "execution_count": null,
      "metadata": {
        "colab": {
          "base_uri": "https://localhost:8080/"
        },
        "id": "nJmHEVC2JZgE",
        "outputId": "8e42b2a2-7778-4d24-ec02-44f34e72f3e2"
      },
      "outputs": [],
      "source": [
        "# with open('duomenys.txt') as f:\n",
        "#   turnyras = f.read()\n",
        "turnyras = \"\"\"# Žaidėjas Komanda\n",
        "Ponaitis  Vėtra   12\n",
        "Trimaitis Laisvė  14\n",
        "Simutis   Vėtra   34\n",
        "Simutis   Laisvė  17\n",
        "# atsarginiai\n",
        "Kalnietis   Laisvė   1\n",
        "Truskauskas  Neptūnas 22\n",
        "Sabaliauskas Laisvė 7\n",
        "\"\"\"\n",
        "dalyviai = []\n",
        "for eilutes in turnyras.splitlines():\n",
        "  if eilutes[0] == '#': continue\n",
        "  pavardė, komanda, taškai = eilutes.split()\n",
        "  taškai = int(taškai)\n",
        "  dalyviai.append((pavardė, komanda, taškai))\n",
        "\n",
        "# greitas visos informacijos išvedimas\n",
        "print(dalyviai)\n",
        "# komandų sąrašo suformavimas ir išvedimas\n",
        "komandos = [komanda for (_, komanda, _) in dalyviai]\n",
        "print(komandos, len(komandos))\n",
        "# Aibės naudojimas nesikartojančių komandų suformavimui ir išvedimui\n",
        "komandos = set(komandos)\n",
        "print(komandos, len(komandos))"
      ]
    },
    {
      "cell_type": "markdown",
      "metadata": {
        "id": "kgUPXbsmXyMn"
      },
      "source": [
        "#Atskirų elementų spausdinimas\n",
        "Sąrašus, aibes ir kitas rinkinių struktūras galime spausdinti ir atskirais šių struktūrų elementais."
      ]
    },
    {
      "cell_type": "code",
      "execution_count": null,
      "metadata": {
        "colab": {
          "base_uri": "https://localhost:8080/"
        },
        "id": "N9HBH-uZdD-2",
        "outputId": "a85fd2ba-4498-435c-8770-057c7cea8ee3"
      },
      "outputs": [],
      "source": [
        "def spausdinti(sarasas):\n",
        "  for elementas in sarasas:\n",
        "    print(elementas)\n",
        "spausdinti(dalyviai)"
      ]
    },
    {
      "cell_type": "markdown",
      "metadata": {
        "id": "RJOlGCGEWTGB"
      },
      "source": [
        "Kitas variantas, kai sąrašo elementai išskleidžiami ir ir spausdinami formatuojant."
      ]
    },
    {
      "cell_type": "code",
      "execution_count": null,
      "metadata": {
        "colab": {
          "base_uri": "https://localhost:8080/"
        },
        "id": "GHvNN1wgYRhI",
        "outputId": "44b9a713-eb90-4f7d-df9d-2abb0a616e1d"
      },
      "outputs": [],
      "source": [
        "def spausdinti(sarasas):\n",
        "  for elementas in sarasas:\n",
        "    pavadinimas, komanda, taškai = elementas   # išpakuojame\n",
        "    print(f'| {pavadinimas:16} | {komanda:10} | {taškai:3} |')\n",
        "spausdinti(dalyviai)"
      ]
    }
  ],
  "metadata": {
    "colab": {
      "provenance": []
    },
    "kernelspec": {
      "display_name": "Python 3",
      "name": "python3"
    },
    "language_info": {
      "name": "python"
    }
  },
  "nbformat": 4,
  "nbformat_minor": 0
}
