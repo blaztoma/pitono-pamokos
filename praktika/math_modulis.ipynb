{
  "cells": [
    {
      "attachments": {},
      "cell_type": "markdown",
      "metadata": {},
      "source": [
        "[![Open In Colab](https://colab.research.google.com/assets/colab-badge.svg)](https://colab.research.google.com/github/blaztoma/pitono-pamokos/blob/main/praktika/math_modulis.ipynb)"
      ]
    },
    {
      "attachments": {},
      "cell_type": "markdown",
      "metadata": {
        "id": "RM8rnIzcVx5g"
      },
      "source": [
        "#Math paketo panaudojimas\n",
        "Pitone integruotos tokios funkcijos kaip `int()`, `float()`, `sum()`, `len()`. Tuo tarpu daugelis matematinių funkcijų gali būti panaudotos tik įtraukus modulį **math**. Moduliai įtraukiami naudojant **import** instrukciją."
      ]
    },
    {
      "cell_type": "code",
      "execution_count": null,
      "metadata": {
        "colab": {
          "base_uri": "https://localhost:8080/"
        },
        "id": "M9xQUhChXI4J",
        "outputId": "8100bc49-c15d-4d96-8d5f-6e7c1db140cd"
      },
      "outputs": [],
      "source": [
        "import math\n",
        "print(math.pi)\n",
        "print(math.tan(45))\n",
        "print(math.tan(math.radians(45)))"
      ]
    },
    {
      "attachments": {},
      "cell_type": "markdown",
      "metadata": {},
      "source": [
        "Tokiu būdu įtraukus matematinį modulį, jo funkcijos iškviečiamos nurodant modulio pavadinimą ir jo funkciją, pavyzdžiui, `math.pi`. Yra galimybė naudoti funkcijas ir nenurodant paties modulio. Tai galima padaryti importuojant konkrečias paketo funkcijas, pavyzdžiui: `from math import pi`"
      ]
    },
    {
      "cell_type": "code",
      "execution_count": null,
      "metadata": {
        "colab": {
          "base_uri": "https://localhost:8080/"
        },
        "id": "YQyGj_ScVpr1",
        "outputId": "45763da0-26a3-4925-a3ef-0e27386641fe"
      },
      "outputs": [],
      "source": [
        "from math import pi\n",
        "paklaida = (pi-3.14)/pi*100"
      ]
    },
    {
      "attachments": {},
      "cell_type": "markdown",
      "metadata": {},
      "source": [
        "Galima įtraukti ir kelias funkcijas, pavyzdžiui:"
      ]
    },
    {
      "cell_type": "code",
      "execution_count": null,
      "metadata": {},
      "outputs": [],
      "source": [
        "from math import pi, tan\n",
        "paklaida = (pi-3.14)/pi*100\n",
        "print(tan(45))"
      ]
    },
    {
      "attachments": {},
      "cell_type": "markdown",
      "metadata": {},
      "source": [
        "Norint įtraukti visas funkcijas reikia panaudoti žvaigždutę (`*`)."
      ]
    },
    {
      "cell_type": "code",
      "execution_count": null,
      "metadata": {},
      "outputs": [],
      "source": [
        "from math import *\n",
        "print(pi, e, exp(1))\n",
        "paklaida = (pi-3.14)/pi*100\n",
        "print(round(paklaida, 3), '%')\n",
        "print(tan(45))\n",
        "print(tan(radians(45)))"
      ]
    },
    {
      "attachments": {},
      "cell_type": "markdown",
      "metadata": {
        "id": "GlpHhuGca8OP"
      },
      "source": [
        "#Uždaviniai\n",
        "Atsidarykite šį formulyną ir pamėginkite suprogramuoti pasirinktas formules:\n",
        "\n",
        "https://www.nsa.smm.lt/wp-content/uploads/2022/06/2022-Mat_VBE_2_PRIEDAS_FORMULYNAS.pdf"
      ]
    },
    {
      "cell_type": "code",
      "execution_count": null,
      "metadata": {
        "colab": {
          "base_uri": "https://localhost:8080/"
        },
        "id": "Hlf7WqxMcfk9",
        "outputId": "48327841-2488-4ad9-a6a6-186eaaba8d22"
      },
      "outputs": [],
      "source": [
        "# Kodą rašykite čia...\n"
      ]
    }
  ],
  "metadata": {
    "colab": {
      "provenance": []
    },
    "kernelspec": {
      "display_name": "Python 3",
      "language": "python",
      "name": "python3"
    },
    "language_info": {
      "codemirror_mode": {
        "name": "ipython",
        "version": 3
      },
      "file_extension": ".py",
      "mimetype": "text/x-python",
      "name": "python",
      "nbconvert_exporter": "python",
      "pygments_lexer": "ipython3",
      "version": "3.10.10"
    },
    "vscode": {
      "interpreter": {
        "hash": "6e7e9d62a9c0d99599c9267f410880885962d61a20668adffd152ec6632084ab"
      }
    }
  },
  "nbformat": 4,
  "nbformat_minor": 0
}
