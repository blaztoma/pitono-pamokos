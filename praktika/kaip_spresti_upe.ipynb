{
  "cells": [
    {
      "attachments": {},
      "cell_type": "markdown",
      "metadata": {},
      "source": [
        "[![Open In Colab](https://colab.research.google.com/assets/colab-badge.svg)](https://colab.research.google.com/github/blaztoma/pitono-pamokos/blob/main/praktika/kaip_spresti_upe.ipynb)"
      ]
    },
    {
      "cell_type": "markdown",
      "metadata": {
        "id": "ZNznNgJno-aG"
      },
      "source": [
        "#Šiek tiek apie užduotis\n",
        "Lig šiol sprendėme užduotis, kurių rezultatai priklausė nuo įvedamų duomenų. Yra kitų kategorijų uždavinių, kai formuluojama problema ir reikia sugalvoti būdą kaip tą problemą išspręsti. \n",
        "\n",
        "Kai kuriuos uždavinius galima spręsti analitiniu būdu pritaikant formules. Pavyzdžiui, sprendžiant užduotį **Kortų namelis** rezultatą galima gauti panaudojus formulę, tačiau galima taikyti ir kitą sprendimo variantą, kai sumavimas atliekamas **ciklo for pagalba**. Rezultatai aišku turi sutapti ir nesutapimas rodo apie klaidas formulėje ar cikluose :)\n",
        "\n",
        "Kitas užduotis dažnai patogu spręsti iš jėgos pozicijų, taip vadinamu  brutalios jėgos **\"brute force\"** principu, kai yra atliekamas pilnas perrinkimas.\n",
        "\n",
        "Tokių užduočių pavyzdžiai **arzinai.lt** skyriuje yra:\n",
        "\n",
        "- Turime tokią išraišką: **abc*abc=xycabz**, raidės žymi skaitmenis.<br> Raskite mažiausio skaičiaus, kuriam galioja nurodyta išraiška, x, y ir z reikšmes.\n",
        "\n",
        "- Kartą berniukas, kuris mokėjo tik skaičiuoti, užrašė: **UPĖ*UPĖ=ŠEŠUPĖ**<br> Tada berniukas pradėjo galvoti ar yra tokios raidžių skaitinės reikšmės su kuriomis šis reiškinys būtų teisingas. Raskite mažiausią žodžio ŠEŠUPĖ skaitinę reikšmę.\n",
        "\n",
        "Šis principas geras, kai reikia greitai rasti sprendimą ir pati problema yra nedidelė skaičiavimų prasme. Deja, dažniausiai reikia galvoti protingesnius sprendimus. Todėl išsprendę uždavinius pagalvokite, kaip galima tai padaryti geriau."
      ]
    },
    {
      "cell_type": "markdown",
      "metadata": {
        "id": "vp6SU6M_x2YA"
      },
      "source": [
        "#KIEK * KIEK * 9 = belenKIEK\n",
        "Panagrinėsime pavyzdį, kuris šiek tiek skiriasi nuo arzinai.lt užduočių. Reikia rasti kokį skaičių reiškia KIEK, kur raidė reiškia tam tikrą skaičių.\n",
        "\n",
        "Panagrinėsime kelis sprendimo būdus."
      ]
    },
    {
      "cell_type": "markdown",
      "metadata": {
        "id": "VbBRwpfH4XOl"
      },
      "source": [
        "##1 būdas\n",
        "Pilnas perrinkimas trijų ciklų pagalba."
      ]
    },
    {
      "cell_type": "code",
      "execution_count": null,
      "metadata": {
        "id": "IyHZ0iul1DRi"
      },
      "outputs": [],
      "source": [
        "for k in range(1,10):\n",
        "  for i in range(10):\n",
        "    for e in range(10):\n",
        "      kiek = k*1000 + i*100 + e*10 + k\n",
        "      belenKIEK = kiek * kiek * 9\n",
        "      if belenKIEK % 10000 == kiek:\n",
        "        print(kiek, belenKIEK)"
      ]
    },
    {
      "cell_type": "markdown",
      "metadata": {
        "id": "fRDKy_UI4h31"
      },
      "source": [
        "##2 būdas\n",
        "Pilnas perrinkimas vieno ciklo pagalba."
      ]
    },
    {
      "cell_type": "code",
      "execution_count": null,
      "metadata": {
        "id": "H0h1oHPeo5rY"
      },
      "outputs": [],
      "source": [
        "for kie in range(1, 1000):\n",
        "  k = kie // 100\n",
        "  kiek = kie * 10 + k\n",
        "  belenKIEK = kiek * kiek * 9\n",
        "  if belenKIEK % 10000 == kiek:\n",
        "    print(kiek, belenKIEK)"
      ]
    },
    {
      "cell_type": "markdown",
      "metadata": {
        "id": "wKEY4Jwz4lu4"
      },
      "source": [
        "##3 būdas\n",
        "Optimizuotas sprendimas. Galimų variantų perrinkimui reikia beveik 5 kartus mažiau iteracijų nei grubios jėgos metodu."
      ]
    },
    {
      "cell_type": "code",
      "execution_count": null,
      "metadata": {
        "colab": {
          "base_uri": "https://localhost:8080/"
        },
        "id": "bNT726y9TTFN",
        "outputId": "be3abe0c-91d4-4435-eacb-ebc286dab6be"
      },
      "outputs": [],
      "source": [
        "iteraciju_kiekis = 0\n",
        "skaitmenys = {0, 1, 2, 3, 4, 5, 6, 7, 8, 9}\n",
        "for k in (4, 5, 9):\n",
        "  for i in skaitmenys - {k}:\n",
        "    for e in skaitmenys - {k} - {i}:\n",
        "      iteraciju_kiekis += 1\n",
        "      kiek = int(f\"{k}{i}{e}{k}\")\n",
        "      belenKIEK = kiek * kiek * 9\n",
        "      if belenKIEK % 10000 == kiek:\n",
        "        print(kiek, belenKIEK)\n",
        "        print('Surasta per:', iteraciju_kiekis, 'iteracijų...')\n",
        "        #skaitmenys = set()   # čia - jei reiktų stabdyti radus\n",
        "        #break              # čia - jei reiktų stabdyti radus\n",
        "print('Viso iteracijų:', iteraciju_kiekis)"
      ]
    },
    {
      "cell_type": "markdown",
      "metadata": {
        "id": "GxSlODE36wTe"
      },
      "source": [
        "#Apibendrinant\n",
        "Galvosūkių tipo užduotys yra tinkamos savarankiškoms studijoms, naujų sprendimo būdų paieškai.\n",
        "\n",
        "Populiariausias tokių užduočių šaltinis:<br>\n",
        "https://projecteuler.net/<br>\n",
        "Yra ir tinklalapių, kuriuose aptariami tokių užduočių sprendimai:<br>\n",
        "https://www.nayuki.io/page/project-euler-solutions"
      ]
    }
  ],
  "metadata": {
    "colab": {
      "provenance": []
    },
    "kernelspec": {
      "display_name": "Python 3",
      "name": "python3"
    },
    "language_info": {
      "name": "python"
    }
  },
  "nbformat": 4,
  "nbformat_minor": 0
}
