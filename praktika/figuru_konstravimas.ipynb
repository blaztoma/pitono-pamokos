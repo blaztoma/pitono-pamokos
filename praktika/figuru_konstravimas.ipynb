{
  "cells": [
    {
      "cell_type": "markdown",
      "metadata": {
        "id": "1SFW36a3TIdL"
      },
      "source": [
        "# Užduočių su figūromis nauda\n",
        "Žinioms apie ciklus įtvirtinti gerai tinka simbolių dėliojimo pratimai, kai priklausomai nuo pasirinktos figūros pačiam mokiniui reikia atrasti simbolių kitimo dėsnius. Gerai įtvirtinamas ir parametrų supratimas, kai sprendimas konstruojamas ne konkrečiam dydžiui, o apibendrintam. **Tada keičiant parametrus galima paprastai keisti figūros vaizdą.** Programos derinimas yra vaizdus, padaryti netikslumai aiškiai matomi ir lengvai taisomi. Pačias užduotis formuluoti yra lengva, pakanka pateikti figūros vaizdą. Pasižiūrėkite pavyzdžiui [šiuos šablonus](https://www.faceprep.in/c/pattern-programs-in-c/).\n",
        "\n",
        "Tokiems uždaviniams yra daug sprendimų internete, tai galima palyginti savo sprendimo efektyvumą su kitais sprendimais. Mokiniams reikia siekti galimai paprastesnio ir aiškesnio sprendimo, gana greitai susifomuoja tipiniai sprendimo ir derinimo įgūdžiai."
      ]
    },
    {
      "cell_type": "markdown",
      "metadata": {
        "id": "CPVYV9Opocm-"
      },
      "source": [
        "# Operacijos su simboliais\n",
        "Pamokos pradžioje supažinsime su + ir * operacijomis, kurios Pitono kalboje yra naudojamos tiek su skaičiais, tiek su simboliais. Sudėties operacija simbolinių kintamųjų atveju atlieka tiesiog simbolių sujungimą. Ypač patogi daugybos operacija, kai atliekamas simbolių eiluės pakartojimas nurodytą kartų skaičių. Tai naudinga, kai reikia suformuoti skirtingų ilgių simbolių eilutes. \n",
        "\n",
        "Formuojant stačiakampį pakanka suformuoti reikiamo ilgio eilutę ir ją atspausdinti tiek kartų, koks yra aukštis. Šiuo atveju ciklo kintamojo nereikia ir jo vietoje rašomas pabraukimo simbolis."
      ]
    },
    {
      "cell_type": "code",
      "execution_count": null,
      "metadata": {
        "colab": {
          "base_uri": "https://localhost:8080/"
        },
        "id": "JcAtwPJElZpo",
        "outputId": "d30fea84-c8cd-4096-9e61-4e38894b3b97"
      },
      "outputs": [
        {
          "name": "stdout",
          "output_type": "stream",
          "text": [
            "++++\n",
            "++++\n",
            "++++\n",
            "++++\n",
            "++++++++++++\n",
            "++++++++++++\n",
            "++++++++++++\n",
            "++++++++++++\n",
            "++++++++++++\n"
          ]
        }
      ],
      "source": [
        "def rectangle(width, height):\n",
        "  line = '+' * width\n",
        "  for _ in range(height):\n",
        "    print(line)\n",
        "\n",
        "rectangle(4, 4)\n",
        "rectangle(12, 5)"
      ]
    },
    {
      "cell_type": "markdown",
      "metadata": {
        "id": "EtHe9EyutFDj"
      },
      "source": [
        "Simbolių eilutės nuosekliam ilginimui tinka += operacija. Susipažinkite su šios funkcijos veikimo rezultatais."
      ]
    },
    {
      "cell_type": "code",
      "execution_count": null,
      "metadata": {
        "colab": {
          "base_uri": "https://localhost:8080/"
        },
        "id": "4b5pnE2Jo5QJ",
        "outputId": "dd7f8cd7-c62c-499e-b03e-12bbb7574b88"
      },
      "outputs": [
        {
          "name": "stdout",
          "output_type": "stream",
          "text": [
            "*\n",
            "**\n",
            "***\n",
            "****\n",
            "*****\n",
            "*\n",
            "**\n",
            "***\n",
            "****\n",
            "*****\n",
            "******\n",
            "*******\n",
            "********\n",
            "*********\n",
            "**********\n"
          ]
        }
      ],
      "source": [
        "def half_pyramid(height):\n",
        "  line = ''\n",
        "  for _ in range(height):\n",
        "    line += '*'\n",
        "    print(line)\n",
        "\n",
        "half_pyramid(5)\n",
        "half_pyramid(10)\n"
      ]
    },
    {
      "attachments": {},
      "cell_type": "markdown",
      "metadata": {
        "id": "caoHj4Aztp5i"
      },
      "source": [
        "# Apibendrinti pavyzdžiai\n",
        "Programų pavyzdžiuose naudojami tokie kintamieji:\n",
        "\n",
        "*empty_symbol* - tuščios vietos simbolis. Juo gali būti tarpas, taškas, minusas, Jį patogu naudoti, kad vizualiai pamatyti, ar teisingai konstruojamos figūros;\n",
        "\n",
        "*fill_symbol* - pildymo simbolis, kuris parenkamas pagal figūros siluetą. Dažnai būna *, #, X, O, / ar \\. Tokiu būdu yra gaunama išraiškingesnė figūra 🙂;\n",
        "\n",
        "*width, height* - reiškia figūros plotį ir aukštį;\n",
        "\n",
        "Pastaba: norint užrašyti atvirkščią pasvirusį brūkšnį \\ (*back_slash*), jį tenka rašyti du kartus, kadangi simbolių rašyboje nuo senosios C kalbos laikų yra sutarta, jog visų nematomų simbolių rašyboje naudojamas \\ ženklas (pvz. naujos eilutės simbolis **'\\n'**).\n",
        "\n",
        "Pradžioje papildysime stačiakampio ir pusinės piramidės funkcijas:"
      ]
    },
    {
      "cell_type": "code",
      "execution_count": null,
      "metadata": {
        "colab": {
          "base_uri": "https://localhost:8080/"
        },
        "id": "AuRPZOEmuujS",
        "outputId": "f3e04871-ce02-4e6e-a291-3296a5dc56e8"
      },
      "outputs": [
        {
          "name": "stdout",
          "output_type": "stream",
          "text": [
            "####\n",
            "####\n",
            "####\n",
            "####\n",
            "O+O+O+O+O+O+O+O+O+O+O+O+\n",
            "O+O+O+O+O+O+O+O+O+O+O+O+\n",
            "O+O+O+O+O+O+O+O+O+O+O+O+\n"
          ]
        }
      ],
      "source": [
        "def rectangle(width, height, fill_symbol):\n",
        "  line = fill_symbol * width\n",
        "  for _ in range(height):\n",
        "    print(line)\n",
        "\n",
        "rectangle(4, 4, '#')\n",
        "rectangle(12, 3, 'O+')"
      ]
    },
    {
      "cell_type": "code",
      "execution_count": null,
      "metadata": {
        "colab": {
          "base_uri": "https://localhost:8080/"
        },
        "id": "1igVXaQ4vSuS",
        "outputId": "6a723141-e6b1-4a69-babd-0f276f21b6ce"
      },
      "outputs": [
        {
          "name": "stdout",
          "output_type": "stream",
          "text": [
            "*\n",
            "**\n",
            "***\n",
            "\\\n",
            "\\\\\n",
            "\\\\\\\n",
            "\\\\\\\\\n",
            "\\\\\\\\\\\n"
          ]
        }
      ],
      "source": [
        "def half_pyramid(height, fill_symbol):\n",
        "  line = ''\n",
        "  for _ in range(height):\n",
        "    line += fill_symbol\n",
        "    print(line)\n",
        "\n",
        "half_pyramid(3, '*')\n",
        "half_pyramid(5, '\\\\')"
      ]
    },
    {
      "cell_type": "markdown",
      "metadata": {
        "id": "bEyAIz0jsV0L"
      },
      "source": [
        "Tuščio stačiakampio formavimui panaudojame tuščią simbolį *empty_symbol*"
      ]
    },
    {
      "cell_type": "code",
      "execution_count": null,
      "metadata": {
        "colab": {
          "base_uri": "https://localhost:8080/"
        },
        "id": "F2EASgh7x97y",
        "outputId": "94be3f69-1dfd-4f88-fac9-bf645f12ffdf"
      },
      "outputs": [
        {
          "name": "stdout",
          "output_type": "stream",
          "text": [
            "******\n",
            "*    *\n",
            "*    *\n",
            "******\n",
            "##########\n",
            "#^^^^^^^^#\n",
            "#^^^^^^^^#\n",
            "#^^^^^^^^#\n",
            "##########\n"
          ]
        }
      ],
      "source": [
        "def hollow_rectangle(width, height, fill_symbol, empty_symbol):\n",
        "  line_1 = fill_symbol * width\n",
        "  line_2 = fill_symbol +empty_symbol*(width-2) + fill_symbol\n",
        "  print(line_1)\n",
        "  for _ in range(height-2):\n",
        "    print(line_2)\n",
        "  print(line_1)\n",
        "\n",
        "hollow_rectangle(6, 4, '*', ' ')\n",
        "hollow_rectangle(10, 5, '#', '^')"
      ]
    },
    {
      "cell_type": "markdown",
      "metadata": {
        "id": "ZlgSCbXfG1T4"
      },
      "source": [
        "# Piramidės konstravimas\n",
        "Siūlomas konstravimo būdas yra toks. Pradžioje sudarome šoninę eilutę iš tuščių simbolių, kurios ilgis yra lygus aukščiui. Vidurinę eilutę pradžioje sudaro vienas užpildymo simbolis. Toliau cikle šoninė eilutė yra trumpinama, o vidurinė ilginama. Žiūrėkite funkcijos kodą ir eksperimentuokite."
      ]
    },
    {
      "cell_type": "code",
      "execution_count": null,
      "metadata": {
        "colab": {
          "base_uri": "https://localhost:8080/"
        },
        "id": "1MXSNoCfIMUH",
        "outputId": "a4c62f78-32b4-4afe-ada7-9ea5f46b4709"
      },
      "outputs": [
        {
          "name": "stdout",
          "output_type": "stream",
          "text": [
            ".....*.....\n",
            "....***....\n",
            "...*****...\n",
            "..*******..\n",
            ".*********.\n",
            "        X        \n",
            "       XXX       \n",
            "      XXXXX      \n",
            "     XXXXXXX     \n",
            "    XXXXXXXXX    \n",
            "   XXXXXXXXXXX   \n",
            "  XXXXXXXXXXXXX  \n",
            " XXXXXXXXXXXXXXX \n"
          ]
        }
      ],
      "source": [
        "def pyramid(height, fill_symbol, empty_symbol):\n",
        "  side = empty_symbol * height   # kraštiniai simboliai\n",
        "  mid = fill_symbol              # užpildymo simboliai\n",
        "  for _ in range(height):\n",
        "    line = side + mid + side\n",
        "    print(line)     # jei padauginsie iš 5, bus pakartota\n",
        "    side = side[1:] # vienu simboliu mažiau\n",
        "    mid += fill_symbol * 2   # dviem simboliais daugiau\n",
        "\n",
        "pyramid(5, '*', '.')\n",
        "pyramid(8, 'X', ' ')"
      ]
    },
    {
      "cell_type": "markdown",
      "metadata": {
        "id": "mMyjP83Q0jl4"
      },
      "source": [
        "# Rekomenduojamos užduotys\n",
        "Pamokos pradžioje jau buvo įdėta nuoroda į daugiau rekomenduojamų savarankiškam darbui [pavyzdžių](https://www.faceprep.in/c/pattern-programs-in-c/).\n",
        "\n",
        "Ši tema skatina ir mokinių savarankiškumą, galima pasižiūrėti sprendimų ir kitomis programavimo kalbomis. Tam pakanka į Google paiešką įvesti žodius „**print program pattern**“, įsijungti vaizdų režimą ir pasirinkti patikusius sprendimus. Būtent todėl šioje temoje yra skatinama naudoti angliškus figūrų pavadinimus. Dar įdomi užduotis yra šachmatų lentos spausdinimas, kai modeliuojama juodo ir balto langelio kaita. Šią užduotį galima atlikti keliais būdais, rašant skirtingas funkcijas.\n",
        "\n",
        "Labiau motyvuotiems mokiniams tinka ir sudėtingesnės figūros:<br>\n",
        "https://www.geeksforgeeks.org/program-print-crown-pattern/<br>\n",
        "https://www.specsycoder.com/2020/08/Kite-Pattern-in-Java.html<br>\n",
        "https://www.specsycoder.com/2020/08/Hourglass-Pattern-in-Java.html<br>\n",
        "\n",
        "O gal pavyks sukurti ir originalų lietuvišką piešinį 🙂.\n",
        "\n"
      ]
    },
    {
      "cell_type": "code",
      "execution_count": null,
      "metadata": {
        "colab": {
          "base_uri": "https://localhost:8080/"
        },
        "id": "PMEyjds8A9ep",
        "outputId": "1695d2ba-d185-49b3-f94f-488f20be723b"
      },
      "outputs": [
        {
          "name": "stdout",
          "output_type": "stream",
          "text": [
            "      *           *           *           *           *      \n",
            "     ***         ***         ***         ***         ***     \n",
            "    *****       *****       *****       *****       *****    \n",
            "   *******     *******     *******     *******     *******   \n",
            "  *********   *********   *********   *********   *********  \n",
            " *********** *********** *********** *********** *********** \n",
            "  *********   *********   *********   *********   *********  \n",
            "   *******     *******     *******     *******     *******   \n",
            "    *****       *****       *****       *****       *****    \n",
            "     ***         ***         ***         ***         ***     \n",
            "      *           *           *           *           *      \n",
            "      O           O           O           O           O      \n",
            "     O O         O O         O O         O O         O O     \n",
            "    O   O       O   O       O   O       O   O       O   O    \n",
            "   O     O     O     O     O     O     O     O     O     O   \n",
            "  O       O   O       O   O       O   O       O   O       O  \n",
            " O         O O         O O         O O         O O         O \n",
            "O           O           O           O           O           O\n"
          ]
        }
      ],
      "source": [
        "# konstruokite tokius ar panašius piešinius"
      ]
    }
  ],
  "metadata": {
    "colab": {
      "provenance": []
    },
    "kernelspec": {
      "display_name": "Python 3",
      "name": "python3"
    },
    "language_info": {
      "name": "python"
    }
  },
  "nbformat": 4,
  "nbformat_minor": 0
}
