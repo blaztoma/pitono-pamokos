{
  "cells": [
    {
      "attachments": {},
      "cell_type": "markdown",
      "metadata": {},
      "source": [
        "[![Open In Colab](https://colab.research.google.com/assets/colab-badge.svg)](https://colab.research.google.com/github/blaztoma/pitono-pamokos/blob/main/praktika/labas_pasauli.ipynb)"
      ]
    },
    {
      "cell_type": "markdown",
      "metadata": {
        "id": "8czNF22R-x68"
      },
      "source": [
        "# Funkcijos yra svarbiausia\n",
        "Jūs jau pažįstate nemažai funkcijų: spausdinimo funkcija print(), funkcijos len() ir sum(), kurios skirtos sąrašams. Mokiniai jau nuo 5-os klasės per pamokas programuoja vėžliuko judėjimą, naudodami funkcijas forward(), right(), left(). Kreipiantis į funkcijas, nurodomi reikalingi parametrai ir tada funkcijos atlieka konkrečius veiksmus.\n",
        "\n",
        "Programavimo veiklos pagrindą sudaro funkcijų kūrimas bei jų naudojimas.\n",
        "Funkcijos antraštė prasideda žodeliu **def**, po kurio seka funcijos vardas ir tarp sliaustelių rašomi abstrakčių parametrų vardai. Antraštė būtinai baigiama dvitaškio simboliu !! Toliau visi funkcijos veiksmai rašomi atitrauktai.\n",
        "\n",
        "Taigi nors funkcijos vardas nusako kas bus atlikta, tačiau svarbiausia yra realūs veiksmai. O parametrai užtikrina funkcijos universalumą, t.y. rezultatai turi atitikti funkcijos tikslams prie įvairių parametrų reikšmių. Mes pradedame nuo pozicinių parametrų, kai kreipinių reikšmės turi atitikti formalių (abstrakčių) parametrų pozicijas."
      ]
    },
    {
      "cell_type": "code",
      "execution_count": null,
      "metadata": {
        "colab": {
          "base_uri": "https://localhost:8080/"
        },
        "id": "45RVJDVN73ep",
        "outputId": "4e0e6353-8501-46af-80e7-109021227843"
      },
      "outputs": [],
      "source": [
        "def ką_daryti(vardas, ūgis, svoris):\n",
        "    print(f'{vardas=:8} {ūgis=} {svoris=}')\n",
        "\n",
        "ką_daryti(\"Benas\", 1.67, 59)\n",
        "ką_daryti(\"Simona\", 1.56, 52)\n",
        "ką_daryti(1.71, 64, \"Marius\")"
      ]
    },
    {
      "cell_type": "markdown",
      "metadata": {
        "id": "kIIn5ert_K-T"
      },
      "source": [
        "# Sveikas pasauli su vardu\n",
        "Daug nelaukdami pradedame nuo pirmo pavyzdžio Hello Word, naudojamo visame pasaulyje kaip pirmoji prisistatymo programa, kuris pertvarkytas į sveikinimo funkciją.<br> \n",
        "Pasibaigus funkcijos atliekamiems veiksmams, rašome kreipinius į sukurtą funkciją, naudodami konkrečius parametrus, sveikinimo funkcijos atveju vardus \"Adomas\" ir \"Ieva\". Tai ir yra sukurtos funkcijos panaudojimas, tuo pačiu ir išbandymas, stebint ar gauname teisingus rezultatus. Tikrinti funkcijos veikimą yra žymiai patogiau su keliais pasirinktais parametrų rinkiniais, tai suteikia privalumų lyginant su įvedimo sakiniu."
      ]
    },
    {
      "cell_type": "code",
      "execution_count": null,
      "metadata": {
        "colab": {
          "base_uri": "https://localhost:8080/"
        },
        "id": "ri69wjLI16wm",
        "outputId": "c99277e1-6de4-4066-b635-084e4bda6523"
      },
      "outputs": [],
      "source": [
        "def sveikintis(vardas):\n",
        "    print(\"Sveikas pasauli!\")\n",
        "    print(\"Mano vardas yra\", vardas)\n",
        "    # parašykite ką mėgstate\n",
        "    print(\"***** Malonu susipažinti!\")\n",
        "\n",
        "sveikintis(\"Adomas\")\n",
        "sveikintis(\"Ieva\")"
      ]
    },
    {
      "cell_type": "markdown",
      "metadata": {
        "id": "IL1knbbN_goJ"
      },
      "source": [
        "# Datos - kiek dienų gyventa\n",
        "Renkamės užduoties temą, kuria demonstruosime funkcijos kūrimo aspektus. Norisi kad kuriama funkcija būtų nematyta, įdomi ir tuo pačiu suteiktų kūrėjui naujų patirčių. Programos galimybės labai priklauso nuo naudojamos bibliotekos, todėl norėdami sužinoti kokia šiandien yra diena (kalendorinė aritmetika yra gana sudėtinga), prijungiame **datetime** modulį. Tam naudojame **import** sakinį."
      ]
    },
    {
      "cell_type": "code",
      "execution_count": null,
      "metadata": {
        "colab": {
          "base_uri": "https://localhost:8080/"
        },
        "id": "i4vE6_1O2f0h",
        "outputId": "db74f8b0-bc33-4e5f-ebb4-2b9216b73b10"
      },
      "outputs": [],
      "source": [
        "from datetime import date, timedelta\n",
        "def kiek_gyventa(vardas, metai, mėnuo, diena):\n",
        "    šiandien = date.today()\n",
        "    pradinė_data = date(metai, mėnuo, diena)\n",
        "    trukmė = šiandien - pradinė_data\n",
        "    print(vardas, \"jau gyvena\", trukmė)\n",
        "\n",
        "kiek_gyventa(\"Ramūnas\", 2006, 3, 26)\n",
        "kiek_gyventa(\"Millennium\", 2000, 1, 1)\n",
        "# norėdami patikrinti ar funkcija veikia teisigai,\n",
        "# įrašykite kreipinius su vakardienos ir rytojaus datomis"
      ]
    },
    {
      "cell_type": "markdown",
      "metadata": {
        "id": "X22wvoFy_lph"
      },
      "source": [
        "# Kada bus jubiliejus?\n",
        "Natūralu, kad sužinojus kiek dienų jau gyventa, domina ir jubiliejaus data, susijusi su apvalia tūkstantine trukme. Tai sukuriame dar vieną funkciją ir tęsiame eksperimentus . Išbandykite ir sužinokite kiek dienų jau pragyventa šiame tūkstantmetyje, jau netrukus bus ir jubiliejus … Jei bandysime prie gimimo datos pridėti skaičių, tai gausime klaidos pranešimą, todėl naudojame papildomą funkciją **timedelta**, kuri suformuoja tinkamą objektą trukmei skaičiuoti."
      ]
    },
    {
      "cell_type": "code",
      "execution_count": null,
      "metadata": {
        "colab": {
          "base_uri": "https://localhost:8080/"
        },
        "id": "bSaAuQKr4zz7",
        "outputId": "96b31bb2-ebf4-4392-d273-32a712d1ebd1"
      },
      "outputs": [],
      "source": [
        "def kada_jubiliejus(kiek_dienų, metai, mėnuo, diena):\n",
        "    gim_data = date(metai, mėnuo, diena)\n",
        "    jub_data = gim_data + timedelta(kiek_dienų)\n",
        "    print(kiek_dienų, \"dienų jubiliejus bus\", jub_data) \n",
        "\n",
        "def kada_vestuvės(kiek_dienų, metai, mėnuo, diena):\n",
        "    gim_data = date(metai, mėnuo, diena)\n",
        "    jub_data = gim_data + timedelta(kiek_dienų)\n",
        "    print(kiek_dienų, \"dienų jubiliejus bus\", jub_data) \n",
        "\n",
        "kada_jubiliejus(6_000, 2006, 3, 26)\n",
        "kada_jubiliejus(10_000, 2000, 1, 1)\n",
        "# papildykite programą kad 1-as parametras būtų jubiliato vardas"
      ]
    },
    {
      "attachments": {},
      "cell_type": "markdown",
      "metadata": {
        "id": "f9Dhbm8TAAyC"
      },
      "source": [
        "# Apibendriname\n",
        "*Pagrindinė šios pamokos mintis – programuotojo darbas yra kurti funkcijas, skirtas konkrečioms užduotims atlikti, jas aiškiai įvardinti ir patikrinti jų veikimą.* Pitono funkcijos apibrėžiamos paprastai ir aiškiai. Parametrai perduodami tik reikšmėmis, nėra parametrų perduodamų pagal nuorodą. Funkcijos turi dar ir kitų savybių, kurios bus nagrinėjamos vėliau: gražinamos reikšmės, vardiniai parametrai. Dar sugrįšime ir prie funkcijos **Sveikas_pasauli!**"
      ]
    },
    {
      "cell_type": "markdown",
      "metadata": {
        "id": "z7nI6_XV6A0w"
      },
      "source": [
        "# Įtvirtinančios užduotys\n",
        "Pradinėms žinioms įtvirtinti mokiniams rekomenduojame parašyti ir išbandyti paprastas funkcijas (kėlimą kvadratu ir kubu) – galima ir šio to sudėtingesnio, pvz. sudaryti funkcijas kvadratų sumos ir skirtumo skaičiavimui. Svarbu parinkti tinkamą funkcijos vardą ir patikrinti su nedideliais skaičiais veikimo teisingumą.\n",
        "\n",
        "Nesudėtinga, bet sveikatos sistemoje plačiai naudojama yra kūno masės indekso skaičiavimo funkcija. Būtų gražu, jei ši funkcija pateiktų žodines rekomendacijas dėl svorio tendencijų. Skaičiavimo formulė [yra čia](https://lt.wikipedia.org/wiki/K%C5%ABno_mas%C4%97s_indeksas).\n",
        "\n",
        "Šias funkcijas kurkite, pradėdami nuo tuščio lapo, t.y. sukurdami naują programą naujame kodo langelyje! Su aukščiau pateiktu kodu galima laisvai eksperimentuoti, pagal pateiktus pavyzdžius bandykite atlikti ir savo skaičiavimus. Sukurkite savo pamokėlę, naudodami meniu punkto **File** komandą **New notebook** - tam reikia turėti Google paskyrą."
      ]
    },
    {
      "cell_type": "code",
      "execution_count": null,
      "metadata": {
        "id": "BU-qWccLocWV"
      },
      "outputs": [],
      "source": [
        "# čia rašykite savo funkcijas"
      ]
    },
    {
      "cell_type": "code",
      "execution_count": null,
      "metadata": {
        "id": "V3KomHBYqC1z"
      },
      "outputs": [],
      "source": [
        "# čia rašykite kitą funkciją"
      ]
    }
  ],
  "metadata": {
    "colab": {
      "provenance": []
    },
    "kernelspec": {
      "display_name": "Python 3",
      "language": "python",
      "name": "python3"
    },
    "language_info": {
      "codemirror_mode": {
        "name": "ipython",
        "version": 3
      },
      "file_extension": ".py",
      "mimetype": "text/x-python",
      "name": "python",
      "nbconvert_exporter": "python",
      "pygments_lexer": "ipython3",
      "version": "3.10.10"
    },
    "vscode": {
      "interpreter": {
        "hash": "6e7e9d62a9c0d99599c9267f410880885962d61a20668adffd152ec6632084ab"
      }
    }
  },
  "nbformat": 4,
  "nbformat_minor": 0
}
