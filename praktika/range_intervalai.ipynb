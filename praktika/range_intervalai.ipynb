{
  "cells": [
    {
      "attachments": {},
      "cell_type": "markdown",
      "metadata": {},
      "source": [
        "[![Open In Colab](https://colab.research.google.com/assets/colab-badge.svg)](https://colab.research.google.com/github/blaztoma/pitono-pamokos/blob/main/praktika/range_intervalai.ipynb)"
      ]
    },
    {
      "cell_type": "markdown",
      "metadata": {
        "id": "VPKiWDvkFVoS"
      },
      "source": [
        "# Funkcijos range() paskirtis\n",
        "Funkcijos range() pagalba yra generuojamos įvairios sekos, užtikrinamas ciklų kartojimas. Šios funkcijos elgsenai tirti sukurtos demonstracinės funkcijos, kurių vardas prasideda žodeliu **demo**. Tokios funkcijos paprastai neatlieka jokios konkrečios užduoties, o yra skirtos išsiaiškinti kitų funkcijų veikimą, atliekant bandymus.\n",
        "Patikslinsime funkcijos veikimą, panaudodami matematinio intervalo sąvoką **[a : b)**, kas reiškia pusiau atvirą intervalą, kur reikšmė a priklauso intervalui, tuo tarpu b -ne. Funkcija range() būtent ir generuoja reikšmes iš tokio intervalo. Bendrai galimi tokie funkcijos panaudojimo variantai, kai intervalas **[nuo : iki)**:\n",
        "\n",
        "*range(nuo, iki, pokytis)* – ribos ir pokytis nurodomas konkrečiai;<br>\n",
        "*range(nuo, iki)* – pokytis yra lygus vienetui;<br>\n",
        "*range(iki)* – nuo yra 0, o pokytis yra lygus vienetui.\n"
      ]
    },
    {
      "cell_type": "code",
      "execution_count": null,
      "metadata": {
        "colab": {
          "base_uri": "https://localhost:8080/"
        },
        "id": "qYJejt47FLuF",
        "outputId": "f42afb9f-8389-4ffd-acc9-0ec4319886e8"
      },
      "outputs": [],
      "source": [
        "for k in range(6):\n",
        "  print(k, k**2)"
      ]
    },
    {
      "cell_type": "markdown",
      "metadata": {
        "id": "l8gryNhtGJwB"
      },
      "source": [
        "# Atvejų aptarimas\n",
        "Kodėl naudojamas pusiau atviras intervalas? Todėl kad tuo atveju skirtumas **(iki - nuo)** *visada duoda elementų skaičių*. Vieno argumento atveju parametras tiesiog reiškia kartojimo skaičių. Jei mums reikia kad intervalas [a, b] būtų uždaras, tai reikia rašyti range(a, b+1). Atkreipiami dėmesį, kad funkcija range() yra skirta tik sveikiems skaičiams, realių skaičių atveju gaunama klaida. Generuojamos reikšmės gali būti ir neigiamos. Pokytis taip gali būti neigiamas, tokiu atveju seka bus mažėjanti. *Tačiau pokytis negali būti nulis, nes tokiu atveju sekos nariai nesikeis ir būtų begalinis ciklas.*\n",
        "\n",
        "Visą tą intervalų įvairovę galima išbandyti demonstracinių funkcijų pagalba. Stebėkite gaunamus rezultatus, keiskite parametrus, kol įsitikinsite jog supratote kaip veikia funkcijos."
      ]
    },
    {
      "cell_type": "code",
      "execution_count": null,
      "metadata": {
        "colab": {
          "base_uri": "https://localhost:8080/"
        },
        "id": "3CvaAAYuJO0Y",
        "outputId": "25c63f14-7290-478e-8e04-7339b3855101"
      },
      "outputs": [],
      "source": [
        "def demo_intervalas_1(kiek):\n",
        "    print(f\"range({kiek}) ->\", end=' ')\n",
        "    for sk in range(kiek):\n",
        "        print(sk, end=' ')\n",
        "    print()\n",
        "    \n",
        "demo_intervalas_1(6)\n",
        "demo_intervalas_1(11)"
      ]
    },
    {
      "cell_type": "code",
      "execution_count": null,
      "metadata": {
        "colab": {
          "base_uri": "https://localhost:8080/"
        },
        "id": "1BueR0LhJQhF",
        "outputId": "d95749aa-2b46-43c8-a4ae-f2ab0398fb61"
      },
      "outputs": [],
      "source": [
        "def demo_intervalas_2(nuo, iki):\n",
        "    print(f\"range({nuo}, {iki}) ->\", end=' ')\n",
        "    for sk in range(nuo, iki):\n",
        "        print(sk, end=' ')\n",
        "    print()\n",
        "    \n",
        "demo_intervalas_2(1, 4)\n",
        "demo_intervalas_2(3, 9)\n",
        "demo_intervalas_2(-2, 5)"
      ]
    },
    {
      "cell_type": "code",
      "execution_count": null,
      "metadata": {
        "colab": {
          "base_uri": "https://localhost:8080/"
        },
        "id": "fbsjPXsHJQBF",
        "outputId": "18b7a9e2-b54b-44e3-e625-5870fa4d2549"
      },
      "outputs": [],
      "source": [
        "def demo_intervalas_3(nuo, iki, pokytis):\n",
        "    print(f\"range({nuo}, {iki}, {pokytis}) ->\", end=' ')\n",
        "    for sk in range(nuo, iki, pokytis):\n",
        "        print(sk, end=' ')\n",
        "    print()\n",
        "    \n",
        "demo_intervalas_3(1, 7, 2)\n",
        "demo_intervalas_3(2, 12, 3)\n",
        "demo_intervalas_3(-2, 5, 2)\n",
        "demo_intervalas_3(11, 5, -1)"
      ]
    },
    {
      "cell_type": "markdown",
      "metadata": {
        "id": "4Yg_6mm9GXeW"
      },
      "source": [
        "# Progresijų generavimas\n",
        "Išbandykite aritmetinės ir geometrinės progresijų narių skaičiavimą. Spausdinant realius skaičius yra svarbu apriboti ženklų po kablelio skaičių. Tai atliekama formatavimo eilutės pagalba, žiūr. pvz.: f'{gn:.2f}', kas reiškia, jog rodomos tik 2 skiltys po kablelio. Atkreipkite dėmesį, kad geometrinės progresijos nariai reiškia, kaip kinta jūsų banko indėlis taikant skirtingas palūkanas ☺"
      ]
    },
    {
      "cell_type": "code",
      "execution_count": null,
      "metadata": {
        "colab": {
          "base_uri": "https://localhost:8080/"
        },
        "id": "ziWRRzFZMMmI",
        "outputId": "64d14ee0-d7b4-49ed-ba45-3c9eb40f1c8b"
      },
      "outputs": [],
      "source": [
        "# http://www.mat.lt/matematikos-formules/progresijos.html\n",
        "def aritmetinės_progresijos_suma(a0, d, n):\n",
        "    print(\"(\", a0, d , n, \") ->\", end=' ')\n",
        "    s = 0\n",
        "    for a in range(a0, a0 + d*n, d):\n",
        "        print(a, end=' ')\n",
        "        s += a\n",
        "    print(\"Suma=\", s, end='  ')\n",
        "    print(\"Testas:\", (2*a0 + d*(n-1))*n/2)\n",
        "    \n",
        "print(\"Aritmetinės Progresijos Suma\")\n",
        "aritmetinės_progresijos_suma(5, 2, 4)\n",
        "aritmetinės_progresijos_suma(2, -1, 5)"
      ]
    },
    {
      "cell_type": "code",
      "execution_count": null,
      "metadata": {
        "colab": {
          "base_uri": "https://localhost:8080/"
        },
        "id": "JRxyBmeLMkQ0",
        "outputId": "7c9d1ff3-d288-4cba-969b-5eecd10c7ee9"
      },
      "outputs": [],
      "source": [
        "def geometrinė_progresija(a0, q, n):\n",
        "    gn = a0 # geom. progresijos narys\n",
        "    for _ in range(n):\n",
        "        print(f'{gn:.2f}', end=' ')\n",
        "        gn *= q\n",
        "    print(\"Pabaiga\")\n",
        "    \n",
        "print(\"Geometrinės Progresijos nariai\")\n",
        "geometrinė_progresija(10, 1.10, 6)\n",
        "geometrinė_progresija(12, 1.05, 7)"
      ]
    },
    {
      "cell_type": "markdown",
      "metadata": {
        "id": "ZUT_CWL4Gn-m"
      },
      "source": [
        "# Užduotys savarankiškam darbui\n",
        "Toliau patys parašykite funkciją, skirtą uždaro intervalo [a, b] kvadrato reikšmių lentelei spausdinti.<br>\n",
        "Įdomus uždavinys yra pilnos sandaugos lentelės sudarymas, kur tenka panaudoti ciklą cikle. Pasižiūrėkite kokius rezultatus reikia gauti ir sukurkite savo funkciją! Teks naudoti ciklą cikle :)"
      ]
    },
    {
      "cell_type": "code",
      "execution_count": null,
      "metadata": {
        "colab": {
          "base_uri": "https://localhost:8080/"
        },
        "id": "o651JN1eFKv-",
        "outputId": "0239e4e4-69d9-480e-9c3e-9314f6e4226a"
      },
      "outputs": [],
      "source": [
        "def kvadratų_lentelė(a, b):\n",
        "  for sk in range(a, b+1):\n",
        "    print(sk, sk*sk)\n",
        "  print('-----------')\n",
        "kvadratų_lentelė(10, 16)\n",
        "kvadratų_lentelė(101, 104)"
      ]
    },
    {
      "cell_type": "code",
      "execution_count": null,
      "metadata": {
        "colab": {
          "base_uri": "https://localhost:8080/"
        },
        "id": "YzIVAmwNPhGc",
        "outputId": "dc6d780e-b7e0-4be7-e0a3-f8572ff6e270"
      },
      "outputs": [],
      "source": [
        "def sandaugos(n):\n",
        "  print(\"Lentelė n=\", n)\n",
        "  for i in range(1, n+1):\n",
        "    for j in range(1, n+1):\n",
        "      print(f'{i*j:4}', end=' |')\n",
        "    print()\n",
        "\n",
        "sandaugos(6)\n",
        "sandaugos(10)\n",
        "sandaugos(15)\n"
      ]
    }
  ],
  "metadata": {
    "colab": {
      "provenance": []
    },
    "kernelspec": {
      "display_name": "Python 3",
      "language": "python",
      "name": "python3"
    },
    "language_info": {
      "codemirror_mode": {
        "name": "ipython",
        "version": 3
      },
      "file_extension": ".py",
      "mimetype": "text/x-python",
      "name": "python",
      "nbconvert_exporter": "python",
      "pygments_lexer": "ipython3",
      "version": "3.10.10"
    },
    "vscode": {
      "interpreter": {
        "hash": "6e7e9d62a9c0d99599c9267f410880885962d61a20668adffd152ec6632084ab"
      }
    }
  },
  "nbformat": 4,
  "nbformat_minor": 0
}
