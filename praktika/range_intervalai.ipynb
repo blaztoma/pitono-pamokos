{
  "cells": [
    {
      "cell_type": "markdown",
      "metadata": {
        "id": "VPKiWDvkFVoS"
      },
      "source": [
        "# Funkcijos range() paskirtis\n",
        "Funkcijos range() pagalba yra generuojamos įvairios sekos, užtikrinamas ciklų kartojimas. Šios funkcijos elgsenai tirti sukurtos demonstracinės funkcijos, kurių vardas prasideda žodeliu **demo**. Tokios funkcijos paprastai neatlieka jokios konkrečios užduoties, o yra skirtos išsiaiškinti kitų funkcijų veikimą, atliekant bandymus.\n",
        "Patikslinsime funkcijos veikimą, panaudodami matematinio intervalo sąvoką **[a : b)**, kas reiškia pusiau atvirą intervalą, kur reikšmė a priklauso intervalui, tuo tarpu b -ne. Funkcija range() būtent ir generuoja reikšmes iš tokio intervalo. Bendrai galimi tokie funkcijos panaudojimo variantai, kai intervalas **[nuo : iki)**:\n",
        "\n",
        "*range(nuo, iki, pokytis)* – ribos ir pokytis nurodomas konkrečiai;<br>\n",
        "*range(nuo, iki)* – pokytis yra lygus vienetui;<br>\n",
        "*range(iki)* – nuo yra 0, o pokytis yra lygus vienetui.\n"
      ]
    },
    {
      "cell_type": "code",
      "execution_count": null,
      "metadata": {
        "colab": {
          "base_uri": "https://localhost:8080/"
        },
        "id": "qYJejt47FLuF",
        "outputId": "f42afb9f-8389-4ffd-acc9-0ec4319886e8"
      },
      "outputs": [
        {
          "name": "stdout",
          "output_type": "stream",
          "text": [
            "0 0\n",
            "1 1\n",
            "2 4\n",
            "3 9\n",
            "4 16\n",
            "5 25\n"
          ]
        }
      ],
      "source": [
        "for k in range(6):\n",
        "  print(k, k**2)"
      ]
    },
    {
      "cell_type": "markdown",
      "metadata": {
        "id": "l8gryNhtGJwB"
      },
      "source": [
        "# Atvejų aptarimas\n",
        "Kodėl naudojamas pusiau atviras intervalas? Todėl kad tuo atveju skirtumas **(iki - nuo)** *visada duoda elementų skaičių*. Vieno argumento atveju parametras tiesiog reiškia kartojimo skaičių. Jei mums reikia kad intervalas [a, b] būtų uždaras, tai reikia rašyti range(a, b+1). Atkreipiami dėmesį, kad funkcija range() yra skirta tik sveikiems skaičiams, realių skaičių atveju gaunama klaida. Generuojamos reikšmės gali būti ir neigiamos. Pokytis taip gali būti neigiamas, tokiu atveju seka bus mažėjanti. *Tačiau pokytis negali būti nulis, nes tokiu atveju sekos nariai nesikeis ir būtų begalinis ciklas.*\n",
        "\n",
        "Visą tą intervalų įvairovę galima išbandyti demonstracinių funkcijų pagalba. Stebėkite gaunamus rezultatus, keiskite parametrus, kol įsitikinsite jog supratote kaip veikia funkcijos."
      ]
    },
    {
      "cell_type": "code",
      "execution_count": null,
      "metadata": {
        "colab": {
          "base_uri": "https://localhost:8080/"
        },
        "id": "3CvaAAYuJO0Y",
        "outputId": "25c63f14-7290-478e-8e04-7339b3855101"
      },
      "outputs": [
        {
          "name": "stdout",
          "output_type": "stream",
          "text": [
            "range(6) -> 0 1 2 3 4 5 \n",
            "range(11) -> 0 1 2 3 4 5 6 7 8 9 10 \n"
          ]
        }
      ],
      "source": [
        "def demo_intervalas1(kiek):\n",
        "    print(f\"range({kiek}) ->\", end=' ')\n",
        "    for sk in range(kiek):\n",
        "        print(sk, end=' ')\n",
        "    print()\n",
        "    \n",
        "demo_intervalas1(6)\n",
        "demo_intervalas1(11)"
      ]
    },
    {
      "cell_type": "code",
      "execution_count": null,
      "metadata": {
        "colab": {
          "base_uri": "https://localhost:8080/"
        },
        "id": "1BueR0LhJQhF",
        "outputId": "d95749aa-2b46-43c8-a4ae-f2ab0398fb61"
      },
      "outputs": [
        {
          "name": "stdout",
          "output_type": "stream",
          "text": [
            "range(1, 4) -> 1 2 3 \n",
            "range(3, 9) -> 3 4 5 6 7 8 \n",
            "range(-2, 5) -> -2 -1 0 1 2 3 4 \n"
          ]
        }
      ],
      "source": [
        "def demo_intervalas_2(nuo, iki):\n",
        "    print(f\"range({nuo}, {iki}) ->\", end=' ')\n",
        "    for sk in range(nuo, iki):\n",
        "        print(sk, end=' ')\n",
        "    print()\n",
        "    \n",
        "demo_intervalas_2(1, 4)\n",
        "demo_intervalas_2(3, 9)\n",
        "demo_intervalas_2(-2, 5)"
      ]
    },
    {
      "cell_type": "code",
      "execution_count": null,
      "metadata": {
        "colab": {
          "base_uri": "https://localhost:8080/"
        },
        "id": "fbsjPXsHJQBF",
        "outputId": "18b7a9e2-b54b-44e3-e625-5870fa4d2549"
      },
      "outputs": [
        {
          "name": "stdout",
          "output_type": "stream",
          "text": [
            "range(1, 7, 2) -> 1 3 5 \n",
            "range(2, 12, 3) -> 2 5 8 11 \n",
            "range(-2, 5, 2) -> -2 0 2 4 \n",
            "range(11, 5, -1) -> 11 10 9 8 7 6 \n"
          ]
        }
      ],
      "source": [
        "def demo_intervalas_3(nuo, iki, pokytis):\n",
        "    print(f\"range({nuo}, {iki}, {pokytis}) ->\", end=' ')\n",
        "    for sk in range(nuo, iki, pokytis):\n",
        "        print(sk, end=' ')\n",
        "    print()\n",
        "    \n",
        "demo_intervalas_3(1, 7, 2)\n",
        "demo_intervalas_3(2, 12, 3)\n",
        "demo_intervalas_3(-2, 5, 2)\n",
        "demo_intervalas_3(11, 5, -1)"
      ]
    },
    {
      "cell_type": "markdown",
      "metadata": {
        "id": "4Yg_6mm9GXeW"
      },
      "source": [
        "# Progresijų generavimas\n",
        "Išbandykite aritmetinės ir geometrinės progresijų narių skaičiavimą. Spausdinant realius skaičius yra svarbu apriboti ženklų po kablelio skaičių. Tai atliekama formatavimo eilutės pagalba, žiūr. pvz.: f'{gn:.2f}', kas reiškia, jog rodomos tik 2 skiltys po kablelio. Atkreipkite dėmesį, kad geometrinės progresijos nariai reiškia, kaip kinta jūsų banko indėlis taikant skirtingas palūkanas ☺"
      ]
    },
    {
      "cell_type": "code",
      "execution_count": null,
      "metadata": {
        "colab": {
          "base_uri": "https://localhost:8080/"
        },
        "id": "ziWRRzFZMMmI",
        "outputId": "64d14ee0-d7b4-49ed-ba45-3c9eb40f1c8b"
      },
      "outputs": [
        {
          "name": "stdout",
          "output_type": "stream",
          "text": [
            "Aritmetinės Progresijos Suma\n",
            "( 5 2 4 ) -> 5 7 9 11 Suma= 32  Test: 32.0\n",
            "( 2 -1 5 ) -> 2 1 0 -1 -2 Suma= 0  Test: 0.0\n"
          ]
        }
      ],
      "source": [
        "# http://www.mat.lt/matematikos-formules/progresijos.html\n",
        "def aritmetinės_progresijos_suma(a0, d, n):\n",
        "    print(\"(\", a0, d , n, \") ->\", end=' ')\n",
        "    s = 0\n",
        "    for a in range(a0, a0 + d*n, d):\n",
        "        print(a, end=' ')\n",
        "        s += a\n",
        "    print(\"Suma=\", s, end='  ')\n",
        "    print(\"Testas:\", (2*a0 + d*(n-1))*n/2)\n",
        "    \n",
        "print(\"Aritmetinės Progresijos Suma\")\n",
        "aritmetinės_progresijos_suma(5, 2, 4)\n",
        "aritmetinės_progresijos_suma(2, -1, 5)"
      ]
    },
    {
      "cell_type": "code",
      "execution_count": null,
      "metadata": {
        "colab": {
          "base_uri": "https://localhost:8080/"
        },
        "id": "JRxyBmeLMkQ0",
        "outputId": "7c9d1ff3-d288-4cba-969b-5eecd10c7ee9"
      },
      "outputs": [
        {
          "name": "stdout",
          "output_type": "stream",
          "text": [
            "Geometrinės Progresijos nariai\n",
            "10.00 11.00 12.10 13.31 14.64 16.11 fin\n",
            "12.00 12.60 13.23 13.89 14.59 15.32 16.08 fin\n"
          ]
        }
      ],
      "source": [
        "def geometrinė_progresija(a0, q, n):\n",
        "    gn = a0 # geom. progresijos narys\n",
        "    for _ in range(n):\n",
        "        print(f'{gn:.2f}', end=' ')\n",
        "        gn *= q\n",
        "    print(\"Pabaiga\")\n",
        "    \n",
        "print(\"Geometrinės Progresijos nariai\")\n",
        "geometrinė_progresija(10, 1.10, 6)\n",
        "geometrinė_progresija(12, 1.05, 7)"
      ]
    },
    {
      "cell_type": "markdown",
      "metadata": {
        "id": "ZUT_CWL4Gn-m"
      },
      "source": [
        "# Užduotys savarankiškam darbui\n",
        "Toliau patys parašykite funkciją, skirtą uždaro intervalo [a, b] kvadrato reikšmių lentelei spausdinti.<br>\n",
        "Įdomus uždavinys yra pilnos sandaugos lentelės sudarymas, kur tenka panaudoti ciklą cikle. Pasižiūrėkite kokius rezultatus reikia gauti ir sukurkite savo funkciją! Teks naudoti ciklą cikle :)"
      ]
    },
    {
      "cell_type": "code",
      "execution_count": null,
      "metadata": {
        "colab": {
          "base_uri": "https://localhost:8080/"
        },
        "id": "o651JN1eFKv-",
        "outputId": "0239e4e4-69d9-480e-9c3e-9314f6e4226a"
      },
      "outputs": [
        {
          "name": "stdout",
          "output_type": "stream",
          "text": [
            "10 100\n",
            "11 121\n",
            "12 144\n",
            "13 169\n",
            "14 196\n",
            "15 225\n",
            "16 256\n",
            "-----------\n",
            "101 10201\n",
            "102 10404\n",
            "103 10609\n",
            "104 10816\n",
            "-----------\n"
          ]
        }
      ],
      "source": [
        "def kvadratų_lentelė(a, b):\n",
        "  for sk in range(a, b+1):\n",
        "    print(sk, sk*sk)\n",
        "  print('-----------')\n",
        "kvadratų_lentelė(10, 16)\n",
        "kvadratų_lentelė(101, 104)"
      ]
    },
    {
      "cell_type": "code",
      "execution_count": null,
      "metadata": {
        "colab": {
          "base_uri": "https://localhost:8080/"
        },
        "id": "YzIVAmwNPhGc",
        "outputId": "dc6d780e-b7e0-4be7-e0a3-f8572ff6e270"
      },
      "outputs": [
        {
          "name": "stdout",
          "output_type": "stream",
          "text": [
            "Lentelė n= 6\n",
            "   1 |   2 |   3 |   4 |   5 |   6 |\n",
            "   2 |   4 |   6 |   8 |  10 |  12 |\n",
            "   3 |   6 |   9 |  12 |  15 |  18 |\n",
            "   4 |   8 |  12 |  16 |  20 |  24 |\n",
            "   5 |  10 |  15 |  20 |  25 |  30 |\n",
            "   6 |  12 |  18 |  24 |  30 |  36 |\n",
            "Lentelė n= 10\n",
            "   1 |   2 |   3 |   4 |   5 |   6 |   7 |   8 |   9 |  10 |\n",
            "   2 |   4 |   6 |   8 |  10 |  12 |  14 |  16 |  18 |  20 |\n",
            "   3 |   6 |   9 |  12 |  15 |  18 |  21 |  24 |  27 |  30 |\n",
            "   4 |   8 |  12 |  16 |  20 |  24 |  28 |  32 |  36 |  40 |\n",
            "   5 |  10 |  15 |  20 |  25 |  30 |  35 |  40 |  45 |  50 |\n",
            "   6 |  12 |  18 |  24 |  30 |  36 |  42 |  48 |  54 |  60 |\n",
            "   7 |  14 |  21 |  28 |  35 |  42 |  49 |  56 |  63 |  70 |\n",
            "   8 |  16 |  24 |  32 |  40 |  48 |  56 |  64 |  72 |  80 |\n",
            "   9 |  18 |  27 |  36 |  45 |  54 |  63 |  72 |  81 |  90 |\n",
            "  10 |  20 |  30 |  40 |  50 |  60 |  70 |  80 |  90 | 100 |\n",
            "Lentelė n= 15\n",
            "   1 |   2 |   3 |   4 |   5 |   6 |   7 |   8 |   9 |  10 |  11 |  12 |  13 |  14 |  15 |\n",
            "   2 |   4 |   6 |   8 |  10 |  12 |  14 |  16 |  18 |  20 |  22 |  24 |  26 |  28 |  30 |\n",
            "   3 |   6 |   9 |  12 |  15 |  18 |  21 |  24 |  27 |  30 |  33 |  36 |  39 |  42 |  45 |\n",
            "   4 |   8 |  12 |  16 |  20 |  24 |  28 |  32 |  36 |  40 |  44 |  48 |  52 |  56 |  60 |\n",
            "   5 |  10 |  15 |  20 |  25 |  30 |  35 |  40 |  45 |  50 |  55 |  60 |  65 |  70 |  75 |\n",
            "   6 |  12 |  18 |  24 |  30 |  36 |  42 |  48 |  54 |  60 |  66 |  72 |  78 |  84 |  90 |\n",
            "   7 |  14 |  21 |  28 |  35 |  42 |  49 |  56 |  63 |  70 |  77 |  84 |  91 |  98 | 105 |\n",
            "   8 |  16 |  24 |  32 |  40 |  48 |  56 |  64 |  72 |  80 |  88 |  96 | 104 | 112 | 120 |\n",
            "   9 |  18 |  27 |  36 |  45 |  54 |  63 |  72 |  81 |  90 |  99 | 108 | 117 | 126 | 135 |\n",
            "  10 |  20 |  30 |  40 |  50 |  60 |  70 |  80 |  90 | 100 | 110 | 120 | 130 | 140 | 150 |\n",
            "  11 |  22 |  33 |  44 |  55 |  66 |  77 |  88 |  99 | 110 | 121 | 132 | 143 | 154 | 165 |\n",
            "  12 |  24 |  36 |  48 |  60 |  72 |  84 |  96 | 108 | 120 | 132 | 144 | 156 | 168 | 180 |\n",
            "  13 |  26 |  39 |  52 |  65 |  78 |  91 | 104 | 117 | 130 | 143 | 156 | 169 | 182 | 195 |\n",
            "  14 |  28 |  42 |  56 |  70 |  84 |  98 | 112 | 126 | 140 | 154 | 168 | 182 | 196 | 210 |\n",
            "  15 |  30 |  45 |  60 |  75 |  90 | 105 | 120 | 135 | 150 | 165 | 180 | 195 | 210 | 225 |\n"
          ]
        }
      ],
      "source": [
        "def sandaugos(n):\n",
        "  print(\"Lentelė n=\", n)\n",
        "  for i in range(1, n+1):\n",
        "    for j in range(1, n+1):\n",
        "      print(f'{i*j:4}', end=' |')\n",
        "    print()\n",
        "\n",
        "sandaugos(6)\n",
        "sandaugos(10)\n",
        "sandaugos(15)\n"
      ]
    }
  ],
  "metadata": {
    "colab": {
      "provenance": []
    },
    "kernelspec": {
      "display_name": "Python 3",
      "name": "python3"
    },
    "language_info": {
      "name": "python"
    }
  },
  "nbformat": 4,
  "nbformat_minor": 0
}
