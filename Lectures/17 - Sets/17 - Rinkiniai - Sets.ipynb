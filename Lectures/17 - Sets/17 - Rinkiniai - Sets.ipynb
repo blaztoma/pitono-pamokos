{
 "cells": [
  {
   "attachments": {},
   "cell_type": "markdown",
   "metadata": {},
   "source": [
    "[![Open In Colab](https://colab.research.google.com/assets/colab-badge.svg)](https://colab.research.google.com/github/blaztoma/pitono-pamokos/blob/main/pamokos/17%20-%20Rinkiniai%20-%20Sets/17%20-%20Rinkiniai%20-%20Sets.ipynb)"
   ]
  },
  {
   "attachments": {},
   "cell_type": "markdown",
   "metadata": {},
   "source": [
    "# Rinkiniai (`Sets`)"
   ]
  },
  {
   "attachments": {},
   "cell_type": "markdown",
   "metadata": {},
   "source": [
    "## Apie rinkinius\n",
    "\n",
    "- Rinkiniai irgi skirti duomenų sugrupavimui, tačiau su rinkiniu galima turėti tik nesidubliuojančias reikšmes (tik unikalius duomenis).\n",
    "- Rinkiniuose duomenis galima keisti.\n",
    "- Tai yra tarpinis variantas tarp sąrašo ir žodyno (galima susidėti duomenis kaip į sąrašą, tačiau duomenys nėra rikiuojami kaip sąraše, nes yra be rikiavimo eiliškumo kaip žodyne).\n",
    "- Naudingiausia kai reikia turėti rinkinį su unikaliomis reikšmėmis, tačiau nerūpi duomenų eiliškumas, ar raktų-reikšmių poros."
   ]
  },
  {
   "attachments": {},
   "cell_type": "markdown",
   "metadata": {},
   "source": [
    "## Sintaksė\n",
    "\n",
    "1-as variantas:\n",
    "\n",
    "```\n",
    "rinkinys = {reikšmė, reikšmė, reikšmė}\n",
    "```\n",
    "\n",
    "2-as variantas:\n",
    "\n",
    "```\n",
    "rinkinys = set({reikšmė, reikšmė, reikšmė})\n",
    "```"
   ]
  },
  {
   "attachments": {},
   "cell_type": "markdown",
   "metadata": {},
   "source": [
    "## Pavyzdžiai"
   ]
  },
  {
   "cell_type": "code",
   "execution_count": null,
   "metadata": {},
   "outputs": [],
   "source": [
    "rinkinys = set({1, 2, 3, 4, 4, 5, 5, 5})\n",
    "print(rinkinys)"
   ]
  },
  {
   "cell_type": "code",
   "execution_count": null,
   "metadata": {},
   "outputs": [],
   "source": [
    "pirmas = set({7, 4, 5})\n",
    "antras = {8, 2, 3, 5}\n",
    "\n",
    "print(pirmas)\n",
    "print(antras)"
   ]
  },
  {
   "cell_type": "code",
   "execution_count": null,
   "metadata": {},
   "outputs": [],
   "source": [
    "unikalus_miestai = {\"Kaunas\", 'Vilnius', 'Klaipėda', 'Kaunas', 'Šiauliai'}\n",
    "\n",
    "print(unikalus_miestai)"
   ]
  },
  {
   "cell_type": "code",
   "execution_count": null,
   "metadata": {},
   "outputs": [],
   "source": [
    "vardai = {'Petras', 'Ona', 'Gintaras', 'Ugnė'}\n",
    "print('Ona' in vardai)\n",
    "print('Ugnius' in vardai)\n",
    "print(5 in vardai)"
   ]
  },
  {
   "cell_type": "code",
   "execution_count": null,
   "metadata": {},
   "outputs": [],
   "source": [
    "rink = {'pirmas', 'antras', 'trečias'}\n",
    "print(rink[0]) # klaida"
   ]
  },
  {
   "cell_type": "code",
   "execution_count": null,
   "metadata": {},
   "outputs": [],
   "source": [
    "ivairi_info = {7, 'Jonas', 4, 5, 'Petras', 6.87, 2.5, 3}\n",
    "print(ivairi_info)"
   ]
  },
  {
   "cell_type": "code",
   "execution_count": null,
   "metadata": {},
   "outputs": [],
   "source": [
    "skaiciai = {7, 4, 2, 6}\n",
    "\n",
    "for sk in skaiciai:\n",
    "    print(sk)"
   ]
  },
  {
   "cell_type": "code",
   "execution_count": null,
   "metadata": {},
   "outputs": [],
   "source": [
    "salys = {'Lietuva', 'Latvija', 'Estija', 'Švedija', 'Norvegija'}\n",
    "\n",
    "for salis in salys:\n",
    "    print('-', salis)"
   ]
  },
  {
   "cell_type": "code",
   "execution_count": null,
   "metadata": {},
   "outputs": [],
   "source": [
    "miestai = ['Kaunas', 'Vilnius', 'Kaunas', 'Klaipėda', 'Panevėžys', 'Šiauliai', 'Vilnius']\n",
    "\n",
    "print('visi miestai:', miestai, '\\n')\n",
    "\n",
    "unikalus_miestai = set(miestai)\n",
    "\n",
    "print('unikalūs miestai:', unikalus_miestai)"
   ]
  },
  {
   "cell_type": "code",
   "execution_count": null,
   "metadata": {},
   "outputs": [],
   "source": [
    "miestai = ['Kaunas', 'Vilnius', 'Kaunas', 'Klaipėda', 'Panevėžys', 'Šiauliai', 'Vilnius']\n",
    "\n",
    "print('visi miestai:', miestai, '\\n')\n",
    "\n",
    "unikalus_miestai = set(miestai)\n",
    "unikalus_miestai_sarase1 = list(unikalus_miestai)\n",
    "print('sąraše 1:', unikalus_miestai_sarase1, '\\n')\n",
    "\n",
    "unikalus_miestai_sarase2 = list(set(miestai))\n",
    "print('sąraše 2:', unikalus_miestai_sarase2)"
   ]
  },
  {
   "cell_type": "code",
   "execution_count": null,
   "metadata": {},
   "outputs": [],
   "source": [
    "miestai = ['Kaunas', 'Vilnius', 'Kaunas', 'Klaipėda', 'Pavevėžys', 'Šiauliai', 'Vilnius']\n",
    "\n",
    "print('skirtingų miestų yra:', len(set(miestai)))"
   ]
  },
  {
   "cell_type": "code",
   "execution_count": null,
   "metadata": {},
   "outputs": [],
   "source": [
    "s = set([1, 2, 3])\n",
    "\n",
    "s.add(4)\n",
    "print(s)\n",
    "\n",
    "s.add(4)\n",
    "print(s)"
   ]
  },
  {
   "cell_type": "code",
   "execution_count": null,
   "metadata": {},
   "outputs": [],
   "source": [
    "miestai = {'Kaunas', 'Vilnius', 'Kaunas', 'Klaipėda', 'Pavevėžys', 'Šiauliai', 'Vilnius'}\n",
    "print(miestai, '\\n')\n",
    "\n",
    "miestai.add('Ukmergė')\n",
    "miestai.add('Kaunas')\n",
    "print(miestai)"
   ]
  },
  {
   "cell_type": "code",
   "execution_count": null,
   "metadata": {},
   "outputs": [],
   "source": [
    "skaiciai = {1, 2, 3, 4, 5, 6}\n",
    "\n",
    "skaiciai.remove(3)\n",
    "print(skaiciai)\n",
    "\n",
    "skaiciai.remove(7) # klaida\n",
    "\n",
    "# jeigu reikia išvengti trynimo klaidų - naudokite .discard()"
   ]
  },
  {
   "cell_type": "code",
   "execution_count": null,
   "metadata": {},
   "outputs": [],
   "source": [
    "miestai = {'Kaunas', 'Vilnius', 'Kaunas', 'Klaipėda', 'Pavevėžys', 'Šiauliai', 'Vilnius'}\n",
    "\n",
    "miestai.remove('Pavevėžys')\n",
    "# miestai.remove('Biržai') # klaida\n",
    "\n",
    "print(miestai)\n",
    "\n",
    "miestai.discard('Biržai')\n",
    "miestai.discard('Vilnius')\n",
    "\n",
    "print(miestai)"
   ]
  },
  {
   "cell_type": "code",
   "execution_count": null,
   "metadata": {},
   "outputs": [],
   "source": [
    "pirmas = set([1, 2, 3])\n",
    "antras = pirmas.copy()\n",
    "\n",
    "print('pirmas', pirmas)\n",
    "print('antras', antras)\n",
    "print()\n",
    "\n",
    "print(pirmas == antras) # ar sutampa reikšmės\n",
    "print(pirmas is antras) # ar žiūri į tą pačią vietą atmintyje"
   ]
  },
  {
   "cell_type": "code",
   "execution_count": null,
   "metadata": {},
   "outputs": [],
   "source": [
    "rinkinys = set([1, 2, 3])\n",
    "rinkinys.clear() # išvalymas\n",
    "print(rinkinys)"
   ]
  },
  {
   "cell_type": "code",
   "execution_count": null,
   "metadata": {},
   "outputs": [],
   "source": [
    "matematikos_studentai = {'Ona', 'Petras', 'Giedrius', 'Gintarė'}\n",
    "biologijos_studentai = {'Petras', 'Jonas', 'Ona', 'Povilas', 'Greta'}\n",
    "\n",
    "visi_unikalus_studentai = matematikos_studentai | biologijos_studentai\n",
    "\n",
    "print(visi_unikalus_studentai)"
   ]
  },
  {
   "cell_type": "code",
   "execution_count": null,
   "metadata": {},
   "outputs": [],
   "source": [
    "matematikos_studentai = {'Ona', 'Petras', 'Giedrius', 'Gintarė'}\n",
    "biologijos_studentai = {'Petras', 'Jonas', 'Ona', 'Povilas', 'Greta'}\n",
    "\n",
    "studentai_tik_abiejuose = matematikos_studentai & biologijos_studentai\n",
    "\n",
    "print(studentai_tik_abiejuose)"
   ]
  },
  {
   "cell_type": "code",
   "execution_count": null,
   "metadata": {},
   "outputs": [],
   "source": [
    "raides = { raide.upper() for raide in 'labas rytas' }\n",
    "print(raides)"
   ]
  },
  {
   "cell_type": "code",
   "execution_count": null,
   "metadata": {},
   "outputs": [],
   "source": [
    "skaiciai = { x ** 2 for x in range(10) }\n",
    "print(skaiciai)"
   ]
  },
  {
   "attachments": {},
   "cell_type": "markdown",
   "metadata": {},
   "source": [
    "## Užduotys"
   ]
  },
  {
   "attachments": {},
   "cell_type": "markdown",
   "metadata": {},
   "source": [
    "### Užduotis 1\n",
    "\n",
    "Įsivaizduokite, kad sukūrėte balsavimo formą, kurioje žmogus galėjo rinktis 1 iš kelių galimų variantų (ar įrašyti savo) ir turite sąraše visus tuos balsavimo duomenis (pvz: balsavimui panaudotas klausimas `\"labiausiai patinkanti kalba:\"`, o atsakymai `['c++', 'python', 'python', 'javascript', 'python', 'c#', 'javascript']`). Atrinkite visus skirtingus atsakymų variantus į atskirą sąrašą (būtų `['c++', 'python', 'javascript', 'c#']`)."
   ]
  },
  {
   "cell_type": "code",
   "execution_count": null,
   "metadata": {},
   "outputs": [],
   "source": [
    "# Kodą rašykite čia..."
   ]
  },
  {
   "attachments": {},
   "cell_type": "markdown",
   "metadata": {},
   "source": [
    "### Užduotis 2\n",
    "\n",
    "Savo nuožiūra atlikite dar bent vieną analogišką užduotį."
   ]
  },
  {
   "cell_type": "code",
   "execution_count": null,
   "metadata": {},
   "outputs": [],
   "source": [
    "# Kodą rašykite čia..."
   ]
  }
 ],
 "metadata": {
  "kernelspec": {
   "display_name": "Python 3",
   "language": "python",
   "name": "python3"
  },
  "language_info": {
   "codemirror_mode": {
    "name": "ipython",
    "version": 3
   },
   "file_extension": ".py",
   "mimetype": "text/x-python",
   "name": "python",
   "nbconvert_exporter": "python",
   "pygments_lexer": "ipython3",
   "version": "3.7.9 (tags/v3.7.9:13c94747c7, Aug 17 2020, 18:58:18) [MSC v.1900 64 bit (AMD64)]"
  },
  "orig_nbformat": 4,
  "vscode": {
   "interpreter": {
    "hash": "aa11ca274996316222ef16f35c5f6dbeb467b694c0b2154cdf34dcf9271d5fd0"
   }
  }
 },
 "nbformat": 4,
 "nbformat_minor": 2
}
