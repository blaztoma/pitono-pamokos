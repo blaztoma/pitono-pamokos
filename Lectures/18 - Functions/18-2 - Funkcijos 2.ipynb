{
 "cells": [
  {
   "attachments": {},
   "cell_type": "markdown",
   "metadata": {},
   "source": [
    "[![Open In Colab](https://colab.research.google.com/assets/colab-badge.svg)](https://colab.research.google.com/github/blaztoma/pitono-pamokos/blob/main/pamokos/18%20-%20Funkcijos/18-2%20-%20Funkcijos%202.ipynb)"
   ]
  },
  {
   "attachments": {},
   "cell_type": "markdown",
   "metadata": {},
   "source": [
    "# Funkcijos (2 dalis)"
   ]
  },
  {
   "attachments": {},
   "cell_type": "markdown",
   "metadata": {},
   "source": [
    "## Dabar pridėsime parametrus ir argumentus\n",
    "\n",
    "Funkcijos aprašymas:\n",
    "\n",
    "```\n",
    "def funkcijos_pavadinimas(parametras1, parametras2, ...):\n",
    "    # funkcijos kodas\n",
    "```\n",
    "\n",
    "Funkcijos iškvietimas:\n",
    "\n",
    "```\n",
    "funkcijos_pavadinimas(argumentas1, argumentas2, ...)\n",
    "```"
   ]
  },
  {
   "attachments": {},
   "cell_type": "markdown",
   "metadata": {},
   "source": [
    "## Pavyzdžiai"
   ]
  },
  {
   "cell_type": "code",
   "execution_count": 1,
   "metadata": {},
   "outputs": [
    {
     "name": "stdout",
     "output_type": "stream",
     "text": [
      "labas, Tomas\n",
      "labas, Gintare\n"
     ]
    }
   ],
   "source": [
    "def pasisveikinti(vardas):\n",
    "    print('labas,', vardas)\n",
    "\n",
    "pasisveikinti('Tomas')\n",
    "pasisveikinti('Gintare')"
   ]
  },
  {
   "cell_type": "code",
   "execution_count": 2,
   "metadata": {},
   "outputs": [
    {
     "name": "stdout",
     "output_type": "stream",
     "text": [
      "labas, Tomas Tomauskas\n",
      "labas, Tomas Abromas\n",
      "labas, Gintare Tomauskas\n",
      "labas, Jonas Jonauskas\n"
     ]
    }
   ],
   "source": [
    "def pasisveikinti(vard, pavard):\n",
    "    print('labas,', vard, pavard)\n",
    "\n",
    "vardas = 'Tomas'\n",
    "pavarde = 'Tomauskas'\n",
    "\n",
    "pasisveikinti(vardas, pavarde)\n",
    "pasisveikinti(vardas, 'Abromas')\n",
    "pasisveikinti('Gintare', pavarde)\n",
    "pasisveikinti('Jonas', 'Jonauskas')"
   ]
  },
  {
   "cell_type": "code",
   "execution_count": 3,
   "metadata": {},
   "outputs": [
    {
     "name": "stdout",
     "output_type": "stream",
     "text": [
      "6 + 5 = 11\n",
      "4 + 9 = 13\n",
      "8 + 5 = 13\n"
     ]
    }
   ],
   "source": [
    "from random import randint\n",
    "\n",
    "def skaiciuoti_suma(a, b):\n",
    "    suma = a + b\n",
    "    print(f'{a} + {b} = {suma}')\n",
    "\n",
    "skaiciuoti_suma(6, 5)\n",
    "skaiciuoti_suma(4, 9)\n",
    "\n",
    "atsitiktinis1 = randint(1, 10)\n",
    "atsitiktinis2 = randint(1, 10)\n",
    "\n",
    "skaiciuoti_suma(atsitiktinis1, atsitiktinis2)"
   ]
  },
  {
   "cell_type": "code",
   "execution_count": 4,
   "metadata": {},
   "outputs": [
    {
     "name": "stdout",
     "output_type": "stream",
     "text": [
      "2 + 4 = 6\n",
      "2 - 4 = -2\n"
     ]
    }
   ],
   "source": [
    "from random import randint\n",
    "\n",
    "def suma(a, b):\n",
    "    print(f'{a} + {b} = {a + b}')\n",
    "\n",
    "def skirtumas(a, b):\n",
    "    print(f'{a} - {b} = {a - b}')\n",
    "\n",
    "sk1 = randint(1, 10)\n",
    "sk2 = randint(1, 10)\n",
    "\n",
    "suma(sk1, sk2)\n",
    "skirtumas(sk1, sk2)"
   ]
  },
  {
   "cell_type": "code",
   "execution_count": 5,
   "metadata": {},
   "outputs": [
    {
     "name": "stdout",
     "output_type": "stream",
     "text": [
      "vardas: Tomas\n",
      "amzius: 56\n",
      "profesija: Policininkas\n",
      "\n",
      "vardas: Indre\n",
      "amzius: 35\n",
      "profesija: Administratore\n",
      "\n"
     ]
    }
   ],
   "source": [
    "def isvedimas(vardas, amzius, profesija):\n",
    "    print('vardas:', vardas)\n",
    "    print('amzius:', amzius)\n",
    "    print('profesija:', profesija)\n",
    "    print()\n",
    "\n",
    "isvedimas('Tomas', 56, 'Policininkas')\n",
    "isvedimas('Indre', 35, 'Administratore')"
   ]
  },
  {
   "attachments": {},
   "cell_type": "markdown",
   "metadata": {},
   "source": [
    "## Užduotys"
   ]
  },
  {
   "attachments": {},
   "cell_type": "markdown",
   "metadata": {},
   "source": [
    "### Užduotis 1\n",
    "\n",
    "Sukurkite funkciją pasisveikinimui, šiai funkcijai per argumentus perduokite vardą, funkcijoje išveskite tekstą labas ir gautą vardą. Sukurkite kitą funkciją, kuri irgi per argumentus gautų vardą, tačiau pasakytų 'viso gero' ir patį vardą. Ne funkcijose susikurkite kintamąjį vardui saugoti ir įrašykite vardą. Iškvieskite abi funkcijas, perduodant kintamąjį joms."
   ]
  },
  {
   "cell_type": "code",
   "execution_count": null,
   "metadata": {},
   "outputs": [],
   "source": [
    "# Kodą rašykite čia..."
   ]
  },
  {
   "attachments": {},
   "cell_type": "markdown",
   "metadata": {},
   "source": [
    "### Užduotis 2\n",
    "\n",
    "Sukurkite funkciją, kuriai perduotumėte du skaičius. Ši funkcija turi rasti kuris skaičius yra didesnis ir išvesti gautą atsakymą, o jei skaičiai lygūs - tuomet išvesti, kad skaičiai lygūs. Iškvieskite šią funkciją keletą kartų, duodant skirtingus skaičius."
   ]
  },
  {
   "cell_type": "code",
   "execution_count": null,
   "metadata": {},
   "outputs": [],
   "source": [
    "# Kodą rašykite čia..."
   ]
  },
  {
   "attachments": {},
   "cell_type": "markdown",
   "metadata": {},
   "source": [
    "### Užduotis 3\n",
    "\n",
    "Sukurkite funkciją, kuri per argumentus gautų automobilių duomenis (markė, modelis, gamybos metai, darbinis tūris). Ši funkcija turėtų šiuos duomenis išvesti kaip nors gražiai formatuotai. Iškvieskite šią funkciją du kartus, perduodant skirtingus duomenis jai."
   ]
  },
  {
   "cell_type": "code",
   "execution_count": null,
   "metadata": {},
   "outputs": [],
   "source": [
    "# Kodą rašykite čia..."
   ]
  },
  {
   "attachments": {},
   "cell_type": "markdown",
   "metadata": {},
   "source": [
    "### Užduotis 4\n",
    "\n",
    "Sukurkite funkciją sumai skaičiuoti, ši funkcija per argumentus turėtų gauti du skaičius, bei išvesti patį veiksmą kartu su atsakymu (pvz 7 + 5 = 12). Sukurkite tokias pačias funkcijas skirtumui, sandaugai ir dalmeniui rasti. Sukurkite dar vieną funkciją, kuri sugeneruotų du atsitiktinius skaičius, bei iškviestų kitas 4 funkcijas, perduodant joms sugeneruotus skaičius. Šią bendrąją funkciją iškvieskite keletą kartų."
   ]
  },
  {
   "cell_type": "code",
   "execution_count": null,
   "metadata": {},
   "outputs": [],
   "source": [
    "# Kodą rašykite čia..."
   ]
  }
 ],
 "metadata": {
  "kernelspec": {
   "display_name": "Python 3",
   "language": "python",
   "name": "python3"
  },
  "language_info": {
   "codemirror_mode": {
    "name": "ipython",
    "version": 3
   },
   "file_extension": ".py",
   "mimetype": "text/x-python",
   "name": "python",
   "nbconvert_exporter": "python",
   "pygments_lexer": "ipython3",
   "version": "3.7.9 (tags/v3.7.9:13c94747c7, Aug 17 2020, 18:58:18) [MSC v.1900 64 bit (AMD64)]"
  },
  "orig_nbformat": 4,
  "vscode": {
   "interpreter": {
    "hash": "aa11ca274996316222ef16f35c5f6dbeb467b694c0b2154cdf34dcf9271d5fd0"
   }
  }
 },
 "nbformat": 4,
 "nbformat_minor": 2
}
