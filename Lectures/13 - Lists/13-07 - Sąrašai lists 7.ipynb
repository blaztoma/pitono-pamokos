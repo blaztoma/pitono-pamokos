{
 "cells": [
  {
   "attachments": {},
   "cell_type": "markdown",
   "metadata": {},
   "source": [
    "[![Open In Colab](https://colab.research.google.com/assets/colab-badge.svg)](https://colab.research.google.com/github/blaztoma/pitono-pamokos/blob/main/pamokos/13%20-%20Sarasai/13-07%20-%20S%C4%85ra%C5%A1ai%20lists%207.ipynb)"
   ]
  },
  {
   "attachments": {},
   "cell_type": "markdown",
   "metadata": {},
   "source": [
    "# Sąrašai (`lists`) (7 dalis)"
   ]
  },
  {
   "attachments": {},
   "cell_type": "markdown",
   "metadata": {},
   "source": [
    "## Pavyzdžiai"
   ]
  },
  {
   "attachments": {},
   "cell_type": "markdown",
   "metadata": {},
   "source": [
    "Rankiniu būdu išvedama visa informacija:"
   ]
  },
  {
   "cell_type": "code",
   "execution_count": 1,
   "metadata": {},
   "outputs": [
    {
     "name": "stdout",
     "output_type": "stream",
     "text": [
      "audi\n",
      "bmw\n",
      "volvo\n",
      "mercedes\n"
     ]
    }
   ],
   "source": [
    "automobiliai = ['audi', 'bmw', 'volvo', 'mercedes']\n",
    "\n",
    "print(automobiliai[0])\n",
    "print(automobiliai[1])\n",
    "print(automobiliai[2])\n",
    "print(automobiliai[3])"
   ]
  },
  {
   "attachments": {},
   "cell_type": "markdown",
   "metadata": {},
   "source": [
    "Su ciklo pagalba išvedama visa informacija:"
   ]
  },
  {
   "cell_type": "code",
   "execution_count": 2,
   "metadata": {},
   "outputs": [
    {
     "name": "stdout",
     "output_type": "stream",
     "text": [
      "audi\n",
      "bmw\n",
      "volvo\n",
      "mercedes\n"
     ]
    }
   ],
   "source": [
    "automobiliai = ['audi', 'bmw', 'volvo', 'mercedes']\n",
    "\n",
    "for auto in automobiliai:\n",
    "    print(auto)"
   ]
  },
  {
   "cell_type": "code",
   "execution_count": 3,
   "metadata": {},
   "outputs": [
    {
     "name": "stdout",
     "output_type": "stream",
     "text": [
      "Kaunas\n",
      "Vilnius\n",
      "Klaipėda\n",
      "Šiauliai\n"
     ]
    }
   ],
   "source": [
    "miestai = ['Kaunas', 'Vilnius', 'Klaipėda', 'Šiauliai']\n",
    "\n",
    "for miestas in miestai:\n",
    "    print(miestas)"
   ]
  },
  {
   "attachments": {},
   "cell_type": "markdown",
   "metadata": {},
   "source": [
    "Jeigu reikia indeksų:"
   ]
  },
  {
   "cell_type": "code",
   "execution_count": 4,
   "metadata": {},
   "outputs": [
    {
     "name": "stdout",
     "output_type": "stream",
     "text": [
      "0 Kaunas\n",
      "1 Vilnius\n",
      "2 Klaipėda\n",
      "3 Šiauliai\n"
     ]
    }
   ],
   "source": [
    "miestai = ['Kaunas', 'Vilnius', 'Klaipėda', 'Šiauliai']\n",
    "\n",
    "for indeksas, miestas in enumerate(miestai, start=0): # default yra 0\n",
    "    print(indeksas, miestas)"
   ]
  },
  {
   "cell_type": "code",
   "execution_count": 5,
   "metadata": {},
   "outputs": [
    {
     "name": "stdout",
     "output_type": "stream",
     "text": [
      "1 Kaunas\n",
      "2 Vilnius\n",
      "3 Klaipėda\n",
      "4 Šiauliai\n"
     ]
    }
   ],
   "source": [
    "miestai = ['Kaunas', 'Vilnius', 'Klaipėda', 'Šiauliai']\n",
    "\n",
    "for indeksas, miestas in enumerate(miestai, start=1): # default yra 0\n",
    "    print(indeksas, miestas)"
   ]
  },
  {
   "cell_type": "code",
   "execution_count": 6,
   "metadata": {},
   "outputs": [
    {
     "name": "stdout",
     "output_type": "stream",
     "text": [
      "0 Kaunas\n",
      "1 Vilnius\n",
      "2 Klaipėda\n",
      "3 Šiauliai\n"
     ]
    }
   ],
   "source": [
    "miestai = ['Kaunas', 'Vilnius', 'Klaipėda', 'Šiauliai']\n",
    "\n",
    "for indeksas in range(len(miestai)):\n",
    "    print(indeksas, miestai[indeksas])"
   ]
  },
  {
   "cell_type": "code",
   "execution_count": 7,
   "metadata": {},
   "outputs": [
    {
     "name": "stdout",
     "output_type": "stream",
     "text": [
      "1 Kaunas\n",
      "2 Vilnius\n",
      "3 Klaipėda\n",
      "4 Šiauliai\n"
     ]
    }
   ],
   "source": [
    "miestai = ['Kaunas', 'Vilnius', 'Klaipėda', 'Šiauliai']\n",
    "\n",
    "for indeksas in range(len(miestai)):\n",
    "    print(indeksas + 1, miestai[indeksas])"
   ]
  },
  {
   "cell_type": "code",
   "execution_count": 8,
   "metadata": {},
   "outputs": [
    {
     "name": "stdout",
     "output_type": "stream",
     "text": [
      "1-as miestas yra Kaunas\n",
      "2-as miestas yra Vilnius\n",
      "3-as miestas yra Klaipėda\n",
      "4-as miestas yra Šiauliai\n"
     ]
    }
   ],
   "source": [
    "miestai = ['Kaunas', 'Vilnius', 'Klaipėda', 'Šiauliai']\n",
    "\n",
    "for indeksas in range(len(miestai)):\n",
    "    print(f'{indeksas + 1}-as miestas yra {miestai[indeksas]}')"
   ]
  },
  {
   "cell_type": "code",
   "execution_count": 9,
   "metadata": {},
   "outputs": [
    {
     "name": "stdout",
     "output_type": "stream",
     "text": [
      "1-asis miestas: Kaunas\n",
      "2-asis miestas: Vilnius\n",
      "3-asis miestas: Klaipėda\n",
      "4-asis miestas: Šiauliai\n"
     ]
    }
   ],
   "source": [
    "miestai = ['Kaunas', 'Vilnius', 'Klaipėda', 'Šiauliai']\n",
    "\n",
    "indeksas = 0\n",
    "\n",
    "while indeksas < len(miestai):\n",
    "    print(f'{indeksas + 1}-asis miestas: {miestai[indeksas]}')\n",
    "    indeksas += 1"
   ]
  },
  {
   "cell_type": "code",
   "execution_count": 10,
   "metadata": {},
   "outputs": [
    {
     "name": "stdout",
     "output_type": "stream",
     "text": [
      "0: Petras\n",
      "1: Jonas\n",
      "2: Ona\n",
      "3: Birutė\n"
     ]
    }
   ],
   "source": [
    "zmones = ['Petras', 'Jonas', 'Ona', 'Birutė']\n",
    "\n",
    "i = 0\n",
    "\n",
    "while i < len(zmones):\n",
    "    print(f'{i}: {zmones[i]}')\n",
    "    i += 1"
   ]
  },
  {
   "attachments": {},
   "cell_type": "markdown",
   "metadata": {},
   "source": [
    "## Užduotys"
   ]
  },
  {
   "attachments": {},
   "cell_type": "markdown",
   "metadata": {},
   "source": [
    "### Užduotis 1\n",
    "\n",
    "Susikurkite sąrašą projekto komandos narių vardams ir pavardėms saugoti. Išveskite tekstą \"prie projekto dirba šie komandos nariai:\" ir iškart po to kiekvieną komandos narį atskiroje eilutėje."
   ]
  },
  {
   "cell_type": "code",
   "execution_count": null,
   "metadata": {},
   "outputs": [],
   "source": [
    "# Kodą rašykite čia..."
   ]
  },
  {
   "attachments": {},
   "cell_type": "markdown",
   "metadata": {},
   "source": [
    "### Užduotis 2\n",
    "\n",
    "Susikurkite sąrašą, kuriame būtų saugomos jau praeitos Python temos. Išveskite tekstą \"mes jau mokėmės:\". Ir iškart po to atskirose eilutėse visas temas, tačiau jas sunumeruokite \"1-a tema:\", \"2-a tema:\" ir t.t. Tai pamėginkite atlikti tiek su `for` ciklu, tiek su `while` ciklu."
   ]
  },
  {
   "cell_type": "code",
   "execution_count": null,
   "metadata": {},
   "outputs": [],
   "source": [
    "# Kodą rašykite čia..."
   ]
  },
  {
   "attachments": {},
   "cell_type": "markdown",
   "metadata": {},
   "source": [
    "### Užduotis 3\n",
    "\n",
    "Susikurkite sąrašą studijų programų pavadinimams saugoti. Užpildykite šį sąrašą duomenimis. Išveskite kiekvieną studijų programą atskiroje eilutėje."
   ]
  },
  {
   "cell_type": "code",
   "execution_count": null,
   "metadata": {},
   "outputs": [],
   "source": [
    "# Kodą rašykite čia..."
   ]
  },
  {
   "attachments": {},
   "cell_type": "markdown",
   "metadata": {},
   "source": [
    "### Užduotis 4\n",
    "\n",
    "Susikurkite sąrašą šalių pavadinimams saugoti ir jį užpildykite duomenimis. Išveskite šalių pavadinimus atskirose eilutėse, su prierašu \"šalis\" ir tada nurodant šalį iš sąrašo."
   ]
  },
  {
   "cell_type": "code",
   "execution_count": null,
   "metadata": {},
   "outputs": [],
   "source": [
    "# Kodą rašykite čia..."
   ]
  },
  {
   "attachments": {},
   "cell_type": "markdown",
   "metadata": {},
   "source": [
    "### Užduotis 5\n",
    "\n",
    "Susikurkite sąrašą prekių krepšeliui saugoti. Išveskite kiek prekių krepšelyje yra narių. Tuomet išveskite visą prekių krepšelio informaciją, nurodant kelinta prekė, pvz \"nr 1 pirkinys:\", \"nr 2 pirkinys:\" ir t.t."
   ]
  },
  {
   "cell_type": "code",
   "execution_count": null,
   "metadata": {},
   "outputs": [],
   "source": [
    "# Kodą rašykite čia..."
   ]
  },
  {
   "attachments": {},
   "cell_type": "markdown",
   "metadata": {},
   "source": [
    "### Užduotis 6\n",
    "\n",
    "Susikurkite pažymių sąrašą ir užpildykite jį informacija. Surikiuokite pažymius nuo didžiausio iki mažiausio. Išveskite visus turimus pažymius atskirose eilutėse. Prie kiekvieno pažymio taip pat prirašykite \"puikiai\", jeigu jis yra 10, \"labai gerai\", jeigu jis yra 9 ir t.t."
   ]
  },
  {
   "cell_type": "code",
   "execution_count": null,
   "metadata": {},
   "outputs": [],
   "source": [
    "# Kodą rašykite čia..."
   ]
  }
 ],
 "metadata": {
  "kernelspec": {
   "display_name": "Python 3",
   "language": "python",
   "name": "python3"
  },
  "language_info": {
   "codemirror_mode": {
    "name": "ipython",
    "version": 3
   },
   "file_extension": ".py",
   "mimetype": "text/x-python",
   "name": "python",
   "nbconvert_exporter": "python",
   "pygments_lexer": "ipython3",
   "version": "3.7.9 (tags/v3.7.9:13c94747c7, Aug 17 2020, 18:58:18) [MSC v.1900 64 bit (AMD64)]"
  },
  "orig_nbformat": 4,
  "vscode": {
   "interpreter": {
    "hash": "aa11ca274996316222ef16f35c5f6dbeb467b694c0b2154cdf34dcf9271d5fd0"
   }
  }
 },
 "nbformat": 4,
 "nbformat_minor": 2
}
