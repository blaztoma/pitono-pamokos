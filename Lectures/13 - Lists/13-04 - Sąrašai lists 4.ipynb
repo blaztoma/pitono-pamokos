{
 "cells": [
  {
   "attachments": {},
   "cell_type": "markdown",
   "metadata": {},
   "source": [
    "[![Open In Colab](https://colab.research.google.com/assets/colab-badge.svg)](https://colab.research.google.com/github/blaztoma/pitono-pamokos/blob/main/pamokos/13%20-%20Sarasai/13-04%20-%20S%C4%85ra%C5%A1ai%20lists%204.ipynb)"
   ]
  },
  {
   "attachments": {},
   "cell_type": "markdown",
   "metadata": {},
   "source": [
    "# Sąrašai (`lists`) (4 dalis)"
   ]
  },
  {
   "attachments": {},
   "cell_type": "markdown",
   "metadata": {},
   "source": [
    "## Sąrašo karpymas (list slicing)\n",
    "\n",
    "Jeigu norime iškarpyti tam tikras sąrašo dalis, tam mes galime naudoti metodiką, pavadintą `list slicing`.\n",
    "\n",
    "Pats karpymas vyksta nurodant parametus tarp `[ ]` skliaustelių.\n",
    "\n",
    "Po karpymo yra grąžinamas naujas sąrašas.\n",
    "\n",
    "## Sintaksė\n",
    "\n",
    "Karpant sąrašą mes galima nurodyti norimus rėžius tokiu būdu:\n",
    "\n",
    "```\n",
    "sąrašo_pavadinimas[pradžia:pabaiga]\n",
    "sąrašo_pavadinimas[pradžia:pabaiga:žingsnis]\n",
    "```\n",
    "\n",
    "Paaiškinimai:\n",
    "\n",
    "- `sąrašo_pavadinimas` - apdorojamas sąrašas.\n",
    "- `pradžia` - indeksas, ties kuriuo pradedamas iškirpimas (įeina).\n",
    "- `pabaiga` - indeksas, ties kuriuo baigiamas iškirpimas (neįeina).\n",
    "- `žingsnis` - kiek elementų praleisti po kiekvieno įtraukto elemento.\n",
    "\n",
    "Karpant nebūtina nurodyti visų reikšmių.\n",
    "\n",
    "Viskas imama pradžios iki nurodytos `pabaigos`:\n",
    "\n",
    "```\n",
    "sąrašo_pavadinimas[:pabaiga]\n",
    "```\n",
    "\n",
    "Viskas įtraukiama nuo nurodytos `pradžios` iki sąrašo galo:\n",
    "\n",
    "```\n",
    "sąrašo_pavadinimas[pradžia:]\n",
    "```\n",
    "\n",
    "Viskas įtraukiama nuo pradžios iki galo:\n",
    "\n",
    "```\n",
    "sąrašo_pavadinimas[:]\n",
    "```\n",
    "\n",
    "Viskas įtraukiama nuo pradžios iki nurodytos `pabaigos`, darant nurodytą `žingsnį`:\n",
    "\n",
    "```\n",
    "sąrašo_pavadinimas[:pabaiga:žingsnis]\n",
    "```\n",
    "\n",
    "Viskas įtraukiama nuo nurodytos `pradžios` iki galo, darant nurodytą `žingsnį`:\n",
    "\n",
    "```\n",
    "sąrašo_pavadinimas[pradžia::žingsnis]\n",
    "```\n",
    "\n",
    "Ir t.t."
   ]
  },
  {
   "attachments": {},
   "cell_type": "markdown",
   "metadata": {},
   "source": [
    "## Pavyzdžiai"
   ]
  },
  {
   "attachments": {},
   "cell_type": "markdown",
   "metadata": {},
   "source": [
    "Keli pavyzdžiai, naudojantys aukščiau aprašytą sintaksę, kai nurodoma pradžia ir pabaiga."
   ]
  },
  {
   "cell_type": "code",
   "execution_count": null,
   "metadata": {},
   "outputs": [],
   "source": [
    "zodziai = ['medis', 'kriaušė', 'popierius', 'medis', 'gintaras']\n",
    "\n",
    "print('Visi:', zodziai)\n",
    "\n",
    "print('Kai [0]:', zodziai[0])     # [indeksas]\n",
    "print('Kai [0:2]:', zodziai[0:2]) # [pradzia:pabaiga]\n",
    "print('Kai [1:4]:', zodziai[1:4]) # [pradzia:pabaiga]"
   ]
  },
  {
   "attachments": {},
   "cell_type": "markdown",
   "metadata": {},
   "source": [
    "Keli pavyzdžiai, naudojantys aukščiau aprašytą sintaksę, kai nenurodoa pradžia arba pabaiga."
   ]
  },
  {
   "cell_type": "code",
   "execution_count": null,
   "metadata": {},
   "outputs": [],
   "source": [
    "zodziai = ['medis', 'kriaušė', 'popierius', 'medis', 'gintaras']\n",
    "\n",
    "print('Visi:', zodziai)\n",
    "\n",
    "print('Kai [2:]:', zodziai[2:]) # [pradzia:pabaiga]\n",
    "print('Kai [:3]:', zodziai[:3]) # [pradzia:pabaiga]"
   ]
  },
  {
   "attachments": {},
   "cell_type": "markdown",
   "metadata": {},
   "source": [
    "Keli pavyzdžiai, naudojantys `pradžia:pabaiga:žingsnis`."
   ]
  },
  {
   "cell_type": "code",
   "execution_count": null,
   "metadata": {},
   "outputs": [],
   "source": [
    "zodziai = ['medis', 'kriaušė', 'popierius', 'medis', 'gintaras']\n",
    "\n",
    "print('Visi:', zodziai)\n",
    "\n",
    "print('Kai [0::1]:', zodziai[0::1]) # [pradzia:pabaiga:zingsnis]\n",
    "print('Kai [::1]:', zodziai[::1]) # [pradzia:pabaiga:zingsnis]\n",
    "print('Kai [0::2]:', zodziai[0::2]) # [pradzia:pabaiga:zingsnis]\n",
    "print('Kai [::2]:', zodziai[::2]) # [pradzia:pabaiga:zingsnis]"
   ]
  },
  {
   "cell_type": "code",
   "execution_count": null,
   "metadata": {},
   "outputs": [],
   "source": [
    "skaiciai = [7, 8, 6, 5, 8, 7, 6, 5, 2, 3]\n",
    "\n",
    "print('Visi:', skaiciai)\n",
    "\n",
    "print('Kai [2:8:2]:', skaiciai[2:8:2]) # [pradzia:pabaiga:zingsnis]\n",
    "print('Kai [4::3]:', skaiciai[4::3]) # [pradzia:pabaiga:zingsnis]"
   ]
  },
  {
   "cell_type": "code",
   "execution_count": null,
   "metadata": {},
   "outputs": [],
   "source": [
    "masinos = ['audi', 'bmw', 'volvo', 'mercedes', 'opel']\n",
    "\n",
    "atrinktos = masinos[2:] # [pradzia:pabaiga]\n",
    "\n",
    "print(masinos)\n",
    "print(atrinktos)"
   ]
  },
  {
   "attachments": {},
   "cell_type": "markdown",
   "metadata": {},
   "source": [
    "Įdomus triukas! Nurodydami žingsnį `-1` gausime atvirkštinį sąrašą."
   ]
  },
  {
   "cell_type": "code",
   "execution_count": null,
   "metadata": {},
   "outputs": [],
   "source": [
    "zodziai = ['popierius', 'kompiuteris', 'knyga', 'popierius', 'medis']\n",
    "\n",
    "# apverčia\n",
    "zodziai.reverse()\n",
    "\n",
    "print(zodziai)\n",
    "\n",
    "# taip pat apverčia, bei sukuria naują sąrašą\n",
    "print(zodziai[::-1]) # [pradzia:pabaiga:zingsnis]"
   ]
  },
  {
   "attachments": {},
   "cell_type": "markdown",
   "metadata": {},
   "source": [
    "Pavyzdys, kai padarome sąrašo kopiją. Šiuo atveju, kai pakeisime reikšmę kopijoje, tai originalus sąrašas nepasikeis."
   ]
  },
  {
   "cell_type": "code",
   "execution_count": null,
   "metadata": {},
   "outputs": [],
   "source": [
    "masinos = ['audi', 'bmw', 'volvo', 'mercedes', 'opel']\n",
    "masinos[4] = 'bentley'\n",
    "\n",
    "print('MAŠINOS:', masinos)\n",
    "\n",
    "kopija = masinos[:] # [pradzia:pabaiga]\n",
    "print('KOPIJA:', kopija)\n",
    "\n",
    "masinos[1] = 'NAUJAS'\n",
    "print('MAŠINOS:', masinos)\n",
    "print('KOPIJA:', kopija)"
   ]
  },
  {
   "attachments": {},
   "cell_type": "markdown",
   "metadata": {},
   "source": [
    "Pavyzdys, kai sąrašą priskiriame kitam kintamajam. Šiuo atveju, kai pakeisime reikšmę naujame kitamajame, tai sąrašas originaliu kintamuoju irgi pasikeis. Abu kintamieji naudoja tą patį sąrašą."
   ]
  },
  {
   "cell_type": "code",
   "execution_count": null,
   "metadata": {},
   "outputs": [],
   "source": [
    "masinos = ['audi', 'bmw', 'volvo', 'mercedes', 'opel']\n",
    "masinos[4] = 'bentley'\n",
    "\n",
    "print('MAŠINOS:', masinos)\n",
    "\n",
    "kopija = masinos\n",
    "print('KOPIJA:', kopija)\n",
    "\n",
    "masinos[1] = 'NAUJAS'\n",
    "print('MAŠINOS:', masinos)\n",
    "print('KOPIJA:', kopija)"
   ]
  },
  {
   "attachments": {},
   "cell_type": "markdown",
   "metadata": {},
   "source": [
    "Taip galime pasitikrinta ar sąrašų reikšmės sutampa ir kintamieji naudoja tą patį sąrašą atmintyje."
   ]
  },
  {
   "cell_type": "code",
   "execution_count": null,
   "metadata": {},
   "outputs": [],
   "source": [
    "masinos = ['audi', 'bmw', 'volvo', 'mercedes', 'opel']\n",
    "kopija = masinos[:] # [pradzia:pabaiga]\n",
    "\n",
    "print('Ar sąrašų reikšmės sutampa:', masinos == kopija)\n",
    "print('Ar sąrašai naudoja tą pačią atmintį:', masinos is kopija)"
   ]
  },
  {
   "attachments": {},
   "cell_type": "markdown",
   "metadata": {},
   "source": [
    "Pavyzdys, kai kintamieji naudoja tą patį sąrašą atmintyje."
   ]
  },
  {
   "cell_type": "code",
   "execution_count": null,
   "metadata": {},
   "outputs": [],
   "source": [
    "masinos = ['audi', 'bmw', 'volvo', 'mercedes', 'opel']\n",
    "kopija = masinos\n",
    "\n",
    "print('Ar sąrašų reikšmės sutampa:', masinos == kopija)\n",
    "print('Ar sąrašai atmintyje yra tas pats:', masinos is kopija)"
   ]
  },
  {
   "attachments": {},
   "cell_type": "markdown",
   "metadata": {},
   "source": [
    "## Užduotys"
   ]
  },
  {
   "attachments": {},
   "cell_type": "markdown",
   "metadata": {},
   "source": [
    "### Užduotis 1\n",
    "\n",
    "Sukurkite pasirinktą sąrašą su duomenimis. Apkarpykite sąrašą tokiais būdais ir gautus atsakymus atspausdinkite:\n",
    "\n",
    "- įtraukite pirmus tris narius;\n",
    "- įtraukite du narius, pradedant trečiu;\n",
    "- įtraukite paskutinius keturis narius;\n",
    "- įtraukite kas antrą narį, pradedant trečiu nariu;\n",
    "- įtraukite visus narius atbuline tvarka."
   ]
  },
  {
   "cell_type": "code",
   "execution_count": null,
   "metadata": {},
   "outputs": [],
   "source": [
    "# Kodą rašykite čia..."
   ]
  },
  {
   "attachments": {},
   "cell_type": "markdown",
   "metadata": {},
   "source": [
    "### Užduotis 2\n",
    "\n",
    "Sukurkite sąrašą studentų vidurkiams saugoti. Sudėkite į atskirą sąrašą tris didžiausius pažymius (galite surikiuoti ir iškirpti taip kaip reikia)."
   ]
  },
  {
   "cell_type": "code",
   "execution_count": null,
   "metadata": {},
   "outputs": [],
   "source": [
    "# Kodą rašykite čia..."
   ]
  },
  {
   "attachments": {},
   "cell_type": "markdown",
   "metadata": {},
   "source": [
    "### Užduotis 3\n",
    "\n",
    "Sukurkite žodžių žodyną. Šį žodyną turėtų užpildyti naudotojas, įvesdamas visus norimus žodžius. Įvedus žodį, jam turėtų būti parodomi surikiuoti sąrašo žodžiai. T.y. įdėjus žodį į sąrašą, jį surikiuokite iš naujo ir parodykite."
   ]
  },
  {
   "cell_type": "code",
   "execution_count": null,
   "metadata": {},
   "outputs": [],
   "source": [
    "# Kodą rašykite čia..."
   ]
  },
  {
   "attachments": {},
   "cell_type": "markdown",
   "metadata": {},
   "source": [
    "### Užduotis 4\n",
    "\n",
    "Sukurkite sąrašą, kuriame saugosite sandėlio likučius. Į atskirą sąrašą perkelkite visus likučius, kurių lieka mažai (pvz., mažiau nei 5 vnt.)."
   ]
  },
  {
   "cell_type": "code",
   "execution_count": null,
   "metadata": {},
   "outputs": [],
   "source": [
    "# Kodą rašykite čia..."
   ]
  }
 ],
 "metadata": {
  "kernelspec": {
   "display_name": "Python 3",
   "language": "python",
   "name": "python3"
  },
  "language_info": {
   "codemirror_mode": {
    "name": "ipython",
    "version": 3
   },
   "file_extension": ".py",
   "mimetype": "text/x-python",
   "name": "python",
   "nbconvert_exporter": "python",
   "pygments_lexer": "ipython3",
   "version": "3.10.10"
  },
  "orig_nbformat": 4,
  "vscode": {
   "interpreter": {
    "hash": "aa11ca274996316222ef16f35c5f6dbeb467b694c0b2154cdf34dcf9271d5fd0"
   }
  }
 },
 "nbformat": 4,
 "nbformat_minor": 2
}
