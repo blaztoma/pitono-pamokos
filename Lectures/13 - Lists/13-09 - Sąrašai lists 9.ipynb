{
 "cells": [
  {
   "attachments": {},
   "cell_type": "markdown",
   "metadata": {},
   "source": [
    "[![Open In Colab](https://colab.research.google.com/assets/colab-badge.svg)](https://colab.research.google.com/github/blaztoma/pitono-pamokos/blob/main/pamokos/13%20-%20Sarasai/13-09%20-%20S%C4%85ra%C5%A1ai%20lists%209.ipynb)"
   ]
  },
  {
   "attachments": {},
   "cell_type": "markdown",
   "metadata": {},
   "source": [
    "# Sąrašai (`lists`) (9 dalis)"
   ]
  },
  {
   "attachments": {},
   "cell_type": "markdown",
   "metadata": {},
   "source": [
    "## Sąrašo perdarymas (`list comprehension`)"
   ]
  },
  {
   "attachments": {},
   "cell_type": "markdown",
   "metadata": {},
   "source": [
    "## Pavyzdžiai"
   ]
  },
  {
   "cell_type": "code",
   "execution_count": 1,
   "metadata": {},
   "outputs": [
    {
     "name": "stdout",
     "output_type": "stream",
     "text": [
      "[1, 2, 3, 4, 5, 6]\n",
      "[1, 2, 3, 4, 5, 6]\n"
     ]
    }
   ],
   "source": [
    "pradiniai = [1, 2, 3, 4, 5, 6]\n",
    "nauji = []\n",
    "\n",
    "for el in pradiniai:\n",
    "    nauji.append(el)\n",
    "\n",
    "print(pradiniai)\n",
    "print(nauji)"
   ]
  },
  {
   "cell_type": "code",
   "execution_count": 2,
   "metadata": {},
   "outputs": [
    {
     "name": "stdout",
     "output_type": "stream",
     "text": [
      "[1, 2, 3, 4, 5, 6]\n",
      "[1, 2, 3, 4, 5, 6]\n"
     ]
    }
   ],
   "source": [
    "pradiniai = [1, 2, 3, 4, 5, 6]\n",
    "\n",
    "nauji = [ el for el in pradiniai ]\n",
    "\n",
    "print(pradiniai)\n",
    "print(nauji)"
   ]
  },
  {
   "cell_type": "code",
   "execution_count": 3,
   "metadata": {},
   "outputs": [
    {
     "name": "stdout",
     "output_type": "stream",
     "text": [
      "[1, 2, 3, 4, 5, 6]\n",
      "[2, 4, 6, 8, 10, 12]\n"
     ]
    }
   ],
   "source": [
    "pradiniai = [1, 2, 3, 4, 5, 6]\n",
    "pakeisti = []\n",
    "\n",
    "for el in pradiniai:\n",
    "    pakeisti.append( el * 2 )\n",
    "\n",
    "print(pradiniai)\n",
    "print(pakeisti)"
   ]
  },
  {
   "cell_type": "code",
   "execution_count": 4,
   "metadata": {},
   "outputs": [
    {
     "name": "stdout",
     "output_type": "stream",
     "text": [
      "[1, 2, 3, 4, 5, 6]\n",
      "[2, 4, 6, 8, 10, 12]\n"
     ]
    }
   ],
   "source": [
    "pradiniai = [1, 2, 3, 4, 5, 6]\n",
    "\n",
    "pakeisti = [ el * 2 for el in pradiniai ]\n",
    "\n",
    "print(pradiniai)\n",
    "print(pakeisti)"
   ]
  },
  {
   "cell_type": "code",
   "execution_count": 5,
   "metadata": {},
   "outputs": [
    {
     "name": "stdout",
     "output_type": "stream",
     "text": [
      "['a', 'b', 'c']\n",
      "['aaaaa', 'bbbbb', 'ccccc']\n"
     ]
    }
   ],
   "source": [
    "raides = ['a', 'b', 'c']\n",
    "pakeisti = [ raide * 5 for raide in raides ]\n",
    "print(raides)\n",
    "print(pakeisti)"
   ]
  },
  {
   "cell_type": "code",
   "execution_count": 6,
   "metadata": {},
   "outputs": [
    {
     "name": "stdout",
     "output_type": "stream",
     "text": [
      "[5, 6, 7, 8, 2, 9]\n",
      "[25, 36, 49, 64, 4, 81]\n"
     ]
    }
   ],
   "source": [
    "skaiciai = [5, 6, 7, 8, 2, 9]\n",
    "print(skaiciai)\n",
    "kvadratai = [ sk * sk for sk in skaiciai ]\n",
    "print(kvadratai)"
   ]
  },
  {
   "cell_type": "code",
   "execution_count": 7,
   "metadata": {},
   "outputs": [
    {
     "name": "stdout",
     "output_type": "stream",
     "text": [
      "žodžiai: ['paukštis', 'obelis', 'knyga', 'parduotuvė']\n",
      "raidžių kiekiai: [8, 6, 5, 10]\n",
      "viso raidžių: 29\n"
     ]
    }
   ],
   "source": [
    "zodziai = ['paukštis', 'obelis', 'knyga', 'parduotuvė']\n",
    "print('žodžiai:', zodziai)\n",
    "raidziu_kiekiai = [ len(zodis) for zodis in zodziai ]\n",
    "print('raidžių kiekiai:', raidziu_kiekiai)\n",
    "print('viso raidžių:', sum(raidziu_kiekiai))"
   ]
  },
  {
   "cell_type": "code",
   "execution_count": 8,
   "metadata": {},
   "outputs": [
    {
     "name": "stdout",
     "output_type": "stream",
     "text": [
      "pradiniai: [2, 1, 7, -2, -6, 7, -2, -5, 5, 6]\n",
      "atrinkti teigiami: [2, 1, 7, 7, 5, 6]\n"
     ]
    }
   ],
   "source": [
    "pradiniai = [2, 1, 7, -2, -6, 7, -2, -5, 5, 6]\n",
    "print('pradiniai:', pradiniai)\n",
    "\n",
    "teigiami = []\n",
    "\n",
    "for sk in pradiniai:\n",
    "    if sk > 0:\n",
    "        teigiami.append(sk)\n",
    "\n",
    "print('atrinkti teigiami:', teigiami)"
   ]
  },
  {
   "cell_type": "code",
   "execution_count": 9,
   "metadata": {},
   "outputs": [
    {
     "name": "stdout",
     "output_type": "stream",
     "text": [
      "pradiniai: [2, 1, 7, -2, -6, 7, -2, -5, 5, 6]\n",
      "atrinkti teigiami: [2, 1, 7, 7, 5, 6]\n",
      "atrinkti neigiami: [-2, -6, -2, -5]\n"
     ]
    }
   ],
   "source": [
    "pradiniai = [2, 1, 7, -2, -6, 7, -2, -5, 5, 6]\n",
    "print('pradiniai:', pradiniai)\n",
    "\n",
    "teigiami = [ sk for sk in pradiniai if sk > 0 ]\n",
    "print('atrinkti teigiami:', teigiami)\n",
    "\n",
    "neigiami = [ sk for sk in pradiniai if sk < 0 ]\n",
    "print('atrinkti neigiami:', neigiami)"
   ]
  },
  {
   "cell_type": "code",
   "execution_count": 10,
   "metadata": {},
   "outputs": [
    {
     "name": "stdout",
     "output_type": "stream",
     "text": [
      "['Jonas', 'Ugnė', 'Petras', 'Ona', 'Gintarė', 'Povilas']\n",
      "['Petras', 'Gintarė', 'Povilas']\n"
     ]
    }
   ],
   "source": [
    "pradiniai = ['Jonas', 'Ugnė', 'Petras', 'Ona', 'Gintarė', 'Povilas']\n",
    "print(pradiniai)\n",
    "atrinkti = [ vardas for vardas in pradiniai if len(vardas) > 5 ]\n",
    "print(atrinkti)"
   ]
  },
  {
   "cell_type": "code",
   "execution_count": 11,
   "metadata": {},
   "outputs": [
    {
     "name": "stdout",
     "output_type": "stream",
     "text": [
      "[3, 4, 8, 9, 2]\n",
      "['nelyginis', 'lyginis', 'lyginis', 'nelyginis', 'lyginis']\n"
     ]
    }
   ],
   "source": [
    "skaiciai = [3, 4, 8, 9, 2]\n",
    "pakeisti = [ 'lyginis' if sk % 2 == 0 else 'nelyginis' for sk in skaiciai ]\n",
    "print(skaiciai)\n",
    "print(pakeisti)"
   ]
  },
  {
   "cell_type": "code",
   "execution_count": 12,
   "metadata": {},
   "outputs": [
    {
     "name": "stdout",
     "output_type": "stream",
     "text": [
      "['Jonas', 'Petras', 'Ugnė', 'Paulina']\n",
      "['J', 'P', 'U', 'P']\n",
      "['Jonas', 'Petras', 'Ugnė', 'Paulina']\n"
     ]
    }
   ],
   "source": [
    "vardai = ['Jonas', 'Petras', 'Ugnė', 'Paulina']\n",
    "print(vardai)\n",
    "\n",
    "nauji = [ vardas[0].upper() for vardas in vardai ]\n",
    "print(nauji)\n",
    "\n",
    "nauji = [ vardas[0].upper() + vardas[1:] for vardas in vardai ]\n",
    "print(nauji)"
   ]
  },
  {
   "cell_type": "code",
   "execution_count": 13,
   "metadata": {},
   "outputs": [
    {
     "name": "stdout",
     "output_type": "stream",
     "text": [
      "['Jonas', 'Petras', 'Ugnė', 'Paulina']\n",
      "['---', 'Petras', '---', 'Paulina']\n"
     ]
    }
   ],
   "source": [
    "vardai = ['Jonas', 'Petras', 'Ugnė', 'Paulina']\n",
    "print(vardai)\n",
    "nauji = [ vardas if vardas.startswith('P') else '---' for vardas in vardai ]\n",
    "print(nauji)"
   ]
  },
  {
   "cell_type": "code",
   "execution_count": 14,
   "metadata": {},
   "outputs": [
    {
     "name": "stdout",
     "output_type": "stream",
     "text": [
      "['Jonas', 'Petras', None, 'Paulina', None]\n",
      "['Jonas', 'Petras', '', 'Paulina', '']\n",
      "['Jonas', 'Petras', '', 'Paulina', '']\n"
     ]
    }
   ],
   "source": [
    "vardai = ['Jonas', 'Petras', None, 'Paulina', None]\n",
    "print(vardai)\n",
    "\n",
    "nauji = [ vardas if vardas != None else '' for vardas in vardai ]\n",
    "print(nauji)\n",
    "\n",
    "nauji = [ vardas if vardas is not None else '' for vardas in vardai ]\n",
    "print(nauji)"
   ]
  },
  {
   "cell_type": "code",
   "execution_count": 15,
   "metadata": {},
   "outputs": [
    {
     "name": "stdout",
     "output_type": "stream",
     "text": [
      "['Jonas', 'Petras', None, 'Paulina', None]\n",
      "['Jonas', 'Petras', 'Paulina']\n"
     ]
    }
   ],
   "source": [
    "vardai = ['Jonas', 'Petras', None, 'Paulina', None]\n",
    "print(vardai)\n",
    "nauji = [ vardas for vardas in vardai if vardas is not None ]\n",
    "print(nauji)"
   ]
  },
  {
   "attachments": {},
   "cell_type": "markdown",
   "metadata": {},
   "source": [
    "## Užduotys"
   ]
  },
  {
   "attachments": {},
   "cell_type": "markdown",
   "metadata": {},
   "source": [
    "### Užduotis 1\n",
    "\n",
    "Susikurkite studentų pažymių sąrašą ir surašykite pažymių į šį sąrašą. Paverskite visus šio sąrašo pažymius taip, kad ties kiekvienu parodytų kiek trūksta iki 10, pvz, jeigu pažymys yra 8, tai jam iki 10 trūksta 2, arba jeigu pažymys yra 7, tai jam iki 10 trūksta 3, arba jeigu yra 10, tai jam trūksta 0."
   ]
  },
  {
   "cell_type": "code",
   "execution_count": null,
   "metadata": {},
   "outputs": [],
   "source": [
    "# Kodą rašykite čia..."
   ]
  },
  {
   "attachments": {},
   "cell_type": "markdown",
   "metadata": {},
   "source": [
    "### Užduotis 2\n",
    "\n",
    "Susikurkite žodžių sąrašą ir užpildykite jį duomenimis. Paverskite visus šio sąrašo žodžius, kad jie visi būtų iš didžiųjų raidžių."
   ]
  },
  {
   "cell_type": "code",
   "execution_count": null,
   "metadata": {},
   "outputs": [],
   "source": [
    "# Kodą rašykite čia..."
   ]
  },
  {
   "attachments": {},
   "cell_type": "markdown",
   "metadata": {},
   "source": [
    "### Užduotis 3\n",
    "\n",
    "Susikurkite žmonių vardų sąrašą ir užpildykite jį duomenimis. Į naują sąrašą paimkite kiekvieno vardo pirmąją raidę. Jeigu bus kažkuris vardas ne iš didžiosios raidės, tai jį paverskite iš didžiosios raidės. Surikiuokite pagal abėcėlę."
   ]
  },
  {
   "cell_type": "code",
   "execution_count": null,
   "metadata": {},
   "outputs": [],
   "source": [
    "# Kodą rašykite čia..."
   ]
  },
  {
   "attachments": {},
   "cell_type": "markdown",
   "metadata": {},
   "source": [
    "### Užduotis 4\n",
    "\n",
    "Susikurkite skaičių sąrašą ir jį užpildykite duomenimis. Susikurkite naują sąrašą, kuriame būtų pradinių skaičių kvadratai. Susikurkite naują sąrašą, kuriame būtų pradinių skaičių kūbai (trečias laipsnis)."
   ]
  },
  {
   "cell_type": "code",
   "execution_count": null,
   "metadata": {},
   "outputs": [],
   "source": [
    "# Kodą rašykite čia..."
   ]
  },
  {
   "attachments": {},
   "cell_type": "markdown",
   "metadata": {},
   "source": [
    "### Užduotis 5\n",
    "\n",
    "Susikurkite miestų pavadinimų sąrašą, jį užpildykite duomenimis. Šiame sąraše nesilaikykite taisyklingo vardinimo, t.y. miestai gali būti tiek iš didžių raidžių tiek iš mažųjų, gali būti miesto viduryje didžiųjų raidžių ir pan. Sukurkite naują sąrašą šio pagrindu, kur viskas būtų sutvarkyta, t.y. pirma raidė padaryta didžioji, o visos kitos - mažosios."
   ]
  },
  {
   "cell_type": "code",
   "execution_count": null,
   "metadata": {},
   "outputs": [],
   "source": [
    "# Kodą rašykite čia..."
   ]
  },
  {
   "attachments": {},
   "cell_type": "markdown",
   "metadata": {},
   "source": [
    "### Užduotis 6\n",
    "\n",
    "Susikurkite skaičių sąrašą su duomenimis. Į naują sąrašą atrinkite tik tuos skaičius, kurie didesni nei kažkoks pasirinktas skaičius (pvz: 5)."
   ]
  },
  {
   "cell_type": "code",
   "execution_count": null,
   "metadata": {},
   "outputs": [],
   "source": [
    "# Kodą rašykite čia..."
   ]
  },
  {
   "attachments": {},
   "cell_type": "markdown",
   "metadata": {},
   "source": [
    "### Užduotis 7\n",
    "\n",
    "Susikurkite skaičių sąrašą su duomenimis. Į naują sąrašą atrinkite tik tuos skaičius, kurie yra didesni arba lygūs vidurkiui (prieš tai teks susirasti vidurkį). Taip pat, į naują sąrašą atrinkite tik tuos skaičius, kurie yra mažesni nei vidurkis."
   ]
  },
  {
   "cell_type": "code",
   "execution_count": null,
   "metadata": {},
   "outputs": [],
   "source": [
    "# Kodą rašykite čia..."
   ]
  },
  {
   "attachments": {},
   "cell_type": "markdown",
   "metadata": {},
   "source": [
    "### Užduotis 8\n",
    "\n",
    "Susikurkite skaičių sąrašą su duomenimis. Į naują sąrašą atrinkite tik tuos skaičius, kurie yra lyginiai ir kurie yra didesni nei vidurkis."
   ]
  },
  {
   "cell_type": "code",
   "execution_count": null,
   "metadata": {},
   "outputs": [],
   "source": [
    "# Kodą rašykite čia..."
   ]
  },
  {
   "attachments": {},
   "cell_type": "markdown",
   "metadata": {},
   "source": [
    "### Užduotis 9\n",
    "\n",
    "Susikurkite pažymių sąrašą su duomenimis. Į naują sąrašą atrinkite visus neigiamus pažymius (4 ir mažiau). Raskite kiek buvo neigiamų pažymių."
   ]
  },
  {
   "cell_type": "code",
   "execution_count": null,
   "metadata": {},
   "outputs": [],
   "source": [
    "# Kodą rašykite čia..."
   ]
  },
  {
   "attachments": {},
   "cell_type": "markdown",
   "metadata": {},
   "source": [
    "### Užduotis 10\n",
    "\n",
    "Susikurkite pažymių sąrašą su duomenimis. Į naują sąrašą sudėkite visus teigiamus pažymius, o vietoje neigiamų (4 ir mažiau) turėtų rašytis žodis \"Neigiamas\". Pvz.: jeigu turite sąrašą `[7, 4, 8, 3, 9]`, tai naujas sąrašas turėtų būti toks: `[7, 'Neigiamas', 8, 'Neigiamas', 9]`."
   ]
  },
  {
   "cell_type": "code",
   "execution_count": null,
   "metadata": {},
   "outputs": [],
   "source": [
    "# Kodą rašykite čia..."
   ]
  },
  {
   "attachments": {},
   "cell_type": "markdown",
   "metadata": {},
   "source": [
    "### Užduotis 11\n",
    "\n",
    "Susikurkite skaičių sąrašą su duomenimis. Kai kurie elementai sąraše turėtų būti `None` reikšmės. Pvz.: `[7, 8, 5, None, 3, 6, None, 4]`. Sukurkite naują sąrašą, kur skaičiai persikeltų, o vietoj `None` reikšmės įsidėtų skaičius 0 (atkreipkite dėmesį, kad turi būti įrašytas kaip `int`, o ne `str`). Raskite visų skaičių sumą."
   ]
  },
  {
   "cell_type": "code",
   "execution_count": null,
   "metadata": {},
   "outputs": [],
   "source": [
    "# Kodą rašykite čia..."
   ]
  }
 ],
 "metadata": {
  "kernelspec": {
   "display_name": "Python 3",
   "language": "python",
   "name": "python3"
  },
  "language_info": {
   "codemirror_mode": {
    "name": "ipython",
    "version": 3
   },
   "file_extension": ".py",
   "mimetype": "text/x-python",
   "name": "python",
   "nbconvert_exporter": "python",
   "pygments_lexer": "ipython3",
   "version": "3.7.9 (tags/v3.7.9:13c94747c7, Aug 17 2020, 18:58:18) [MSC v.1900 64 bit (AMD64)]"
  },
  "orig_nbformat": 4,
  "vscode": {
   "interpreter": {
    "hash": "aa11ca274996316222ef16f35c5f6dbeb467b694c0b2154cdf34dcf9271d5fd0"
   }
  }
 },
 "nbformat": 4,
 "nbformat_minor": 2
}
