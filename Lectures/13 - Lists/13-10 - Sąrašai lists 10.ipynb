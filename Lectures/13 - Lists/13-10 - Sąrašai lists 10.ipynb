{
 "cells": [
  {
   "attachments": {},
   "cell_type": "markdown",
   "metadata": {},
   "source": [
    "[![Open In Colab](https://colab.research.google.com/assets/colab-badge.svg)](https://colab.research.google.com/github/blaztoma/pitono-pamokos/blob/main/pamokos/13%20-%20Sarasai/13-10%20-%20S%C4%85ra%C5%A1ai%20lists%2010.ipynb)"
   ]
  },
  {
   "attachments": {},
   "cell_type": "markdown",
   "metadata": {},
   "source": [
    "# Sąrašai (`lists`) (10 dalis)"
   ]
  },
  {
   "attachments": {},
   "cell_type": "markdown",
   "metadata": {},
   "source": [
    "## Pavyzdžiai"
   ]
  },
  {
   "cell_type": "code",
   "execution_count": 2,
   "metadata": {},
   "outputs": [
    {
     "name": "stdout",
     "output_type": "stream",
     "text": [
      "Visa matrica: [[8, 7, 5, 3], [4, 7, 5, 2], [4, 7, 8, 3], [5, 2, 3, 1]]\n",
      "Antra eilė: [4, 7, 5, 2]\n",
      "Antros eilės trečias: 5\n"
     ]
    }
   ],
   "source": [
    "matrica = [\n",
    "    [8, 7, 5, 3],\n",
    "    [4, 7, 5, 2],\n",
    "    [4, 7, 8, 3],\n",
    "    [5, 2, 3, 1]\n",
    "]\n",
    "\n",
    "print('Visa matrica:', matrica)\n",
    "print('Antra eilė:', matrica[1])\n",
    "print('Antros eilės trečias:', matrica[1][2])"
   ]
  },
  {
   "cell_type": "code",
   "execution_count": 5,
   "metadata": {},
   "outputs": [
    {
     "name": "stdout",
     "output_type": "stream",
     "text": [
      "['Jonas', 7, 8, 5, 6, 3]\n",
      "['Petras', 8, 9, 8, 8, 9, 10]\n",
      "['Ona', 7, 8]\n",
      "['Birutė', 9, 9, 10, 10, 7, 8]\n",
      "['Ugnius', 7, 7, 8, 9, 7]\n"
     ]
    }
   ],
   "source": [
    "studentu_pazymiai = [\n",
    "    ['Jonas', 7, 8, 5, 6, 3],\n",
    "    ['Petras', 8, 9, 8, 8, 9, 10],\n",
    "    ['Ona', 7, 8],\n",
    "    ['Birutė', 9, 9, 10, 10, 7, 8],\n",
    "    ['Ugnius', 7, 7, 8, 9, 7]\n",
    "]\n",
    "\n",
    "for studentas in studentu_pazymiai:\n",
    "    print(studentas)"
   ]
  },
  {
   "cell_type": "code",
   "execution_count": 6,
   "metadata": {},
   "outputs": [
    {
     "name": "stdout",
     "output_type": "stream",
     "text": [
      "Jonas 7 8 5 6 3 \n",
      "Petras 8 9 8 8 9 10 \n",
      "Ona 7 8 \n",
      "Birutė 9 9 10 10 7 8 \n",
      "Ugnius 7 7 8 9 7 \n"
     ]
    }
   ],
   "source": [
    "studentu_pazymiai = [\n",
    "    ['Jonas', 7, 8, 5, 6, 3],\n",
    "    ['Petras', 8, 9, 8, 8, 9, 10],\n",
    "    ['Ona', 7, 8],\n",
    "    ['Birutė', 9, 9, 10, 10, 7, 8],\n",
    "    ['Ugnius', 7, 7, 8, 9, 7]\n",
    "]\n",
    "\n",
    "for studentas in studentu_pazymiai:\n",
    "    for el in studentas:\n",
    "        print(el, end=' ')\n",
    "    print()"
   ]
  },
  {
   "cell_type": "code",
   "execution_count": 10,
   "metadata": {},
   "outputs": [
    {
     "name": "stdout",
     "output_type": "stream",
     "text": [
      "studento Jonas pažymiai: 7 8 5 6 3 \n",
      "studento Petras pažymiai: 8 9 8 8 9 10 \n",
      "studento Ona pažymiai: 7 8 \n",
      "studento Birutė pažymiai: 9 9 10 10 7 8 \n",
      "studento Ugnius pažymiai: 7 7 8 9 7 \n"
     ]
    }
   ],
   "source": [
    "studentu_pazymiai = [\n",
    "    ['Jonas', 7, 8, 5, 6, 3],\n",
    "    ['Petras', 8, 9, 8, 8, 9, 10],\n",
    "    ['Ona', 7, 8],\n",
    "    ['Birutė', 9, 9, 10, 10, 7, 8],\n",
    "    ['Ugnius', 7, 7, 8, 9, 7]\n",
    "]\n",
    "\n",
    "for studentas in studentu_pazymiai:\n",
    "    print('studento', studentas[0], 'pažymiai: ', end='')\n",
    "    for i in range(1, len(studentas)):\n",
    "        print(studentas[i], end=' ')\n",
    "    print()"
   ]
  },
  {
   "cell_type": "code",
   "execution_count": 16,
   "metadata": {},
   "outputs": [
    {
     "name": "stdout",
     "output_type": "stream",
     "text": [
      "Studentas: Jonas\n",
      "Jos/jo pažymiai: [7, 8, 5, 6, 3]\n",
      "Jos/jo pažymiai: 7, 8, 5, 6, 3\n",
      "\n",
      "Studentas: Petras\n",
      "Jos/jo pažymiai: [8, 9, 8, 8, 9, 10]\n",
      "Jos/jo pažymiai: 8, 9, 8, 8, 9, 10\n",
      "\n",
      "Studentas: Ona\n",
      "Jos/jo pažymiai: [7, 8]\n",
      "Jos/jo pažymiai: 7, 8\n",
      "\n",
      "Studentas: Birutė\n",
      "Jos/jo pažymiai: [9, 9, 10, 10, 7, 8]\n",
      "Jos/jo pažymiai: 9, 9, 10, 10, 7, 8\n",
      "\n",
      "Studentas: Ugnius\n",
      "Jos/jo pažymiai: [7, 7, 8, 9, 7]\n",
      "Jos/jo pažymiai: 7, 7, 8, 9, 7\n",
      "\n"
     ]
    }
   ],
   "source": [
    "studentu_pazymiai = [\n",
    "    ['Jonas', [7, 8, 5, 6, 3]],\n",
    "    ['Petras', [8, 9, 8, 8, 9, 10]],\n",
    "    ['Ona', [7, 8]],\n",
    "    ['Birutė', [9, 9, 10, 10, 7, 8]],\n",
    "    ['Ugnius', [7, 7, 8, 9, 7]]\n",
    "]\n",
    "\n",
    "for studentas in studentu_pazymiai:\n",
    "    print('Studentas:', studentas[0])\n",
    "    print('Jos/jo pažymiai:', studentas[1])\n",
    "    print('Jos/jo pažymiai:', ', '.join( map(str, studentas[1]) ))\n",
    "    print()"
   ]
  },
  {
   "cell_type": "code",
   "execution_count": 19,
   "metadata": {},
   "outputs": [
    {
     "name": "stdout",
     "output_type": "stream",
     "text": [
      "Visi visų studentų pažymiai:\n",
      "7 8 5 6 3 \n",
      "8 9 8 8 9 10 \n",
      "7 8 \n",
      "9 9 10 10 7 8 \n",
      "7 7 8 9 7 \n"
     ]
    }
   ],
   "source": [
    "studentu_pazymiai = [\n",
    "    ['Jonas', [7, 8, 5, 6, 3]],\n",
    "    ['Petras', [8, 9, 8, 8, 9, 10]],\n",
    "    ['Ona', [7, 8]],\n",
    "    ['Birutė', [9, 9, 10, 10, 7, 8]],\n",
    "    ['Ugnius', [7, 7, 8, 9, 7]]\n",
    "]\n",
    "\n",
    "print('Visi visų studentų pažymiai:')\n",
    "\n",
    "for studentas in studentu_pazymiai:\n",
    "    for pazymys in studentas[1]:\n",
    "        print(pazymys, end=' ')\n",
    "    print()"
   ]
  },
  {
   "cell_type": "code",
   "execution_count": 22,
   "metadata": {},
   "outputs": [
    {
     "name": "stdout",
     "output_type": "stream",
     "text": [
      "Kiekvienos eilės suma: [23, 18, 22, 11]\n",
      "Bendra visos matricos suma: 74\n"
     ]
    }
   ],
   "source": [
    "matrica = [\n",
    "    [8, 7, 5, 3],\n",
    "    [4, 7, 5, 2],\n",
    "    [4, 7, 8, 3],\n",
    "    [5, 2, 3, 1]\n",
    "]\n",
    "\n",
    "sumos = [ sum(eile) for eile in matrica ]\n",
    "print('Kiekvienos eilės suma:', sumos)\n",
    "\n",
    "bendra_suma = sum(sumos)\n",
    "print('Bendra visos matricos suma:', bendra_suma)"
   ]
  },
  {
   "attachments": {},
   "cell_type": "markdown",
   "metadata": {},
   "source": [
    "## Užduotys"
   ]
  },
  {
   "attachments": {},
   "cell_type": "markdown",
   "metadata": {},
   "source": [
    "### Užduotis 1\n",
    "\n",
    "Susikurkite bet kokį sąrašą sąraše. Jį išveskite bent dviem skirtingais būdais."
   ]
  },
  {
   "cell_type": "code",
   "execution_count": 1,
   "metadata": {},
   "outputs": [],
   "source": [
    "# Kodą rašykite čia..."
   ]
  },
  {
   "attachments": {},
   "cell_type": "markdown",
   "metadata": {},
   "source": [
    "### Užduotis 2\n",
    "\n",
    "Susikurkite sąrašą sąraše, kur visi ar dalis narių būtų skaičiai. Išveskite visus lyginius skaičius."
   ]
  },
  {
   "cell_type": "code",
   "execution_count": null,
   "metadata": {},
   "outputs": [],
   "source": [
    "# Kodą rašykite čia..."
   ]
  },
  {
   "attachments": {},
   "cell_type": "markdown",
   "metadata": {},
   "source": [
    "### Užduotis 3\n",
    "\n",
    "Susikurkite matricą iš skaičių. Raskite visų skaičių vidurkį."
   ]
  },
  {
   "cell_type": "code",
   "execution_count": null,
   "metadata": {},
   "outputs": [],
   "source": [
    "# Kodą rašykite čia..."
   ]
  },
  {
   "attachments": {},
   "cell_type": "markdown",
   "metadata": {},
   "source": [
    "### Užduotis 4\n",
    "\n",
    "Susikurkite bet kokį norimą sąrašą sąraše (kur būtų ir teksto ir skaičių). Jį išveskite. Raskite ką nors iš skaičių, pvz.: kiekvienos eilės sumą, didžiausią skaičių ar pan."
   ]
  },
  {
   "cell_type": "code",
   "execution_count": null,
   "metadata": {},
   "outputs": [],
   "source": [
    "# Kodą rašykite čia..."
   ]
  },
  {
   "attachments": {},
   "cell_type": "markdown",
   "metadata": {},
   "source": [
    "### Užduotis 5\n",
    "\n",
    "Susikurkite kažką panašaus į pavyzdžiuose matytą `studentu_pazymiai` sąraše sąraše. Į naują sąrašą išsikelkite studentų vardus ar kitą tekstinę informaciją. Į kitą naują sąrašą išsikelkite visus skaičius."
   ]
  },
  {
   "cell_type": "code",
   "execution_count": null,
   "metadata": {},
   "outputs": [],
   "source": [
    "# Kodą rašykite čia..."
   ]
  }
 ],
 "metadata": {
  "kernelspec": {
   "display_name": "Python 3",
   "language": "python",
   "name": "python3"
  },
  "language_info": {
   "codemirror_mode": {
    "name": "ipython",
    "version": 3
   },
   "file_extension": ".py",
   "mimetype": "text/x-python",
   "name": "python",
   "nbconvert_exporter": "python",
   "pygments_lexer": "ipython3",
   "version": "3.7.9 (tags/v3.7.9:13c94747c7, Aug 17 2020, 18:58:18) [MSC v.1900 64 bit (AMD64)]"
  },
  "orig_nbformat": 4,
  "vscode": {
   "interpreter": {
    "hash": "aa11ca274996316222ef16f35c5f6dbeb467b694c0b2154cdf34dcf9271d5fd0"
   }
  }
 },
 "nbformat": 4,
 "nbformat_minor": 2
}
