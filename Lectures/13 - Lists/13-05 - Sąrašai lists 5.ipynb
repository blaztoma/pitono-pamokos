{
 "cells": [
  {
   "attachments": {},
   "cell_type": "markdown",
   "metadata": {},
   "source": [
    "[![Open In Colab](https://colab.research.google.com/assets/colab-badge.svg)](https://colab.research.google.com/github/blaztoma/pitono-pamokos/blob/main/pamokos/13%20-%20Sarasai/13-05%20-%20S%C4%85ra%C5%A1ai%20lists%205.ipynb)"
   ]
  },
  {
   "attachments": {},
   "cell_type": "markdown",
   "metadata": {},
   "source": [
    "# Sąrašai (`lists`) (5 dalis)"
   ]
  },
  {
   "attachments": {},
   "cell_type": "markdown",
   "metadata": {},
   "source": [
    "## Sąrašo skaidymas ir apjungimas\n",
    "\n",
    "Sąrašus galima sujungti į teksto eilutes ir teksto eilutes galima išskaidyti į sąrašą.\n",
    "\n",
    "- Kai norime `list` -> `str`, tuomet naudojame `join` metodą.\n",
    "- Kai norime `str` -> `list`, tuomet naudojame `split` metodą.\n",
    "\n",
    "## `join`\n",
    "\n",
    "`join` naudojame norėdami sąrašą sujungti į teksto eilutę.\n",
    "\n",
    "Sintaksė:\n",
    "\n",
    "```\n",
    "'<skirtukas tarp kiekvieno elemento>'.join(<sąrašas>)\n",
    "```\n",
    "\n",
    "## `split`\n",
    "\n",
    "`split` naudojame norėdami teksto eilutę išskaidyti į sąrašą.\n",
    "\n",
    "Sintaksė:\n",
    "\n",
    "```\n",
    "<teksto eilutė>.split(<skirtukas pagal ką skelti>)\n",
    "```"
   ]
  },
  {
   "attachments": {},
   "cell_type": "markdown",
   "metadata": {},
   "source": [
    "## Pavyzdžiai"
   ]
  },
  {
   "attachments": {},
   "cell_type": "markdown",
   "metadata": {},
   "source": [
    "Sąrašą `sarasas` paverčiame eilute sujungdami tarpu jo elementus."
   ]
  },
  {
   "cell_type": "code",
   "execution_count": null,
   "metadata": {},
   "outputs": [],
   "source": [
    "sarasas = ['labas', 'mano', 'vardas', 'yra', 'JOJO']\n",
    "sakinys = ' '.join(sarasas)\n",
    "print(sakinys)"
   ]
  },
  {
   "attachments": {},
   "cell_type": "markdown",
   "metadata": {},
   "source": [
    "Tai yra tas pat, kas..."
   ]
  },
  {
   "cell_type": "code",
   "execution_count": null,
   "metadata": {},
   "outputs": [],
   "source": [
    "sakinys = ' '.join(['labas', 'mano', 'vardas', 'yra', 'JOJO'])\n",
    "print(sakinys)"
   ]
  },
  {
   "attachments": {},
   "cell_type": "markdown",
   "metadata": {},
   "source": [
    "Paversti sąrašą eilute galime naudodami įvairius skirtukus (arba jų nenaudodami)."
   ]
  },
  {
   "cell_type": "code",
   "execution_count": null,
   "metadata": {},
   "outputs": [],
   "source": [
    "miestai = ['Kaunas', 'Vilnius', 'Klaipėda', 'Jonava', 'Biržai']\n",
    "\n",
    "print(miestai)\n",
    "\n",
    "print(''.join(miestai))\n",
    "print(' '.join(miestai))\n",
    "print('|'.join(miestai))\n",
    "print(' / '.join(miestai))"
   ]
  },
  {
   "attachments": {},
   "cell_type": "markdown",
   "metadata": {},
   "source": [
    "Į eilutes galime paversti ne tik eilučių sąrašus, bet ir skaičių sąrašus. Tiesa, tai nėra taip paprasta. Pamėginkite ;)"
   ]
  },
  {
   "cell_type": "code",
   "execution_count": null,
   "metadata": {},
   "outputs": [],
   "source": [
    "skaiciai = [7, 4, 8, 5, 3]\n",
    "print(' '.join(skaiciai))"
   ]
  },
  {
   "attachments": {},
   "cell_type": "markdown",
   "metadata": {},
   "source": [
    "Norėdami skaičius paversti eilute, turime kiekvieną elementą paversti į eilutę. Šiame pavyzdyje parodyti du būdai, kaip tai padaryti."
   ]
  },
  {
   "cell_type": "code",
   "execution_count": null,
   "metadata": {},
   "outputs": [],
   "source": [
    "pazymiai = [7, 8, 7, 9, 10, 8]\n",
    "print(pazymiai)\n",
    "\n",
    "pazymiai_sakiniu1 = ', '.join(map(str, pazymiai))\n",
    "print(pazymiai_sakiniu1)\n",
    "\n",
    "pazymiai_sakiniu2 = ', '.join( [ str(paz) for paz in pazymiai ] )\n",
    "print(pazymiai_sakiniu2)"
   ]
  },
  {
   "attachments": {},
   "cell_type": "markdown",
   "metadata": {},
   "source": [
    "Skaičių sąrašo pavertimas eilute naudojant skirtingus skirtukus."
   ]
  },
  {
   "cell_type": "code",
   "execution_count": null,
   "metadata": {},
   "outputs": [],
   "source": [
    "skaiciai = [4, 8, 5, 3, 6, 5]\n",
    "print( ' / '.join( map(str, skaiciai) ) )\n",
    "print( '_'.join( map(str, skaiciai) ) )\n",
    "print( ' - '.join( map(str, skaiciai) ) )"
   ]
  },
  {
   "attachments": {},
   "cell_type": "markdown",
   "metadata": {},
   "source": [
    "Eilutės pavertimas į sąrašą (skirtukas yra tarpas)."
   ]
  },
  {
   "cell_type": "code",
   "execution_count": null,
   "metadata": {},
   "outputs": [],
   "source": [
    "sakinys = 'Koks nors mano norimas sakinys'\n",
    "print(sakinys)\n",
    "print(sakinys.split())\n",
    "print(sakinys.split(' '))"
   ]
  },
  {
   "attachments": {},
   "cell_type": "markdown",
   "metadata": {},
   "source": [
    "Eilutės pavertimas į sąrašą naudojant skirtingus skirtukus."
   ]
  },
  {
   "cell_type": "code",
   "execution_count": null,
   "metadata": {},
   "outputs": [],
   "source": [
    "sakinys = 'Šiame sakinys / turėtų, būti kablelių, dvitaškių: ir dar / ko nors'\n",
    "print(sakinys)\n",
    "print(sakinys.split(' '))\n",
    "print(sakinys.split(' / '))\n",
    "print(sakinys.split(': '))\n",
    "print(sakinys.split(', '))"
   ]
  },
  {
   "attachments": {},
   "cell_type": "markdown",
   "metadata": {},
   "source": [
    "Pavyzdys su datomis, kurios pateiktos eilute. Datų eilutė paverčiama sąrašu ir pridedamos papildomos eilutės."
   ]
  },
  {
   "cell_type": "code",
   "execution_count": null,
   "metadata": {},
   "outputs": [],
   "source": [
    "datu_eilute = '2014-10-10|2015-12-30|2016-02-04|2017-05-03'\n",
    "papildomos_datos = ['2018-11-08', '2019-07-08']\n",
    "\n",
    "datos = datu_eilute.split('|')\n",
    "print(datos)\n",
    "\n",
    "datos.extend(papildomos_datos)\n",
    "print(datos)\n",
    "\n",
    "sujungtos_datos = '|'.join(datos)\n",
    "print(sujungtos_datos)"
   ]
  },
  {
   "attachments": {},
   "cell_type": "markdown",
   "metadata": {},
   "source": [
    "O čia papildomą sąrašą prijungiame kaip eilutę prie esančios datų eilutės. Panagrinėkite, kaip viskas vyksta."
   ]
  },
  {
   "cell_type": "code",
   "execution_count": null,
   "metadata": {},
   "outputs": [],
   "source": [
    "datu_eilute = '2014-10-10|2015-12-30|2016-02-04|2017-05-03'\n",
    "papildomos_datos = ['2018-11-08', '2019-07-08']\n",
    "\n",
    "sujungtos_datos = datu_eilute + '|' + '|'.join(papildomos_datos)\n",
    "print(sujungtos_datos)"
   ]
  },
  {
   "attachments": {},
   "cell_type": "markdown",
   "metadata": {},
   "source": [
    "Šitas pavyzdys rodo, kaip skaičių eilutę pavesti skaičių sąrašu dviem būdais."
   ]
  },
  {
   "cell_type": "code",
   "execution_count": null,
   "metadata": {},
   "outputs": [],
   "source": [
    "skaiciai_tekstu = '2/1/6/5/2/7/4'\n",
    "\n",
    "skaiciai = skaiciai_tekstu.split('/')\n",
    "print(skaiciai)\n",
    "\n",
    "skaiciai1 = list( map(int, skaiciai) )\n",
    "print(skaiciai1)\n",
    "\n",
    "skaiciai2 = [ int(sk) for sk in skaiciai ]\n",
    "print(skaiciai2)"
   ]
  },
  {
   "attachments": {},
   "cell_type": "markdown",
   "metadata": {},
   "source": [
    "## Užduotys"
   ]
  },
  {
   "attachments": {},
   "cell_type": "markdown",
   "metadata": {},
   "source": [
    "### Užduotis 1\n",
    "\n",
    "Sukurkite žodžių sąrašą. Atspausdinkite šį sąrašą tokiais būdais:\n",
    "\n",
    "- kiekvieną žodį atskirant kableliu ir tarpu: `pirmas, antras, trečias, ...`\n",
    "- kiekvieną žodį atskiriant vertikaliu brūkšneliu: `pirmas|antras|trečias|...`\n",
    "- kiekvieną žodį atskiriant tarpu: `pirmas antras trečias ...`"
   ]
  },
  {
   "cell_type": "code",
   "execution_count": null,
   "metadata": {},
   "outputs": [],
   "source": [
    "# Kodą rašykite čia..."
   ]
  },
  {
   "attachments": {},
   "cell_type": "markdown",
   "metadata": {},
   "source": [
    "### Užduotis 2\n",
    "\n",
    "Sukurkite pažymių sąrašą ir užpildykite jį pažymiais. Surikiuokite sąrašą mažėjimo tvarka ir atspausdinkite jį taip, kad kiekvienas pažymys būtų atskirtas kableliu ir tarpu (`9, 8, 6, ...`)."
   ]
  },
  {
   "cell_type": "code",
   "execution_count": null,
   "metadata": {},
   "outputs": [],
   "source": [
    "# Kodą rašykite čia..."
   ]
  },
  {
   "attachments": {},
   "cell_type": "markdown",
   "metadata": {},
   "source": [
    "### Užduotis 3\n",
    "\n",
    "Sukurkite prekių sąrašą (prekių krepšeliui). Užpildykite sąrašą norima informacija.Atspausdinkite šį sąrašą taip, kad prekės būtų atskirtos skirtuku: ` ||| `. Turėtų gautis taip: `prekė 1 ||| prekė 2 ||| prekė 3`."
   ]
  },
  {
   "cell_type": "code",
   "execution_count": null,
   "metadata": {},
   "outputs": [],
   "source": [
    "# Kodą rašykite čia..."
   ]
  },
  {
   "attachments": {},
   "cell_type": "markdown",
   "metadata": {},
   "source": [
    "### Užduotis 4\n",
    "\n",
    "Sukurkite datų sąrašą. Šias datas paverskite į tokias teksto eilutes:\n",
    "\n",
    "- `data1 / data2 / data3 / ...`\n",
    "- `data1|data2|data3|...`\n",
    "- `data1__data2__data3__...`\n",
    "- `data1-data2-data3-...`"
   ]
  },
  {
   "cell_type": "code",
   "execution_count": null,
   "metadata": {},
   "outputs": [],
   "source": [
    "# Kodą rašykite čia..."
   ]
  },
  {
   "attachments": {},
   "cell_type": "markdown",
   "metadata": {},
   "source": [
    "### Užduotis 5\n",
    "\n",
    "Sukurkite teksto eilutę, kurioje būtų saugoma studentų informacija (vardai su pavardėmis). Teksto eilutę suformatuokite tokiu būdu: `studentas1, studentas2, studentas3, ...`.\n",
    "\n",
    "Paverskite į sąrašą šią teksto eilutę taip, kad visi studentai būtų kaip kaip atskiri sąrašo elementai."
   ]
  },
  {
   "cell_type": "code",
   "execution_count": null,
   "metadata": {},
   "outputs": [],
   "source": [
    "# Kodą rašykite čia..."
   ]
  },
  {
   "attachments": {},
   "cell_type": "markdown",
   "metadata": {},
   "source": [
    "### Užduotis 6\n",
    "\n",
    "Sukurkite teksto eilutę, kur būtų saugomos datos su laikais, atskirtos vertikaliu brūkšneliu: `data su laiku|data su laiku|data su laiku|...`.\n",
    "\n",
    "Paverskite į sąrašą šią teksto eilutę taip, kad visos datos būtų kaip atskiri sąrašo elementus."
   ]
  },
  {
   "cell_type": "code",
   "execution_count": null,
   "metadata": {},
   "outputs": [],
   "source": [
    "# Kodą rašykite čia..."
   ]
  },
  {
   "attachments": {},
   "cell_type": "markdown",
   "metadata": {},
   "source": [
    "### Užduotis 7\n",
    "\n",
    "Sukurkite tokią teksto eilutę: `Jonas;Jonauskas;21;KTU;8`. Ją paverskite į sąrašą, skaidymui naudodami skirtuką `;`."
   ]
  },
  {
   "cell_type": "code",
   "execution_count": null,
   "metadata": {},
   "outputs": [],
   "source": [
    "# Kodą rašykite čia..."
   ]
  },
  {
   "attachments": {},
   "cell_type": "markdown",
   "metadata": {},
   "source": [
    "### Užduotis 8\n",
    "\n",
    "Sukurkite teksto eilutę, kurioje būtų saugoma savaitės temperatūrų informacija, pvz: `17.5;20.6;21.7;22.9;...`. Šią eilutę paverskite į sąrašą, skaidymui naudodami simbolį `;`. Taip pat, sąraše kiekviena temperatūra turėtų būti saugojama kaip float tipo skaičius."
   ]
  },
  {
   "cell_type": "code",
   "execution_count": null,
   "metadata": {},
   "outputs": [],
   "source": [
    "# Kodą rašykite čia..."
   ]
  }
 ],
 "metadata": {
  "kernelspec": {
   "display_name": "Python 3",
   "language": "python",
   "name": "python3"
  },
  "language_info": {
   "codemirror_mode": {
    "name": "ipython",
    "version": 3
   },
   "file_extension": ".py",
   "mimetype": "text/x-python",
   "name": "python",
   "nbconvert_exporter": "python",
   "pygments_lexer": "ipython3",
   "version": "3.10.10"
  },
  "orig_nbformat": 4,
  "vscode": {
   "interpreter": {
    "hash": "aa11ca274996316222ef16f35c5f6dbeb467b694c0b2154cdf34dcf9271d5fd0"
   }
  }
 },
 "nbformat": 4,
 "nbformat_minor": 2
}
