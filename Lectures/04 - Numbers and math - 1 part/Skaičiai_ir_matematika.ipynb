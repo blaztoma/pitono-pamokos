{
  "cells": [
    {
      "attachments": {},
      "cell_type": "markdown",
      "metadata": {},
      "source": [
        "[![Open In Colab](https://colab.research.google.com/assets/colab-badge.svg)](https://colab.research.google.com/github/blaztoma/pitono-pamokos/blob/main/pamokos/04%20-%20Skaiciai%20ir%20matematika%20-%201%20dalis/Skai%C4%8Diai_ir_matematika.ipynb)"
      ]
    },
    {
      "cell_type": "markdown",
      "metadata": {
        "id": "fT9zEu-PpaTj"
      },
      "source": [
        "# Skaičiai ir matematika"
      ]
    },
    {
      "cell_type": "markdown",
      "metadata": {
        "id": "UZ-9J0p3qg4C"
      },
      "source": [
        "## Pagrindiniai skaičių tipai"
      ]
    },
    {
      "cell_type": "markdown",
      "metadata": {
        "id": "se6yHtk7qn5i"
      },
      "source": [
        "int (integer)      | float (floating point)\n",
        "-------------------|------------------\n",
        "8 | 8.5\n",
        "10 | 10.0\n",
        "-5 | -5.5\n"
      ]
    },
    {
      "attachments": {},
      "cell_type": "markdown",
      "metadata": {
        "id": "OfUty2SDrJxW"
      },
      "source": [
        "Atkreipkite dėmesį į tai, kad norėdami Pitonui parodyti, jog kintamasis yra float tipo, turime skaičių rašyti su kableliu (tašku), net jei jis ir neturi trupmeninės dalies."
      ]
    },
    {
      "cell_type": "markdown",
      "metadata": {
        "id": "D9nsFUx_rmOc"
      },
      "source": [
        "## Matematiniai operatoriai"
      ]
    },
    {
      "attachments": {},
      "cell_type": "markdown",
      "metadata": {
        "id": "dz5jQUIDro9g"
      },
      "source": [
        "Operatorius\t| Pavadinimas |\tPavyzdys | Paaiškinimas\n",
        "------------|-------------|----------|-------------\n",
        "`+` | Sudėtis | `5 + 3` | Sudeda `5` ir `3`\n",
        "`-` | Atimtis | `5 - 3` | Atima `3` iš `5`\n",
        "`*` | Daugyba | `5 * 3` | Sudaugina `5` iš `3`\n",
        "`/` | Dalyba | `5 / 3` | Padalina `5` iš `3`\n",
        "`**` | Laipsnis | `5 ** 3` | Pakelia `5` laipsniu `3`\n",
        "`%` | Liekana | `5 % 3` | Liekana (ats. 2)\n",
        "`//` | Dalyba | `5 // 3` | Sveiko skaičiaus dalyba (ats. 1)  "
      ]
    },
    {
      "cell_type": "markdown",
      "metadata": {
        "id": "Edh2WAuqtPXX"
      },
      "source": [
        "## Pavyzdžiai"
      ]
    },
    {
      "cell_type": "markdown",
      "metadata": {
        "id": "UF3E4roMtrLI"
      },
      "source": [
        "### Skaičių išvedimas"
      ]
    },
    {
      "cell_type": "code",
      "execution_count": 1,
      "metadata": {
        "colab": {
          "base_uri": "https://localhost:8080/"
        },
        "id": "gdGIYoEQtdwz",
        "outputId": "ba862492-2a23-4ca9-fae6-d857fe2054aa"
      },
      "outputs": [
        {
          "name": "stdout",
          "output_type": "stream",
          "text": [
            "12\n",
            "5\n",
            "8.2\n"
          ]
        }
      ],
      "source": [
        "print(12)\n",
        "print(5)\n",
        "print(8.2)"
      ]
    },
    {
      "attachments": {},
      "cell_type": "markdown",
      "metadata": {
        "id": "UcmhNvz7txji"
      },
      "source": [
        "### Paprasčiausios sveikų skaičių operacijos"
      ]
    },
    {
      "cell_type": "code",
      "execution_count": 2,
      "metadata": {
        "colab": {
          "base_uri": "https://localhost:8080/"
        },
        "id": "G5D8ngUet2e4",
        "outputId": "6fb7fe0d-0776-4df5-f2d7-cb5ea3bc8474"
      },
      "outputs": [
        {
          "name": "stdout",
          "output_type": "stream",
          "text": [
            "15\n",
            "8\n",
            "4\n",
            "2.3333333333333335\n"
          ]
        }
      ],
      "source": [
        "print(7 + 8)\n",
        "print(2 * 4)\n",
        "print(5 - 1)\n",
        "print(7 / 3)"
      ]
    },
    {
      "cell_type": "markdown",
      "metadata": {
        "id": "NcyQQwvYuKEx"
      },
      "source": [
        "### Paprasčiausios racionalių skaičių operacijos"
      ]
    },
    {
      "cell_type": "code",
      "execution_count": null,
      "metadata": {
        "id": "qkcsYwBUuPi4"
      },
      "outputs": [],
      "source": [
        "print(5.2 + 1.4)\n",
        "print(8 - 1.5)\n",
        "print(1 / 2)\n",
        "print(1 / 3)"
      ]
    },
    {
      "cell_type": "markdown",
      "metadata": {
        "id": "kbnpHZfGu990"
      },
      "source": [
        "### Kėlimas laipsniu"
      ]
    },
    {
      "cell_type": "code",
      "execution_count": 3,
      "metadata": {
        "colab": {
          "base_uri": "https://localhost:8080/"
        },
        "id": "fxyV2camvBYg",
        "outputId": "ee4cfadf-0618-415f-c9df-e7cf546de5f1"
      },
      "outputs": [
        {
          "name": "stdout",
          "output_type": "stream",
          "text": [
            "8\n",
            "65536\n",
            "7.0\n"
          ]
        }
      ],
      "source": [
        "print(2 ** 3)\n",
        "print(4 ** 8)\n",
        "print(49 ** 0.5)"
      ]
    },
    {
      "attachments": {},
      "cell_type": "markdown",
      "metadata": {
        "id": "RZ0IKhtsvF-W"
      },
      "source": [
        "### Liekanos operacija"
      ]
    },
    {
      "cell_type": "code",
      "execution_count": 4,
      "metadata": {
        "colab": {
          "base_uri": "https://localhost:8080/"
        },
        "id": "xnvPCa1EvTSq",
        "outputId": "bf62e6f4-68e9-4258-8cd7-4410e3d09810"
      },
      "outputs": [
        {
          "name": "stdout",
          "output_type": "stream",
          "text": [
            "1\n",
            "1\n",
            "1\n",
            "0\n",
            "0\n"
          ]
        }
      ],
      "source": [
        "print(10 % 3)\n",
        "print(25 % 4)\n",
        "print(13 % 2)\n",
        "print(16 % 2)\n",
        "print(8 % 2)"
      ]
    },
    {
      "cell_type": "markdown",
      "metadata": {
        "id": "hhVKbqaJvecc"
      },
      "source": [
        "### Dalyba ir sveikoji dalyba"
      ]
    },
    {
      "cell_type": "code",
      "execution_count": null,
      "metadata": {
        "id": "TH5_lIqlvhxq"
      },
      "outputs": [],
      "source": [
        "print(10 / 3)\n",
        "print(10 // 3)\n",
        "print(6 / 7)\n",
        "print(6 // 7)"
      ]
    },
    {
      "cell_type": "markdown",
      "metadata": {
        "id": "2LFnVOutvqmJ"
      },
      "source": [
        "### Veiksmų tvarka"
      ]
    },
    {
      "cell_type": "code",
      "execution_count": 7,
      "metadata": {
        "colab": {
          "base_uri": "https://localhost:8080/"
        },
        "id": "Ewm98w9wvwib",
        "outputId": "93a5eabe-84de-40d7-9f30-575e2ac32c15"
      },
      "outputs": [
        {
          "name": "stdout",
          "output_type": "stream",
          "text": [
            "4.333333333333334\n",
            "5.0\n"
          ]
        }
      ],
      "source": [
        "print(1 + 2 * 5 / 3)\n",
        "print( (1 + 2) * 5 / 3 )"
      ]
    },
    {
      "cell_type": "markdown",
      "metadata": {
        "id": "wjAxkGa5wTcr"
      },
      "source": [
        "### Koks tipas?"
      ]
    },
    {
      "cell_type": "markdown",
      "metadata": {
        "id": "BsgEmyOvwWgz"
      },
      "source": [
        "Norint pamatyti, kokį skaičiaus tipą sugalvos Pitonas, reikia naudoti funkciją `type()`. Pradžioje pamėginkite nuspėti tipą, o po to paleiskite programą."
      ]
    },
    {
      "cell_type": "code",
      "execution_count": 9,
      "metadata": {
        "colab": {
          "base_uri": "https://localhost:8080/"
        },
        "id": "1HrXdWS6whXM",
        "outputId": "4d0982a6-e90f-4f49-f101-f71079d55e78"
      },
      "outputs": [
        {
          "name": "stdout",
          "output_type": "stream",
          "text": [
            "<class 'int'>\n",
            "<class 'float'>\n",
            "<class 'int'>\n",
            "<class 'float'>\n",
            "<class 'int'>\n",
            "<class 'int'>\n",
            "<class 'int'>\n"
          ]
        }
      ],
      "source": [
        "print(type(5))\n",
        "print(type(5.0))\n",
        "print(type(5 * 3))\n",
        "print(type(5 / 3))\n",
        "print(type(5 // 3))\n",
        "print(type(5 ** 3))\n",
        "print(type(5 % 3))"
      ]
    },
    {
      "cell_type": "markdown",
      "metadata": {
        "id": "npaBvuUaxFGj"
      },
      "source": [
        "## Užduotys"
      ]
    },
    {
      "cell_type": "markdown",
      "metadata": {
        "id": "3MfH_q2sxJwt"
      },
      "source": [
        "### Užduotis 1"
      ]
    },
    {
      "cell_type": "markdown",
      "metadata": {
        "id": "oNS0wifTyFzR"
      },
      "source": [
        "Atskirose eilutėse išveskite skaičius `15`, `12`, `-9` ir `5.8`."
      ]
    },
    {
      "cell_type": "code",
      "execution_count": null,
      "metadata": {
        "id": "OXfENMqLyMz0"
      },
      "outputs": [],
      "source": [
        "# Kodą rašykite čia..."
      ]
    },
    {
      "cell_type": "markdown",
      "metadata": {
        "id": "AUFMmIN3xSfj"
      },
      "source": [
        "### Užduotis 2"
      ]
    },
    {
      "cell_type": "markdown",
      "metadata": {
        "id": "RjcQiL27yfGK"
      },
      "source": [
        "Išveskite šių matematinių veiksmų atsakymus:\n",
        "\n",
        "* 78 * 2\n",
        "* 5 + 3\n",
        "* 7 / 2\n",
        "* 85 - 32"
      ]
    },
    {
      "cell_type": "code",
      "execution_count": null,
      "metadata": {
        "id": "3lrnpOF0yRmt"
      },
      "outputs": [],
      "source": [
        "# Kodą rašykite čia..."
      ]
    },
    {
      "cell_type": "markdown",
      "metadata": {
        "id": "TlJ2ybnFxTiP"
      },
      "source": [
        "### Užduotis 3"
      ]
    },
    {
      "cell_type": "markdown",
      "metadata": {
        "id": "IjjShFvFzJzy"
      },
      "source": [
        "Išveskite šių matematinių veiksmų atsakymus:\n",
        "* 5.2 * 3\n",
        "* 9.4 * 0.5\n",
        "* 4.2 / 2"
      ]
    },
    {
      "cell_type": "code",
      "execution_count": null,
      "metadata": {
        "id": "-FE_-j37ySt6"
      },
      "outputs": [],
      "source": [
        "# Kodą rašykite čia..."
      ]
    },
    {
      "cell_type": "markdown",
      "metadata": {
        "id": "3_DBcP_JxUnj"
      },
      "source": [
        "### Užduotis 4"
      ]
    },
    {
      "cell_type": "markdown",
      "metadata": {
        "id": "QCC7HRVLzXbu"
      },
      "source": [
        "Išveskite šių matematinių veiksmų atsakymus:\n",
        "* 7 + 2 * 3\n",
        "* (7 + 2) * 3\n",
        "* 52 + 74 + 32\n",
        "* 87 - 65 + 14\n",
        "* 79 / (5 - 2)"
      ]
    },
    {
      "cell_type": "code",
      "execution_count": null,
      "metadata": {
        "id": "Hom0Zy3ZyTrO"
      },
      "outputs": [],
      "source": [
        "# Kodą rašykite čia..."
      ]
    },
    {
      "cell_type": "markdown",
      "metadata": {
        "id": "sqwO_lMXxWEo"
      },
      "source": [
        "### Užduotis 5"
      ]
    },
    {
      "cell_type": "markdown",
      "metadata": {
        "id": "EQ2qYnxPzfsp"
      },
      "source": [
        "Apskaičiuokite išveskite šiuos atsakymus (naudojant `**` operatorių):\n",
        "* skaičių 2 pakeltą 4-u laipsniu\n",
        "* skaičių 8 pakeltą 3-u laipsniu\n",
        "* skaičių 14 pakeltą 0.5-io laipsnio"
      ]
    },
    {
      "cell_type": "code",
      "execution_count": null,
      "metadata": {
        "id": "GG4z43VbyURv"
      },
      "outputs": [],
      "source": [
        "# Kodą rašykite čia..."
      ]
    },
    {
      "cell_type": "markdown",
      "metadata": {
        "id": "Jo8lL7uhzrWH"
      },
      "source": [
        "### Užduotis 6"
      ]
    },
    {
      "cell_type": "markdown",
      "metadata": {
        "id": "Uq5GYbM80Bdf"
      },
      "source": [
        "Raskite skaičiaus 10 padalinto iš mažesnių skaičių liekanas (naudojant `%` operatorių). Tai yra (10 iš 1, 10 iš 2 ir t.t.)."
      ]
    },
    {
      "cell_type": "code",
      "execution_count": null,
      "metadata": {
        "id": "x1L3gbnczyWC"
      },
      "outputs": [],
      "source": [
        "# Kodą rašykite čia..."
      ]
    },
    {
      "cell_type": "markdown",
      "metadata": {
        "id": "GrwgH04qzskb"
      },
      "source": [
        "### Užduotis 7"
      ]
    },
    {
      "attachments": {},
      "cell_type": "markdown",
      "metadata": {
        "id": "Lb3SW0l90oKE"
      },
      "source": [
        "Atlikite sveiko skaičiaus dalybą (naudojant `//` operatorių) su šiais skaičiais:\n",
        "* 5 iš 2\n",
        "* 6 iš 3\n",
        "* 6 iš 4\n",
        "* 80 iš 3\n",
        "* 45 iš 4\n",
        "* 45 iš 3"
      ]
    },
    {
      "cell_type": "code",
      "execution_count": null,
      "metadata": {
        "id": "I6GYwxNDzzbO"
      },
      "outputs": [],
      "source": [
        "# Kodą rašykite čia..."
      ]
    },
    {
      "cell_type": "markdown",
      "metadata": {
        "id": "BQHF1DmGzt9D"
      },
      "source": [
        "### Užduotis 8"
      ]
    },
    {
      "cell_type": "markdown",
      "metadata": {
        "id": "xb2qrFlX08LH"
      },
      "source": [
        "Išsiaiškinkite duomenų tipus (panaudokite `type()`) šiems atvejams:\n",
        "* jeigu yra skaičius 6\n",
        "* jeigu yra skaičius 2.5\n",
        "* jeigu yra skaičius 157\n",
        "* jeigu yra skaičius -8.2\n",
        "* jeigu yra dalyba 2 iš 5\n",
        "* jeigu yra sudėtis 8 su 9\n",
        "* jeigu yra sudėtis 8.5 su 3"
      ]
    },
    {
      "cell_type": "code",
      "execution_count": null,
      "metadata": {
        "id": "jzfkrnsjz0Mz"
      },
      "outputs": [],
      "source": [
        "# Kodą rašykite čia..."
      ]
    }
  ],
  "metadata": {
    "colab": {
      "provenance": []
    },
    "kernelspec": {
      "display_name": "Python 3",
      "language": "python",
      "name": "python3"
    },
    "language_info": {
      "name": "python",
      "version": "3.7.9 (tags/v3.7.9:13c94747c7, Aug 17 2020, 18:58:18) [MSC v.1900 64 bit (AMD64)]"
    },
    "vscode": {
      "interpreter": {
        "hash": "aa11ca274996316222ef16f35c5f6dbeb467b694c0b2154cdf34dcf9271d5fd0"
      }
    }
  },
  "nbformat": 4,
  "nbformat_minor": 0
}
