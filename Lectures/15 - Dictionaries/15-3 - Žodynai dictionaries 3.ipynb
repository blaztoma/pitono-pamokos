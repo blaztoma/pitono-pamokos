{
 "cells": [
  {
   "attachments": {},
   "cell_type": "markdown",
   "metadata": {},
   "source": [
    "[![Open In Colab](https://colab.research.google.com/assets/colab-badge.svg)](https://colab.research.google.com/github/blaztoma/pitono-pamokos/blob/main/pamokos/15%20-%20%C5%BDodynai%20-%20Dictionaries/15-3%20-%20%C5%BDodynai%20dictionaries%203.ipynb)"
   ]
  },
  {
   "attachments": {},
   "cell_type": "markdown",
   "metadata": {},
   "source": [
    "# Žodynai (`dictionaries`) (3 dalis)"
   ]
  },
  {
   "attachments": {},
   "cell_type": "markdown",
   "metadata": {},
   "source": [
    "## Pavyzdžiai"
   ]
  },
  {
   "cell_type": "code",
   "execution_count": null,
   "metadata": {},
   "outputs": [],
   "source": [
    "prekiu_krepselis = [\n",
    "    {\n",
    "        'pavadinimas': 'pieštukas',\n",
    "        'kaina': 3.99\n",
    "    },\n",
    "    {\n",
    "        'pavadinimas': 'knyga',\n",
    "        'kaina': 14.49\n",
    "    },\n",
    "    {\n",
    "        'pavadinimas': 'pienas',\n",
    "        'kaina': 1.29\n",
    "    }\n",
    "]\n",
    "\n",
    "print(prekiu_krepselis)"
   ]
  },
  {
   "cell_type": "code",
   "execution_count": null,
   "metadata": {},
   "outputs": [],
   "source": [
    "prekes = [\n",
    "    {\n",
    "        'pavadinimas': 'pieštukas',\n",
    "        'kaina': 3.99\n",
    "    },\n",
    "    {\n",
    "        'pavadinimas': 'knyga',\n",
    "        'kaina': 14.49\n",
    "    },\n",
    "    {\n",
    "        'pavadinimas': 'pienas',\n",
    "        'kaina': 1.29\n",
    "    }\n",
    "]\n",
    "\n",
    "print('VISOS PREKĖS\\n', prekes, '\\n----------')\n",
    "print('ANTRA PREKĖ\\n', prekes[1], '\\n----------')\n",
    "print('JOS KAINA\\n', prekes[1]['kaina'])"
   ]
  },
  {
   "cell_type": "code",
   "execution_count": null,
   "metadata": {},
   "outputs": [],
   "source": [
    "knygos = [\n",
    "    { 'pavadinimas': 'apie saulę', 'kaina': 14.00, 'autorius': 'Jonas Jonaitis' },\n",
    "    { 'pavadinimas': 'miškininkas', 'kaina': 29.99, 'autorius': 'Petras Petrauskas' },\n",
    "    { 'pavadinimas': 'mistika abc', 'kaina': 10.90, 'autorius': 'Gintarė Gintarytė' },\n",
    "    { 'pavadinimas': 'smegenų gidas', 'kaina': 25.49, 'autorius': 'Inga Ingutė' },\n",
    "    { 'pavadinimas': 'gyvūninkystė', 'kaina': 12.30, 'autorius': 'Ginčius Ginčiukas' },\n",
    "]\n",
    "\n",
    "for knyga in knygos:\n",
    "    print(knyga)"
   ]
  },
  {
   "cell_type": "code",
   "execution_count": null,
   "metadata": {},
   "outputs": [],
   "source": [
    "knygos = [\n",
    "    dict(pavadinimas = 'apie saulę', kaina = 14.00, autorius = 'Jonas Jonaitis'),\n",
    "    dict(pavadinimas = 'miškininkas', kaina = 29.99, autorius = 'Petras Petrauskas'),\n",
    "    dict(pavadinimas = 'mistika abc', kaina = 10.90, autorius = 'Gintarė Gintarytė'),\n",
    "    dict(pavadinimas = 'smegenų gidas', kaina = 25.49, autorius = 'Inga Ingutė'),\n",
    "    dict(pavadinimas = 'gyvūninkystė', kaina = 12.30, autorius = 'Ginčius Ginčiukas'),\n",
    "]\n",
    "\n",
    "for knyga in knygos:\n",
    "    print(f\"- {knyga['pavadinimas']} ({knyga['autorius']}) kaina {knyga['kaina']} €\")"
   ]
  },
  {
   "cell_type": "code",
   "execution_count": null,
   "metadata": {},
   "outputs": [],
   "source": [
    "knygos = [\n",
    "    { 'pavadinimas': 'apie saulę', 'kaina': 14.00, 'autorius': 'Jonas Jonaitis' },\n",
    "    { 'pavadinimas': 'miškininkas', 'kaina': 29.99, 'autorius': 'Petras Petrauskas' },\n",
    "    { 'pavadinimas': 'mistika abc', 'kaina': 10.90, 'autorius': 'Gintarė Gintarytė' },\n",
    "    { 'pavadinimas': 'smegenų gidas', 'kaina': 25.49, 'autorius': 'Inga Ingutė' },\n",
    "    { 'pavadinimas': 'gyvūninkystė', 'kaina': 12.30, 'autorius': 'Ginčius Ginčiukas' },\n",
    "]\n",
    "\n",
    "kainu_suma = 0\n",
    "\n",
    "print('visos knygos:')\n",
    "\n",
    "for knyga in knygos:\n",
    "    print(f\"- {knyga['pavadinimas']} kaina {knyga['kaina']} eur\")\n",
    "    kainu_suma += knyga['kaina']\n",
    "\n",
    "print('knygų kiekis:', len(knygos))\n",
    "print('bendra suma:' , kainu_suma, 'eur')\n",
    "print('bendra suma:' , round(kainu_suma, 2), 'eur')"
   ]
  },
  {
   "cell_type": "code",
   "execution_count": null,
   "metadata": {},
   "outputs": [],
   "source": [
    "studentai = [\n",
    "    dict( vardas = 'Jonas', pazymiai = [8, 7, 8, 9, 6, 8] ),\n",
    "    dict( vardas = 'Tomas', pazymiai = [10, 10, 9, 10, 9, 10] ),\n",
    "    dict( vardas = 'Ugnė', pazymiai = [9, 10, 9, 8] ),\n",
    "]\n",
    "\n",
    "for studentas in studentai:\n",
    "    print('studentas(-ė):', studentas['vardas'])\n",
    "    suma = 0\n",
    "    for paz in studentas['pazymiai']:\n",
    "        suma += paz\n",
    "    vidurkis = round(suma / len(studentas['pazymiai']))\n",
    "    print('jos/jo pažymių vidurkis:', vidurkis)\n",
    "    print()"
   ]
  },
  {
   "cell_type": "code",
   "execution_count": null,
   "metadata": {},
   "outputs": [],
   "source": [
    "studentai = [\n",
    "    dict( vardas = 'Jonas', pazymiai = [8, 7, 8, 9, 6, 8] ),\n",
    "    dict( vardas = 'Tomas', pazymiai = [10, 10, 9, 10, 9, 10] ),\n",
    "    dict( vardas = 'Ugnė', pazymiai = [9, 10, 9, 8] ),\n",
    "]\n",
    "\n",
    "for studentas in studentai:\n",
    "    print('studentas(-ė):', studentas['vardas'])\n",
    "    suma = sum(studentas['pazymiai'])\n",
    "    pazymiu_kiekis = len(studentas['pazymiai'])\n",
    "    vidurkis = round(suma / pazymiu_kiekis)\n",
    "    print('jos/jo pažymių vidurkis:', vidurkis)\n",
    "    print()"
   ]
  },
  {
   "cell_type": "code",
   "execution_count": null,
   "metadata": {},
   "outputs": [],
   "source": [
    "studentai = [\n",
    "    dict( vardas = 'Jonas', pazymiai = [8, 7, 8, 9, 6, 8] ),\n",
    "    dict( vardas = 'Tomas', pazymiai = [10, 10, 9, 10, 9, 10] ),\n",
    "    dict( vardas = 'Ugnė', pazymiai = [9, 10, 9, 8] ),\n",
    "]\n",
    "\n",
    "didz_vidurk_stud = studentai[0]\n",
    "didz_vidurkis = 0\n",
    "\n",
    "for studentas in studentai:\n",
    "    # pazymiu sumos paieska\n",
    "    suma = 0\n",
    "    for pazymys in studentas['pazymiai']:\n",
    "        suma += pazymys\n",
    "   \n",
    "    # pazymiu vidurkio skaiciavimas\n",
    "    vidurkis = round(suma / len(studentas['pazymiai']))\n",
    "\n",
    "    # patikrinimas ar sitas vidurkis didesnis uz\n",
    "    # iki dabar zinoma didziausia vidurki\n",
    "    if vidurkis > didz_vidurkis:\n",
    "        didz_vidurk_stud = studentas\n",
    "        didz_vidurkis = vidurkis\n",
    "\n",
    "print('studentas su didžiausiu vidurkiu:')\n",
    "print(didz_vidurk_stud)"
   ]
  },
  {
   "cell_type": "code",
   "execution_count": null,
   "metadata": {},
   "outputs": [],
   "source": [
    "studentai = [\n",
    "    dict( vardas = 'Jonas', pazymiai = [8, 7, 8, 9, 6, 8] ),\n",
    "    dict( vardas = 'Tomas', pazymiai = [10, 10, 9, 10, 9, 10] ),\n",
    "    dict( vardas = 'Ugnė', pazymiai = [9, 10, 9, 8] ),\n",
    "]\n",
    "\n",
    "for studentas in studentai:\n",
    "    suma = sum(studentas['pazymiai'])\n",
    "    studentas['vidurkis'] = round(suma / len(studentas['pazymiai']))\n",
    "   \n",
    "print(studentai)\n",
    "print()\n",
    "\n",
    "didz_vid_studentas = studentai[0]\n",
    "\n",
    "for studentas in studentai:\n",
    "    if studentas['vidurkis'] > didz_vid_studentas['vidurkis']:\n",
    "        didz_vid_studentas = studentas\n",
    "\n",
    "print('Studentas(-ė) su didžiausiu vidurkiu:')\n",
    "print(didz_vid_studentas)"
   ]
  },
  {
   "attachments": {},
   "cell_type": "markdown",
   "metadata": {},
   "source": [
    "## Užduotys"
   ]
  },
  {
   "attachments": {},
   "cell_type": "markdown",
   "metadata": {},
   "source": [
    "### Užduotis 1\n",
    "\n",
    "Susikurkite sąrašą, kuriame būtų saugomos skirtingos knygos (kaip žodynai). Apie kiekvieną knygą į atskirus knygų žodynus sudėkite norimą informaciją (bent 3 savybes). Į sąrašą įdėkite bent 3 knygas. Visas šias knygas išsiveskite. Tuomet parodykite pirmą knygą. Antros knygos kažkurią savybę."
   ]
  },
  {
   "cell_type": "code",
   "execution_count": null,
   "metadata": {},
   "outputs": [],
   "source": [
    "# Kodą rašykite čia..."
   ]
  },
  {
   "attachments": {},
   "cell_type": "markdown",
   "metadata": {},
   "source": [
    "### Užduotis 2\n",
    "\n",
    "Susikurkite sąrašą, kuriame būtų keletas prekių (kaip žodynai) ir jį užpildykite pasirinktais duomenimis. Išveskite visų prekių pavadinimus su kainomis ir dar kokiais nors atributais atskirose eilutėse."
   ]
  },
  {
   "cell_type": "code",
   "execution_count": null,
   "metadata": {},
   "outputs": [],
   "source": [
    "# Kodą rašykite čia..."
   ]
  },
  {
   "attachments": {},
   "cell_type": "markdown",
   "metadata": {},
   "source": [
    "### Užduotis 3\n",
    "\n",
    "Susikurkite sąrašą, kuriame būtų saugoma informacija apie keletą automobilių (kaip žodynai) ir užpildykite jį pasirinktais duomenimis. Išveskite kiekvieno automobilio pavadinimą, metus ir paskaičiuotą jo amžių (dabartiniai metai - gamybos metai)."
   ]
  },
  {
   "cell_type": "code",
   "execution_count": null,
   "metadata": {},
   "outputs": [],
   "source": [
    "# Kodą rašykite čia..."
   ]
  },
  {
   "attachments": {},
   "cell_type": "markdown",
   "metadata": {},
   "source": [
    "### Užduotis 4\n",
    "\n",
    "Susikurkite sąrašą, kuriame būtų saugoma keleto įmonių duomenys (kaip žodynai) ir jį užpildykite duomenimis. Išveskite kiekvienos įmonės informaciją atskirose eilutėse, gražiai suformatuotai (sakinio pavidalu ar pan.). Taip pat, ką nors paskaičiuokite iš turimų skaitinių duomenų (pvz.: vidutinis įmonės amžius, darbuotojų kiekis per visas įmones, bendras pelnas, ar pan.)."
   ]
  },
  {
   "cell_type": "code",
   "execution_count": null,
   "metadata": {},
   "outputs": [],
   "source": [
    "# Kodą rašykite čia..."
   ]
  },
  {
   "attachments": {},
   "cell_type": "markdown",
   "metadata": {},
   "source": [
    "### Užduotis 5\n",
    "\n",
    "Susikurkite sąrašą, kuriame būtų saugoma informacija apie skirtingas ligonines (kaip žodynai) ir užpildykite jį pasirinktais duomenimis. Išveskite ligoninių pavadinimus su adresais skirtingose eilutėse. Suskaičiuokite ką nors iš skaitinių jų duomenų, pvz.: bendrą lankytojų kiekį, bendrą ar vidutinį darbuotojų kiekį, ar pan."
   ]
  },
  {
   "cell_type": "code",
   "execution_count": null,
   "metadata": {},
   "outputs": [],
   "source": [
    "# Kodą rašykite čia..."
   ]
  },
  {
   "attachments": {},
   "cell_type": "markdown",
   "metadata": {},
   "source": [
    "### Užduotis 6\n",
    "\n",
    "Susikurkite sąrašą, kuriame būtų saugoma informacija apie keletą studentų (kaip žodynai), kur apie kiekvieną studentą būtų žinoma ši informacija: vardas ir pavardė, amžius, pažymiai, studijų programa, kursas. Kiekvieną studentą išveskite taip: pirmoje eilutėje visi studento duomenys išskyrus jo pažymius, antroje eilutėje jo pažymiai, trečioje jo pažymių vidurkis su prierašu 'pažymių vidurkis'. Išvedus visus studentus dėkite brūkšnį (pvz.: -----) ir išveskite bendrą visų studentų pažymių vidurkį."
   ]
  },
  {
   "cell_type": "code",
   "execution_count": null,
   "metadata": {},
   "outputs": [],
   "source": [
    "# Kodą rašykite čia..."
   ]
  },
  {
   "attachments": {},
   "cell_type": "markdown",
   "metadata": {},
   "source": [
    "### Užduotis 7\n",
    "\n",
    "Susikurkite parduotuvės žodyną, kuriame būtų ši informacija: pavadinimas, adresas, darbuotojų kiekis, prekių sąrašas (kiekviena prekė kaip žodynas). Apie kiekvieną prekę parduotuvėje žinoma ši informacija: pavadinimas; kodas; kaina; savikaina; turimas kiekis. Išveskite parduotuvės bendrą informaciją, tuomet užrašą \"prekės\" ir atskirose eilutėse turimas prekes su kuria nors jų informacija (pvz.: pavadinimai, kainos ir turimi kiekiai). Galiausiai paskaičiuokite kiek iš viso parduotuvė turi visų prekių (sudėkite jų kiekius). Raskite ir išveskite kurios prekės turima daugiausiai, o kurios mažiausiai."
   ]
  },
  {
   "cell_type": "code",
   "execution_count": null,
   "metadata": {},
   "outputs": [],
   "source": [
    "# Kodą rašykite čia..."
   ]
  },
  {
   "attachments": {},
   "cell_type": "markdown",
   "metadata": {},
   "source": [
    "### Užduotis 8\n",
    "\n",
    "Sukurkite norimą sąrašą iš žodynų su norimais duomenimis. Atlikite išvedimus ir pasirinktus skaičiavimus."
   ]
  },
  {
   "cell_type": "code",
   "execution_count": null,
   "metadata": {},
   "outputs": [],
   "source": [
    "# Kodą rašykite čia..."
   ]
  }
 ],
 "metadata": {
  "kernelspec": {
   "display_name": "Python 3",
   "language": "python",
   "name": "python3"
  },
  "language_info": {
   "codemirror_mode": {
    "name": "ipython",
    "version": 3
   },
   "file_extension": ".py",
   "mimetype": "text/x-python",
   "name": "python",
   "nbconvert_exporter": "python",
   "pygments_lexer": "ipython3",
   "version": "3.7.9 (tags/v3.7.9:13c94747c7, Aug 17 2020, 18:58:18) [MSC v.1900 64 bit (AMD64)]"
  },
  "orig_nbformat": 4,
  "vscode": {
   "interpreter": {
    "hash": "aa11ca274996316222ef16f35c5f6dbeb467b694c0b2154cdf34dcf9271d5fd0"
   }
  }
 },
 "nbformat": 4,
 "nbformat_minor": 2
}
