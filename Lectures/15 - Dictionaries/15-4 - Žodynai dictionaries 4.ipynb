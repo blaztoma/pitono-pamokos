{
 "cells": [
  {
   "attachments": {},
   "cell_type": "markdown",
   "metadata": {},
   "source": [
    "[![Open In Colab](https://colab.research.google.com/assets/colab-badge.svg)](https://colab.research.google.com/github/blaztoma/pitono-pamokos/blob/main/pamokos/15%20-%20%C5%BDodynai%20-%20Dictionaries/15-4%20-%20%C5%BDodynai%20dictionaries%204.ipynb)"
   ]
  },
  {
   "attachments": {},
   "cell_type": "markdown",
   "metadata": {},
   "source": [
    "# Žodynai (`dictionaries`) (4 dalis)"
   ]
  },
  {
   "attachments": {},
   "cell_type": "markdown",
   "metadata": {},
   "source": [
    "## Pavyzdžiai"
   ]
  },
  {
   "cell_type": "code",
   "execution_count": null,
   "metadata": {},
   "outputs": [],
   "source": [
    "studentas = {\n",
    "    'vardas': 'Petras',\n",
    "    'kursas': 2\n",
    "}\n",
    "\n",
    "print(studentas)\n",
    "\n",
    "studentas.clear()\n",
    "print(studentas)"
   ]
  },
  {
   "cell_type": "code",
   "execution_count": null,
   "metadata": {},
   "outputs": [],
   "source": [
    "studentas = {\n",
    "    'vardas': 'Petras',\n",
    "    'kursas': 2\n",
    "}\n",
    "\n",
    "kopija = studentas.copy()\n",
    "\n",
    "print(studentas)\n",
    "print(kopija)\n",
    "\n",
    "print(studentas == kopija) # rodo ar reikšmės sutampa\n",
    "print(studentas is kopija) # rodo ar žiūri į ten pat atmintyje"
   ]
  },
  {
   "cell_type": "code",
   "execution_count": null,
   "metadata": {},
   "outputs": [],
   "source": [
    "studentas = {\n",
    "    'vardas': 'Petras',\n",
    "    'kursas': 2\n",
    "}\n",
    "\n",
    "kopija = studentas.copy()\n",
    "\n",
    "studentas['vardas'] = 'Tomas'\n",
    "kopija['kursas'] = 3\n",
    "\n",
    "print('studentas', studentas)\n",
    "print('kopija', kopija)"
   ]
  },
  {
   "cell_type": "code",
   "execution_count": null,
   "metadata": {},
   "outputs": [],
   "source": [
    "print( {}.fromkeys('a', 'b') )\n",
    "print( {}.fromkeys(['email'], 'unknown') )\n",
    "print( {}.fromkeys('a', [1, 2, 3, 4, 5]) )"
   ]
  },
  {
   "cell_type": "code",
   "execution_count": null,
   "metadata": {},
   "outputs": [],
   "source": [
    "new_user = {}.fromkeys(['name', 'score', 'email', 'profile_bio'], None)\n",
    "print(new_user)"
   ]
  },
  {
   "cell_type": "code",
   "execution_count": null,
   "metadata": {},
   "outputs": [],
   "source": [
    "new_user = dict.fromkeys(['name', 'score', 'email', 'profile_bio'], 'unknown')\n",
    "print(new_user)"
   ]
  },
  {
   "cell_type": "code",
   "execution_count": null,
   "metadata": {},
   "outputs": [],
   "source": [
    "studentas = dict(\n",
    "    vardas = 'Tomas',\n",
    "    pavarde = 'Tomauskas',\n",
    "    amzius = 23,\n",
    "    ugis = 1.7,\n",
    "    pazymiai = [7, 7, 2, 3, 9, 8, 10, 9],\n",
    "    grupe = 'IFM-3/4'\n",
    ")\n",
    "\n",
    "print(studentas)\n",
    "print()\n",
    "\n",
    "# studentas.pop() # klaida\n",
    "\n",
    "studentas.pop('ugis')\n",
    "studentas.pop('amzius')\n",
    "print(studentas)"
   ]
  },
  {
   "cell_type": "code",
   "execution_count": null,
   "metadata": {},
   "outputs": [],
   "source": [
    "studentas = dict(\n",
    "    vardas = 'Tomas',\n",
    "    pavarde = 'Tomauskas',\n",
    "    amzius = 23,\n",
    "    ugis = 1.7,\n",
    "    pazymiai = [7, 7, 2, 3, 9, 8, 10, 9],\n",
    "    grupe = 'IFM-3/4'\n",
    ")\n",
    "\n",
    "print(studentas)\n",
    "print()\n",
    "\n",
    "studentas.popitem()\n",
    "studentas.popitem()\n",
    "studentas.popitem()\n",
    "\n",
    "print(studentas)"
   ]
  },
  {
   "cell_type": "code",
   "execution_count": null,
   "metadata": {},
   "outputs": [],
   "source": [
    "studentas = dict(\n",
    "    vardas = 'Tomas',\n",
    "    pavarde = 'Tomauskas',\n",
    "    amzius = 23,\n",
    "    ugis = 1.7,\n",
    "    pazymiai = [7, 7, 2, 3, 9, 8, 10, 9],\n",
    "    grupe = 'IFM-3/4'\n",
    ")\n",
    "\n",
    "kitas = {}\n",
    "\n",
    "kitas.update(studentas)\n",
    "\n",
    "print(studentas)\n",
    "print(kitas)\n",
    "print()\n",
    "\n",
    "kitas['amzius'] = 24\n",
    "kitas.update(studentas)\n",
    "\n",
    "print(studentas)\n",
    "print(kitas)"
   ]
  },
  {
   "cell_type": "code",
   "execution_count": null,
   "metadata": {},
   "outputs": [],
   "source": [
    "studentas = dict(\n",
    "    vardas = 'Tomas',\n",
    "    pavarde = 'Tomauskas',\n",
    "    amzius = 23,\n",
    "    ugis = 1.7,\n",
    "    pazymiai = [7, 7, 2, 3, 9, 8, 10, 9],\n",
    "    grupe = 'IFM-3/4'\n",
    ")\n",
    "\n",
    "kitas = { 'miestas': 'Kaunas' }\n",
    "\n",
    "kitas.update(studentas)\n",
    "\n",
    "print(studentas)\n",
    "print(kitas)"
   ]
  },
  {
   "cell_type": "code",
   "execution_count": null,
   "metadata": {},
   "outputs": [],
   "source": [
    "pirmas = {}\n",
    "antras = { 'amzius': 18 }\n",
    "\n",
    "# update tik atnaujina raktus ir prideda trukstamus,\n",
    "# taciau nieko netrina\n",
    "\n",
    "antras.update(pirmas)\n",
    "\n",
    "print(pirmas)\n",
    "print(antras)"
   ]
  },
  {
   "attachments": {},
   "cell_type": "markdown",
   "metadata": {},
   "source": [
    "## Užduotys"
   ]
  },
  {
   "attachments": {},
   "cell_type": "markdown",
   "metadata": {},
   "source": [
    "### Užduotis 1\n",
    "\n",
    "Susikurkite vieną ar kelis objektus ir išmėginkite visus prieš tai pamatytus `dictionary` metodus (`clear`, `copy`, `update`, `fromkeys`, `pop`, ...)."
   ]
  },
  {
   "cell_type": "code",
   "execution_count": null,
   "metadata": {},
   "outputs": [],
   "source": [
    "# Kodą rašykite čia..."
   ]
  }
 ],
 "metadata": {
  "kernelspec": {
   "display_name": "Python 3",
   "language": "python",
   "name": "python3"
  },
  "language_info": {
   "codemirror_mode": {
    "name": "ipython",
    "version": 3
   },
   "file_extension": ".py",
   "mimetype": "text/x-python",
   "name": "python",
   "nbconvert_exporter": "python",
   "pygments_lexer": "ipython3",
   "version": "3.7.9 (tags/v3.7.9:13c94747c7, Aug 17 2020, 18:58:18) [MSC v.1900 64 bit (AMD64)]"
  },
  "orig_nbformat": 4,
  "vscode": {
   "interpreter": {
    "hash": "aa11ca274996316222ef16f35c5f6dbeb467b694c0b2154cdf34dcf9271d5fd0"
   }
  }
 },
 "nbformat": 4,
 "nbformat_minor": 2
}
