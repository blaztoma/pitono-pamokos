{
 "cells": [
  {
   "attachments": {},
   "cell_type": "markdown",
   "metadata": {},
   "source": [
    "[![Open In Colab](https://colab.research.google.com/assets/colab-badge.svg)](https://colab.research.google.com/github/blaztoma/pitono-pamokos/blob/main/pamokos/15%20-%20%C5%BDodynai%20-%20Dictionaries/15-1%20-%20%C5%BDodynai%20dictionaries%201.ipynb)"
   ]
  },
  {
   "attachments": {},
   "cell_type": "markdown",
   "metadata": {},
   "source": [
    "# Žodynai (`dictionaries`) (1 dalis)"
   ]
  },
  {
   "attachments": {},
   "cell_type": "markdown",
   "metadata": {},
   "source": [
    "## Apie žodynus (`dictionaries`)\n",
    "\n",
    "- Žodynai (`dictionaries`) yra skirti susijusių duomenų sugrupavimui.\n",
    "- Tačiau kitaip nei sąrašai (`lists`), žodynai (`dictionaries`) labiau tinkami grupuoti tos pačios esybės duomenims, pvz, studento duomenims (vardas, pavardė, kursas, amžius, grupė, ...), automobilio duomenims (markė, modelis, metai, rida), ir t.t.\n",
    "- Kuriant žodyną, reikia nurodyti esybės savybes ir tų savybių reikšmes, pvz esybė vardas, o reikšmė - Petras, arba savybė - amžius, o reikšmė - 25.\n",
    "- Savybių pavadinimai viename žodyne negali kartotis, t.y., negali būti dviejų savybių su pavadinimu \"vardas\".\n",
    "- Kitas būdas įsivaizduoti žodyną, tai jį galime įsivaizduoti kaip sąrašą, tačiau su elementų indeksavimu, kurį susikuriame patys, o ne parengiamą automatiškai."
   ]
  },
  {
   "attachments": {},
   "cell_type": "markdown",
   "metadata": {},
   "source": [
    "## Sintaksė\n",
    "\n",
    "1-as variantas:\n",
    "\n",
    "```\n",
    "dict_pavadinimas = {\n",
    "    'savybė1': 'savybės reikšmė',\n",
    "    'savybė2': 'savybės reikšmė',\n",
    "    'savybė3': 'savybės reikšmė'\n",
    "}\n",
    "```\n",
    "\n",
    "2-as variantas:\n",
    "\n",
    "```\n",
    "dict_pavadinimas = dict(\n",
    "    savybė1 = 'savybės reikšmė',\n",
    "    savybė2 = 'savybės reikšmė',\n",
    "    savybė3 = 'savybės reikšmė'\n",
    ")\n",
    "```"
   ]
  },
  {
   "attachments": {},
   "cell_type": "markdown",
   "metadata": {},
   "source": [
    "## Pavyzdžiai"
   ]
  },
  {
   "cell_type": "code",
   "execution_count": null,
   "metadata": {},
   "outputs": [],
   "source": [
    "marke = 'audi'\n",
    "modelis = 'a4'\n",
    "metai = 2015\n",
    "rida = 197840\n",
    "\n",
    "print(marke, modelis, metai, rida)"
   ]
  },
  {
   "cell_type": "code",
   "execution_count": null,
   "metadata": {},
   "outputs": [],
   "source": [
    "automobilis = {\n",
    "    \"marke\": \"audi\",\n",
    "    \"modelis\": \"a4\",\n",
    "    \"metai\": 2015,\n",
    "    \"rida\": 197840\n",
    "}\n",
    "\n",
    "print(automobilis)"
   ]
  },
  {
   "cell_type": "code",
   "execution_count": null,
   "metadata": {},
   "outputs": [],
   "source": [
    "automobilis = dict(marke='audi', modelis='a4', metai=2015, rida=197840)\n",
    "print(automobilis)"
   ]
  },
  {
   "cell_type": "code",
   "execution_count": null,
   "metadata": {},
   "outputs": [],
   "source": [
    "skersmuo = 1\n",
    "x = 3\n",
    "y = 5\n",
    "\n",
    "print(skersmuo, x, y)"
   ]
  },
  {
   "cell_type": "code",
   "execution_count": null,
   "metadata": {},
   "outputs": [],
   "source": [
    "apskritimas = {\n",
    "    'skersmuo': 1,\n",
    "    'lokacija': {\n",
    "        'x': 3,\n",
    "        'y': 5,\n",
    "    },\n",
    "    'matomas': True\n",
    "}\n",
    "\n",
    "print(apskritimas)"
   ]
  },
  {
   "cell_type": "code",
   "execution_count": null,
   "metadata": {},
   "outputs": [],
   "source": [
    "pirmo_stud_vard = 'Tomas'\n",
    "pirmo_stud_mok = 'KTU'\n",
    "\n",
    "antro_stud_vard = 'Gintarė'\n",
    "antro_stud_mok = 'VDU'\n",
    "\n",
    "print(pirmo_stud_vard, pirmo_stud_mok)\n",
    "print(antro_stud_vard, antro_stud_mok)"
   ]
  },
  {
   "cell_type": "code",
   "execution_count": null,
   "metadata": {},
   "outputs": [],
   "source": [
    "studentas1 = {\n",
    "    'vardas': 'Tomas',\n",
    "    'mokykla': 'KTU'\n",
    "}\n",
    "\n",
    "studentas2 = {\n",
    "    'vardas': 'Gintarė',\n",
    "    'mokykla': 'VDU'\n",
    "}\n",
    "\n",
    "print(studentas1)\n",
    "print(studentas2)"
   ]
  },
  {
   "cell_type": "code",
   "execution_count": null,
   "metadata": {},
   "outputs": [],
   "source": [
    "studentas1 = dict(vardas = 'Tomas', mokykla = 'KTU')\n",
    "studentas2 = dict(vardas = 'Gintarė', mokykla = 'VDU')\n",
    "\n",
    "print(studentas1)\n",
    "print(studentas2)"
   ]
  },
  {
   "cell_type": "code",
   "execution_count": null,
   "metadata": {},
   "outputs": [],
   "source": [
    "studentas = dict(\n",
    "    vardas = \"Tomas\",\n",
    "    pavarde = \"Tomauskas\",\n",
    "    amzius = 21,\n",
    "    kursas = 3,\n",
    "    mokykla = \"KTU\",\n",
    "    ugis = 1.9,\n",
    "    pazymiai = [8, 7, 9, 10]\n",
    ")\n",
    "\n",
    "print(studentas)"
   ]
  },
  {
   "cell_type": "code",
   "execution_count": null,
   "metadata": {},
   "outputs": [],
   "source": [
    "studentas = {\n",
    "    'vardas': \"Tomas\",\n",
    "    'pavarde': \"Tomauskas\",\n",
    "    'amzius': 21,\n",
    "    'kursas': 3,\n",
    "    'mokykla': \"KTU\",\n",
    "    'ugis': 1.9,\n",
    "    'pazymiai': [8, 7, 9, 10]\n",
    "}\n",
    "\n",
    "print(studentas)"
   ]
  },
  {
   "cell_type": "code",
   "execution_count": null,
   "metadata": {},
   "outputs": [],
   "source": [
    "studiju_programa = {\n",
    "    'pavadinimas': 'Programų sistemų inžinerija',\n",
    "    'mokykla': 'KTU',\n",
    "    'laipsnis': 'Magistras',\n",
    "    'trukme_metais': 2,\n",
    "    'studentai': {\n",
    "        'kursas1': 14,\n",
    "        'kursas2': 12\n",
    "    }\n",
    "}\n",
    "\n",
    "print(studiju_programa)"
   ]
  },
  {
   "cell_type": "code",
   "execution_count": null,
   "metadata": {},
   "outputs": [],
   "source": [
    "studentas = {\n",
    "    'vardas': 'Petras',\n",
    "    'pavarde': 'Petrauskas',\n",
    "    'amzius': 22,\n",
    "    'kur_mokosi': {\n",
    "        'mokykla': 'KTU',\n",
    "        'studiju_programa': 'Multimedijos technologijos',\n",
    "        'kursas': 3\n",
    "    },\n",
    "    'pazymiai': [7, 8, 9, 6, 8, 5, 4]\n",
    "}\n",
    "\n",
    "print(studentas)"
   ]
  },
  {
   "cell_type": "code",
   "execution_count": null,
   "metadata": {},
   "outputs": [],
   "source": [
    "print('Studentas:', studentas)\n",
    "print('Duomenų tipas:', type(studentas))\n",
    "print('Vardas:', studentas['vardas'])\n",
    "print('Amžius:', studentas['amzius'])\n",
    "print('Kur mokosi:', studentas['kur_mokosi'])\n",
    "print('Kursas:', studentas['kur_mokosi']['kursas'])\n",
    "print('Pažymiai:', studentas['pazymiai'])\n",
    "print('Kažkuris pažymys:', studentas['pazymiai'][2])"
   ]
  },
  {
   "cell_type": "code",
   "execution_count": null,
   "metadata": {},
   "outputs": [],
   "source": [
    "knyga = {\n",
    "    'autorius': 'Jey k rauling',\n",
    "    'pavadinimas': 'toks ir anoks pasaulis',\n",
    "    'puslapiai': 245,\n",
    "    'kaina': 14.99,\n",
    "    'ar_prekyboje': True,\n",
    "}\n",
    "\n",
    "print(knyga['autorius'])\n",
    "print(knyga.get('autorius'))\n",
    "\n",
    "print(knyga['puslapiai'])\n",
    "print(knyga.get('puslapiai'))"
   ]
  },
  {
   "cell_type": "code",
   "execution_count": null,
   "metadata": {},
   "outputs": [],
   "source": [
    "darbuotojas = {\n",
    "    'vardas': 'Petras',\n",
    "    'pavarde': 'Petrauskas',\n",
    "    'etatas': 1,\n",
    "    'pareigos': 'kelių patrulis',\n",
    "    'atlyginimas': 1000\n",
    "}\n",
    "\n",
    "print(darbuotojas)\n",
    "\n",
    "darbuotojas['pareigos'] = 'skyriaus vadovas'\n",
    "darbuotojas['atlyginimas'] = 1200\n",
    "\n",
    "print(darbuotojas)"
   ]
  },
  {
   "cell_type": "code",
   "execution_count": null,
   "metadata": {},
   "outputs": [],
   "source": [
    "preke1 = dict(\n",
    "    pavadinimas = 'pieštukas',\n",
    "    kaina = 1.99,\n",
    "    kiekis = 175\n",
    ")\n",
    "\n",
    "preke2 = dict(\n",
    "    pavadinimas = 'sąsiuvinys',\n",
    "    kaina = 1.49,\n",
    "    kiekis = 241\n",
    ")\n",
    "\n",
    "print('pirma prekė:', preke1)\n",
    "print('antra prekė:', preke2)\n",
    "\n",
    "if preke1['kiekis'] > preke2['kiekis']:\n",
    "    print('pirmos prekės daugiau vienetų')\n",
    "elif preke2['kiekis'] > preke1['kiekis']:\n",
    "    print('antros prekės daugiau vienetų')\n",
    "else:\n",
    "    print('abiejų prekių vienodai')"
   ]
  },
  {
   "cell_type": "code",
   "execution_count": null,
   "metadata": {},
   "outputs": [],
   "source": [
    "tuscias = {}\n",
    "\n",
    "print(tuscias)\n",
    "\n",
    "tuscias['nauja'] = 14\n",
    "tuscias['dar_viena'] = \"abc\"\n",
    "\n",
    "print(tuscias)"
   ]
  },
  {
   "attachments": {},
   "cell_type": "markdown",
   "metadata": {},
   "source": [
    "## Užduotys"
   ]
  },
  {
   "attachments": {},
   "cell_type": "markdown",
   "metadata": {},
   "source": [
    "### Užduotis 1\n",
    "\n",
    "Sukurkite žodyną studento duomenims saugoti. Į šį žodyną sudėkite tokias savybes su reikšmėmis: vardas, pavardė, amžius, studijų programa, atsiskaitytų kreditų skaičius, pažymiai, ūgis, kelintame kurse mokosi, kurioje mokykloje mokosi. Šiuos duomenis galite grupuoti į vidinius žodynus arba visus išrašyti atskirai. Išveskite šią informaciją per vieną `print()`. Taip pat, pamėginkite išvesti atskirose eilutėse tris skirtingas pasirinktas savybes."
   ]
  },
  {
   "cell_type": "code",
   "execution_count": null,
   "metadata": {},
   "outputs": [],
   "source": [
    "# Kodą rašykite čia..."
   ]
  },
  {
   "attachments": {},
   "cell_type": "markdown",
   "metadata": {},
   "source": [
    "### Užduotis 2\n",
    "\n",
    "Sukurkite žodyną informacijai apie filmą saugoti. Į šį žodyną sudėkite tokias savybes su reikšmėmis: pavadinimas, režisierius, biudžetas, kiek uždirbo pinigų po išleidimo, žanras, trukmė, išleidimo metai, aktorių sąrašas (sąrašas su jų vardais ir pavardėmis). Išveskite šio žodyno informaciją. Paskaičiuokite ir išveskite šio filmo pelną (uždarbis - biudžetas). Išveskite kiek filme dalyvavo aktorių (jų kiekis). Paskaičiuokite kiek filmui yra metų (dabartinius metus tiesiog galite įrašyti rankomis arba panaudoti `datetime.date.today().year` funkciją, pačiame failo viršuje reikės nurodyti `import datetime`)."
   ]
  },
  {
   "cell_type": "code",
   "execution_count": null,
   "metadata": {},
   "outputs": [],
   "source": [
    "# Kodą rašykite čia..."
   ]
  },
  {
   "attachments": {},
   "cell_type": "markdown",
   "metadata": {},
   "source": [
    "### Užduotis 3\n",
    "\n",
    "Sukurkite du žodynus dviejų knygų informacijai saugoti. Kiekviename žodyne nurodykite tokias savybes su reikšmėmis: pavadinimas, autorius, žanras, kaina, puslapių kiekis, skyrių sąrašas (sąrašas su pavadinimais), išleidimo metai, ar knygą galima rasti knygynuose. Išveskite šių knygų informaciją. Išveskite kuri knyga plonesnė (turi mažiau puslapių), bei kurioje knygoje yra daugiau skyrių. Paskaičiuokite, jeigu pigesnės knygos kainą padvigintumėte, ar ji jau būtų brangesnė už kitą knygą?"
   ]
  },
  {
   "cell_type": "code",
   "execution_count": null,
   "metadata": {},
   "outputs": [],
   "source": [
    "# Kodą rašykite čia..."
   ]
  },
  {
   "attachments": {},
   "cell_type": "markdown",
   "metadata": {},
   "source": [
    "### Užduotis 4\n",
    "\n",
    "Sukurkite tris žodynus prekių duomenims saugoti. Kiekviename žodyne sudėkite šias savybes su reikšmėmis: pavadinimas, kaina, savikaina, kodas, turimas kiekis sandėlyje, siuntimui dėžės matmenys (x, y, z ašys). Išveskite visų trijų prekių informaciją. Išveskite visų prekių kainas vienoje eilutėje (pirma prekė kainuoja - ..., antra prekė kainuoja - ..., ir t.t.). Raskite ir išveskite kuri prekė yra brangiausia (jos pavadinimą ir kainą arba visą rastos prekės informaciją). Raskite ir išveskite atskirose eilutėse kiekvienos prekės dėžės tūrį. Raskite ir išveskite atskirose eilutėse kiekvienos prekės pelningumą (`(kaina - savikaina) * kiekis sandėlyje`)."
   ]
  },
  {
   "cell_type": "code",
   "execution_count": null,
   "metadata": {},
   "outputs": [],
   "source": [
    "# Kodą rašykite čia..."
   ]
  },
  {
   "attachments": {},
   "cell_type": "markdown",
   "metadata": {},
   "source": [
    "### Užduotis 5\n",
    "\n",
    "Sukurkite žodyną automobilio duomenims saugoti. Į šį žodyną savybes su reikšmėmis sukelkite, po to kai sukursite tuščią žodyną (galite remtis prisegtu pavyzdžiu, kurį jau nagrinėjome). Sudėkite šias savybes su reikšmėmis: markė, modelis, rida, gamybos metai, spalva, darbinis tūris, ar daužta, ar parduodama. Išveskite visą automobilio informaciją. Paskaičiuokite ir išveskite kiek automobiliui yra metų (rankomis įrašykite dabartinius metus arba panaudokite `datetime.date.today().year` funkciją, pačiame failo viršuje reikės nurodyti `import datetime`). Paskaičiuokite ir išveskite kiek vidutiniškai per metus yra nuvažiavęs automobilis (jeigu viso nuvažiavo 300 kilometrų, o automobiliui yra 2 metai, tai per metus vidutiniškai gaunasi 150 km.)."
   ]
  },
  {
   "cell_type": "code",
   "execution_count": null,
   "metadata": {},
   "outputs": [],
   "source": [
    "# tuscias = {}\n",
    "\n",
    "# print(tuscias)\n",
    "\n",
    "# tuscias['nauja'] = 14\n",
    "# tuscias['dar_viena'] = \"abc\"\n",
    "\n",
    "# print(tuscias)\n",
    "\n",
    "# Kodą rašykite čia..."
   ]
  },
  {
   "attachments": {},
   "cell_type": "markdown",
   "metadata": {},
   "source": [
    "### Užduotis 6\n",
    "\n",
    "Sukurkite savo norimą žodyną(-us). Kiekviename sudėkite bent 5 savybes su reikšmėmis (reikšmes galite įdėti ir atskirai). Išveskite informaciją. Pagalvokite ką dar galite su šiuo žodynu atlikti (paskaičiuoti ir pan.) ir tai padarykite."
   ]
  },
  {
   "cell_type": "code",
   "execution_count": null,
   "metadata": {},
   "outputs": [],
   "source": [
    "# Kodą rašykite čia..."
   ]
  }
 ],
 "metadata": {
  "kernelspec": {
   "display_name": "Python 3",
   "language": "python",
   "name": "python3"
  },
  "language_info": {
   "codemirror_mode": {
    "name": "ipython",
    "version": 3
   },
   "file_extension": ".py",
   "mimetype": "text/x-python",
   "name": "python",
   "nbconvert_exporter": "python",
   "pygments_lexer": "ipython3",
   "version": "3.7.9 (tags/v3.7.9:13c94747c7, Aug 17 2020, 18:58:18) [MSC v.1900 64 bit (AMD64)]"
  },
  "orig_nbformat": 4,
  "vscode": {
   "interpreter": {
    "hash": "aa11ca274996316222ef16f35c5f6dbeb467b694c0b2154cdf34dcf9271d5fd0"
   }
  }
 },
 "nbformat": 4,
 "nbformat_minor": 2
}
