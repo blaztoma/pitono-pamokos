{
 "cells": [
  {
   "attachments": {},
   "cell_type": "markdown",
   "metadata": {},
   "source": [
    "[![Open In Colab](https://colab.research.google.com/assets/colab-badge.svg)](https://colab.research.google.com/github/blaztoma/pitono-pamokos/blob/main/pamokos/11%20-%20range/range.ipynb)"
   ]
  },
  {
   "attachments": {},
   "cell_type": "markdown",
   "metadata": {},
   "source": [
    "# `range()` funkcija"
   ]
  },
  {
   "attachments": {},
   "cell_type": "markdown",
   "metadata": {},
   "source": [
    "Naudosime `range()` funkciją norėdami sugeneruoti tam tikrą skaičių seką.\n",
    "\n",
    "Dažnai `range()` funkcija naudojama su `for` ciklu."
   ]
  },
  {
   "attachments": {},
   "cell_type": "markdown",
   "metadata": {},
   "source": [
    "## Sintaksė"
   ]
  },
  {
   "attachments": {},
   "cell_type": "markdown",
   "metadata": {},
   "source": [
    "### 1-as variantas\n",
    "\n",
    "```\n",
    "range(pabaiga)\n",
    "```\n",
    "\n",
    "- nuo 0 (patenka)\n",
    "- iki `pabaiga` (nepatenka)"
   ]
  },
  {
   "attachments": {},
   "cell_type": "markdown",
   "metadata": {},
   "source": [
    "### 2-as variantas\n",
    "\n",
    "```\n",
    "range(pradžia, pabaiga)\n",
    "```\n",
    "\n",
    "- nuo `pradžia` (patenka)\n",
    "- iki `pabaiga` (nepatenka)"
   ]
  },
  {
   "attachments": {},
   "cell_type": "markdown",
   "metadata": {},
   "source": [
    "### 3-as variantas\n",
    "\n",
    "```\n",
    "range(pradžia, pabaiga, žingsnis)\n",
    "```\n",
    "\n",
    "- nuo `pradžia` (patenka)\n",
    "- iki `pabaiga` (nepatenka)\n",
    "- darant nurodytą žingsnį `žingsnis` (naudojant teigiamą reikšmę - kis didėjimo tvarka, naudojant neigiamą reikšmę - kis mažėjimo tvarka)"
   ]
  },
  {
   "attachments": {},
   "cell_type": "markdown",
   "metadata": {},
   "source": [
    "### Keletas sintaksės pavyzdžių"
   ]
  },
  {
   "cell_type": "code",
   "execution_count": null,
   "metadata": {},
   "outputs": [],
   "source": [
    "range(7) # nuo 0 iki 7 (skaičiai 0, 1, 2, 3, 4, 5, 6)\n",
    "range(2, 8) # nuo 2 iki 8 (skaičiai 2, 3, 4, 5, 6, 7)\n",
    "range(1, 6, 2) # nelyginiai skaičiai nuo 1 iki 6 (1, 3, 5)\n",
    "range(7, 0, -1) # nuo 7 iki 1 (skaičiai 7, 6, 5, 4, 3, 2, 1)"
   ]
  },
  {
   "attachments": {},
   "cell_type": "markdown",
   "metadata": {},
   "source": [
    "## Pavyzdžiai"
   ]
  },
  {
   "attachments": {},
   "cell_type": "markdown",
   "metadata": {},
   "source": [
    "`range()` funkcija unikali tuo, kad ji sukuria `range` objektą. Šis objektas nėra skaičių sąrašas."
   ]
  },
  {
   "cell_type": "code",
   "execution_count": null,
   "metadata": {},
   "outputs": [],
   "source": [
    "print( range(7) )"
   ]
  },
  {
   "attachments": {},
   "cell_type": "markdown",
   "metadata": {},
   "source": [
    "Norėdami iš `range` objekto gauti skaičių sąrašą, turime panaudoti funkciją `list()`."
   ]
  },
  {
   "cell_type": "code",
   "execution_count": null,
   "metadata": {},
   "outputs": [],
   "source": [
    "skaiciai = list( range(6) )\n",
    "print(skaiciai)"
   ]
  },
  {
   "attachments": {},
   "cell_type": "markdown",
   "metadata": {},
   "source": [
    "Turbūt jau pastebėjote, kad `range()` neįtraukia paskutinio nurodyto skaičiaus. Kodėl gi taip yra?"
   ]
  },
  {
   "cell_type": "code",
   "execution_count": null,
   "metadata": {},
   "outputs": [],
   "source": [
    "print( list( range(10) ) )"
   ]
  },
  {
   "attachments": {},
   "cell_type": "markdown",
   "metadata": {},
   "source": [
    "Naudojant `range` galime nurodyti pradžią."
   ]
  },
  {
   "cell_type": "code",
   "execution_count": null,
   "metadata": {},
   "outputs": [],
   "source": [
    "skaiciai = list( range(2, 7) )\n",
    "print(skaiciai)"
   ]
  },
  {
   "attachments": {},
   "cell_type": "markdown",
   "metadata": {},
   "source": [
    "Dar vienas pavyzdys."
   ]
  },
  {
   "cell_type": "code",
   "execution_count": null,
   "metadata": {},
   "outputs": [],
   "source": [
    "skaiciukai = list( range(10, 15) )\n",
    "print(skaiciukai)"
   ]
  },
  {
   "attachments": {},
   "cell_type": "markdown",
   "metadata": {},
   "source": [
    "Šis pavyzdys įtraukia `žingsnį`, kurio reikšmė - 2. Šiuo atveju spausdinsime nelyginius skaičius."
   ]
  },
  {
   "cell_type": "code",
   "execution_count": null,
   "metadata": {},
   "outputs": [],
   "source": [
    "kas_antra = list( range(5, 15, 2) )\n",
    "print(kas_antra)"
   ]
  },
  {
   "attachments": {},
   "cell_type": "markdown",
   "metadata": {},
   "source": [
    "Dar vienas pavyzdys su `žingsniu`, kurio reikšmė - 5. Atkreipkite dėmesį, kad paskutinės reikšmės (`50`) neįtraukia."
   ]
  },
  {
   "cell_type": "code",
   "execution_count": null,
   "metadata": {},
   "outputs": [],
   "source": [
    "skaiciai = list( range(5, 50, 5) )\n",
    "print(skaiciai)"
   ]
  },
  {
   "attachments": {},
   "cell_type": "markdown",
   "metadata": {},
   "source": [
    "Dabar, kai žinome `range()` funkcijos naudojimo niunsus, pasipraktikuokime. Sąrašo [1, 50] sukūrimas."
   ]
  },
  {
   "cell_type": "code",
   "execution_count": null,
   "metadata": {},
   "outputs": [],
   "source": [
    "skaiciai = list( range(1, 51) )\n",
    "print(skaiciai)"
   ]
  },
  {
   "attachments": {},
   "cell_type": "markdown",
   "metadata": {},
   "source": [
    "Na o čia - nelyginių skaičių sąrašo [1, 29] sukūrimas."
   ]
  },
  {
   "cell_type": "code",
   "execution_count": null,
   "metadata": {},
   "outputs": [],
   "source": [
    "nelyginiai = list( range(1, 30, 2) )\n",
    "print(nelyginiai)"
   ]
  },
  {
   "attachments": {},
   "cell_type": "markdown",
   "metadata": {},
   "source": [
    "Šitame pavyzdyje paimsime kas šešą skaičių."
   ]
  },
  {
   "cell_type": "code",
   "execution_count": null,
   "metadata": {},
   "outputs": [],
   "source": [
    "skaiciai = list( range(5, 87, 6) )\n",
    "print(skaiciai)"
   ]
  },
  {
   "attachments": {},
   "cell_type": "markdown",
   "metadata": {},
   "source": [
    "Ko dar nebandėme, tai sudaryti skaičių sąrašą mažėjimo tvarka. Tam reikia nurodyti neigiamą `žingsnio` reikšmę. Atkreipkite dėmesį, kad paskutinė reikšmė neįtraukiama ir šiuo atveju."
   ]
  },
  {
   "cell_type": "code",
   "execution_count": null,
   "metadata": {},
   "outputs": [],
   "source": [
    "skaiciai = list( range(10, 0, -1) )\n",
    "print(skaiciai)"
   ]
  },
  {
   "attachments": {},
   "cell_type": "markdown",
   "metadata": {},
   "source": [
    "Dar vienas pavyzdys, kai `žingsnis` mažėja penkiais vienetais."
   ]
  },
  {
   "cell_type": "code",
   "execution_count": null,
   "metadata": {},
   "outputs": [],
   "source": [
    "skaiciai = list( range(50, 0, -5) )\n",
    "print(skaiciai)"
   ]
  },
  {
   "attachments": {},
   "cell_type": "markdown",
   "metadata": {},
   "source": [
    "## Užduotys"
   ]
  },
  {
   "attachments": {},
   "cell_type": "markdown",
   "metadata": {},
   "source": [
    "Sugeneruokite ir išveskite tokias sekas."
   ]
  },
  {
   "attachments": {},
   "cell_type": "markdown",
   "metadata": {},
   "source": [
    "### Užduotis 1\n",
    "\n",
    "`[0, 1, 2, 3, 4, 5, 6]`"
   ]
  },
  {
   "cell_type": "code",
   "execution_count": null,
   "metadata": {},
   "outputs": [],
   "source": [
    "# Kodą rašykite čia..."
   ]
  },
  {
   "attachments": {},
   "cell_type": "markdown",
   "metadata": {},
   "source": [
    "### Užduotis 2\n",
    "\n",
    "`[1, 2, 3, 4, 5, 6, 7, 8, 9]`"
   ]
  },
  {
   "cell_type": "code",
   "execution_count": null,
   "metadata": {},
   "outputs": [],
   "source": [
    "# Kodą rašykite čia..."
   ]
  },
  {
   "attachments": {},
   "cell_type": "markdown",
   "metadata": {},
   "source": [
    "### Užduotis 3\n",
    "\n",
    "`[2, 3, 4, 5, 6, 7, 8, 9, 10, 11, 12, 13, 14, 15]`"
   ]
  },
  {
   "cell_type": "code",
   "execution_count": null,
   "metadata": {},
   "outputs": [],
   "source": [
    "# Kodą rašykite čia..."
   ]
  },
  {
   "attachments": {},
   "cell_type": "markdown",
   "metadata": {},
   "source": [
    "### Užduotis 4\n",
    "\n",
    "`[20, 21, 22, 23, 24, 25, 26, 27, 28, 29, 30]`"
   ]
  },
  {
   "cell_type": "code",
   "execution_count": null,
   "metadata": {},
   "outputs": [],
   "source": [
    "# Kodą rašykite čia..."
   ]
  },
  {
   "attachments": {},
   "cell_type": "markdown",
   "metadata": {},
   "source": [
    "### Užduotis 5\n",
    "\n",
    "`[20, 22, 24, 26, 28, 30, 32, 34, 36, 38, 40]`"
   ]
  },
  {
   "cell_type": "code",
   "execution_count": null,
   "metadata": {},
   "outputs": [],
   "source": [
    "# Kodą rašykite čia..."
   ]
  },
  {
   "attachments": {},
   "cell_type": "markdown",
   "metadata": {},
   "source": [
    "### Užduotis 6\n",
    "\n",
    "`[1, 3, 5, 7, 9]`"
   ]
  },
  {
   "cell_type": "code",
   "execution_count": null,
   "metadata": {},
   "outputs": [],
   "source": [
    "# Kodą rašykite čia..."
   ]
  },
  {
   "attachments": {},
   "cell_type": "markdown",
   "metadata": {},
   "source": [
    "### Užduotis 7\n",
    "\n",
    "`[30, 33, 36, 39, 42, 45, 48]`"
   ]
  },
  {
   "cell_type": "code",
   "execution_count": null,
   "metadata": {},
   "outputs": [],
   "source": [
    "# Kodą rašykite čia..."
   ]
  },
  {
   "attachments": {},
   "cell_type": "markdown",
   "metadata": {},
   "source": [
    "### Užduotis 8\n",
    "\n",
    "`[50, 55, 60, 65, 70, 75, 80, 85, 90, 95, 100]`"
   ]
  },
  {
   "cell_type": "code",
   "execution_count": null,
   "metadata": {},
   "outputs": [],
   "source": [
    "# Kodą rašykite čia..."
   ]
  },
  {
   "attachments": {},
   "cell_type": "markdown",
   "metadata": {},
   "source": [
    "### Užduotis 9\n",
    "\n",
    "`[1, 8, 15, 22, 29, 36, 43, 50, 57, 64, 71, 78, 85, 92, 99]`"
   ]
  },
  {
   "cell_type": "code",
   "execution_count": null,
   "metadata": {},
   "outputs": [],
   "source": [
    "# Kodą rašykite čia..."
   ]
  },
  {
   "attachments": {},
   "cell_type": "markdown",
   "metadata": {},
   "source": [
    "### Užduotis 10\n",
    "\n",
    "`[10, 9, 8, 7, 6, 5, 4, 3, 2, 1]`"
   ]
  },
  {
   "cell_type": "code",
   "execution_count": null,
   "metadata": {},
   "outputs": [],
   "source": [
    "# Kodą rašykite čia..."
   ]
  },
  {
   "attachments": {},
   "cell_type": "markdown",
   "metadata": {},
   "source": [
    "### Užduotis 11\n",
    "\n",
    "`[100, 90, 80, 70, 60, 50, 40, 30, 20, 10]`"
   ]
  },
  {
   "cell_type": "code",
   "execution_count": null,
   "metadata": {},
   "outputs": [],
   "source": [
    "# Kodą rašykite čia..."
   ]
  }
 ],
 "metadata": {
  "kernelspec": {
   "display_name": "Python 3",
   "language": "python",
   "name": "python3"
  },
  "language_info": {
   "codemirror_mode": {
    "name": "ipython",
    "version": 3
   },
   "file_extension": ".py",
   "mimetype": "text/x-python",
   "name": "python",
   "nbconvert_exporter": "python",
   "pygments_lexer": "ipython3",
   "version": "3.10.10"
  },
  "orig_nbformat": 4,
  "vscode": {
   "interpreter": {
    "hash": "aa11ca274996316222ef16f35c5f6dbeb467b694c0b2154cdf34dcf9271d5fd0"
   }
  }
 },
 "nbformat": 4,
 "nbformat_minor": 2
}
