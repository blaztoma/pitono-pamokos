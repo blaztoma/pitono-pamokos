{
  "nbformat": 4,
  "nbformat_minor": 0,
  "metadata": {
    "colab": {
      "provenance": [],
      "authorship_tag": "ABX9TyOJVObhNkQFKpSmS2Aa90Nk",
      "include_colab_link": true
    },
    "kernelspec": {
      "name": "python3",
      "display_name": "Python 3"
    },
    "language_info": {
      "name": "python"
    }
  },
  "cells": [
    {
      "cell_type": "markdown",
      "metadata": {
        "id": "view-in-github",
        "colab_type": "text"
      },
      "source": [
        "<a href=\"https://colab.research.google.com/github/blaztoma/pitono-pamokos/blob/main/I%C5%A1vedimas.ipynb\" target=\"_parent\"><img src=\"https://colab.research.google.com/assets/colab-badge.svg\" alt=\"Open In Colab\"/></a>"
      ]
    },
    {
      "cell_type": "markdown",
      "source": [
        "Kompiuteris gali atsakyti į daugelį mūsų klausimų apie tai ko norime sužinoti iš programos. Dėl to jis turi bendrauti - vienu ar kitu būdu pateikti informaciją žmogui. Dabar išmokysime kompiuterį bendrauti pačiu paprasčiausiu būdu, tai yra išvesdami informaciją į konsolę."
      ],
      "metadata": {
        "id": "KJBRz6ErI5YO"
      }
    },
    {
      "cell_type": "markdown",
      "source": [
        "Pitone tam naudojama funkcija `print()`. Spausdinamą pranešimą reikia apgaubti viengubomis arba dvigubomis kabutėmis. Pavyzdys:"
      ],
      "metadata": {
        "id": "vnSINe7WL6u8"
      }
    },
    {
      "cell_type": "code",
      "execution_count": 3,
      "metadata": {
        "colab": {
          "base_uri": "https://localhost:8080/"
        },
        "id": "Ga_UNBCDIufe",
        "outputId": "ca853ab2-ea57-4822-e2d9-c7a90c70b6e1"
      },
      "outputs": [
        {
          "output_type": "stream",
          "name": "stdout",
          "text": [
            "Teksto eilutė\n"
          ]
        }
      ],
      "source": [
        "print('Teksto eilutė')"
      ]
    },
    {
      "cell_type": "markdown",
      "source": [
        "Jei naudosime dvigubas kabutes - tai duos tą patį rezultatą."
      ],
      "metadata": {
        "id": "A1KPt6zXKvoj"
      }
    },
    {
      "cell_type": "code",
      "source": [
        "print(\"Teksto eilutė\")"
      ],
      "metadata": {
        "colab": {
          "base_uri": "https://localhost:8080/"
        },
        "id": "AKRNXjP_I13j",
        "outputId": "220e0a30-05b5-492a-d8f0-958dbf1eb63c"
      },
      "execution_count": 4,
      "outputs": [
        {
          "output_type": "stream",
          "name": "stdout",
          "text": [
            "Teksto eilutė\n"
          ]
        }
      ]
    },
    {
      "cell_type": "markdown",
      "source": [
        "Paklausite - kam tai reikalinga!? Ogi tiems, atvejams, kai kabutės yra teksto dalis: "
      ],
      "metadata": {
        "id": "cEuxIQN4I2JH"
      }
    },
    {
      "cell_type": "code",
      "source": [
        "print(\"Kompiuteris parašė: 'Labas rytas!'\")"
      ],
      "metadata": {
        "colab": {
          "base_uri": "https://localhost:8080/"
        },
        "id": "-dXfifiqLebT",
        "outputId": "3f46a067-fe3f-4c22-e2a4-ff3077626155"
      },
      "execution_count": 6,
      "outputs": [
        {
          "output_type": "stream",
          "name": "stdout",
          "text": [
            "Kompiuteris parašė: 'Labas rytas!'\n"
          ]
        }
      ]
    }
  ]
}