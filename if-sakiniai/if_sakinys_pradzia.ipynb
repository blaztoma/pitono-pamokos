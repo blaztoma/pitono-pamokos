{
  "nbformat": 4,
  "nbformat_minor": 0,
  "metadata": {
    "colab": {
      "provenance": []
    },
    "kernelspec": {
      "name": "python3",
      "display_name": "Python 3"
    },
    "language_info": {
      "name": "python"
    }
  },
  "cells": [
    {
      "cell_type": "markdown",
      "source": [
        "## Programos tėkmė ir if sąlygos sakiniai"
      ],
      "metadata": {
        "id": "7dnK-3UcdjME"
      }
    },
    {
      "cell_type": "markdown",
      "source": [
        "Kompiuteris ir jo programos būtų neprotingi ir mažai panaudojami dalykai, jei negalėtų priimti sprendimų. Kiek jie protingi - irgi diskusijų vertas klausimas, tačiau chatGPT, šachmatus žaidžiančios ir kitos programos parodė, kad kompiuteriai gali priimti sprendimus. Ir netgi - visai neblogus. Čia mes panagrinėsime kaip kompiuteris gali priimti pačius paprasčiausius sprendimus, nulemiančius programos vykdymo tėkmę. Tai yra - kokios operacijos bus vykdomos atsižvelgiant į situaciją."
      ],
      "metadata": {
        "id": "PWhAVEVBiJwh"
      }
    },
    {
      "cell_type": "markdown",
      "source": [
        "Norėdami programos veikimą pakreipti tam tikru keliu, turime priimti sprendimą atsižvelgiant į įvairias, programai aktualias, sąlygas. Tai yra, turime palyginti tai, kas aktualu programai, pavyzdžiui:"
      ],
      "metadata": {
        "id": "CYGgAIaAkrA5"
      }
    },
    {
      "cell_type": "code",
      "execution_count": null,
      "metadata": {
        "colab": {
          "base_uri": "https://localhost:8080/"
        },
        "id": "xmTClz1NdfxS",
        "outputId": "7bc8bba0-64ac-4fc9-a71c-dd1083ca1fff"
      },
      "outputs": [
        {
          "output_type": "stream",
          "name": "stdout",
          "text": [
            "Įveskite slaptažodį: asd\n",
            "Jums nepavyko prisijungti...\n"
          ]
        }
      ],
      "source": [
        "slaptazodis = input(\"Įveskite slaptažodį: \")\n",
        "if slaptazodis == \"adminas\":\n",
        "  print(\"Sveikiname prisijungus\")\n",
        "else:\n",
        "  print(\"Jums nepavyko prisijungti...\")"
      ]
    },
    {
      "cell_type": "markdown",
      "source": [
        "Matome, kad mes palyginome kintamąjį `slaptažodis` su tekstu `adminas`. Ar atkreipėte dėmesį, kad palyginimui naudojamos net dvi lygybės (`==`). Taip yra todėl, kad Pitone viena lygybė rezervuota priskyrimo sakiniui. Be abejonės - tokio palyginimo neužtenka, yra keletas kitų palyginimo operatorių, kartais dar vadinamų *komparatoriais*. Jie pateikti lentelėje."
      ],
      "metadata": {
        "id": "CyIcObctl6ko"
      }
    },
    {
      "cell_type": "markdown",
      "source": [
        "Operatorius | Apibūdinimas | Pavyzdys\n",
        "------------|--------------|---------\n",
        "`==` | ar lygu | `x == y`\n",
        "`!=` | ar nelygu | `x != y`\n",
        "`>` | ar daugiau | `x > y`\n",
        "`<` | ar mažiau | `x < y`\n",
        "`<=` | ar mažiau lygu | `x <= y`\n",
        "`>=` | ar daugiau lygu | `x >= y`"
      ],
      "metadata": {
        "id": "ySr4KTEpnD_H"
      }
    },
    {
      "cell_type": "markdown",
      "source": [
        "Kaip matote, įdomesnis yra tik nelygybės ženklas, kuris prasideda šauktuku. Taip jau yra, kad Pitone ir įvairiose kitose kalbose ši ženklas reiškia - NE."
      ],
      "metadata": {
        "id": "owZO8Yk3olRW"
      }
    },
    {
      "cell_type": "markdown",
      "source": [
        "## If sakinio struktūra"
      ],
      "metadata": {
        "id": "zwqWqGyopFzQ"
      }
    },
    {
      "cell_type": "markdown",
      "source": [
        "If sąlygos sakinys gali susidėti iš kelių dalių:\n",
        "* `if` - būtinoji dalis, po jos rašomi veiksmai, kurie vydomi patenkinus sąlygą.\n",
        "* `elif` / `else if` - jeigu reikia tikrinti daugiau sąlygų, galima rašyti tiek else if dalių kiek tik reikia.\n",
        "* `else` - rašosi pačiame gale, vieną kartą, jei reikia apimti visas sąlygas, kurios nepatenka į kitas dalis."
      ],
      "metadata": {
        "id": "Tq_7OGHbpKLc"
      }
    },
    {
      "cell_type": "markdown",
      "source": [
        "Paprasčiausia `if` sakinio forma yra tokia:\n",
        "```\n",
        "if sąlyga:\n",
        "  veiksmai...\n",
        "```\n",
        "Tai yra, rašomas raktažodis `if`, nurodoma sąlyga ir gale parašomas dvitaškis. Po to nurodomi veiksmai, kurie atitraukiami nuo krašto."
      ],
      "metadata": {
        "id": "vGg9hEFAqPbU"
      }
    },
    {
      "cell_type": "markdown",
      "source": [
        "### Pavyzdžiai"
      ],
      "metadata": {
        "id": "Hol5OLCqrSOA"
      }
    },
    {
      "cell_type": "markdown",
      "source": [
        "Pasinagrinėkite toliau esančius pavydžius ir daug kas paaiškės."
      ],
      "metadata": {
        "id": "86_tM4UCrXUF"
      }
    },
    {
      "cell_type": "markdown",
      "source": [
        "#### Paprasčiausias dviejų skaičių palyginimas"
      ],
      "metadata": {
        "id": "QMgmmkx3rn98"
      }
    },
    {
      "cell_type": "code",
      "source": [
        "if 5 > 3:\n",
        "    print('Skaičius 5 yra didesnis už 3')"
      ],
      "metadata": {
        "colab": {
          "base_uri": "https://localhost:8080/"
        },
        "id": "LSOGX63rrvsH",
        "outputId": "e5bbd32a-2865-4a66-ed2e-ea05c853c749"
      },
      "execution_count": null,
      "outputs": [
        {
          "output_type": "stream",
          "name": "stdout",
          "text": [
            "Skaičius 5 yra didesnis už 3\n"
          ]
        }
      ]
    },
    {
      "cell_type": "markdown",
      "source": [
        "#### Keli sąlygos sakiniai, kurių vienas netenkinamas"
      ],
      "metadata": {
        "id": "XrsfZoWwr7sh"
      }
    },
    {
      "cell_type": "code",
      "source": [
        "if -7 > -10:\n",
        "    print('-7 yra didesnis už -10')\n",
        "\n",
        "if 3 < 5:\n",
        "    print('3 mažesnis uz 5')\n",
        "\n",
        "if 8 < 0:\n",
        "    print('8 mažesnis uz 0')"
      ],
      "metadata": {
        "colab": {
          "base_uri": "https://localhost:8080/"
        },
        "id": "xO_dvk9ssJ0W",
        "outputId": "59f14ee7-20c5-4b1e-8715-2d7a49a8c797"
      },
      "execution_count": null,
      "outputs": [
        {
          "output_type": "stream",
          "name": "stdout",
          "text": [
            "-7 yra didesnis už -10\n",
            "3 mažesnis uz 5\n"
          ]
        }
      ]
    },
    {
      "cell_type": "markdown",
      "source": [
        "#### Kintamojo panaudojimas sąlygoje"
      ],
      "metadata": {
        "id": "_PKWDW0OsTed"
      }
    },
    {
      "cell_type": "code",
      "source": [
        "skaicius = 5\n",
        "\n",
        "if skaicius > 0:\n",
        "    print('Skaičius teigiamas')\n",
        "\n",
        "if skaicius < 0:\n",
        "    print('Skaičius neigiamas')\n",
        "\n",
        "if skaicius == 0:\n",
        "    print('Skaičius lygus 0')"
      ],
      "metadata": {
        "colab": {
          "base_uri": "https://localhost:8080/"
        },
        "id": "Z4k1JdBrshhy",
        "outputId": "91e1183f-cfab-4f71-f424-ba570b26e042"
      },
      "execution_count": null,
      "outputs": [
        {
          "output_type": "stream",
          "name": "stdout",
          "text": [
            "Skaičius teigiamas\n"
          ]
        }
      ]
    },
    {
      "cell_type": "markdown",
      "source": [
        "#### Amžiaus palyginimas"
      ],
      "metadata": {
        "id": "JezOCTiHszsK"
      }
    },
    {
      "cell_type": "code",
      "source": [
        "vardas = 'Jonas'\n",
        "amzius = 18\n",
        "\n",
        "if amzius >= 18:\n",
        "    print(vardas, 'yra pilnametis')"
      ],
      "metadata": {
        "id": "7P9TsmGYs3xe"
      },
      "execution_count": null,
      "outputs": []
    },
    {
      "cell_type": "markdown",
      "source": [
        "#### Naudotojo įvesties tikrinimas"
      ],
      "metadata": {
        "id": "Y2PtEnyCtP6w"
      }
    },
    {
      "cell_type": "code",
      "source": [
        "print('Įveskite skaičių:')\n",
        "skaicius = int(input())\n",
        "\n",
        "if skaicius > 0:\n",
        "    print('Įvestas skaičius yra teigiamas.')\n",
        "\n",
        "if skaicius < 0:\n",
        "    print('Įvestas skaičius yra neigiamas.')\n",
        "\n",
        "if skaicius == 0:\n",
        "    print('Įvestas skaičius lygus 0')"
      ],
      "metadata": {
        "colab": {
          "base_uri": "https://localhost:8080/"
        },
        "id": "3Hs8hEiatUrR",
        "outputId": "f9346d52-5409-47d1-ce59-8f0a9ec0cb26"
      },
      "execution_count": null,
      "outputs": [
        {
          "output_type": "stream",
          "name": "stdout",
          "text": [
            "Įveskite norimą skaičių:\n",
            "5\n",
            "Įvestas skaičius yra teigiamas.\n"
          ]
        }
      ]
    },
    {
      "cell_type": "markdown",
      "source": [
        "#### Ar skaičius dalinasi?"
      ],
      "metadata": {
        "id": "xeHTFt6Pt48x"
      }
    },
    {
      "cell_type": "code",
      "source": [
        "skaicius = int( input('Įveskite skaičių: ') )\n",
        "\n",
        "print(f'{skaicius}:')\n",
        "\n",
        "if skaicius % 2 == 0:\n",
        "    print('dalinasi iš 2')\n",
        "if skaicius % 3 == 0:\n",
        "    print('dalinasi iš 3')\n",
        "if skaicius % 4 == 0:\n",
        "    print('dalinasi iš 4')\n",
        "if skaicius % 5 == 0:\n",
        "    print('dalinasi iš 5')\n",
        "if skaicius % 6 == 0:\n",
        "    print('dalinasi iš 6')\n",
        "if skaicius % 7 == 0:\n",
        "    print('dalinasi iš 7')\n",
        "if skaicius % 8 == 0:\n",
        "    print('dalinasi iš 8')\n",
        "if skaicius % 9 == 0:\n",
        "    print('dalinasi iš 9')"
      ],
      "metadata": {
        "id": "GDtHGzfat-ND"
      },
      "execution_count": null,
      "outputs": []
    },
    {
      "cell_type": "markdown",
      "source": [
        "Kaip matote - naudojame liekanos gavimo operaciją. Jei liekana lygi nuliui, vadinasi skaičius dalinasi."
      ],
      "metadata": {
        "id": "8mXTcIv6uKSx"
      }
    },
    {
      "cell_type": "markdown",
      "source": [
        "#### Ar skaičius nesidalina?"
      ],
      "metadata": {
        "id": "BGtQwaiTuWbH"
      }
    },
    {
      "cell_type": "code",
      "source": [
        "skaicius = 8\n",
        "\n",
        "if skaicius % 2 != 0:\n",
        "    print('Skaičius nesidalina iš 2')\n",
        "\n",
        "if skaicius % 3 != 0:\n",
        "    print('Skaičius nesidalina iš 3')\n",
        "\n",
        "if skaicius % 4 != 0:\n",
        "    print('Skaičius nesidalina iš 4')"
      ],
      "metadata": {
        "id": "U8F9V5t2wNIp"
      },
      "execution_count": null,
      "outputs": []
    },
    {
      "cell_type": "markdown",
      "source": [
        "Skaičius nesidalina, jei liekana *nelygi* nuliui."
      ],
      "metadata": {
        "id": "-4UYiOWNwJUW"
      }
    },
    {
      "cell_type": "markdown",
      "source": [
        "## Loginės reikšmės"
      ],
      "metadata": {
        "id": "82wv4SgNwvfd"
      }
    },
    {
      "cell_type": "markdown",
      "source": [
        "If sakinio sąlyga gali būti labai sudėtinga, tačiau kai sąlyga įvertinama, gaunamas vienas įvertis, kuris pasako ar sąlyga buvo teisinga ar neteisinga. Tas įvertis yra loginė reikšmė, kuri gali būti `True` arba `False` (tiesa/netiesa). Jei pamėginsime funkcijai `print` nurodyti sąlygą, mums Pitonas ir atspausdins rezultatą."
      ],
      "metadata": {
        "id": "Yyebj9IDw16p"
      }
    },
    {
      "cell_type": "code",
      "source": [
        "skaicius = 14\n",
        "\n",
        "print(skaicius > 0)\n",
        "print(skaicius >= 10)\n",
        "print(skaicius < 0)\n",
        "print(skaicius <= 10)\n",
        "print(skaicius == 10)\n",
        "print(skaicius != 10)"
      ],
      "metadata": {
        "colab": {
          "base_uri": "https://localhost:8080/"
        },
        "id": "CUGfW1IsxoK4",
        "outputId": "9af8b5c4-ed7b-4960-c843-4d75d6cd15e6"
      },
      "execution_count": null,
      "outputs": [
        {
          "output_type": "stream",
          "name": "stdout",
          "text": [
            "True\n",
            "True\n",
            "False\n",
            "False\n",
            "False\n",
            "True\n"
          ]
        }
      ]
    },
    {
      "cell_type": "markdown",
      "source": [
        "Pažiūrėkime atidžiau, ką Pitonui reiškia `True` ir `False` reikšmės. Pamėginkite paaiškinti atspausdintus rezultatus."
      ],
      "metadata": {
        "id": "HZKkpvqCyGsk"
      }
    },
    {
      "cell_type": "code",
      "source": [
        "print(1 == 1)\n",
        "print(True == 1)\n",
        "print()\n",
        "\n",
        "print(True == False)\n",
        "print(True == 0)\n",
        "print()\n",
        "\n",
        "print(False == 0)"
      ],
      "metadata": {
        "colab": {
          "base_uri": "https://localhost:8080/"
        },
        "id": "MYI_CcMeySma",
        "outputId": "2b27162b-e413-4cb6-bd18-d5a9188c3a39"
      },
      "execution_count": null,
      "outputs": [
        {
          "output_type": "stream",
          "name": "stdout",
          "text": [
            "True\n",
            "True\n",
            "\n",
            "False\n",
            "False\n",
            "\n",
            "True\n"
          ]
        }
      ]
    },
    {
      "cell_type": "markdown",
      "source": [
        "Jei loginė reikšmė apskaičiuojama anksčiau, ją galime palyginti arba palikti Pitonui spręsti pagal nutylėjimą. Dažniau naudojamas antrasis variantas."
      ],
      "metadata": {
        "id": "4NZ0dxoYynne"
      }
    },
    {
      "cell_type": "code",
      "source": [
        "ar_vairuoja = True\n",
        "\n",
        "if ar_vairuoja == True:\n",
        "    print('Pirmasis if sako, kad vairuoja.')\n",
        "\n",
        "if ar_vairuoja:\n",
        "    print('Antrasis if sako, kad vairuoja.')"
      ],
      "metadata": {
        "id": "-QtDJQiqy1Jk"
      },
      "execution_count": null,
      "outputs": []
    },
    {
      "cell_type": "markdown",
      "source": [
        "##if'ai... if'uose\n",
        "Dažnai pasitaiko toks atvejis, kai vienos sąlygos nepakanka. Tuomet galime `if` naudoti ir kito `if` bloke."
      ],
      "metadata": {
        "id": "9KEUTAznUIQl"
      }
    },
    {
      "cell_type": "code",
      "source": [
        "pereja = True\n",
        "masinos_vaziuoja = False\n",
        "\n",
        "if pereja:\n",
        "  if not masinos_vaziuoja:\n",
        "    print(\"Galima eiti per perėją\")"
      ],
      "metadata": {
        "colab": {
          "base_uri": "https://localhost:8080/"
        },
        "id": "a2oGHwF6UpsH",
        "outputId": "7f60a5d7-997c-4d2e-a49b-465a16d33e13"
      },
      "execution_count": 5,
      "outputs": [
        {
          "output_type": "stream",
          "name": "stdout",
          "text": [
            "Galima eiti per perėją\n"
          ]
        }
      ]
    },
    {
      "cell_type": "markdown",
      "source": [
        "Tiesa, šį sakinį galima užrašyti trumpiau naudojant loginius operatorius. Juos mes dar nagrinėsime. Galima galvoti apie `if` bloko panaudojimą kitame `if` tuomet, kai įvairios sąlygos viename `if` sakinyje tampa sunkiai skaitomos ir suvokiamos."
      ],
      "metadata": {
        "id": "6O4bgqo3VAB2"
      }
    },
    {
      "cell_type": "markdown",
      "source": [
        "## Ternarinis if operatorius"
      ],
      "metadata": {
        "id": "7-b7hE_-zR4R"
      }
    },
    {
      "cell_type": "markdown",
      "source": [
        "If sakinį galime sutrumpinti panaudodami ternarinį operatorių. Taip kelių eilučių `if` sakinį galime užrašyti viena eilute.  "
      ],
      "metadata": {
        "id": "ZWufebTjzqsj"
      }
    },
    {
      "cell_type": "code",
      "source": [
        "pazymys = 10\n",
        "ivertinimas = 'Puikiai!' if pazymys == 10 else 'Galima geriau!'\n",
        "print(ivertinimas)"
      ],
      "metadata": {
        "colab": {
          "base_uri": "https://localhost:8080/"
        },
        "id": "Fztfqtd50ACs",
        "outputId": "5f0332fa-f310-4bcc-97f6-8f6f66fa7de6"
      },
      "execution_count": null,
      "outputs": [
        {
          "output_type": "stream",
          "name": "stdout",
          "text": [
            "Puikiai!\n"
          ]
        }
      ]
    },
    {
      "cell_type": "markdown",
      "source": [
        "Kaip matome - sutaupėme kokias 3 eilutes. Vis tik - reikėtų atsargiai naudoti ternarinius operatorius. Programuotojai lig šiol diskutuoja ar verta juos naudoti. Manoma, jog jie gali sumažinti programos skaitomumą ir įtakoti klaidų atsiradimą. "
      ],
      "metadata": {
        "id": "eYocWd2K1vT-"
      }
    },
    {
      "cell_type": "markdown",
      "source": [
        "## Užduotys"
      ],
      "metadata": {
        "id": "EgMSg_ir26Sh"
      }
    },
    {
      "cell_type": "markdown",
      "source": [
        "### Užduotis 1"
      ],
      "metadata": {
        "id": "iQusSztw2_U6"
      }
    },
    {
      "cell_type": "markdown",
      "source": [
        "Susikurkite tris kintamuosius skaičiams saugoti. Parašykite šias atskiras if sąlygas:\n",
        "\n",
        "* Ar pirmas ir antras skaičiai yra lygūs?\n",
        "* Ar antras ir trečias skaičiai yra lygūs?\n",
        "* Ar pirmas skaičius yra didesnis už antrąjį?\n",
        "* Ar antras skaičius yra didesnis už dvigubą trečiojo skaičiaus reikšmę?\n",
        "* Ar pirmas skaičius yra lyginis?\n",
        "* Ar antras skaičius yra nelyginis?\n",
        "* Ar trečias skaičius yra teigiamas?\n",
        "* Ar pirmas skaičius yra neigiamas?\n",
        "* Ar antras skaičius dalinasi iš 4?"
      ],
      "metadata": {
        "id": "gCZfwv5P3CV8"
      }
    },
    {
      "cell_type": "code",
      "source": [
        "# Kodą rašykite čia..."
      ],
      "metadata": {
        "id": "6io_oVfI3TnB"
      },
      "execution_count": null,
      "outputs": []
    },
    {
      "cell_type": "markdown",
      "source": [
        "### Užduotis 2"
      ],
      "metadata": {
        "id": "xFZjRLJJ3ZDx"
      }
    },
    {
      "cell_type": "markdown",
      "source": [
        "Liepkite nepilnamečio amžių. Patikrinkite ar asmuo eina į darželį (iki 7m.) ar į mokyklą (virš 7 metų). Rezultatą atspausdinkite."
      ],
      "metadata": {
        "id": "w0_mFAiH3l2Z"
      }
    },
    {
      "cell_type": "code",
      "source": [
        "# Kodą rašykite čia..."
      ],
      "metadata": {
        "id": "YALDiPRe3dSH"
      },
      "execution_count": null,
      "outputs": []
    },
    {
      "cell_type": "markdown",
      "source": [
        "### Užduotis 3"
      ],
      "metadata": {
        "id": "DVC5Rykv3aE5"
      }
    },
    {
      "cell_type": "markdown",
      "source": [
        "Parašykite programą, kuri leistų įvesti tris studento pažymius (pvz.: `1,2,3`). \n",
        "1. Programa turi atspausdinti ar studentui leidžiama laikyti egzaminą. Leidžiama tuomet, jei pažymių vidurkis didesnis ar lygus penkiems.\n",
        "2. Programa turi atspausdinti didžiausią studento pažymį."
      ],
      "metadata": {
        "id": "dZAwQ2664QRC"
      }
    },
    {
      "cell_type": "code",
      "source": [
        "pazymys_1, pazymys_2, pazymys_3 = input().split(\",\")\n",
        "\n",
        "# Kodą rašykite čia...\n",
        "# Nepamirškite, kad prieš atliekant aritmetinę operaciją įvestas reikšmes reikia paversti į skaičių, pvz. int(skaicius_1)"
      ],
      "metadata": {
        "id": "NrEITQb-3dsR",
        "colab": {
          "base_uri": "https://localhost:8080/"
        },
        "outputId": "d2055ac1-e560-4703-8f44-392ef4c54a64"
      },
      "execution_count": 3,
      "outputs": [
        {
          "name": "stdout",
          "output_type": "stream",
          "text": [
            "1,5,3\n"
          ]
        }
      ]
    },
    {
      "cell_type": "markdown",
      "source": [
        "### Užduotis 4"
      ],
      "metadata": {
        "id": "WkLKJpjP3bLQ"
      }
    },
    {
      "cell_type": "markdown",
      "source": [
        "Parašykite programą, kuri leidžia įvesti išraišką, kurią sudaro du skaičiai ir operacija atskirti tarpais (pvz. `5 * 8`). Pagal operaciją programa turi apskaičiuoti rezultatą ir jį atspausdinti."
      ],
      "metadata": {
        "id": "59aqe50l45Wa"
      }
    },
    {
      "cell_type": "code",
      "source": [
        "skaicius_1, operacija, skaicius_2 = input().split()\n",
        "\n",
        "# Kodą rašykite čia...\n",
        "# Nepamirškite, kad prieš atliekant aritmetinę operaciją įvestas reikšmes reikia paversti į skaičių, pvz. int(skaicius_1)"
      ],
      "metadata": {
        "colab": {
          "base_uri": "https://localhost:8080/"
        },
        "id": "M_Me1UoA3ebN",
        "outputId": "3f0ada50-c2c5-4d5e-e0d4-a841aecbca0f"
      },
      "execution_count": 4,
      "outputs": [
        {
          "name": "stdout",
          "output_type": "stream",
          "text": [
            "1 * 1\n"
          ]
        }
      ]
    }
  ]
}