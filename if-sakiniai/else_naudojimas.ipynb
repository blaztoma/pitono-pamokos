{
  "nbformat": 4,
  "nbformat_minor": 0,
  "metadata": {
    "colab": {
      "provenance": []
    },
    "kernelspec": {
      "name": "python3",
      "display_name": "Python 3"
    },
    "language_info": {
      "name": "python"
    }
  },
  "cells": [
    {
      "cell_type": "markdown",
      "source": [
        "#else naudojimas"
      ],
      "metadata": {
        "id": "N0oZc4WzGE2n"
      }
    },
    {
      "cell_type": "markdown",
      "source": [
        "##Apie else naudojimą\n",
        "`else` į lietuvių kalbą galima išversti kaip `kitu atveju` arba `kitais atvejais`. \n",
        "\n",
        "`else` blokas bus vykdomas visada kai jokia kita, prieš jį ėjusi sąlyga nebus teisinga.\n",
        "\n",
        "`else` dalyje nebereikia rašyti jokios sąlygos. Jei norite pridėti ir sąlygą, tuomet naudokite `elif` konstrukciją.\n",
        "\n",
        "`else` dalis rašoma tik vieną kartą, visos `if` konstrukcijos pabaigoje.\n",
        "\n",
        "`else`, kaip ir `elif` blokai yra nebūtini.\n",
        "\n",
        "`else` bloką dažnai naudojame, kai:\n",
        "* norime užsitikrinti, kad sąlyga nepaliks neapdorotų variantų;\n",
        "* išvesti klaidos pranešimą;\n",
        "* norime leisti kartoti veiksmą;\n",
        "* norime aptikti klaidą.11"
      ],
      "metadata": {
        "id": "rLLvEl7aGJOp"
      }
    },
    {
      "cell_type": "markdown",
      "source": [
        "`else` sintaksė:"
      ],
      "metadata": {
        "id": "TFYCuWHvNGxJ"
      }
    },
    {
      "cell_type": "code",
      "source": [
        "if sąlyga:\n",
        "\t# šio bloko kodas vykdomas jeigu tenkinama sąlyga\n",
        "else:\n",
        "\t# šio bloko kodas vykdomas jeigu netenkinama sąlyga"
      ],
      "metadata": {
        "id": "BWZKRRN_NLHQ"
      },
      "execution_count": null,
      "outputs": []
    },
    {
      "cell_type": "markdown",
      "source": [
        "else sintaksė, kai naudojama `elif` konstrukcija:"
      ],
      "metadata": {
        "id": "kIkyqgXWN600"
      }
    },
    {
      "cell_type": "code",
      "source": [
        "if sąlyga_1:\n",
        "\t# šio bloko kodas vykdomas jeigu tenkinama sąlyga_1\n",
        "elif sąlyga_2>:\n",
        "  # šio bloko kodas vykdomas jeigu tenkinama sąlyga_2\n",
        "# ...\n",
        "elif sąlyga_n\n",
        "  # šio bloko kodas vykdomas jeigu tenkinama sąlyga_n\n",
        "else:\n",
        "\t# šio bloko kodas vykdomas jeigu netenkinamos visos aukščiau esančios sąlygos"
      ],
      "metadata": {
        "id": "MX9bwdi4OBEs"
      },
      "execution_count": null,
      "outputs": []
    },
    {
      "cell_type": "markdown",
      "source": [
        "##Pavyzdžiai"
      ],
      "metadata": {
        "id": "s5CHhKlDNAAh"
      }
    },
    {
      "cell_type": "markdown",
      "source": [
        "###Skaičiaus palyginimas"
      ],
      "metadata": {
        "id": "IGDnK_UzOvL8"
      }
    },
    {
      "cell_type": "code",
      "execution_count": null,
      "metadata": {
        "id": "QjbwUwZIE1fm"
      },
      "outputs": [],
      "source": [
        "metai = int(input('Įveskite metus:'))\n",
        "\n",
        "if metai >= 18:\n",
        "  print(\"Asmuo pilnametis\")\n",
        "else:\n",
        "  print(\"Asmuo nepilnametis\")"
      ]
    },
    {
      "cell_type": "markdown",
      "source": [
        "###Eilutės palyginimas"
      ],
      "metadata": {
        "id": "Qe34ngY7PQoJ"
      }
    },
    {
      "cell_type": "code",
      "source": [
        "failas = 'failai/paskaitos/uzrasai.txt'\n",
        "\n",
        "if failas.endswith('.txt'):\n",
        "    print('Tekstinis failas.')\n",
        "    print('Pradedamas darbas su failu.')\n",
        "else:\n",
        "    print('Ne tekstinis failas')\n",
        "    print('Prašome pasirinkti tinkamą failą.')"
      ],
      "metadata": {
        "colab": {
          "base_uri": "https://localhost:8080/"
        },
        "id": "nSD3rwmiPWZx",
        "outputId": "73f32098-4bca-4258-bf8a-e6dbb4ffaaf5"
      },
      "execution_count": 2,
      "outputs": [
        {
          "output_type": "stream",
          "name": "stdout",
          "text": [
            "Tekstinis failas.\n",
            "pradedamas darbas su failu.\n"
          ]
        }
      ]
    },
    {
      "cell_type": "markdown",
      "source": [
        "###Skaičiaus spėjimas"
      ],
      "metadata": {
        "id": "hzTU83VFP7uZ"
      }
    },
    {
      "cell_type": "code",
      "source": [
        "from random import randint\n",
        "\n",
        "atsitiktinis = randint(1, 10)\n",
        "\n",
        "spejimas = int( input('Spekite skaiciu nuo 1 iki 10: ') )\n",
        "\n",
        "if atsitiktinis == spejimas:\n",
        "    print('Atspejote!')\n",
        "else:\n",
        "    print('Deja, nepavyko :(')"
      ],
      "metadata": {
        "colab": {
          "base_uri": "https://localhost:8080/"
        },
        "id": "BRFf-1qEQAer",
        "outputId": "89da10e0-1f46-48bc-9375-f272ec84f693"
      },
      "execution_count": 3,
      "outputs": [
        {
          "output_type": "stream",
          "name": "stdout",
          "text": [
            "Spekite skaiciu nuo 1 iki 10: 5\n",
            "Deja, nepavyko :(\n"
          ]
        }
      ]
    },
    {
      "cell_type": "markdown",
      "source": [
        "###Klaidingo varianto aptikimas"
      ],
      "metadata": {
        "id": "4wS4bVHFQRO8"
      }
    },
    {
      "cell_type": "code",
      "source": [
        "vardas = input('Įveskite savo vardą:')\n",
        "\n",
        "if vardas:\n",
        "    print('Labas, ' + vardas + '!')\n",
        "else:\n",
        "    print('Nieko neįvedėte!')"
      ],
      "metadata": {
        "id": "81ce7BP0QUSO"
      },
      "execution_count": null,
      "outputs": []
    },
    {
      "cell_type": "markdown",
      "source": [
        "##Uždaviniai"
      ],
      "metadata": {
        "id": "GBpRzSWRQl9B"
      }
    },
    {
      "cell_type": "markdown",
      "source": [
        "Toliau pateikiami uždaviniai, kuriuos jau sprendėte. Savo sprendimus pakeiskite taip, kad būtų naudojama `else` konstrukcija. Pasvarstykite apie `else` naudojimo privalumus ir trūkumus."
      ],
      "metadata": {
        "id": "zQD8NfzrQpRr"
      }
    },
    {
      "cell_type": "markdown",
      "source": [
        "###Užduotis 1"
      ],
      "metadata": {
        "id": "C3DnQkHNRbvg"
      }
    },
    {
      "cell_type": "markdown",
      "source": [
        "Studentas turi įvesti egzamino rezultatą (0-10). Panaudokite elif ir išveskite atitinkamą tekstą:\n",
        "\n",
        "Jei pažymys yra lygus 10, išvesti \"puiku\". Jei pažymys yra lygus arba didesnis nei 9, išvesti \"labai gerai\". Jei pažymys yra lygus arba didesnis nei 7, išvesti \"gerai\". Jei pažymys yra lygus arba didesnis nei 5, išvesti \"patenkinamai\". Jei pažymys mažesnis nei 5 išvesti \"egzaminas neišlaikytas\"."
      ],
      "metadata": {
        "id": "cnhnGRNdRhZP"
      }
    },
    {
      "cell_type": "code",
      "source": [
        "# Čia rašykite kodą"
      ],
      "metadata": {
        "id": "nUKFdUfCRcjR"
      },
      "execution_count": null,
      "outputs": []
    },
    {
      "cell_type": "markdown",
      "source": [
        "###Užduotis 2"
      ],
      "metadata": {
        "id": "B6VopmU3RpSj"
      }
    },
    {
      "cell_type": "markdown",
      "source": [
        "Parašykite programą, kuri leistų įvesti tris studento pažymius (pvz.: 1,2,3). Programa turi surasti ir atspausdinti didžiausią studento pažymį. Toks uždavinys jau duotas anksčiau. Šį kartą spręskite jį panaudodami `elif` (jei reikia) ir `else`."
      ],
      "metadata": {
        "id": "Q6VFj50lR5po"
      }
    },
    {
      "cell_type": "markdown",
      "source": [],
      "metadata": {
        "id": "dvEjxjQhR0bM"
      }
    },
    {
      "cell_type": "code",
      "source": [
        "# Čia rašykite kodą"
      ],
      "metadata": {
        "id": "dML5sthqRzq5"
      },
      "execution_count": null,
      "outputs": []
    },
    {
      "cell_type": "markdown",
      "source": [
        "###Užduotis 3"
      ],
      "metadata": {
        "id": "2Vc6LFJLRyfI"
      }
    },
    {
      "cell_type": "markdown",
      "source": [
        "Konsolėje įvedamas perkamas produktas, kuris gali būti vaisius, daržovė, žuvis arba mėsa. Galimi variantai: šašlykas, skumbrė, obuolys, bulvė ir t.t. Programa turi nustatyti ir išvesti produkto tipą. Jei produktas nenustatytas, programa turi apie tai pranešti."
      ],
      "metadata": {
        "id": "zprCPqEESHEw"
      }
    },
    {
      "cell_type": "code",
      "source": [
        "# Čia rašykite kodą"
      ],
      "metadata": {
        "id": "GRvSq_K9SPuh"
      },
      "execution_count": null,
      "outputs": []
    },
    {
      "cell_type": "markdown",
      "source": [
        "###Užduotis 4"
      ],
      "metadata": {
        "id": "i_I4zU9NSR0A"
      }
    },
    {
      "cell_type": "markdown",
      "source": [
        "Naudotojas turi įvesti savo prisijungimo slaptažodį. Jei slaptažodis yra `slaptas_1`, tuomet naudotojo rolė yra `autorius`. Jei slaptažodis yra `slaptas_2`, tuomet naudotojo rolė yra `moderatorius`.\n",
        "\n",
        "Parašykite programą, kuri nustatytų ir atspausdintų `Jūs galite redaguoti`, jei rolė yra `autorius`. Jeigu rolė yra `moderatorius`, programa turi atspausdinti `Kreipkitės į autorių`. Jeigu slaptažodis nerastas, programa turi atspausdinti `Prisijungti nepavyko`. \n",
        "\n",
        "Naudokite `elif` ir `else` konstrukcijas pagal poreikį."
      ],
      "metadata": {
        "id": "A62H520xSVta"
      }
    },
    {
      "cell_type": "code",
      "source": [
        "# Čia rašykite kodą"
      ],
      "metadata": {
        "id": "NqY-18cjSTIi"
      },
      "execution_count": null,
      "outputs": []
    }
  ]
}