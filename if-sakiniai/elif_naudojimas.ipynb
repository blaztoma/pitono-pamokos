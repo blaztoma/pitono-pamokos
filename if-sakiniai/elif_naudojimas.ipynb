{
  "nbformat": 4,
  "nbformat_minor": 0,
  "metadata": {
    "colab": {
      "provenance": []
    },
    "kernelspec": {
      "name": "python3",
      "display_name": "Python 3"
    },
    "language_info": {
      "name": "python"
    }
  },
  "cells": [
    {
      "cell_type": "markdown",
      "source": [
        "#elif / else if naudojimas"
      ],
      "metadata": {
        "id": "1Uat8VFQ6YCk"
      }
    },
    {
      "cell_type": "markdown",
      "source": [
        "##elif / else if ypatybės\n",
        "Naudojant tik if dalį tikriausiai pastebėjote, kad tikrinate tik vieną sąlygą. `elif` / `else if` leidžia tikrinti kelias sąlygas (vieną po kitos). Pavyzdžiui:\n",
        "* Ar skaičius teigiamas? Jei ne - tolesnis tikrinimas: o gal skaičius neigiamas?\n",
        "* Ar vartotojui yra 18 metų? Jei ne - tolesnis tikrinimas: o gal vartotojui yra 16 metų? Jei ne - sekantis tikrinimas - o gal vartotojui mažiau nei 16?\n",
        "\n",
        "Galima naudoti tiek `elif` blokų kiek tik reikia.\n",
        "Kiekviena `elif` dalis atsakinga už naujos sąlygos apdorojimą.\n",
        "Jei įvertinant skirtingas sąlygas yra randama teisinga, tuomet bloke esantis kodas yra įvykdomas ir tolesnės sąlygos nebetikrinamos. T.y. yra vykdoma tik pirma rasta teisinga sąlyga."
      ],
      "metadata": {
        "id": "cJ74_0Pk6eRE"
      }
    },
    {
      "cell_type": "markdown",
      "source": [
        "##elif /else if sintaksė"
      ],
      "metadata": {
        "id": "cRFDKqXs7hNg"
      }
    },
    {
      "cell_type": "code",
      "execution_count": null,
      "metadata": {
        "id": "_oU96UO46Rwm"
      },
      "outputs": [],
      "source": [
        "if salyga_1:\n",
        "\t# šio bloko kodas vykdomas jeigu salyga_1 reikšmė yra True\n",
        "elif salyga_2:\n",
        "\t# šio bloko kodas vykdomas jeigu salyga_2 reikšmė yra True\n",
        "elif salyga_3:\n",
        "\t# šio bloko kodas vykdomas jeigu salyga_3 reikšmė yra True"
      ]
    },
    {
      "cell_type": "markdown",
      "source": [
        "##Pavyzdžiai"
      ],
      "metadata": {
        "id": "SfzbxPMs8hDz"
      }
    },
    {
      "cell_type": "markdown",
      "source": [
        "###Dviejų skaičių palyginimas"
      ],
      "metadata": {
        "id": "ystcP1q_8k2t"
      }
    },
    {
      "cell_type": "code",
      "source": [
        "skaicius_1 = int(input(\"Įveskite 1 skaičių: \"))\n",
        "skaicius_2 = int(input(\"Įveskite 2 skaičių: \"))\n",
        "\n",
        "if skaicius_1 > skaicius_2:\n",
        "  print(\"Skaičius 1 yra didesnis už skaičių 2.\")\n",
        "elif skaicius_1 < skaicius_2:\n",
        "  print(\"Skaičius 1 yra mažesnis už skaičių 2.\")\n",
        "elif skaicius_1 == skaicius_2:\n",
        "  print(\"Skaičius 1 lygus skaičiui 2.\")"
      ],
      "metadata": {
        "colab": {
          "base_uri": "https://localhost:8080/"
        },
        "id": "zsxTrAc-8sDU",
        "outputId": "ab7d99c9-b870-47a6-f2e7-b374a6b1b5c4"
      },
      "execution_count": 2,
      "outputs": [
        {
          "output_type": "stream",
          "name": "stdout",
          "text": [
            "Įveskite 1 skaičių: 2\n",
            "Įveskite 2 skaičių: 2\n",
            "Skaičius 1 lygus skaičiui 2.\n"
          ]
        }
      ]
    },
    {
      "cell_type": "markdown",
      "source": [
        "###Meniu pasirinkimas"
      ],
      "metadata": {
        "id": "S3v4TtN29mAO"
      }
    },
    {
      "cell_type": "code",
      "source": [
        "print(\"1. Žaisti\")\n",
        "print(\"2. Lyderiai\")\n",
        "print(\"3. Nustatymai\")\n",
        "print(\"4. Išeiti\")\n",
        "\n",
        "pasirinkimas = int( input('Iveskite meniu (1-4): ') )\n",
        "\n",
        "if pasirinkimas == 1:\n",
        "    print('Pasiruoškite stipriai žaisti!')\n",
        "elif pasirinkimas == 2:\n",
        "    print('Toliau pateiksime lyderių lentelę...')\n",
        "elif pasirinkimas == 3:\n",
        "    print('Nustatykite grafikos ir garso nustatymus...')\n",
        "elif pasirinkimas == 4:\n",
        "    print('Programa išjungiama...')"
      ],
      "metadata": {
        "colab": {
          "base_uri": "https://localhost:8080/"
        },
        "id": "rm5NlBe-9o0Y",
        "outputId": "b3f3f92b-ecb6-4931-d415-b2cff04f3918"
      },
      "execution_count": 3,
      "outputs": [
        {
          "output_type": "stream",
          "name": "stdout",
          "text": [
            "1. Žaisti\n",
            "2. Lyderiai\n",
            "3. Nustatymai\n",
            "4. Išeiti\n",
            "Iveskite meniu (1-4): 1\n",
            "Pasiruoškite stipriai žaisti!\n"
          ]
        }
      ]
    },
    {
      "cell_type": "markdown",
      "source": [
        "###Intervalo suradimas"
      ],
      "metadata": {
        "id": "9NAIVlxH-k_V"
      }
    },
    {
      "cell_type": "code",
      "source": [
        "taskai = 40\n",
        "\n",
        "if taskai >= 50:\n",
        "    print('Jūs esate genijus!')\n",
        "elif taskai >= 30:\n",
        "    print('Jūs esate puikus žaidėjas')\n",
        "elif taskai >= 10:\n",
        "    print('Jūs esate geras žaidėjas')\n",
        "elif taskai < 5:\n",
        "    print('Jūs esate pradedantysis žaidėjas')"
      ],
      "metadata": {
        "id": "a8fi9IRW-qLD"
      },
      "execution_count": null,
      "outputs": []
    },
    {
      "cell_type": "markdown",
      "source": [
        "###Eilučių palyginimas"
      ],
      "metadata": {
        "id": "j_3Q9vYr_JmA"
      }
    },
    {
      "cell_type": "code",
      "source": [
        "role = 'moderatorius'\n",
        "\n",
        "if role == 'adminas':\n",
        "    print('Jums suteiktos visos sistemos galimybės.')\n",
        "elif role == 'moderatorius':\n",
        "    print('Jūsų teisės apribotos komentarų moderavimu.')\n",
        "elif role == 'naudotojoas':\n",
        "    print('Jūs negalite tvarkyti inklalapio.')"
      ],
      "metadata": {
        "colab": {
          "base_uri": "https://localhost:8080/"
        },
        "id": "OLERv_zD_Nyt",
        "outputId": "b27d443f-2daf-49e7-c5b6-6321d41f015d"
      },
      "execution_count": 4,
      "outputs": [
        {
          "output_type": "stream",
          "name": "stdout",
          "text": [
            "Jūsų teisės apribotos komentarų moderavimu.\n"
          ]
        }
      ]
    },
    {
      "cell_type": "markdown",
      "source": [
        "##Užduotys"
      ],
      "metadata": {
        "id": "8gkVnc2_ABOO"
      }
    },
    {
      "cell_type": "markdown",
      "source": [
        "###Užduotis 1\n",
        "Studentas turi įvesti egzamino rezultatą (`0-10`).\n",
        "Panaudokite `elif` ir išveskite atitinkamą tekstą:\n",
        "\n",
        "Jei pažymys yra lygus 10, išvesti \"puiku\".\n",
        "Jei pažymys yra lygus arba didesnis nei 9, išvesti \"labai gerai\".\n",
        "Jei pažymys yra lygus arba didesnis nei 7, išvesti \"gerai\".\n",
        "Jei pažymys yra lygus arba didesnis nei 5, išvesti \"patenkinamai\".\n",
        "Jei pažymys mažesnis nei 5 išvesti \"egzaminas neišlaikytas\"."
      ],
      "metadata": {
        "id": "oWi_GJEcAD80"
      }
    },
    {
      "cell_type": "code",
      "source": [
        "# Čia rašykite kodą"
      ],
      "metadata": {
        "id": "5DwRWhd0AbM3"
      },
      "execution_count": null,
      "outputs": []
    },
    {
      "cell_type": "markdown",
      "source": [
        "###Užduotis 2\n",
        "Parašykite programą, kuri leistų įvesti tris studento pažymius (pvz.: 1,2,3).\n",
        "Programa turi surasti ir atspausdinti didžiausią studento pažymį. Toks uždavinys jau duotas anksčiau. Šį kartą spręskite jį panaudodami `elif`."
      ],
      "metadata": {
        "id": "0kPhZRe-Agfs"
      }
    },
    {
      "cell_type": "code",
      "source": [
        "# Čia rašykite kodą"
      ],
      "metadata": {
        "id": "62iSUU4lBc__"
      },
      "execution_count": null,
      "outputs": []
    },
    {
      "cell_type": "markdown",
      "source": [
        "###Užduotis 3\n",
        "Konsolėje įvedamas perkamas produktas, kuris gali būti **vaisius**, **daržovė**, **žuvis** arba **mėsa**. Galimi variantai: `šašlykas`, `skumbrė`, `obuolys`, `bulvė` ir t.t. Programa turi nustatyti ir išvesti produkto tipą."
      ],
      "metadata": {
        "id": "-r5KUeH5BqhK"
      }
    },
    {
      "cell_type": "code",
      "source": [
        "# Čia rašykite kodą"
      ],
      "metadata": {
        "id": "X499fnxfCdaY"
      },
      "execution_count": null,
      "outputs": []
    },
    {
      "cell_type": "markdown",
      "source": [
        "### Užduotis 4\n",
        "Naudotojas turi įvesti savo prisijungimo slaptažodį. Jei slaptažodis yra `slaptas_1`, tuomet naudotojo rolė yra `autorius`. Jei slaptažodis yra `slaptas_2`, tuomet naudotojo rolė yra `moderatorius`. \n",
        "\n",
        "Parašykite programą, kuri nustatytų ir atspausdintų `Jūs galite redaguoti`, jei rolė yra `autorius`. Jeigu rolė yra `moderatorius`, programa turi atspausdinti `Kreipkitės į autorių`. Jeigu slaptažodis nerastas, programa turi atspausdinti `Prisijungti nepavyko`."
      ],
      "metadata": {
        "id": "Un64cV_KCkOV"
      }
    },
    {
      "cell_type": "code",
      "source": [
        "# Čia rašykite kodą"
      ],
      "metadata": {
        "id": "WCPERzfFEk3K"
      },
      "execution_count": null,
      "outputs": []
    }
  ]
}